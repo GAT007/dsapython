{
 "cells": [
  {
   "cell_type": "code",
   "id": "initial_id",
   "metadata": {
    "collapsed": true,
    "ExecuteTime": {
     "end_time": "2025-03-24T22:39:02.118738Z",
     "start_time": "2025-03-24T22:39:02.098728Z"
    }
   },
   "source": [
    "\"\"\"\n",
    "Permutations : The number of ways to arrange things : Order matters\n",
    "Combinations : The number of ways to choose things : Order doesn't matter\n",
    "\"\"\"\n",
    "\"\"\"\n",
    "Letter Case Permutations\n",
    "Given a string, return list of all case transformations\n",
    "Time complexity O(2^n)\n",
    "\"\"\"\n",
    "\n",
    "\n",
    "def letter_case_permutation(s):\n",
    "    output = [\"\"]\n",
    "    for c in s:\n",
    "        tmp = []\n",
    "        if c.isalpha():\n",
    "            for o in output:\n",
    "                tmp.append(o + c.lower())\n",
    "                tmp.append(o + c.upper())\n",
    "        else:\n",
    "            for o in output:\n",
    "                tmp.append(o + c)\n",
    "        output = tmp\n",
    "\n",
    "    return output\n",
    "\n",
    "\n",
    "print(letter_case_permutation('a1b1'))"
   ],
   "outputs": [
    {
     "name": "stdout",
     "output_type": "stream",
     "text": [
      "['a1b1', 'a1B1', 'A1b1', 'A1B1']\n"
     ]
    }
   ],
   "execution_count": 1
  },
  {
   "metadata": {
    "ExecuteTime": {
     "end_time": "2025-03-25T01:53:11.421448Z",
     "start_time": "2025-03-25T01:53:11.408542Z"
    }
   },
   "cell_type": "code",
   "source": [
    "\"\"\"\n",
    "Common format for backtracking questions\n",
    "def main_function:\n",
    "    def sub_function that is recursive:\n",
    "        logic for sub_function\n",
    "\n",
    "    logic_for main function\n",
    "\n",
    "    return main_function\n",
    "\"\"\"\n",
    "\"\"\"\n",
    "Subsets\n",
    "Given an integer array nums of unique elements return all possible subsets the power set\n",
    "O(N 2^N)\n",
    "\"\"\"\n",
    "\n",
    "\n",
    "def subsets(nums):\n",
    "    def backtrack(start, path):\n",
    "        result.append(path[:])\n",
    "\n",
    "        for i in range(start, len(nums)):\n",
    "            path.append(nums[i])\n",
    "            backtrack(i + 1, path)\n",
    "            path.pop()\n",
    "\n",
    "    result = []\n",
    "    backtrack(0, [])\n",
    "    return result\n",
    "\n",
    "\n",
    "print(subsets([1, 2, 3]))"
   ],
   "id": "507026e23e505619",
   "outputs": [
    {
     "name": "stdout",
     "output_type": "stream",
     "text": [
      "[[], [1], [1, 2], [1, 2, 3], [1, 3], [2], [2, 3], [3]]\n"
     ]
    }
   ],
   "execution_count": 4
  },
  {
   "metadata": {
    "ExecuteTime": {
     "end_time": "2025-03-25T02:32:06.643227Z",
     "start_time": "2025-03-25T02:32:06.635766Z"
    }
   },
   "cell_type": "code",
   "source": [
    "\"\"\"\n",
    "Combinations\n",
    "O(K * N!/(N-K)!K!)\n",
    "\"\"\"\n",
    "\n",
    "\n",
    "def combinations(n, k):\n",
    "    def backtrack(start, path):\n",
    "        if len(path) == k:\n",
    "            result.append(path[:])\n",
    "            return\n",
    "        for i in range(start, n + 1):\n",
    "            path.append(i)\n",
    "            backtrack(i + 1, path)\n",
    "            path.pop()\n",
    "\n",
    "    result = []\n",
    "    backtrack(1, [])\n",
    "    return result\n",
    "\n",
    "\n",
    "print(combinations(4, 2))"
   ],
   "id": "39066eb9001e6f00",
   "outputs": [
    {
     "name": "stdout",
     "output_type": "stream",
     "text": [
      "[[1, 2], [1, 3], [1, 4], [2, 3], [2, 4], [3, 4]]\n"
     ]
    }
   ],
   "execution_count": 5
  },
  {
   "metadata": {},
   "cell_type": "code",
   "outputs": [],
   "execution_count": null,
   "source": "",
   "id": "7f61f6504b72bd77"
  }
 ],
 "metadata": {
  "kernelspec": {
   "display_name": "Python 3",
   "language": "python",
   "name": "python3"
  },
  "language_info": {
   "codemirror_mode": {
    "name": "ipython",
    "version": 2
   },
   "file_extension": ".py",
   "mimetype": "text/x-python",
   "name": "python",
   "nbconvert_exporter": "python",
   "pygments_lexer": "ipython2",
   "version": "2.7.6"
  }
 },
 "nbformat": 4,
 "nbformat_minor": 5
}
