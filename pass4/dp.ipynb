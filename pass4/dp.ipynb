{
 "cells": [
  {
   "cell_type": "code",
   "id": "initial_id",
   "metadata": {
    "collapsed": true,
    "ExecuteTime": {
     "end_time": "2025-03-24T13:01:45.948221Z",
     "start_time": "2025-03-24T13:01:45.940969Z"
    }
   },
   "source": [
    "\"\"\"\n",
    "Coin change\n",
    "\"\"\"\n",
    "def coin_change(coins, target):\n",
    "    #Understanding this, you create a list with element equal to target + 1 and then multiply it target+1 times\n",
    "    dp = [target+1] * (target+1)\n",
    "    dp[0] = 0\n",
    "\n",
    "    for i in range(1, target+1):\n",
    "        for c in coins:\n",
    "            if i - c >= 0:\n",
    "                dp[i] = min(dp[i], 1+dp[i-c])\n",
    "\n",
    "    return dp[target] if (dp[target] != target+1 ) else -1\n",
    "\n",
    "\n",
    "print(coin_change([1,2,5], 7))"
   ],
   "outputs": [
    {
     "name": "stdout",
     "output_type": "stream",
     "text": [
      "2\n"
     ]
    }
   ],
   "execution_count": 1
  },
  {
   "metadata": {
    "ExecuteTime": {
     "end_time": "2025-03-24T13:04:04.196646Z",
     "start_time": "2025-03-24T13:04:04.189031Z"
    }
   },
   "cell_type": "code",
   "source": [
    "\"\"\"\n",
    "Climbing stairs\n",
    "\"\"\"\n",
    "def climbing_stairs(target):\n",
    "    dp = [target+1] * (target+1)\n",
    "    dp[0] = 0\n",
    "    dp[1] = 1\n",
    "    dp[2] = 2\n",
    "    for i in range(3, target+1):\n",
    "        dp[i] = dp[i-1] + dp[i-2]\n",
    "\n",
    "    return dp[target]"
   ],
   "id": "f23c7f69ba27176c",
   "outputs": [],
   "execution_count": 2
  },
  {
   "metadata": {},
   "cell_type": "code",
   "outputs": [],
   "execution_count": null,
   "source": [
    "\"\"\"\n",
    "Max subarray\n",
    "Given an integer array nums, find the subarray with the largest sum and return its sum\n",
    "\"\"\""
   ],
   "id": "c5de0b877e2bac12"
  }
 ],
 "metadata": {
  "kernelspec": {
   "display_name": "Python 3",
   "language": "python",
   "name": "python3"
  },
  "language_info": {
   "codemirror_mode": {
    "name": "ipython",
    "version": 2
   },
   "file_extension": ".py",
   "mimetype": "text/x-python",
   "name": "python",
   "nbconvert_exporter": "python",
   "pygments_lexer": "ipython2",
   "version": "2.7.6"
  }
 },
 "nbformat": 4,
 "nbformat_minor": 5
}
