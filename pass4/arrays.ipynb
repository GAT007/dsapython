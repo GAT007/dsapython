{
 "cells": [
  {
   "metadata": {
    "ExecuteTime": {
     "end_time": "2025-03-19T03:48:14.151668Z",
     "start_time": "2025-03-19T03:48:14.126692Z"
    }
   },
   "cell_type": "code",
   "source": [
    "\"\"\"\n",
    "Quick review\n",
    "Data structures in python :\n",
    "Lists : list1 = [], list1.append(), list1.pop(), list1.remove()\n",
    "Tuple : () : once created cannot be modified\n",
    "Set : sets=set() : set.add(item), set.remove(item)\n",
    "Deque :\n",
    "import deque from collections\n",
    "dq = deque(), dq.append(item), dq.appendleft(item), dq.pop(), dq.popleft()\n",
    "Dictionary : {} : dict[key] = value, update({key: value}), dict.popitem()\n",
    "\"\"\""
   ],
   "id": "2d97364de03127ee",
   "outputs": [
    {
     "data": {
      "text/plain": [
       "'\\nQuick review\\nData structures in python :\\nLists : list1 = [], list1.append(), list1.pop(), list1.remove()\\nTuple : () : once created cannot be modified\\nSet : sets=set() : set.add(item), set.remove(item)\\nDeque :\\nimport deque from collections\\ndq = deque(), dq.append(item), dq.appendleft(item), dq.pop(), dq.popleft()\\nDictionary : {} : dict[key] = value, update({key: value}), dict.popitem()\\n'"
      ]
     },
     "execution_count": 1,
     "metadata": {},
     "output_type": "execute_result"
    }
   ],
   "execution_count": 1
  },
  {
   "metadata": {
    "ExecuteTime": {
     "end_time": "2025-03-19T14:24:10.379884Z",
     "start_time": "2025-03-19T14:24:10.371354Z"
    }
   },
   "cell_type": "code",
   "source": [
    "\"\"\"\n",
    "Contains Duplicate\n",
    "Given an integer array nums, return true if any value appears at least twice in the array, and return false if every element is distinct\n",
    "\"\"\"\n",
    "def contains_duplicate(nums):\n",
    "    set_nums = set(nums)\n",
    "    if len(set_nums) == len(nums):\n",
    "        return False\n",
    "    return True"
   ],
   "id": "87f2e83481781cb4",
   "outputs": [],
   "execution_count": 1
  },
  {
   "metadata": {
    "ExecuteTime": {
     "end_time": "2025-03-19T16:42:16.061793Z",
     "start_time": "2025-03-19T16:42:16.050613Z"
    }
   },
   "cell_type": "code",
   "source": [
    "\"\"\"\n",
    "Missing Number\n",
    "Given an array nums containing n distinct numbers in the range [0,n] return the only number in the range that is missing from the array\n",
    "\"\"\"\n",
    "\n",
    "def missing_number(nums):\n",
    "    return sum(range(len(nums)+1)) - sum(nums)"
   ],
   "id": "d72060e8b5419c5a",
   "outputs": [],
   "execution_count": 2
  },
  {
   "metadata": {
    "ExecuteTime": {
     "end_time": "2025-03-19T16:55:53.674730Z",
     "start_time": "2025-03-19T16:55:53.662359Z"
    }
   },
   "cell_type": "code",
   "source": [
    "\"\"\"\n",
    "Find all numbers disappeared in an array\n",
    "Given an arry nums of n integers where nums[i] is in the range [1,n], return an array of all the integers in the range [1,n] that do not appear in nums\n",
    "\"\"\"\n",
    "def disappeared_numbers(nums):\n",
    "    set_nums = set(nums)\n",
    "    ret = []\n",
    "    for i in range(1, len(nums)+1):\n",
    "        if i not in set_nums:\n",
    "            ret.append(i)\n",
    "\n",
    "    return ret\n",
    "\n",
    "print(disappeared_numbers([4,3,2,7,8,2,3,1]))"
   ],
   "id": "a94a672a2601a7b3",
   "outputs": [
    {
     "name": "stdout",
     "output_type": "stream",
     "text": [
      "[5, 6]\n"
     ]
    }
   ],
   "execution_count": 3
  },
  {
   "metadata": {
    "ExecuteTime": {
     "end_time": "2025-03-19T17:05:42.706912Z",
     "start_time": "2025-03-19T17:05:42.691660Z"
    }
   },
   "cell_type": "code",
   "source": [
    "\"\"\"\n",
    "Two Sum\n",
    "\"\"\"\n",
    "\n",
    "def two_sum(nums, target):\n",
    "    num_dict = {}\n",
    "    for idx, num  in enumerate(nums):\n",
    "        if target-num in num_dict.keys():\n",
    "            return idx, num_dict[target-num]\n",
    "        else:\n",
    "            num_dict[num] = idx\n",
    "\n",
    "    return -1\n",
    "\n",
    "print(two_sum([2,11,7,15], 9))"
   ],
   "id": "c9927c4f11777e82",
   "outputs": [
    {
     "name": "stdout",
     "output_type": "stream",
     "text": [
      "(2, 0)\n"
     ]
    }
   ],
   "execution_count": 6
  },
  {
   "metadata": {
    "ExecuteTime": {
     "end_time": "2025-03-19T17:20:03.982080Z",
     "start_time": "2025-03-19T17:20:03.971412Z"
    }
   },
   "cell_type": "code",
   "source": [
    "\"\"\"\n",
    "How many numbers are smaller than the current number\n",
    "\"\"\"\n",
    "def smaller_than(nums):\n",
    "    temp = sorted(nums)\n",
    "    place_dict = {}\n",
    "    for idx, num in enumerate(temp):\n",
    "        if num != temp[idx-1]:\n",
    "            place_dict[num] = idx\n",
    "\n",
    "    ret = []\n",
    "    for num in nums:\n",
    "        ret.append(place_dict[num])\n",
    "\n",
    "    return ret\n",
    "\n",
    "print(smaller_than([8,1,2,2,3]))"
   ],
   "id": "b7a20b1ee13c9fe2",
   "outputs": [
    {
     "name": "stdout",
     "output_type": "stream",
     "text": [
      "[4, 0, 1, 1, 3]\n"
     ]
    }
   ],
   "execution_count": 9
  },
  {
   "metadata": {
    "ExecuteTime": {
     "end_time": "2025-03-19T17:23:43.451954Z",
     "start_time": "2025-03-19T17:23:43.443946Z"
    }
   },
   "cell_type": "code",
   "source": [
    "\"\"\"\n",
    "Minimum time visiting all points\n",
    "On a 2D plane, there are n points with integer coordinates points[i] = [x,y]. Return the minimum time in seconds to visit all the points in the order\n",
    "given by points\n",
    "\"\"\"\n",
    "\n",
    "def min_time(points):\n",
    "    pass"
   ],
   "id": "1d90b963df01c95d",
   "outputs": [],
   "execution_count": 10
  },
  {
   "metadata": {
    "ExecuteTime": {
     "end_time": "2025-03-19T17:30:44.726346Z",
     "start_time": "2025-03-19T17:30:44.717325Z"
    }
   },
   "cell_type": "code",
   "source": [
    "\"\"\"\n",
    "Spiral matrix\n",
    "\"\"\"\n",
    "def spiral_matrix(matrix):\n",
    "    ret = []\n",
    "    while matrix:\n",
    "        ret.extend(matrix.pop(0))\n",
    "        if matrix:\n",
    "            for row in matrix: ret.append(row.pop())\n",
    "        if matrix:\n",
    "            ret.extend(matrix.pop()[::-1])\n",
    "        if matrix:\n",
    "            temp = []\n",
    "            for row in matrix: temp.append(row.pop(0))\n",
    "            ret.extend(temp[::-1])\n",
    "\n",
    "    return ret"
   ],
   "id": "26df76bbb2aaba52",
   "outputs": [],
   "execution_count": 11
  },
  {
   "metadata": {},
   "cell_type": "code",
   "outputs": [],
   "execution_count": null,
   "source": [
    "\"\"\"\n",
    "Number of islands\n",
    "O(m*n)\n",
    "\"\"\"\n",
    "from collections import deque\n",
    "\n",
    "def num_of_islands(grid):\n",
    "    if not grid:\n",
    "        return 0\n",
    "\n",
    "    def bfs(r, c):\n",
    "        q = deque()\n",
    "        visit.add((r,c))\n",
    "        q.append((r, c))\n",
    "\n",
    "        while q:\n",
    "            row, col = q.popleft()\n",
    "            directions = [[1,0], [-1,0], [0,1], [0,-1]]\n",
    "\n",
    "            for dr, dc in directions:\n",
    "                r, c = row+dr, col+dc\n",
    "\n",
    "                if (r in range(rows) and c in range(col) and grid[r][c]=='1' and (r,c) not in visit):\n",
    "                    q.append((r,c))\n",
    "                    visit.add((r,c))\n",
    "\n",
    "\n",
    "    count = 0\n",
    "    rows = len(grid)\n",
    "    col = len(grid[0])\n",
    "    visit = set()\n",
    "\n",
    "    for r in range(rows):\n",
    "        for c in range(col):\n",
    "            if grid[r][c] == '1' and (r, c) not in visit:\n",
    "                bfs(r, c)\n",
    "                count+=1\n",
    "\n",
    "    return count"
   ],
   "id": "b73d4b2d89f47213"
  },
  {
   "metadata": {},
   "cell_type": "markdown",
   "source": "## Two Pointers",
   "id": "b0146ee9ddc431c9"
  },
  {
   "metadata": {
    "ExecuteTime": {
     "end_time": "2025-03-24T01:44:14.266006Z",
     "start_time": "2025-03-24T01:44:14.254976Z"
    }
   },
   "cell_type": "code",
   "source": [
    "\"\"\"\n",
    "Best time to buy and sell a stock\n",
    "\"\"\"\n",
    "\n",
    "def best_time(prices):\n",
    "    l, r = 0, 1\n",
    "    max_profit = 0\n",
    "\n",
    "    while r!=len(prices):\n",
    "        if prices[l] < prices[r]:\n",
    "            profit = prices[r]-prices[l]\n",
    "            max_profit = max(profit, max_profit)\n",
    "        else:\n",
    "            l = r\n",
    "\n",
    "        r+=1\n",
    "\n",
    "    return max_profit\n",
    "\n",
    "\n",
    "print(best_time([7,1,5,3,6,4]))"
   ],
   "id": "a6efa1e0601b1bef",
   "outputs": [
    {
     "name": "stdout",
     "output_type": "stream",
     "text": [
      "5\n"
     ]
    }
   ],
   "execution_count": 1
  },
  {
   "metadata": {
    "ExecuteTime": {
     "end_time": "2025-03-24T02:39:59.698372Z",
     "start_time": "2025-03-24T02:39:59.688511Z"
    }
   },
   "cell_type": "code",
   "source": [
    "\"\"\"\n",
    "Sort Squares\n",
    "\"\"\"\n",
    "from collections import deque\n",
    "def sort_squares(nums):\n",
    "    answer = deque()\n",
    "    l, r = 0, len(nums)-1\n",
    "    while l <= r:\n",
    "        left, right = abs(nums[l]), abs(nums[r])\n",
    "        if left>right:\n",
    "            answer.appendleft(left*left)\n",
    "            l+=1\n",
    "        else:\n",
    "            answer.appendright(right*right)\n",
    "            r-=1\n",
    "    return answer"
   ],
   "id": "4b9c55a97906580c",
   "outputs": [],
   "execution_count": 1
  },
  {
   "metadata": {
    "ExecuteTime": {
     "end_time": "2025-03-24T02:56:12.307298Z",
     "start_time": "2025-03-24T02:56:12.297106Z"
    }
   },
   "cell_type": "code",
   "source": [
    "\"\"\"\n",
    "3 sum\n",
    "Sum of 3 numbers must be equal to zero, no duplicates allowed\n",
    "\"\"\"\n",
    "\n",
    "def three_sum(nums):\n",
    "    nums.sort()\n",
    "    numset = set()\n",
    "\n",
    "    for i in range(len(nums)-2):\n",
    "        target = -nums[i]\n",
    "        l, r = i+1, len(nums) - 1\n",
    "        while l<r:\n",
    "            current_sum = nums[l] + nums[r]\n",
    "            if current_sum == target:\n",
    "                numset.add((nums[i], nums[l], nums[r]))\n",
    "                l+=1\n",
    "                r-=1\n",
    "            elif current_sum < target:\n",
    "                l+=1\n",
    "            else:\n",
    "                r-=1\n",
    "\n",
    "    return list(numset)\n",
    "print(three_sum([-1, 0, 1, 2, -1, -4]))"
   ],
   "id": "4925509550c6b1af",
   "outputs": [
    {
     "name": "stdout",
     "output_type": "stream",
     "text": [
      "[(-1, 0, 1), (-1, -1, 2)]\n"
     ]
    }
   ],
   "execution_count": 2
  },
  {
   "metadata": {
    "ExecuteTime": {
     "end_time": "2025-03-24T03:36:54.791540Z",
     "start_time": "2025-03-24T03:36:54.781600Z"
    }
   },
   "cell_type": "code",
   "source": [
    "\"\"\"\n",
    "Longest Mountain in Array\n",
    "\"\"\"\n",
    "def longest_mountain(nums):\n",
    "    ret = 0\n",
    "    for i in range(1, len(nums)-1):\n",
    "        if nums[i-1] < nums[i] > nums[i+1]:\n",
    "            l=r=i\n",
    "\n",
    "            while l > 0 and nums[l-1]<nums[l]:\n",
    "                l-=1\n",
    "\n",
    "            while r<len(nums) and nums[r]>nums[r+1]:\n",
    "                r+=1\n",
    "\n",
    "            ret = max(ret, r-l)\n",
    "\n",
    "    return ret\n",
    "\n",
    "print(longest_mountain([2,1,4,7,3,2,5]))\n"
   ],
   "id": "183645c583ea8f81",
   "outputs": [
    {
     "name": "stdout",
     "output_type": "stream",
     "text": [
      "4\n"
     ]
    }
   ],
   "execution_count": 4
  },
  {
   "metadata": {},
   "cell_type": "markdown",
   "source": "## Sliding window",
   "id": "3b15343ddd9f7144"
  },
  {
   "metadata": {
    "ExecuteTime": {
     "end_time": "2025-03-24T03:44:55.056573Z",
     "start_time": "2025-03-24T03:44:55.050881Z"
    }
   },
   "cell_type": "code",
   "source": [
    "\"\"\"\n",
    "Contains duplicate 2\n",
    "\"\"\"\n",
    "\n",
    "def contains_duplicate(nums, k):\n",
    "    seen = set()\n",
    "    for i, num in enumerate(nums):\n",
    "        if num in seen:\n",
    "            return True\n",
    "        seen.add(num)\n",
    "        if len(seen) > k:\n",
    "            seen.remove(nums[i-k])\n",
    "    return False"
   ],
   "id": "2234d8fce28d74e8",
   "outputs": [],
   "execution_count": 5
  },
  {
   "metadata": {},
   "cell_type": "code",
   "outputs": [],
   "execution_count": null,
   "source": [
    "\"\"\"\n",
    "Min Abso\"\"\""
   ],
   "id": "5deebd6dab50cf8a"
  }
 ],
 "metadata": {
  "kernelspec": {
   "display_name": "Python 3",
   "language": "python",
   "name": "python3"
  },
  "language_info": {
   "codemirror_mode": {
    "name": "ipython",
    "version": 2
   },
   "file_extension": ".py",
   "mimetype": "text/x-python",
   "name": "python",
   "nbconvert_exporter": "python",
   "pygments_lexer": "ipython2",
   "version": "2.7.6"
  }
 },
 "nbformat": 4,
 "nbformat_minor": 5
}
