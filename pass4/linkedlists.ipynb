{
 "cells": [
  {
   "metadata": {},
   "cell_type": "markdown",
   "source": "# Linked Lists",
   "id": "2234ddb8da8a212c"
  },
  {
   "metadata": {},
   "cell_type": "code",
   "outputs": [],
   "execution_count": null,
   "source": [
    "class Node:\n",
    "    def __init__(self, value, next):\n",
    "        self.value = value\n",
    "        self.next = next"
   ],
   "id": "2974619b190e4fd5"
  },
  {
   "cell_type": "code",
   "id": "initial_id",
   "metadata": {
    "collapsed": true,
    "ExecuteTime": {
     "end_time": "2025-03-25T02:42:17.375894Z",
     "start_time": "2025-03-25T02:42:17.360813Z"
    }
   },
   "source": [
    "\"\"\"\n",
    "Middle of linked list\n",
    "\"\"\"\n",
    "\n",
    "\n",
    "def middle(head):\n",
    "    fast, slow = head, head\n",
    "    while fast and fast.next:\n",
    "        slow = slow.next\n",
    "        fast = fast.next.next\n",
    "\n",
    "    return slow"
   ],
   "outputs": [],
   "execution_count": 1
  },
  {
   "metadata": {
    "ExecuteTime": {
     "end_time": "2025-03-25T02:45:08.253619Z",
     "start_time": "2025-03-25T02:45:08.246467Z"
    }
   },
   "cell_type": "code",
   "source": [
    "\"\"\"\n",
    "Cycle in linked list\n",
    "\"\"\"\n",
    "\n",
    "\n",
    "def cycle(head):\n",
    "    fast, slow = head, head\n",
    "\n",
    "    while fast and fast.next:\n",
    "        slow = slow.next\n",
    "        fast = fast.next.next\n",
    "\n",
    "        if fast == slow:\n",
    "            return True\n",
    "\n",
    "    return False"
   ],
   "id": "c7292b58238171fa",
   "outputs": [],
   "execution_count": 3
  },
  {
   "metadata": {
    "ExecuteTime": {
     "end_time": "2025-03-25T03:11:44.667235Z",
     "start_time": "2025-03-25T03:11:44.657109Z"
    }
   },
   "cell_type": "code",
   "source": [
    "\"\"\"\n",
    "Reverse a linked list\n",
    "\"\"\"\n",
    "\n",
    "\n",
    "def reverse(head):\n",
    "    prev = None\n",
    "    curr_pointer = head\n",
    "    while curr_pointer:\n",
    "        next_pointer = curr_pointer.next\n",
    "        curr_pointer.next = prev\n",
    "        prev = curr_pointer\n",
    "        curr_pointer = next_pointer\n",
    "\n",
    "    head = prev\n",
    "    return head\n"
   ],
   "id": "dcabf03a520382fd",
   "outputs": [],
   "execution_count": 4
  },
  {
   "metadata": {},
   "cell_type": "code",
   "outputs": [],
   "execution_count": null,
   "source": "",
   "id": "1443ee6517571eb9"
  }
 ],
 "metadata": {
  "kernelspec": {
   "display_name": "Python 3",
   "language": "python",
   "name": "python3"
  },
  "language_info": {
   "codemirror_mode": {
    "name": "ipython",
    "version": 2
   },
   "file_extension": ".py",
   "mimetype": "text/x-python",
   "name": "python",
   "nbconvert_exporter": "python",
   "pygments_lexer": "ipython2",
   "version": "2.7.6"
  }
 },
 "nbformat": 4,
 "nbformat_minor": 5
}
