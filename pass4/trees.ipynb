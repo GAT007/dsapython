{
 "cells": [
  {
   "metadata": {},
   "cell_type": "markdown",
   "source": "## Binary Trees",
   "id": "4627529902ef2ba5"
  },
  {
   "cell_type": "code",
   "id": "initial_id",
   "metadata": {
    "collapsed": true,
    "ExecuteTime": {
     "end_time": "2025-03-26T02:23:09.971387Z",
     "start_time": "2025-03-26T02:23:09.952018Z"
    }
   },
   "source": [
    "\"\"\"\n",
    "Average of Levels in a binary tree\n",
    "\"\"\"\n",
    "\n",
    "\n",
    "class Node:\n",
    "    def __init__(self, val=0, left=None, right=None):\n",
    "        self.val = val\n",
    "        self.left = left\n",
    "        self.right = right\n",
    "\n",
    "\n",
    "from collections import deque\n",
    "\n",
    "\n",
    "def average_levels(root):\n",
    "    q = deque([root])\n",
    "    res = []\n",
    "\n",
    "    while q:\n",
    "        level = []\n",
    "        for i in range(len(q)):\n",
    "            node = q.popleft()\n",
    "            level.append(node.val)\n",
    "            if node.left: q.append(node.left)\n",
    "            if node.right: q.append(node.right)\n",
    "\n",
    "        res.append(sum(level) / len(level))\n",
    "\n",
    "    return res"
   ],
   "outputs": [],
   "execution_count": 1
  },
  {
   "metadata": {
    "ExecuteTime": {
     "end_time": "2025-03-26T02:45:25.253600Z",
     "start_time": "2025-03-26T02:45:25.244393Z"
    }
   },
   "cell_type": "code",
   "source": [
    "\"\"\"\n",
    "Min Depth of a binary tree\n",
    "\"\"\"\n",
    "\n",
    "\n",
    "def min_depth(root):\n",
    "    q = deque([root, 1])\n",
    "    while q:\n",
    "        node, level = q.popleft()\n",
    "        if not node.left and not node.right:\n",
    "            return level\n",
    "        if node.left: q.append((node.left, level + 1))\n",
    "        if node.right: q.append((node.right, level + 1))\n",
    "\n",
    "    return -1"
   ],
   "id": "e3d7cb8cc8726210",
   "outputs": [],
   "execution_count": 2
  },
  {
   "metadata": {
    "ExecuteTime": {
     "end_time": "2025-03-26T02:48:08.392019Z",
     "start_time": "2025-03-26T02:48:08.375115Z"
    }
   },
   "cell_type": "code",
   "source": [
    "\"\"\"\n",
    "max depth of a binary tree\n",
    "\"\"\"\n",
    "\n",
    "\n",
    "def max_depth(root):\n",
    "    q = deque([(root, 1)])\n",
    "    while q:\n",
    "        node, level = q.popleft()\n",
    "        if node.left: q.append((node.left, level + 1))\n",
    "        if node.right: q.append((node.right, level + 1))\n",
    "    return level"
   ],
   "id": "9f17866fd914f919",
   "outputs": [],
   "execution_count": 3
  },
  {
   "metadata": {},
   "cell_type": "code",
   "outputs": [],
   "execution_count": null,
   "source": "",
   "id": "123f4602583dd151"
  }
 ],
 "metadata": {
  "kernelspec": {
   "display_name": "Python 3",
   "language": "python",
   "name": "python3"
  },
  "language_info": {
   "codemirror_mode": {
    "name": "ipython",
    "version": 2
   },
   "file_extension": ".py",
   "mimetype": "text/x-python",
   "name": "python",
   "nbconvert_exporter": "python",
   "pygments_lexer": "ipython2",
   "version": "2.7.6"
  }
 },
 "nbformat": 4,
 "nbformat_minor": 5
}
