{
 "cells": [
  {
   "cell_type": "code",
   "id": "initial_id",
   "metadata": {
    "collapsed": true,
    "ExecuteTime": {
     "end_time": "2024-10-22T16:44:04.254853Z",
     "start_time": "2024-10-22T16:44:04.236390Z"
    }
   },
   "source": [
    "def rec_sum(n):\n",
    "    if n == 0:\n",
    "        return 0;\n",
    "    else:\n",
    "        return n + rec_sum(n-1)"
   ],
   "outputs": [],
   "execution_count": 1
  },
  {
   "metadata": {
    "ExecuteTime": {
     "end_time": "2024-10-22T16:44:08.167644Z",
     "start_time": "2024-10-22T16:44:08.152579Z"
    }
   },
   "cell_type": "code",
   "source": "rec_sum(1234)",
   "id": "9b55d94b36173a5",
   "outputs": [
    {
     "data": {
      "text/plain": [
       "761995"
      ]
     },
     "execution_count": 2,
     "metadata": {},
     "output_type": "execute_result"
    }
   ],
   "execution_count": 2
  },
  {
   "metadata": {
    "ExecuteTime": {
     "end_time": "2024-10-22T16:44:09.728940Z",
     "start_time": "2024-10-22T16:44:09.722384Z"
    }
   },
   "cell_type": "code",
   "source": [
    "#Sum of all individual digits in that integer\n",
    "def sum_individual(n):\n",
    "    if n < 10:\n",
    "        return n\n",
    "    else:\n",
    "        return (n%10) + (sum_individual(n/10))"
   ],
   "id": "64b7b8d264ed8489",
   "outputs": [],
   "execution_count": 3
  },
  {
   "metadata": {
    "ExecuteTime": {
     "end_time": "2024-10-22T16:44:11.269453Z",
     "start_time": "2024-10-22T16:44:11.252371Z"
    }
   },
   "cell_type": "code",
   "source": "sum_individual(123)",
   "id": "687170840c9c3b63",
   "outputs": [
    {
     "data": {
      "text/plain": [
       "6.530000000000001"
      ]
     },
     "execution_count": 4,
     "metadata": {},
     "output_type": "execute_result"
    }
   ],
   "execution_count": 4
  },
  {
   "metadata": {},
   "cell_type": "code",
   "outputs": [],
   "execution_count": null,
   "source": [
    "def reverse(word):\n",
    "    "
   ],
   "id": "ed0a3c7a684fe141"
  }
 ],
 "metadata": {
  "kernelspec": {
   "display_name": "Python 3",
   "language": "python",
   "name": "python3"
  },
  "language_info": {
   "codemirror_mode": {
    "name": "ipython",
    "version": 2
   },
   "file_extension": ".py",
   "mimetype": "text/x-python",
   "name": "python",
   "nbconvert_exporter": "python",
   "pygments_lexer": "ipython2",
   "version": "2.7.6"
  }
 },
 "nbformat": 4,
 "nbformat_minor": 5
}
