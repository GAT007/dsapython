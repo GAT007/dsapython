{
 "cells": [
  {
   "metadata": {},
   "cell_type": "markdown",
   "source": "# Arrays and Hashing",
   "id": "527b474efee47ebb"
  },
  {
   "cell_type": "code",
   "id": "initial_id",
   "metadata": {
    "collapsed": true,
    "ExecuteTime": {
     "end_time": "2025-09-05T01:00:57.859652Z",
     "start_time": "2025-09-05T01:00:57.839713Z"
    }
   },
   "source": [
    "\"\"\"\n",
    "Contains duplicate\n",
    "\"\"\"\n",
    "\n",
    "\n",
    "def contains_duplicate(nums):\n",
    "    return len(nums) == len(set(nums))"
   ],
   "outputs": [],
   "execution_count": 1
  },
  {
   "metadata": {
    "ExecuteTime": {
     "end_time": "2025-09-05T01:01:51.887695Z",
     "start_time": "2025-09-05T01:01:51.881093Z"
    }
   },
   "cell_type": "code",
   "source": [
    "\"\"\"\n",
    "Valid anagram\n",
    "\"\"\"\n",
    "from collections import Counter\n",
    "\n",
    "\n",
    "def valid_anagram(sr1, sr2):\n",
    "    c1 = Counter(sr1)\n",
    "    c2 = Counter(sr2)\n",
    "\n",
    "    return c1 == c2\n"
   ],
   "id": "e138a8e683021c86",
   "outputs": [],
   "execution_count": 2
  },
  {
   "metadata": {
    "ExecuteTime": {
     "end_time": "2025-09-05T01:03:21.935010Z",
     "start_time": "2025-09-05T01:03:21.925237Z"
    }
   },
   "cell_type": "code",
   "source": [
    "\"\"\"\n",
    "Two Sum\n",
    "\"\"\"\n",
    "\n",
    "from collections import defaultdict\n",
    "\n",
    "\n",
    "def two_sum(nums, target):\n",
    "    num_map = defaultdict(int)\n",
    "\n",
    "    for idx, num in enumerate(nums):\n",
    "        if target - num in num_map:\n",
    "            return idx, num_map[target - num]\n",
    "        else:\n",
    "            num_map[num] = idx\n",
    "\n",
    "    return -1, -1"
   ],
   "id": "ede66e0792204655",
   "outputs": [],
   "execution_count": 3
  },
  {
   "metadata": {
    "ExecuteTime": {
     "end_time": "2025-09-05T01:09:37.012566Z",
     "start_time": "2025-09-05T01:09:36.998598Z"
    }
   },
   "cell_type": "code",
   "source": [
    "\"\"\"\n",
    "Group Anagrams\n",
    "\"\"\"\n",
    "from collections import defaultdict\n",
    "\n",
    "\n",
    "def group_anagrams(strs):\n",
    "    res = defaultdict(list)\n",
    "    for s in strs:\n",
    "        count = [0] * 26\n",
    "        for c in s:\n",
    "            count[ord(c) - ord('a')] += 1\n",
    "        res[tuple(count)].append(s)\n",
    "\n",
    "    return list(res.values())\n",
    "\n",
    "\n",
    "def group_anagrams(strs):\n",
    "    res = defaultdict(list)\n",
    "    for s in strs:\n",
    "        characters = [0] * 26\n",
    "        for c in s:\n",
    "            characters[ord(c) - ord('a')] += 1\n",
    "        res[tuple(characters)].append(s)\n",
    "\n",
    "    return list(res.values())\n",
    "\n",
    "\n",
    "def group_anagrams(strs):\n",
    "    res = defaultdict(list)\n",
    "    for s in strs:\n",
    "        count = [0] * 26\n",
    "        for c in s:\n",
    "            count[ord(c) - ord('a')] += 1\n",
    "        res[tuple(count)].append(s)\n",
    "\n",
    "    return list(res.values())"
   ],
   "id": "3d3dbe24e1fb6159",
   "outputs": [],
   "execution_count": 5
  },
  {
   "metadata": {
    "ExecuteTime": {
     "end_time": "2025-09-05T01:14:32.453222Z",
     "start_time": "2025-09-05T01:14:32.446076Z"
    }
   },
   "cell_type": "code",
   "source": [
    "\"\"\"\n",
    "Top K frequent elements\n",
    "\"\"\"\n",
    "\n",
    "from collections import Counter\n",
    "import heapq\n",
    "\n",
    "\n",
    "def top_k_frequent(nums, k):\n",
    "    count = Counter(nums)\n",
    "    heap = []\n",
    "\n",
    "    for key in count:\n",
    "        if len(heap) < k:\n",
    "            heapq.heappush(heap, (count[key], key))\n",
    "        else:\n",
    "            heapq.heappushpop(heap, (count[key], key))\n",
    "\n",
    "    return [key for val, key in heap]"
   ],
   "id": "8e74f6d21b188493",
   "outputs": [],
   "execution_count": 6
  },
  {
   "metadata": {
    "ExecuteTime": {
     "end_time": "2025-09-05T01:16:19.950211Z",
     "start_time": "2025-09-05T01:16:19.933662Z"
    }
   },
   "cell_type": "code",
   "source": [
    "\"\"\"\n",
    "Encode and decode strings\n",
    "Really dumb problem\n",
    "\"\"\""
   ],
   "id": "ced327f11e2b0b2c",
   "outputs": [
    {
     "data": {
      "text/plain": [
       "'\\nEncode and decode strings\\nReally dumb problem\\n'"
      ]
     },
     "execution_count": 7,
     "metadata": {},
     "output_type": "execute_result"
    }
   ],
   "execution_count": 7
  },
  {
   "metadata": {
    "ExecuteTime": {
     "end_time": "2025-09-05T01:28:38.243986Z",
     "start_time": "2025-09-05T01:28:38.236983Z"
    }
   },
   "cell_type": "code",
   "source": [
    "\"\"\"\n",
    "Product of array except self\n",
    "\"\"\"\n",
    "\n",
    "\n",
    "def product_except_self(nums):\n",
    "    res = [1] * len(nums)\n",
    "\n",
    "    prefix = 1\n",
    "    for i in range(len(nums)):\n",
    "        res[i] *= prefix\n",
    "        prefix *= nums[i]\n",
    "\n",
    "    postfix = 1\n",
    "    for i in range(len(nums)):\n",
    "        res[i] *= postfix\n",
    "        postfix *= nums[i]\n",
    "\n",
    "    return res"
   ],
   "id": "221c2fa989c21c3d",
   "outputs": [],
   "execution_count": 8
  },
  {
   "metadata": {
    "ExecuteTime": {
     "end_time": "2025-09-05T01:46:58.337938Z",
     "start_time": "2025-09-05T01:46:58.330684Z"
    }
   },
   "cell_type": "code",
   "source": [
    "\"\"\"\n",
    "Longest consecutive sequence\n",
    "\"\"\"\n",
    "\n",
    "\n",
    "def longest_consecutive_sequence(nums):\n",
    "    num_set = set(nums)\n",
    "\n",
    "    max_length = 0\n",
    "    for num in nums:\n",
    "        if num - 1 in num_set:\n",
    "            continue\n",
    "        length = 1\n",
    "        while num + length in num_set:\n",
    "            length += 1\n",
    "        max_length = max(length, max_length)\n",
    "\n",
    "    return max_length"
   ],
   "id": "a6979149632e5579",
   "outputs": [],
   "execution_count": 9
  },
  {
   "metadata": {},
   "cell_type": "code",
   "outputs": [],
   "execution_count": null,
   "source": "",
   "id": "d5bdf71f0e7860b9"
  }
 ],
 "metadata": {
  "kernelspec": {
   "display_name": "Python 3",
   "language": "python",
   "name": "python3"
  },
  "language_info": {
   "codemirror_mode": {
    "name": "ipython",
    "version": 2
   },
   "file_extension": ".py",
   "mimetype": "text/x-python",
   "name": "python",
   "nbconvert_exporter": "python",
   "pygments_lexer": "ipython2",
   "version": "2.7.6"
  }
 },
 "nbformat": 4,
 "nbformat_minor": 5
}
