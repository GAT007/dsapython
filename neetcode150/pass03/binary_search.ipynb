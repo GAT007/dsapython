{
 "cells": [
  {
   "metadata": {},
   "cell_type": "markdown",
   "source": "# Binary Search",
   "id": "10cf4bc3ad0b16a6"
  },
  {
   "cell_type": "code",
   "id": "initial_id",
   "metadata": {
    "collapsed": true,
    "ExecuteTime": {
     "end_time": "2025-09-01T20:45:38.352434Z",
     "start_time": "2025-09-01T20:45:38.341123Z"
    }
   },
   "source": [
    "\"\"\"\n",
    "Binary Search\n",
    "\"\"\"\n",
    "\n",
    "\n",
    "def binary_search(nums, target):\n",
    "    l = 0\n",
    "    r = len(nums) - 1\n",
    "\n",
    "    while l <= r:\n",
    "        mid = (l + r) / 2\n",
    "        if nums[mid] == target:\n",
    "            return mid\n",
    "\n",
    "        if nums[mid] > target:\n",
    "            r = mid - 1\n",
    "\n",
    "        elif nums[mid] < target:\n",
    "            l = mid + 1\n",
    "\n",
    "    return -1"
   ],
   "outputs": [],
   "execution_count": 1
  },
  {
   "metadata": {
    "ExecuteTime": {
     "end_time": "2025-09-01T21:06:53.885638Z",
     "start_time": "2025-09-01T21:06:53.876747Z"
    }
   },
   "cell_type": "code",
   "source": [
    "\"\"\"\n",
    "Search a 2d matrix\n",
    "\"\"\"\n",
    "\n",
    "\n",
    "def search_2d_matrix(grid, target):\n",
    "    ROWS = len(grid)\n",
    "    COLS = len(grid[0])\n",
    "\n",
    "    total = ROWS * COLS\n",
    "\n",
    "    l = 0\n",
    "    r = total - 1\n",
    "\n",
    "    while l <= r:\n",
    "        m = l + ((r - l) // 2)\n",
    "        row, col = m // COLS, m % COLS\n",
    "        if target > grid[row][col]:\n",
    "            l = m + 1\n",
    "        elif target < grid[row][col]:\n",
    "            r = m - 1\n",
    "\n",
    "        else:\n",
    "            return row, col\n",
    "\n",
    "    return -1, -1"
   ],
   "id": "d3d996203e4333b6",
   "outputs": [],
   "execution_count": 2
  },
  {
   "metadata": {
    "ExecuteTime": {
     "end_time": "2025-09-01T21:22:18.588707Z",
     "start_time": "2025-09-01T21:22:18.579763Z"
    }
   },
   "cell_type": "code",
   "source": [
    "\"\"\"\n",
    "Koko eating bananas\n",
    "\"\"\"\n",
    "from math import ceil\n",
    "\n",
    "\n",
    "def koko_eating_bananas(piles, h):\n",
    "    l = 1\n",
    "    r = max(piles)\n",
    "    res = r\n",
    "\n",
    "    while l <= r:\n",
    "        k = l + ((r - l) // 2)\n",
    "        total_time = 0\n",
    "        for p in piles:\n",
    "            total_time += ceil(float(p) / k)\n",
    "\n",
    "        if total_time <= h:\n",
    "            res = k\n",
    "            r = k - 1\n",
    "        else:\n",
    "            l = k + 1\n",
    "\n",
    "    return res"
   ],
   "id": "10e6a1c0909d7c45",
   "outputs": [],
   "execution_count": 3
  },
  {
   "metadata": {
    "ExecuteTime": {
     "end_time": "2025-09-01T21:23:54.023163Z",
     "start_time": "2025-09-01T21:23:54.018348Z"
    }
   },
   "cell_type": "code",
   "source": [
    "\"\"\"\n",
    "Minimum in a rotated sorted array\n",
    "\"\"\"\n",
    "\n",
    "\n",
    "def find_min(nums):\n",
    "    l, r = 0, len(nums) - 1\n",
    "    while l < r:\n",
    "        m = l + ((r - l) // 2)\n",
    "        if nums[m] < nums[r]:\n",
    "            r = m\n",
    "        else:\n",
    "            l = m + 1\n",
    "\n",
    "    return nums[l]"
   ],
   "id": "8db3a6d05d7e5a0e",
   "outputs": [],
   "execution_count": 4
  },
  {
   "metadata": {
    "ExecuteTime": {
     "end_time": "2025-09-01T21:41:27.810221Z",
     "start_time": "2025-09-01T21:41:27.800312Z"
    }
   },
   "cell_type": "code",
   "source": [
    "\"\"\"\n",
    "Search in a rotated sorted array\n",
    "\"\"\"\n",
    "\n",
    "\n",
    "def search(nums, target):\n",
    "    l, r = 0, len(nums) - 1\n",
    "\n",
    "    while l <= r:\n",
    "        mid = (l + r) // 2\n",
    "        if target == nums[mid]:\n",
    "            return mid\n",
    "\n",
    "        if nums[l] <= nums[mid]:\n",
    "            if target > nums[mid] or target < nums[l]:\n",
    "                l = mid + 1\n",
    "            else:\n",
    "                r = mid - 1\n",
    "\n",
    "        else:\n",
    "            if target < nums[mid] or target > nums[r]:\n",
    "                r = mid - 1\n",
    "            else:\n",
    "                l = mid + 1\n",
    "\n",
    "    return -1\n",
    "\n",
    "\n",
    "def search(nums, target):\n",
    "    l, r = 0, len(nums) - 1\n",
    "    while l <= r:\n",
    "        mid = (l + r) // 2\n",
    "        if target == nums[mid]:\n",
    "            return mid\n",
    "\n",
    "        if nums[l] <= nums[mid]:\n",
    "            if target > nums[mid] or target < nums[l]:\n",
    "                l = mid + 1\n",
    "            else:\n",
    "                r = mid - 1\n",
    "\n",
    "        else:\n",
    "            if target < nums[mid] or target > nums[r]:\n",
    "                r = mid - 1\n",
    "            else:\n",
    "                l = mid + 1\n",
    "\n",
    "    return -1\n"
   ],
   "id": "b33af885a6c68bc7",
   "outputs": [],
   "execution_count": 6
  },
  {
   "metadata": {
    "ExecuteTime": {
     "end_time": "2025-09-01T21:56:04.253104Z",
     "start_time": "2025-09-01T21:56:04.245235Z"
    }
   },
   "cell_type": "code",
   "source": [
    "\"\"\"\n",
    "Time based key value store\n",
    "\"\"\"\n",
    "\n",
    "\n",
    "class TimeMap:\n",
    "    def __init__(self):\n",
    "        self.keyStore = {}\n",
    "\n",
    "    def set(self, key, value, timestamp):\n",
    "        if key not in self.keyStore:\n",
    "            self.keyStore[key] = []\n",
    "        self.keyStore[key].append([value, timestamp])\n",
    "\n",
    "    def get(self, key, timestamp):\n",
    "        res, values = \"\", self.keyStore.get(key, [])\n",
    "        l, r = 0, len(values) - 1\n",
    "        while l <= r:\n",
    "            m = (l + r) // 2\n",
    "            if values[m][1] <= timestamp:\n",
    "                l = m + 1\n",
    "            else:\n",
    "                r = m - 1\n",
    "        return res"
   ],
   "id": "505e1541f7fc57ed",
   "outputs": [],
   "execution_count": 7
  },
  {
   "metadata": {},
   "cell_type": "code",
   "outputs": [],
   "execution_count": null,
   "source": [
    "\"\"\"\n",
    "Median of two sorted arrays\n",
    "\"\"\"\n",
    "\n",
    "\n",
    "def median_of_sorted_arrays(nums1, nums2):\n",
    "    a, b = nums1, nums2\n",
    "    total = len(a) + len(b)\n",
    "    half = total // 2\n",
    "\n",
    "    if len(b) < len(a):\n",
    "        a, b = b, a\n",
    "\n",
    "    l, r = 0, len(a) - 1\n",
    "\n",
    "    while True:\n",
    "        i = (l + r) // 2\n",
    "        j = half - i - 2\n",
    "\n",
    "        aleft = a[i] if i >= 0 else float('-inf')\n",
    "        aright = a[i + 1] if i + 1 < len(a) else float('inf')\n",
    "        bleft = b[j] if j >= 0 else float('-inf')\n",
    "        bright = b[j + 1] if j + 1 < len(j) else float('inf')\n",
    "\n",
    "        if aleft <= bright and bleft <= aright:\n",
    "            if total % 2:\n",
    "                return min(aright, bright)\n",
    "            return (max(aleft, bleft) + min(aright, bright)) / 2\n",
    "\n",
    "        elif aleft > bright:\n",
    "            r = i - 1\n",
    "\n",
    "        else:\n",
    "            l = i + 1\n"
   ],
   "id": "d00a395bfcb3b72a"
  }
 ],
 "metadata": {
  "kernelspec": {
   "display_name": "Python 3",
   "language": "python",
   "name": "python3"
  },
  "language_info": {
   "codemirror_mode": {
    "name": "ipython",
    "version": 2
   },
   "file_extension": ".py",
   "mimetype": "text/x-python",
   "name": "python",
   "nbconvert_exporter": "python",
   "pygments_lexer": "ipython2",
   "version": "2.7.6"
  }
 },
 "nbformat": 4,
 "nbformat_minor": 5
}
