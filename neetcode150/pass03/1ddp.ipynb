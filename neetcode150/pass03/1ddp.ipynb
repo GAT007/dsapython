{
 "cells": [
  {
   "metadata": {},
   "cell_type": "markdown",
   "source": "# Dynamic programming",
   "id": "4bed0ff7d71e7a9d"
  },
  {
   "cell_type": "code",
   "id": "initial_id",
   "metadata": {
    "collapsed": true,
    "ExecuteTime": {
     "end_time": "2025-08-30T23:14:34.629243Z",
     "start_time": "2025-08-30T23:14:34.619465Z"
    }
   },
   "source": [
    "\"\"\"\n",
    "Climbing stairs\n",
    "\"\"\"\n",
    "\n",
    "\n",
    "def climbing_stairs(n):\n",
    "    dp = [0] * (n + 1)\n",
    "    dp[0] = 0\n",
    "    dp[1] = 1\n",
    "    dp[2] = 2\n",
    "    for i in range(3, n + 1):\n",
    "        dp[i] = dp[i - 1] + dp[i - 2]\n",
    "\n",
    "    return dp[n]"
   ],
   "outputs": [],
   "execution_count": 1
  },
  {
   "metadata": {
    "ExecuteTime": {
     "end_time": "2025-08-30T23:19:25.650457Z",
     "start_time": "2025-08-30T23:19:25.639799Z"
    }
   },
   "cell_type": "code",
   "source": [
    "\"\"\"\n",
    "Min cost of climbing stairs\n",
    "\"\"\"\n",
    "\n",
    "\n",
    "def min_cost_climbing_stairs(stairs):\n",
    "    dp = [0] * (len(stairs) + 1)\n",
    "\n",
    "    for i in range(2, len(stairs) + 1):\n",
    "        dp[i] = min(dp[i - 1] + stairs[i - 1], dp[i - 2] + stairs[i - 2])\n",
    "\n",
    "    return dp[len(stairs)]"
   ],
   "id": "13459a5549565b08",
   "outputs": [],
   "execution_count": 2
  },
  {
   "metadata": {
    "ExecuteTime": {
     "end_time": "2025-08-30T23:50:13.202170Z",
     "start_time": "2025-08-30T23:50:13.190641Z"
    }
   },
   "cell_type": "code",
   "source": [
    "\"\"\"\n",
    "House robber\n",
    "\"\"\"\n",
    "\n",
    "\n",
    "def house_robber(houses):\n",
    "    n = len(houses)\n",
    "\n",
    "    if n == 1:\n",
    "        return houses[0]\n",
    "\n",
    "    dp = [0] * (n + 1)\n",
    "    dp[0] = houses[0]\n",
    "    dp[1] = max(dp[0], houses[1])\n",
    "\n",
    "    for i in range(2, n + 1):\n",
    "        dp[i] = max(dp[i - 1], houses[i] + dp[i - 2])\n",
    "\n",
    "    return dp[n]"
   ],
   "id": "675d420e583d6f32",
   "outputs": [],
   "execution_count": 4
  },
  {
   "metadata": {
    "ExecuteTime": {
     "end_time": "2025-08-30T23:53:50.566613Z",
     "start_time": "2025-08-30T23:53:50.557118Z"
    }
   },
   "cell_type": "code",
   "source": [
    "\"\"\"\n",
    "House robber 2\n",
    "\"\"\"\n",
    "\n",
    "\n",
    "def house_robber_2(houses):\n",
    "    def house_robber(arr):\n",
    "        n = len(arr)\n",
    "\n",
    "        if n == 1:\n",
    "            return arr[0]\n",
    "\n",
    "        dp = [0] * (n)\n",
    "        dp[0] = arr[0]\n",
    "        dp[1] = max(dp[0], arr[1])\n",
    "\n",
    "        for i in range(2, n + 1):\n",
    "            dp[i] = max(dp[i - 1], arr[i] + dp[i - 2])\n",
    "\n",
    "        return dp[-1]\n",
    "\n",
    "    return max(house_robber(houses[:-1]), house_robber(houses[1:]))\n",
    "\n",
    "\n"
   ],
   "id": "e2e865757658b330",
   "outputs": [],
   "execution_count": 5
  },
  {
   "metadata": {
    "ExecuteTime": {
     "end_time": "2025-08-31T02:06:43.134407Z",
     "start_time": "2025-08-31T02:06:43.123824Z"
    }
   },
   "cell_type": "code",
   "source": [
    "\"\"\"\n",
    "Longest palindromic substring\n",
    "\"\"\"\n",
    "\n",
    "\n",
    "# mode DSA\n",
    "# Defines the function that takes the input string 's'.\n",
    "def longest_palindromic(s):\n",
    "    resLen, resIdx = 0, 0\n",
    "    n = len(s)\n",
    "\n",
    "    # Creates an n x n table for dynamic programming, initialized to all False.\n",
    "    # dp[i][j] will be True if the substring from index i to j is a palindrome.\n",
    "    dp = [[False] * n for _ in range(n)]\n",
    "\n",
    "    # Starts the outer loop for the substring's start index 'i', moving from the end of the string backwards.\n",
    "    for i in range(n - 1, -1, -1):\n",
    "        # Starts the inner loop for the substring's end index 'j', moving from 'i' to the end.\n",
    "        for j in range(i, n):\n",
    "            # A substring is a palindrome if its outer characters match AND its inner part is also a palindrome.\n",
    "            # (j - i <= 2) is a base case for short strings (length 1, 2, or 3).\n",
    "            # dp[i + 1][j - 1] checks our pre-computed answer for the inner substring.\n",
    "            if s[i] == s[j] and (j - i <= 2 or dp[i + 1][j - 1]):\n",
    "                # If the conditions are met, mark this substring as a palindrome in our table.\n",
    "                dp[i][j] = True\n",
    "                # Checks if the palindrome we just found is longer than the current longest.\n",
    "                if resLen < j - i + 1:\n",
    "                    resIdx = i\n",
    "                    resLen = j - i + 1\n",
    "\n",
    "    return s[resIdx: resIdx + resLen]\n"
   ],
   "id": "e453a33709668b7e",
   "outputs": [],
   "execution_count": 6
  },
  {
   "metadata": {
    "ExecuteTime": {
     "end_time": "2025-08-31T15:06:58.934682Z",
     "start_time": "2025-08-31T15:06:58.915998Z"
    }
   },
   "cell_type": "code",
   "source": [
    "def longest_palindrome(sr):\n",
    "    resLen, resIdx = 0, 0\n",
    "    n = len(sr)\n",
    "\n",
    "    dp = [[False] * n for _ in range(n)]\n",
    "\n",
    "    for i in range(n - 1, -1, -1):\n",
    "        for j in range(i, n):\n",
    "            if sr[i] == sr[j] and (j - i <= 2 or dp[i + 1][j - 1]):\n",
    "                dp[i][j] = True\n",
    "                if resLen < j - i + 1:\n",
    "                    resIdx = i\n",
    "                    resLen = j - i + 1\n",
    "\n",
    "    return sr[resIdx: resIdx + resLen]\n",
    "\n",
    "\n",
    "def longest_palindrome(sr):\n",
    "    resLen, resIdx = 0, 0\n",
    "    n = len(sr)\n",
    "\n",
    "    dp = [[False] * n for _ in range(len(n))]\n",
    "\n",
    "    for i in range(n - 1, -1, -1):\n",
    "        for j in range(i, n):\n",
    "            if sr[i] == sr[j] and (j - i <= 2 or dp[i + 1][j - 1]):\n",
    "                dp[i][j] = True\n",
    "                if resLen < j - i + 1:\n",
    "                    resIdx = i\n",
    "                    resLen = j - i + 1\n",
    "\n",
    "    return sr[resIdx:resIdx + resLen]"
   ],
   "id": "90bc24d1abda8f6e",
   "outputs": [],
   "execution_count": 2
  },
  {
   "metadata": {
    "ExecuteTime": {
     "end_time": "2025-08-31T15:20:29.450960Z",
     "start_time": "2025-08-31T15:20:29.441194Z"
    }
   },
   "cell_type": "code",
   "source": [
    "\"\"\"\n",
    "Palindromic substrings\n",
    "Given a string s, return the number of substrings within s that are palindromes\n",
    "Two functions : One helper function to determine palindrome\n",
    "One main function to iterate over the word and call the palindrome function every even index and every odd index\n",
    "\"\"\"\n",
    "\n",
    "\n",
    "def countPalindrome(s, l, r):\n",
    "    res = 0\n",
    "    while l >= 0 and r < len(s) and s[l] == s[r]:\n",
    "        res += 1\n",
    "        l -= 1\n",
    "        r += 1\n",
    "\n",
    "    return res\n",
    "\n",
    "\n",
    "def palindromicSubstring(sr):\n",
    "    res = 0\n",
    "    for i in range(len(sr)):\n",
    "        res += countPalindrome(sr, i, i)\n",
    "        res += countPalindrome(sr, i, i + 1)\n",
    "\n",
    "    return res\n"
   ],
   "id": "d4a4d098f1734e8f",
   "outputs": [],
   "execution_count": 3
  },
  {
   "metadata": {
    "ExecuteTime": {
     "end_time": "2025-08-31T15:26:09.956406Z",
     "start_time": "2025-08-31T15:26:09.949067Z"
    }
   },
   "cell_type": "code",
   "source": [
    "\"\"\"\n",
    "Again\n",
    "\"\"\"\n",
    "\n",
    "\n",
    "def count_palindrome(s, r, l):\n",
    "    res = 0\n",
    "    while l >= 0 and r < len(s) and s[l] == s[r]:\n",
    "        res += 1\n",
    "        l -= 1\n",
    "        r += 1\n",
    "\n",
    "    return res\n",
    "\n",
    "\n",
    "def palindromic_substring(sr):\n",
    "    res = 0\n",
    "    for i in range(len(sr)):\n",
    "        res += count_palindrome(sr, i, i)\n",
    "        res += count_palindrome(sr, i, i + 1)\n",
    "\n",
    "    return res"
   ],
   "id": "d139fe813d3f07fb",
   "outputs": [],
   "execution_count": 5
  },
  {
   "metadata": {
    "ExecuteTime": {
     "end_time": "2025-08-31T15:37:19.734509Z",
     "start_time": "2025-08-31T15:37:19.727993Z"
    }
   },
   "cell_type": "code",
   "source": [
    "\"\"\"\n",
    "Decode ways\n",
    "Strings are encoded as a->1\n",
    "\"\"\"\n",
    "\n",
    "\n",
    "def decode_ways(s):\n",
    "    dp = {len(s): 1}\n",
    "    for i in range(len(s) - 1, -1, -1):\n",
    "        if s[i] == \"0\":\n",
    "            dp[i] = 0\n",
    "        else:\n",
    "            dp[i] = dp[i + 1]\n",
    "\n",
    "        if i + 1 < len(s) and (s[i] == '1' or (s[i] == '2' and s[i + 1] in '0123456')):\n",
    "            dp[i] += dp[i + 2]\n",
    "\n",
    "    return dp[0]"
   ],
   "id": "e93ea7332d5a21ad",
   "outputs": [],
   "execution_count": 7
  },
  {
   "metadata": {
    "ExecuteTime": {
     "end_time": "2025-08-31T16:35:48.767460Z",
     "start_time": "2025-08-31T16:35:48.753310Z"
    }
   },
   "cell_type": "code",
   "source": [
    "\"\"\"\n",
    "Coin changes\n",
    "\"\"\"\n",
    "\n",
    "\n",
    "def coin_change(coins, target):\n",
    "    dp = [target + 1] * (target + 1)\n",
    "    dp[0] = 0\n",
    "\n",
    "    for i in range(len(dp)):\n",
    "        for c in coins:\n",
    "            if i - c >= 0:\n",
    "                dp[i] = min(dp[i], 1 + dp[i - c])\n",
    "\n",
    "    return dp[target] if dp[target] != target + 1 else -1"
   ],
   "id": "b188926c974fcefa",
   "outputs": [],
   "execution_count": 8
  },
  {
   "metadata": {
    "ExecuteTime": {
     "end_time": "2025-08-31T17:32:05.730919Z",
     "start_time": "2025-08-31T17:32:05.720483Z"
    }
   },
   "cell_type": "code",
   "source": [
    "\"\"\"\n",
    "Kadane's algorithm\n",
    "Maximum product subarray\n",
    "\"\"\"\n",
    "\n",
    "\n",
    "def kadane_s_algorithm(nums):\n",
    "    res = nums[0]\n",
    "    curMin, curMax = 1, 1\n",
    "    for num in nums:\n",
    "        temp = num * curMax\n",
    "        curMax = max(num * curMax, num * curMin, num)\n",
    "        curMin = min(temp, num * curMin, num)\n",
    "        res = max(res, curMax)\n",
    "\n",
    "    return res\n",
    "\n",
    "\n",
    "\"\"\"\n",
    "Max sum subarray\n",
    "\"\"\"\n",
    "\n",
    "\n",
    "def max_sum_subarray(nums):\n",
    "    dp = [0] * (len(nums) + 1)\n",
    "\n",
    "    for i in range(len(dp)):\n",
    "        dp[i] = max(nums[i], nums[i] + dp[i - 1])\n",
    "\n",
    "    return max(dp)"
   ],
   "id": "3500514e5ed3ccdf",
   "outputs": [],
   "execution_count": 9
  },
  {
   "metadata": {
    "ExecuteTime": {
     "end_time": "2025-08-31T19:00:13.433571Z",
     "start_time": "2025-08-31T19:00:13.420517Z"
    }
   },
   "cell_type": "code",
   "source": [
    "\"\"\"\n",
    "Longest increasing subsequence\n",
    "\"\"\"\n",
    "\n",
    "\n",
    "def longest_increasing_subsequence(nums):\n",
    "    dp = [1] * len(nums)\n",
    "\n",
    "    for i in range(len(nums) - 1, -1, -1):\n",
    "        for j in range(i + 1, len(nums)):\n",
    "            if nums[i] < nums[j]:\n",
    "                dp[i] = max(dp[i], 1 + dp[j])\n",
    "\n",
    "    return max(dp)\n",
    "\n",
    "\n",
    "def lis(nums):\n",
    "    dp = [1] * len(nums)\n",
    "\n",
    "    for i in range(len(nums) - 1, -1, -1):\n",
    "        for j in range(i + 1, len(nums)):\n",
    "            if nums[i] < nums[j]:\n",
    "                dp[i] = max(dp[i], 1 + dp[j])\n",
    "\n",
    "    return max(dp)\n",
    "\n",
    "\n",
    "def longest_increasing_subs(nums):\n",
    "    dp = [1] * len(nums)\n",
    "\n",
    "    for i in range(len(nums) - 1, -1, -1):\n",
    "        for j in range(i + 1, len(nums)):\n",
    "            if dp[i] < dp[j]:\n",
    "                dp[i] = max(dp[i], 1 + dp[j])\n",
    "\n",
    "    return max(dp)"
   ],
   "id": "11b440d52da381b4",
   "outputs": [],
   "execution_count": 10
  },
  {
   "metadata": {
    "ExecuteTime": {
     "end_time": "2025-08-31T19:07:36.422714Z",
     "start_time": "2025-08-31T19:07:36.406246Z"
    }
   },
   "cell_type": "code",
   "source": [
    "\"\"\"\n",
    "Word break\n",
    "Given a dictionary of strings word_dict and a string s, can you break s into different words in the word_dict?\n",
    "\"\"\"\n",
    "\n",
    "\n",
    "def word_break(word_dict, s):\n",
    "    dp = [False] * (len(s) + 1)\n",
    "    dp[len(s)] = True\n",
    "\n",
    "    for i in range(len(s) - 1, -1, -1):\n",
    "        for w in word_dict:\n",
    "            if i + len(w) <= len(s) and s[i: i + len(w)] == w:\n",
    "                dp[i] = dp[i + len(w)]\n",
    "                if dp[i]:\n",
    "                    break\n",
    "\n",
    "    return dp[0]\n",
    "\n",
    "\n",
    "def word_break_again(word_dict, s):\n",
    "    dp = [False] * (len(s) + 1)\n",
    "    dp[len(s)] = True\n",
    "\n",
    "    for i in range(len(s) - 1, -1, -1):\n",
    "        for w in word_dict:\n",
    "            if i + len(w) <= len(s) and s[i:i + len(w)] == w:\n",
    "                dp[i] = dp[i + len(w)]\n",
    "                if dp[i]:\n",
    "                    break\n",
    "\n",
    "    return dp[0]\n",
    "\n",
    "\n",
    "def word_break_again_again(word_dict, s):\n",
    "    dp = [False] * (len(s) + 1)\n",
    "    dp[len(s)] = True\n",
    "\n",
    "    for i in range(len(s) - 1, -1, -1):\n",
    "        for w in word_dict:\n",
    "            if i + len(w) <= len(s) and s[i:i + len(w)] == w:\n",
    "                dp[i] = dp[i + len(w)]\n",
    "                if dp[i]:\n",
    "                    break\n",
    "\n",
    "    return dp[0]"
   ],
   "id": "b1644016c0eb5b3b",
   "outputs": [],
   "execution_count": 11
  },
  {
   "metadata": {
    "ExecuteTime": {
     "end_time": "2025-08-31T19:13:48.251577Z",
     "start_time": "2025-08-31T19:13:48.243840Z"
    }
   },
   "cell_type": "code",
   "source": [
    "\"\"\"\n",
    "Partition equal subset sum\n",
    "\"\"\"\n",
    "\n",
    "\n",
    "def can_partition(nums):\n",
    "    if sum(nums) % 2:\n",
    "        return False\n",
    "\n",
    "    target = sum(nums) // 2\n",
    "    dp = [False] * (target + 1)\n",
    "\n",
    "    dp[0] = True\n",
    "\n",
    "    for num in nums:\n",
    "        for j in range(target, num - 1, -1):\n",
    "            dp[j] = dp[j] or dp[j - num]\n",
    "\n",
    "    return dp[target]"
   ],
   "id": "3be75f7c90225ccd",
   "outputs": [],
   "execution_count": 12
  },
  {
   "metadata": {},
   "cell_type": "code",
   "outputs": [],
   "execution_count": null,
   "source": "",
   "id": "f69137ffc2eb95ea"
  }
 ],
 "metadata": {
  "kernelspec": {
   "display_name": "Python 3",
   "language": "python",
   "name": "python3"
  },
  "language_info": {
   "codemirror_mode": {
    "name": "ipython",
    "version": 2
   },
   "file_extension": ".py",
   "mimetype": "text/x-python",
   "name": "python",
   "nbconvert_exporter": "python",
   "pygments_lexer": "ipython2",
   "version": "2.7.6"
  }
 },
 "nbformat": 4,
 "nbformat_minor": 5
}
