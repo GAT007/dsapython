{
 "cells": [
  {
   "metadata": {},
   "cell_type": "markdown",
   "source": [
    "# Backtracking\n",
    "\n",
    "General structure is to have a recursive function using a stack and shallow copies\n",
    "\n",
    "Have a base case for the recursive function to return the call from\n",
    "\n",
    "Create a shallow copy of the object to be modified\n",
    "\n",
    "Push it onto our tracking stack\n",
    "\n",
    "Recursively call the backtracking function\n",
    "\n",
    "Pop it from our tracking stack"
   ],
   "id": "d5eee77ba716acca"
  },
  {
   "cell_type": "code",
   "id": "initial_id",
   "metadata": {
    "collapsed": true,
    "ExecuteTime": {
     "end_time": "2025-08-29T05:03:29.819833Z",
     "start_time": "2025-08-29T05:03:29.809786Z"
    }
   },
   "source": [
    "\"\"\"\n",
    "Letter case permutations\n",
    "\"\"\"\n",
    "\n",
    "\n",
    "def letter_case_permutations(sr):\n",
    "    res = [\"\"]\n",
    "\n",
    "    for s in sr:\n",
    "        temp = []\n",
    "        for r in res:\n",
    "            if s.isalpha():\n",
    "                temp.append(r + s.lower())\n",
    "                temp.append(r + s.upper())\n",
    "\n",
    "            else:\n",
    "                temp.append(r + s)\n",
    "\n",
    "        res = temp\n",
    "\n",
    "    return res"
   ],
   "outputs": [],
   "execution_count": 1
  },
  {
   "metadata": {
    "ExecuteTime": {
     "end_time": "2025-08-29T19:06:35.846586Z",
     "start_time": "2025-08-29T19:06:35.826639Z"
    }
   },
   "cell_type": "code",
   "source": [
    "\"\"\"\n",
    "subsets\n",
    "\"\"\"\n",
    "\n",
    "\n",
    "def subsets(nums):\n",
    "    def backtrack(start, path):\n",
    "        res.append(path.copy())\n",
    "        for i in range(start, len(nums) - 1):\n",
    "            path.append(nums[i])\n",
    "            backtrack(i + 1, path)\n",
    "            path.pop()\n",
    "\n",
    "    res = []\n",
    "    backtrack(0, [])\n",
    "    return res"
   ],
   "id": "b282c9f660f0237f",
   "outputs": [],
   "execution_count": 2
  },
  {
   "metadata": {
    "ExecuteTime": {
     "end_time": "2025-08-29T19:08:42.481656Z",
     "start_time": "2025-08-29T19:08:42.473454Z"
    }
   },
   "cell_type": "code",
   "source": [
    "\"\"\"\n",
    "Combinations\n",
    "\"\"\"\n",
    "\n",
    "\n",
    "def combinations(n, k):\n",
    "    def backtrack(start, path):\n",
    "        if start == k:\n",
    "            res.append(path.copy())\n",
    "            return\n",
    "        for i in range(start, n + 1):\n",
    "            path.append(i)\n",
    "            backtrack(i + 1, path)\n",
    "            path.pop()\n",
    "\n",
    "    res = []\n",
    "    backtrack(0, [])\n",
    "    return res"
   ],
   "id": "c36f0f45285bc39",
   "outputs": [],
   "execution_count": 3
  },
  {
   "metadata": {
    "ExecuteTime": {
     "end_time": "2025-08-29T19:10:48.652169Z",
     "start_time": "2025-08-29T19:10:48.641101Z"
    }
   },
   "cell_type": "code",
   "source": [
    "\"\"\"\n",
    "Permutations\n",
    "\"\"\"\n",
    "\n",
    "\n",
    "def permutations(nums):\n",
    "    def backtrack(start, end):\n",
    "        if start == end:\n",
    "            res.append(nums.copy())\n",
    "            return\n",
    "        for i in range(start, end):\n",
    "            nums[i], nums[i + 1] = nums[i + 1], nums[i]\n",
    "            backtrack(0, end)\n",
    "            nums[i], nums[i + 1] = nums[i + 1], nums[i]\n",
    "\n",
    "    res = []\n",
    "    backtrack(0, len(nums) - 1)\n",
    "    return res"
   ],
   "id": "6791cd91a8a30490",
   "outputs": [],
   "execution_count": 4
  },
  {
   "metadata": {
    "ExecuteTime": {
     "end_time": "2025-08-29T19:13:31.108723Z",
     "start_time": "2025-08-29T19:13:31.098828Z"
    }
   },
   "cell_type": "code",
   "source": [
    "\"\"\"\n",
    "Combination sum I\n",
    "\"\"\"\n",
    "\n",
    "\n",
    "def combo_sum_i(nums, target):\n",
    "    def backtrack(start, path, total):\n",
    "        if target == total:\n",
    "            res.append(path.copy())\n",
    "            return\n",
    "\n",
    "        if target > total:\n",
    "            return\n",
    "\n",
    "        for i in range(start, len(nums)):\n",
    "            path.append(nums[i])\n",
    "            backtrack(i + 1, path, total + nums[i])\n",
    "            path.pop()\n",
    "\n",
    "    res = []\n",
    "    backtrack(0, [], 0)\n",
    "    return res"
   ],
   "id": "32fc79f801df7f00",
   "outputs": [],
   "execution_count": 5
  },
  {
   "metadata": {
    "ExecuteTime": {
     "end_time": "2025-08-29T19:18:28.704737Z",
     "start_time": "2025-08-29T19:18:28.691674Z"
    }
   },
   "cell_type": "code",
   "source": [
    "\"\"\"\n",
    "Combo sum II\n",
    "Given nums array contains duplicates : solution set must not contain duplicates\n",
    "Make sure to sort the array and make res a set instead of a list\n",
    "\"\"\"\n",
    "\n",
    "\n",
    "def combo_sum_ii(nums, target):\n",
    "    nums.sort()\n",
    "\n",
    "    def backtrack(start, path, total):\n",
    "        if total == target:\n",
    "            res.append(tuple(path))\n",
    "            return\n",
    "\n",
    "        if total > target:\n",
    "            return\n",
    "\n",
    "        for i in range(start, len(nums)):\n",
    "            if i > 0 and nums[i] == nums[i - 1]:\n",
    "                continue\n",
    "            path.append(nums[i])\n",
    "            backtrack(i + 1, path, total + nums[i])\n",
    "            path.pop()\n",
    "\n",
    "    res = set()\n",
    "    backtrack(0, [], 0)\n",
    "    return res"
   ],
   "id": "38cd46595dd72bda",
   "outputs": [],
   "execution_count": 6
  },
  {
   "metadata": {
    "ExecuteTime": {
     "end_time": "2025-08-29T19:21:41.356498Z",
     "start_time": "2025-08-29T19:21:41.345801Z"
    }
   },
   "cell_type": "code",
   "source": [
    "\"\"\"\n",
    "Subsets II\n",
    "Given an array nums which contains duplicates, return all possible subsets without any duplicates in the resultant array\n",
    "\"\"\"\n",
    "\n",
    "\n",
    "def subsets_ii(nums):\n",
    "    nums.sort()\n",
    "\n",
    "    def backtrack(start, path):\n",
    "        res.add(tuple(path.copy()))\n",
    "\n",
    "        for i in range(start, len(nums)):\n",
    "            if i > 0 and nums[i] == nums[i - 1]:\n",
    "                continue\n",
    "            path.append(nums[i])\n",
    "            backtrack(i + 1, path)\n",
    "            path.pop()\n",
    "\n",
    "    res = set()\n",
    "    backtrack(0, [])\n",
    "    return res"
   ],
   "id": "afbbd209dd0b9655",
   "outputs": [],
   "execution_count": 7
  },
  {
   "metadata": {},
   "cell_type": "code",
   "outputs": [],
   "execution_count": null,
   "source": [
    "\"\"\"\n",
    "Word search\n",
    "Combination of a graph and backtracking problem, essentially you need to dfs for every row, grid in the word search array\n",
    "Get the row and the cols\n",
    "Set dir = [[1,0],[-1,0],[0,1],[0,-1]\n",
    "Create a dfs function that accepts row, cols, i\n",
    "Your base case is going to be if i == len(word), then return true\n",
    "otherwise check the boundary condition if not(0<=r<ROWS and 0<=c<COLS) or word[i]!=grid[r][c] or grid[r][c]=='#': return False\n",
    "\n",
    "set board[r][c] = #\n",
    "for dr, dc in dir:\n",
    "    if dfs(r+dr, c+dc, i +1):\n",
    "        board[r][c] = word[i]\n",
    "        return True\n",
    "\n",
    "board[r][c] = word[i]\n",
    "return False\n",
    "\"\"\"\n",
    "\n",
    "\n",
    "def word_search(grid, word):\n",
    "    ROWS, COLS = len(grid), len(grid[0])\n",
    "    dir = [[1, 0], [-1, 0], [0, 1], [0, -1]]\n",
    "\n",
    "    def dfs(r, c, i):\n",
    "        if i == len(word):\n",
    "            return True\n",
    "\n",
    "        if not (0 <= r < ROWS and 0 <= c < COLS) or word[i] != grid[r][c] or grid[r][c] == \"#\":\n",
    "            return False\n",
    "\n",
    "        grid[r][c] = \"#\"\n",
    "        for dr, dc in dir:\n",
    "            if dfs(r + dr, c + dc, i + 1):\n",
    "                grid[r][c] = word[i]\n",
    "                return True\n",
    "\n",
    "        grid[r][c] = word[i]\n",
    "        return False\n",
    "\n",
    "    for r in range(ROWS):\n",
    "        for c in range(COLS):\n",
    "            if dfs(r, c, 0):\n",
    "                return True\n",
    "\n",
    "    return False"
   ],
   "id": "fea73bee638547f7"
  },
  {
   "metadata": {
    "ExecuteTime": {
     "end_time": "2025-08-29T21:25:53.762712Z",
     "start_time": "2025-08-29T21:25:53.748145Z"
    }
   },
   "cell_type": "code",
   "source": [
    "\"\"\"\n",
    "Palindrome partitioning\n",
    "Given a string s, split s into substrings where every substring is a palindrome. Return all possible lists of palindromic substrings\n",
    "\"\"\"\n",
    "\n",
    "\n",
    "def isPalindrome(s, l, r):\n",
    "    while l < r:\n",
    "        if s[l] != s[r]:\n",
    "            return False\n",
    "        l += 1\n",
    "        r -= 1\n",
    "    return True\n",
    "\n",
    "\n",
    "def partition(sr):\n",
    "    def backtrack(start, path):\n",
    "        if start >= len(sr):\n",
    "            res.append(path.copy())\n",
    "            return\n",
    "\n",
    "        for i in range(start, len(sr)):\n",
    "            if isPalindrome(sr, start, i):\n",
    "                #Take the string from the start value to i + 1 value\n",
    "                path.append(sr[start:i + 1])\n",
    "                # Backtrack from i + 1 value to path value\n",
    "                backtrack(i + 1, path)\n",
    "                path.pop()\n",
    "\n",
    "    res = []\n",
    "    backtrack(0, [])\n",
    "    return res"
   ],
   "id": "edaf53c78cbdbde9",
   "outputs": [],
   "execution_count": 8
  },
  {
   "metadata": {},
   "cell_type": "code",
   "outputs": [],
   "execution_count": null,
   "source": [
    "\"\"\"\n",
    "Letter combinations of a phone number\n",
    "\"\"\"\n",
    "\n",
    "\n",
    "def letter_combinations(nums):\n",
    "    combination_map = {\n",
    "        2: \"abc\",\n",
    "        3: \"def\",\n",
    "        4: \"ghi\",\n",
    "        5: \"jkl\",\n",
    "        6: \"mno\",\n",
    "        7: \"pqrs\",\n",
    "        8: \"tuv\",\n",
    "        9: \"wxyz\"\n",
    "    }\n",
    "\n",
    "    def backtrack(start, path):\n",
    "        if len(path) == len(nums):\n",
    "            res.append(path)\n",
    "            return\n",
    "\n",
    "        for c in combination_map[nums[start]]:\n",
    "            backtrack(start + 1, path + c)\n",
    "\n",
    "    res = []\n",
    "    backtrack(0, [])\n",
    "    return res\n"
   ],
   "id": "905ca8b59c4b5e93"
  }
 ],
 "metadata": {
  "kernelspec": {
   "display_name": "Python 3",
   "language": "python",
   "name": "python3"
  },
  "language_info": {
   "codemirror_mode": {
    "name": "ipython",
    "version": 2
   },
   "file_extension": ".py",
   "mimetype": "text/x-python",
   "name": "python",
   "nbconvert_exporter": "python",
   "pygments_lexer": "ipython2",
   "version": "2.7.6"
  }
 },
 "nbformat": 4,
 "nbformat_minor": 5
}
