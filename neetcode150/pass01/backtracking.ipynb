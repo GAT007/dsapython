{
 "cells": [
  {
   "metadata": {},
   "cell_type": "markdown",
   "source": "# Backtracking",
   "id": "8bd8d098518fc17a"
  },
  {
   "cell_type": "code",
   "id": "initial_id",
   "metadata": {
    "collapsed": true,
    "ExecuteTime": {
     "end_time": "2025-08-18T02:51:32.993771Z",
     "start_time": "2025-08-18T02:51:32.987667Z"
    }
   },
   "source": [
    "\"\"\"\n",
    "Subsets\n",
    "\"\"\"\n",
    "\n",
    "\n",
    "def subsets(nums):\n",
    "    res = []\n",
    "    subset = []\n",
    "\n",
    "    def dfs(i):\n",
    "        if i >= len(nums):\n",
    "            res.append(subset.copy())\n",
    "            return\n",
    "\n",
    "        subset.append(nums[i])\n",
    "        dfs(i + 1)\n",
    "        subset.pop()\n",
    "        dfs(i + 1)\n",
    "\n",
    "    dfs(0)\n",
    "    return res"
   ],
   "outputs": [],
   "execution_count": 1
  },
  {
   "metadata": {
    "ExecuteTime": {
     "end_time": "2025-08-18T02:53:01.058873Z",
     "start_time": "2025-08-18T02:53:01.052534Z"
    }
   },
   "cell_type": "code",
   "source": [
    "\"\"\"\n",
    "Combination Sum\n",
    "\"\"\"\n",
    "\n",
    "\n",
    "def combo_sum(nums, target):\n",
    "    res = []\n",
    "\n",
    "    def dfs(i, cur, total):\n",
    "        if total == target:\n",
    "            res.append(cur.copy())\n",
    "            return\n",
    "        if i >= len(nums) or total > target:\n",
    "            return\n",
    "\n",
    "        cur.append(nums[i])\n",
    "        dfs(i, cur, total + nums[i])\n",
    "        cur.pop()\n",
    "        dfs(i + 1, cur, total)\n",
    "\n",
    "    dfs(0, [], 0)\n",
    "    return res"
   ],
   "id": "7876be19965f04ad",
   "outputs": [],
   "execution_count": 2
  },
  {
   "metadata": {
    "ExecuteTime": {
     "end_time": "2025-08-18T02:55:54.110288Z",
     "start_time": "2025-08-18T02:55:54.102042Z"
    }
   },
   "cell_type": "code",
   "source": [
    "\"\"\"\n",
    "Combo sum 2\n",
    "\"\"\"\n",
    "\n",
    "\n",
    "def combo_sum_2(candidates, target):\n",
    "    res = []\n",
    "    candidates.sort()\n",
    "\n",
    "    def dfs(i, cur, total):\n",
    "        if total == target:\n",
    "            res.append(cur.copy())\n",
    "            return\n",
    "        if total > target or i == len(candidates):\n",
    "            return\n",
    "\n",
    "        cur.append(candidates[i])\n",
    "        dfs(i + 1, cur, total + candidates[i])\n",
    "        cur.pop()\n",
    "\n",
    "        while i + 1 < len(candidates) and candidates[i] == candidates[i + 1]:\n",
    "            i += 1\n",
    "        dfs(i + 1, cur, total)\n",
    "\n",
    "    dfs(0, [], 0)\n",
    "    return res\n"
   ],
   "id": "9542921f8731ee00",
   "outputs": [],
   "execution_count": 3
  },
  {
   "metadata": {
    "ExecuteTime": {
     "end_time": "2025-08-18T02:59:30.371932Z",
     "start_time": "2025-08-18T02:59:30.363403Z"
    }
   },
   "cell_type": "code",
   "source": [
    "\"\"\"\n",
    "Permutations\n",
    "\"\"\"\n",
    "\n",
    "\n",
    "def permute(nums):\n",
    "    res = []\n",
    "\n",
    "    def backtrack(perm, nums, pick):\n",
    "        if len(perm) == len(nums):\n",
    "            res.append(perm[:])\n",
    "            return\n",
    "\n",
    "        for i in range(len(nums)):\n",
    "            if not pick[i]:\n",
    "                perm.append(nums[i])\n",
    "                pick[i] = True\n",
    "                backtrack(perm, nums, pick)\n",
    "                perm.pop()\n",
    "                pick[i] = False"
   ],
   "id": "9c67aedeec48616c",
   "outputs": [],
   "execution_count": 4
  },
  {
   "metadata": {
    "ExecuteTime": {
     "end_time": "2025-08-18T03:02:01.457916Z",
     "start_time": "2025-08-18T03:02:01.449733Z"
    }
   },
   "cell_type": "code",
   "source": [
    "\"\"\"\n",
    "Subsets - 2\n",
    "\"\"\"\n",
    "\n",
    "\n",
    "def subsets_2(nums):\n",
    "    res = []\n",
    "    nums.sort()\n",
    "\n",
    "    def backtrack(i, subset):\n",
    "        if i == len(nums):\n",
    "            res.append(subset[::])\n",
    "            return\n",
    "\n",
    "        subset.append(nums[i])\n",
    "        backtrack(i + 1, subset)\n",
    "        subset.pop()\n",
    "\n",
    "        while i + 1 < len(nums) and nums[i] == nums[i + 1]:\n",
    "            i += 1\n",
    "        backtrack(i + 1, subset)\n",
    "\n",
    "    backtrack(0, [])\n",
    "    return res\n"
   ],
   "id": "17d1980e2b41816f",
   "outputs": [],
   "execution_count": 5
  },
  {
   "metadata": {
    "ExecuteTime": {
     "end_time": "2025-08-18T03:07:18.042848Z",
     "start_time": "2025-08-18T03:07:18.030319Z"
    }
   },
   "cell_type": "code",
   "source": [
    "\"\"\"\n",
    "Palindrome Partitioning\n",
    "\"\"\"\n",
    "\n",
    "\n",
    "def palindrome_partitioning(s):\n",
    "    res, part = [], []\n",
    "\n",
    "    def isPalindrome(s, l, r):\n",
    "        while l < r:\n",
    "            if s[l] != s[r]:\n",
    "                return False\n",
    "\n",
    "            l, r = l + 1, r - 1\n",
    "\n",
    "        return True\n",
    "\n",
    "    def dfs(i):\n",
    "        if i >= len(s):\n",
    "            res.append(part.copy())\n",
    "            return\n",
    "        for j in range(i, len(s)):\n",
    "            if isPalindrome(s, i, j):\n",
    "                part.append(s[i:j + 1])\n",
    "                dfs(j + 1)\n",
    "                part.pop()\n",
    "\n",
    "        dfs(0)\n",
    "        return res"
   ],
   "id": "b7167d4abef406a0",
   "outputs": [],
   "execution_count": 6
  },
  {
   "metadata": {
    "ExecuteTime": {
     "end_time": "2025-08-21T14:11:45.515737Z",
     "start_time": "2025-08-21T14:11:45.376154Z"
    }
   },
   "cell_type": "code",
   "source": [
    "\"\"\"\n",
    "Letter Combinations of a phone number\n",
    "\"\"\"\n",
    "\n",
    "\n",
    "def letter_combinations(digits):\n",
    "    res = []\n",
    "    digitToChar = {\n",
    "        \"2\": \"abc\",\n",
    "        \"3\": \"def\",\n",
    "        \"4\": \"ghi\",\n",
    "        \"5\": \"jkl\",\n",
    "        \"6\": \"mno\",\n",
    "        \"7\": \"qprs\",\n",
    "        \"8\": \"tuv\",\n",
    "        \"9\": \"wxyz\",\n",
    "    }\n",
    "\n",
    "    def backtrack(i, curStr):\n",
    "        if len(curStr) == len(digits):\n",
    "            res.append(curStr)\n",
    "            return\n",
    "\n",
    "        for c in digitToChar[digits[i]]:\n",
    "            backtrack(i + 1, curStr + c)\n",
    "\n",
    "    if digits:\n",
    "        backtrack(0, \"\")\n",
    "\n",
    "    return res"
   ],
   "id": "3a251f02a4c12cfa",
   "outputs": [],
   "execution_count": 7
  },
  {
   "metadata": {},
   "cell_type": "code",
   "outputs": [],
   "execution_count": null,
   "source": [
    "\"\"\"\n",
    "Word Search\n",
    "\"\"\"\n",
    "\n",
    "\n",
    "def word_search_dfs(board, word):\n",
    "    ROWS, COLS = len(board), len(board)[0]\n",
    "\n",
    "    def dfs(r, c, k):\n",
    "        if k == len(word):\n",
    "            return True\n",
    "\n",
    "        if not (0 <= r < ROWS and 0 <= c < COLS and board[r][c] == word[k]):\n",
    "            return False\n",
    "\n",
    "        temp = board[r][c]\n",
    "        board[r][c] = \"#\"\n",
    "\n",
    "        found = dfs(r + 1, c, k + 1) or dfs(r - 1, c, k + 1) or dfs(r, c + 1, k + 1) or dfs(r, c - 1, k + 1)\n",
    "\n",
    "        board[r][c] = temp\n",
    "        return found\n",
    "\n",
    "    for i in range(ROWS):\n",
    "        for j in range(COLS):\n",
    "            if board[i][j] == word[0]:\n",
    "                if dfs(i, j, 0):\n",
    "                    return True\n",
    "\n",
    "    return False\n",
    "\n"
   ],
   "id": "92545679a05cc1cf"
  }
 ],
 "metadata": {
  "kernelspec": {
   "display_name": "Python 3",
   "language": "python",
   "name": "python3"
  },
  "language_info": {
   "codemirror_mode": {
    "name": "ipython",
    "version": 2
   },
   "file_extension": ".py",
   "mimetype": "text/x-python",
   "name": "python",
   "nbconvert_exporter": "python",
   "pygments_lexer": "ipython2",
   "version": "2.7.6"
  }
 },
 "nbformat": 4,
 "nbformat_minor": 5
}
