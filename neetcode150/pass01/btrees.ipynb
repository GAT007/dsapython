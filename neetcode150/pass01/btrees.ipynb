{
 "cells": [
  {
   "metadata": {},
   "cell_type": "markdown",
   "source": "# Binary Trees",
   "id": "216b8ceeb3a22fd1"
  },
  {
   "cell_type": "code",
   "id": "initial_id",
   "metadata": {
    "collapsed": true,
    "ExecuteTime": {
     "end_time": "2025-08-15T13:57:29.680585Z",
     "start_time": "2025-08-15T13:57:29.657895Z"
    }
   },
   "source": [
    "\"\"\"\n",
    "Balanced Tree\n",
    "\"\"\"\n",
    "\n",
    "\n",
    "def isbalanced(root):\n",
    "    if not root:\n",
    "        return True\n",
    "\n",
    "    def dfs(curr):\n",
    "        if not curr:\n",
    "            return [True, 0]\n",
    "\n",
    "        left = dfs(curr.left)\n",
    "        right = dfs(curr.right)\n",
    "\n",
    "        balanced = left[0] and right[0] and abs(left[1] - right[1]) <= 1\n",
    "        return [balanced, 1 + max(left[1], right[1])]\n",
    "\n",
    "    return dfs(root)[0]"
   ],
   "outputs": [],
   "execution_count": 1
  },
  {
   "metadata": {
    "ExecuteTime": {
     "end_time": "2025-08-15T14:14:20.029708Z",
     "start_time": "2025-08-15T14:14:20.019134Z"
    }
   },
   "cell_type": "code",
   "source": [
    "\"\"\"\n",
    "Subtree of another tree\n",
    "\"\"\"\n",
    "\n",
    "\n",
    "def is_subtree(root, subroot):\n",
    "    def same_tree(root1, root2):\n",
    "        if not root1 and not root2:\n",
    "            return True\n",
    "\n",
    "        if not root1 or not root2:\n",
    "            return False\n",
    "\n",
    "        if root1.val != root2.val:\n",
    "            return False\n",
    "\n",
    "        return (root1.val == root2.val) and same_tree(root1.left, root2.left) and same_tree(root1.right, root2.right)\n",
    "\n",
    "    if not subroot:\n",
    "        return True\n",
    "\n",
    "    if not root:\n",
    "        return False\n",
    "\n",
    "    if same_tree(root, subroot):\n",
    "        return True\n",
    "\n",
    "    return same_tree(root.left, subroot) or same_tree(root.right, subroot)"
   ],
   "id": "7c0415d498c15d98",
   "outputs": [],
   "execution_count": 2
  },
  {
   "metadata": {
    "ExecuteTime": {
     "end_time": "2025-08-15T14:30:42.819279Z",
     "start_time": "2025-08-15T14:30:42.810922Z"
    }
   },
   "cell_type": "code",
   "source": [
    "\"\"\"\n",
    "Binary tree right side view\n",
    "\n",
    "-\n",
    "\"\"\"\n",
    "from collections import deque\n",
    "\n",
    "\n",
    "def right_side_view(root):\n",
    "    if not root:\n",
    "        return []\n",
    "\n",
    "    q = deque([root])\n",
    "    right_view = []\n",
    "\n",
    "    while q:\n",
    "        temp = []\n",
    "        for i in range(len(q)):\n",
    "            curr = q.popleft()\n",
    "            temp.append(curr.val)\n",
    "\n",
    "            if curr.left: q.append(curr.left)\n",
    "            if curr.right: q.append(curr.right)\n",
    "\n",
    "        right_view.append(temp.pop())\n",
    "\n",
    "    return right_view"
   ],
   "id": "4dc03146cc61f3b9",
   "outputs": [],
   "execution_count": 3
  },
  {
   "metadata": {
    "ExecuteTime": {
     "end_time": "2025-08-15T14:42:07.554081Z",
     "start_time": "2025-08-15T14:42:07.547922Z"
    }
   },
   "cell_type": "code",
   "source": [
    "\"\"\"\n",
    "Good Nodes\n",
    "\"\"\"\n",
    "\n",
    "from collections import deque\n",
    "\n",
    "\n",
    "def good_nodes(root):\n",
    "    if not root:\n",
    "        return 0\n",
    "\n",
    "    res = 0\n",
    "    q = deque([(root, float('-inf'))])\n",
    "\n",
    "    while q:\n",
    "        curr, maxval = q.popleft()\n",
    "        if curr.val >= maxval:\n",
    "            res += 1\n",
    "\n",
    "        if curr.left: q.append((curr.left, max(curr.val, maxval)))\n",
    "        if curr.right: q.append((curr.right, max(curr.val, maxval)))\n",
    "\n",
    "    return res"
   ],
   "id": "dc1c61aba8680aaa",
   "outputs": [],
   "execution_count": 4
  },
  {
   "metadata": {
    "ExecuteTime": {
     "end_time": "2025-08-15T17:00:32.638216Z",
     "start_time": "2025-08-15T17:00:32.626366Z"
    }
   },
   "cell_type": "code",
   "source": [
    "\"\"\"\n",
    "Valid binary search tree\n",
    "\"\"\"\n",
    "\n",
    "\n",
    "def valid_binary_tree(root):\n",
    "    if not root:\n",
    "        return True\n",
    "\n",
    "    q = deque([(root, float('-inf'), float('inf'))])\n",
    "\n",
    "    while q:\n",
    "        node, left, right = q.popleft()\n",
    "        if not (left < node.val < right):\n",
    "            return False\n",
    "\n",
    "        if node.left:\n",
    "            q.append((node.left, left, node.val))\n",
    "\n",
    "        if node.right:\n",
    "            q.append((node.right, node.val, right))\n",
    "\n",
    "    return True\n"
   ],
   "id": "be4583aeaffbc8c1",
   "outputs": [],
   "execution_count": 1
  },
  {
   "metadata": {
    "ExecuteTime": {
     "end_time": "2025-08-15T17:40:23.260699Z",
     "start_time": "2025-08-15T17:40:23.254149Z"
    }
   },
   "cell_type": "code",
   "source": [
    "\"\"\"\n",
    "Maximum Path Sum\n",
    "\"\"\"\n",
    "\n",
    "\n",
    "def max_path_sum(root):\n",
    "    if not root:\n",
    "        return 0\n",
    "\n",
    "    res = [root.val]\n",
    "\n",
    "    def dfs(root):\n",
    "        if not root:\n",
    "            return 0\n",
    "\n",
    "        leftmax = max(0, dfs(root.left))\n",
    "        rightmax = max(0, dfs(root.right))\n",
    "\n",
    "        res[0] = max(res[0], root.val + leftmax + rightmax)\n",
    "\n",
    "        return root.val + max(leftmax, rightmax)\n",
    "\n",
    "    dfs(root)\n",
    "    return res[0]"
   ],
   "id": "571f62cb7de62a97",
   "outputs": [],
   "execution_count": 2
  },
  {
   "metadata": {
    "ExecuteTime": {
     "end_time": "2025-08-15T17:42:43.269768Z",
     "start_time": "2025-08-15T17:42:43.261231Z"
    }
   },
   "cell_type": "code",
   "source": [
    "\"\"\"\n",
    "Serialize and deserialize a tree\n",
    "\"\"\"\n",
    "\n",
    "from collections import deque\n",
    "\n",
    "\n",
    "class Treenode:\n",
    "    def __init__(self, val, left, right):\n",
    "        self.val = val\n",
    "        self.left = left\n",
    "        self.right = right\n",
    "\n",
    "\n",
    "def serialize_a_tree(root):\n",
    "    if not root:\n",
    "        return \"N\"\n",
    "    res = []\n",
    "    q = deque([root])\n",
    "    while q:\n",
    "        curr = q.popleft()\n",
    "        if not curr:\n",
    "            res.append(\"N\")\n",
    "        else:\n",
    "            res.append(str(curr.val))\n",
    "            q.append(curr.left)\n",
    "            q.append(curr.right)\n",
    "\n",
    "    return \",\".join(res)\n",
    "\n",
    "\n",
    "def deserialize_a_tree(data):\n",
    "    if not data:\n",
    "        return None\n",
    "    vals = data.split(\",\")\n",
    "\n",
    "    if vals[0] == \"N\":\n",
    "        return None\n",
    "\n",
    "    root = Treenode(int(vals[0]))\n",
    "    q = deque([root])\n",
    "    index = 1\n",
    "\n",
    "    while q:\n",
    "        node = q.popleft()\n",
    "        if vals[index] != \"N\":\n",
    "            node.left = Treenode(int(vals[index]))\n",
    "            q.append(node.left)\n",
    "        index += 1\n",
    "        if vals[index] != \"N\":\n",
    "            node.right = Treenode(int(vals[index]))\n",
    "            q.append(node.right)\n",
    "\n",
    "        index += 1\n",
    "\n",
    "    return root"
   ],
   "id": "e3661a6a5c3cef6",
   "outputs": [],
   "execution_count": 3
  },
  {
   "metadata": {},
   "cell_type": "code",
   "outputs": [],
   "execution_count": null,
   "source": "",
   "id": "723078d0155622e7"
  }
 ],
 "metadata": {
  "kernelspec": {
   "display_name": "Python 3",
   "language": "python",
   "name": "python3"
  },
  "language_info": {
   "codemirror_mode": {
    "name": "ipython",
    "version": 2
   },
   "file_extension": ".py",
   "mimetype": "text/x-python",
   "name": "python",
   "nbconvert_exporter": "python",
   "pygments_lexer": "ipython2",
   "version": "2.7.6"
  }
 },
 "nbformat": 4,
 "nbformat_minor": 5
}
