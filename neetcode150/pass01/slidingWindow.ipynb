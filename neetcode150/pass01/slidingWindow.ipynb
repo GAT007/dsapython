{
 "cells": [
  {
   "metadata": {},
   "cell_type": "markdown",
   "source": "# Sliding Window",
   "id": "39f8386c5c12d453"
  },
  {
   "cell_type": "code",
   "id": "initial_id",
   "metadata": {
    "collapsed": true,
    "ExecuteTime": {
     "end_time": "2025-08-17T20:44:04.529226Z",
     "start_time": "2025-08-17T20:44:04.517999Z"
    }
   },
   "source": [
    "\"\"\"\n",
    "Best time to buy  and sell a stock\n",
    "\"\"\"\n",
    "\n",
    "\n",
    "def best_time_to_buy_and_sell(prices):\n",
    "    l, r = 0, 1\n",
    "    max_profit = 0\n",
    "\n",
    "    while r < len(prices):\n",
    "        if prices[l] < prices[r]:\n",
    "            profit = prices[r] - prices[l]\n",
    "            max_profit = max(profit, max_profit)\n",
    "        else:\n",
    "            l = r\n",
    "        r += 1\n",
    "    return max_profit"
   ],
   "outputs": [],
   "execution_count": 1
  },
  {
   "metadata": {
    "ExecuteTime": {
     "end_time": "2025-08-17T20:52:27.233162Z",
     "start_time": "2025-08-17T20:52:27.221035Z"
    }
   },
   "cell_type": "code",
   "source": [
    "\"\"\"\n",
    "Longest substring without repeating characters\n",
    "\"\"\"\n",
    "\n",
    "\n",
    "def longest_substring(s):\n",
    "    charset = set()\n",
    "    l = 0\n",
    "    length = 0\n",
    "\n",
    "    for r in range(len(s)):\n",
    "        while s[r] in charset:\n",
    "            charset.remove(s[l])\n",
    "            l += 1\n",
    "        charset.add(s[r])\n",
    "        length = max(length, r - l + 1)\n",
    "\n",
    "    return length"
   ],
   "id": "c915fce47015d283",
   "outputs": [],
   "execution_count": 2
  },
  {
   "metadata": {
    "ExecuteTime": {
     "end_time": "2025-08-17T22:46:46.734380Z",
     "start_time": "2025-08-17T22:46:46.726712Z"
    }
   },
   "cell_type": "code",
   "source": [
    "\"\"\"\n",
    "Longest repeating character replacement\n",
    "\"\"\"\n",
    "from collections import defaultdict\n",
    "\n",
    "\n",
    "def characterReplacement(s, k):\n",
    "    count = defaultdict(int)\n",
    "    res = 0\n",
    "\n",
    "    l = 0\n",
    "    maxf = 0\n",
    "    for r in range(len(s)):\n",
    "        #Increment the character count in the character map\n",
    "        count[s[r]] += 1\n",
    "        #Keep a track of the maximum frequency from the character map\n",
    "        maxf = max(maxf, count[s[r]])\n",
    "\n",
    "        #Here the condition is, window size - max frequency > k\n",
    "        #As long as the condition holds true, keep making the window size lesser\n",
    "        while (r - l + 1) - maxf > k:\n",
    "            count[s[l]] -= 1\n",
    "            l += 1\n",
    "\n",
    "        #Once the condition is satisfied, calculate the result\n",
    "        #Which is nothing but the maximum window size so far\n",
    "        res = max(res, r - l + 1)\n",
    "\n",
    "    return res"
   ],
   "id": "7445daf6ab13b34c",
   "outputs": [],
   "execution_count": 3
  },
  {
   "metadata": {
    "ExecuteTime": {
     "end_time": "2025-08-17T22:58:00.814372Z",
     "start_time": "2025-08-17T22:58:00.802236Z"
    }
   },
   "cell_type": "code",
   "source": [
    "\"\"\"\n",
    "Permutation in a string\n",
    "\"\"\"\n",
    "from collections import defaultdict\n",
    "\n",
    "\n",
    "def permutation_in_a_string(s1, s2):\n",
    "    if len(s1) > len(s2):\n",
    "        return False\n",
    "\n",
    "    s1_character_map = defaultdict(int)\n",
    "    s2_character_map = defaultdict(int)\n",
    "\n",
    "    for i in range(len(s1)):\n",
    "        s1_character_map[s1[i]] += 1\n",
    "        s2_character_map[s2[i]] += 1\n",
    "\n",
    "    if s1_character_map == s2_character_map:\n",
    "        return True\n",
    "\n",
    "    l = 0\n",
    "    for r in range(len(s1), len(s2)):\n",
    "        s2_character_map[s2[r]] += 1\n",
    "        s2_character_map[s1[r]] -= 1\n",
    "\n",
    "        l += 1\n",
    "\n",
    "        if s2_character_map[s2[l]] == 0:\n",
    "            del s2_character_map[s2[l]]\n",
    "\n",
    "        if s1_character_map == s2_character_map:\n",
    "            return True\n",
    "\n",
    "    return False\n"
   ],
   "id": "71ed325903e2ae1d",
   "outputs": [],
   "execution_count": 4
  },
  {
   "metadata": {
    "ExecuteTime": {
     "end_time": "2025-08-17T23:03:04.671094Z",
     "start_time": "2025-08-17T23:03:04.661034Z"
    }
   },
   "cell_type": "code",
   "source": [
    "\"\"\"\n",
    "Maximum window substring\n",
    "\"\"\"\n",
    "\n",
    "\n",
    "def maximum_window_substring(s, t):\n",
    "    if t == \"\":\n",
    "        return \"\"\n",
    "\n",
    "    countT, window = {}, {}\n",
    "\n",
    "    for c in t:\n",
    "        countT[c] = 1 + countT.get(c, 0)\n",
    "\n",
    "    have, need = 0, len(countT)\n",
    "\n",
    "    res, resLen = [-1, -1], float('inf')\n",
    "    l = 0\n",
    "    for r in range(len(s)):\n",
    "        c = s[r]\n",
    "        window[c] = 1 + window.get(c, 0)\n",
    "\n",
    "        if c in countT and window[c] == countT[c]:\n",
    "            have += 1\n",
    "\n",
    "        while have == need:\n",
    "            if (r - l + 1) < resLen:\n",
    "                res = [l, r]\n",
    "                resLen = r - l + 1\n",
    "\n",
    "            window[s[l]] -= 1\n",
    "            if s[l] in countT and window[s[l]] < countT[s[l]]:\n",
    "                have -= 1\n",
    "\n",
    "            l += 1\n",
    "\n",
    "    l, r = res\n",
    "    return s[l:r + 1] if resLen != float('inf') else \"\""
   ],
   "id": "a3906b107a3e589f",
   "outputs": [],
   "execution_count": 5
  },
  {
   "metadata": {},
   "cell_type": "code",
   "outputs": [],
   "execution_count": null,
   "source": [
    "\"\"\"\n",
    "Sliding window maximum\n",
    "Heap Approach O(n log n)\n",
    "Queue Approach Deque\n",
    "\"\"\"\n",
    "\n",
    "import heapq\n",
    "\n",
    "\n",
    "def max_sliding_window(nums, k):\n",
    "    heap = []\n",
    "    output = []\n",
    "    for i in range(len(nums)):\n",
    "        heapq.heappush(heap, (-nums[i], i))\n",
    "        if i >= k - 1:\n",
    "            while heap[0][1] <= i - k:\n",
    "                heapq.heappop(heap)\n",
    "            output.append(-heap[0][0])\n",
    "\n",
    "    return output\n"
   ],
   "id": "f54b5ec65c439c4d"
  }
 ],
 "metadata": {
  "kernelspec": {
   "display_name": "Python 3",
   "language": "python",
   "name": "python3"
  },
  "language_info": {
   "codemirror_mode": {
    "name": "ipython",
    "version": 2
   },
   "file_extension": ".py",
   "mimetype": "text/x-python",
   "name": "python",
   "nbconvert_exporter": "python",
   "pygments_lexer": "ipython2",
   "version": "2.7.6"
  }
 },
 "nbformat": 4,
 "nbformat_minor": 5
}
