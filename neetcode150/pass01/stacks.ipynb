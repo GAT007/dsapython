{
 "cells": [
  {
   "metadata": {},
   "cell_type": "markdown",
   "source": "# Stacks",
   "id": "f735070df7c1edf0"
  },
  {
   "cell_type": "code",
   "id": "initial_id",
   "metadata": {
    "collapsed": true,
    "ExecuteTime": {
     "end_time": "2025-08-17T23:24:59.038016Z",
     "start_time": "2025-08-17T23:24:59.022046Z"
    }
   },
   "source": [
    "\"\"\"\n",
    "Valid parentheses\n",
    "\"\"\"\n",
    "\n",
    "\n",
    "def valid_parentheses(s1):\n",
    "    bracket_map = {')': '(', '}': '{', ']': '['}\n",
    "    stack = []\n",
    "    for c in s1:\n",
    "        if stack and c in bracket_map and bracket_map[c] == stack[-1]:\n",
    "            stack.pop()\n",
    "        else:\n",
    "            stack.append(c)\n",
    "    return len(stack) == 0"
   ],
   "outputs": [],
   "execution_count": 1
  },
  {
   "metadata": {
    "ExecuteTime": {
     "end_time": "2025-08-17T23:27:44.893823Z",
     "start_time": "2025-08-17T23:27:44.888121Z"
    }
   },
   "cell_type": "code",
   "source": [
    "\"\"\"\n",
    "Minimum Stack\n",
    "\"\"\"\n",
    "\n",
    "\n",
    "class MinStack:\n",
    "    def __init__(self):\n",
    "        self.stack = []\n",
    "\n",
    "    def push(self, val):\n",
    "        if self.stack:\n",
    "            self.stack.append((val, self.stack[-1][1]))\n",
    "        else:\n",
    "            self.stack.append((val, val))\n",
    "\n",
    "    def pop(self):\n",
    "        return self.stack.pop()[0]\n",
    "\n",
    "    def getMin(self):\n",
    "        return self.stack[-1][1]\n",
    "\n",
    "    def top(self):\n",
    "        return self.stack[-1][0]\n",
    "\n"
   ],
   "id": "e25043d3a8ee6ea1",
   "outputs": [],
   "execution_count": 2
  },
  {
   "metadata": {
    "ExecuteTime": {
     "end_time": "2025-08-17T23:41:33.194017Z",
     "start_time": "2025-08-17T23:41:33.185311Z"
    }
   },
   "cell_type": "code",
   "source": [
    "\"\"\"\n",
    "Evaluate Reverse Polish Notation\n",
    "\"\"\"\n",
    "\n",
    "\n",
    "def eval_reverse_polish_notation(st):\n",
    "    stack = []\n",
    "    invalid_msg = \"Invalid expression detected. Gracefully exiting!\"\n",
    "    for s in st:\n",
    "        if s.isnumeric():\n",
    "            stack.append(int(s))\n",
    "        else:\n",
    "            if len(stack) < 2:\n",
    "                return invalid_msg\n",
    "            s2 = stack.pop()\n",
    "            s1 = stack.pop()\n",
    "            if s == '+':\n",
    "                stack.append(s1 + s2)\n",
    "            elif s == '-':\n",
    "                stack.append(s2 - s1)\n",
    "            elif s == '*':\n",
    "                stack.append(s1 * s2)\n",
    "            elif s == '/':\n",
    "                stack.append(int(s2 / s1))\n",
    "\n",
    "            else:\n",
    "                return invalid_msg\n",
    "\n",
    "    return stack[0] if len(stack) == 1 else invalid_msg"
   ],
   "id": "c1d120340b620e25",
   "outputs": [],
   "execution_count": 3
  },
  {
   "metadata": {
    "ExecuteTime": {
     "end_time": "2025-08-17T23:43:44.277768Z",
     "start_time": "2025-08-17T23:43:44.271310Z"
    }
   },
   "cell_type": "code",
   "source": [
    "\"\"\"\n",
    "Generate Parenthesis\n",
    "\"\"\"\n",
    "\n",
    "\n",
    "def generate_parenthesis(n):\n",
    "    res = [[] for _ in range(n + 1)]\n",
    "    res[0] = \"\"\n",
    "\n",
    "    for k in range(n + 1):\n",
    "        for i in range(k):\n",
    "            for left in res[i]:\n",
    "                for right in res[k - i - 1]:\n",
    "                    res[k].append(\"(\" + left + \")\" + right)\n",
    "\n",
    "    return res[-1]"
   ],
   "id": "27baafff7dfb7d2d",
   "outputs": [],
   "execution_count": 4
  },
  {
   "metadata": {
    "ExecuteTime": {
     "end_time": "2025-08-18T00:05:36.312512Z",
     "start_time": "2025-08-18T00:05:36.299015Z"
    }
   },
   "cell_type": "code",
   "source": [
    "\"\"\"\n",
    "Daily temps\n",
    "\"\"\"\n",
    "\n",
    "\n",
    "def dailyTemps(temps):\n",
    "    res = [0]\n",
    "    stack = []\n",
    "\n",
    "    for idx, temp in enumerate(temps):\n",
    "        while stack and temp > stack[-1][0]:\n",
    "            stackT, stackIdx = stack.pop()\n",
    "            res[stackIdx] = idx - stackIdx\n",
    "        stack.append((temp, idx))\n",
    "\n",
    "    return res"
   ],
   "id": "f40dd1ed2bb365cc",
   "outputs": [],
   "execution_count": 6
  },
  {
   "metadata": {
    "ExecuteTime": {
     "end_time": "2025-08-18T00:07:38.142359Z",
     "start_time": "2025-08-18T00:07:38.130573Z"
    }
   },
   "cell_type": "code",
   "source": [
    "\"\"\"\n",
    "Car fleet\n",
    "\"\"\"\n",
    "\n",
    "\n",
    "def car_fleet(target, position, speed):\n",
    "    pair = [(p, s) for p, s in zip(position, speed)]\n",
    "    pair.sort(reverse=True)\n",
    "\n",
    "    stack = []\n",
    "\n",
    "    for p, s in pair:\n",
    "        stack.append((target - p) / s)\n",
    "        if len(stack) >= 2 and stack[-1] <= stack[-2]:\n",
    "            stack.pop()\n",
    "\n",
    "    return len(stack)"
   ],
   "id": "de2a7d2ab34e40b9",
   "outputs": [],
   "execution_count": 7
  },
  {
   "metadata": {},
   "cell_type": "code",
   "outputs": [],
   "execution_count": null,
   "source": [
    "\"\"\"\n",
    "Largest Rectangle in a histogram\n",
    "\"\"\""
   ],
   "id": "7816d5945dd18c30"
  }
 ],
 "metadata": {
  "kernelspec": {
   "display_name": "Python 3",
   "language": "python",
   "name": "python3"
  },
  "language_info": {
   "codemirror_mode": {
    "name": "ipython",
    "version": 2
   },
   "file_extension": ".py",
   "mimetype": "text/x-python",
   "name": "python",
   "nbconvert_exporter": "python",
   "pygments_lexer": "ipython2",
   "version": "2.7.6"
  }
 },
 "nbformat": 4,
 "nbformat_minor": 5
}
