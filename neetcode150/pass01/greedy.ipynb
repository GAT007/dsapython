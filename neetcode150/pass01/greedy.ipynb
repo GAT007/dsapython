{
 "cells": [
  {
   "metadata": {},
   "cell_type": "markdown",
   "source": "# Greedy",
   "id": "5b7642f40142af72"
  },
  {
   "cell_type": "code",
   "id": "initial_id",
   "metadata": {
    "collapsed": true,
    "ExecuteTime": {
     "end_time": "2025-08-17T04:50:52.937484Z",
     "start_time": "2025-08-17T04:50:52.928397Z"
    }
   },
   "source": [
    "\"\"\"\n",
    "Max Subarray\n",
    "\"\"\"\n",
    "\n",
    "\n",
    "def max_subarray(nums):\n",
    "    dp = [*nums]\n",
    "    for i, n in enumerate(nums):\n",
    "        dp[i] = max(n, dp[i - 1] + n)\n",
    "    return max(dp)\n",
    "\n",
    "\n",
    "def max_subarray_kadanes(nums):\n",
    "    maxsub, cursum = nums[0], 0\n",
    "    for num in nums:\n",
    "        if cursum < 0:\n",
    "            cursum = 0\n",
    "\n",
    "        cursum += num\n",
    "        maxsub = max(maxsub, cursum)\n",
    "    return maxsub"
   ],
   "outputs": [],
   "execution_count": 1
  },
  {
   "metadata": {
    "ExecuteTime": {
     "end_time": "2025-08-17T04:57:13.145901Z",
     "start_time": "2025-08-17T04:57:13.136450Z"
    }
   },
   "cell_type": "code",
   "source": [
    "\"\"\"\n",
    "Jump Game\n",
    "\"\"\"\n",
    "\n",
    "\n",
    "def jump_game(nums):\n",
    "    n = len(nums)\n",
    "    dp = [False] * n\n",
    "    dp[-1] = True\n",
    "\n",
    "    for i in range(n - 2, -1, -1):\n",
    "        end = min(n, i + nums[i] + 1)\n",
    "        for j in range(i + 1, end):\n",
    "            if dp[j]:\n",
    "                dp[i] = True\n",
    "                break\n",
    "    return dp[0]"
   ],
   "id": "b50584ef0cb03b5e",
   "outputs": [],
   "execution_count": 2
  },
  {
   "metadata": {
    "ExecuteTime": {
     "end_time": "2025-08-17T05:00:47.025938Z",
     "start_time": "2025-08-17T05:00:47.012465Z"
    }
   },
   "cell_type": "code",
   "source": [
    "\"\"\"\n",
    "Jump Game 2\n",
    "\"\"\"\n",
    "\n",
    "\n",
    "def jump_game_2(nums):\n",
    "    n = len(nums)\n",
    "    dp = [1000000] * n\n",
    "    dp[-1] = 0\n",
    "\n",
    "    for i in range(n - 2, -1, -1):\n",
    "        end = min(n, i + nums[i] + 1)\n",
    "        for j in range(i + 1, end):\n",
    "            dp[i] = min(dp[i], 1 + dp[j])\n",
    "\n",
    "    return dp[0]\n",
    "\n",
    "\n",
    "def jump_game_2_greedy(nums):\n",
    "    res = 0\n",
    "    l = r = 0\n",
    "\n",
    "    while r < len(nums) - 1:\n",
    "        farthest = 0\n",
    "        for i in range(l, r + 1):\n",
    "            farthest = max(farthest, i + nums[i])\n",
    "\n",
    "        l = r + 1\n",
    "        r = farthest\n",
    "        res += 1\n",
    "\n",
    "    return res"
   ],
   "id": "863b1d417899ec5",
   "outputs": [],
   "execution_count": 3
  },
  {
   "metadata": {
    "ExecuteTime": {
     "end_time": "2025-08-17T05:03:57.599711Z",
     "start_time": "2025-08-17T05:03:57.592985Z"
    }
   },
   "cell_type": "code",
   "source": [
    "\"\"\"\n",
    "Gas Stations\n",
    "\"\"\"\n",
    "\n",
    "\n",
    "def gas_stations(gas, cost):\n",
    "    if sum(gas) < sum(cost):\n",
    "        return -1\n",
    "\n",
    "    total = 0\n",
    "    res = 0\n",
    "\n",
    "    for i in range(len(gas)):\n",
    "        total += (gas[i] - cost[i])\n",
    "\n",
    "        if total < 0:\n",
    "            total = 0\n",
    "            res = i + 1\n",
    "\n",
    "    return res"
   ],
   "id": "696b4088d6c4964f",
   "outputs": [],
   "execution_count": 4
  },
  {
   "metadata": {
    "ExecuteTime": {
     "end_time": "2025-08-17T05:10:12.184283Z",
     "start_time": "2025-08-17T05:10:12.175115Z"
    }
   },
   "cell_type": "code",
   "source": [
    "\"\"\"\n",
    "Hand of straights\n",
    "\"\"\"\n",
    "\n",
    "import heapq\n",
    "\n",
    "\n",
    "def hand_of_straights(hand, group_size):\n",
    "    if len(hand) % group_size:\n",
    "        return False\n",
    "\n",
    "    count = {}\n",
    "    for n in hand:\n",
    "        count[n] = 1 + count.get(n, 0)\n",
    "\n",
    "    minH = list(count.keys())\n",
    "\n",
    "    heapq.heapify(minH)\n",
    "    while minH:\n",
    "        first = minH[0]\n",
    "        for i in range(first, first + group_size):\n",
    "            if i not in count:\n",
    "                return False\n",
    "\n",
    "            count[i] -= 1\n",
    "\n",
    "            if count[i] == 0:\n",
    "                if i != minH[0]:\n",
    "                    return False\n",
    "                heapq.heappop(minH)\n",
    "\n",
    "    return True\n"
   ],
   "id": "b0f07d90de3f6167",
   "outputs": [],
   "execution_count": 5
  },
  {
   "metadata": {
    "ExecuteTime": {
     "end_time": "2025-08-17T05:11:57.166039Z",
     "start_time": "2025-08-17T05:11:57.159512Z"
    }
   },
   "cell_type": "code",
   "source": [
    "\"\"\"\n",
    "Merge Triplets\n",
    "\"\"\"\n",
    "\n",
    "\n",
    "def merge_triplets(triplets, target):\n",
    "    good = set()\n",
    "    for t in triplets:\n",
    "        if t[0] > target[0] or t[1] > target[1] or t[2] > target[2]:\n",
    "            continue\n",
    "\n",
    "        for i, v in enumerate(t):\n",
    "            if v == target[i]:\n",
    "                good.add(i)\n",
    "\n",
    "    return len(good) == 3"
   ],
   "id": "9f40ed089fc9bd95",
   "outputs": [],
   "execution_count": 6
  },
  {
   "metadata": {
    "ExecuteTime": {
     "end_time": "2025-08-17T05:15:55.434023Z",
     "start_time": "2025-08-17T05:15:55.426474Z"
    }
   },
   "cell_type": "code",
   "source": [
    "\"\"\"\n",
    "Partition Labels\n",
    "\"\"\"\n",
    "from collections import defaultdict\n",
    "\n",
    "\n",
    "def parition_labels(s):\n",
    "    last_index = defaultdict(int)\n",
    "\n",
    "    for i, c in enumerate(s):\n",
    "        last_index[c] = i\n",
    "\n",
    "    res = []\n",
    "\n",
    "    size = end = 0\n",
    "    for i, c in enumerate(s):\n",
    "        size += 1\n",
    "        end = max(end, last_index[c])\n",
    "\n",
    "        if i == end:\n",
    "            res.append(size)\n",
    "            size = 0\n",
    "\n",
    "    return res"
   ],
   "id": "38e9934aa9e77874",
   "outputs": [],
   "execution_count": 7
  },
  {
   "metadata": {},
   "cell_type": "code",
   "outputs": [],
   "execution_count": null,
   "source": [
    "\"\"\"\n",
    "Valid parenthesis string\n",
    "\"\"\"\n",
    "\n",
    "\n",
    "def valid_string(s):\n",
    "    left = []\n",
    "    star = []\n",
    "    for i, ch in enumerate(s):\n",
    "        if ch == '(':\n",
    "            left.append(i)\n",
    "        elif ch == '*':\n",
    "            star.append(i)\n",
    "\n",
    "        else:\n",
    "            if not left and not star:\n",
    "                return False\n",
    "            if left:\n",
    "                left.pop()\n",
    "            else:\n",
    "                star.pop()\n",
    "\n",
    "    while left and star:\n",
    "        if left.pop() and star.pop():\n",
    "            return False\n",
    "\n",
    "    return not left"
   ],
   "id": "243ad54bf0804765"
  }
 ],
 "metadata": {
  "kernelspec": {
   "display_name": "Python 3",
   "language": "python",
   "name": "python3"
  },
  "language_info": {
   "codemirror_mode": {
    "name": "ipython",
    "version": 2
   },
   "file_extension": ".py",
   "mimetype": "text/x-python",
   "name": "python",
   "nbconvert_exporter": "python",
   "pygments_lexer": "ipython2",
   "version": "2.7.6"
  }
 },
 "nbformat": 4,
 "nbformat_minor": 5
}
