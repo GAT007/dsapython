{
 "cells": [
  {
   "metadata": {},
   "cell_type": "markdown",
   "source": "# Dynamic Programming",
   "id": "d64211cbc89039f0"
  },
  {
   "cell_type": "code",
   "id": "initial_id",
   "metadata": {
    "collapsed": true,
    "ExecuteTime": {
     "end_time": "2025-08-17T02:20:45.688820Z",
     "start_time": "2025-08-17T02:20:45.681714Z"
    }
   },
   "source": [
    "\"\"\"\n",
    "Climbing Stairs\n",
    "\"\"\"\n",
    "\n",
    "\n",
    "def climbing_stairs(n):\n",
    "    dp = [0] * n + 1\n",
    "    dp[1] = 1\n",
    "    dp[2] = 2\n",
    "\n",
    "    for i in range(3, n + 1):\n",
    "        dp[i] = dp[i - 1] + dp[i - 2]\n",
    "\n",
    "    return dp[n]\n"
   ],
   "outputs": [],
   "execution_count": 1
  },
  {
   "metadata": {
    "ExecuteTime": {
     "end_time": "2025-08-17T02:34:12.322286Z",
     "start_time": "2025-08-17T02:34:12.313225Z"
    }
   },
   "cell_type": "code",
   "source": [
    "\"\"\"\n",
    "Min Cost Climbing Stairs\n",
    "\"\"\"\n",
    "\n",
    "\n",
    "def min_cost_climbing_stairs(cost):\n",
    "    n = len(cost)\n",
    "    dp = [0] * (n + 1)\n",
    "\n",
    "    for i in range(2, n + 1):\n",
    "        dp[i] = min(dp[i - 1] + cost[i - 1], dp[i - 2] + cost[i - 2])\n",
    "\n",
    "    return dp[n]\n"
   ],
   "id": "8889e15b6a64e505",
   "outputs": [],
   "execution_count": 2
  },
  {
   "metadata": {
    "ExecuteTime": {
     "end_time": "2025-08-17T02:38:25.617738Z",
     "start_time": "2025-08-17T02:38:25.609841Z"
    }
   },
   "cell_type": "code",
   "source": [
    "\"\"\"\n",
    "House Robber\n",
    "\"\"\"\n",
    "\n",
    "\n",
    "def house_robber(nums):\n",
    "    if not nums:\n",
    "        return 0\n",
    "\n",
    "    if len(nums) == 1:\n",
    "        return nums[0]\n",
    "\n",
    "    dp = [0] * len(nums)\n",
    "    dp[0] = nums[0]\n",
    "    dp[1] = max(nums[0], nums[1])\n",
    "\n",
    "    for i in range(2, len(nums)):\n",
    "        dp[i] = max(dp[i - 1], nums[i] + dp[i - 2])\n",
    "\n",
    "    return dp[-1]"
   ],
   "id": "777ae7468ebd1d02",
   "outputs": [],
   "execution_count": 3
  },
  {
   "metadata": {
    "ExecuteTime": {
     "end_time": "2025-08-17T02:44:37.368657Z",
     "start_time": "2025-08-17T02:44:37.361089Z"
    }
   },
   "cell_type": "code",
   "source": [
    "\"\"\"\n",
    "House Robber 2\n",
    "\"\"\"\n",
    "\n",
    "\n",
    "def rob(nums):\n",
    "    if len(nums) == 1:\n",
    "        return nums[0]\n",
    "\n",
    "    def helper(nums):\n",
    "        n = len(nums)\n",
    "        dp = [0] * n\n",
    "        dp[0] = nums[0]\n",
    "        dp[1] = max(nums[0], nums[1])\n",
    "\n",
    "        for i in range(2, n):\n",
    "            dp[i] = max(dp[i - 1], nums[i] + dp[i - 2])\n",
    "\n",
    "        return dp[-1]\n",
    "\n",
    "    return max(helper(nums[1:]), helper(nums[:-1]))"
   ],
   "id": "d9fc724c03da15d1",
   "outputs": [],
   "execution_count": 4
  },
  {
   "metadata": {
    "ExecuteTime": {
     "end_time": "2025-08-17T03:12:22.247183Z",
     "start_time": "2025-08-17T03:12:22.226965Z"
    }
   },
   "cell_type": "code",
   "source": [
    "\"\"\"\n",
    "Longest palindromic substring\n",
    "\"\"\"\n",
    "\n",
    "\n",
    "def longest_palindrome(s):\n",
    "    resIdx, resLen = 0, 0\n",
    "    n = len(s)\n",
    "\n",
    "    dp = [[False] * n for _ in range(n)]\n",
    "\n",
    "    for i in range(n - 1, -1, -1):\n",
    "        for j in range(i, n):\n",
    "            if s[i] == s[j] and (j - i <= 2 or dp[i + 1][j - 1]):\n",
    "                dp[i][j] = True\n",
    "                if resLen < (j - i + 1):\n",
    "                    resIdx = i\n",
    "                    resLen = j - i + 1\n",
    "\n",
    "    return s[resIdx: resIdx + resLen]"
   ],
   "id": "38617a7ee09d6405",
   "outputs": [],
   "execution_count": 1
  },
  {
   "metadata": {
    "ExecuteTime": {
     "end_time": "2025-08-17T03:57:26.544850Z",
     "start_time": "2025-08-17T03:57:26.535334Z"
    }
   },
   "cell_type": "code",
   "source": [
    "\"\"\"\n",
    "Palindromic Substrings\n",
    "\"\"\"\n",
    "\n",
    "\"\"\"\n",
    "Two Pointer approach\n",
    "\"\"\"\n",
    "\n",
    "\n",
    "def count_substrings(s):\n",
    "    res = 0\n",
    "\n",
    "    for i in range(len(s)):\n",
    "        res += countPalindrome(s, i, i)\n",
    "        res += countPalindrome(s, i, i + 1)\n",
    "    return res\n",
    "\n",
    "\n",
    "def countPalindrome(s, l, r):\n",
    "    res = 0\n",
    "\n",
    "    while l >= 0 and r < len(s) and s[l] == s[r]:\n",
    "        res += 1\n",
    "        l -= 1\n",
    "        r += 1\n",
    "\n",
    "    return res"
   ],
   "id": "ffa1ba7795059b36",
   "outputs": [],
   "execution_count": 2
  },
  {
   "metadata": {
    "ExecuteTime": {
     "end_time": "2025-08-17T04:01:04.212510Z",
     "start_time": "2025-08-17T04:01:04.203135Z"
    }
   },
   "cell_type": "code",
   "source": [
    "\"\"\"\n",
    "Decode Ways\n",
    "\"\"\"\n",
    "\n",
    "\n",
    "def decode_ways(s):\n",
    "    dp = {len(s): 1}\n",
    "    for i in range(len(s) - 1, -1, -1):\n",
    "        if s[i] == \"0\":\n",
    "            dp[i] = 0\n",
    "        else:\n",
    "            dp[i] = dp[i + 1]\n",
    "\n",
    "        if i + 1 < len(s) and (s[i] == \"1\" or s[i] == \"2\" and s[i + 1] in \"0123456\"):\n",
    "            dp[i] += dp[i + 2]\n",
    "\n",
    "    return dp[0]"
   ],
   "id": "7f2dbfbdf289c5b6",
   "outputs": [],
   "execution_count": 4
  },
  {
   "metadata": {
    "ExecuteTime": {
     "end_time": "2025-08-17T04:04:14.738852Z",
     "start_time": "2025-08-17T04:04:14.730111Z"
    }
   },
   "cell_type": "code",
   "source": [
    "\"\"\"\n",
    "Coin change\n",
    "\"\"\"\n",
    "\n",
    "\n",
    "def coin_change(coins, target):\n",
    "    dp = [target + 1] * (target + 1)\n",
    "    dp[0] = 0\n",
    "\n",
    "    for i in range(target + 1):\n",
    "        for c in coins:\n",
    "            if i - c >= 0:\n",
    "                dp[i] = min(dp[i], 1 + dp[i - c])\n",
    "\n",
    "    return dp[target] if dp[target] != target + 1 else -1"
   ],
   "id": "4094f2e8fc9dba80",
   "outputs": [],
   "execution_count": 5
  },
  {
   "metadata": {
    "ExecuteTime": {
     "end_time": "2025-08-17T04:06:19.358967Z",
     "start_time": "2025-08-17T04:06:19.351921Z"
    }
   },
   "cell_type": "code",
   "source": [
    "\"\"\"\n",
    "Maximum product subarray\n",
    "Kadane's algorithm\n",
    "\"\"\"\n",
    "\n",
    "\n",
    "def maxProduct(nums):\n",
    "    res = nums[0]\n",
    "    curMin, curMax = 1, 1\n",
    "\n",
    "    for num in nums:\n",
    "        tmp = curMax * num\n",
    "        curMax = max(num * curMax, num * curMin, num)\n",
    "        curMin = min(tmp, num * curMin, num)\n",
    "        res = max(res, curMax)\n",
    "    return res"
   ],
   "id": "9e028983fd137b00",
   "outputs": [],
   "execution_count": 6
  },
  {
   "metadata": {
    "ExecuteTime": {
     "end_time": "2025-08-17T04:24:25.741513Z",
     "start_time": "2025-08-17T04:24:25.731110Z"
    }
   },
   "cell_type": "code",
   "source": [
    "\"\"\"\n",
    "Word Break\n",
    "\"\"\"\n",
    "\n",
    "\n",
    "def word_break(s, wordDict):\n",
    "    dp = [False] * (len(s) + 1)\n",
    "    dp[len(s)] = True\n",
    "\n",
    "    for i in range(len(s) - 1, -1, -1):\n",
    "        for w in wordDict:\n",
    "            if (i + len(w)) <= len(s) and s[i:i + len(w)] == w:\n",
    "                dp[i] = dp[i + len(w)]\n",
    "            if dp[i]:\n",
    "                break\n",
    "\n",
    "    return dp[0]"
   ],
   "id": "1c0ecd93bab71628",
   "outputs": [],
   "execution_count": 7
  },
  {
   "metadata": {
    "ExecuteTime": {
     "end_time": "2025-08-17T04:28:17.911416Z",
     "start_time": "2025-08-17T04:28:17.900846Z"
    }
   },
   "cell_type": "code",
   "source": [
    "\"\"\"\n",
    "Longest Increasing Subsequence\n",
    "\"\"\"\n",
    "\n",
    "\n",
    "def longest_increasing_subsequence(nums):\n",
    "    n = len(nums)\n",
    "    dp = [[0] * (n + 1) for _ in range(n + 1)]\n",
    "\n",
    "    for i in range(n - 1, -1, -1):\n",
    "        for j in range(i - 1, -2, -1):\n",
    "            lis = dp[i + 1][j + 1]\n",
    "\n",
    "            if j == -1 or nums[j] < nums[i]:\n",
    "                lis = max(lis, 1 + dp[i + 1][i + 1])\n",
    "\n",
    "            dp[i][j + 1] = lis\n",
    "\n",
    "    return dp[0][0]"
   ],
   "id": "cf8fe1aa0879cd8e",
   "outputs": [],
   "execution_count": 8
  },
  {
   "metadata": {
    "ExecuteTime": {
     "end_time": "2025-08-18T03:30:35.735533Z",
     "start_time": "2025-08-18T03:30:35.717556Z"
    }
   },
   "cell_type": "code",
   "source": [
    "\"\"\"\n",
    "Partition Subset Sum\n",
    "\"\"\"\n",
    "\n",
    "\n",
    "def partition_subset_sum(nums):\n",
    "    total = sum(nums)\n",
    "    if total % 2 != 0:\n",
    "        return False\n",
    "\n",
    "    target = total // 2\n",
    "    n = len(nums)\n",
    "    dp = [[False] * (target + 1) for _ in range(n + 1)]\n",
    "\n",
    "    for i in range(n + 1):\n",
    "        dp[i][0] = True\n",
    "\n",
    "    for i in range(1, n + 1):\n",
    "        for j in range(1, target + 1):\n",
    "            if nums[i - 1] <= j:\n",
    "                dp[i][j] = (dp[i - 1][j] or dp[i - 1][j - nums[i - 1]])\n",
    "            else:\n",
    "                dp[i][j] = dp[i - 1][j]\n",
    "\n",
    "    return dp[n][target]\n"
   ],
   "id": "44c78707fa037b1",
   "outputs": [],
   "execution_count": 9
  },
  {
   "metadata": {
    "ExecuteTime": {
     "end_time": "2025-08-18T03:33:29.342097Z",
     "start_time": "2025-08-18T03:33:29.335691Z"
    }
   },
   "cell_type": "code",
   "source": [
    "\"\"\"\n",
    "Best Time to buy and sell stock 2\n",
    "\"\"\"\n",
    "\n",
    "\n",
    "def max_profit(prices):\n",
    "    n = len(prices)\n",
    "    dp1_buy, dp1_sell = 0, 0\n",
    "    dp2_buy = 0\n",
    "\n",
    "    for i in range(n - 1, -1, -1):\n",
    "        dp_buy = max(dp1_sell - prices[i], dp1_buy)\n",
    "        dp_sell = max(dp2_buy + prices[i], dp1_sell)\n",
    "        dp2_buy = dp1_buy\n",
    "        dp1_buy, dp1_sell = dp_buy, dp_sell\n",
    "\n",
    "    return dp1_buy"
   ],
   "id": "18a5e15fb08bf3d0",
   "outputs": [],
   "execution_count": 10
  },
  {
   "metadata": {},
   "cell_type": "code",
   "outputs": [],
   "execution_count": null,
   "source": [
    "\"\"\"\n",
    "Coin Change 2\n",
    "\"\"\"\n",
    "\n",
    "\n",
    "def change(amount, coins):\n",
    "    n = len(coins)\n",
    "    coins.sort()\n",
    "    dp = [[0] * (amount + 1) for _ in range(n + 1)]\n",
    "\n",
    "    for i in range(n + 1):\n",
    "        dp[i][0] = 1\n",
    "\n",
    "    for i in range(n - 1, -1, -1):\n",
    "        for a in range(amount + 1):\n",
    "            if a >= coins[i]:\n",
    "                dp[i][a] = dp[i + 1][a]\n",
    "                dp[i][a] += dp[i][a - coins[i]]\n",
    "\n",
    "    return dp[0][amount]"
   ],
   "id": "4687af5feefc6944"
  }
 ],
 "metadata": {
  "kernelspec": {
   "display_name": "Python 3",
   "language": "python",
   "name": "python3"
  },
  "language_info": {
   "codemirror_mode": {
    "name": "ipython",
    "version": 2
   },
   "file_extension": ".py",
   "mimetype": "text/x-python",
   "name": "python",
   "nbconvert_exporter": "python",
   "pygments_lexer": "ipython2",
   "version": "2.7.6"
  }
 },
 "nbformat": 4,
 "nbformat_minor": 5
}
