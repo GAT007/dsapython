{
 "cells": [
  {
   "metadata": {},
   "cell_type": "markdown",
   "source": "# Intervals",
   "id": "1fb166f8c78e8086"
  },
  {
   "metadata": {},
   "cell_type": "code",
   "outputs": [],
   "execution_count": null,
   "source": [
    "\"\"\"\n",
    "Insert new interval\n",
    "Intervals given in ascending order\n",
    "New Interval must combine all overlapping intervals\n",
    "\"\"\"\n",
    "\n",
    "\n",
    "def insert(intervals, newInterval):\n",
    "    res = []\n",
    "    for i in range(len(intervals)):\n",
    "        if newInterval[1] < intervals[i][0]:\n",
    "            res.append(newInterval)\n",
    "            return res + intervals[i:]\n",
    "        elif newInterval[0] > intervals[i][1]:\n",
    "            res.append(intervals[i])\n",
    "        else:\n",
    "            newInterval = [min(newInterval[0], intervals[i][0]), max(newInterval[1], intervals[i][1])]\n",
    "\n",
    "    res.append(newInterval)\n",
    "\n",
    "    return res"
   ],
   "id": "b88de502fa9a5157"
  },
  {
   "cell_type": "code",
   "id": "initial_id",
   "metadata": {
    "collapsed": true,
    "ExecuteTime": {
     "end_time": "2025-08-17T17:14:06.282979Z",
     "start_time": "2025-08-17T17:14:06.271273Z"
    }
   },
   "source": [
    "\"\"\"\n",
    "Merge intervals\n",
    "\"\"\"\n",
    "\n",
    "\n",
    "def merge(intervals):\n",
    "    intervals.sort(key=lambda i: i[0])\n",
    "\n",
    "    output = [intervals[0]]\n",
    "\n",
    "    for start, end in intervals[1:]:\n",
    "        lastEnd = output[-1][1]\n",
    "\n",
    "        if start <= lastEnd:\n",
    "            output[-1][1] = max(lastEnd, end)\n",
    "        else:\n",
    "            output.append([start, end])\n",
    "\n",
    "    return output\n",
    "\n",
    "    #[1,5], [2,4]\n"
   ],
   "outputs": [],
   "execution_count": 1
  },
  {
   "metadata": {
    "ExecuteTime": {
     "end_time": "2025-08-17T17:17:01.731151Z",
     "start_time": "2025-08-17T17:17:01.725440Z"
    }
   },
   "cell_type": "code",
   "source": [
    "\"\"\"\n",
    "Least number of intervals that needs to be removed to make it non overlapping\n",
    "\"\"\"\n",
    "\n",
    "\n",
    "def eraseOverlaps(intervals):\n",
    "    intervals.sort(key=lambda i: i[0])\n",
    "    res = 0\n",
    "    prevEnd = intervals[0][1]\n",
    "\n",
    "    for start, end in intervals[1:]:\n",
    "        if start >= prevEnd:\n",
    "            prevEnd = end\n",
    "\n",
    "        else:\n",
    "            res += 1\n",
    "            prevEnd = min(end, prevEnd)\n",
    "\n",
    "    return res\n"
   ],
   "id": "894ebfb5c363edbf",
   "outputs": [],
   "execution_count": 2
  },
  {
   "metadata": {
    "ExecuteTime": {
     "end_time": "2025-08-17T17:18:57.925028Z",
     "start_time": "2025-08-17T17:18:57.916681Z"
    }
   },
   "cell_type": "code",
   "source": [
    "\"\"\"\n",
    "Meeting Rooms\n",
    "\"\"\"\n",
    "\n",
    "\n",
    "def meeting_rooms(meetings):\n",
    "    meetings.sort(key=lambda i: i.start)\n",
    "\n",
    "    for i in range(1, len(meetings)):\n",
    "        i1 = meetings[i - 1]\n",
    "        i2 = meetings[i]\n",
    "\n",
    "        if i1.end > i2.start:\n",
    "            return False\n",
    "\n",
    "    return True\n"
   ],
   "id": "fc35fb7024caf24b",
   "outputs": [],
   "execution_count": 3
  },
  {
   "metadata": {
    "ExecuteTime": {
     "end_time": "2025-08-17T17:26:32.691633Z",
     "start_time": "2025-08-17T17:26:32.683047Z"
    }
   },
   "cell_type": "code",
   "source": [
    "\"\"\"\n",
    "Meeting rooms 2 : Minimum number of days to schedule all the meetings\n",
    "\"\"\"\n",
    "\n",
    "\n",
    "def min_meeting_rooms(intervals):\n",
    "    time = []\n",
    "    for i in intervals:\n",
    "        time.append((i.start, 1))\n",
    "        time.append((i.end, -1))\n",
    "\n",
    "    time.sort(key=lambda x: (x[0], x[1]))\n",
    "\n",
    "    res = 0\n",
    "    count = 0\n",
    "    for t in time:\n",
    "        count += t[1]\n",
    "        res = max(res, count)\n",
    "\n",
    "    return res"
   ],
   "id": "621d484b0bca709a",
   "outputs": [],
   "execution_count": 4
  },
  {
   "metadata": {},
   "cell_type": "code",
   "outputs": [],
   "execution_count": null,
   "source": [
    "\"\"\"\n",
    "Minimum interval including query\n",
    "\"\"\"\n",
    "\n",
    "import heapq\n",
    "\n",
    "\n",
    "def minInterval(intervals, queries):\n",
    "    intervals.sort()\n",
    "    minHeap = []\n",
    "    res = {}\n",
    "    i = 0\n",
    "    for q in sorted(queries):\n",
    "        while i < len(intervals) and intervals[i][0] <= q:\n",
    "            l, r = intervals[i]\n",
    "            heapq.heappush(minHeap, (r - l + 1, r))\n",
    "            i += 1\n",
    "\n",
    "        while minHeap and minHeap[0][1] < q:\n",
    "            heapq.heappop(minHeap)\n",
    "        res[q] = minHeap[0][0] if minHeap else -1\n",
    "\n",
    "    return [res[q] for q in queries]\n",
    "\n"
   ],
   "id": "874c13cde01982b6"
  }
 ],
 "metadata": {
  "kernelspec": {
   "display_name": "Python 3",
   "language": "python",
   "name": "python3"
  },
  "language_info": {
   "codemirror_mode": {
    "name": "ipython",
    "version": 2
   },
   "file_extension": ".py",
   "mimetype": "text/x-python",
   "name": "python",
   "nbconvert_exporter": "python",
   "pygments_lexer": "ipython2",
   "version": "2.7.6"
  }
 },
 "nbformat": 4,
 "nbformat_minor": 5
}
