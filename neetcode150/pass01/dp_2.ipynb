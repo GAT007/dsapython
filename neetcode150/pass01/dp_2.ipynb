{
 "cells": [
  {
   "metadata": {},
   "cell_type": "markdown",
   "source": "# 2-D Dynamic Programming",
   "id": "95e0617eb8a2fbcc"
  },
  {
   "cell_type": "code",
   "id": "initial_id",
   "metadata": {
    "collapsed": true,
    "ExecuteTime": {
     "end_time": "2025-08-17T04:34:53.302639Z",
     "start_time": "2025-08-17T04:34:53.296134Z"
    }
   },
   "source": [
    "\"\"\"\n",
    "Number of unique paths from top left corner to far right corner\n",
    "\"\"\"\n",
    "\n",
    "\n",
    "def uniquePaths(m, n):\n",
    "    dp = [[0] * (n + 1) for _ in range(m + 1)]\n",
    "    dp[m - 1][n - 1] = 1\n",
    "\n",
    "    for i in range(m - 1, -1, -1):\n",
    "        for j in range(n - 1, -1, -1):\n",
    "            dp[i][j] += dp[i + 1][j] + dp[i][j + 1]\n",
    "\n",
    "    return dp[0][0]"
   ],
   "outputs": [],
   "execution_count": 1
  },
  {
   "metadata": {},
   "cell_type": "code",
   "outputs": [],
   "execution_count": null,
   "source": [
    "\"\"\"\n",
    "Longest Common Subsequence\n",
    "\"\"\"\n",
    "\n",
    "\n",
    "def lcs(text1, text2):\n",
    "    dp = [[0 for j in range(len(text2) + 1)]\n",
    "          for i in range(len(text1) + 1)]\n",
    "\n",
    "    for i in range(len(text1) - 1, -1, -1):\n",
    "        for j in range(len(text2) - 1, -1, -1):\n",
    "            if text1[i] == text2[j]:\n",
    "                dp[i][j] = 1 + dp[i + 1][j + 1]\n",
    "            else:\n",
    "                dp[i][j] = max(dp[i][j + 1], dp[i + 1][j])\n",
    "\n",
    "    return dp[0][0]"
   ],
   "id": "b8302eb7e66d6cd2"
  }
 ],
 "metadata": {
  "kernelspec": {
   "display_name": "Python 3",
   "language": "python",
   "name": "python3"
  },
  "language_info": {
   "codemirror_mode": {
    "name": "ipython",
    "version": 2
   },
   "file_extension": ".py",
   "mimetype": "text/x-python",
   "name": "python",
   "nbconvert_exporter": "python",
   "pygments_lexer": "ipython2",
   "version": "2.7.6"
  }
 },
 "nbformat": 4,
 "nbformat_minor": 5
}
