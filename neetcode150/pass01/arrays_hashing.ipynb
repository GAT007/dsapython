{
 "cells": [
  {
   "metadata": {},
   "cell_type": "markdown",
   "source": "# Arrays and Hashing",
   "id": "91c6e33bbe790978"
  },
  {
   "cell_type": "code",
   "id": "initial_id",
   "metadata": {
    "collapsed": true,
    "ExecuteTime": {
     "end_time": "2025-08-17T17:50:35.538646Z",
     "start_time": "2025-08-17T17:50:35.530386Z"
    }
   },
   "source": [
    "\"\"\"\n",
    "Contains duplicate\n",
    "\"\"\"\n",
    "\n",
    "\n",
    "def contains_duplicate(nums):\n",
    "    return len(nums) == len(set(nums))"
   ],
   "outputs": [],
   "execution_count": 1
  },
  {
   "metadata": {
    "ExecuteTime": {
     "end_time": "2025-08-17T17:52:24.895553Z",
     "start_time": "2025-08-17T17:52:24.889460Z"
    }
   },
   "cell_type": "code",
   "source": [
    "\"\"\"\n",
    "Valid anagram\n",
    "\"\"\"\n",
    "\n",
    "from collections import Counter\n",
    "\n",
    "\n",
    "def valid_anagram(str1, str2):\n",
    "    count1 = Counter(str1)\n",
    "    count2 = Counter(str2)\n",
    "    return count1 == count2"
   ],
   "id": "4e89f9c187f247e8",
   "outputs": [],
   "execution_count": 2
  },
  {
   "metadata": {
    "ExecuteTime": {
     "end_time": "2025-08-17T17:58:53.022597Z",
     "start_time": "2025-08-17T17:58:53.011618Z"
    }
   },
   "cell_type": "code",
   "source": [
    "\"\"\"\n",
    "Two Sum\n",
    "\"\"\"\n",
    "from collections import defaultdict\n",
    "\n",
    "\n",
    "def two_sum(nums, target):\n",
    "    target_dict = defaultdict(int)\n",
    "\n",
    "    for idx, num in enumerate(nums):\n",
    "        if target - num in target_dict:\n",
    "            return idx, target_dict[target - num]\n",
    "\n",
    "        else:\n",
    "            target_dict[num] = idx\n",
    "\n",
    "    return -1, -1"
   ],
   "id": "b068f287406451d7",
   "outputs": [],
   "execution_count": 3
  },
  {
   "metadata": {
    "ExecuteTime": {
     "end_time": "2025-08-17T18:09:52.620223Z",
     "start_time": "2025-08-17T18:09:52.613702Z"
    }
   },
   "cell_type": "code",
   "source": [
    "\"\"\"\n",
    "Group Anagrams\n",
    "\"\"\"\n",
    "\n",
    "from collections import defaultdict\n",
    "\n",
    "\n",
    "def group_anagrams(strs):\n",
    "    res = defaultdict(list)\n",
    "\n",
    "    for s in strs:\n",
    "        count = [0] * 26\n",
    "        for c in s:\n",
    "            count[ord(c) - ord('a')] += 1\n",
    "        res[tuple(count)].append(s)\n",
    "    return list(res.values())"
   ],
   "id": "1bae8f78548b62a",
   "outputs": [],
   "execution_count": 4
  },
  {
   "metadata": {
    "ExecuteTime": {
     "end_time": "2025-08-17T18:16:38.297113Z",
     "start_time": "2025-08-17T18:16:38.290737Z"
    }
   },
   "cell_type": "code",
   "source": [
    "\"\"\"\n",
    "Top K Frequent Elements\n",
    "\"\"\"\n",
    "\n",
    "from collections import Counter\n",
    "import heapq\n",
    "\n",
    "\n",
    "def top_k_frequent(nums, k):\n",
    "    heap = []\n",
    "    count = Counter(nums)\n",
    "\n",
    "    for num, freq in count.items():\n",
    "        if len(heap) < k:\n",
    "            heapq.heappush(heap, (freq, num))\n",
    "        else:\n",
    "            heapq.heappushpop(heap, (freq, num))\n",
    "\n",
    "    return [num for freq, num in heap]\n"
   ],
   "id": "5c66c2a60e961861",
   "outputs": [],
   "execution_count": 5
  },
  {
   "metadata": {
    "ExecuteTime": {
     "end_time": "2025-08-17T18:35:50.265412Z",
     "start_time": "2025-08-17T18:35:50.256907Z"
    }
   },
   "cell_type": "code",
   "source": [
    "\"\"\"\n",
    "Encode and decode strings\n",
    "\"\"\"\n",
    "\n",
    "\n",
    "def encode(strs):\n",
    "    res = \"\"\n",
    "    for st in strs:\n",
    "        res += str(\"|\" + str(len(st)) + \"|\" + st)\n",
    "\n",
    "    return res\n",
    "\n",
    "\n",
    "def decode(str1):\n",
    "    if not str1:\n",
    "        return []\n",
    "\n",
    "    res = []\n",
    "    n = len(str1)\n",
    "    i = 0\n",
    "\n",
    "    while i < n:\n",
    "        if str1[i] == \"|\":\n",
    "            j = i + 1\n",
    "            while str1[j] != \"|\":\n",
    "                j += 1\n",
    "            length = int(str1[i + 1:j])\n",
    "            res.append(str1[j + 1:j + length + 1])\n",
    "            i = j + 1 + length\n",
    "\n",
    "    return res\n",
    "\n",
    "\n",
    "print(encode([\"This\", \"cat\", \"runs\"]))\n",
    "res = encode([\"This\", \"cat\", \"runs\"])\n",
    "print(decode(res))"
   ],
   "id": "a7c10b2962b6969e",
   "outputs": [
    {
     "name": "stdout",
     "output_type": "stream",
     "text": [
      "|4|This|3|cat|4|runs\n",
      "['This', 'cat', 'runs']\n"
     ]
    }
   ],
   "execution_count": 11
  },
  {
   "metadata": {
    "ExecuteTime": {
     "end_time": "2025-08-17T18:41:47.829490Z",
     "start_time": "2025-08-17T18:41:47.823829Z"
    }
   },
   "cell_type": "code",
   "source": [
    "\"\"\"\n",
    "Product except self\n",
    "Prefix and suffix\n",
    "\"\"\"\n",
    "\n",
    "\n",
    "def product_except_self(nums):\n",
    "    res = [1] * len(nums)\n",
    "\n",
    "    #Set prefix = 1 and do a forward iter multiplying each res with the previous value of the prefix\n",
    "    prefix = 1\n",
    "\n",
    "    for i in range(len(nums)):\n",
    "        res[i] = prefix\n",
    "        prefix *= nums[i]\n",
    "\n",
    "    #Set postfix = 1 and do a backward iter multiplying each res with the previous value of the postfix\n",
    "    postfix = 1\n",
    "\n",
    "    for i in range(len(nums) - 1, -1, -1):\n",
    "        res[i] *= postfix\n",
    "        postfix *= nums[i]\n",
    "\n",
    "    return res\n"
   ],
   "id": "137b6e84c9a5ff1d",
   "outputs": [],
   "execution_count": 12
  },
  {
   "metadata": {
    "ExecuteTime": {
     "end_time": "2025-08-17T18:56:44.609909Z",
     "start_time": "2025-08-17T18:56:44.603Z"
    }
   },
   "cell_type": "code",
   "source": [
    "\"\"\"\n",
    "Longest consecutive\n",
    "\"\"\"\n",
    "\n",
    "\n",
    "def longest_consecutive(nums):\n",
    "    num_set = set(nums)\n",
    "    longest = 0\n",
    "\n",
    "    for num in num_set:\n",
    "        if (num - 1) not in num_set:\n",
    "            length = 1\n",
    "            while (num + length) in num_set:\n",
    "                length += 1\n",
    "            longest = max(length, longest)\n",
    "\n",
    "    return longest\n"
   ],
   "id": "4cf909e806d33ff3",
   "outputs": [],
   "execution_count": 13
  },
  {
   "metadata": {
    "ExecuteTime": {
     "end_time": "2025-08-17T19:50:59.264258Z",
     "start_time": "2025-08-17T19:50:59.253998Z"
    }
   },
   "cell_type": "code",
   "source": [
    "\"\"\"\n",
    "Valid Palindrome\n",
    "\"\"\"\n",
    "\n",
    "\n",
    "def valid_palindrome(s):\n",
    "    l, r = 0, len(s) - 1\n",
    "\n",
    "    while l <= r:\n",
    "        if s[l] != s[r]:\n",
    "            return False\n",
    "        l += 1\n",
    "        r -= 1\n",
    "\n",
    "    return True"
   ],
   "id": "62ca9d489287ae4e",
   "outputs": [],
   "execution_count": 14
  },
  {
   "metadata": {
    "ExecuteTime": {
     "end_time": "2025-08-17T19:53:27.763131Z",
     "start_time": "2025-08-17T19:53:27.753598Z"
    }
   },
   "cell_type": "code",
   "source": [
    "\"\"\"\n",
    "Two Sum 2 : Input Array is sorted\n",
    "\"\"\"\n",
    "\n",
    "\n",
    "def two_sum_2(nums, target):\n",
    "    if not nums:\n",
    "        return None\n",
    "\n",
    "    l = 0\n",
    "    r = len(nums) - 1\n",
    "    res = []\n",
    "\n",
    "    while l < r:\n",
    "        val = nums[l] + nums[r]\n",
    "        if val == target:\n",
    "            res.append((l + 1, r + 1))\n",
    "            l += 1\n",
    "            r -= 1\n",
    "        elif val < target:\n",
    "            l += 1\n",
    "        else:\n",
    "            r -= 1\n",
    "\n",
    "    return res"
   ],
   "id": "9225e195c3dd1d49",
   "outputs": [],
   "execution_count": 15
  },
  {
   "metadata": {
    "ExecuteTime": {
     "end_time": "2025-08-17T19:56:20.827052Z",
     "start_time": "2025-08-17T19:56:20.815219Z"
    }
   },
   "cell_type": "code",
   "source": [
    "\"\"\"\n",
    "Three sum\n",
    "\"\"\"\n",
    "\n",
    "\n",
    "def three_sum(nums, target):\n",
    "    nums.sort()\n",
    "    res = set()\n",
    "    for i in range(len(nums)):\n",
    "        l = i + 1\n",
    "        r = len(nums) - 1\n",
    "        while l < r:\n",
    "            val = nums[i] + nums[l] + nums[r]\n",
    "            if val == target:\n",
    "                res.add((nums[i], nums[l], nums[r]))\n",
    "                l += 1\n",
    "                r -= 1\n",
    "            elif val < target:\n",
    "                l += 1\n",
    "            else:\n",
    "                r -= 1\n",
    "\n",
    "    return res"
   ],
   "id": "6c08af43a88a5b59",
   "outputs": [],
   "execution_count": 16
  },
  {
   "metadata": {
    "ExecuteTime": {
     "end_time": "2025-08-17T20:00:29.759506Z",
     "start_time": "2025-08-17T20:00:29.751393Z"
    }
   },
   "cell_type": "code",
   "source": [
    "\"\"\"\n",
    "Container with most water\n",
    "\"\"\"\n",
    "\n",
    "\n",
    "def container_with_most_water(heights):\n",
    "    l, r = 0, len(heights) - 1\n",
    "    res = 0\n",
    "\n",
    "    while l < r:\n",
    "        area = min(heights[l], heights[r]) * (r - l)\n",
    "        res = max(area, res)\n",
    "        if heights[l] <= heights[r]:\n",
    "            l += 1\n",
    "        else:\n",
    "            r -= 1\n",
    "    return res\n",
    "\n"
   ],
   "id": "46388709b1b575a2",
   "outputs": [],
   "execution_count": 17
  },
  {
   "metadata": {
    "ExecuteTime": {
     "end_time": "2025-08-17T20:13:16.717374Z",
     "start_time": "2025-08-17T20:13:16.704474Z"
    }
   },
   "cell_type": "code",
   "source": [
    "\"\"\"\n",
    "Trapping Rain Water\n",
    "\"\"\"\n",
    "\n",
    "\n",
    "def trapping_rain_water(heights):\n",
    "    if not heights:\n",
    "        return 0\n",
    "\n",
    "    l, r = 0, len(heights) - 1\n",
    "    leftmax, rightmax = heights[l], heights[r]\n",
    "    res = 0\n",
    "\n",
    "    while l < r:\n",
    "        if leftmax < rightmax:\n",
    "            l += 1\n",
    "            leftmax = max(leftmax, heights[l])\n",
    "            res += leftmax - heights[l]\n",
    "        else:\n",
    "            r -= 1\n",
    "            rightmax = max(rightmax, heights[r])\n",
    "            res += rightmax - heights[r]\n",
    "\n",
    "    return res"
   ],
   "id": "a593b30138afe607",
   "outputs": [],
   "execution_count": 18
  },
  {
   "metadata": {},
   "cell_type": "code",
   "outputs": [],
   "execution_count": null,
   "source": "",
   "id": "c9ceb8f16035deca"
  }
 ],
 "metadata": {
  "kernelspec": {
   "display_name": "Python 3",
   "language": "python",
   "name": "python3"
  },
  "language_info": {
   "codemirror_mode": {
    "name": "ipython",
    "version": 2
   },
   "file_extension": ".py",
   "mimetype": "text/x-python",
   "name": "python",
   "nbconvert_exporter": "python",
   "pygments_lexer": "ipython2",
   "version": "2.7.6"
  }
 },
 "nbformat": 4,
 "nbformat_minor": 5
}
