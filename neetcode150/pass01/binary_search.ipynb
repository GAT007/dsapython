{
 "cells": [
  {
   "metadata": {},
   "cell_type": "markdown",
   "source": "# Binary Search",
   "id": "1a60da6d6b41e1e"
  },
  {
   "metadata": {},
   "cell_type": "code",
   "outputs": [],
   "execution_count": null,
   "source": [
    "def binary_search(nums, target):\n",
    "    nums.sort()\n",
    "    r = len(nums)\n",
    "    l = 0\n",
    "    while l < r:\n",
    "        mid = (l + r) // 2\n",
    "        if nums[mid] == target:\n",
    "            return True\n",
    "        elif nums[mid] < target:\n",
    "            l = mid + 1\n",
    "        else:\n",
    "            r = mid - 1\n",
    "    return -1\n"
   ],
   "id": "48ed4d3cdda2f899"
  },
  {
   "cell_type": "code",
   "id": "initial_id",
   "metadata": {
    "collapsed": true,
    "ExecuteTime": {
     "end_time": "2025-08-18T00:42:42.515437Z",
     "start_time": "2025-08-18T00:42:42.499803Z"
    }
   },
   "source": [
    "\"\"\"\n",
    "Search a 2 D matrix\n",
    "\"\"\"\n",
    "\n",
    "\n",
    "def search_2d_matrix(matrix, target):\n",
    "    ROWS, COLS = len(matrix), len(matrix[0])\n",
    "\n",
    "    l, r = 0, ROWS * COLS - 1\n",
    "\n",
    "    while l <= r:\n",
    "        m = l + (r - l) // 2\n",
    "        row, col = m // COLS, m % COLS\n",
    "        if target > matrix[row][col]:\n",
    "            l = m + 1\n",
    "        elif target < matrix[row][col]:\n",
    "            r = m - 1\n",
    "\n",
    "        else:\n",
    "            return True\n",
    "\n",
    "    return False"
   ],
   "outputs": [],
   "execution_count": 1
  },
  {
   "metadata": {
    "ExecuteTime": {
     "end_time": "2025-08-18T00:45:29.151428Z",
     "start_time": "2025-08-18T00:45:29.141942Z"
    }
   },
   "cell_type": "code",
   "source": [
    "\"\"\"\n",
    "Koko eating bananas\n",
    "\"\"\"\n",
    "\n",
    "import math\n",
    "\n",
    "\n",
    "def kok_eating_bananas(piles, h):\n",
    "    l, r = 1, max(piles)\n",
    "    res = r\n",
    "\n",
    "    while l <= r:\n",
    "        k = (l + r) // 2\n",
    "\n",
    "        totalTime = 0\n",
    "        for p in piles:\n",
    "            totalTime += math.ceil(float(p) / k)\n",
    "        if totalTime <= h:\n",
    "            res = k\n",
    "            r = k - 1\n",
    "        else:\n",
    "            l = k + 1\n",
    "\n",
    "    return res\n"
   ],
   "id": "319e5a88d55a01a6",
   "outputs": [],
   "execution_count": 2
  },
  {
   "metadata": {
    "ExecuteTime": {
     "end_time": "2025-08-18T00:48:16.561306Z",
     "start_time": "2025-08-18T00:48:16.554145Z"
    }
   },
   "cell_type": "code",
   "source": [
    "\"\"\"\n",
    "Find minimum in a rotated sorted array\n",
    "\"\"\"\n",
    "\n",
    "\n",
    "def findMin(nums):\n",
    "    l, r = 0, len(nums) - 1\n",
    "    while l < r:\n",
    "        m = l + (r - l) // 2\n",
    "        if nums[m] < nums[r]:\n",
    "            r = m\n",
    "        else:\n",
    "            l = m + 1\n",
    "\n",
    "    return nums[l]"
   ],
   "id": "ba98d80ffbaa0fe",
   "outputs": [],
   "execution_count": 3
  },
  {
   "metadata": {
    "ExecuteTime": {
     "end_time": "2025-08-18T00:51:21.365256Z",
     "start_time": "2025-08-18T00:51:21.355602Z"
    }
   },
   "cell_type": "code",
   "source": [
    "\"\"\"\n",
    "Search in a rotated sorted array\n",
    "\"\"\"\n",
    "\n",
    "\n",
    "def search(nums, target):\n",
    "    l, r = 0, len(nums) - 1\n",
    "\n",
    "    while l <= r:\n",
    "        mid = (l + r) // 2\n",
    "        if target == nums[mid]:\n",
    "            return mid\n",
    "\n",
    "        if nums[l] <= nums[mid]:\n",
    "            if target > nums[mid] or target < nums[l]:\n",
    "                l = mid + 1\n",
    "            else:\n",
    "                r = mid - 1\n",
    "\n",
    "        else:\n",
    "            if target < nums[mid] or target > nums[r]:\n",
    "                r = mid - 1\n",
    "\n",
    "            else:\n",
    "                l = mid + 1\n",
    "\n",
    "    return -1"
   ],
   "id": "342750becff9f2f5",
   "outputs": [],
   "execution_count": 4
  },
  {
   "metadata": {
    "ExecuteTime": {
     "end_time": "2025-08-18T00:55:05.986928Z",
     "start_time": "2025-08-18T00:55:05.981188Z"
    }
   },
   "cell_type": "code",
   "source": [
    "\"\"\"\n",
    "Time based key value store\n",
    "\"\"\"\n",
    "\n",
    "\n",
    "class TimeMap:\n",
    "    def __init__(self):\n",
    "        self.keyStore = {}\n",
    "\n",
    "    def set(self, key, value, timestamp):\n",
    "        if key not in self.keyStore:\n",
    "            self.keyStore[key] = []\n",
    "        self.keyStore[key].append([value, timestamp])\n",
    "\n",
    "    def get(self, key, timestamp):\n",
    "        res, values = \"\", self.keyStore.get(key, [])\n",
    "        l, r = 0, len(values) - 1\n",
    "        while l <= r:\n",
    "            m = (l + r) // 2\n",
    "            if values[m][1] <= timestamp:\n",
    "                res = values[m][0]\n",
    "                l = m + 1\n",
    "            else:\n",
    "                r = m - 1\n",
    "        return res"
   ],
   "id": "1c32eee85f13222f",
   "outputs": [],
   "execution_count": 5
  },
  {
   "metadata": {},
   "cell_type": "code",
   "outputs": [],
   "execution_count": null,
   "source": [
    "\"\"\"\n",
    "Median of two sorted arrays\n",
    "\"\"\""
   ],
   "id": "6549458ee81332de"
  }
 ],
 "metadata": {
  "kernelspec": {
   "display_name": "Python 3",
   "language": "python",
   "name": "python3"
  },
  "language_info": {
   "codemirror_mode": {
    "name": "ipython",
    "version": 2
   },
   "file_extension": ".py",
   "mimetype": "text/x-python",
   "name": "python",
   "nbconvert_exporter": "python",
   "pygments_lexer": "ipython2",
   "version": "2.7.6"
  }
 },
 "nbformat": 4,
 "nbformat_minor": 5
}
