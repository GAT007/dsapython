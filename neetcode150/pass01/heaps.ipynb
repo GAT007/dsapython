{
 "cells": [
  {
   "metadata": {},
   "cell_type": "markdown",
   "source": "# Heaps",
   "id": "cb30ded8605b3a4d"
  },
  {
   "cell_type": "code",
   "id": "initial_id",
   "metadata": {
    "collapsed": true,
    "ExecuteTime": {
     "end_time": "2025-08-15T19:24:14.129329Z",
     "start_time": "2025-08-15T19:24:14.118438Z"
    }
   },
   "source": [
    "\"\"\"\n",
    "Kth largest element in a stream\n",
    "\"\"\"\n",
    "\n",
    "import heapq\n",
    "\n",
    "\n",
    "class KLargest:\n",
    "    def __init__(self, k, nums):\n",
    "        self.k = k\n",
    "\n",
    "        self.heap = []\n",
    "\n",
    "        for num in nums:\n",
    "            if len(self.heap) < k:\n",
    "                heapq.heappush(self.heap, num)\n",
    "            else:\n",
    "                heapq.heappushpop(self.heap, num)\n",
    "\n",
    "    def add(self, val):\n",
    "        if len(self.heap) < self.k:\n",
    "            heapq.heappush(self.heap, val)\n",
    "        else:\n",
    "            heapq.heappushpop(self.heap, val)\n",
    "        return self.heap[0]\n",
    "\n"
   ],
   "outputs": [],
   "execution_count": 1
  },
  {
   "metadata": {
    "ExecuteTime": {
     "end_time": "2025-08-15T19:33:28.345548Z",
     "start_time": "2025-08-15T19:33:28.335255Z"
    }
   },
   "cell_type": "code",
   "source": [
    "\"\"\"\n",
    "Last Stone Weight\n",
    "\"\"\"\n",
    "\n",
    "import heapq\n",
    "\n",
    "\n",
    "def last_stone_weight(nums):\n",
    "    max_heap = []\n",
    "    for num in nums:\n",
    "        heapq.heappush(max_heap, -num)\n",
    "\n",
    "    while len(max_heap) > 1:\n",
    "        stone1 = -(heapq.heappop(max_heap))\n",
    "        stone2 = -(heapq.heappop(max_heap))\n",
    "        abs_diff = abs(stone1 - stone2)\n",
    "        if abs_diff != 0:\n",
    "            heapq.heappush(max_heap, -abs_diff)\n",
    "\n",
    "    return max_heap[0] if len(max_heap) == 1 else 0\n",
    "\n",
    "\n"
   ],
   "id": "70ed8fa031e6df2b",
   "outputs": [],
   "execution_count": 2
  },
  {
   "metadata": {
    "ExecuteTime": {
     "end_time": "2025-08-15T20:29:14.546266Z",
     "start_time": "2025-08-15T20:29:14.532597Z"
    }
   },
   "cell_type": "code",
   "source": [
    "\"\"\"\n",
    "Find the median from data stream\n",
    "\"\"\"\n",
    "\n",
    "import heapq\n",
    "\n",
    "\n",
    "class MedianFinder:\n",
    "    def __init__(self):\n",
    "        \"\"\"\n",
    "        Two heaps\n",
    "        Large heap is a min heap from which we will get the minimum value\n",
    "        Small heap is a maximum heap from which we will get the maximum value\n",
    "        If sum of lengths of both the heaps is even then avg of the two middle is the median\n",
    "        Otherwise it is the min element from the large heap\n",
    "        \"\"\"\n",
    "        self.small, self.large = [], []\n",
    "\n",
    "    def addNum(self, num):\n",
    "        heapq.heappush(self.small, -1 * num)\n",
    "        if (self.small and self.large and (-1 * self.small[0]) > self.large[0]):\n",
    "            val = -1 * heapq.heappop(self.small)\n",
    "            heapq.heappush(self.large, val)\n",
    "\n",
    "        if len(self.small) > len(self.large) + 1:\n",
    "            val = -1 * heapq.heappop(self.small)\n",
    "            heapq.heappush(self.large, val)\n",
    "\n",
    "        if len(self.large) > len(self.small) + 1:\n",
    "            val = -1 * heapq.heappop(self.large)\n",
    "            heapq.heappush(self.small, val)\n",
    "\n",
    "    def median(self):\n",
    "        if len(self.small) > len(self.large):\n",
    "            return -1 * self.small[0]\n",
    "        if len(self.large) > len(self.small):\n",
    "            return self.large[0]\n",
    "\n",
    "        return (-1 * self.small[0] + self.large[0]) / 2\n",
    "\n"
   ],
   "id": "638a21c76101583a",
   "outputs": [],
   "execution_count": 3
  },
  {
   "metadata": {},
   "cell_type": "code",
   "outputs": [],
   "execution_count": null,
   "source": [
    "\"\"\"\n",
    "Design Twitter\n",
    "\"\"\"\n",
    "from collections import defaultdict\n",
    "\n",
    "\n",
    "class Twitter:\n",
    "\n",
    "    def __init__(self):\n",
    "        self.count = 0\n",
    "        self.tweetMap = defaultdict(list)\n",
    "        self.followMap = defaultdict(set)\n",
    "\n",
    "    def postTweet(self, userId: int, tweetId: int):\n",
    "        pass\n",
    "\n",
    "    def getNewsFeed(self, userId):\n",
    "        pass\n",
    "\n",
    "    def follow(self):\n"
   ],
   "id": "e4b9a38dc997c17b"
  }
 ],
 "metadata": {
  "kernelspec": {
   "display_name": "Python 3",
   "language": "python",
   "name": "python3"
  },
  "language_info": {
   "codemirror_mode": {
    "name": "ipython",
    "version": 2
   },
   "file_extension": ".py",
   "mimetype": "text/x-python",
   "name": "python",
   "nbconvert_exporter": "python",
   "pygments_lexer": "ipython2",
   "version": "2.7.6"
  }
 },
 "nbformat": 4,
 "nbformat_minor": 5
}
