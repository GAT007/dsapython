{
 "cells": [
  {
   "metadata": {},
   "cell_type": "markdown",
   "source": "# Tries",
   "id": "e97999227d03ed23"
  },
  {
   "cell_type": "code",
   "id": "initial_id",
   "metadata": {
    "collapsed": true,
    "ExecuteTime": {
     "end_time": "2025-08-15T21:07:58.205431Z",
     "start_time": "2025-08-15T21:07:58.198334Z"
    }
   },
   "source": [
    "\"\"\"\n",
    "Implement Trie\n",
    "\"\"\"\n",
    "\n",
    "\n",
    "class Trienode:\n",
    "    def __init__(self):\n",
    "        self.children = {}\n",
    "        self.endOfWord = False\n",
    "\n",
    "\n",
    "class Trie:\n",
    "    def __init__(self):\n",
    "        self.root = Trienode()\n",
    "\n",
    "    def insert(self, word: str):\n",
    "        cur = self.root\n",
    "        for c in word:\n",
    "            if c not in cur.children:\n",
    "                cur.children[c] = Trienode()\n",
    "            else:\n",
    "                cur = cur.children[c]\n",
    "        cur.endOfWord = True\n",
    "\n",
    "    def search(self, word):\n",
    "        cur = self.root\n",
    "        for c in word:\n",
    "            if c not in cur.children:\n",
    "                return False\n",
    "            cur = cur.children[c]\n",
    "        return cur.endOfWord\n",
    "\n",
    "    def startsWith(self, word):\n",
    "        cur = self.root\n",
    "        for c in word:\n",
    "            if c not in cur.children:\n",
    "                return False\n",
    "            cur = cur.children[c]\n",
    "        return True"
   ],
   "outputs": [],
   "execution_count": 1
  },
  {
   "metadata": {},
   "cell_type": "code",
   "outputs": [],
   "execution_count": null,
   "source": [
    "\"\"\"\n",
    "Design add and search words\n",
    "\"\"\"\n",
    "\n",
    "\n",
    "class TrieNode:\n",
    "    def __init__(self):\n",
    "        self.children = {}\n",
    "        self.endOfWord = False\n",
    "\n",
    "\n",
    "class WordDictionary:\n",
    "    def __init__(self):\n",
    "        self.root = TrieNode()\n",
    "\n",
    "    def addword(self, word: str):\n",
    "        cur = self.root\n",
    "\n",
    "        for c in word:\n",
    "            if c not in cur.children:\n",
    "                cur.children[c] = TrieNode()\n",
    "            cur = cur.children[c]\n",
    "        cur.endOfWord = True\n",
    "\n",
    "    def search(self, word):\n",
    "        def dfs(j, root):\n",
    "            curr = root\n",
    "            for i in range(len(word)):\n",
    "                c = word[i]\n",
    "                if c == \".\":\n",
    "                    for child in curr.children.values():\n",
    "                        if dfs(i + 1, child):\n",
    "                            return True\n",
    "                    return False\n",
    "\n",
    "                else:\n",
    "                    if c not in curr.children:\n",
    "                        return False\n",
    "\n",
    "                    curr = curr.children[c]\n",
    "            return curr.word\n",
    "\n",
    "        return dfs(0, self.root)\n",
    "\n"
   ],
   "id": "e0073e38db4b7405"
  }
 ],
 "metadata": {
  "kernelspec": {
   "display_name": "Python 3",
   "language": "python",
   "name": "python3"
  },
  "language_info": {
   "codemirror_mode": {
    "name": "ipython",
    "version": 2
   },
   "file_extension": ".py",
   "mimetype": "text/x-python",
   "name": "python",
   "nbconvert_exporter": "python",
   "pygments_lexer": "ipython2",
   "version": "2.7.6"
  }
 },
 "nbformat": 4,
 "nbformat_minor": 5
}
