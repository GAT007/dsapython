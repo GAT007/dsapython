{
 "cells": [
  {
   "metadata": {},
   "cell_type": "markdown",
   "source": "# Heaps",
   "id": "2de953f8539e8794"
  },
  {
   "metadata": {},
   "cell_type": "code",
   "outputs": [],
   "execution_count": null,
   "source": [
    "\"\"\"\n",
    "Kth Largest element in an array\n",
    "\"\"\"\n",
    "\n",
    "import heapq\n",
    "\n",
    "\n",
    "def kthLargest(nums, k):\n",
    "    return heapq.nlargest(nums, k)\n",
    "\n",
    "\n",
    "def kth_Largest(nums, k):\n",
    "    heap = []\n",
    "    for num in nums:\n",
    "        heapq.heappush(heap, num)\n",
    "\n",
    "    for _ in range(len(nums) - k):\n",
    "        heapq.heappop(heap)\n",
    "\n",
    "    return heapq.heappop()\n"
   ],
   "id": "dbe3c230e5477040"
  },
  {
   "cell_type": "code",
   "id": "initial_id",
   "metadata": {
    "collapsed": true,
    "ExecuteTime": {
     "end_time": "2025-08-19T15:08:41.326659Z",
     "start_time": "2025-08-19T15:08:41.318482Z"
    }
   },
   "source": [
    "\"\"\"\n",
    "K Closest points to the origin\n",
    "\"\"\"\n",
    "import heapq\n",
    "\n",
    "\n",
    "def k_closest_points(points, k):\n",
    "    heap = []\n",
    "\n",
    "    for x, y in points:\n",
    "        dst = ((x ** 2) + (y ** 2))\n",
    "        heapq.heappush(heap, (dst, x, y))\n",
    "\n",
    "    for _ in range(len(heap) - k):\n",
    "        heapq.heappop(heap)\n",
    "\n",
    "    return [(x, y) for dst, x, y in heap]\n"
   ],
   "outputs": [],
   "execution_count": 1
  },
  {
   "metadata": {
    "ExecuteTime": {
     "end_time": "2025-08-19T15:11:04.545276Z",
     "start_time": "2025-08-19T15:11:04.534734Z"
    }
   },
   "cell_type": "code",
   "source": [
    "\"\"\"\n",
    "Top K Frequent Elements\n",
    "\"\"\"\n",
    "\n",
    "from collections import Counter\n",
    "\n",
    "\n",
    "def top_k_frequent(nums, k):\n",
    "    count = Counter(nums)\n",
    "    heap = []\n",
    "\n",
    "    for num, freq in count.items():\n",
    "        if len(heap) == k:\n",
    "            heapq.heappushpop(heap, (freq, num))\n",
    "        else:\n",
    "            heapq.heappush(heap, (freq, num))\n",
    "\n",
    "    return [num for freq, num in heap]"
   ],
   "id": "a18c1ab271b34e9a",
   "outputs": [],
   "execution_count": 2
  },
  {
   "metadata": {
    "ExecuteTime": {
     "end_time": "2025-08-19T15:22:43.717110Z",
     "start_time": "2025-08-19T15:22:43.710025Z"
    }
   },
   "cell_type": "code",
   "source": [
    "\"\"\"\n",
    "Task Scheduler\n",
    "\"\"\"\n",
    "\n",
    "from collections import Counter, deque\n",
    "import heapq\n",
    "\n",
    "\n",
    "def task_scheduler(tasks, n):\n",
    "    count = Counter(tasks)\n",
    "\n",
    "    time = 0\n",
    "    heap = []\n",
    "\n",
    "    for task, freq in count.items():\n",
    "        heapq.heappush(-freq)\n",
    "\n",
    "    q = deque()\n",
    "    while heap or q:\n",
    "        time += 1\n",
    "        if heap:\n",
    "            curr = heapq.heappop(heap)\n",
    "            curr += 1\n",
    "            if curr != 0:\n",
    "                q.append((curr, n + time))\n",
    "        if q and q[0][1] == time:\n",
    "            heapq.heappush(q.popleft()[0])\n",
    "\n",
    "    return time"
   ],
   "id": "cbdac86b7a961290",
   "outputs": [],
   "execution_count": 3
  },
  {
   "metadata": {
    "ExecuteTime": {
     "end_time": "2025-08-19T15:26:58.483107Z",
     "start_time": "2025-08-19T15:26:58.473349Z"
    }
   },
   "cell_type": "code",
   "source": [
    "\"\"\"\n",
    "Kth Largest element in heap\n",
    "\"\"\"\n",
    "\n",
    "import heapq\n",
    "\n",
    "\n",
    "class KthLargest:\n",
    "    def __init__(self, k, nums):\n",
    "        self.minHeap, self.k = nums, k\n",
    "        heapq.heapify(self.minHeap)\n",
    "        while len(self.minHeap) > k:\n",
    "            heapq.heappop(self.minHeap)\n",
    "\n",
    "    def add(self, val):\n",
    "        heapq.heappush(self.minHeap, val)\n",
    "        if len(self.minHeap) > self.k:\n",
    "            heapq.heappop(self.minHeap)\n",
    "\n",
    "        return self.minHeap[0]"
   ],
   "id": "e22167c168d3c215",
   "outputs": [],
   "execution_count": 4
  },
  {
   "metadata": {
    "ExecuteTime": {
     "end_time": "2025-08-19T15:56:19.388180Z",
     "start_time": "2025-08-19T15:56:19.379340Z"
    }
   },
   "cell_type": "code",
   "source": [
    "\"\"\"\n",
    "Last Stone Weight\n",
    "\"\"\"\n",
    "import heapq\n",
    "\n",
    "\n",
    "def last_stone_weight(stones):\n",
    "    heap = []\n",
    "    for stone in stones:\n",
    "        heapq.heappush(heap, -stone)\n",
    "\n",
    "    while len(heap) > 1:\n",
    "        stone1 = -heapq.heappop(heap)\n",
    "        stone2 = -heapq.heappop(heap)\n",
    "        val = abs(stone1 - stone2)\n",
    "        if val != 0:\n",
    "            heapq.heappush(heap, -val)\n",
    "\n",
    "    return -heap[0] if len(heap) == 1 else 0\n",
    "\n"
   ],
   "id": "54771141057262a3",
   "outputs": [],
   "execution_count": 5
  },
  {
   "metadata": {},
   "cell_type": "code",
   "outputs": [],
   "execution_count": null,
   "source": [
    "\"\"\"\n",
    "Median of a stream\n",
    "\"\"\"\n",
    "\n",
    "import heapq\n",
    "\n",
    "\n",
    "class MedianFinder:\n",
    "    def __init__(self):\n",
    "        self.small, self.large = [], []\n",
    "\n",
    "    def addNum(self, num):\n",
    "        if self.large and num > self.large[0]:\n",
    "            heapq.heappush(self.large, num)\n",
    "        else:\n",
    "            heapq.heappush(self.small, -1 * num)\n",
    "\n",
    "        if len(self.small) > len(self.large) + 1:\n",
    "            val = -1 * heapq.heappop(self.small)\n",
    "            heapq.heappush(self.large, val)\n",
    "\n",
    "        if len(self.large) > len(self.small) + 1:\n",
    "            val = heapq.heappop(self.large)\n",
    "            heapq.heappush(self.small, -val)\n",
    "\n",
    "    def findMedian(self):\n",
    "        if len(self.small) > len(self.large):\n",
    "            return -1 * self.small[0]\n",
    "\n",
    "        elif len(self.large) > len(self.small):\n",
    "            return self.large[0]\n",
    "\n",
    "        return (-1 * self.small[0] + self.large[0]) / 2.0\n",
    "\n"
   ],
   "id": "a12279a2923289d2"
  }
 ],
 "metadata": {
  "kernelspec": {
   "display_name": "Python 3",
   "language": "python",
   "name": "python3"
  },
  "language_info": {
   "codemirror_mode": {
    "name": "ipython",
    "version": 2
   },
   "file_extension": ".py",
   "mimetype": "text/x-python",
   "name": "python",
   "nbconvert_exporter": "python",
   "pygments_lexer": "ipython2",
   "version": "2.7.6"
  }
 },
 "nbformat": 4,
 "nbformat_minor": 5
}
