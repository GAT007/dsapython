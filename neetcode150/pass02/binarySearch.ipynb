{
 "cells": [
  {
   "metadata": {},
   "cell_type": "markdown",
   "source": "# Binary Search",
   "id": "727b08fcb989140a"
  },
  {
   "cell_type": "code",
   "id": "initial_id",
   "metadata": {
    "collapsed": true,
    "ExecuteTime": {
     "end_time": "2025-08-24T17:04:56.054575Z",
     "start_time": "2025-08-24T17:04:56.044622Z"
    }
   },
   "source": [
    "\"\"\"\n",
    "Binary Search\n",
    "\"\"\"\n",
    "\n",
    "\n",
    "#The input has to be a sorted array\n",
    "def binary_search(nums, target):\n",
    "    l = 0\n",
    "    r = len(nums) - 1\n",
    "\n",
    "    while l <= r:\n",
    "        mid = l + ((r - l) // 2)\n",
    "\n",
    "        if nums[mid] < target:\n",
    "            l = mid + 1\n",
    "\n",
    "        elif nums[mid] > target:\n",
    "            r = mid - 1\n",
    "\n",
    "        else:\n",
    "            return mid\n",
    "\n",
    "    return -1\n"
   ],
   "outputs": [],
   "execution_count": 2
  },
  {
   "metadata": {
    "ExecuteTime": {
     "end_time": "2025-08-24T17:10:50.641706Z",
     "start_time": "2025-08-24T17:10:50.633462Z"
    }
   },
   "cell_type": "code",
   "source": [
    "\"\"\"\n",
    "Search a 2D matrix\n",
    "\"\"\"\n",
    "\n",
    "\n",
    "#Works only on a sorted 2D array with the values arranged in ascending order row-wise\n",
    "\n",
    "def search_2D_matrix(grid, target):\n",
    "    ROWS = len(grid)\n",
    "    COLS = len(grid[0])\n",
    "\n",
    "    total = ROWS * COLS\n",
    "\n",
    "    l = 0\n",
    "    r = total - 1\n",
    "\n",
    "    while l <= r:\n",
    "        m = l + ((r - l) // 2)\n",
    "        row, col = m // COLS, m % COLS\n",
    "        if target > grid[row][col]:\n",
    "            l = m + 1\n",
    "        elif target < grid[row][col]:\n",
    "            r = m - 1\n",
    "\n",
    "        else:\n",
    "            return row, col\n",
    "\n",
    "    return -1, -1"
   ],
   "id": "b5f41a8d1cd9191d",
   "outputs": [],
   "execution_count": 3
  },
  {
   "metadata": {
    "ExecuteTime": {
     "end_time": "2025-08-24T17:24:46.680845Z",
     "start_time": "2025-08-24T17:24:46.668763Z"
    }
   },
   "cell_type": "code",
   "source": [
    "\"\"\"\n",
    "Koko eating bananas\n",
    "Given :\n",
    "piles array : where each piles[i] contains x banans\n",
    "h : total number of hours to finish sum(piles)\n",
    "k : return value which is minimum rate to finish sum(piles) bananas\n",
    "\"\"\"\n",
    "\n",
    "\"\"\"\n",
    "Approach : Binary search\n",
    "1. Generate your limits, l=0, r = max(piles) -> here l to r is your eating rate\n",
    "2. Set res as r, because that way you know we can finish in r hours\n",
    "3. Pick the k value as the midpoint\n",
    "4. Find the total time taken to eat all the bananas by iterating through all the piles and dividing the value of the current pile by eating rate\n",
    "5. If total time <= h, set the res value to k as this will be the least possible value of k possible for now\n",
    "6. Once l becomes greater than r, no other values are possible\n",
    "7. Return whatever is the value of res\n",
    "\"\"\"\n",
    "\n",
    "from math import ceil\n",
    "\n",
    "\n",
    "def koko_eating_bananas(piles, h):\n",
    "    l, r = 1, max(piles)\n",
    "    res = r\n",
    "\n",
    "    while l <= r:\n",
    "        k = l + ((r - l) // 2)\n",
    "        total_time = 0\n",
    "        for p in piles:\n",
    "            total_time += ceil(float(p) / k)\n",
    "        if total_time <= h:\n",
    "            res = k\n",
    "            r = k - 1\n",
    "        else:\n",
    "            l = k + 1\n",
    "\n",
    "    return res"
   ],
   "id": "d3cd3d6fe492232f",
   "outputs": [],
   "execution_count": 4
  },
  {
   "metadata": {
    "ExecuteTime": {
     "end_time": "2025-08-24T17:27:50.746511Z",
     "start_time": "2025-08-24T17:27:50.738643Z"
    }
   },
   "cell_type": "code",
   "source": [
    "\"\"\"\n",
    "Minimum in a rotated sorted array\n",
    "\"\"\"\n",
    "\n",
    "\n",
    "def find_min(nums):\n",
    "    l, r = 0, len(nums) - 1\n",
    "    while l < r:\n",
    "        m = l + ((r - l) // 2)\n",
    "        if nums[m] < nums[r]:\n",
    "            r = m\n",
    "        else:\n",
    "            l = m + 1\n",
    "\n",
    "    return nums[l]"
   ],
   "id": "34b11edb838a3cd1",
   "outputs": [],
   "execution_count": 5
  },
  {
   "metadata": {
    "ExecuteTime": {
     "end_time": "2025-08-24T17:59:34.784934Z",
     "start_time": "2025-08-24T17:59:34.772981Z"
    }
   },
   "cell_type": "code",
   "source": [
    "\"\"\"\n",
    "Search in a rotated sorted array\n",
    "\"\"\"\n",
    "\n",
    "\n",
    "def search(nums, target):\n",
    "    l, r = 0, len(nums) - 1\n",
    "\n",
    "    while l <= r:\n",
    "        mid = (l + r) // 2\n",
    "        if target == nums[mid]:\n",
    "            return mid\n",
    "\n",
    "        if nums[l] <= nums[mid]:\n",
    "            if target > nums[mid] or target < nums[l]:\n",
    "                l = mid + 1\n",
    "            else:\n",
    "                r = mid - 1\n",
    "        else:\n",
    "            if target < nums[mid] or target > nums[r]:\n",
    "                r = mid - 1\n",
    "            else:\n",
    "                l = mid + 1\n",
    "\n",
    "    return -1"
   ],
   "id": "9bf7a8ce9ce10ab6",
   "outputs": [],
   "execution_count": 6
  },
  {
   "metadata": {
    "ExecuteTime": {
     "end_time": "2025-09-01T21:55:51.573730Z",
     "start_time": "2025-09-01T21:55:51.550559Z"
    }
   },
   "cell_type": "code",
   "source": [
    "\"\"\"\n",
    "Time based key value store\n",
    "\"\"\"\n",
    "\n",
    "\n",
    "class TimeMap:\n",
    "    def __init__(self):\n",
    "        self.keyStore = {}\n",
    "\n",
    "    def set(self, key, value, timestamp):\n",
    "        if key not in self.keyStore:\n",
    "            self.keyStore[key] = []\n",
    "        self.keyStore[key].append([value, timestamp])\n",
    "\n",
    "    def get(self, key, timestamp):\n",
    "        if key not in self.keyStore:\n",
    "            return None\n",
    "\n",
    "        res, values = \"\", self.keyStore.get(key, [])\n",
    "        l, r = 0, len(values) - 1\n",
    "        while l <= r:\n",
    "            m = l + ((r - l) // 2)\n",
    "            if values[m][1] < timestamp:\n",
    "                l = m + 1\n",
    "            else:\n",
    "                r = m - 1\n",
    "\n",
    "        return res"
   ],
   "id": "8d73f7c48216a058",
   "outputs": [],
   "execution_count": 1
  },
  {
   "metadata": {},
   "cell_type": "code",
   "outputs": [],
   "execution_count": null,
   "source": [
    "\"\"\"\n",
    "Median of two sorted arrays\n",
    "\"\"\""
   ],
   "id": "b3296e5c835b3a9d"
  }
 ],
 "metadata": {
  "kernelspec": {
   "display_name": "Python 3",
   "language": "python",
   "name": "python3"
  },
  "language_info": {
   "codemirror_mode": {
    "name": "ipython",
    "version": 2
   },
   "file_extension": ".py",
   "mimetype": "text/x-python",
   "name": "python",
   "nbconvert_exporter": "python",
   "pygments_lexer": "ipython2",
   "version": "2.7.6"
  }
 },
 "nbformat": 4,
 "nbformat_minor": 5
}
