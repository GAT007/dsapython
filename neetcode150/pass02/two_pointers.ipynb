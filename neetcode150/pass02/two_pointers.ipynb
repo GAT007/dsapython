{
 "cells": [
  {
   "metadata": {},
   "cell_type": "markdown",
   "source": "## Two Pointers",
   "id": "b21738fc5696340e"
  },
  {
   "cell_type": "code",
   "id": "initial_id",
   "metadata": {
    "collapsed": true,
    "ExecuteTime": {
     "end_time": "2025-08-24T18:09:07.181190Z",
     "start_time": "2025-08-24T18:09:07.171594Z"
    }
   },
   "source": [
    "\"\"\"\n",
    "Valid Palindrome\n",
    "\"\"\"\n",
    "\n",
    "\n",
    "def isPalindrome(s):\n",
    "    l = 0\n",
    "    r = len(s) - 1\n",
    "\n",
    "    while l <= r:\n",
    "        while l < r and not s[l].isalpha():\n",
    "            l += 1\n",
    "\n",
    "        while not s[r].isalpha():\n",
    "            r -= 1\n",
    "\n",
    "        if s[l].lower() != s[r].lower():\n",
    "            return False\n",
    "\n",
    "        else:\n",
    "            l += 1\n",
    "            r -= 1\n",
    "\n",
    "    return True\n",
    "\n"
   ],
   "outputs": [],
   "execution_count": 1
  },
  {
   "metadata": {
    "ExecuteTime": {
     "end_time": "2025-08-24T19:47:30.659274Z",
     "start_time": "2025-08-24T19:47:30.642413Z"
    }
   },
   "cell_type": "code",
   "source": [
    "\"\"\"\n",
    "Two Sum 2 : input array is sorted\n",
    "\"\"\"\n",
    "\n",
    "\n",
    "def two_sum_2(nums, target):\n",
    "    l = 0\n",
    "    r = len(nums) - 1\n",
    "    res = []\n",
    "\n",
    "    while l < r:\n",
    "        val = nums[l] + nums[r]\n",
    "\n",
    "        if val == target:\n",
    "            res.append((nums[l], nums[r]))\n",
    "            l += 1\n",
    "            r -= 1\n",
    "\n",
    "        elif val < target:\n",
    "            l += 1\n",
    "\n",
    "        else:\n",
    "            r -= 1\n",
    "\n",
    "    return res\n",
    "\n"
   ],
   "id": "bc2aa2bfeba9fec1",
   "outputs": [],
   "execution_count": 2
  },
  {
   "metadata": {
    "ExecuteTime": {
     "end_time": "2025-08-24T19:57:09.575846Z",
     "start_time": "2025-08-24T19:57:09.567276Z"
    }
   },
   "cell_type": "code",
   "source": [
    "\"\"\"\n",
    "Three sum\n",
    "\"\"\"\n",
    "\n",
    "\n",
    "def three_sum(nums, target):\n",
    "    res = []\n",
    "    for i in range(len(nums)):\n",
    "        l = i + 1\n",
    "        r = len(nums) - 1\n",
    "\n",
    "        while l < r:\n",
    "            val = nums[i] + nums[l] + nums[r]\n",
    "            if val < target:\n",
    "                l += 1\n",
    "            elif val > target:\n",
    "                r -= 1\n",
    "            else:\n",
    "                res.append((i, l, r))\n",
    "\n",
    "    return res"
   ],
   "id": "44fc762821c0652a",
   "outputs": [],
   "execution_count": 3
  },
  {
   "metadata": {
    "ExecuteTime": {
     "end_time": "2025-08-24T19:57:16.949749Z",
     "start_time": "2025-08-24T19:57:16.931978Z"
    }
   },
   "cell_type": "code",
   "source": [
    "\"\"\"\n",
    "Trapping rain water\n",
    "\"\"\""
   ],
   "id": "fbc1c5708f4bbae1",
   "outputs": [
    {
     "data": {
      "text/plain": [
       "'\\nTrapping rain water\\n'"
      ]
     },
     "execution_count": 4,
     "metadata": {},
     "output_type": "execute_result"
    }
   ],
   "execution_count": 4
  },
  {
   "metadata": {
    "ExecuteTime": {
     "end_time": "2025-08-24T20:49:22.039147Z",
     "start_time": "2025-08-24T20:49:22.030875Z"
    }
   },
   "cell_type": "code",
   "source": [
    "\"\"\"\n",
    "Maximum container with water\n",
    "\"\"\"\n",
    "\n",
    "\n",
    "def container_water(nums):\n",
    "    l, r = 0, len(nums) - 1\n",
    "    res = 0\n",
    "\n",
    "    while l < r:\n",
    "        #Area of rectangle = l*b\n",
    "        area = min(nums[l], nums[r]) * (r - l)\n",
    "        res = max(res, area)\n",
    "        if nums[l] <= nums[r]:\n",
    "            l += 1\n",
    "        else:\n",
    "            r -= 1\n",
    "\n",
    "    return res"
   ],
   "id": "3dfa7cb0706f93fb",
   "outputs": [],
   "execution_count": 5
  },
  {
   "metadata": {
    "ExecuteTime": {
     "end_time": "2025-08-24T20:52:33.044317Z",
     "start_time": "2025-08-24T20:52:33.037270Z"
    }
   },
   "cell_type": "code",
   "source": [
    "\"\"\"\n",
    "Trapping rainwater\n",
    "\"\"\"\n",
    "\n",
    "\n",
    "def trap_rain_water(heights):\n",
    "    l, r = 0, len(heights) - 1\n",
    "    maxL, maxR = heights[l], heights[r]\n",
    "    res = 0\n",
    "\n",
    "    while l < r:\n",
    "        if maxL < maxR:\n",
    "            l += 1\n",
    "            maxL = max(maxL, heights[l])\n",
    "            res += maxL - heights[l]\n",
    "\n",
    "        else:\n",
    "            r -= 1\n",
    "            maxR = max(maxR, heights[r])\n",
    "            res += maxR - heights[r]\n",
    "\n",
    "    return res"
   ],
   "id": "fecb38f4b090adb0",
   "outputs": [],
   "execution_count": 6
  },
  {
   "metadata": {},
   "cell_type": "code",
   "outputs": [],
   "execution_count": null,
   "source": "",
   "id": "1de77eab8828e781"
  }
 ],
 "metadata": {
  "kernelspec": {
   "display_name": "Python 3",
   "language": "python",
   "name": "python3"
  },
  "language_info": {
   "codemirror_mode": {
    "name": "ipython",
    "version": 2
   },
   "file_extension": ".py",
   "mimetype": "text/x-python",
   "name": "python",
   "nbconvert_exporter": "python",
   "pygments_lexer": "ipython2",
   "version": "2.7.6"
  }
 },
 "nbformat": 4,
 "nbformat_minor": 5
}
