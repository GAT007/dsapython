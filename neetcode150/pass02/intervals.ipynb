{
 "cells": [
  {
   "metadata": {},
   "cell_type": "markdown",
   "source": "# Intervals",
   "id": "da65147fa492047"
  },
  {
   "cell_type": "code",
   "id": "initial_id",
   "metadata": {
    "collapsed": true,
    "ExecuteTime": {
     "end_time": "2025-09-04T19:53:09.336468Z",
     "start_time": "2025-09-04T19:53:09.320894Z"
    }
   },
   "source": [
    "\"\"\"\n",
    "Insert Interval\n",
    "Make sure interval list is in ascending order\n",
    "Binary search to find the point of first insertion\n",
    "Find overlaps if any combine them\n",
    "\"\"\"\n",
    "\n",
    "\n",
    "def insert_interval(intervals, newInterval):\n",
    "    if not intervals:\n",
    "        return [newInterval]\n",
    "\n",
    "    n = len(intervals)\n",
    "    target = newInterval[0]\n",
    "    l, r = 0, n - 1\n",
    "\n",
    "    while l <= r:\n",
    "        mid = (l + r) // 2\n",
    "        if intervals[mid][0] < target:\n",
    "            l = mid + 1\n",
    "        else:\n",
    "            r = mid - 1\n",
    "\n",
    "    intervals.insert(l, newInterval)\n",
    "\n",
    "    res = []\n",
    "\n",
    "    for interval in intervals:\n",
    "        if not res or res[-1][1] < interval[0]:\n",
    "            res.append(interval)\n",
    "        else:\n",
    "            res[-1][1] = max(res[-1][1], interval[1])\n",
    "\n",
    "    return res"
   ],
   "outputs": [],
   "execution_count": 1
  },
  {
   "metadata": {
    "ExecuteTime": {
     "end_time": "2025-09-04T22:23:46.931941Z",
     "start_time": "2025-09-04T22:23:46.918617Z"
    }
   },
   "cell_type": "code",
   "source": [
    "\"\"\"\n",
    "Merge Intervals\n",
    "Sweep Line Algorithm\n",
    "\"\"\"\n",
    "from collections import defaultdict\n",
    "\n",
    "\n",
    "def merge_intervals(intervals):\n",
    "    i_map = defaultdict(int)\n",
    "\n",
    "    for start, end in intervals:\n",
    "        i_map[start] += 1\n",
    "        i_map[end] -= 1\n",
    "\n",
    "    res = []\n",
    "    interval = []\n",
    "    have = 0\n",
    "\n",
    "    for i in sorted(i_map):\n",
    "        if not interval:\n",
    "            interval.append(i)\n",
    "        have += i_map[i]\n",
    "        if have == 0:\n",
    "            interval.append(i)\n",
    "            res.append(interval)\n",
    "            interval = []\n",
    "\n",
    "    return res\n"
   ],
   "id": "da95bb8ae39945d4",
   "outputs": [],
   "execution_count": 2
  },
  {
   "metadata": {
    "ExecuteTime": {
     "end_time": "2025-09-04T23:51:40.877836Z",
     "start_time": "2025-09-04T23:51:40.866916Z"
    }
   },
   "cell_type": "code",
   "source": [
    "\"\"\"\n",
    "Non overlapping intervals\n",
    "Given list of intervals, where intervals[i] = [start_i, end_i] least number of removals required to make the remaining intervals non overlapping\n",
    "\"\"\"\n",
    "\n",
    "\n",
    "def erase_overlaps(intervals):\n",
    "    intervals.sort()\n",
    "    res = 0\n",
    "    prevEnd = intervals[0][1]\n",
    "\n",
    "    for start, end in intervals[1:]:\n",
    "        if start >= prevEnd:\n",
    "            prevEnd = end\n",
    "\n",
    "        else:\n",
    "            res += 1\n",
    "            prevEnd = min(end, prevEnd)\n",
    "\n",
    "    return res"
   ],
   "id": "9601ce1df83d6f7d",
   "outputs": [],
   "execution_count": 3
  },
  {
   "metadata": {
    "ExecuteTime": {
     "end_time": "2025-09-05T00:00:05.371330Z",
     "start_time": "2025-09-05T00:00:05.353066Z"
    }
   },
   "cell_type": "code",
   "source": [
    "\"\"\"\n",
    "Meeting rooms : Given intervals of meetings, check if you can attend all of them in a single day\n",
    "\"\"\"\n",
    "\n",
    "\n",
    "def meeting_rooms(intervals):\n",
    "    intervals.sort(key=lambda i: i.start)\n",
    "\n",
    "    for i in range(1, len(intervals)):\n",
    "        i1 = intervals[i - 1]\n",
    "        i2 = intervals[1]\n",
    "\n",
    "        if i1.end > i2.start:\n",
    "            return False\n",
    "\n",
    "    return True\n"
   ],
   "id": "177827bbcc4b936e",
   "outputs": [
    {
     "name": "stdout",
     "output_type": "stream",
     "text": [
      "[[4, 3], [6, 5], [10, 8]]\n"
     ]
    }
   ],
   "execution_count": 6
  },
  {
   "metadata": {},
   "cell_type": "code",
   "outputs": [],
   "execution_count": null,
   "source": [
    "\"\"\"\n",
    "Meeting rooms 2\n",
    "\"\"\"\n",
    "\n",
    "\n",
    "def sweep_line(intervals):\n",
    "    i_map = defaultdict(int)\n",
    "    for start, end in sorted(intervals):\n",
    "        i_map[start] += 1\n",
    "        i_map[end] -= 1\n",
    "\n",
    "    prev = 0\n",
    "    res = 0\n",
    "\n",
    "    for i in sorted(i_map):\n",
    "        prev += i_map[i]\n",
    "        res = max(res, prev)\n",
    "\n",
    "    return res\n",
    "\n",
    "\n",
    "import heapq\n",
    "\n",
    "\n",
    "def heap_approach(intervals):\n",
    "    intervals.sort()\n",
    "    min_heap = []\n",
    "\n",
    "    for interval in intervals:\n",
    "        if min_heap and min_heap[0] <= interval.start:\n",
    "            heapq.heappop(min_heap)\n",
    "        heapq.heappush(min_heap, interval.end)\n",
    "\n",
    "    return len(min_heap)"
   ],
   "id": "581700e5373175e2"
  }
 ],
 "metadata": {
  "kernelspec": {
   "display_name": "Python 3",
   "language": "python",
   "name": "python3"
  },
  "language_info": {
   "codemirror_mode": {
    "name": "ipython",
    "version": 2
   },
   "file_extension": ".py",
   "mimetype": "text/x-python",
   "name": "python",
   "nbconvert_exporter": "python",
   "pygments_lexer": "ipython2",
   "version": "2.7.6"
  }
 },
 "nbformat": 4,
 "nbformat_minor": 5
}
