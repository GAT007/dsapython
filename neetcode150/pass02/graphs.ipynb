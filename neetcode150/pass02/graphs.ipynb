{
 "cells": [
  {
   "metadata": {},
   "cell_type": "markdown",
   "source": [
    "# Graphs\n",
    "\n",
    "Slightly more complicated trees\n",
    "\n",
    "Graphs are usually stored as adjacency lists, which is basically a dictionary where the node acts as the key value and a list contains the other nodes that are connected to it\n",
    "\n",
    "\n",
    "The same two traversal algorithms that you use to traverse trees is the same that you use for graphs bfs (using a queue) and dfs (using a stack but usually recursion is easier)"
   ],
   "id": "92a3d9c643029b0c"
  },
  {
   "cell_type": "code",
   "id": "initial_id",
   "metadata": {
    "collapsed": true,
    "ExecuteTime": {
     "end_time": "2025-08-22T17:40:34.385581Z",
     "start_time": "2025-08-22T17:40:34.372039Z"
    }
   },
   "source": [
    "\"\"\"\n",
    "Number of islands\n",
    "\"\"\"\n",
    "from collections import deque\n",
    "\n",
    "\n",
    "def number_of_islands(grid):\n",
    "    ROWS, COLS = len(grid), len(grid[0])\n",
    "\n",
    "    visited = set()\n",
    "\n",
    "    def bfs(ro, co):\n",
    "        q = deque([(ro, co)])\n",
    "        dir = [[1, 0], [-1, 0], [0, 1], [0, -1]]\n",
    "        while q:\n",
    "            r, c = q.popleft()\n",
    "            for dr, dc in dir:\n",
    "                nr, nc = r + dr, c + dc\n",
    "                if 0 <= nr < ROWS and 0 <= nc < COLS and grid[nr][nc] == '1' and (nr, nc) not in visited:\n",
    "                    q.append((nr, nc))\n",
    "                    visited.add((nr, nc))\n",
    "\n",
    "    result = 0\n",
    "    for r in range(ROWS):\n",
    "        for c in range(COLS):\n",
    "            if grid[r][c] == '1' and (r, c) not in visited:\n",
    "                visited.add((r, c))\n",
    "                bfs(r, c)\n",
    "                result += 1\n",
    "\n",
    "    return result"
   ],
   "outputs": [],
   "execution_count": 1
  },
  {
   "metadata": {
    "ExecuteTime": {
     "end_time": "2025-08-22T17:47:39.095613Z",
     "start_time": "2025-08-22T17:47:39.087075Z"
    }
   },
   "cell_type": "code",
   "source": [
    "\"\"\"\n",
    "Max area of islands\n",
    "\"\"\"\n",
    "\n",
    "from collections import deque\n",
    "\n",
    "\n",
    "def max_area(grid):\n",
    "    if not grid:\n",
    "        return 0\n",
    "    ROWS, COLS = len(grid), len(grid[0])\n",
    "\n",
    "    visited = set()\n",
    "    max_area = 0\n",
    "\n",
    "    def bfs(ro, co):\n",
    "        nonlocal max_area\n",
    "        visited.add((ro, co))\n",
    "        q = deque([(ro, co)])\n",
    "        area = 1\n",
    "        dir = [[1, 0], [-1, 0], [0, 1], [0, -1]]\n",
    "        while q:\n",
    "            r, c = q.popleft()\n",
    "            for dr, dc in dir:\n",
    "                nr, nc = r + dr, c + dc\n",
    "                if 0 <= nr < ROWS and 0 <= nc < COLS and grid[nr][nc] == '1' and (nr, nc) not in visited:\n",
    "                    visited.add((nr, nc))\n",
    "                    area += 1\n",
    "                    q.append((nr, nc))\n",
    "\n",
    "        max_area = max(area, max_area)\n",
    "\n",
    "    for r in range(ROWS):\n",
    "        for c in range(COLS):\n",
    "            if grid[r][c] == '1' and (r, c) not in visited:\n",
    "                bfs(r, c)\n",
    "\n",
    "    return max_area"
   ],
   "id": "20bf8c8aeb06ca89",
   "outputs": [],
   "execution_count": 2
  },
  {
   "metadata": {
    "ExecuteTime": {
     "end_time": "2025-08-22T18:09:09.319750Z",
     "start_time": "2025-08-22T18:09:09.310515Z"
    }
   },
   "cell_type": "code",
   "source": [
    "\"\"\"\n",
    "Clones of graphs\n",
    "\"\"\"\n",
    "\n",
    "from collections import deque\n",
    "\n",
    "\n",
    "class Node:\n",
    "    def __init__(self, val):\n",
    "        self.val = val\n",
    "        self.neighbors = []\n",
    "\n",
    "\n",
    "def clone_graph(start_node):\n",
    "    if not start_node:\n",
    "        return None\n",
    "    clones = {start_node: Node(start_node.val)}\n",
    "    q = deque([start_node])\n",
    "    while q:\n",
    "        curr = q.popleft()\n",
    "        for neighbor in curr.neighbors:\n",
    "            if neighbor not in clones:\n",
    "                clones[neighbor] = Node(neighbor.val)\n",
    "                q.append(neighbor)\n",
    "            clones[curr].neighbors.append(clones[neighbor])\n",
    "\n",
    "    return clones[start_node]"
   ],
   "id": "4a31aba508e018c1",
   "outputs": [],
   "execution_count": 3
  },
  {
   "metadata": {
    "ExecuteTime": {
     "end_time": "2025-08-22T20:23:31.570270Z",
     "start_time": "2025-08-22T20:23:31.557075Z"
    }
   },
   "cell_type": "code",
   "source": [
    "\"\"\"\n",
    "Walls and gates\n",
    "Islands and Treasures\n",
    "Core logic here is a multi point BFS, where we do a bfs after iterating through\n",
    "\"\"\"\n",
    "\n",
    "\"\"\"\n",
    "General alogirthm\n",
    "1. Create the values you will need: ROWS, COLS, visited, q\n",
    "2. Create the helper function that checks for the boundary condition and adds the passed r,c to the visited set and the queue\n",
    "3. Initial iter through the grid to find all the gates and add them to the queue and the visited set\n",
    "4. Iter through the queue and do a spreading bfs like usual\n",
    "\"\"\"\n",
    "\n",
    "\"\"\"\n",
    "General approach\n",
    "1. Create the rows, cols, q and visited set\n",
    "2. Create the helper function with the boundary condition that adds (r,c) to the queue and the visited set\n",
    "3. Iter through the grid to add all the gates to the visited set and the queue\n",
    "4. Iter through the queue and do a spreading bfs\n",
    "\"\"\"\n",
    "\n",
    "from collections import deque\n",
    "\n",
    "\n",
    "def walls_and_gates(grid):\n",
    "    ROWS, COLS = len(grid), len(grid[0])\n",
    "    q = deque()\n",
    "    visited = set()\n",
    "\n",
    "    def addcell(r, c):\n",
    "        if 0 <= r < ROWS and 0 <= c < COLS and grid[r][c] != -1 and (r, c) not in visited:\n",
    "            q.append((r, c))\n",
    "            visited.add((r, c))\n",
    "        else:\n",
    "            return\n",
    "\n",
    "    for i in range(ROWS):\n",
    "        for j in range(COLS):\n",
    "            if grid[i][j] == 0 and (i, j) not in visited:\n",
    "                q.append((i, j))\n",
    "                visited.add((i, j))\n",
    "\n",
    "    dir = [[1, 0], [-1, 0], [0, 1], [0, -1]]\n",
    "    dist = 0\n",
    "    while q:\n",
    "        for _ in range(len(q)):\n",
    "            r, c = q.popleft()\n",
    "            grid[r][c] = dist\n",
    "            for dr, dc in dir:\n",
    "                addcell(r + dr, c + dc)\n",
    "\n",
    "        dist += 1"
   ],
   "id": "d9541b98be5f3887",
   "outputs": [],
   "execution_count": 4
  },
  {
   "metadata": {
    "ExecuteTime": {
     "end_time": "2025-08-22T20:34:04.690437Z",
     "start_time": "2025-08-22T20:34:04.680306Z"
    }
   },
   "cell_type": "code",
   "source": [
    "\"\"\"\n",
    "Rotting oranges\n",
    "\"\"\"\n",
    "\n",
    "\n",
    "def rotting_oranges(grid):\n",
    "    if not grid:\n",
    "        return None\n",
    "\n",
    "    ROWS, COLS = len(grid), len(grid[0])\n",
    "    q = deque()\n",
    "\n",
    "    fresh = 0\n",
    "    for i in range(ROWS):\n",
    "        for j in range(COLS):\n",
    "            if grid[i][j] == 2:\n",
    "                q.append((i, j))\n",
    "            elif grid[i][j] == 1:\n",
    "                fresh += 1\n",
    "\n",
    "    time = 0\n",
    "    dir = [[1, 0], [-1, 0], [0, 1], [0, -1]]\n",
    "    while q and fresh > 0:\n",
    "        for _ in range(len(q)):\n",
    "            r, c = q.popleft()\n",
    "            for dr, dc in dir:\n",
    "                nr, nc = r + dr, c + dc\n",
    "                if 0 <= nr < ROWS and 0 <= nc < COLS and grid[nr][nc] == 1:\n",
    "                    grid[nr][nc] = 2\n",
    "                    q.append((nr, nc))\n",
    "                    fresh -= 1\n",
    "        time += 1\n",
    "        if fresh == 0:\n",
    "            return time\n",
    "\n",
    "    return time if fresh == 0 else \"Not all oranges get rotten!\""
   ],
   "id": "9584f04b048a25ed",
   "outputs": [],
   "execution_count": 5
  },
  {
   "metadata": {
    "ExecuteTime": {
     "end_time": "2025-08-22T21:02:05.437268Z",
     "start_time": "2025-08-22T21:02:05.418799Z"
    }
   },
   "cell_type": "code",
   "source": [
    "\"\"\"\n",
    "Pacific atlantic water flow\n",
    "Core logic here:\n",
    "1. Create two grids filled with FALSE values, one for each pacific and atlantic\n",
    "2. Find out which nodes can reach the pacific by doing a bfs checking from the nodes bordering the pacific and are higher than the border nodes\n",
    "3. Do the same for atlantic\n",
    "4. Iter through the entire grid checking the two false grids to see which nodes can reach both pacific and atlantic\n",
    "\"\"\"\n",
    "\n",
    "\"\"\"\n",
    "Approach\n",
    "1. Create the usual ROWS, COLS, 2 false grids\n",
    "2. Create a bfs function that accepts the starting r,c and false ocean grid, it will do a bfs from that node and see which all neibhboring nodes are higher and mark them as true\n",
    "3. Append the first row to pacific and last row to atlantic lists\n",
    "4. Append the first column to pacific and last column to atlantic lists\n",
    "5. Call bfs and both the lists\n",
    "6. Iter through the ocean grids and for (r,c) values that are true for both grids, add them to the result list\n",
    "\"\"\"\n",
    "\n",
    "\n",
    "def pacific_atlantic(grid):\n",
    "    if not grid:\n",
    "        return None\n",
    "\n",
    "    ROWS, COLS = len(grid), len(grid[0])\n",
    "\n",
    "    pac = [[False] * COLS for _ in range(ROWS)]\n",
    "    atl = [[False] * COLS for _ in range(ROWS)]\n",
    "\n",
    "    dir = [[1, 0], [-1, 0], [0, 1], [0, -1]]\n",
    "\n",
    "    def bfs(source, ocean):\n",
    "        q = deque(source)\n",
    "        while q:\n",
    "            r, c = q.popleft()\n",
    "            ocean[r][c] = True\n",
    "            for dr, dc in dir:\n",
    "                nr, nc = dr + r, dc + c\n",
    "                if 0 <= nr < ROWS and 0 <= nc < COLS and grid[nr][nc] >= grid[r][c] and not ocean[nr][nc]:\n",
    "                    q.append((nr, nc))\n",
    "\n",
    "    pacific = []\n",
    "    atlantic = []\n",
    "\n",
    "    for c in range(COLS):\n",
    "        pacific.append((0, c))\n",
    "        atlantic.append((ROWS - 1, c))\n",
    "\n",
    "    for r in range(ROWS):\n",
    "        pacific.append((r, 0))\n",
    "        atlantic.append((r, COLS - 1))\n",
    "\n",
    "    bfs(pacific, pac)\n",
    "    bfs(atlantic, atl)\n",
    "\n",
    "    res = []\n",
    "\n",
    "    for i in range(ROWS):\n",
    "        for c in range(COLS):\n",
    "            if pac[i][c] == True and atl[i][c] == True:\n",
    "                res.append((i, c))\n",
    "\n",
    "    return res"
   ],
   "id": "eb2fd7c77d7ca44f",
   "outputs": [],
   "execution_count": 6
  },
  {
   "metadata": {
    "ExecuteTime": {
     "end_time": "2025-08-22T21:13:18.346407Z",
     "start_time": "2025-08-22T21:13:18.336350Z"
    }
   },
   "cell_type": "code",
   "source": [
    "\"\"\"\n",
    "Surrounded regions\n",
    "Reverse thinking\n",
    "1. Do a DFS for all the Os that are in the border. attached to the border and convert them to Ts\n",
    "2. Convert Os to Xs\n",
    "3. Convert Ts to Os\n",
    "\"\"\"\n",
    "\n",
    "\n",
    "def surrounded_regions(grid):\n",
    "    if not grid:\n",
    "        return None\n",
    "\n",
    "    ROWS, COLS = len(grid), len(grid)[0]\n",
    "    dir = [[1, 0], [-1, 0], [0, 1], [0, -1]]\n",
    "\n",
    "    def capture(r, c):\n",
    "        if 0 <= r < ROWS and 0 <= c < COLS and grid[r][c] == \"O\":\n",
    "            grid[r][c] = \"T\"\n",
    "            for dr, dc in dir:\n",
    "                capture(r + dr, c + dc)\n",
    "\n",
    "    #Convert the boundary Os into Ts\n",
    "    for r in range(ROWS):\n",
    "        for c in range(COLS):\n",
    "            if grid[r][c] == \"O\" and (r in [0, ROWS - 1] or c in [0, COLS - 1]):\n",
    "                capture(r, c)\n",
    "\n",
    "    for r in range(ROWS):\n",
    "        for c in range(COLS):\n",
    "            if grid[r][c] == \"O\":\n",
    "                grid[r][c] = \"X\"\n",
    "\n",
    "    for r in range(ROWS):\n",
    "        for c in range(COLS):\n",
    "            if grid[r][c] == \"T\":\n",
    "                grid[r][c] = \"O\"\n",
    "\n",
    "    return grid\n"
   ],
   "id": "9f8c6d1fb93aed59",
   "outputs": [],
   "execution_count": 8
  },
  {
   "metadata": {
    "ExecuteTime": {
     "end_time": "2025-08-22T22:30:45.389840Z",
     "start_time": "2025-08-22T22:30:45.379567Z"
    }
   },
   "cell_type": "code",
   "source": [
    "\"\"\"\n",
    "Course Schedule\n",
    "Find the loop in the graph using recursive DFS, iterative DFS is a pain in the ass\n",
    "\"\"\"\n",
    "from collections import defaultdict\n",
    "\n",
    "\n",
    "def course_schedule(n, adj):\n",
    "    depends = defaultdict(list)\n",
    "\n",
    "    for v1, v2 in adj:\n",
    "        depends[v1].append(v2)\n",
    "\n",
    "    visiting = set()\n",
    "    path = set()\n",
    "\n",
    "    def dfs(crs):\n",
    "        if crs in visiting:\n",
    "            return False\n",
    "\n",
    "        if crs in path:\n",
    "            return True\n",
    "\n",
    "        visiting.add(crs)\n",
    "\n",
    "        for depend in depends[crs]:\n",
    "            if not dfs(depend):\n",
    "                return False\n",
    "\n",
    "        visiting.remove(crs)\n",
    "\n",
    "        path.add(crs)\n",
    "\n",
    "        return True\n",
    "\n",
    "    for c in range(n):\n",
    "        if not dfs(c):\n",
    "            return False\n",
    "\n",
    "    return True"
   ],
   "id": "7af0870bb34241e1",
   "outputs": [],
   "execution_count": 9
  },
  {
   "metadata": {
    "ExecuteTime": {
     "end_time": "2025-08-22T22:37:32.319883Z",
     "start_time": "2025-08-22T22:37:32.310931Z"
    }
   },
   "cell_type": "code",
   "source": [
    "\"\"\"\n",
    "Course Schedule 2\n",
    "\"\"\"\n",
    "from collections import defaultdict\n",
    "\n",
    "\n",
    "def course_schedule_2(n, preqs):\n",
    "    if not n or not preqs:\n",
    "        return None\n",
    "\n",
    "    depends = defaultdict(list)\n",
    "    for v1, v2 in preqs:\n",
    "        depends[v1].append(v2)\n",
    "\n",
    "    output = []\n",
    "    visiting, cycle = set(), set()\n",
    "\n",
    "    def dfs(crs):\n",
    "        if crs in cycle:\n",
    "            return False\n",
    "\n",
    "        if crs in visiting:\n",
    "            return True\n",
    "\n",
    "        cycle.add(crs)\n",
    "\n",
    "        for depend in depends[crs]:\n",
    "            if not dfs(depend):\n",
    "                return False\n",
    "\n",
    "        cycle.remove(crs)\n",
    "        visiting.add(crs)\n",
    "        output.append(crs)\n",
    "\n",
    "        return True\n",
    "\n",
    "    for i in range(n):\n",
    "        if dfs(i) == False:\n",
    "            return []\n",
    "\n",
    "    return output"
   ],
   "id": "d7f5be466b61bf3c",
   "outputs": [],
   "execution_count": 10
  },
  {
   "metadata": {
    "ExecuteTime": {
     "end_time": "2025-08-22T22:55:52.431990Z",
     "start_time": "2025-08-22T22:55:52.426174Z"
    }
   },
   "cell_type": "code",
   "source": [
    "\"\"\"\n",
    "Graph valid tree\n",
    "Same as the course schedule problem\n",
    "Undirected edges means you have to work on the edges twice\n",
    "\"\"\"\n",
    "\n",
    "from collections import defaultdict\n",
    "\n",
    "\n",
    "def valid_graph(n, edges):\n",
    "    if not n:\n",
    "        return None\n",
    "\n",
    "    #Base case check\n",
    "    if len(edges) != n - 1:\n",
    "        return False\n",
    "\n",
    "    #Create an adjacency list\n",
    "    edge_map = defaultdict(list)\n",
    "\n",
    "    #Append undirected edges to the adjacency list\n",
    "    for v1, v2 in edges:\n",
    "        edge_map[v1].append(v2)\n",
    "        edge_map[v2].append(v1)\n",
    "\n",
    "    #Create a visited set\n",
    "    visited = set()\n",
    "\n",
    "    #Same function as the course schedule with a minor change checking in the previous node\n",
    "    def dfs(curr, prev):\n",
    "        if curr in visited:\n",
    "            return False\n",
    "\n",
    "        visited.add(curr)\n",
    "\n",
    "        for edge in edge_map[curr]:\n",
    "            if edge == prev:\n",
    "                continue\n",
    "\n",
    "            if not dfs(edge, curr):\n",
    "                return False\n",
    "\n",
    "        visited.remove(curr)\n",
    "\n",
    "        return True\n",
    "\n",
    "    #If all the nodes can be visited and are connected then the tree is valid\n",
    "    return dfs(0, -1) and len(visited) == n"
   ],
   "id": "fb11501a94933c9f",
   "outputs": [],
   "execution_count": 11
  },
  {
   "metadata": {
    "ExecuteTime": {
     "end_time": "2025-08-22T23:12:12.426994Z",
     "start_time": "2025-08-22T23:12:12.415505Z"
    }
   },
   "cell_type": "code",
   "source": [
    "\"\"\"\n",
    "Number of connected components in an undirected graph\n",
    "\"\"\"\n",
    "\n",
    "from collections import defaultdict\n",
    "\n",
    "\n",
    "def count_components(n, edges):\n",
    "    if not n:\n",
    "        return 0\n",
    "\n",
    "    edge_map = defaultdict(list)\n",
    "\n",
    "    for v1, v2 in edges:\n",
    "        edge_map[v1].append(v2)\n",
    "        edge_map[v2].append(v1)\n",
    "\n",
    "    visited = set()\n",
    "\n",
    "    def dfs(curr):\n",
    "        for node in edge_map[curr]:\n",
    "            if node not in visited:\n",
    "                visited.add(node)\n",
    "                dfs(node)\n",
    "\n",
    "    res = 0\n",
    "    for c in range(n):\n",
    "        if c not in visited:\n",
    "            visited.add(c)\n",
    "            dfs(c)\n",
    "            res += 1\n",
    "\n",
    "    return res"
   ],
   "id": "28f3b7243955eca3",
   "outputs": [],
   "execution_count": 12
  },
  {
   "metadata": {
    "ExecuteTime": {
     "end_time": "2025-08-22T23:16:43.766733Z",
     "start_time": "2025-08-22T23:16:43.753573Z"
    }
   },
   "cell_type": "code",
   "source": [
    "\"\"\"\n",
    "Find the redundant edge\n",
    "\"\"\""
   ],
   "id": "7fc38adf3e62d5df",
   "outputs": [
    {
     "data": {
      "text/plain": [
       "'\\nFind the redundant edge\\n'"
      ]
     },
     "execution_count": 13,
     "metadata": {},
     "output_type": "execute_result"
    }
   ],
   "execution_count": 13
  },
  {
   "metadata": {
    "ExecuteTime": {
     "end_time": "2025-08-22T23:16:55.033972Z",
     "start_time": "2025-08-22T23:16:55.028450Z"
    }
   },
   "cell_type": "code",
   "source": [
    "\"\"\"\n",
    "Word Ladder\n",
    "\"\"\""
   ],
   "id": "112ff3cd417cfbe2",
   "outputs": [
    {
     "data": {
      "text/plain": [
       "'\\nWord Ladder\\n'"
      ]
     },
     "execution_count": 14,
     "metadata": {},
     "output_type": "execute_result"
    }
   ],
   "execution_count": 14
  },
  {
   "metadata": {
    "ExecuteTime": {
     "end_time": "2025-08-22T23:21:06.887819Z",
     "start_time": "2025-08-22T23:21:06.876305Z"
    }
   },
   "cell_type": "code",
   "source": [
    "\"\"\"\n",
    "Network Delay Time\n",
    "\"\"\""
   ],
   "id": "2e9566ac8f0b2646",
   "outputs": [
    {
     "data": {
      "text/plain": [
       "'\\nNetwork Delay Time\\n'"
      ]
     },
     "execution_count": 15,
     "metadata": {},
     "output_type": "execute_result"
    }
   ],
   "execution_count": 15
  },
  {
   "metadata": {},
   "cell_type": "code",
   "outputs": [],
   "execution_count": null,
   "source": "",
   "id": "7541f0cdcee1e22f"
  }
 ],
 "metadata": {
  "kernelspec": {
   "display_name": "Python 3",
   "language": "python",
   "name": "python3"
  },
  "language_info": {
   "codemirror_mode": {
    "name": "ipython",
    "version": 2
   },
   "file_extension": ".py",
   "mimetype": "text/x-python",
   "name": "python",
   "nbconvert_exporter": "python",
   "pygments_lexer": "ipython2",
   "version": "2.7.6"
  }
 },
 "nbformat": 4,
 "nbformat_minor": 5
}
