{
 "cells": [
  {
   "metadata": {},
   "cell_type": "markdown",
   "source": "# Tries",
   "id": "f22a1d2de56f9c39"
  },
  {
   "cell_type": "code",
   "id": "initial_id",
   "metadata": {
    "collapsed": true,
    "ExecuteTime": {
     "end_time": "2025-08-19T16:38:42.461126Z",
     "start_time": "2025-08-19T16:38:42.452388Z"
    }
   },
   "source": [
    "\"\"\"\n",
    "Implement a prefix trie\n",
    "\"\"\"\n",
    "\n",
    "\n",
    "class TrieNode:\n",
    "    def __init__(self):\n",
    "        self.children = {}\n",
    "        self.endOfWord = False\n",
    "\n",
    "\n",
    "class PrefixTrie:\n",
    "    def __init__(self):\n",
    "        self.root = TrieNode()\n",
    "\n",
    "    def insert(self, word):\n",
    "        curr = self.root\n",
    "        for c in word:\n",
    "            if c not in curr.children:\n",
    "                curr.children[c] = TrieNode()\n",
    "            curr = curr.children[c]\n",
    "        curr.endOfWord = True\n",
    "\n",
    "    def search(self, word):\n",
    "        curr = self.root\n",
    "        for c in word:\n",
    "            if c not in curr.children:\n",
    "                return False\n",
    "            curr = curr.children[c]\n",
    "        return curr.endOfWord\n",
    "\n",
    "    def startsWith(self, word):\n",
    "        curr = self.root\n",
    "        for c in word:\n",
    "            if c not in curr.children:\n",
    "                return False\n",
    "            curr = curr.children[c]\n",
    "\n",
    "        return True"
   ],
   "outputs": [],
   "execution_count": 2
  },
  {
   "metadata": {
    "ExecuteTime": {
     "end_time": "2025-08-19T16:53:00.322225Z",
     "start_time": "2025-08-19T16:53:00.312919Z"
    }
   },
   "cell_type": "code",
   "source": [
    "\"\"\"\n",
    "Design add and search words data structure\n",
    "\"\"\"\n",
    "\n",
    "\n",
    "class TrieNode:\n",
    "    def __init__(self):\n",
    "        self.children = {}\n",
    "        self.endOfWord = False\n",
    "\n",
    "\n",
    "class PrefixTree:\n",
    "    def __init__(self):\n",
    "        self.root = TrieNode()\n",
    "\n",
    "    def add_word(self, word):\n",
    "        curr = self.root\n",
    "        for c in word:\n",
    "            if c not in curr.children:\n",
    "                curr.children[c] = TrieNode()\n",
    "            curr = curr.children[c]\n",
    "        curr.endOfWord = True\n",
    "\n",
    "    def search_word(self, search):\n",
    "        def dfs(j, root):\n",
    "            curr = root\n",
    "            for i in range(j, len(search)):\n",
    "                c = search[i]\n",
    "                if c == \".\":\n",
    "                    for child in curr.children.values():\n",
    "                        if dfs(i + 1, child):\n",
    "                            return True\n",
    "                    return False\n",
    "\n",
    "                else:\n",
    "                    if c not in curr.children:\n",
    "                        return False\n",
    "                    curr = curr.children[c]\n",
    "\n",
    "            return curr.endOfWord\n",
    "\n",
    "        return dfs(0, self.root)"
   ],
   "id": "20bce755c594d9fb",
   "outputs": [],
   "execution_count": 3
  },
  {
   "metadata": {
    "ExecuteTime": {
     "end_time": "2025-08-19T16:53:08.436144Z",
     "start_time": "2025-08-19T16:53:08.421606Z"
    }
   },
   "cell_type": "code",
   "source": [
    "\"\"\"\n",
    "Word search - using backtracking\n",
    "\"\"\"\n",
    "\n",
    "\n",
    "def exist(board, word):\n",
    "    ROWS, COLS = len(board), len(board[0])\n",
    "\n",
    "    def dfs(r, c, i):\n",
    "        if i == len(word):\n",
    "            return True\n",
    "\n",
    "        if (r < 0 or c < 0 or r >= ROWS or c >= COLS or word[i] != board[r][c] or board[r][c] == '#'):\n",
    "            return False\n",
    "\n",
    "        board[r][c] = '#'\n",
    "\n",
    "        res = (dfs(r + 1, c, i + 1) or\n",
    "               dfs(r - 1, c, i + 1) or\n",
    "               dfs(r, c + 1, i + 1) or\n",
    "               dfs(r, c - 1, i + 1))\n",
    "\n",
    "        board[r][c] = word[i]\n",
    "\n",
    "        return res\n",
    "\n",
    "    for r in range(ROWS):\n",
    "        for c in range(COLS):\n",
    "            if dfs(r, c, 0):\n",
    "                return True\n",
    "\n",
    "    return False"
   ],
   "id": "bd7b2227d814e8ea",
   "outputs": [
    {
     "data": {
      "text/plain": [
       "'\\nWord search - using backtracking\\n'"
      ]
     },
     "execution_count": 4,
     "metadata": {},
     "output_type": "execute_result"
    }
   ],
   "execution_count": 4
  },
  {
   "metadata": {},
   "cell_type": "code",
   "outputs": [],
   "execution_count": null,
   "source": [
    "\"\"\"\n",
    "Word search - using trie\n",
    "\"\"\"\n",
    "\n",
    "\n",
    "\n"
   ],
   "id": "93c68fff0332b1ee"
  }
 ],
 "metadata": {
  "kernelspec": {
   "display_name": "Python 3",
   "language": "python",
   "name": "python3"
  },
  "language_info": {
   "codemirror_mode": {
    "name": "ipython",
    "version": 2
   },
   "file_extension": ".py",
   "mimetype": "text/x-python",
   "name": "python",
   "nbconvert_exporter": "python",
   "pygments_lexer": "ipython2",
   "version": "2.7.6"
  }
 },
 "nbformat": 4,
 "nbformat_minor": 5
}
