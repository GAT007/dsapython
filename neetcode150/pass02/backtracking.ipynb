{
 "cells": [
  {
   "metadata": {},
   "cell_type": "markdown",
   "source": [
    "# Backtracking\n",
    "\n",
    "General structure seems to be recursive using a stack and shallow copies\n",
    "\n",
    "Have a base case for the recursive function to return the call from\n",
    "\n",
    "Create a shallow copy of the object to be modified\n",
    "\n",
    "Push it onto our tracking stack\n",
    "\n",
    "Recursively call the backtracking function\n",
    "\n",
    "Pop it from our tracking stack\n"
   ],
   "id": "baffecef16bd3546"
  },
  {
   "metadata": {},
   "cell_type": "code",
   "outputs": [],
   "execution_count": null,
   "source": [
    "\"\"\"\n",
    "Letter Case Permutations\n",
    "\"\"\"\n",
    "\n",
    "\n",
    "def letter_case_permutations(st):\n",
    "    res = [\"\"]\n",
    "\n",
    "    for s in st:\n",
    "        temp = []\n",
    "        for r in res:\n",
    "            if s.isalpha():\n",
    "                temp.append(r + s.lower())\n",
    "                temp.append(r + s.upper())\n",
    "            else:\n",
    "                temp.append(r + s)\n",
    "        res = temp\n",
    "    return res\n",
    "\n",
    "\n",
    "def letter_case_recursive(st):\n",
    "    res = []\n",
    "\n",
    "    def backtrack(sub=\"\", i=0):\n",
    "        #A very common way of checking if the string or object to be returned is complete or not\n",
    "        if len(sub) == len(st):\n",
    "            res.append(sub)\n",
    "\n",
    "        else:\n",
    "            if st[i].isalpha():\n",
    "                backtrack(sub + st[i].swapcase(), i + 1)\n",
    "            backtrack(sub + st[i], i + 1)\n",
    "\n",
    "    backtrack()\n",
    "    return res"
   ],
   "id": "7a365f363ccc5f6c"
  },
  {
   "cell_type": "code",
   "id": "initial_id",
   "metadata": {
    "collapsed": true,
    "ExecuteTime": {
     "end_time": "2025-08-20T23:48:56.668839Z",
     "start_time": "2025-08-20T23:48:56.661317Z"
    }
   },
   "source": [
    "\"\"\"\n",
    "Subsets\n",
    "\"\"\"\n",
    "\n",
    "\n",
    "def subsets(nums):\n",
    "    def backtrack(start, path):\n",
    "        res.append(path.copy())\n",
    "        for i in range(start, len(nums)):\n",
    "            path.append(nums[i])\n",
    "            backtrack(i + 1, path)\n",
    "            path.pop()\n",
    "\n",
    "    res = []\n",
    "    backtrack(0, [])\n",
    "    return res\n"
   ],
   "outputs": [],
   "execution_count": 3
  },
  {
   "metadata": {
    "ExecuteTime": {
     "end_time": "2025-08-20T23:58:00.824259Z",
     "start_time": "2025-08-20T23:58:00.817370Z"
    }
   },
   "cell_type": "code",
   "source": [
    "\"\"\"\n",
    "Combinations\n",
    "Two integers n and k, return all possible combinations of k numbers from range[1,n]\n",
    "\"\"\"\n",
    "\n",
    "\n",
    "def combinations(n, k):\n",
    "    def backtrack(start, path):\n",
    "        if len(path) == k:\n",
    "            res.append(path.copy())\n",
    "            return\n",
    "        for i in range(start, n + 1):\n",
    "            path.append(i)\n",
    "            backtrack(i + 1, path)\n",
    "            path.pop()\n",
    "\n",
    "    res = []\n",
    "    backtrack(1, [])\n",
    "    return res"
   ],
   "id": "43b2257ee30a62c1",
   "outputs": [],
   "execution_count": 4
  },
  {
   "metadata": {
    "ExecuteTime": {
     "end_time": "2025-08-21T00:01:58.917353Z",
     "start_time": "2025-08-21T00:01:58.908238Z"
    }
   },
   "cell_type": "code",
   "source": [
    "\"\"\"\n",
    "Permutations\n",
    "Same thing as combinations which is the same thing as subsets except you swap the numbers around based on the indices you are dealing with and passing\n",
    "\"\"\"\n",
    "\n",
    "\n",
    "def permute(nums):\n",
    "    def backtrack(start, end):\n",
    "        if (start == end):\n",
    "            res.append(nums.copy())\n",
    "            return\n",
    "        for i in range(start, end):\n",
    "            nums[start], nums[i] = nums[i], nums[start]\n",
    "            backtrack(i + 1, end)\n",
    "            nums[start], nums[i] = nums[i], nums[start]\n",
    "\n",
    "    res = []\n",
    "    backtrack(0, len(nums) - 1)\n",
    "    return res\n",
    "\n",
    "\n",
    "print(permute([1, 2, 3, 4]))"
   ],
   "id": "2c2d034072159c85",
   "outputs": [
    {
     "name": "stdout",
     "output_type": "stream",
     "text": [
      "[[1, 2, 3, 4], [1, 3, 2, 4], [2, 1, 3, 4], [3, 2, 1, 4]]\n"
     ]
    }
   ],
   "execution_count": 5
  },
  {
   "metadata": {
    "ExecuteTime": {
     "end_time": "2025-08-21T00:41:09.492618Z",
     "start_time": "2025-08-21T00:41:09.483824Z"
    }
   },
   "cell_type": "code",
   "source": [
    "\"\"\"\n",
    "Combination Sum I\n",
    "\"\"\"\n",
    "\n",
    "\n",
    "def combination_sum_i(nums, target):\n",
    "    def backtrack(start, path, total):\n",
    "        if total == target:\n",
    "            res.append(path.copy())\n",
    "            return\n",
    "\n",
    "        if total > target:\n",
    "            return\n",
    "\n",
    "        for i in range(start, len(nums)):\n",
    "            path.append(nums[i])\n",
    "            backtrack(i, path, total + nums[i])\n",
    "            path.pop()\n",
    "\n",
    "    res = []\n",
    "    backtrack(0, [], 0)\n",
    "    return res"
   ],
   "id": "1e6b5bc511354dd9",
   "outputs": [],
   "execution_count": 6
  },
  {
   "metadata": {
    "ExecuteTime": {
     "end_time": "2025-08-21T01:03:33.823170Z",
     "start_time": "2025-08-21T01:03:33.814519Z"
    }
   },
   "cell_type": "code",
   "source": [
    "\"\"\"\n",
    "Combination Sum II\n",
    "\"\"\"\n",
    "\n",
    "\n",
    "def combination_sum_ii(nums, target):\n",
    "    nums.sort()\n",
    "    res = set()\n",
    "\n",
    "    def backtrack(start, path, total):\n",
    "        if total == target:\n",
    "            res.add(tuple(path))\n",
    "            return\n",
    "\n",
    "        if total > target:\n",
    "            return\n",
    "\n",
    "        for i in range(start, len(nums)):\n",
    "\n",
    "            if i > start and nums[i] == nums[i - 1]:\n",
    "                continue\n",
    "            path.append(nums[i])\n",
    "            backtrack(i + 1, path, nums[i] + total)\n",
    "            path.pop()\n",
    "\n",
    "    res = set()\n",
    "    backtrack(0, [], 0)\n",
    "    return res\n"
   ],
   "id": "4115fcaaf84c1536",
   "outputs": [],
   "execution_count": 7
  },
  {
   "metadata": {
    "ExecuteTime": {
     "end_time": "2025-08-21T01:04:44.725209Z",
     "start_time": "2025-08-21T01:04:44.718742Z"
    }
   },
   "cell_type": "code",
   "source": [
    "\"\"\"\n",
    "Letter combinations of a phone number\n",
    "\"\"\"\n",
    "\n",
    "\n",
    "def letter_combinations(nums):\n",
    "    character_map = {\n",
    "        2: \"abc\",\n",
    "        3: \"def\",\n",
    "        4: \"ghi\",\n",
    "        5: \"jkl\",\n",
    "        6: \"mno\",\n",
    "        7: \"pqrs\",\n",
    "        8: \"tuv\",\n",
    "        9: \"wxyz\"\n",
    "    }\n",
    "\n",
    "    def backtrack(start, path):\n",
    "        if len(path) == len(nums):\n",
    "            res.append(path)\n",
    "            return\n",
    "\n",
    "        for c in character_map[nums[start]]:\n",
    "            backtrack(start + 1, path + c)\n",
    "\n",
    "    res = []\n",
    "    backtrack(0, \"\")\n",
    "    return res\n"
   ],
   "id": "9d222bbaefdae758",
   "outputs": [],
   "execution_count": 8
  },
  {
   "metadata": {
    "ExecuteTime": {
     "end_time": "2025-08-21T01:40:51.624001Z",
     "start_time": "2025-08-21T01:40:51.616053Z"
    }
   },
   "cell_type": "code",
   "source": [
    "\"\"\"\n",
    "Palindrome partitioning\n",
    "\"\"\"\n",
    "\n",
    "\n",
    "def partition(s):\n",
    "    res = []\n",
    "\n",
    "    def isPalindrome(s, l, r):\n",
    "        while l < r:\n",
    "            if s[l] != s[r]:\n",
    "                return False\n",
    "            l += 1\n",
    "            r -= 1\n",
    "        return True\n",
    "\n",
    "    def backtrack(start, path):\n",
    "        if start >= len(s):\n",
    "            res.append(path.copy())\n",
    "            return\n",
    "\n",
    "        for i in range(start, len(s)):\n",
    "            if isPalindrome(s, start, i):\n",
    "                path.append(s[start:i + 1])\n",
    "                backtrack(i + 1, path)\n",
    "                path.pop()\n",
    "\n",
    "    backtrack(0, [])\n",
    "\n",
    "    return res\n",
    "\n"
   ],
   "id": "d6f1e53520795fff",
   "outputs": [],
   "execution_count": 9
  },
  {
   "metadata": {
    "ExecuteTime": {
     "end_time": "2025-08-21T03:07:59.303512Z",
     "start_time": "2025-08-21T03:07:59.294017Z"
    }
   },
   "cell_type": "code",
   "source": [
    "\"\"\"\n",
    "Subsets 2\n",
    "\"\"\"\n",
    "\n",
    "\n",
    "def subsets_2(nums):\n",
    "    nums.sort()\n",
    "\n",
    "    def backtrack(start, path):\n",
    "        res.add(tuple(path.copy()))\n",
    "        for i in range(start, len(nums)):\n",
    "            if i > start and nums[i] == nums[i - 1]:\n",
    "                continue\n",
    "            path.append(nums[i])\n",
    "            backtrack(i + 1, path)\n",
    "            path.pop()\n",
    "\n",
    "    res = set()\n",
    "    backtrack(0, [])\n",
    "    return res"
   ],
   "id": "b0f78687bd79be74",
   "outputs": [],
   "execution_count": 10
  },
  {
   "metadata": {},
   "cell_type": "code",
   "outputs": [],
   "execution_count": null,
   "source": [
    "\"\"\"\n",
    "Word Search\n",
    "\"\"\"\n",
    "\n",
    "\n",
    "def word_search_dfs(board, word):\n",
    "    ROWS, COLS = len(board), len(board[0])\n",
    "\n",
    "    #Current row, Current col, current index in the word we are looking for\n",
    "    def dfs(r, c, k):\n",
    "        if k == len(word):\n",
    "            return True\n",
    "\n",
    "        if not (0 <= r < ROWS and 0 <= c < COLS and board[r][c] == word[k]):\n",
    "            return False\n",
    "\n",
    "        temp = board[r][c]\n",
    "        board[r][c] = '#'\n",
    "\n",
    "        found = (dfs(r + 1, c, k + 1) or dfs(r - 1, c, k + 1) or dfs(r, c + 1, k + 1) or dfs(r, c - 1, k + 1))\n",
    "\n",
    "        board[r][c] = temp\n",
    "        return found\n",
    "\n",
    "    for i in range(ROWS):\n",
    "        for j in range(COLS):\n",
    "            if board[i][j] == word[0]:\n",
    "                if dfs(i, j, 0):\n",
    "                    return True\n",
    "\n",
    "    return False\n",
    "\n"
   ],
   "id": "797b88baaaa6abc9"
  }
 ],
 "metadata": {
  "kernelspec": {
   "display_name": "Python 3",
   "language": "python",
   "name": "python3"
  },
  "language_info": {
   "codemirror_mode": {
    "name": "ipython",
    "version": 2
   },
   "file_extension": ".py",
   "mimetype": "text/x-python",
   "name": "python",
   "nbconvert_exporter": "python",
   "pygments_lexer": "ipython2",
   "version": "2.7.6"
  }
 },
 "nbformat": 4,
 "nbformat_minor": 5
}
