{
 "cells": [
  {
   "metadata": {},
   "cell_type": "markdown",
   "source": [
    "# Dynamic Programming\n",
    "\n",
    "The art of solving problems by solving the sub problems of lower values and using those values to solve the bigger problems and thus finding the final answer\n",
    "\n",
    "Fibonacci's sequence is a famous dp problem\n",
    "\n",
    "Basic structure of a dp is:\n",
    "1. Init the data structure, usually a list that will hold the base values\n",
    "2. Write in the base values\n",
    "3. Create the iter that will use the base values and fill up the rest of the array\n",
    "4. If the final value gets computed, return final value, else return appropriate error value"
   ],
   "id": "bd3106f7e87fbb7"
  },
  {
   "cell_type": "code",
   "id": "initial_id",
   "metadata": {
    "collapsed": true,
    "ExecuteTime": {
     "end_time": "2025-08-23T13:19:56.806786Z",
     "start_time": "2025-08-23T13:19:56.790941Z"
    }
   },
   "source": [
    "\"\"\"\n",
    "Climbing stairs\n",
    "\"\"\"\n",
    "\n",
    "\n",
    "def climbing_stairs(n):\n",
    "    dp = [0] * (n + 1)\n",
    "    dp[1] = 1\n",
    "    dp[2] = 2\n",
    "\n",
    "    for i in range(3, n + 1):\n",
    "        dp[i] = dp[i - 1] + dp[i - 2]\n",
    "\n",
    "    return dp[n]"
   ],
   "outputs": [],
   "execution_count": 2
  },
  {
   "metadata": {
    "ExecuteTime": {
     "end_time": "2025-08-23T22:18:56.628385Z",
     "start_time": "2025-08-23T22:18:56.611954Z"
    }
   },
   "cell_type": "code",
   "source": [
    "\"\"\"\n",
    "Min Cost Climbing Stairs\n",
    "\"\"\"\n",
    "\n",
    "\n",
    "def min_cost_climbing_stairs(cost):\n",
    "    dp = [0] * len(cost + 1)\n",
    "\n",
    "    for i in range(2, len(cost) + 1):\n",
    "        dp[i] = min(dp[i - 1] + cost[i - 1], dp[i - 2] + cost[i - 2])\n",
    "\n",
    "    return dp[len(cost)]"
   ],
   "id": "49c5308059472954",
   "outputs": [],
   "execution_count": 1
  },
  {
   "metadata": {
    "ExecuteTime": {
     "end_time": "2025-08-23T22:38:30.320645Z",
     "start_time": "2025-08-23T22:38:30.314145Z"
    }
   },
   "cell_type": "code",
   "source": [
    "\"\"\"\n",
    "House robber\n",
    "\"\"\"\n",
    "\n",
    "\n",
    "def house_robber(nums):\n",
    "    if not nums:\n",
    "        return 0\n",
    "\n",
    "    n = len(nums)\n",
    "\n",
    "    if n == 1:\n",
    "        return nums[0]\n",
    "\n",
    "    dp = [0] * n\n",
    "\n",
    "    dp[0] = nums[0]\n",
    "    dp[1] = max(nums[0], nums[1])\n",
    "\n",
    "    for i in range(2, n):\n",
    "        dp[i] = max(dp[i - 1], nums[i] + dp[i - 2])\n",
    "\n",
    "    return dp[-1]"
   ],
   "id": "ac24f9023954184d",
   "outputs": [],
   "execution_count": 3
  },
  {
   "metadata": {
    "ExecuteTime": {
     "end_time": "2025-08-23T22:45:02.333946Z",
     "start_time": "2025-08-23T22:45:02.327796Z"
    }
   },
   "cell_type": "code",
   "source": [
    "\"\"\"\n",
    "House Robber 2\n",
    "\"\"\"\n",
    "\n",
    "\n",
    "def rob(nums):\n",
    "    if not nums:\n",
    "        return 0\n",
    "\n",
    "    n = len(nums)\n",
    "\n",
    "    if n == 1:\n",
    "        return nums[0]\n",
    "\n",
    "    def helper(nums):\n",
    "        n = len(nums)\n",
    "\n",
    "        dp = [0] * n\n",
    "\n",
    "        dp[0] = nums[0]\n",
    "        dp[1] = max(nums[0], nums[1])\n",
    "\n",
    "        for i in range(2, n):\n",
    "            dp[i] = max(dp[i - 1], nums[i] + dp[i - 2])\n",
    "\n",
    "        return dp[-1]\n",
    "\n",
    "    return max(helper(nums[1:]), helper(nums[:-1]))"
   ],
   "id": "444c41774a962d6e",
   "outputs": [],
   "execution_count": 4
  },
  {
   "metadata": {
    "ExecuteTime": {
     "end_time": "2025-08-23T23:17:11.764064Z",
     "start_time": "2025-08-23T23:17:11.753579Z"
    }
   },
   "cell_type": "code",
   "source": [
    "\"\"\"\n",
    "Longest palindromic substring\n",
    "\"\"\"\n",
    "\n",
    "\n",
    "def longest_palindromic(s):\n",
    "    resLen, resIdx = 0, 0\n",
    "    n = len(s)\n",
    "\n",
    "    dp = [[False] * n for _ in range(n)]\n",
    "\n",
    "    for i in range(n - 1, -1, -1):\n",
    "        for j in range(i, n):\n",
    "            if s[i] == s[j] and (j - i <= 2 or dp[i + 1][j - 1]):\n",
    "                dp[i][j] = True\n",
    "                if resLen < (j - i + 1):\n",
    "                    resIdx = i\n",
    "                    resLen = j - i + 1\n",
    "\n",
    "    return s[resIdx:resIdx + resLen]\n",
    "\n",
    "\n"
   ],
   "id": "158c01974ef3f9d2",
   "outputs": [],
   "execution_count": 5
  },
  {
   "metadata": {
    "ExecuteTime": {
     "end_time": "2025-08-23T23:28:08.118165Z",
     "start_time": "2025-08-23T23:28:08.109846Z"
    }
   },
   "cell_type": "code",
   "source": [
    "\"\"\"\n",
    "Palindromic Substrings\n",
    "Given a string s, return the number of substrings within s that are palindromes\n",
    "\"\"\"\n",
    "\n",
    "\n",
    "def countPalindrome(s, l, r):\n",
    "    res = 0\n",
    "    while l >= 0 and r < len(s) and s[l] == s[r]:\n",
    "        res += 1\n",
    "        l -= 1\n",
    "        r += 1\n",
    "\n",
    "    return res\n",
    "\n",
    "\n",
    "def palindromicSubstring(sr):\n",
    "    res = 0\n",
    "    for i in range(len(sr)):\n",
    "        res += countPalindrome(sr, i, i)\n",
    "        res += countPalindrome(sr, i, i + 1)\n",
    "\n",
    "    return res"
   ],
   "id": "be112d392019eb6d",
   "outputs": [],
   "execution_count": 7
  },
  {
   "metadata": {
    "ExecuteTime": {
     "end_time": "2025-08-23T23:32:36.800791Z",
     "start_time": "2025-08-23T23:32:36.793016Z"
    }
   },
   "cell_type": "code",
   "source": [
    "\"\"\"\n",
    "Decode ways\n",
    "String can be encoded as a->1, b->2, c->3, given a string consisting only of digits, how many possible ways can you decode it?\n",
    "\"\"\"\n",
    "\n",
    "\n",
    "def decode_ways(s):\n",
    "    dp = {len(s): 1}\n",
    "    for i in range(len(s) - 1, - 1, -1):\n",
    "        if s[i] == \"0\":\n",
    "            dp[i] = 0\n",
    "        else:\n",
    "            dp[i] = dp[i + 1]\n",
    "\n",
    "        if i + 1 < len(s) and (s[i] == \"1\" or (s[i] == \"2\" and s[i + 1] in \"0123456\")):\n",
    "            dp[i] += dp[i + 2]\n",
    "\n",
    "    return dp[0]\n"
   ],
   "id": "7ebee3ae9a887155",
   "outputs": [],
   "execution_count": 8
  },
  {
   "metadata": {
    "ExecuteTime": {
     "end_time": "2025-08-23T23:34:46.613530Z",
     "start_time": "2025-08-23T23:34:46.605875Z"
    }
   },
   "cell_type": "code",
   "source": [
    "\"\"\"\n",
    "Coin change\n",
    "\"\"\"\n",
    "\n",
    "\n",
    "def coin_change(coins, target):\n",
    "    dp = [target + 1] * target + 1\n",
    "\n",
    "    dp[0] = 0\n",
    "\n",
    "    for i in range(target + 1):\n",
    "        for c in coins:\n",
    "            if i - c >= 0:\n",
    "                dp[i] = min(dp[i], 1 + dp[i - c])\n",
    "\n",
    "    return dp[target] if dp[target] != target + 1 else -1\n"
   ],
   "id": "ac126c1dd021a872",
   "outputs": [],
   "execution_count": 9
  },
  {
   "metadata": {
    "ExecuteTime": {
     "end_time": "2025-08-23T23:54:05.344851Z",
     "start_time": "2025-08-23T23:54:05.327073Z"
    }
   },
   "cell_type": "code",
   "source": [
    "\"\"\"\n",
    "Kadane's algorithm\n",
    "Maximum product subarray\n",
    "Given an integer array nums, find a subarray that has the largest product within the array and return it\n",
    "\"\"\"\n",
    "\n",
    "\n",
    "def max_product_subarray(nums):\n",
    "    res = nums[0]\n",
    "    curMin, curMax = 1, 1\n",
    "\n",
    "    for num in nums:\n",
    "        tmp = num * curMax\n",
    "        curMax = max(num * curMax, num * curMin, num)\n",
    "        curMin = min(tmp, num * curMin, num)\n",
    "        res = max(res, curMax)\n",
    "\n",
    "    return res"
   ],
   "id": "1dd97b7acd6a91d7",
   "outputs": [],
   "execution_count": 10
  },
  {
   "metadata": {
    "ExecuteTime": {
     "end_time": "2025-08-23T23:56:34.288126Z",
     "start_time": "2025-08-23T23:56:34.281992Z"
    }
   },
   "cell_type": "code",
   "source": [
    "\"\"\"\n",
    "Maximum Sum subarray\n",
    "\"\"\"\n",
    "\n",
    "\n",
    "def max_sum_subarray(nums):\n",
    "    dp = [0] * len(nums)\n",
    "    for i, n in enumerate(nums):\n",
    "        dp[i] = max(n, dp[i - 1] + n)\n",
    "\n",
    "    return max(dp)\n",
    "\n"
   ],
   "id": "50dcb26bc7865ea3",
   "outputs": [],
   "execution_count": 11
  },
  {
   "metadata": {
    "ExecuteTime": {
     "end_time": "2025-08-24T16:36:21.072732Z",
     "start_time": "2025-08-24T16:36:21.053705Z"
    }
   },
   "cell_type": "code",
   "source": [
    "\"\"\"\n",
    "Word Break\n",
    "Review the video on this again\n",
    "\"\"\"\n",
    "\n",
    "\n",
    "def word_break(s, wordDict):\n",
    "    dp = [False] * (len(s) + 1)\n",
    "    dp[len(s)] = True\n",
    "\n",
    "    for i in range(len(s) - 1, -1, -1):\n",
    "        for w in wordDict:\n",
    "            if (i + len(w) <= len(s)) and s[i:i + len(w)] == w:\n",
    "                dp[i] = dp[i + len(w)]\n",
    "            if dp[i]:\n",
    "                break\n",
    "    return dp[0]"
   ],
   "id": "7f0af18ed9498b63",
   "outputs": [],
   "execution_count": 12
  },
  {
   "metadata": {},
   "cell_type": "code",
   "outputs": [],
   "execution_count": null,
   "source": [
    "\"\"\"\n",
    "Longest increasing subsequence : DP Problem\n",
    "\"\"\"\n",
    "\n"
   ],
   "id": "ce36233a91bc9a4b"
  }
 ],
 "metadata": {
  "kernelspec": {
   "display_name": "Python 3",
   "language": "python",
   "name": "python3"
  },
  "language_info": {
   "codemirror_mode": {
    "name": "ipython",
    "version": 2
   },
   "file_extension": ".py",
   "mimetype": "text/x-python",
   "name": "python",
   "nbconvert_exporter": "python",
   "pygments_lexer": "ipython2",
   "version": "2.7.6"
  }
 },
 "nbformat": 4,
 "nbformat_minor": 5
}
