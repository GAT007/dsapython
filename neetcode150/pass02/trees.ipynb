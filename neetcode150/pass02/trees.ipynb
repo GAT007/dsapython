{
 "cells": [
  {
   "metadata": {},
   "cell_type": "markdown",
   "source": "# Trees",
   "id": "75e01ece92261121"
  },
  {
   "cell_type": "code",
   "id": "initial_id",
   "metadata": {
    "collapsed": true,
    "ExecuteTime": {
     "end_time": "2025-08-18T18:58:33.363442Z",
     "start_time": "2025-08-18T18:58:33.354266Z"
    }
   },
   "source": [
    "\"\"\"\n",
    "Invert a binary tree\n",
    "\"\"\"\n",
    "\n",
    "from collections import deque\n",
    "\n",
    "\n",
    "def invert_binary_tree(root):\n",
    "    if not root:\n",
    "        return None\n",
    "\n",
    "    q = deque([root])\n",
    "\n",
    "    while q:\n",
    "        curr = q.popleft()\n",
    "        curr.left, curr.right = curr.right, curr.left\n",
    "        if curr.left: q.append(curr.left)\n",
    "        if curr.right: q.append(curr.right)\n",
    "\n",
    "    return root\n",
    "\n"
   ],
   "outputs": [],
   "execution_count": 1
  },
  {
   "metadata": {
    "ExecuteTime": {
     "end_time": "2025-08-18T19:01:09.132920Z",
     "start_time": "2025-08-18T19:01:09.124411Z"
    }
   },
   "cell_type": "code",
   "source": [
    "\"\"\"\n",
    "Maximum Depth of a binary tree\n",
    "\"\"\"\n",
    "\n",
    "from collections import deque\n",
    "\n",
    "\n",
    "def max_depth(root):\n",
    "    if not root:\n",
    "        return 0\n",
    "\n",
    "    q = deque([root])\n",
    "    level = 0\n",
    "\n",
    "    while q:\n",
    "        level += 1\n",
    "        for i in range(len(q)):\n",
    "            curr = q.popleft()\n",
    "            if curr.left: q.append(curr.left)\n",
    "            if curr.right: q.append(curr.right)\n",
    "\n",
    "    return level"
   ],
   "id": "b7aa91a79de64fe8",
   "outputs": [],
   "execution_count": 2
  },
  {
   "metadata": {
    "ExecuteTime": {
     "end_time": "2025-08-18T19:09:58.142025Z",
     "start_time": "2025-08-18T19:09:58.133362Z"
    }
   },
   "cell_type": "code",
   "source": [
    "\"\"\"\n",
    "Diameter of a binary tree\n",
    "\"\"\"\n",
    "\n",
    "\n",
    "def diameter_binary_tree(root):\n",
    "    if not root:\n",
    "        return 0\n",
    "\n",
    "    diameter = 0\n",
    "\n",
    "    def depth(curr):\n",
    "        nonlocal diameter\n",
    "\n",
    "        if not curr:\n",
    "            return 0\n",
    "\n",
    "        left_depth = depth(curr.left)\n",
    "        right_depth = depth(curr.right)\n",
    "\n",
    "        diameter = max(diameter, left_depth + right_depth)\n",
    "\n",
    "        return 1 + max(left_depth, right_depth)\n",
    "\n",
    "    depth(root)\n",
    "\n",
    "    return diameter"
   ],
   "id": "e8033f922a6b611c",
   "outputs": [],
   "execution_count": 3
  },
  {
   "metadata": {
    "ExecuteTime": {
     "end_time": "2025-08-18T22:02:50.451172Z",
     "start_time": "2025-08-18T22:02:50.438549Z"
    }
   },
   "cell_type": "code",
   "source": [
    "\"\"\"\n",
    "Balanced Binary Tree\n",
    "\"\"\"\n",
    "\n",
    "\n",
    "def balanced_tree(root):\n",
    "    if not root:\n",
    "        return False\n",
    "\n",
    "    def depth(curr):\n",
    "        if not curr:\n",
    "            return [True, 0]\n",
    "\n",
    "        left = depth(curr.left)\n",
    "        right = depth(curr.right)\n",
    "\n",
    "        balanced = left[0] and right[0] and abs(left[1] - right[1]) <= 1\n",
    "\n",
    "        return [balanced, 1 + max(left, right)]\n",
    "\n",
    "    return depth(root)[0]\n",
    "\n"
   ],
   "id": "8e4e6a0b1be7cd74",
   "outputs": [],
   "execution_count": 4
  },
  {
   "metadata": {
    "ExecuteTime": {
     "end_time": "2025-08-18T22:13:15.647183Z",
     "start_time": "2025-08-18T22:13:15.640714Z"
    }
   },
   "cell_type": "code",
   "source": [
    "\"\"\"\n",
    "Same Tree\n",
    "\"\"\"\n",
    "\n",
    "\n",
    "def same_tree(root1, root2):\n",
    "    if not root1 and not root2:\n",
    "        return True\n",
    "\n",
    "    if not root1 or not root2:\n",
    "        return False\n",
    "\n",
    "    stack = [(root1, root2)]\n",
    "\n",
    "    while stack:\n",
    "        l, r = stack.pop()\n",
    "\n",
    "        if not l and not r:\n",
    "            continue\n",
    "\n",
    "        if not l or not r:\n",
    "            return False\n",
    "\n",
    "        if l.val != r.val:\n",
    "            return False\n",
    "        stack.append((l.left, r.left))\n",
    "        stack.append((l.right, r.right))\n",
    "\n",
    "    return True\n",
    "\n",
    "\n",
    "def same_tree_recursive(root1, root2):\n",
    "    def dfs(curr1, curr2):\n",
    "        if not curr1 and not curr2:\n",
    "            return True\n",
    "\n",
    "        if not curr1 or not curr2:\n",
    "            return False\n",
    "\n",
    "        if curr1.val != curr2.val:\n",
    "            return False\n",
    "\n",
    "        return dfs(curr1.left, curr2.left) and dfs(curr1.right, curr2.right) and curr1.val == curr2.val\n",
    "\n",
    "    return dfs(root1, root2)"
   ],
   "id": "cf8212ae1c414def",
   "outputs": [],
   "execution_count": 5
  },
  {
   "metadata": {
    "ExecuteTime": {
     "end_time": "2025-08-18T22:34:57.991553Z",
     "start_time": "2025-08-18T22:34:57.982796Z"
    }
   },
   "cell_type": "code",
   "source": [
    "\"\"\"\n",
    "Subtree of another tree\n",
    "\"\"\"\n",
    "\n",
    "\n",
    "def subtree_of_another_tree(root1, root2):\n",
    "    if not root2:\n",
    "        return True\n",
    "\n",
    "    if not root1:\n",
    "        return False\n",
    "\n",
    "    def same_tree(curr1, curr2):\n",
    "        if not curr1 and not curr2:\n",
    "            return True\n",
    "\n",
    "        if not curr1 or not curr2:\n",
    "            return False\n",
    "\n",
    "        if curr1.val != curr2.val:\n",
    "            return False\n",
    "\n",
    "        return same_tree(curr1.left, curr2.left) and same_tree(curr1.right, curr2.right)\n",
    "\n",
    "    if same_tree(root1, root2):\n",
    "        return True\n",
    "\n",
    "    return subtree_of_another_tree(root1.left, root2) or subtree_of_another_tree(root1.right, root2)"
   ],
   "id": "74023676af8eddfa",
   "outputs": [],
   "execution_count": 6
  },
  {
   "metadata": {
    "ExecuteTime": {
     "end_time": "2025-08-18T23:01:06.539104Z",
     "start_time": "2025-08-18T23:01:06.532258Z"
    }
   },
   "cell_type": "code",
   "source": [
    "\"\"\"\n",
    "LCA of a binary tree\n",
    "\"\"\"\n",
    "\n",
    "from collections import deque\n",
    "\n",
    "\n",
    "def lca(root, p, q):\n",
    "    if not root or not p or not q:\n",
    "        return None\n",
    "\n",
    "    parent = {root: -1}\n",
    "\n",
    "    qu = deque([root])\n",
    "\n",
    "    while qu:\n",
    "        curr = qu.popleft()\n",
    "\n",
    "        if curr.left:\n",
    "            qu.append(curr.left)\n",
    "            parent[curr.left] = curr\n",
    "\n",
    "        if curr.right:\n",
    "            qu.append(curr.right)\n",
    "            parent[curr.right] = curr\n",
    "\n",
    "        if p in parent and q in parent:\n",
    "            break\n",
    "\n",
    "    ancestors = set()\n",
    "\n",
    "    while p:\n",
    "        ancestors.add(p)\n",
    "        p = parent[p]\n",
    "\n",
    "    while q:\n",
    "        if q in ancestors:\n",
    "            return q\n",
    "        q = parent[q]\n",
    "\n",
    "    return None\n",
    "\n"
   ],
   "id": "e522746f057436c9",
   "outputs": [],
   "execution_count": 7
  },
  {
   "metadata": {
    "ExecuteTime": {
     "end_time": "2025-08-18T23:03:25.644417Z",
     "start_time": "2025-08-18T23:03:25.634758Z"
    }
   },
   "cell_type": "code",
   "source": [
    "\"\"\"\n",
    "Binary Tree Level Order Traversal\n",
    "\"\"\"\n",
    "\n",
    "from collections import deque\n",
    "\n",
    "\n",
    "def level_order_traversal(root):\n",
    "    if not root:\n",
    "        return []\n",
    "\n",
    "    res = []\n",
    "    q = deque([root])\n",
    "\n",
    "    while q:\n",
    "        level = []\n",
    "        for i in range(len(q)):\n",
    "            curr = q.popleft()\n",
    "            level.append(curr.val)\n",
    "            if curr.left: q.append(curr.left)\n",
    "            if curr.right: q.append(curr.right)\n",
    "\n",
    "        res.append(level)\n",
    "\n",
    "    return res"
   ],
   "id": "da385cd3d25f3ef3",
   "outputs": [],
   "execution_count": 8
  },
  {
   "metadata": {
    "ExecuteTime": {
     "end_time": "2025-08-18T23:08:30.125180Z",
     "start_time": "2025-08-18T23:08:30.112779Z"
    }
   },
   "cell_type": "code",
   "source": [
    "\"\"\"\n",
    "Binary Tree Right Side View\n",
    "\"\"\"\n",
    "\n",
    "from collections import deque\n",
    "\n",
    "\n",
    "def right_side_view(root):\n",
    "    if not root:\n",
    "        return []\n",
    "\n",
    "    res = []\n",
    "    q = deque([root])\n",
    "\n",
    "    while q:\n",
    "        level = []\n",
    "        for _ in range(len(q)):\n",
    "            curr = q.popleft()\n",
    "            level.append(curr.val)\n",
    "            if curr.left: q.append(curr.left)\n",
    "            if curr.right: q.append(curr.right)\n",
    "\n",
    "        res.append(level.pop())\n",
    "\n",
    "    return res"
   ],
   "id": "69a4b6d14e9c062d",
   "outputs": [],
   "execution_count": 9
  },
  {
   "metadata": {
    "ExecuteTime": {
     "end_time": "2025-08-18T23:14:59.132121Z",
     "start_time": "2025-08-18T23:14:59.119523Z"
    }
   },
   "cell_type": "code",
   "source": [
    "\"\"\"\n",
    "Good nodes in a binary tree\n",
    "Level order traversal but with tuples, append max value between curr.val and maxval\n",
    "\"\"\"\n",
    "\n",
    "\n",
    "def good_nodes(root):\n",
    "    if not root:\n",
    "        return 0\n",
    "\n",
    "    q = deque([(root, float('-inf'))])\n",
    "    res = 0\n",
    "\n",
    "    while q:\n",
    "        curr, maxval = q.popleft()\n",
    "        if curr.val >= maxval:\n",
    "            res += 1\n",
    "\n",
    "        if curr.left: q.append((curr.left, max(curr.val, maxval)))\n",
    "        if curr.right: q.append((curr.right, max(curr.val, maxval)))\n",
    "\n",
    "    return res"
   ],
   "id": "254bbe285651a500",
   "outputs": [],
   "execution_count": 10
  },
  {
   "metadata": {
    "ExecuteTime": {
     "end_time": "2025-08-18T23:41:43.547596Z",
     "start_time": "2025-08-18T23:41:43.537708Z"
    }
   },
   "cell_type": "code",
   "source": [
    "\"\"\"\n",
    "Validate binary search tree\n",
    "\"\"\"\n",
    "\n",
    "\n",
    "def valid_bst(root):\n",
    "    if not root:\n",
    "        return True\n",
    "\n",
    "    q = deque([(root, float('-inf'), float('inf'))])\n",
    "\n",
    "    while q:\n",
    "        curr, left, right = q.popleft()\n",
    "        if not left < curr.val < right:\n",
    "            return False\n",
    "        if curr.left:\n",
    "            q.append((curr.left, left, curr.val))\n",
    "        if curr.right:\n",
    "            q.append((curr.right, curr.val, right))\n",
    "\n",
    "    return True"
   ],
   "id": "e4c09f18d5e66752",
   "outputs": [],
   "execution_count": 11
  },
  {
   "metadata": {
    "ExecuteTime": {
     "end_time": "2025-08-19T13:15:28.040200Z",
     "start_time": "2025-08-19T13:15:28.026558Z"
    }
   },
   "cell_type": "code",
   "source": [
    "\"\"\"\n",
    "Kth Smallest element in a bst\n",
    "\"\"\"\n",
    "\n",
    "\n",
    "def kth_smallest(root, k):\n",
    "    if not root:\n",
    "        return None\n",
    "\n",
    "    stack = []\n",
    "\n",
    "    while root or stack:\n",
    "        if root:\n",
    "            stack.append(root)\n",
    "            root = root.left\n",
    "        else:\n",
    "            root = stack.pop()\n",
    "            k -= 1\n",
    "            if k == 0:\n",
    "                return root\n",
    "\n",
    "        root = root.right"
   ],
   "id": "d4fe45878bc80d61",
   "outputs": [],
   "execution_count": 14
  },
  {
   "metadata": {},
   "cell_type": "code",
   "outputs": [],
   "execution_count": null,
   "source": [
    "\"\"\"\n",
    "Kth Smallest element in a BST\n",
    "\"\"\"\n",
    "\n",
    "\n",
    "def kth_smallest_element(root, k):\n",
    "    if not root:\n",
    "        return None\n",
    "\n",
    "    stack = []\n",
    "\n",
    "    while stack or root:\n",
    "        if root:\n",
    "            stack.append(root)\n",
    "            root = root.left\n",
    "        else:\n",
    "            root = stack.pop()\n",
    "            k -= 1\n",
    "            if k == 0:\n",
    "                return root\n",
    "\n",
    "        root = root.right"
   ],
   "id": "6fc828be1964a0a9"
  },
  {
   "metadata": {},
   "cell_type": "code",
   "outputs": [],
   "execution_count": null,
   "source": [
    "\"\"\"\n",
    "Rebalance a binary search tree\n",
    "#Inorder traversal from the root node\n",
    "#Create a new binary tree from the traversal\n",
    "#Easy to do this recursively\n",
    "\"\"\"\n",
    "\n",
    "\n",
    "def rebalance_tree(root):\n",
    "    if not root:\n",
    "        return None\n",
    "\n",
    "    res = []\n",
    "\n",
    "    def inorder_traversal(root):\n",
    "        if not root:\n",
    "            return\n",
    "\n",
    "        inorder_traversal(root.left)\n",
    "        res.append(root.val)\n",
    "        inorder_traversal(root.right)\n",
    "\n",
    "    inorder_traversal(root)\n",
    "\n",
    "    def convert(left, right):\n",
    "        if left > right:\n",
    "            return None\n",
    "\n",
    "        mid = (left + right) // 2\n",
    "        node = Node(res[mid])\n",
    "        node.left = convert(left, mid - 1)\n",
    "        node.right = convert(mid + 1, right)\n",
    "\n",
    "        return node\n",
    "\n",
    "    return convert(0, len(res) - 1)"
   ],
   "id": "f7f05f5ae20edb42"
  },
  {
   "metadata": {
    "ExecuteTime": {
     "end_time": "2025-08-19T13:24:38.374014Z",
     "start_time": "2025-08-19T13:24:38.361295Z"
    }
   },
   "cell_type": "code",
   "source": [
    "\"\"\"\n",
    "Rebalance a binary search tree\n",
    "\"\"\"\n",
    "\n",
    "\n",
    "def rebalance(root):\n",
    "    res = []\n",
    "\n",
    "    def inorder(curr):\n",
    "        if not curr:\n",
    "            return\n",
    "        inorder(curr.left)\n",
    "        res.append(curr.val)\n",
    "        inorder(curr.right)\n",
    "\n",
    "    inorder(root)\n",
    "\n",
    "    def convert(left, right):\n",
    "        if left > right:\n",
    "            return None\n",
    "\n",
    "        mid = (left + right) // 2\n",
    "        node = Node(res[mid])\n",
    "        node.left = convert(left, mid - 1)\n",
    "        node.right = convert(mid + 1, right)\n",
    "        return node\n",
    "\n",
    "    def convert(left, right):\n",
    "        if left > right:\n",
    "            return None\n",
    "\n",
    "        mid = (left + right) // 2\n",
    "        node = Node(res[mid])\n",
    "        node.left = convert(left, mid - 1)\n",
    "        node.right = convert(mid + 1, right)\n",
    "        return node\n",
    "\n",
    "    return convert(0, len(res) - 1)"
   ],
   "id": "a6e98c3bb6371c7a",
   "outputs": [],
   "execution_count": 15
  },
  {
   "metadata": {
    "ExecuteTime": {
     "end_time": "2025-08-19T13:50:12.978942Z",
     "start_time": "2025-08-19T13:50:12.965609Z"
    }
   },
   "cell_type": "code",
   "source": [
    "\"\"\"\n",
    "Binary Tree Maximum Path Sum\n",
    "Recursive solution is the only one possible\n",
    "\"\"\"\n",
    "\n",
    "\n",
    "def maximum_path_sum(root):\n",
    "    if not root:\n",
    "        return 0\n",
    "\n",
    "    res = [root.val]\n",
    "\n",
    "    def dfs(root):\n",
    "        if not root:\n",
    "            return 0\n",
    "\n",
    "        leftmax = max(0, dfs(root.left))\n",
    "        rightmax = max(0, dfs(root.right))\n",
    "\n",
    "        res[0] = max(res[0], root.val + leftmax + rightmax)\n",
    "\n",
    "        return root.val + max(leftmax, rightmax)\n",
    "\n",
    "    dfs(root)\n",
    "\n",
    "    return res[0]"
   ],
   "id": "c51e7abfe7d740ca",
   "outputs": [],
   "execution_count": 16
  },
  {
   "metadata": {
    "ExecuteTime": {
     "end_time": "2025-08-19T14:51:34.431364Z",
     "start_time": "2025-08-19T14:51:34.421484Z"
    }
   },
   "cell_type": "code",
   "source": [
    "\"\"\"\n",
    "Serialize and deserialize a binary tree\n",
    "\"\"\"\n",
    "\n",
    "from collections import deque\n",
    "\n",
    "\n",
    "def serializeTree(root):\n",
    "    if not root:\n",
    "        return \"N\"\n",
    "\n",
    "    res = []\n",
    "    q = deque([root])\n",
    "\n",
    "    while q:\n",
    "        curr = q.popleft()\n",
    "        if not curr:\n",
    "            res.append(\"N\")\n",
    "        else:\n",
    "            res.append(str(curr.val))\n",
    "            q.append(curr.left)\n",
    "            q.append(curr.right)\n",
    "\n",
    "    return \",\".join(res)\n",
    "\n",
    "\n",
    "def deserializeTree(st):\n",
    "    #Split the res array\n",
    "    #Create the root node\n",
    "    #Create a queue to create the new tree\n",
    "    #Create an index array to iterate through the res array\n",
    "    if not st:\n",
    "        return None\n",
    "\n",
    "    vals = st.split(\",\")\n",
    "\n",
    "    if vals[0] == \"N\":\n",
    "        return None\n",
    "\n",
    "    root = Node(int(vals[0]))\n",
    "    q = deque([root])\n",
    "    index = 1\n",
    "\n",
    "    while q:\n",
    "        node = q.popleft()\n",
    "        if vals[index] != \"N\":\n",
    "            node.left = Node(int(vals[index]))\n",
    "            q.append(node.left)\n",
    "\n",
    "        index += 1\n",
    "\n",
    "        if vals[index] != \"N\":\n",
    "            node.right = Node(int(vals[index]))\n",
    "            q.append(node.right)\n",
    "\n",
    "        index += 1\n",
    "\n",
    "    return root"
   ],
   "id": "83232f326ab549f1",
   "outputs": [],
   "execution_count": 17
  },
  {
   "metadata": {
    "ExecuteTime": {
     "end_time": "2025-08-19T14:51:40.712462Z",
     "start_time": "2025-08-19T14:51:40.698759Z"
    }
   },
   "cell_type": "code",
   "source": [
    "\"\"\"\n",
    "LCA in BST\n",
    "\"\"\""
   ],
   "id": "1c5c3f8e83b5cf9d",
   "outputs": [
    {
     "data": {
      "text/plain": [
       "'\\nLCA in BST\\n'"
      ]
     },
     "execution_count": 18,
     "metadata": {},
     "output_type": "execute_result"
    }
   ],
   "execution_count": 18
  },
  {
   "metadata": {
    "ExecuteTime": {
     "end_time": "2025-08-19T14:51:50.937889Z",
     "start_time": "2025-08-19T14:51:50.924265Z"
    }
   },
   "cell_type": "code",
   "source": [
    "\"\"\"\n",
    "MAD in BST\n",
    "\"\"\""
   ],
   "id": "b1e8bb3cae7ae681",
   "outputs": [
    {
     "data": {
      "text/plain": [
       "'\\nMAD in BST\\n'"
      ]
     },
     "execution_count": 19,
     "metadata": {},
     "output_type": "execute_result"
    }
   ],
   "execution_count": 19
  },
  {
   "metadata": {},
   "cell_type": "code",
   "outputs": [],
   "execution_count": null,
   "source": [
    "\"\"\"\n",
    "Delete Node in BST\n",
    "\"\"\""
   ],
   "id": "c6cefe2cde1decfc"
  }
 ],
 "metadata": {
  "kernelspec": {
   "display_name": "Python 3",
   "language": "python",
   "name": "python3"
  },
  "language_info": {
   "codemirror_mode": {
    "name": "ipython",
    "version": 2
   },
   "file_extension": ".py",
   "mimetype": "text/x-python",
   "name": "python",
   "nbconvert_exporter": "python",
   "pygments_lexer": "ipython2",
   "version": "2.7.6"
  }
 },
 "nbformat": 4,
 "nbformat_minor": 5
}
