{
 "cells": [
  {
   "metadata": {},
   "cell_type": "markdown",
   "source": "# Arrays and hashing",
   "id": "1c11184b36a09140"
  },
  {
   "cell_type": "code",
   "id": "initial_id",
   "metadata": {
    "collapsed": true,
    "ExecuteTime": {
     "end_time": "2025-08-27T04:54:05.723585Z",
     "start_time": "2025-08-27T04:54:05.715179Z"
    }
   },
   "source": [
    "\"\"\"\n",
    "Contains duplicate\n",
    "\"\"\"\n",
    "\n",
    "\n",
    "def contains_duplicate(nums):\n",
    "    return len(nums) == len(set(nums))"
   ],
   "outputs": [],
   "execution_count": 1
  },
  {
   "metadata": {
    "ExecuteTime": {
     "end_time": "2025-08-27T04:54:50.930042Z",
     "start_time": "2025-08-27T04:54:50.921271Z"
    }
   },
   "cell_type": "code",
   "source": [
    "\"\"\"\n",
    "Valid anagram\n",
    "\"\"\"\n",
    "from collections import Counter\n",
    "\n",
    "\n",
    "def valid_anagram(sr1, sr2):\n",
    "    c1 = Counter(sr1)\n",
    "    c2 = Counter(sr2)\n",
    "    return c1 == c2"
   ],
   "id": "a3eec505550e3704",
   "outputs": [],
   "execution_count": 2
  },
  {
   "metadata": {
    "ExecuteTime": {
     "end_time": "2025-08-27T04:56:34.160529Z",
     "start_time": "2025-08-27T04:56:34.155165Z"
    }
   },
   "cell_type": "code",
   "source": [
    "\"\"\"\n",
    "Two Sum\n",
    "\"\"\"\n",
    "from collections import defaultdict\n",
    "\n",
    "\n",
    "def two_sum(nums, target):\n",
    "    num_map = defaultdict(int)\n",
    "\n",
    "    for i, num in enumerate(nums):\n",
    "        if num - target in num_map:\n",
    "            return i, num_map[target - num]\n",
    "        else:\n",
    "            num_map[num] = i\n",
    "\n",
    "    return -1, -1"
   ],
   "id": "726e7ff5ef7a8692",
   "outputs": [],
   "execution_count": 3
  },
  {
   "metadata": {
    "ExecuteTime": {
     "end_time": "2025-08-27T05:00:14.955909Z",
     "start_time": "2025-08-27T05:00:14.945985Z"
    }
   },
   "cell_type": "code",
   "source": [
    "\"\"\"\n",
    "Group anagrams\n",
    "\"\"\"\n",
    "\n",
    "\n",
    "def groupAnagrams(strs):\n",
    "    res = defaultdict(list)\n",
    "    for s in strs:\n",
    "        count = [0] * 26\n",
    "        for c in s:\n",
    "            count[ord(c) - ord('a')] += 1\n",
    "        res[tuple(count)].append(s)\n",
    "\n",
    "    return list(res.values())\n"
   ],
   "id": "71bb537ae0269d58",
   "outputs": [],
   "execution_count": 4
  },
  {
   "metadata": {
    "ExecuteTime": {
     "end_time": "2025-08-27T05:03:56.029068Z",
     "start_time": "2025-08-27T05:03:56.008278Z"
    }
   },
   "cell_type": "code",
   "source": [
    "\"\"\"\n",
    "Top K Frequent elements\n",
    "\"\"\"\n",
    "import heapq\n",
    "from collections import Counter\n",
    "\n",
    "\n",
    "def top_k_frequent(nums, k):\n",
    "    heap = []\n",
    "    count = Counter(nums)\n",
    "    for num, freq in count.items():\n",
    "        if len(heap) < k:\n",
    "            heapq.heappush(heap, (freq, num))\n",
    "        else:\n",
    "            heapq.heappushpop(heap, (freq, num))\n",
    "\n",
    "    return [num for freq, num in heap]"
   ],
   "id": "16e4126c6e4bd184",
   "outputs": [],
   "execution_count": 5
  },
  {
   "metadata": {
    "ExecuteTime": {
     "end_time": "2025-08-27T23:55:03.360002Z",
     "start_time": "2025-08-27T23:55:03.336649Z"
    }
   },
   "cell_type": "code",
   "source": [
    "\"\"\"\n",
    "Encode and decode strings\n",
    "\"\"\"\n",
    "\n",
    "\n",
    "def encode(sr):\n",
    "    sr_list = sr.split(\" \")\n",
    "    return \"#\".join(sr_list)\n",
    "\n",
    "\n",
    "def decode(sr):\n",
    "    sr_list = sr.split(\"#\")\n",
    "    return \" \".join(sr_list)"
   ],
   "id": "8c340c7c13b0506d",
   "outputs": [],
   "execution_count": 6
  },
  {
   "metadata": {
    "ExecuteTime": {
     "end_time": "2025-08-27T23:58:39.221058Z",
     "start_time": "2025-08-27T23:58:39.213966Z"
    }
   },
   "cell_type": "code",
   "source": [
    "\"\"\"\n",
    "Product of array except self\n",
    "Have a prefix value while itering from 0th to nth value of given array and enter that into res\n",
    "Have a postfix value while itering from nth to 0th value of given array and enter that into res\n",
    "\"\"\"\n",
    "\n",
    "\n",
    "def product_except_self(nums):\n",
    "    res = [1] * len(nums)\n",
    "\n",
    "    prefix = 1\n",
    "    for i in range(0, len(nums)):\n",
    "        res[i] = prefix\n",
    "        prefix *= nums[i]\n",
    "\n",
    "    postfix = 1\n",
    "    for i in range(len(nums) - 1, -1, -1):\n",
    "        res[i] *= postfix\n",
    "        postfix *= nums[i]\n",
    "\n",
    "    return res"
   ],
   "id": "3b7fb56ac71acb3c",
   "outputs": [],
   "execution_count": 7
  },
  {
   "metadata": {
    "ExecuteTime": {
     "end_time": "2025-08-28T00:13:14.601108Z",
     "start_time": "2025-08-28T00:13:14.592960Z"
    }
   },
   "cell_type": "code",
   "source": [
    "\"\"\"\n",
    "Longest consecutive sequence\n",
    "Convert the nums list into a set\n",
    "Create a longest variable\n",
    "For every num in numset, if num - 1 is not in numset, length is 1\n",
    "while num+length in numset, length+=1\n",
    "longest = max(length, longest)\n",
    "return longest\n",
    "\"\"\"\n",
    "\n",
    "\n",
    "def longest_consecutive_sequence(nums):\n",
    "    num_set = set(nums)\n",
    "    longest = 0\n",
    "\n",
    "    for num in nums:\n",
    "        if (num - 1) not in num_set:\n",
    "            length = 1\n",
    "            while num + length in num_set:\n",
    "                length += 1\n",
    "            longest = max(longest, length)\n",
    "\n",
    "    return longest\n",
    "\n"
   ],
   "id": "b4c1c7255ca9427b",
   "outputs": [],
   "execution_count": 9
  },
  {
   "metadata": {},
   "cell_type": "code",
   "outputs": [],
   "execution_count": null,
   "source": "",
   "id": "1bc2cbc9217446fc"
  }
 ],
 "metadata": {
  "kernelspec": {
   "display_name": "Python 3",
   "language": "python",
   "name": "python3"
  },
  "language_info": {
   "codemirror_mode": {
    "name": "ipython",
    "version": 2
   },
   "file_extension": ".py",
   "mimetype": "text/x-python",
   "name": "python",
   "nbconvert_exporter": "python",
   "pygments_lexer": "ipython2",
   "version": "2.7.6"
  }
 },
 "nbformat": 4,
 "nbformat_minor": 5
}
