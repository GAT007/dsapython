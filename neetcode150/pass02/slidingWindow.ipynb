{
 "cells": [
  {
   "metadata": {},
   "cell_type": "markdown",
   "source": "# Sliding Window",
   "id": "f864ddaacaae9aac"
  },
  {
   "cell_type": "code",
   "id": "initial_id",
   "metadata": {
    "collapsed": true,
    "ExecuteTime": {
     "end_time": "2025-08-24T22:05:24.133532Z",
     "start_time": "2025-08-24T22:05:24.125128Z"
    }
   },
   "source": [
    "\"\"\"\n",
    "Contains Duplicate 2\n",
    "\"\"\"\n",
    "\n",
    "\n",
    "def contains_duplicate_2(nums, k):\n",
    "    num_map = {}\n",
    "\n",
    "    for i, num in enumerate(nums):\n",
    "\n",
    "        if num in num_map and i - num[map] <= k:\n",
    "            return True\n",
    "\n",
    "        num_map[num] = i\n",
    "\n",
    "    return False"
   ],
   "outputs": [],
   "execution_count": 1
  },
  {
   "metadata": {
    "ExecuteTime": {
     "end_time": "2025-08-24T22:07:14.458649Z",
     "start_time": "2025-08-24T22:07:14.452367Z"
    }
   },
   "cell_type": "code",
   "source": [
    "\"\"\"\n",
    "Best time to buy and sell a stock\n",
    "\"\"\"\n",
    "\n",
    "\n",
    "def best_time(prices):\n",
    "    l = 0\n",
    "    max_profit = 0\n",
    "    for r in range(1, len(prices)):\n",
    "        if prices[r] > prices[l]:\n",
    "            profit = prices[r] - prices[l]\n",
    "            max_profit = max(max_profit, profit)\n",
    "        else:\n",
    "            l = r\n",
    "\n",
    "    return max_profit"
   ],
   "id": "ccff7a4e5150d801",
   "outputs": [],
   "execution_count": 2
  },
  {
   "metadata": {
    "ExecuteTime": {
     "end_time": "2025-08-24T23:42:24.257267Z",
     "start_time": "2025-08-24T23:42:24.235812Z"
    }
   },
   "cell_type": "code",
   "source": [
    "\"\"\"\n",
    "Longest substring without repeating characters\n",
    "\"\"\"\n",
    "\n",
    "\n",
    "def longest_substring(sr):\n",
    "    visited = set()\n",
    "    length = 0\n",
    "    l = 0\n",
    "    for r in range(len(sr)):\n",
    "        while sr[r] in visited:\n",
    "            visited.remove(sr[l])\n",
    "            l += 1\n",
    "        visited.add(sr[r])\n",
    "        length = max(length, (r - l) + 1)\n",
    "\n",
    "    return length"
   ],
   "id": "d0d9db5f6a78af5e",
   "outputs": [],
   "execution_count": 3
  },
  {
   "metadata": {
    "ExecuteTime": {
     "end_time": "2025-08-24T23:57:56.981442Z",
     "start_time": "2025-08-24T23:57:56.973483Z"
    }
   },
   "cell_type": "code",
   "source": [
    "\"\"\"\n",
    "Longest repeating character replacement\n",
    "\"\"\"\n",
    "from collections import defaultdict\n",
    "\n",
    "\n",
    "def longest_repeating_character(sr, k):\n",
    "    character_map = defaultdict(int)\n",
    "    l = 0\n",
    "    maxf = 0\n",
    "    res = 0\n",
    "\n",
    "    #Iterate through the entire string\n",
    "    for r in range(len(sr)):\n",
    "        #Create a key value pair of all the strings in the substring\n",
    "        character_map[sr[r]] += 1\n",
    "        #What is the maximum frequency of the characters so far?\n",
    "        maxf = max(maxf, character_map[sr[r]])\n",
    "\n",
    "        #if Length of substring - maxfrequency is greater than k, then\n",
    "        while (r - l + 1) - maxf > k:\n",
    "            #Reduce the character map count by 1\n",
    "            character_map[sr[l]] -= 1\n",
    "            #Increase l count by 1\n",
    "            l += 1\n",
    "\n",
    "        #Find the max length of the new substring\n",
    "        res = max(res, (r - l + 1))\n",
    "\n",
    "    #Return that substring\n",
    "    return res"
   ],
   "id": "6bffb72f0700c846",
   "outputs": [],
   "execution_count": 4
  },
  {
   "metadata": {
    "ExecuteTime": {
     "end_time": "2025-08-25T00:23:26.445544Z",
     "start_time": "2025-08-25T00:23:26.436039Z"
    }
   },
   "cell_type": "code",
   "source": [
    "\"\"\"\n",
    "Permutation in a string\n",
    "Given two strings s1 and s2, if s1 appears as a permutation in s2, return true, else false\n",
    "\n",
    "Brute force approach:\n",
    "1. Create a map of s1\n",
    "2. Create a sliding window map of s2 find if the newly created map and the s1 map are equal\n",
    "3. If yes, return true, if you reach end of string, return false\n",
    "\"\"\"\n",
    "\n",
    "from collections import defaultdict\n",
    "\n",
    "\n",
    "def permutation_of_string(s1, s2):\n",
    "    if len(s1) > len(s2):\n",
    "        return False\n",
    "\n",
    "    s1_character_map = defaultdict(int)\n",
    "    s2_character_map = defaultdict(int)\n",
    "\n",
    "    for i in range(len(s1)):\n",
    "        s1_character_map[s1[i]] += 1\n",
    "        s2_character_map[s2[i]] += 1\n",
    "\n",
    "    if s1_character_map == s2_character_map:\n",
    "        return True\n",
    "\n",
    "    l = 0\n",
    "    for r in range(len(s1), len(s2)):\n",
    "        s2_character_map[s2[r]] += 1\n",
    "        s2_character_map[s2[l]] -= 1\n",
    "\n",
    "        if s2_character_map[s2[l]] == 0:\n",
    "            del s2_character_map[s2[l]]\n",
    "\n",
    "        l += 1\n",
    "\n",
    "        if s1_character_map == s2_character_map:\n",
    "            return True\n",
    "\n",
    "    return False\n"
   ],
   "id": "2bb9cf73c10bdafe",
   "outputs": [],
   "execution_count": 5
  },
  {
   "metadata": {
    "ExecuteTime": {
     "end_time": "2025-08-25T00:23:35.371051Z",
     "start_time": "2025-08-25T00:23:35.356339Z"
    }
   },
   "cell_type": "code",
   "source": [
    "\"\"\"\n",
    "Minimum Window Substring\n",
    "\n",
    "Input : s-> main string t-> substring\n",
    "\n",
    "Output : minLength str\n",
    "\"\"\"\n",
    "\n",
    "from collections import defaultdict\n",
    "\n",
    "\n",
    "def min_window(s, t):\n",
    "    if t == \"\":\n",
    "        return \"\"\n",
    "\n",
    "    countT, window = defaultdict(int), defaultdict(int)\n",
    "\n",
    "    for c in t:\n",
    "        countT[c] += 1\n",
    "\n",
    "    have, need = 0, len(countT)\n",
    "    res, resLen = [-1, -1], float('inf')\n",
    "\n",
    "    l = 0\n",
    "\n",
    "    for r in range(len(s)):\n",
    "        c = s[r]\n",
    "        window[c] += 1\n",
    "\n",
    "        if c in countT and window[c] == countT[c]:\n",
    "            have += 1\n",
    "\n",
    "        while have == need:\n",
    "            if (r - l + 1) < resLen:\n",
    "                res = [l, r]\n",
    "                resLen = r - l + 1\n",
    "\n",
    "            window[s[l]] -= 1\n",
    "            if s[l] in countT and window[s[l]] < countT[s[l]]:\n",
    "                have -= 1\n",
    "\n",
    "            l += 1\n",
    "\n",
    "    l, r = res\n",
    "    return s[l:r + 1] if resLen != float('inf') else ''\n"
   ],
   "id": "dbeed71e5ea5a058",
   "outputs": [
    {
     "data": {
      "text/plain": [
       "'\\nMaximum Window Substring\\n'"
      ]
     },
     "execution_count": 6,
     "metadata": {},
     "output_type": "execute_result"
    }
   ],
   "execution_count": 6
  },
  {
   "metadata": {},
   "cell_type": "code",
   "outputs": [],
   "execution_count": null,
   "source": [
    "\"\"\"\n",
    "Sliding window maximum\n",
    "\"\"\"\n",
    "import heapq\n",
    "\n",
    "\n",
    "def max_sliding_window(nums, k):\n",
    "    heap = []\n",
    "    output = []\n",
    "\n",
    "    for i in range(len(nums)):\n",
    "        heapq.heappush(heap, (-nums[i], i))\n",
    "        if i >= k - 1:\n",
    "            while heap[0][1] <= i - k:\n",
    "                heapq.heappop(heap)\n",
    "            output.append(-heap[0][0])\n",
    "\n",
    "    return output"
   ],
   "id": "8444b57e20996160"
  }
 ],
 "metadata": {
  "kernelspec": {
   "display_name": "Python 3",
   "language": "python",
   "name": "python3"
  },
  "language_info": {
   "codemirror_mode": {
    "name": "ipython",
    "version": 2
   },
   "file_extension": ".py",
   "mimetype": "text/x-python",
   "name": "python",
   "nbconvert_exporter": "python",
   "pygments_lexer": "ipython2",
   "version": "2.7.6"
  }
 },
 "nbformat": 4,
 "nbformat_minor": 5
}
