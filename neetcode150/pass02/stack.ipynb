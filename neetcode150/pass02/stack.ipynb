{
 "cells": [
  {
   "metadata": {},
   "cell_type": "markdown",
   "source": "# Stack",
   "id": "b973589dc67d3956"
  },
  {
   "cell_type": "code",
   "id": "initial_id",
   "metadata": {
    "collapsed": true,
    "ExecuteTime": {
     "end_time": "2025-08-26T15:09:50.941544Z",
     "start_time": "2025-08-26T15:09:50.932505Z"
    }
   },
   "source": [
    "\"\"\"\n",
    "Valid parentheses\n",
    "\"\"\"\n",
    "\n",
    "\n",
    "def valid_parentheses(sr):\n",
    "    bracket_map = {'}': '{', ']': '[', ')': '('}\n",
    "    stack = []\n",
    "\n",
    "    for c in sr:\n",
    "        if c in bracket_map and stack[-1] == bracket_map[c]:\n",
    "            stack.pop()\n",
    "        else:\n",
    "            stack.append()\n",
    "\n",
    "    return len(stack) == 0"
   ],
   "outputs": [],
   "execution_count": 3
  },
  {
   "metadata": {},
   "cell_type": "code",
   "outputs": [],
   "execution_count": null,
   "source": [
    "\"\"\"\n",
    "Valid parentheses with wild card chars\n",
    "\"\"\"\n",
    "\n",
    "\n",
    "def valid_parentheses_with_wild_cards(sr):\n",
    "    open_stack = {'(': [], '{': [], '[': []}\n",
    "    bracket_map = {')': '(', ']': '[', '}': '{'}\n",
    "\n",
    "    stars = []\n",
    "\n",
    "    for i, char in enumerate(sr):\n",
    "        if char in open_stack:\n",
    "            open_stack[char].append(i)\n",
    "\n",
    "        elif char == '*':\n",
    "            stars.append(i)\n",
    "\n",
    "        elif char in bracket_map:\n",
    "            open_char = bracket_map[char]\n",
    "            target_stack = open_stack[open_char]\n",
    "\n",
    "            if target_stack:\n",
    "                target_stack.pop()\n",
    "            elif stars:\n",
    "                stars.pop()\n",
    "            else:\n",
    "                return False\n",
    "\n",
    "    remaining_open = []\n",
    "    for stack in open_stack.values():\n",
    "        remaining_open.extend(stack)\n",
    "\n",
    "    remaining_open.sort()\n",
    "\n",
    "    while remaining_open.pop and stars:\n",
    "        if remaining_open.pop() > stars.pop():\n",
    "            return False\n",
    "\n",
    "    return not remaining_open"
   ],
   "id": "34250ad6ff38a23b"
  },
  {
   "metadata": {
    "ExecuteTime": {
     "end_time": "2025-08-26T15:17:17.373805Z",
     "start_time": "2025-08-26T15:17:17.361083Z"
    }
   },
   "cell_type": "code",
   "source": [
    "\"\"\"\n",
    "Min Stack\n",
    "\"\"\"\n",
    "\n",
    "\n",
    "class MinStack:\n",
    "    def __init__(self):\n",
    "        self.stack = []\n",
    "\n",
    "    def push(self, val):\n",
    "        if self.stack:\n",
    "            self.stack.append((val, min(val, self.stack[-1][1])))\n",
    "\n",
    "        else:\n",
    "            self.stack.append((val, val))\n",
    "\n",
    "    def pop(self):\n",
    "        return self.stack.pop()[0]\n",
    "\n",
    "    def getMin(self):\n",
    "        return self.stack[-1][1]\n",
    "\n",
    "    def top(self):\n",
    "        return self.stack[-1][0]\n"
   ],
   "id": "8a874d982e9e818c",
   "outputs": [],
   "execution_count": 4
  },
  {
   "metadata": {
    "ExecuteTime": {
     "end_time": "2025-08-26T15:23:10.639783Z",
     "start_time": "2025-08-26T15:23:10.627538Z"
    }
   },
   "cell_type": "code",
   "source": [
    "\"\"\"\n",
    "Evaluate reverse polish notation\n",
    "\"\"\"\n",
    "\n",
    "\n",
    "def reverse_polish_notation(sr):\n",
    "    stack = []\n",
    "    for c in sr:\n",
    "\n",
    "        if c in '+-*/':\n",
    "            if len(stack) < 2:\n",
    "                return \"Invalid expression\"\n",
    "\n",
    "            num2 = stack.pop()\n",
    "            num1 = stack.pop()\n",
    "\n",
    "            if c == '+':\n",
    "                stack.append(num1 + num2)\n",
    "\n",
    "            elif c == '-':\n",
    "                stack.append(num1 - num2)\n",
    "\n",
    "            elif c == '*':\n",
    "                stack.append(num1 * num2)\n",
    "\n",
    "            elif c == '/':\n",
    "                stack.append(int(float(num1) / float(num2)))\n",
    "\n",
    "            else:\n",
    "                return \"Invalid expression\"\n",
    "        else:\n",
    "            stack.append(c)\n",
    "\n",
    "    return stack[0] if len(stack) == 1 else \"Invalid expression\"\n"
   ],
   "id": "8d01efc4eecc2a71",
   "outputs": [],
   "execution_count": 5
  },
  {
   "metadata": {
    "ExecuteTime": {
     "end_time": "2025-08-26T15:54:31.925825Z",
     "start_time": "2025-08-26T15:54:31.917397Z"
    }
   },
   "cell_type": "code",
   "source": [
    "\"\"\"\n",
    "Well formed parentheses\n",
    "Stack problem using backtracking\n",
    "\"\"\"\n",
    "\n",
    "\n",
    "def valid_parentheses(n):\n",
    "    stack = []\n",
    "    res = []\n",
    "\n",
    "    \"\"\"\n",
    "    Same structure as the subsets problem\n",
    "    Create a boundary condition\n",
    "    1. For all subsets : No boundary condition\n",
    "    2. For combinations of length n : when path variable is length n\n",
    "    3. For permutations : When start == end\n",
    "    4. For valid parentheses : When start == end\n",
    "    Append element to stack\n",
    "    Backtrack\n",
    "    Pop element from stack\n",
    "    \"\"\"\n",
    "\n",
    "    def backtrack(openN, closedN):\n",
    "        #Boundary condition\n",
    "        if openN == closedN == n:\n",
    "            res.append(\"\".join(stack))\n",
    "            return\n",
    "\n",
    "        if openN < n:\n",
    "            stack.append(\"(\")\n",
    "            backtrack(openN + 1, n)\n",
    "            stack.pop()\n",
    "\n",
    "        if closedN < openN:\n",
    "            stack.append(\")\")\n",
    "            backtrack(openN, closedN + 1)\n",
    "            stack.pop()\n",
    "\n",
    "    backtrack(0, 0)\n",
    "    return res\n",
    "\n"
   ],
   "id": "f63a29ecfe53d032",
   "outputs": [],
   "execution_count": 6
  },
  {
   "metadata": {
    "ExecuteTime": {
     "end_time": "2025-08-26T16:14:20.359160Z",
     "start_time": "2025-08-26T16:14:20.346207Z"
    }
   },
   "cell_type": "code",
   "source": [
    "\"\"\"\n",
    "Daily temperatures\n",
    "\"\"\"\n",
    "\n",
    "\n",
    "def daily_temps(temps):\n",
    "    res = [0] * len(temps)\n",
    "    stack = []\n",
    "\n",
    "    for i, t in enumerate(temps):\n",
    "        while stack and t > stack[-1][0]:\n",
    "            stackt, stackidx = stack.pop()\n",
    "            res[stackidx] = i - stackidx\n",
    "        stack.append((t, i))\n",
    "\n",
    "    return res\n",
    "\n",
    "\n",
    "def daily_temp(temps):\n",
    "    res = [0] * len(temps)\n",
    "    stack = []\n",
    "\n",
    "    for i, t in enumerate(temps):\n",
    "        while stack and t > stack[-1][0]:\n",
    "            stack_t, stack_i = stack.pop()\n",
    "            res[stack_i] = i - stack_i\n",
    "        stack.append((t, i))\n",
    "\n",
    "    return res\n",
    "\n",
    "\n",
    "def daily_temp(temps):\n",
    "    res = [0] * len(temps)\n",
    "    stack = []\n",
    "\n",
    "    for i, t in enumerate(temps):\n",
    "        while stack and t > stack[-1][0]:\n",
    "            stack_t, stack_i = stack.pop()\n",
    "            res[stack_i] = i - stack_i\n",
    "        stack.append((t, i))\n",
    "\n",
    "    return res"
   ],
   "id": "e3163a5a209dcd8d",
   "outputs": [],
   "execution_count": 7
  },
  {
   "metadata": {
    "ExecuteTime": {
     "end_time": "2025-08-26T16:30:00.432082Z",
     "start_time": "2025-08-26T16:30:00.423592Z"
    }
   },
   "cell_type": "code",
   "source": [
    "\"\"\"\n",
    "Car Fleet\n",
    "\"\"\"\n",
    "\n",
    "\n",
    "def car_fleet(target, position, speed):\n",
    "    pair = []\n",
    "    for i in range(len(position)):\n",
    "        pair.append((position[i], speed[i]))\n",
    "\n",
    "    pair.sort(reverse=True)\n",
    "\n",
    "    stack = []\n",
    "\n",
    "    for p, s in pair:\n",
    "        stack.append((target - p) / s)\n",
    "        if len(stack) >= 2 and stack[-1] <= stack[-2]:\n",
    "            stack.pop()\n",
    "\n",
    "    return len(stack)"
   ],
   "id": "8d544c45cf9d0905",
   "outputs": [],
   "execution_count": 8
  },
  {
   "metadata": {},
   "cell_type": "code",
   "outputs": [],
   "execution_count": null,
   "source": "",
   "id": "f5c317446f61342e"
  },
  {
   "metadata": {},
   "cell_type": "code",
   "outputs": [],
   "execution_count": null,
   "source": "",
   "id": "671c09d614303979"
  }
 ],
 "metadata": {
  "kernelspec": {
   "display_name": "Python 3",
   "language": "python",
   "name": "python3"
  },
  "language_info": {
   "codemirror_mode": {
    "name": "ipython",
    "version": 2
   },
   "file_extension": ".py",
   "mimetype": "text/x-python",
   "name": "python",
   "nbconvert_exporter": "python",
   "pygments_lexer": "ipython2",
   "version": "2.7.6"
  }
 },
 "nbformat": 4,
 "nbformat_minor": 5
}
