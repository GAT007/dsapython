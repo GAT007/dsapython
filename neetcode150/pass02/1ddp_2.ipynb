{
 "cells": [
  {
   "metadata": {},
   "cell_type": "markdown",
   "source": [
    "# Dynamic Programming\n",
    "\n",
    "The art of solving problems by solving the sub problems of lower values and using those values to solve the bigger problems and thus finding the real answer\n",
    "\n",
    "Fibonacci's sequence is a very famous dp problem\n",
    "\n",
    "Basic structre of a dp problem is :\n",
    "\n",
    "\n",
    "1. Init the data structure, usually a list that will hold the base values\n",
    "2. Fill in the base values\n",
    "3. Create the iter that will use the base values and fill up the rest of the array\n",
    "4. If the final value gets computed, return the final value, else appropriate error value"
   ],
   "id": "2e110ca6364e44ac"
  },
  {
   "cell_type": "code",
   "id": "initial_id",
   "metadata": {
    "collapsed": true,
    "ExecuteTime": {
     "end_time": "2025-08-24T14:31:13.834511Z",
     "start_time": "2025-08-24T14:31:13.817311Z"
    }
   },
   "source": [
    "\"\"\"\n",
    "Fibonacci Sequence\n",
    "\"\"\"\n",
    "\n",
    "\n",
    "def fibonacci(n):\n",
    "    dp = [0] * (n + 1)\n",
    "    dp[0] = 0\n",
    "    dp[1] = 1\n",
    "\n",
    "    for i in range(2, n + 1):\n",
    "        dp[i] = dp[i - 1] + dp[i - 2]\n",
    "\n",
    "    return dp[n]"
   ],
   "outputs": [],
   "execution_count": 1
  },
  {
   "metadata": {
    "ExecuteTime": {
     "end_time": "2025-08-24T14:32:36.652165Z",
     "start_time": "2025-08-24T14:32:36.645230Z"
    }
   },
   "cell_type": "code",
   "source": [
    "\"\"\"\n",
    "Climbing Stairs\n",
    "\"\"\"\n",
    "\n",
    "\n",
    "def climbing_stairs(n):\n",
    "    dp = [0] * (n + 1)\n",
    "    dp[0] = 0\n",
    "    dp[1] = 1\n",
    "    dp[2] = 2\n",
    "\n",
    "    for i in range(3, n + 1):\n",
    "        dp[i] = dp[i - 1] + dp[i - 2]\n",
    "\n",
    "    return dp[n]"
   ],
   "id": "6f90b18834ded3be",
   "outputs": [],
   "execution_count": 2
  },
  {
   "metadata": {
    "ExecuteTime": {
     "end_time": "2025-08-24T14:38:44.938320Z",
     "start_time": "2025-08-24T14:38:44.926665Z"
    }
   },
   "cell_type": "code",
   "source": [
    "\"\"\"\n",
    "Min Cost of climbing stairs\n",
    "\"\"\"\n",
    "\n",
    "\n",
    "def min_cost_climbing_stairs(cost):\n",
    "    dp = [0] * (len(cost) + 1)\n",
    "\n",
    "    for i in range(2, len(cost) + 1):\n",
    "        dp[i] = min(cost[i - 1] + dp[i - 1], cost[i - 2] + dp[i - 2])\n",
    "\n",
    "    return dp[len(cost)]\n"
   ],
   "id": "41b28bf1c4bed2f1",
   "outputs": [],
   "execution_count": 3
  },
  {
   "metadata": {
    "ExecuteTime": {
     "end_time": "2025-08-24T14:45:03.810698Z",
     "start_time": "2025-08-24T14:45:03.803047Z"
    }
   },
   "cell_type": "code",
   "source": [
    "\"\"\"\n",
    "House robber\n",
    "\"\"\"\n",
    "\n",
    "\n",
    "def rob(houses):\n",
    "    if not houses:\n",
    "        return 0\n",
    "\n",
    "    n = len(houses)\n",
    "\n",
    "    if n == 1:\n",
    "        return houses[0]\n",
    "\n",
    "    dp = [0] * n\n",
    "\n",
    "    dp[0] = houses[0]\n",
    "    dp[1] = max(houses[0], houses[1])\n",
    "\n",
    "    for i in range(2, n):\n",
    "        dp[i] = max(dp[i - 1], houses[i] + dp[i - 2])\n",
    "\n",
    "    return dp[-1]"
   ],
   "id": "f30bebf17db6885",
   "outputs": [],
   "execution_count": 4
  },
  {
   "metadata": {
    "ExecuteTime": {
     "end_time": "2025-08-24T14:59:57.607342Z",
     "start_time": "2025-08-24T14:59:57.598320Z"
    }
   },
   "cell_type": "code",
   "source": [
    "\"\"\"\n",
    "House robber 2\n",
    "\"\"\"\n",
    "\n",
    "\n",
    "def rob(nums):\n",
    "    if not nums:\n",
    "        return 0\n",
    "\n",
    "    n = len(nums)\n",
    "\n",
    "    if n == 1:\n",
    "        return nums[0]\n",
    "\n",
    "    def helper(arr):\n",
    "        if not arr:\n",
    "            return 0\n",
    "\n",
    "        n = len(arr)\n",
    "\n",
    "        if n == 1:\n",
    "            return arr[0]\n",
    "\n",
    "        dp = [0] * (n + 1)\n",
    "\n",
    "        dp[0] = arr[0]\n",
    "        dp[1] = max(arr[0], arr[1])\n",
    "\n",
    "        for i in range(2, n):\n",
    "            dp[i] = max(dp[i - 1], arr[i] + dp[i - 2])\n",
    "\n",
    "        return dp[-1]\n",
    "\n",
    "    return max(helper(nums[1:]), helper(nums[:-1]))"
   ],
   "id": "66e23992096fd29d",
   "outputs": [],
   "execution_count": 5
  },
  {
   "metadata": {
    "ExecuteTime": {
     "end_time": "2025-08-24T15:06:13.039316Z",
     "start_time": "2025-08-24T15:06:13.029130Z"
    }
   },
   "cell_type": "code",
   "source": [
    "\"\"\"\n",
    "Longest palindromic substring\n",
    "\"\"\"\n",
    "\n",
    "\n",
    "def longest_palindromic(s):\n",
    "    resLen, resIdx = 0, 0\n",
    "    n = len(s)\n",
    "\n",
    "    dp = [[False] * n for _ in range(n)]\n",
    "\n",
    "    for i in range(n - 1, -1, -1):\n",
    "        for j in range(i, n):\n",
    "            if s[i] == s[j] and (j - i <= 2 or dp[i + 1][j - 1]):\n",
    "                dp[i][j] = True\n",
    "                if resLen < j - i + 1:\n",
    "                    resIdx = i\n",
    "                    resLen = j - i + 1\n",
    "\n",
    "    return s[resIdx: resIdx + resLen]\n"
   ],
   "id": "a5667a8ae9b3b313",
   "outputs": [],
   "execution_count": 6
  },
  {
   "metadata": {
    "ExecuteTime": {
     "end_time": "2025-08-24T15:08:50.953839Z",
     "start_time": "2025-08-24T15:08:50.945865Z"
    }
   },
   "cell_type": "code",
   "source": [
    "\"\"\"\n",
    "Palindromic Substrings\n",
    "\"\"\"\n",
    "\n",
    "\n",
    "def isPalindrome(s, l, r):\n",
    "    res = 0\n",
    "    while l >= 0 and r < len(s) and s[l] == s[r]:\n",
    "        res += 1\n",
    "        l -= 1\n",
    "        r += 1\n",
    "\n",
    "    return res\n",
    "\n",
    "\n",
    "def palindromic_substrings(s):\n",
    "    res = 0\n",
    "    for i in range(len(s)):\n",
    "        res += isPalindrome(s, i, i)\n",
    "        res += isPalindrome(s, i, i + 1)\n",
    "\n",
    "    return res\n"
   ],
   "id": "368cd41775683605",
   "outputs": [],
   "execution_count": 7
  },
  {
   "metadata": {
    "ExecuteTime": {
     "end_time": "2025-08-24T15:15:31.580559Z",
     "start_time": "2025-08-24T15:15:31.572050Z"
    }
   },
   "cell_type": "code",
   "source": [
    "\"\"\"\n",
    "Decode ways : Rewatch the video on this again\n",
    "\n",
    "Given a certain string of digits, how many different ways can you decode it?\n",
    "\"\"\"\n",
    "\n",
    "\n",
    "def decode_way(s):\n",
    "    dp = {len(s): 1}\n",
    "    for i in range(len(s) - 1, -1, -1):\n",
    "        if s[i] == \"0\":\n",
    "            dp[i] = 0\n",
    "\n",
    "        else:\n",
    "            dp[i] = dp[i + 1]\n",
    "\n",
    "        if i + 1 < len(s) and (s[i] == \"1\" or (s[i] == \"2\" and s[i + 1] in \"0123456\")):\n",
    "            dp[i] += dp[i + 2]\n",
    "\n",
    "    return dp[0]"
   ],
   "id": "f5254e9bb5659c03",
   "outputs": [],
   "execution_count": 9
  },
  {
   "metadata": {
    "ExecuteTime": {
     "end_time": "2025-08-24T16:22:03.009149Z",
     "start_time": "2025-08-24T16:22:02.998819Z"
    }
   },
   "cell_type": "code",
   "source": [
    "\"\"\"\n",
    "Coin change\n",
    "\"\"\"\n",
    "\n",
    "\n",
    "def coin_change(coins, target):\n",
    "    dp = [target + 1] * (target + 1)\n",
    "    dp[0] = 0\n",
    "\n",
    "    for i in range(target + 1):\n",
    "        for c in coins:\n",
    "            if i - c >= 0:\n",
    "                dp[i] = min(dp[i], 1 + dp[i - c])\n",
    "\n",
    "    return dp[target] if dp[target] != target + 1 else -1"
   ],
   "id": "4cba1fd956d782a8",
   "outputs": [],
   "execution_count": 10
  },
  {
   "metadata": {
    "ExecuteTime": {
     "end_time": "2025-08-24T16:23:48.807033Z",
     "start_time": "2025-08-24T16:23:48.801116Z"
    }
   },
   "cell_type": "code",
   "source": [
    "\"\"\"\n",
    "Kadane's algorithm\n",
    "\"\"\"\n",
    "\n",
    "\n",
    "def max_product_subarray(nums):\n",
    "    res = nums[0]\n",
    "    curMin, curMax = 1, 1\n",
    "\n",
    "    for num in nums:\n",
    "        temp = num * curMax\n",
    "        curMax = max(num * curMax, num * curMin, num)\n",
    "        curMin = min(temp, num * curMin, num)\n",
    "        res = max(res, curMax)\n",
    "\n",
    "    return res"
   ],
   "id": "358a85c0696ad2fe",
   "outputs": [],
   "execution_count": 11
  },
  {
   "metadata": {
    "ExecuteTime": {
     "end_time": "2025-08-24T16:26:09.060227Z",
     "start_time": "2025-08-24T16:26:09.053161Z"
    }
   },
   "cell_type": "code",
   "source": [
    "\"\"\"\n",
    "Maximum Sum subarray\n",
    "\"\"\"\n",
    "\n",
    "\n",
    "def max_sum_subarray(nums):\n",
    "    dp = [0] * len(nums)\n",
    "    for i, num in enumerate(nums):\n",
    "        dp[i] = max(num, dp[i - 1] + num)\n",
    "\n",
    "    return max(dp)"
   ],
   "id": "fa91362c67de324c",
   "outputs": [],
   "execution_count": 12
  },
  {
   "metadata": {},
   "cell_type": "code",
   "outputs": [],
   "execution_count": null,
   "source": "",
   "id": "9f7b44f6b928e9e8"
  }
 ],
 "metadata": {
  "kernelspec": {
   "display_name": "Python 3",
   "language": "python",
   "name": "python3"
  },
  "language_info": {
   "codemirror_mode": {
    "name": "ipython",
    "version": 2
   },
   "file_extension": ".py",
   "mimetype": "text/x-python",
   "name": "python",
   "nbconvert_exporter": "python",
   "pygments_lexer": "ipython2",
   "version": "2.7.6"
  }
 },
 "nbformat": 4,
 "nbformat_minor": 5
}
