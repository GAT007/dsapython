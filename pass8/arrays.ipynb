{
 "cells": [
  {
   "metadata": {},
   "cell_type": "markdown",
   "source": [
    "# Arrays\n",
    "\n",
    "Common python data structures\n",
    "\n",
    "List l1 = [], l1.append(), l1.remove(), l1.pop()\n",
    "\n",
    "Dictionary d1 = {'key':'value'} d1[key] d1[key2]=value2\n",
    "\n",
    "Tuple t1 = () immutable\n",
    "\n",
    "Set s1 = {} or s1 = set() set.add()"
   ],
   "id": "e8158bb5c03a0b39"
  },
  {
   "cell_type": "code",
   "id": "initial_id",
   "metadata": {
    "collapsed": true,
    "ExecuteTime": {
     "end_time": "2025-05-21T16:21:54.456003Z",
     "start_time": "2025-05-21T16:21:54.450118Z"
    }
   },
   "source": [
    "\"\"\"\n",
    "Duplicate values\n",
    "\"\"\"\n",
    "\n",
    "\n",
    "def duplicate_values(nums):\n",
    "    if len(nums) != len(set(nums)):\n",
    "        return False\n",
    "    return True"
   ],
   "outputs": [],
   "execution_count": 17
  },
  {
   "metadata": {
    "ExecuteTime": {
     "end_time": "2025-05-21T16:24:17.246106Z",
     "start_time": "2025-05-21T16:24:17.237721Z"
    }
   },
   "cell_type": "code",
   "source": [
    "\"\"\"\n",
    "Missing number\n",
    "\"\"\"\n",
    "\n",
    "\n",
    "def missing_number(nums):\n",
    "    return sum(range(len(nums) + 1)) - sum(nums)"
   ],
   "id": "1191e0e6b8c0d0b9",
   "outputs": [],
   "execution_count": 18
  },
  {
   "metadata": {
    "ExecuteTime": {
     "end_time": "2025-05-21T16:27:41.262021Z",
     "start_time": "2025-05-21T16:27:41.248046Z"
    }
   },
   "cell_type": "code",
   "source": [
    "\"\"\"\n",
    "Find all missing numbers\n",
    "\"\"\"\n",
    "\n",
    "\n",
    "def all_missing_nums(nums):\n",
    "    res = []\n",
    "    for i in range(1, max(nums)):\n",
    "        if i not in nums:\n",
    "            res.append(i)\n",
    "\n",
    "    return res"
   ],
   "id": "2cfbd95d7f8e18d9",
   "outputs": [],
   "execution_count": 19
  },
  {
   "metadata": {
    "ExecuteTime": {
     "end_time": "2025-05-21T16:33:53.504060Z",
     "start_time": "2025-05-21T16:33:53.496025Z"
    }
   },
   "cell_type": "code",
   "source": [
    "\"\"\"\n",
    "Two Sum\n",
    "\"\"\"\n",
    "\n",
    "from collections import defaultdict\n",
    "\n",
    "\n",
    "def two_sum(nums, target):\n",
    "    dic = defaultdict()\n",
    "    for idx, elem in enumerate(nums):\n",
    "        if target - elem in dic:\n",
    "            return idx, dic[target - elem]\n",
    "        else:\n",
    "            dic[elem] = idx\n",
    "\n",
    "    return -1, -1\n"
   ],
   "id": "8846f7361c0df23e",
   "outputs": [],
   "execution_count": 20
  },
  {
   "metadata": {
    "ExecuteTime": {
     "end_time": "2025-05-21T16:50:30.828854Z",
     "start_time": "2025-05-21T16:50:30.822045Z"
    }
   },
   "cell_type": "code",
   "source": [
    "\"\"\"\n",
    "How many numbers are smaller than the current number?\n",
    "\"\"\"\n",
    "\n",
    "from collections import defaultdict\n",
    "\n",
    "\n",
    "def smaller_than_current(nums):\n",
    "    sorted_nums = sorted(set(nums))\n",
    "    position_dict = defaultdict(int)\n",
    "    for idx, elem in enumerate(sorted_nums):\n",
    "        position_dict[elem] = idx\n",
    "\n",
    "    res = []\n",
    "    for num in nums:\n",
    "        res.append(position_dict[num])"
   ],
   "id": "8d8272c7d6f5052e",
   "outputs": [],
   "execution_count": 21
  },
  {
   "metadata": {
    "ExecuteTime": {
     "end_time": "2025-05-21T16:56:33.068783Z",
     "start_time": "2025-05-21T16:56:33.058726Z"
    }
   },
   "cell_type": "code",
   "source": [
    "\"\"\"\n",
    "Spiral Matrix\n",
    "\"\"\"\n",
    "\n",
    "\n",
    "def spiral_matrix(grid):\n",
    "    res = []\n",
    "    while grid:\n",
    "        res.extend(grid.pop(0))\n",
    "        if grid:\n",
    "            for row in grid: res.append(row.pop())\n",
    "        if grid:\n",
    "            res.extend(grid.pop()[::-1])\n",
    "        if grid:\n",
    "            temp = []\n",
    "            for row in grid: temp.append(row.pop(0))\n",
    "            res.extend(temp[::-1])\n",
    "    return res"
   ],
   "id": "8745a4254d8fefca",
   "outputs": [],
   "execution_count": 22
  },
  {
   "metadata": {
    "ExecuteTime": {
     "end_time": "2025-05-21T17:09:06.685139Z",
     "start_time": "2025-05-21T17:09:06.676819Z"
    }
   },
   "cell_type": "code",
   "source": [
    "\"\"\"\n",
    "BFS for Tree\n",
    "\"\"\"\n",
    "\n",
    "from collections import deque\n",
    "\n",
    "\n",
    "def bfs(root):\n",
    "    if not root:\n",
    "        return False\n",
    "\n",
    "    q = deque([root])\n",
    "    res = []\n",
    "    while q:\n",
    "        curr = q.popleft()\n",
    "        res.append(curr)\n",
    "        if curr.left: q.append(curr.left)\n",
    "        if curr.right: q.append(curr.right)\n",
    "\n",
    "    return res\n",
    "\n",
    "\n",
    "\"\"\"\n",
    "DFS for Tree\n",
    "\"\"\"\n",
    "\n",
    "\n",
    "def dfs(root):\n",
    "    if not root:\n",
    "        return False\n",
    "\n",
    "    stack = [root]\n",
    "    res = []\n",
    "    while stack:\n",
    "        curr = stack.pop()\n",
    "        res.append(curr)\n",
    "        if curr.right: stack.append(curr.right)\n",
    "        if curr.left: stack.append(curr.left)\n",
    "\n",
    "    return res\n"
   ],
   "id": "e45f99c45dd436b",
   "outputs": [],
   "execution_count": 24
  },
  {
   "metadata": {},
   "cell_type": "code",
   "outputs": [],
   "execution_count": null,
   "source": [
    "\"\"\"\n",
    "Number of islands\n",
    "\"\"\"\n",
    "\n",
    "\n",
    "def number_of_islands(grid):\n",
    "    count = 0\n",
    "    rows = len(grid)\n",
    "    columns = len(grid[0])\n",
    "    visited = set()\n",
    "\n",
    "    def bfs(r, c):\n",
    "        q = deque([(r, c)])\n",
    "        dir = [(1, 0), (-1, 0), (0, 1), (0, -1)]\n",
    "        while q:\n",
    "            ro, co = q.popleft()\n",
    "            visited.add(ro, co)\n",
    "            for dr, dc in dir:\n",
    "                row, col = ro + dr, co + dc\n",
    "                if row in range(rows) and col in range(columns) and grid[row][col] == '1' and (row, col) not in visited:\n",
    "                    q.append((row, col))\n",
    "                    visited.add((row, col))\n",
    "\n",
    "    for row in rows:\n",
    "        for col in columns:\n",
    "            if (row, col) not in visited and grid[row][col] == '1':\n",
    "                count += 1\n",
    "                bfs(row, col)\n",
    "    return count"
   ],
   "id": "59d9fd2023057e8b"
  },
  {
   "metadata": {},
   "cell_type": "markdown",
   "source": "# Two pointer technique",
   "id": "591cb706a301bd32"
  },
  {
   "metadata": {
    "ExecuteTime": {
     "end_time": "2025-05-21T17:34:46.208765Z",
     "start_time": "2025-05-21T17:34:46.188711Z"
    }
   },
   "cell_type": "code",
   "source": [
    "\"\"\"\n",
    "Best time to buy and sell a stock\n",
    "\"\"\"\n",
    "\n",
    "\n",
    "def best_time(prices):\n",
    "    l = r = 0\n",
    "    max_profit = 0\n",
    "    while r < len(prices):\n",
    "        if prices[r] > prices[l]:\n",
    "            max_profit = max(max_profit, prices[r] - prices[l])\n",
    "        else:\n",
    "            l = r\n",
    "        r += 1\n",
    "    return max_profit"
   ],
   "id": "adda5bccc51f70cd",
   "outputs": [],
   "execution_count": 25
  },
  {
   "metadata": {
    "ExecuteTime": {
     "end_time": "2025-05-21T16:20:08.088201Z",
     "start_time": "2025-05-21T16:20:08.081219Z"
    }
   },
   "cell_type": "code",
   "source": [
    "\"\"\"\n",
    "Squares of a sorted array\n",
    "\"\"\"\n",
    "\n",
    "\n",
    "def squares(nums):\n",
    "    l, r = 0, len(nums) - 1\n",
    "    q = deque()\n",
    "    while r >= l:\n",
    "        left, right = abs(nums[l]), abs(nums[r])\n",
    "        if left < right:\n",
    "            q.append(left + left)\n",
    "            left += 1\n",
    "        else:\n",
    "            q.append(right * right)\n",
    "            right -= 1\n",
    "\n",
    "    return list(q)\n"
   ],
   "id": "cd41c8fe96525cd4",
   "outputs": [
    {
     "data": {
      "text/plain": [
       "'\\nSquares of a sorted array\\n'"
      ]
     },
     "execution_count": 11,
     "metadata": {},
     "output_type": "execute_result"
    }
   ],
   "execution_count": 11
  },
  {
   "metadata": {
    "ExecuteTime": {
     "end_time": "2025-05-21T16:20:15.783655Z",
     "start_time": "2025-05-21T16:20:15.776780Z"
    }
   },
   "cell_type": "code",
   "source": [
    "\"\"\"\n",
    "3 sum\n",
    "\"\"\"\n",
    "\n",
    "\n",
    "def three_sum(nums):\n",
    "    res = []\n",
    "    for i in range(len(nums)):\n",
    "        l, r = i + 1, len(nums) - 1\n",
    "        while l < r:\n",
    "            value = nums[i] + nums[l] + nums[r]\n",
    "            if value > 0:\n",
    "                r -= 1\n",
    "            elif value < 0:\n",
    "                l += 1\n",
    "            else:\n",
    "                res.add((nums[i], nums[l], nums[r]))\n",
    "                l += 1\n",
    "\n",
    "    return res\n"
   ],
   "id": "b21cd310537eec53",
   "outputs": [
    {
     "data": {
      "text/plain": [
       "'\\n3 sum\\n'"
      ]
     },
     "execution_count": 12,
     "metadata": {},
     "output_type": "execute_result"
    }
   ],
   "execution_count": 12
  },
  {
   "metadata": {
    "ExecuteTime": {
     "end_time": "2025-05-21T16:20:27.289781Z",
     "start_time": "2025-05-21T16:20:27.269903Z"
    }
   },
   "cell_type": "code",
   "source": [
    "\"\"\"\n",
    "Longest mountain\n",
    "\"\"\"\n",
    "\n",
    "\n",
    "def longest_mountain(nums):\n",
    "    max_length = 0\n",
    "    for i in range(1, len(nums) - 1):\n",
    "        if nums[i - 1] < nums[i] > nums[i + 1]:\n",
    "            l, r = i - 1, i + 1\n",
    "            while nums[l - 1] < nums[l]:\n",
    "                l -= 1\n",
    "            while nums[r + 1] < nums[r]:\n",
    "                r += 1\n",
    "            max_length = max(max_length, r - l + 1)\n",
    "\n",
    "    return max_length"
   ],
   "id": "256398ae46af02f",
   "outputs": [
    {
     "data": {
      "text/plain": [
       "'\\nLongest mountain\\n'"
      ]
     },
     "execution_count": 13,
     "metadata": {},
     "output_type": "execute_result"
    }
   ],
   "execution_count": 13
  },
  {
   "metadata": {},
   "cell_type": "markdown",
   "source": "# Sliding window",
   "id": "6e858c6cf6c68d23"
  },
  {
   "metadata": {
    "ExecuteTime": {
     "end_time": "2025-05-21T16:20:49.155108Z",
     "start_time": "2025-05-21T16:20:49.139336Z"
    }
   },
   "cell_type": "code",
   "source": [
    "\"\"\"\n",
    "Contains nearby duplicate\n",
    "\"\"\""
   ],
   "id": "ca8a06468299dc98",
   "outputs": [
    {
     "data": {
      "text/plain": [
       "'\\nContains nearby duplicate\\n'"
      ]
     },
     "execution_count": 14,
     "metadata": {},
     "output_type": "execute_result"
    }
   ],
   "execution_count": 14
  },
  {
   "metadata": {
    "ExecuteTime": {
     "end_time": "2025-05-21T16:21:02.035418Z",
     "start_time": "2025-05-21T16:21:02.023756Z"
    }
   },
   "cell_type": "code",
   "source": [
    "\"\"\"\n",
    "Minimum absolute difference\n",
    "\"\"\""
   ],
   "id": "4ff584c9c37fb27b",
   "outputs": [
    {
     "data": {
      "text/plain": [
       "'\\nMinimum absolute difference\\n'"
      ]
     },
     "execution_count": 15,
     "metadata": {},
     "output_type": "execute_result"
    }
   ],
   "execution_count": 15
  },
  {
   "metadata": {
    "ExecuteTime": {
     "end_time": "2025-05-21T16:21:11.659588Z",
     "start_time": "2025-05-21T16:21:11.640161Z"
    }
   },
   "cell_type": "code",
   "source": [
    "\"\"\"\n",
    "Min Size Subarray\n",
    "\"\"\""
   ],
   "id": "4b3195d1c68aba91",
   "outputs": [
    {
     "data": {
      "text/plain": [
       "'\\nMin Size Subarray\\n'"
      ]
     },
     "execution_count": 16,
     "metadata": {},
     "output_type": "execute_result"
    }
   ],
   "execution_count": 16
  },
  {
   "metadata": {},
   "cell_type": "code",
   "outputs": [],
   "execution_count": null,
   "source": "",
   "id": "f486817260adc266"
  }
 ],
 "metadata": {
  "kernelspec": {
   "display_name": "Python 3",
   "language": "python",
   "name": "python3"
  },
  "language_info": {
   "codemirror_mode": {
    "name": "ipython",
    "version": 2
   },
   "file_extension": ".py",
   "mimetype": "text/x-python",
   "name": "python",
   "nbconvert_exporter": "python",
   "pygments_lexer": "ipython2",
   "version": "2.7.6"
  }
 },
 "nbformat": 4,
 "nbformat_minor": 5
}
