{
 "cells": [
  {
   "metadata": {},
   "cell_type": "markdown",
   "source": "# Stacks",
   "id": "1b365b33984049cf"
  },
  {
   "cell_type": "code",
   "id": "initial_id",
   "metadata": {
    "collapsed": true,
    "ExecuteTime": {
     "end_time": "2025-05-12T13:03:19.832187Z",
     "start_time": "2025-05-12T13:03:19.817272Z"
    }
   },
   "source": [
    "\"\"\"\n",
    "Minstack\n",
    "\"\"\"\n",
    "\n",
    "\n",
    "class Minstack:\n",
    "    def __init__(self):\n",
    "        self.stack = []\n",
    "\n",
    "    def push(self, value):\n",
    "        if not self.stack:\n",
    "            current_min = value\n",
    "        else:\n",
    "            current_min = min(value, self.stack[-1][1])\n",
    "        self.stack.append((value, current_min))\n",
    "\n",
    "    def pop(self):\n",
    "        self.stack.pop()\n",
    "\n",
    "    def top(self):\n",
    "        return self.stack[-1][0]\n",
    "\n",
    "    def min(self):\n",
    "        return self.stack[-1][1]"
   ],
   "outputs": [],
   "execution_count": 1
  },
  {
   "metadata": {
    "ExecuteTime": {
     "end_time": "2025-05-12T13:05:06.982222Z",
     "start_time": "2025-05-12T13:05:06.969506Z"
    }
   },
   "cell_type": "code",
   "source": [
    "\"\"\"\n",
    "Valid parentheses\n",
    "\"\"\"\n",
    "\n",
    "\n",
    "def valid_parentheses(str):\n",
    "    stack = []\n",
    "    map = {')': '(', '}': '{', ']': '['}\n",
    "\n",
    "    for element in str:\n",
    "        if stack and (element in map and stack[-1] == map[element]):\n",
    "            stack.pop()\n",
    "        else:\n",
    "            stack.append()\n",
    "\n",
    "    return not stack"
   ],
   "id": "c7d22a18d9d9bee3",
   "outputs": [],
   "execution_count": 2
  },
  {
   "metadata": {
    "ExecuteTime": {
     "end_time": "2025-05-12T14:43:48.226001Z",
     "start_time": "2025-05-12T14:43:48.211354Z"
    }
   },
   "cell_type": "code",
   "source": [
    "\"\"\"\n",
    "Evaluate Reverse Polish Notation\n",
    "\"\"\"\n",
    "\n",
    "\n",
    "def reversePolist(str):\n",
    "    stack = []\n",
    "    for element in str:\n",
    "        if element not in '+-*/':\n",
    "            stack.append(int(element))\n",
    "        else:\n",
    "            r, l = stack.pop(), stack.pop()\n",
    "            if element == '+':\n",
    "                stack.append(r + l)\n",
    "            elif element == '-':\n",
    "                stack.append(r - l)\n",
    "            elif element == '*':\n",
    "                stack.append(r * l)\n",
    "            else:\n",
    "                stack.append(int(float(r) / l))\n",
    "\n",
    "    return stack.pop()\n"
   ],
   "id": "c7d6e028abd17a9b",
   "outputs": [],
   "execution_count": 3
  },
  {
   "metadata": {},
   "cell_type": "code",
   "outputs": [],
   "execution_count": null,
   "source": [
    "\"\"\"\n",
    "Create reverse polish notation\n",
    "\"\"\""
   ],
   "id": "dc2ced9d0d3a4868"
  }
 ],
 "metadata": {
  "kernelspec": {
   "display_name": "Python 3",
   "language": "python",
   "name": "python3"
  },
  "language_info": {
   "codemirror_mode": {
    "name": "ipython",
    "version": 2
   },
   "file_extension": ".py",
   "mimetype": "text/x-python",
   "name": "python",
   "nbconvert_exporter": "python",
   "pygments_lexer": "ipython2",
   "version": "2.7.6"
  }
 },
 "nbformat": 4,
 "nbformat_minor": 5
}
