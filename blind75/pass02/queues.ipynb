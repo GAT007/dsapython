{
 "cells": [
  {
   "cell_type": "code",
   "id": "initial_id",
   "metadata": {
    "collapsed": true,
    "ExecuteTime": {
     "end_time": "2025-02-22T18:18:08.589832Z",
     "start_time": "2025-02-22T18:18:08.558372Z"
    }
   },
   "source": [
    "\"\"\"\n",
    "Queues\n",
    "Implement a last in first out stack using only queues. The implemented stack should support all the functions of a normal stack\n",
    "push, pop, top and empty\n",
    "\"\"\"\n"
   ],
   "outputs": [
    {
     "data": {
      "text/plain": [
       "'\\nQueues\\nImplement a last in first out stack using only queues. The implemented stack should support all the functions of a normal stack\\npush, pop, top and empty\\n'"
      ]
     },
     "execution_count": 1,
     "metadata": {},
     "output_type": "execute_result"
    }
   ],
   "execution_count": 1
  },
  {
   "metadata": {
    "ExecuteTime": {
     "end_time": "2025-02-22T21:11:36.555840Z",
     "start_time": "2025-02-22T21:11:36.545441Z"
    }
   },
   "cell_type": "code",
   "source": [
    "\"\"\"\n",
    "Time needed to buy tickets\n",
    "There are n people in a line queueing to buy tickets where the 0th person at the front of the line and the (n-1)st person is at the back of the line\n",
    "Each person takes exactly 1 second to buy a ticket. A person can only buy 1 ticket at a time and has to go back to the end of the line\n",
    "in order to buy more tickets. If a person does not have any tickets left to buy, the person will leave the line.\n",
    "Return the time taken for the person at position k to finish buying tickets.\n",
    "\"\"\"\n",
    "\n",
    "def timetaken(nums, k):\n",
    "    result = 0\n",
    "    for i in range(len(nums)):\n",
    "        if i<=k:\n",
    "            result += min(nums[i], nums[k])\n",
    "        else:\n",
    "            result += min(nums[i], nums[k]-1)\n",
    "    return result\n",
    "\n",
    "print(timetaken([2,2,5,2], 2))"
   ],
   "id": "ed0facf745a37f47",
   "outputs": [
    {
     "name": "stdout",
     "output_type": "stream",
     "text": [
      "11\n"
     ]
    }
   ],
   "execution_count": 3
  },
  {
   "metadata": {
    "ExecuteTime": {
     "end_time": "2025-02-22T21:21:29.787995Z",
     "start_time": "2025-02-22T21:21:29.775871Z"
    }
   },
   "cell_type": "code",
   "source": [
    "\"\"\"\n",
    "Reverse first k elements of q using stack\n",
    "\"\"\"\n",
    "\n",
    "def reversekq(nums, k):\n",
    "    stack = []\n",
    "    for i in range(k):\n",
    "        stack.append(nums.pop(0))\n",
    "\n",
    "    newq = []\n",
    "    for i in range(len(stack)):\n",
    "        newq.append(stack.pop())\n",
    "\n",
    "    newq.extend(nums)\n",
    "\n",
    "    return newq\n",
    "\n",
    "print(reversekq([10, 20, 30, 40, 50, 60, 70, 80, 90, 100], 5))"
   ],
   "id": "afcdb461f46b4afe",
   "outputs": [
    {
     "name": "stdout",
     "output_type": "stream",
     "text": [
      "[50, 40, 30, 20, 10, 60, 70, 80, 90, 100]\n"
     ]
    }
   ],
   "execution_count": 6
  },
  {
   "metadata": {},
   "cell_type": "code",
   "outputs": [],
   "execution_count": null,
   "source": "",
   "id": "1f8bb16cbe3d05fa"
  }
 ],
 "metadata": {
  "kernelspec": {
   "display_name": "Python 3",
   "language": "python",
   "name": "python3"
  },
  "language_info": {
   "codemirror_mode": {
    "name": "ipython",
    "version": 2
   },
   "file_extension": ".py",
   "mimetype": "text/x-python",
   "name": "python",
   "nbconvert_exporter": "python",
   "pygments_lexer": "ipython2",
   "version": "2.7.6"
  }
 },
 "nbformat": 4,
 "nbformat_minor": 5
}
