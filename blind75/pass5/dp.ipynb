{
 "cells": [
  {
   "metadata": {},
   "cell_type": "markdown",
   "source": [
    "# Dynamic Programming\n",
    "Technique used to solve complex problems by breaking them down into simpler subproblems\n",
    "Solve each subproblem once, store the solution and use that to answer the solution further\n",
    "\n",
    "## Memoization\n",
    "Storing the answer in a data structure so that it can be used for a further problem\n",
    "\n",
    "### Essence for solving a dp problem\n",
    "\n",
    "1. Create a data structure for holding your sub answer problems\n",
    "\n",
    "2. Create the dp base case and store it in the data structure\n",
    "\n",
    "3. Create the for loop that holds the logic to solve the larger problem"
   ],
   "id": "6b88d9507359464d"
  },
  {
   "cell_type": "code",
   "id": "initial_id",
   "metadata": {
    "collapsed": true,
    "ExecuteTime": {
     "end_time": "2025-05-08T14:44:35.757609Z",
     "start_time": "2025-05-08T14:44:35.748199Z"
    }
   },
   "source": [
    "\"\"\"\n",
    "Coin change\n",
    "You are given an integer array coins representing coins of different denominations and an integer amount representing a total amount of money\n",
    "Return the fewest number of coins that you need to make up that amount. If the amount of money cannot be made up by any combination of the coins return -1\n",
    "Assume you have infinite number of each kind of coin\n",
    "\"\"\"\n",
    "\n",
    "\n",
    "def coin_change(coins, amount):\n",
    "    dp = [amount + 1] * (amount + 1)\n",
    "    dp[0] = 0\n",
    "\n",
    "    for i in range(1, amount + 1):\n",
    "        for c in coins:\n",
    "            if (i - c) >= 0:\n",
    "                dp[i] = min(dp[i], 1 + dp[i - c])\n",
    "\n",
    "    return dp[amount] if dp[amount] != amount + 1 else -1\n",
    "\n",
    "\n",
    "print(coin_change([1, 2, 5], 7))"
   ],
   "outputs": [
    {
     "name": "stdout",
     "output_type": "stream",
     "text": [
      "2\n"
     ]
    }
   ],
   "execution_count": 2
  },
  {
   "metadata": {
    "ExecuteTime": {
     "end_time": "2025-05-08T15:08:33.351330Z",
     "start_time": "2025-05-08T15:08:33.340334Z"
    }
   },
   "cell_type": "code",
   "source": [
    "\"\"\"\n",
    "Climbing stairs\n",
    "You are climbing a staircase. It takes n steps to reach the top.\n",
    "Each time you can either climb 1 or 2 steps. In how many distinct ways can you climb to the top?\n",
    "\"\"\"\n",
    "\n",
    "\n",
    "def climbing_stairs(target):\n",
    "    dp = [0] * (target + 1)\n",
    "    dp[1] = 1\n",
    "    dp[2] = 2\n",
    "\n",
    "    for i in range(3, target + 1):\n",
    "        dp[i] = dp[i - 1] + dp[i - 2]\n",
    "\n",
    "    return dp[target]\n",
    "\n",
    "\n",
    "print(climbing_stairs(11))\n"
   ],
   "id": "afbaea23383226c5",
   "outputs": [
    {
     "name": "stdout",
     "output_type": "stream",
     "text": [
      "144\n"
     ]
    }
   ],
   "execution_count": 6
  },
  {
   "metadata": {
    "ExecuteTime": {
     "end_time": "2025-05-08T15:08:30.831376Z",
     "start_time": "2025-05-08T15:08:30.812480Z"
    }
   },
   "cell_type": "code",
   "source": [
    "\"\"\"\n",
    "Maximum subarray\n",
    "Given an integer array nums, find the subarray with the largest sum, and return its sum\n",
    "\"\"\"\n",
    "\n",
    "\n",
    "def msub(arr):\n",
    "    dp = [0] * len(arr)\n",
    "    for i, num in enumerate(arr):\n",
    "        dp[i] = max(num, dp[i - 1] + num)\n",
    "    return max(dp)\n",
    "\n"
   ],
   "id": "abbbc62123ee8f9e",
   "outputs": [
    {
     "data": {
      "text/plain": [
       "'\\nMaximum subarray\\nGiven an integer array nums, find the subarray with the largest sum, and return its sum\\n'"
      ]
     },
     "execution_count": 5,
     "metadata": {},
     "output_type": "execute_result"
    }
   ],
   "execution_count": 5
  },
  {
   "metadata": {},
   "cell_type": "code",
   "outputs": [],
   "execution_count": null,
   "source": "",
   "id": "5f19200bfecd78df"
  }
 ],
 "metadata": {
  "kernelspec": {
   "display_name": "Python 3",
   "language": "python",
   "name": "python3"
  },
  "language_info": {
   "codemirror_mode": {
    "name": "ipython",
    "version": 2
   },
   "file_extension": ".py",
   "mimetype": "text/x-python",
   "name": "python",
   "nbconvert_exporter": "python",
   "pygments_lexer": "ipython2",
   "version": "2.7.6"
  }
 },
 "nbformat": 4,
 "nbformat_minor": 5
}
