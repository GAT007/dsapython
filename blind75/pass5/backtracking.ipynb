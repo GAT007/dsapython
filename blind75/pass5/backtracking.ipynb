{
 "cells": [
  {
   "metadata": {},
   "cell_type": "markdown",
   "source": [
    "# Backtracking\n",
    "Problem solving technique that involves finding a solution incrementally by trying different options and undoing them if they lead to a dead end"
   ],
   "id": "168201fca3635c1"
  },
  {
   "cell_type": "code",
   "id": "initial_id",
   "metadata": {
    "collapsed": true,
    "ExecuteTime": {
     "end_time": "2025-05-08T22:55:33.077932Z",
     "start_time": "2025-05-08T22:55:33.068896Z"
    }
   },
   "source": [
    "\"\"\"\n",
    "Given a string s, you can transform every letter individually to be lowercase or uppercase to create another string\n",
    "Return a list of all possible strings we could create. Return the output in any order.\n",
    "Time complexity : O(2^n)\n",
    "\"\"\"\n",
    "\n",
    "\n",
    "def letterCasePermutation(st):\n",
    "    output = ['']\n",
    "    for c in st:\n",
    "        tmp = []\n",
    "        if c.isalpha():\n",
    "            for o in output:\n",
    "                tmp.append(o + c.lower())\n",
    "                tmp.append(o + c.upper())\n",
    "        else:\n",
    "            for o in output:\n",
    "                tmp.append(o + c)\n",
    "\n",
    "        output = tmp\n",
    "\n",
    "    return output\n",
    "\n",
    "\n",
    "print(letterCasePermutation('a1b1'))"
   ],
   "outputs": [
    {
     "name": "stdout",
     "output_type": "stream",
     "text": [
      "['a1b1', 'a1B1', 'A1b1', 'A1B1']\n"
     ]
    }
   ],
   "execution_count": 4
  },
  {
   "metadata": {
    "ExecuteTime": {
     "end_time": "2025-05-09T02:44:54.833391Z",
     "start_time": "2025-05-09T02:44:54.810680Z"
    }
   },
   "cell_type": "code",
   "source": [
    "\"\"\"\n",
    "Subsets\n",
    "Given an integer array nums of unique elements, return all possible subsets\n",
    "The solution set must not contain duplicate subsets. Return the solution in any order\n",
    "\"\"\"\n",
    "\n",
    "\n",
    "def subsets(nums):\n",
    "    result = []\n",
    "\n",
    "    def backtrack(start, path):\n",
    "        result.append(path[:])\n",
    "\n",
    "        for i in range(start, len(nums)):\n",
    "            path.append(nums[i])\n",
    "            backtrack(i + 1, path)\n",
    "\n",
    "            path.pop()\n",
    "\n",
    "    backtrack(0, [])\n",
    "    return result"
   ],
   "id": "6d742ff073fb8ffb",
   "outputs": [],
   "execution_count": 5
  },
  {
   "metadata": {},
   "cell_type": "code",
   "outputs": [],
   "execution_count": null,
   "source": [
    "\"\"\"\n",
    "Combinations\n",
    "\n",
    "\"\"\"\n",
    "\n",
    "def combine(n, k):\n",
    "    result = []\n",
    "    def backtrack(start, path):\n",
    "        if len(path) == k:\n",
    "            result.append(path[:])\n",
    "            return\n",
    "        for i in range(start, n+1):\n",
    "            path.append(i)\n",
    "            backtrack(i+1, path)\n",
    "            path.pop()\n",
    "\n",
    "    backtrack(1, [])\n",
    "    return result"
   ],
   "id": "30e8869453252d24"
  }
 ],
 "metadata": {
  "kernelspec": {
   "display_name": "Python 3",
   "language": "python",
   "name": "python3"
  },
  "language_info": {
   "codemirror_mode": {
    "name": "ipython",
    "version": 2
   },
   "file_extension": ".py",
   "mimetype": "text/x-python",
   "name": "python",
   "nbconvert_exporter": "python",
   "pygments_lexer": "ipython2",
   "version": "2.7.6"
  }
 },
 "nbformat": 4,
 "nbformat_minor": 5
}
