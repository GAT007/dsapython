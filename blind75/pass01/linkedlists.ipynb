{
 "cells": [
  {
   "cell_type": "code",
   "id": "initial_id",
   "metadata": {
    "collapsed": true,
    "ExecuteTime": {
     "end_time": "2025-02-10T17:25:58.145655Z",
     "start_time": "2025-02-10T17:25:58.137830Z"
    }
   },
   "source": [
    "class ListNode:\n",
    "    def __init__(self, val=0, next=None):\n",
    "        self.val = val\n",
    "        self.next = next"
   ],
   "outputs": [],
   "execution_count": 1
  },
  {
   "metadata": {
    "ExecuteTime": {
     "end_time": "2025-02-11T02:36:32.018477Z",
     "start_time": "2025-02-11T02:36:31.997769Z"
    }
   },
   "cell_type": "code",
   "source": [
    "def middleNode(self, head):\n",
    "    slow = fast = head\n",
    "    while fast and fast.next:\n",
    "        slow = slow.next\n",
    "        fast = fast.next.next\n",
    "    return slow"
   ],
   "id": "2eef0a3256ca1fd9",
   "outputs": [],
   "execution_count": 2
  },
  {
   "metadata": {
    "ExecuteTime": {
     "end_time": "2025-02-11T02:39:52.251642Z",
     "start_time": "2025-02-11T02:39:52.240379Z"
    }
   },
   "cell_type": "code",
   "source": [
    "def linkedListCycle(self, head):\n",
    "    slow, fast = head, head\n",
    "    while fast and fast.next:\n",
    "        slow = slow.next\n",
    "        fast = fast.next.next\n",
    "\n",
    "        if slow == fast:\n",
    "            return True\n",
    "\n",
    "    return False"
   ],
   "id": "b6a6c22fd532104",
   "outputs": [],
   "execution_count": 3
  },
  {
   "metadata": {
    "ExecuteTime": {
     "end_time": "2025-02-11T02:45:11.976194Z",
     "start_time": "2025-02-11T02:45:11.966412Z"
    }
   },
   "cell_type": "code",
   "source": [
    "#Reverse a linked list\n",
    "def reverse(head):\n",
    "    prev = None\n",
    "    curr = head\n",
    "    next_pointer = None\n",
    "    while (curr!= None):\n",
    "        next_pointer = curr\n",
    "        curr.next = prev\n",
    "        prev = curr\n",
    "        curr = next_pointer\n",
    "    head = prev\n",
    "\n",
    "#TC : O(n)"
   ],
   "id": "8f1600479afd5419",
   "outputs": [],
   "execution_count": 5
  },
  {
   "metadata": {
    "ExecuteTime": {
     "end_time": "2025-02-11T03:02:59.183845Z",
     "start_time": "2025-02-11T03:02:59.165119Z"
    }
   },
   "cell_type": "code",
   "source": [
    "def removeElements(head, value):\n",
    "    dummy_head = ListNode(-1)\n",
    "    dummy_head.next = head\n",
    "\n",
    "    current_node = dummy_head\n",
    "\n",
    "    while current_node.next != None:\n",
    "        if current_node.next.val == value:\n",
    "            current_node.next = current_node.next.next\n",
    "        else:\n",
    "            current_node = current_node.next\n",
    "\n",
    "    return dummy_head.next"
   ],
   "id": "fbb7e87f537338c6",
   "outputs": [],
   "execution_count": 6
  },
  {
   "metadata": {
    "ExecuteTime": {
     "end_time": "2025-02-11T13:36:57.192815Z",
     "start_time": "2025-02-11T13:36:57.164170Z"
    }
   },
   "cell_type": "code",
   "source": [
    "#Reverse a linked list 2\n",
    "#You are given a range and you need to reverse the range, but everything else remains the same\n",
    "\"\"\"\n",
    "Three parts\n",
    "1. Iterate till the left pointer set it to none\n",
    "2. Iterate till the right pointer while reversing\n",
    "3. Set the left pointer none to the right pointer's next and the right pointer's next to the left_prev\n",
    "\"\"\"\n",
    "def reverseLinkedList2(head, left, right):\n",
    "    dummy_head = ListNode(-1, head)\n",
    "    left_prev, current_node = dummy_head, head\n",
    "    for i in range(left-1):\n",
    "        left_prev, current_node = current_node, current_node.next\n",
    "\n",
    "    prev = None\n",
    "    for i in range(right - left + 1):\n",
    "        next_pointer = current_node.next\n",
    "        current_node.next = prev\n",
    "        prev, current_node = current_node, next_pointer\n",
    "\n",
    "    left_prev.next.next = current_node\n",
    "    left_prev.next = prev\n",
    "    return dummy_head.next\n",
    "\n"
   ],
   "id": "e32b257e01745513",
   "outputs": [],
   "execution_count": 7
  },
  {
   "metadata": {},
   "cell_type": "code",
   "outputs": [],
   "execution_count": null,
   "source": [
    "#Palindrome linked list\n",
    "\"\"\"\n",
    "1. Find the middle of the linked list\n",
    "2. Reverse the linked list from the middle to the end\n",
    "3. Have a right pointer and a left pointer, iterate through them till they are equal, if they are not then you do not have a palindrom\n",
    "\"\"\""
   ],
   "id": "43d3f324fb2a00c5"
  },
  {
   "metadata": {},
   "cell_type": "code",
   "outputs": [],
   "execution_count": null,
   "source": [
    "#Merge two sorted linked lists\n",
    "\"\"\"\n",
    "Create a new merged list using two pointers\n",
    "\"\"\""
   ],
   "id": "741e0f4dfd05308e"
  }
 ],
 "metadata": {
  "kernelspec": {
   "display_name": "Python 3",
   "language": "python",
   "name": "python3"
  },
  "language_info": {
   "codemirror_mode": {
    "name": "ipython",
    "version": 2
   },
   "file_extension": ".py",
   "mimetype": "text/x-python",
   "name": "python",
   "nbconvert_exporter": "python",
   "pygments_lexer": "ipython2",
   "version": "2.7.6"
  }
 },
 "nbformat": 4,
 "nbformat_minor": 5
}
