{
 "cells": [
  {
   "metadata": {},
   "cell_type": "markdown",
   "source": "# Sliding window",
   "id": "939c1c21a1720c97"
  },
  {
   "cell_type": "code",
   "id": "initial_id",
   "metadata": {
    "collapsed": true,
    "ExecuteTime": {
     "end_time": "2025-06-25T12:21:09.938851Z",
     "start_time": "2025-06-25T12:21:09.911504Z"
    }
   },
   "source": [
    "\"\"\"\n",
    "Contains nearby duplicate\n",
    "\"\"\"\n",
    "\n",
    "\n",
    "def contains_duplicate_2(nums, k):\n",
    "    nearby_set = set()\n",
    "    l = 0\n",
    "    for r in range(len(nums)):\n",
    "        if r - l > k:\n",
    "            nearby_set.remove(nums[l])\n",
    "            l += 1\n",
    "        if nums[r] in nearby_set:\n",
    "            return True\n",
    "        nearby_set.add(nums[r])\n",
    "    return False"
   ],
   "outputs": [],
   "execution_count": 4
  },
  {
   "metadata": {
    "ExecuteTime": {
     "end_time": "2025-06-25T13:31:41.503308Z",
     "start_time": "2025-06-25T13:31:41.495847Z"
    }
   },
   "cell_type": "code",
   "source": [
    "\"\"\"\n",
    "Minimum absolute difference\n",
    "\"\"\"\n",
    "\n",
    "\n",
    "def minAbsDiff(nums):\n",
    "    nums_sorted = sorted(nums)\n",
    "    min_diff = float('inf')\n",
    "    for i in range(1, len(nums + sorted) - 1):\n",
    "        if nums[i] != nums[i - 1]:\n",
    "            min_diff = min(min_diff, nums[i] - nums[i - 1])\n",
    "\n",
    "    res = []\n",
    "\n",
    "    for i in range(1, len(nums) - 1):\n",
    "        if nums[i] - nums[i - 1] == 0:\n",
    "            res.append((nums[i], nums[i - 1]))\n",
    "\n",
    "    return res\n"
   ],
   "id": "2a548881480383b0",
   "outputs": [],
   "execution_count": 5
  },
  {
   "metadata": {
    "ExecuteTime": {
     "end_time": "2025-06-24T14:35:37.318652Z",
     "start_time": "2025-06-24T14:35:37.313369Z"
    }
   },
   "cell_type": "code",
   "source": [
    "\"\"\"\n",
    "Minimum size subarray\n",
    "\"\"\"\n",
    "\n",
    "\n",
    "def minSizeSubarray(nums, target):\n",
    "    l = 0\n",
    "    total = 0\n",
    "    res = float('inf')\n",
    "\n",
    "    for r in range(len(nums)):\n",
    "        total += nums[r]\n",
    "        while total >= target:\n",
    "            res = min(res, r - l + 1)\n",
    "            total -= nums[l]\n",
    "            l -= 1\n",
    "\n",
    "    if res == float('inf'):\n",
    "        return 0\n",
    "    else:\n",
    "        return res\n"
   ],
   "id": "a06dd7e6bf94c1f7",
   "outputs": [
    {
     "data": {
      "text/plain": [
       "'\\nMinimum size subarray\\n'"
      ]
     },
     "execution_count": 3,
     "metadata": {},
     "output_type": "execute_result"
    }
   ],
   "execution_count": 3
  },
  {
   "metadata": {},
   "cell_type": "code",
   "outputs": [],
   "execution_count": null,
   "source": "",
   "id": "ce9b5476c37c8fa6"
  }
 ],
 "metadata": {
  "kernelspec": {
   "display_name": "Python 3",
   "language": "python",
   "name": "python3"
  },
  "language_info": {
   "codemirror_mode": {
    "name": "ipython",
    "version": 2
   },
   "file_extension": ".py",
   "mimetype": "text/x-python",
   "name": "python",
   "nbconvert_exporter": "python",
   "pygments_lexer": "ipython2",
   "version": "2.7.6"
  }
 },
 "nbformat": 4,
 "nbformat_minor": 5
}
