{
 "cells": [
  {
   "metadata": {},
   "cell_type": "markdown",
   "source": [
    "# Binary Search Trees\n",
    "\n",
    "Form of a binary tree, where every left node is lesser than it's parent and every right node is greater than it's parent"
   ],
   "id": "b491b065382e36ed"
  },
  {
   "cell_type": "code",
   "id": "initial_id",
   "metadata": {
    "collapsed": true,
    "ExecuteTime": {
     "end_time": "2025-06-29T22:15:31.568956Z",
     "start_time": "2025-06-29T22:15:31.560312Z"
    }
   },
   "source": [
    "# Search of find the node in a binary search tree\n",
    "def searchBST(root, val):\n",
    "    while root:\n",
    "        if root.val == val:\n",
    "            return True\n",
    "\n",
    "        elif root.val > val:\n",
    "            root = root.left\n",
    "\n",
    "        else:\n",
    "            root = root.right\n",
    "\n",
    "    return None"
   ],
   "outputs": [],
   "execution_count": 1
  },
  {
   "metadata": {
    "ExecuteTime": {
     "end_time": "2025-06-29T22:31:04.202825Z",
     "start_time": "2025-06-29T22:31:04.196678Z"
    }
   },
   "cell_type": "code",
   "source": [
    "\"\"\"\n",
    "Insert into a binary search tree\n",
    "\"\"\"\n",
    "\n",
    "\n",
    "def insert_into_bst(root, val):\n",
    "    new_node = TNode(val)\n",
    "\n",
    "    if not root:\n",
    "        return new_node\n",
    "\n",
    "    current = root\n",
    "\n",
    "    while True:\n",
    "        if current.v < val:\n",
    "            if current.left:\n",
    "                current = current.left\n",
    "            else:\n",
    "                current.left = new_node\n",
    "                break\n",
    "\n",
    "        else:\n",
    "            if current.right:\n",
    "                current = current.right\n",
    "            else:\n",
    "                current.right = new_node\n",
    "                break\n",
    "\n",
    "    return root\n",
    "\n"
   ],
   "id": "6c7f6eaa767c975a",
   "outputs": [],
   "execution_count": 2
  },
  {
   "metadata": {
    "ExecuteTime": {
     "end_time": "2025-06-29T22:31:51.357048Z",
     "start_time": "2025-06-29T22:31:51.345903Z"
    }
   },
   "cell_type": "code",
   "source": [
    "\"\"\"\n",
    "Convert a sorted array into a bst\n",
    "\"\"\"\n",
    "\n",
    "\n",
    "class TNode:\n",
    "    def __init__(self, val, l=None, r=None):\n",
    "        self.val = val\n",
    "        self.l = l\n",
    "        self.r = r\n",
    "\n",
    "\n",
    "from collections import deque\n",
    "\n",
    "\n",
    "def converted(nums):\n",
    "    if not nums:\n",
    "        return None\n",
    "\n",
    "    n = len(nums)\n",
    "    mid = n // 2\n",
    "    root = TNode(nums[mid])\n",
    "\n",
    "    q = deque()\n",
    "    q.append((root, 0, mid - 1))\n",
    "    q.append((root, mid + 1, n - 1))\n",
    "\n",
    "    while q:\n",
    "        parent, left, right = q.popleft()\n",
    "        if left <= right:\n",
    "            mid = (left + right) // 2\n",
    "            child = TNode(nums[mid])\n",
    "            if nums[mid] < parent.val:\n",
    "                parent.left = child\n",
    "            else:\n",
    "                parent.right = child\n",
    "            q.append((child, left, mid - 1))\n",
    "            q.append((child, mid + 1, right))\n",
    "\n"
   ],
   "id": "85df67f9b9e8ae9",
   "outputs": [
    {
     "data": {
      "text/plain": [
       "'\\nConvert a sorted array into a bst\\n'"
      ]
     },
     "execution_count": 3,
     "metadata": {},
     "output_type": "execute_result"
    }
   ],
   "execution_count": 3
  },
  {
   "metadata": {
    "ExecuteTime": {
     "end_time": "2025-06-29T22:32:01.960730Z",
     "start_time": "2025-06-29T22:32:01.951910Z"
    }
   },
   "cell_type": "code",
   "source": [
    "\"\"\"\n",
    "Two Sum IV : Input is a BST\n",
    "\"\"\"\n",
    "\n",
    "from collections import deque\n",
    "\n",
    "\n",
    "def findTarget(root, k):\n",
    "    q = deque([root])\n",
    "    num_set = set()\n",
    "\n",
    "    while q:\n",
    "        node = q.popleft()\n",
    "        if (k - node.val) in num_set:\n",
    "            return True\n",
    "\n",
    "        else:\n",
    "            num_set.add(node.val)\n",
    "            if node.left: q.append(node.left)\n",
    "            if node.right: q.append(node.right)\n",
    "\n",
    "    return False"
   ],
   "id": "5c2cf94e6e3aa13a",
   "outputs": [
    {
     "data": {
      "text/plain": [
       "'\\nTwo Sum IV : Input is a BST\\n'"
      ]
     },
     "execution_count": 4,
     "metadata": {},
     "output_type": "execute_result"
    }
   ],
   "execution_count": 4
  },
  {
   "metadata": {
    "ExecuteTime": {
     "end_time": "2025-06-29T22:32:13.088669Z",
     "start_time": "2025-06-29T22:32:13.079646Z"
    }
   },
   "cell_type": "code",
   "source": [
    "\"\"\"\n",
    "Balance a binary search tree\n",
    "Solution : Create a sorted array from the BST and then convert the BST to a sorted array\n",
    "\"\"\"\n",
    "\n",
    "\n",
    "def balance_tree(root):\n",
    "    \"\"\"\n",
    "    Convert to sorted array\n",
    "    \"\"\"\n",
    "\n",
    "    nodes = []\n",
    "    stack = []\n",
    "    current = root\n",
    "\n",
    "    while current or stack:\n",
    "        while current:\n",
    "            stack.append(current)\n",
    "            current = current.left\n",
    "\n",
    "        current = stack.pop()\n",
    "        nodes.append(current.val)\n",
    "        current = current.right\n",
    "\n",
    "    if not nodes:\n",
    "        return None\n",
    "\n",
    "    n = len(nodes)\n",
    "    mid = n // 2\n",
    "    root = TNode(nodes[mid])\n",
    "\n",
    "    q = deque([(root, 0, mid - 1), (root, mid + 1, len(nodes) - 1)])\n",
    "\n",
    "    while q:\n",
    "        curr, left, right = q.popleft()\n",
    "        if left <= right:\n",
    "            mid = (left + right) // 2\n",
    "            child = TNode(nodes[mid])\n",
    "            if nodes[mid] < current.val:\n",
    "                current.left = child\n",
    "            else:\n",
    "                current.right = child\n",
    "\n",
    "            q.append((child, left, mid - 1))\n",
    "            q.append((child, mid + 1, right))\n",
    "\n",
    "    return root\n",
    "\n",
    "\n",
    "\n"
   ],
   "id": "bd2968456d29a507",
   "outputs": [
    {
     "data": {
      "text/plain": [
       "'\\nBalance a binary search tree\\n'"
      ]
     },
     "execution_count": 5,
     "metadata": {},
     "output_type": "execute_result"
    }
   ],
   "execution_count": 5
  },
  {
   "metadata": {
    "ExecuteTime": {
     "end_time": "2025-06-30T01:59:08.850835Z",
     "start_time": "2025-06-30T01:59:08.840762Z"
    }
   },
   "cell_type": "code",
   "source": [
    "\"\"\"\n",
    "Delete node in a BST\n",
    "\"\"\"\n",
    "\n",
    "\n",
    "def delete_node(root, k):\n",
    "    if root is None or k is None:\n",
    "        return None\n",
    "\n",
    "    found = None\n",
    "    curr = root\n",
    "    while curr and curr.val != k:\n",
    "        found = curr\n",
    "        if curr.val < k:\n",
    "            curr = curr.left\n",
    "        else:\n",
    "            curr = curr.right\n",
    "\n",
    "    '''\n",
    "    Delete the node\n",
    "    '''\n",
    "\n",
    "    if curr == None:\n",
    "        return None\n",
    "\n",
    "    if not curr.left and not curr.right:\n",
    "        if not root:\n",
    "            return None\n",
    "\n",
    "        if found.left == curr:\n",
    "            found.left = None\n",
    "        else:\n",
    "            found.right = None\n",
    "\n",
    "    elif not curr.left or curr.right:\n",
    "        if not found:\n",
    "            return curr\n",
    "        if found.left == curr:\n",
    "            found.left = curr\n",
    "        else:\n",
    "            found.right = curr\n",
    "\n",
    "    else:\n",
    "        pass\n",
    "\n",
    "\n",
    "\n",
    "\n",
    "\n",
    "\n"
   ],
   "id": "6f8181f420c7b584",
   "outputs": [],
   "execution_count": 7
  },
  {
   "metadata": {},
   "cell_type": "code",
   "outputs": [],
   "execution_count": null,
   "source": [
    "\"\"\"\n",
    "Delete node recursive\n",
    "\"\"\"\n",
    "\n",
    "\n",
    "def delete_node(root, data):\n",
    "    def _delete_recursive(current, data):\n",
    "        if current is None:\n",
    "            return current\n",
    "\n",
    "        if data < current.data:\n",
    "            current.left = _delete_recursive(current.left, data)\n",
    "        elif data > current.data:\n",
    "            current.right = _delete_recursive(current.right, data)\n",
    "        else:\n",
    "            if current.left is None and current.right is None:\n",
    "                return None\n",
    "\n",
    "            elif current.left is None:\n",
    "                return current.right\n",
    "\n",
    "            elif current.right is None:\n",
    "                return current.left\n",
    "\n",
    "            else:\n",
    "                temp = find_min_node(current.right)\n",
    "                current.data = temp.data\n",
    "                current.right = _delete_recursive(current.right, temp.data)\n",
    "\n",
    "    root = _delete_recursive(root, data)\n",
    "    return root"
   ],
   "id": "d8f20af53acf4d3c"
  },
  {
   "metadata": {},
   "cell_type": "code",
   "outputs": [],
   "execution_count": null,
   "source": [
    "\"\"\"\n",
    "Kth smallest element in a BST\n",
    "\"\"\"\n",
    "\n",
    "\n",
    "def kth_smallest(root, k):\n",
    "    stack = []\n",
    "    while root or stack:\n",
    "        if root:\n",
    "            stack.append(root)\n",
    "            root = root.left\n",
    "\n",
    "        else:\n",
    "            root = stack.pop()\n",
    "            k -= 1\n",
    "            if k == 0:\n",
    "                return root\n",
    "\n",
    "        root = root.right"
   ],
   "id": "a3a84d73cdcd204e"
  }
 ],
 "metadata": {
  "kernelspec": {
   "display_name": "Python 3",
   "language": "python",
   "name": "python3"
  },
  "language_info": {
   "codemirror_mode": {
    "name": "ipython",
    "version": 2
   },
   "file_extension": ".py",
   "mimetype": "text/x-python",
   "name": "python",
   "nbconvert_exporter": "python",
   "pygments_lexer": "ipython2",
   "version": "2.7.6"
  }
 },
 "nbformat": 4,
 "nbformat_minor": 5
}
