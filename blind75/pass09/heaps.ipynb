{
 "cells": [
  {
   "metadata": {},
   "cell_type": "markdown",
   "source": "# Heaps",
   "id": "13b77d725f457eb5"
  },
  {
   "cell_type": "code",
   "id": "initial_id",
   "metadata": {
    "collapsed": true,
    "ExecuteTime": {
     "end_time": "2025-06-30T04:09:45.623474Z",
     "start_time": "2025-06-30T04:09:45.616115Z"
    }
   },
   "source": [
    "\"\"\"\n",
    "Kth largest element in the array\n",
    "\"\"\"\n",
    "import heapq\n",
    "\n",
    "\n",
    "def nlargest(nums, k):\n",
    "    print(heapq.nlargest(k, nums))\n",
    "    return heapq.nlargest(k, nums)[-1]\n",
    "\n",
    "\n",
    "print(nlargest([10, 4, 2, 6, 9], 3))\n",
    "\n",
    "\n",
    "def nlargest_manual(nums, k):\n",
    "    heap = []\n",
    "\n",
    "    for i in nums:\n",
    "        heapq.heappush(heap, i)\n",
    "\n",
    "    for i in range(len(nums) - k):\n",
    "        heapq.heappop(heap)\n",
    "\n",
    "    return heapq.heappop(heap)\n",
    "\n",
    "\n",
    "def nlargest_heapreplace(nums, k):\n",
    "    heap = nums[:k]\n",
    "    heapq.heapify(heap)\n",
    "\n",
    "    for num in nums[k:]:\n",
    "        if num > heap[0]:\n",
    "            heapq.heapreplace(heap, num)\n",
    "\n",
    "    return heap[0]\n"
   ],
   "outputs": [
    {
     "name": "stdout",
     "output_type": "stream",
     "text": [
      "[10, 9, 6]\n",
      "6\n"
     ]
    }
   ],
   "execution_count": 6
  },
  {
   "metadata": {
    "ExecuteTime": {
     "end_time": "2025-06-29T22:33:10.174594Z",
     "start_time": "2025-06-29T22:33:10.164595Z"
    }
   },
   "cell_type": "code",
   "source": [
    "\"\"\"\n",
    "K Closest points to origin\n",
    "\"\"\"\n",
    "\n",
    "import heapq, math\n",
    "\n",
    "\n",
    "def k_closest_points(points, k):\n",
    "    heap = []\n",
    "    for x, y in points:\n",
    "        distance = -(math.sqrt(x * x + y * y))\n",
    "        if len(heap) == k:\n",
    "            heapq.heappushpop(heap, (distance, x, y))\n",
    "        else:\n",
    "            heapq.heappush(heap, (distance, x, y))\n",
    "\n",
    "    return [(x, y) for (dist, x, y) in heap]\n"
   ],
   "id": "33e0f88f6a00d3a4",
   "outputs": [
    {
     "data": {
      "text/plain": [
       "'\\nK Closest points to origin\\n'"
      ]
     },
     "execution_count": 2,
     "metadata": {},
     "output_type": "execute_result"
    }
   ],
   "execution_count": 2
  },
  {
   "metadata": {
    "ExecuteTime": {
     "end_time": "2025-06-29T22:33:16.743326Z",
     "start_time": "2025-06-29T22:33:16.735602Z"
    }
   },
   "cell_type": "code",
   "source": [
    "\"\"\"\n",
    "Top K frequent elements\n",
    "\"\"\"\n",
    "from collections import Counter\n",
    "\n",
    "\n",
    "def top_k_frequent(nums, k):\n",
    "    count = Counter(nums)\n",
    "\n",
    "    heap = []\n",
    "\n",
    "    for num, freq in count.items():\n",
    "        if len(heap) < k:\n",
    "            heapq.heappush(heap, (freq, num))\n",
    "        else:\n",
    "            heapq.heapreplace(heap, (freq, num))\n",
    "\n",
    "    top_k = [num for freq, num in heap]\n",
    "\n",
    "    return top_k"
   ],
   "id": "a329485d6fff874b",
   "outputs": [
    {
     "data": {
      "text/plain": [
       "'\\nTop K frequent elements'"
      ]
     },
     "execution_count": 3,
     "metadata": {},
     "output_type": "execute_result"
    }
   ],
   "execution_count": 3
  },
  {
   "metadata": {
    "ExecuteTime": {
     "end_time": "2025-06-29T22:33:23.009243Z",
     "start_time": "2025-06-29T22:33:22.995311Z"
    }
   },
   "cell_type": "code",
   "source": [
    "\"\"\"\n",
    "Task scheduler\n",
    "\n",
    "To keep track of the most frequent tasks you can use a max heap\n",
    "\n",
    "You are given an array of CPU tasks, each represented by letters A to Z, and a cooling time n, Each cycle or interval allows the completion of one task. Tasks can be completed in any order, but there's a constraint: identical tasks must be separated by at least n intervals due to cooling time.\n",
    "\n",
    "Return the minimum number of intervals required to complete all tasks.\n",
    "\"\"\"\n",
    "\n",
    "from collections import Counter, deque\n",
    "\n",
    "\n",
    "def task_scheduler(tasks, n):\n",
    "    task_counts = Counter(tasks)\n",
    "\n",
    "    max_heap = []\n",
    "\n",
    "    for count in task_counts.values():\n",
    "        max_heap.append(-count)\n",
    "\n",
    "    heapq.heapify(max_heap)\n",
    "\n",
    "    time = 0\n",
    "    wait_queue = deque()\n",
    "\n",
    "    while max_heap or wait_queue:\n",
    "        time += 1\n",
    "        if max_heap:\n",
    "            current_task = heapq.heappop(max_heap)\n",
    "            current_task += 1\n",
    "\n",
    "            if current_task != 0:\n",
    "                wait_queue.append((current_task, time + n))\n",
    "\n",
    "        if wait_queue and wait_queue[0][1] == time:\n",
    "            heapq.heappush(max_heap, wait_queue.popleft()[0])\n",
    "\n",
    "    return time\n"
   ],
   "id": "66be76315eb75da",
   "outputs": [
    {
     "data": {
      "text/plain": [
       "'\\nTask scheduler\\n'"
      ]
     },
     "execution_count": 4,
     "metadata": {},
     "output_type": "execute_result"
    }
   ],
   "execution_count": 4
  },
  {
   "metadata": {},
   "cell_type": "code",
   "outputs": [],
   "execution_count": null,
   "source": "",
   "id": "319f61f1784aa919"
  }
 ],
 "metadata": {
  "kernelspec": {
   "display_name": "Python 3",
   "language": "python",
   "name": "python3"
  },
  "language_info": {
   "codemirror_mode": {
    "name": "ipython",
    "version": 2
   },
   "file_extension": ".py",
   "mimetype": "text/x-python",
   "name": "python",
   "nbconvert_exporter": "python",
   "pygments_lexer": "ipython2",
   "version": "2.7.6"
  }
 },
 "nbformat": 4,
 "nbformat_minor": 5
}
