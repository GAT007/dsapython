{
 "cells": [
  {
   "metadata": {},
   "cell_type": "markdown",
   "source": [
    "# Stacks\n",
    "Nothing but arrays with more constraints"
   ],
   "id": "7f46d4e973811da3"
  },
  {
   "cell_type": "code",
   "id": "initial_id",
   "metadata": {
    "collapsed": true,
    "ExecuteTime": {
     "end_time": "2025-06-28T22:06:53.624818Z",
     "start_time": "2025-06-28T22:06:53.611372Z"
    }
   },
   "source": [
    "\"\"\"\n",
    "Min Stack\n",
    "\"\"\"\n",
    "\n",
    "\n",
    "class MinStack:\n",
    "    def __init__(self):\n",
    "        self.stack = []\n",
    "\n",
    "    def push(self, value):\n",
    "        if not self.stack:\n",
    "            min_value = value\n",
    "        else:\n",
    "            min_value = min(self.stack[-1][1], value)\n",
    "\n",
    "        self.stack.append((value, min_value))\n",
    "\n",
    "    def pop(self):\n",
    "        return self.stack.pop()[0]\n",
    "\n",
    "    def top(self):\n",
    "        return self.stack[-1][0]\n",
    "\n",
    "    def getMin(self):\n",
    "        return self.stack[-1][1]"
   ],
   "outputs": [],
   "execution_count": 4
  },
  {
   "metadata": {
    "ExecuteTime": {
     "end_time": "2025-06-28T22:03:55.737736Z",
     "start_time": "2025-06-28T22:03:55.726957Z"
    }
   },
   "cell_type": "code",
   "source": [
    "\"\"\"\n",
    "Valid parentheses\n",
    "\"\"\"\n",
    "\n",
    "\n",
    "def valid_parentheses(st):\n",
    "    p_map = {'}': '{', ']': '[', ')': '('}\n",
    "\n",
    "    stack = []\n",
    "\n",
    "    for s in st:\n",
    "        if stack and s in p_map and stack[-1] == p_map[s]:\n",
    "            stack.pop()\n",
    "        else:\n",
    "            stack.append(st)\n",
    "\n",
    "    return not stack"
   ],
   "id": "59a5402e52667918",
   "outputs": [
    {
     "data": {
      "text/plain": [
       "'\\nValid parentheses\\n'"
      ]
     },
     "execution_count": 2,
     "metadata": {},
     "output_type": "execute_result"
    }
   ],
   "execution_count": 2
  },
  {
   "metadata": {
    "ExecuteTime": {
     "end_time": "2025-06-28T22:04:06.651618Z",
     "start_time": "2025-06-28T22:04:06.643504Z"
    }
   },
   "cell_type": "code",
   "source": [
    "\"\"\"\n",
    "Evaluate reverse polish notation\n",
    "\"\"\"\n",
    "\n",
    "\n",
    "def reverse_polish_notation(st):\n",
    "    stack = []\n",
    "    for s in st:\n",
    "        if s not in '+-*/':\n",
    "            stack.append(int(s))\n",
    "        else:\n",
    "            l = stack.pop()\n",
    "            r = stack.pop()\n",
    "            if s == '+':\n",
    "                stack.append(r + l)\n",
    "            elif s == '-':\n",
    "                stack.append(r - l)\n",
    "            elif s == '*':\n",
    "                stack.append(r * l)\n",
    "            elif s == '/':\n",
    "                stack.append(int(r / l))\n",
    "\n",
    "    if len(stack) == 1:\n",
    "        return stack[0]\n",
    "    else:\n",
    "        return 'Invalid expression'"
   ],
   "id": "fdf3d29ed24dd8dd",
   "outputs": [
    {
     "data": {
      "text/plain": [
       "'\\nEvaluate reverse polish notation\\n'"
      ]
     },
     "execution_count": 3,
     "metadata": {},
     "output_type": "execute_result"
    }
   ],
   "execution_count": 3
  },
  {
   "metadata": {},
   "cell_type": "code",
   "outputs": [],
   "execution_count": null,
   "source": [
    "\"\"\"\n",
    "Stack sorting\n",
    "\"\"\"\n",
    "\n"
   ],
   "id": "506cd31bfdc28718"
  }
 ],
 "metadata": {
  "kernelspec": {
   "display_name": "Python 3",
   "language": "python",
   "name": "python3"
  },
  "language_info": {
   "codemirror_mode": {
    "name": "ipython",
    "version": 2
   },
   "file_extension": ".py",
   "mimetype": "text/x-python",
   "name": "python",
   "nbconvert_exporter": "python",
   "pygments_lexer": "ipython2",
   "version": "2.7.6"
  }
 },
 "nbformat": 4,
 "nbformat_minor": 5
}
