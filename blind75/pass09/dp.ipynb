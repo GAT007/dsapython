{
 "cells": [
  {
   "metadata": {},
   "cell_type": "markdown",
   "source": [
    "# Dynamic Programming\n",
    "\n",
    "Algorithm\n",
    "1. Pick the data structure for the problem, usually a memoized array\n",
    "2. Setup the base cases\n",
    "3. Execute the loop that fills up the answers\n",
    "4. Give the answers if conditions are met"
   ],
   "id": "361543be9b91345"
  },
  {
   "cell_type": "code",
   "id": "initial_id",
   "metadata": {
    "collapsed": true,
    "ExecuteTime": {
     "end_time": "2025-06-27T14:10:34.585941Z",
     "start_time": "2025-06-27T14:10:34.574347Z"
    }
   },
   "source": [
    "\"\"\"\n",
    "Coin change problem\n",
    "\"\"\"\n",
    "\n",
    "\n",
    "def coin_change(coins, target):\n",
    "    dp = [target + 1] * (target + 1)\n",
    "    dp[0] = 0\n",
    "\n",
    "    for i in range(1, target + 1):\n",
    "        for c in coins:\n",
    "            if i - c >= 0:\n",
    "                dp[i] = min(dp[i], dp[i - c] + 1)\n",
    "\n",
    "    if dp[target] == target + 1:\n",
    "        return -1\n",
    "    else:\n",
    "        return dp[target]"
   ],
   "outputs": [],
   "execution_count": 1
  },
  {
   "metadata": {
    "ExecuteTime": {
     "end_time": "2025-06-27T14:12:00.963598Z",
     "start_time": "2025-06-27T14:12:00.954524Z"
    }
   },
   "cell_type": "code",
   "source": [
    "\"\"\"\n",
    "Climbing stairs\n",
    "\"\"\"\n",
    "\n",
    "\n",
    "def climbing_stairs(target):\n",
    "    dp = [0] * (target + 1)\n",
    "    dp[1] = 1\n",
    "    dp[2] = 2\n",
    "\n",
    "    for i in range(3, target + 1):\n",
    "        dp[i] = dp[i - 1] + dp[i - 2]\n",
    "\n",
    "    return dp[target]"
   ],
   "id": "2eb477b22a822403",
   "outputs": [],
   "execution_count": 2
  },
  {
   "metadata": {
    "ExecuteTime": {
     "end_time": "2025-06-27T14:15:52.375901Z",
     "start_time": "2025-06-27T14:15:52.367009Z"
    }
   },
   "cell_type": "code",
   "source": [
    "\"\"\"\n",
    "Max subarray\n",
    "\"\"\"\n",
    "\n",
    "\n",
    "def max_subarray(nums):\n",
    "    dp = [0] * (len(nums))\n",
    "    for i in range(len(nums)):\n",
    "        dp[i] = max(nums[i], dp[i - 1] + nums[i])\n",
    "    return max(dp)\n",
    "\n",
    "\n",
    "print(max_subarray([-2, 1, -2, 4, 3, 5, 6, 1, 5]))"
   ],
   "id": "66d65717b16689f7",
   "outputs": [
    {
     "name": "stdout",
     "output_type": "stream",
     "text": [
      "24\n"
     ]
    }
   ],
   "execution_count": 3
  },
  {
   "metadata": {
    "ExecuteTime": {
     "end_time": "2025-06-27T18:52:34.033021Z",
     "start_time": "2025-06-27T18:52:34.017647Z"
    }
   },
   "cell_type": "code",
   "source": [
    "def max_subarray_kadane(nums):\n",
    "    if not nums:\n",
    "        return 0\n",
    "\n",
    "    current_max = nums[0]\n",
    "    global_max = nums[0]\n",
    "\n",
    "    for i in range(1, len(nums)):\n",
    "        current_max = max(nums[i], current_max + nums[i])\n",
    "        global_max = max(global_max, current_max)\n",
    "\n",
    "    return global_max"
   ],
   "id": "d7ea8e2d0038fb59",
   "outputs": [],
   "execution_count": 4
  },
  {
   "metadata": {
    "ExecuteTime": {
     "end_time": "2025-06-27T18:57:10.787745Z",
     "start_time": "2025-06-27T18:57:10.778823Z"
    }
   },
   "cell_type": "code",
   "source": [
    "\"\"\"\n",
    "Range Sum Query - immutable\n",
    "\"\"\"\n",
    "\n",
    "\n",
    "class RangeSumQuery:\n",
    "    def __init__(self, nums):\n",
    "        self.acc_nums = [0]\n",
    "        for num in nums:\n",
    "            self.acc_nums.append(self.acc_nums[-1] + num)\n",
    "\n",
    "    def sumRange(self, left, right):\n",
    "        return self.acc_nums[right + 1] - self.acc_nums[left]"
   ],
   "id": "1d8a0461e97a0fb",
   "outputs": [],
   "execution_count": 5
  },
  {
   "metadata": {},
   "cell_type": "code",
   "outputs": [],
   "execution_count": null,
   "source": "",
   "id": "2da073ae5ba2602a"
  }
 ],
 "metadata": {
  "kernelspec": {
   "display_name": "Python 3",
   "language": "python",
   "name": "python3"
  },
  "language_info": {
   "codemirror_mode": {
    "name": "ipython",
    "version": 2
   },
   "file_extension": ".py",
   "mimetype": "text/x-python",
   "name": "python",
   "nbconvert_exporter": "python",
   "pygments_lexer": "ipython2",
   "version": "2.7.6"
  }
 },
 "nbformat": 4,
 "nbformat_minor": 5
}
