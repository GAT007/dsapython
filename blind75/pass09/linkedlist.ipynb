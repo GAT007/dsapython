{
 "cells": [
  {
   "metadata": {},
   "cell_type": "markdown",
   "source": [
    "# Linked lists\n",
    "Key concept\n",
    "\n",
    "Singly Linked list, there is head value, each value contains a single link to then next node\n",
    "\n",
    "Doubly Linked list, there is head value, each value contains a link to the previous as well as the next node"
   ],
   "id": "d3036032286ecdff"
  },
  {
   "cell_type": "code",
   "id": "initial_id",
   "metadata": {
    "collapsed": true,
    "ExecuteTime": {
     "end_time": "2025-06-28T17:30:05.020093Z",
     "start_time": "2025-06-28T17:30:05.014247Z"
    }
   },
   "source": [
    "\"\"\"\n",
    "Middle of the linked list\n",
    "\"\"\"\n",
    "\n",
    "\n",
    "def middle(head):\n",
    "    if not head:\n",
    "        return False\n",
    "\n",
    "    slow = fast = head\n",
    "    while fast and fast.next:\n",
    "        slow = slow.next\n",
    "        fast = fast.next.next\n",
    "\n",
    "    return slow"
   ],
   "outputs": [],
   "execution_count": 1
  },
  {
   "metadata": {
    "ExecuteTime": {
     "end_time": "2025-06-28T17:33:27.383885Z",
     "start_time": "2025-06-28T17:33:27.376481Z"
    }
   },
   "cell_type": "code",
   "source": [
    "\"\"\"\n",
    "Linked list cycle\n",
    "\"\"\"\n",
    "\n",
    "\n",
    "def cycle(root):\n",
    "    if not root:\n",
    "        return False\n",
    "\n",
    "    slow = fast = root\n",
    "\n",
    "    while fast and fast.next:\n",
    "        slow = slow.next\n",
    "        fast = fast.next.next\n",
    "\n",
    "        if slow == fast:\n",
    "            return True\n",
    "\n",
    "    return False"
   ],
   "id": "7d29bc64a12b0503",
   "outputs": [],
   "execution_count": 2
  },
  {
   "metadata": {
    "ExecuteTime": {
     "end_time": "2025-06-28T17:46:19.447046Z",
     "start_time": "2025-06-28T17:46:19.439111Z"
    }
   },
   "cell_type": "code",
   "source": [
    "\"\"\"\n",
    "Reverse a linked list\n",
    "\"\"\"\n",
    "\n",
    "\n",
    "def reverse(root):\n",
    "    prev = None\n",
    "    curr = root\n",
    "\n",
    "    while curr:\n",
    "        next = curr.next\n",
    "        curr.next = prev\n",
    "        prev = curr\n",
    "        curr = next\n",
    "\n",
    "    return prev"
   ],
   "id": "4efba00c2abb07d2",
   "outputs": [],
   "execution_count": 3
  },
  {
   "metadata": {
    "ExecuteTime": {
     "end_time": "2025-06-28T17:50:25.100120Z",
     "start_time": "2025-06-28T17:50:25.090964Z"
    }
   },
   "cell_type": "code",
   "source": [
    "\"\"\"\n",
    "Remove elements from a linked list\n",
    "\"\"\"\n",
    "\n",
    "\n",
    "class LLNode:\n",
    "    def __init__(self, value, next=None):\n",
    "        self.value = value\n",
    "        self.next = next\n",
    "\n",
    "\n",
    "def remove_elements(root, target):\n",
    "    if not root:\n",
    "        return None\n",
    "\n",
    "    dummy_node = LLNode(-1, root)\n",
    "    curr = dummy_node\n",
    "\n",
    "    while curr and curr.next:\n",
    "        if curr.next.value == target:\n",
    "            curr.next = curr.next.next\n",
    "        else:\n",
    "            curr = curr.next\n",
    "\n",
    "    return dummy_node.next"
   ],
   "id": "ca1395f85584060b",
   "outputs": [],
   "execution_count": 4
  },
  {
   "metadata": {
    "ExecuteTime": {
     "end_time": "2025-06-28T18:14:30.892059Z",
     "start_time": "2025-06-28T18:14:30.881713Z"
    }
   },
   "cell_type": "code",
   "source": [
    "\"\"\"\n",
    "Reverse linked list 2\n",
    "\"\"\"\n",
    "\n",
    "\n",
    "def reverse_linked_list_2(root, p, q):\n",
    "    if not root:\n",
    "        return None\n",
    "\n",
    "    if p > q:\n",
    "        return None\n",
    "\n",
    "    dummy_head = LLNode(-1, root)\n",
    "\n",
    "    cur = dummy_head\n",
    "    for i in range(p - 1):\n",
    "        cur = cur.next\n",
    "\n",
    "    left_prev = cur.next\n",
    "    curr = left_prev\n",
    "    prev = None\n",
    "\n",
    "    for i in range(q - p + 1):\n",
    "        next_p = curr.next\n",
    "        curr.next = prev\n",
    "        prev = curr\n",
    "        curr = next_p\n",
    "\n",
    "    cur.next = prev\n",
    "    left_prev.next = curr\n",
    "\n",
    "    return dummy_head.next\n",
    "\n"
   ],
   "id": "e81331ec1468e2cc",
   "outputs": [],
   "execution_count": 5
  },
  {
   "metadata": {
    "ExecuteTime": {
     "end_time": "2025-06-28T21:58:20.540142Z",
     "start_time": "2025-06-28T21:58:20.517189Z"
    }
   },
   "cell_type": "code",
   "source": [
    "\"\"\"\n",
    "Palindrome linked list\n",
    "\"\"\"\n",
    "\n",
    "\n",
    "def palindrome_linked_list(root):\n",
    "    if not root:\n",
    "        return None\n",
    "\n",
    "    slow = fast = root\n",
    "\n",
    "    while fast and fast.next:\n",
    "        slow = slow.next\n",
    "        fast = fast.next.next\n",
    "\n",
    "    prev = None\n",
    "    curr = slow\n",
    "\n",
    "    while curr:\n",
    "        next_p = curr.next\n",
    "        curr.next = prev\n",
    "        prev = curr\n",
    "        curr = next_p\n",
    "\n",
    "    l, r = root, prev\n",
    "\n",
    "    while r:\n",
    "        if l.value != r.value:\n",
    "            return False\n",
    "        else:\n",
    "            l = l.next\n",
    "            r = r.next\n",
    "\n",
    "    return True\n",
    "\n",
    "\n"
   ],
   "id": "f32acf6b8d8ecfda",
   "outputs": [],
   "execution_count": 7
  },
  {
   "metadata": {},
   "cell_type": "code",
   "outputs": [],
   "execution_count": null,
   "source": [
    "\"\"\"\n",
    "Merge two sorted lists\n",
    "\"\"\"\n",
    "\n",
    "\n",
    "def merge_two(root1, root2):\n",
    "    if not root1 and not root2:\n",
    "        return None\n",
    "\n",
    "    if not root1:\n",
    "        return root2\n",
    "\n",
    "    if not root2: return root1\n",
    "\n",
    "    dummy_node = LLNode(-1, None)\n",
    "    curr = dummy_node\n",
    "    l, r = root1, root2\n",
    "\n",
    "    while l and r:\n",
    "        if l.value < r.value:\n",
    "            curr.next = l\n",
    "            curr = curr.next\n",
    "            l = l.next\n",
    "        else:\n",
    "            curr.next = r\n",
    "            curr = curr.next\n",
    "            r = r.next\n",
    "\n",
    "    if l or r:\n",
    "        curr.next = l if l else r\n",
    "\n",
    "    return dummy_node.next"
   ],
   "id": "90c20f664f065586"
  }
 ],
 "metadata": {
  "kernelspec": {
   "display_name": "Python 3",
   "language": "python",
   "name": "python3"
  },
  "language_info": {
   "codemirror_mode": {
    "name": "ipython",
    "version": 2
   },
   "file_extension": ".py",
   "mimetype": "text/x-python",
   "name": "python",
   "nbconvert_exporter": "python",
   "pygments_lexer": "ipython2",
   "version": "2.7.6"
  }
 },
 "nbformat": 4,
 "nbformat_minor": 5
}
