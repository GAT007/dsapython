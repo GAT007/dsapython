{
 "cells": [
  {
   "cell_type": "code",
   "id": "initial_id",
   "metadata": {
    "collapsed": true,
    "ExecuteTime": {
     "end_time": "2025-03-04T22:05:48.682937Z",
     "start_time": "2025-03-04T22:05:48.672896Z"
    }
   },
   "source": [
    "\"\"\"\n",
    "Linked list\n",
    "\"\"\"\n",
    "\n",
    "class Node:\n",
    "    def __init__(self, val, next = None):\n",
    "        self.val = val\n",
    "        self.next = next\n",
    "\n",
    "c = ('c', None)\n",
    "b = ('b', c)\n",
    "a = ('a', b)"
   ],
   "outputs": [],
   "execution_count": 1
  },
  {
   "metadata": {
    "ExecuteTime": {
     "end_time": "2025-03-05T13:55:15.901634Z",
     "start_time": "2025-03-05T13:55:15.883368Z"
    }
   },
   "cell_type": "code",
   "source": [
    "\"\"\"\n",
    "Middle of the linked list\n",
    "\"\"\"\n",
    "def middle(head):\n",
    "    fast, slow = head, head\n",
    "    while fast and fast.next!=None:\n",
    "        slow = slow.next\n",
    "        fast = fast.next.next\n",
    "    return slow"
   ],
   "id": "f9596e25c34309c9",
   "outputs": [],
   "execution_count": 1
  },
  {
   "metadata": {
    "ExecuteTime": {
     "end_time": "2025-03-05T14:02:53.714475Z",
     "start_time": "2025-03-05T14:02:53.686868Z"
    }
   },
   "cell_type": "code",
   "source": [
    "\"\"\"\n",
    "Reverse a linked list\n",
    "\"\"\"\n",
    "def reverse(head):\n",
    "    prev = None\n",
    "    curr = head\n",
    "    next_p = head.next\n",
    "    while curr!=None:\n",
    "        next_p = curr.next\n",
    "        curr.next = prev\n",
    "        prev = curr\n",
    "        curr = next_p\n",
    "\n",
    "    head = prev\n",
    "    return head\n"
   ],
   "id": "cac8a6f5bcd4aecf",
   "outputs": [],
   "execution_count": 2
  },
  {
   "metadata": {
    "ExecuteTime": {
     "end_time": "2025-03-05T14:06:05.904665Z",
     "start_time": "2025-03-05T14:06:05.889587Z"
    }
   },
   "cell_type": "code",
   "source": [
    "\"\"\"\n",
    "Remove element from linked list\n",
    "\"\"\"\n",
    "def remove(head, value):\n",
    "    dummy_head = Node(-1, head)\n",
    "    curr = dummy_head\n",
    "    while curr:\n",
    "        if curr.val == value:\n",
    "            curr.next = curr.next.next\n",
    "        else:\n",
    "            curr = curr.next\n",
    "    return dummy_head.next\n"
   ],
   "id": "34339ff3b507ef84",
   "outputs": [],
   "execution_count": 3
  },
  {
   "metadata": {
    "ExecuteTime": {
     "end_time": "2025-03-05T16:25:00.012091Z",
     "start_time": "2025-03-05T16:25:00.003643Z"
    }
   },
   "cell_type": "code",
   "source": [
    "\"\"\"\n",
    "Reverse linked list 2\n",
    "\"\"\"\n",
    "def reverse2(head, left, right):\n",
    "    dummy_head = Node(-1, head)\n",
    "    left_prev, current_node = dummy_head, head\n",
    "    for i in range(left-1):\n",
    "        left_prev, current_node = current_node, current_node.next\n",
    "\n",
    "    prev = None\n",
    "    for i in range(right-left+1):\n",
    "        next_pointer = current_node.next\n",
    "        current_node.next = prev\n",
    "        prev = current_node\n",
    "        current_node = next_pointer\n",
    "\n",
    "    #Clean up\n",
    "    left_prev.next.next = current_node\n",
    "    left_prev.next = prev\n",
    "\n",
    "    return dummy_head.next\n"
   ],
   "id": "3fa9c31b1afbc740",
   "outputs": [],
   "execution_count": 1
  },
  {
   "metadata": {
    "ExecuteTime": {
     "end_time": "2025-03-05T16:43:45.032229Z",
     "start_time": "2025-03-05T16:43:45.019956Z"
    }
   },
   "cell_type": "code",
   "source": [
    "\"\"\"\n",
    "Palindrome linked list\n",
    "With the head of a singly linked list, return true if it is a palindrome or false otherwise\n",
    "\"\"\"\n",
    "#Traverse to the middle of the node\n",
    "#Reverse from the middle of the list till the end\n",
    "#Use a left and right pointer to traverse till the right pointer is not none\n",
    "\n",
    "def palindromelist(head):\n",
    "    fast, slow = head, head\n",
    "    while fast and fast.next:\n",
    "        fast = fast.next.next\n",
    "        slow = slow.next\n",
    "\n",
    "    #Reverse from middle of list to end\n",
    "    prev = None\n",
    "    while slow!=None:\n",
    "        next_p = slow.next\n",
    "        slow.next = prev\n",
    "        prev = slow\n",
    "        slow = next_p\n",
    "\n",
    "    left = head\n",
    "    right = prev\n",
    "\n",
    "    while right!=None:\n",
    "        if left.val != right.val:\n",
    "            return False\n",
    "\n",
    "        left = left.next\n",
    "        right = right.next\n",
    "\n",
    "    print(\"Is palindrome\")\n"
   ],
   "id": "8aa19dcfb882a5ad",
   "outputs": [],
   "execution_count": 2
  },
  {
   "metadata": {},
   "cell_type": "code",
   "outputs": [],
   "execution_count": null,
   "source": "",
   "id": "5580e05c01166128"
  }
 ],
 "metadata": {
  "kernelspec": {
   "display_name": "Python 3",
   "language": "python",
   "name": "python3"
  },
  "language_info": {
   "codemirror_mode": {
    "name": "ipython",
    "version": 2
   },
   "file_extension": ".py",
   "mimetype": "text/x-python",
   "name": "python",
   "nbconvert_exporter": "python",
   "pygments_lexer": "ipython2",
   "version": "2.7.6"
  }
 },
 "nbformat": 4,
 "nbformat_minor": 5
}
