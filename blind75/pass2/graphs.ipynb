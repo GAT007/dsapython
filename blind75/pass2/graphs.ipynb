{
 "cells": [
  {
   "cell_type": "code",
   "id": "initial_id",
   "metadata": {
    "collapsed": true,
    "ExecuteTime": {
     "end_time": "2025-02-24T15:50:16.259850Z",
     "start_time": "2025-02-24T15:50:16.237772Z"
    }
   },
   "source": [
    "class Graph():\n",
    "    def __init__(self):\n",
    "        def add(self, from_vertex, to_vertex):\n",
    "            if from_vertex in self.graph:\n",
    "                self.graph[from_vertex].append(to_vertex)\n",
    "\n",
    "            else:\n",
    "                self.graph[from_vertex] = [to_vertex]"
   ],
   "outputs": [],
   "execution_count": 1
  },
  {
   "metadata": {
    "ExecuteTime": {
     "end_time": "2025-02-24T15:58:05.217290Z",
     "start_time": "2025-02-24T15:58:05.208066Z"
    }
   },
   "cell_type": "code",
   "source": [
    "def bfs(self, start_vertex):\n",
    "    #Check if the start vertex exists in the graph\n",
    "    if start_vertex not in self.graph:\n",
    "        return []\n",
    "\n",
    "    queue = [start_vertex] #Initalize a queue with the start vertex\n",
    "\n",
    "    traversal = [] #Initialize an empty list to store the bfs traversal result\n",
    "\n",
    "    while queue: #Continue till the queue is empty\n",
    "        vertex = queue.pop(0) #Remove and retrieve the first vertex from the queue\n",
    "        if vertex not in traversal: #Check if the vertex has been visited\n",
    "            traversal.append(vertex) #Add the vertex to the traversal result\n",
    "            if vertex in self.graph: #Check if the vertex exists in the graph\n",
    "                queue.extend(self.graph[vertex]) #Add all adjacent vertices of the current vertex to the queue\n",
    "\n",
    "    return traversal #Return the bfs traversal result"
   ],
   "id": "24d9c5561e0e71d3",
   "outputs": [],
   "execution_count": 2
  },
  {
   "metadata": {
    "ExecuteTime": {
     "end_time": "2025-02-24T16:32:51.279188Z",
     "start_time": "2025-02-24T16:32:51.266114Z"
    }
   },
   "cell_type": "code",
   "source": [
    "def dfs(self, start_vertex):\n",
    "    #Check if the start vertex exists in the graph\n",
    "    if start_vertex not in self.graph:\n",
    "        return []\n",
    "\n",
    "    stack = [start_vertex] #Initialize a stack with the start vertex\n",
    "    traversal = [] #Initialize an empty list to store the DFS traversal result\n",
    "\n",
    "    while stack: #Continue till the stack is empty\n",
    "        vertex = stack.pop() #Remove and retieve the last vertex from the stack\n",
    "        if vertex not in traversal: #Check if vertex has not been visited\n",
    "            traversal.append(vertex) #Add the vertex to the traversal result\n",
    "            if vertex in self.graph: #Check if the vertex exists in the graph\n",
    "                stack.extend(reversed(self.graph[vertex])) #Add all adjacent vertices of the current vertex to the stack\n",
    "\n",
    "    return traversal #Return the DFS traversal result"
   ],
   "id": "8643d76489738f80",
   "outputs": [],
   "execution_count": 3
  },
  {
   "metadata": {
    "ExecuteTime": {
     "end_time": "2025-02-24T17:09:26.844558Z",
     "start_time": "2025-02-24T17:09:26.828672Z"
    }
   },
   "cell_type": "code",
   "source": [
    "\"\"\"\n",
    "Clone Graph\n",
    "Given a reference of a node in a connected undirected graph\n",
    "Return a deep copy of the graph\n",
    "\"\"\"\n",
    "\n",
    "class Node(object):\n",
    "    def __init__(self, val =0, neighbors = None):\n",
    "        self.val = val\n",
    "        self.neighbors = neighbors\n",
    "\n",
    "adjList = [[2,4], [1,3], [2,4], [1,3]]\n",
    "\n",
    "from collections import deque\n",
    "\n",
    "def clone(node):\n",
    "    if not node:\n",
    "        return node\n",
    "\n",
    "    queue = deque([node])\n",
    "\n",
    "    clones = {node.val: Node(node.val)}\n",
    "\n",
    "    while queue:\n",
    "        curr = queue.popleft()\n",
    "        curr_clone = clones[curr.val]\n",
    "        for neighbor in curr.neighbors:\n",
    "            if neighbor.val not in clones:\n",
    "                clones[neighbor.val] = Node(neighbor.val)\n",
    "                queue.append(neighbor)\n",
    "\n",
    "            curr_clone.neighbors.append(clones[neighbor.val])\n",
    "\n",
    "    return clones[node.val]\n",
    "\n",
    "\n"
   ],
   "id": "ce231ac704c1a680",
   "outputs": [],
   "execution_count": 4
  },
  {
   "metadata": {},
   "cell_type": "code",
   "outputs": [],
   "execution_count": null,
   "source": "",
   "id": "676cbb0722735383"
  }
 ],
 "metadata": {
  "kernelspec": {
   "display_name": "Python 3",
   "language": "python",
   "name": "python3"
  },
  "language_info": {
   "codemirror_mode": {
    "name": "ipython",
    "version": 2
   },
   "file_extension": ".py",
   "mimetype": "text/x-python",
   "name": "python",
   "nbconvert_exporter": "python",
   "pygments_lexer": "ipython2",
   "version": "2.7.6"
  }
 },
 "nbformat": 4,
 "nbformat_minor": 5
}
