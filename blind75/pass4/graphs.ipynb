{
 "cells": [
  {
   "metadata": {},
   "cell_type": "markdown",
   "source": "# Graphs",
   "id": "5f7d8f4b23f78fb0"
  },
  {
   "cell_type": "code",
   "id": "initial_id",
   "metadata": {
    "collapsed": true,
    "ExecuteTime": {
     "end_time": "2025-04-06T22:18:43.058972Z",
     "start_time": "2025-04-06T22:18:43.047810Z"
    }
   },
   "source": [
    "class Graph():\n",
    "\n",
    "    def __init__(self):\n",
    "        self.graph = {}\n",
    "\n",
    "    def add(self, from_vertex, to_vertex):\n",
    "        if from_vertex in self.graph:\n",
    "            self.graph[from_vertex].append(to_vertex)\n",
    "        else:\n",
    "            self.graph[from_vertex] = [to_vertex]"
   ],
   "outputs": [],
   "execution_count": 1
  },
  {
   "metadata": {
    "ExecuteTime": {
     "end_time": "2025-04-06T22:38:09.822098Z",
     "start_time": "2025-04-06T22:38:09.814608Z"
    }
   },
   "cell_type": "code",
   "source": [
    "\"\"\"\n",
    "BFS Traversal\n",
    "\"\"\"\n",
    "\n",
    "\n",
    "def bfs(self, start_vertex):\n",
    "    if start_vertex not in self.graph:\n",
    "        return []\n",
    "\n",
    "    queue = [start_vertex]\n",
    "\n",
    "    traversal = []\n",
    "\n",
    "    while queue:\n",
    "        vertex = queue.pop()\n",
    "        if vertex not in traversal:\n",
    "            traversal.append(vertex)\n",
    "            if vertex in self.graph:\n",
    "                queue.extend(self.graph[vertex])\n",
    "\n",
    "    return traversal"
   ],
   "id": "2507149b65ed12b9",
   "outputs": [],
   "execution_count": 2
  },
  {
   "metadata": {
    "ExecuteTime": {
     "end_time": "2025-04-08T12:28:32.477905Z",
     "start_time": "2025-04-08T12:28:32.469094Z"
    }
   },
   "cell_type": "code",
   "source": [
    "\"\"\"\n",
    "Clone a Connected Graph\n",
    "O(e+n)\n",
    "\"\"\"\n",
    "\n",
    "from collections import deque\n",
    "\n",
    "\n",
    "class Node(object):\n",
    "    def __init__(self, val=0, neighbors=None):\n",
    "        self.val = val\n",
    "        self.neighbors = neighbors if neighbors is not None else []\n",
    "\n",
    "\n",
    "adjList = [[2, 4], [1, 3], [2, 4], [1, 3]]\n",
    "\n",
    "\n",
    "def clone_graph(node):\n",
    "    if not node:\n",
    "        return node\n",
    "\n",
    "    queue = deque([node])\n",
    "    clones = {node.val: Node(node.val)}\n",
    "\n",
    "    while queue:\n",
    "        curr = queue.popleft()\n",
    "        curr_clone = clones[curr.val]\n",
    "\n",
    "        for neighbor in curr.neighbors:\n",
    "            if neighbor.val not in clones:\n",
    "                clones[neighbor.val] = Node(neighbor.val)\n",
    "\n",
    "                queue.append(neighbor)\n",
    "\n",
    "            curr_clone.neighbors.append(clones[neighbor.val])\n",
    "\n",
    "    return clones[node.val]"
   ],
   "id": "75f30814cdcf594b",
   "outputs": [],
   "execution_count": 1
  },
  {
   "metadata": {
    "ExecuteTime": {
     "end_time": "2025-04-08T13:16:01.530190Z",
     "start_time": "2025-04-08T13:16:01.520570Z"
    }
   },
   "cell_type": "code",
   "source": [
    "\"\"\"\n",
    "Find the largest node : BFS till you find the largest node\n",
    "\"\"\"\n",
    "\n",
    "\n",
    "def findLargestNode(start, graph):\n",
    "    if start not in graph:\n",
    "        return None\n",
    "\n",
    "    queue = deque([start])\n",
    "    traversal = []\n",
    "    largest_node = start\n",
    "\n",
    "    while queue:\n",
    "        vertex = queue.popleft(0)\n",
    "        if vertex not in traversal:\n",
    "            traversal.append(vertex)\n",
    "\n",
    "            if vertex > largest_node:\n",
    "                largest_node = vertex\n",
    "\n",
    "            if vertex in graph:\n",
    "                queue.extend(graph[vertex])\n",
    "\n",
    "    return largest_node\n",
    "\n"
   ],
   "id": "1a991398eee59818",
   "outputs": [],
   "execution_count": 4
  },
  {
   "metadata": {
    "ExecuteTime": {
     "end_time": "2025-04-08T13:20:07.045013Z",
     "start_time": "2025-04-08T13:20:07.039025Z"
    }
   },
   "cell_type": "code",
   "source": [
    "\"\"\"\n",
    "Find cycle : Iterative DFS to traverse graph and visited set to identify a cycle\n",
    "\"\"\"\n",
    "\n",
    "\n",
    "def find_cycle(start, graph):\n",
    "    if start not in graph:\n",
    "        return False\n",
    "\n",
    "    stack = [(start, -1)]\n",
    "\n",
    "    visited = set()\n",
    "\n",
    "    while stack:\n",
    "        vertex, parent = stack.pop()\n",
    "        if vertex in visited:\n",
    "            return True\n",
    "\n",
    "        visited.add(vertex)\n",
    "\n",
    "        for neighbor in graph.get(vertex, []):\n",
    "            if neighbor != parent:\n",
    "                stack.append((neighbor, vertex))\n",
    "\n",
    "    return False\n"
   ],
   "id": "72d8eae2c98b8035",
   "outputs": [],
   "execution_count": 5
  },
  {
   "metadata": {
    "ExecuteTime": {
     "end_time": "2025-04-08T13:22:41.422934Z",
     "start_time": "2025-04-08T13:22:41.416156Z"
    }
   },
   "cell_type": "code",
   "source": [
    "\"\"\"\n",
    "Count the number of edges in the graph : Iterate through each vertex and sum the lengths of their adjacency lists\n",
    "\"\"\"\n",
    "\n",
    "\n",
    "def count_edges(graph):\n",
    "    edge_count = 0\n",
    "    for vertex in graph:\n",
    "        edge_count = len(graph[vertex])\n",
    "    return edge_count\n"
   ],
   "id": "bfcca9aa2559fc46",
   "outputs": [],
   "execution_count": 6
  },
  {
   "metadata": {
    "ExecuteTime": {
     "end_time": "2025-04-08T13:25:51.356294Z",
     "start_time": "2025-04-08T13:25:51.345996Z"
    }
   },
   "cell_type": "code",
   "source": [
    "\"\"\"\n",
    "Cheapest flights with K stops : Djikstra's Bellman Ford\n",
    "\"\"\"\n"
   ],
   "id": "6f25d92145904e8f",
   "outputs": [
    {
     "data": {
      "text/plain": [
       "\"\\nCheapest flights with K stops : Djikstra's Bellman Ford\\n\""
      ]
     },
     "execution_count": 7,
     "metadata": {},
     "output_type": "execute_result"
    }
   ],
   "execution_count": 7
  },
  {
   "metadata": {},
   "cell_type": "code",
   "outputs": [],
   "execution_count": null,
   "source": [
    "\"\"\"\n",
    "Course Schedule\n",
    "\"\"\"\n",
    "from collections import defaultdict\n",
    "\n",
    "courses = 5\n",
    "preq = [[0, 1], [0, 2], [1, 3], [1, 4], [3, 4]]\n",
    "\n",
    "\n",
    "def course_schedule(courses, preq):\n",
    "    adj = {course: [] for course in range(courses)}\n",
    "    for course, pre in preq:\n",
    "        adj[course].append(pre)\n",
    "\n",
    "    for course in range(courses):\n",
    "        stack = [(course, set())]\n",
    "        while stack:\n",
    "            curr, visited = stack.pop()\n",
    "            if curr in visited:\n",
    "                return False\n",
    "            visited.add(curr)\n",
    "            for pre in adj[curr]:\n",
    "                stack.append((pre, visited))\n",
    "        adj[course] = []\n",
    "\n",
    "    return True"
   ],
   "id": "405e61bfd9743334"
  }
 ],
 "metadata": {
  "kernelspec": {
   "display_name": "Python 3",
   "language": "python",
   "name": "python3"
  },
  "language_info": {
   "codemirror_mode": {
    "name": "ipython",
    "version": 2
   },
   "file_extension": ".py",
   "mimetype": "text/x-python",
   "name": "python",
   "nbconvert_exporter": "python",
   "pygments_lexer": "ipython2",
   "version": "2.7.6"
  }
 },
 "nbformat": 4,
 "nbformat_minor": 5
}
