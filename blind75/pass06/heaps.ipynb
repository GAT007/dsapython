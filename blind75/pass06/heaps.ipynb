{
 "cells": [
  {
   "metadata": {},
   "cell_type": "markdown",
   "source": [
    "# Heaps\n",
    "\n",
    "A complete binary tree data structure that satisfies the heap property for every node, the value of its children is less than or equal to its own value. Heaps are used to usually implement priority queues, where the smallest or largest element is always at the root of the tree"
   ],
   "id": "853c805f094304a7"
  },
  {
   "cell_type": "code",
   "id": "initial_id",
   "metadata": {
    "collapsed": true,
    "ExecuteTime": {
     "end_time": "2025-05-21T15:56:27.559271Z",
     "start_time": "2025-05-21T15:56:27.545641Z"
    }
   },
   "source": [
    "\"\"\"\n",
    "Kth largest element in an array\n",
    "\"\"\"\n",
    "\n",
    "import heapq\n",
    "\n",
    "#Using the built in nlargest function for heaps\n",
    "\n",
    "k = 5\n",
    "nums = [3, 2, 1, 4, 6, 8, 9]\n",
    "print(heapq.nlargest(k, nums))\n",
    "\n",
    "\n",
    "def heaper(k, nums):\n",
    "    heap = []\n",
    "    for i in nums:\n",
    "        heapq.heappush(heap, i)\n",
    "\n",
    "    for i in range(len(nums) - k):\n",
    "        heapq.heappop(heap)\n",
    "\n",
    "    return heapq.heappop(heap)"
   ],
   "outputs": [
    {
     "name": "stdout",
     "output_type": "stream",
     "text": [
      "[9, 8, 6, 4, 3]\n"
     ]
    }
   ],
   "execution_count": 1
  },
  {
   "metadata": {},
   "cell_type": "code",
   "outputs": [],
   "execution_count": null,
   "source": [
    "\"\"\"\n",
    "Top K Closest Points\n",
    "\"\"\"\n",
    "\n",
    "\n",
    "def kclosest(points):\n",
    "    heap = []\n",
    "    for x, y in points:\n",
    "        dist = -(x * x + y * y)\n",
    "\n",
    "        if len(heap) == k:\n",
    "            heapq.heappushpop(heap, (dist, x, y))\n",
    "        else:\n",
    "            heapq.heappush(heap, (dist, x, y))\n",
    "\n",
    "    return [(x, y) for (dist, x, y) in heap]"
   ],
   "id": "d9ccbef9a5a0abca"
  },
  {
   "metadata": {
    "ExecuteTime": {
     "end_time": "2025-05-21T15:59:30.884772Z",
     "start_time": "2025-05-21T15:59:30.877231Z"
    }
   },
   "cell_type": "code",
   "source": [
    "\"\"\"\n",
    "Top K Frequent elements\n",
    "\"\"\"\n",
    "\n",
    "from collections import Counter\n",
    "\n",
    "\n",
    "def topkfrequent(k, nums):\n",
    "    count = Counter(nums)\n",
    "\n",
    "    heap = []\n",
    "    for num, freq in count.items():\n",
    "        if len(heap) < k:\n",
    "            heapq.heappush(heap, (freq, num))\n",
    "        elif freq > heap[0][0]:\n",
    "            heapq.heapreplace(heap, (freq, num))\n",
    "\n",
    "    top_k = [num for freq, num in heap]\n",
    "    return top_k"
   ],
   "id": "37e7446cf09ab055",
   "outputs": [],
   "execution_count": 2
  },
  {
   "metadata": {},
   "cell_type": "code",
   "outputs": [],
   "execution_count": null,
   "source": [
    "\"\"\"\n",
    "Task Scheduler\n",
    "\"\"\"\n",
    "\n"
   ],
   "id": "9a766a763bcba5a2"
  }
 ],
 "metadata": {
  "kernelspec": {
   "display_name": "Python 3",
   "language": "python",
   "name": "python3"
  },
  "language_info": {
   "codemirror_mode": {
    "name": "ipython",
    "version": 2
   },
   "file_extension": ".py",
   "mimetype": "text/x-python",
   "name": "python",
   "nbconvert_exporter": "python",
   "pygments_lexer": "ipython2",
   "version": "2.7.6"
  }
 },
 "nbformat": 4,
 "nbformat_minor": 5
}
