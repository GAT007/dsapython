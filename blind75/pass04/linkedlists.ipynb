{
 "cells": [
  {
   "metadata": {},
   "cell_type": "markdown",
   "source": "# Linked Lists",
   "id": "2234ddb8da8a212c"
  },
  {
   "metadata": {},
   "cell_type": "code",
   "outputs": [],
   "execution_count": null,
   "source": [
    "class Node:\n",
    "    def __init__(self, value, next):\n",
    "        self.value = value\n",
    "        self.next = next"
   ],
   "id": "2974619b190e4fd5"
  },
  {
   "cell_type": "code",
   "id": "initial_id",
   "metadata": {
    "collapsed": true,
    "ExecuteTime": {
     "end_time": "2025-03-25T02:42:17.375894Z",
     "start_time": "2025-03-25T02:42:17.360813Z"
    }
   },
   "source": [
    "\"\"\"\n",
    "Middle of linked list\n",
    "\"\"\"\n",
    "\n",
    "\n",
    "def middle(head):\n",
    "    fast, slow = head, head\n",
    "    while fast and fast.next:\n",
    "        slow = slow.next\n",
    "        fast = fast.next.next\n",
    "\n",
    "    return slow"
   ],
   "outputs": [],
   "execution_count": 1
  },
  {
   "metadata": {
    "ExecuteTime": {
     "end_time": "2025-03-25T02:45:08.253619Z",
     "start_time": "2025-03-25T02:45:08.246467Z"
    }
   },
   "cell_type": "code",
   "source": [
    "\"\"\"\n",
    "Cycle in linked list\n",
    "\"\"\"\n",
    "\n",
    "\n",
    "def cycle(head):\n",
    "    fast, slow = head, head\n",
    "\n",
    "    while fast and fast.next:\n",
    "        slow = slow.next\n",
    "        fast = fast.next.next\n",
    "\n",
    "        if fast == slow:\n",
    "            return True\n",
    "\n",
    "    return False"
   ],
   "id": "c7292b58238171fa",
   "outputs": [],
   "execution_count": 3
  },
  {
   "metadata": {
    "ExecuteTime": {
     "end_time": "2025-03-25T03:11:44.667235Z",
     "start_time": "2025-03-25T03:11:44.657109Z"
    }
   },
   "cell_type": "code",
   "source": [
    "\"\"\"\n",
    "Reverse a linked list\n",
    "\"\"\"\n",
    "\n",
    "\n",
    "def reverse(head):\n",
    "    prev = None\n",
    "    curr_pointer = head\n",
    "    while curr_pointer:\n",
    "        next_pointer = curr_pointer.next\n",
    "        curr_pointer.next = prev\n",
    "        prev = curr_pointer\n",
    "        curr_pointer = next_pointer\n",
    "\n",
    "    head = prev\n",
    "    return head\n"
   ],
   "id": "dcabf03a520382fd",
   "outputs": [],
   "execution_count": 4
  },
  {
   "metadata": {
    "ExecuteTime": {
     "end_time": "2025-03-25T13:50:25.100014Z",
     "start_time": "2025-03-25T13:50:25.091924Z"
    }
   },
   "cell_type": "code",
   "source": [
    "\"\"\"\n",
    "Remove linked list elements\n",
    "\"\"\"\n",
    "\n",
    "\n",
    "def remove(head, value):\n",
    "    dummy_head = Node(-1, head)\n",
    "    current_pointer = dummy_head\n",
    "    while current_pointer.next:\n",
    "        if current_pointer.next.value == value:\n",
    "            current_pointer.next = current_pointer.next.next\n",
    "        current_pointer = current_pointer.next\n",
    "\n",
    "    return dummy_head.next"
   ],
   "id": "1443ee6517571eb9",
   "outputs": [],
   "execution_count": 1
  },
  {
   "metadata": {
    "ExecuteTime": {
     "end_time": "2025-03-25T22:25:55.312334Z",
     "start_time": "2025-03-25T22:25:55.302469Z"
    }
   },
   "cell_type": "code",
   "source": [
    "\"\"\"\n",
    "Reverse a portion of the linked list\n",
    "\"\"\"\n",
    "\n",
    "\n",
    "def reverse_portion(head, left, right):\n",
    "    dummy_head = Node(-1, head)\n",
    "    prev_left_pointer = dummy_head\n",
    "    left_pointer = head\n",
    "    for i in range(left - 1):\n",
    "        prev_left_pointer, left_pointer = prev_left_pointer.next, left_pointer.next\n",
    "\n",
    "    prev = prev_left_pointer\n",
    "    current_pointer = left_pointer\n",
    "    next_pointer = None\n",
    "    for i in range(right - left + 1):\n",
    "        next_pointer = current_pointer.next\n",
    "        current_pointer.next = prev\n",
    "        prev = current_pointer\n",
    "        current_pointer = next_pointer\n",
    "\n",
    "    left_pointer.next.next = current_pointer\n",
    "    left_pointer.next = prev\n",
    "\n",
    "    return dummy_head.next\n"
   ],
   "id": "9b04981bd50dc378",
   "outputs": [],
   "execution_count": 1
  },
  {
   "metadata": {},
   "cell_type": "code",
   "outputs": [],
   "execution_count": null,
   "source": [
    "def palindrome_linked_list(head):\n",
    "    slow, fast = head, head\n",
    "\n",
    "    while fast:\n",
    "        slow = slow.next\n",
    "        fast = fast.next.next\n",
    "\n",
    "    prev = slow\n",
    "    current = slow.next\n",
    "\n",
    "    slow.next = None\n",
    "\n",
    "    while current.next:\n",
    "        next_pointer = current.next\n",
    "        current.next = prev\n",
    "        prev = current\n",
    "        current = next_pointer\n",
    "\n",
    "    left, right = head, current\n",
    "\n",
    "    while left:\n",
    "        if left.value != right.value:\n",
    "            return False\n",
    "\n",
    "        left = left.next\n",
    "        right = right.next\n",
    "\n",
    "    return True\n"
   ],
   "id": "e91fe2f4f5bf897d"
  }
 ],
 "metadata": {
  "kernelspec": {
   "display_name": "Python 3",
   "language": "python",
   "name": "python3"
  },
  "language_info": {
   "codemirror_mode": {
    "name": "ipython",
    "version": 2
   },
   "file_extension": ".py",
   "mimetype": "text/x-python",
   "name": "python",
   "nbconvert_exporter": "python",
   "pygments_lexer": "ipython2",
   "version": "2.7.6"
  }
 },
 "nbformat": 4,
 "nbformat_minor": 5
}
