{
 "cells": [
  {
   "metadata": {},
   "cell_type": "markdown",
   "source": "# Heaps",
   "id": "da8cb072401310e6"
  },
  {
   "cell_type": "code",
   "id": "initial_id",
   "metadata": {
    "collapsed": true,
    "ExecuteTime": {
     "end_time": "2025-04-02T16:15:12.461531Z",
     "start_time": "2025-04-02T16:15:12.449764Z"
    }
   },
   "source": [
    "\"\"\"\n",
    "Kth Largest element in the array\n",
    "\"\"\"\n",
    "\n",
    "import heapq\n",
    "\n",
    "k = 5\n",
    "nums = [3, 2, 1, 7, 5, 6, 10, 4, 8, 9]\n",
    "\n",
    "#solution 1\n",
    "\n",
    "#Basically returns the n largest elements from the array, pick the last one to get n largest\n",
    "nlarge = heapq.nlargest(k, nums)[-1]\n",
    "\n",
    "#Solution 2\n",
    "heap = []\n",
    "for i in nums:\n",
    "    heapq.heappush(heap, i)\n",
    "\n",
    "for i in range(len(nums) - k):\n",
    "    heapq.heappop(heap)\n",
    "\n",
    "nlarge2 = heapq.heappop(heap)\n",
    "\n",
    "#Solution 3\n",
    "heap = nums[:k]\n",
    "heapq.heapify(heap)\n",
    "\n",
    "for num in nums[k:]:\n",
    "    if num > heap[0]:\n",
    "        heapq.heapreplace(heap, num)\n",
    "\n",
    "nlarge3 = heap[0]\n"
   ],
   "outputs": [],
   "execution_count": 1
  },
  {
   "metadata": {
    "ExecuteTime": {
     "end_time": "2025-04-02T16:22:18.269157Z",
     "start_time": "2025-04-02T16:22:18.250379Z"
    }
   },
   "cell_type": "code",
   "source": [
    "\"\"\"\n",
    "K closest points to the origin\n",
    "\"\"\"\n",
    "\n",
    "\n",
    "def kclose(points):\n",
    "    heap = []\n",
    "    for (x, y) in points:\n",
    "        dist = -(x * x + y * y)\n",
    "        if len(heap) == k:\n",
    "            heapq.heappushpop(heap, (dist, x, y))\n",
    "        else:\n",
    "            heapq.heappush(heap, (dist, x, y))\n",
    "\n",
    "    return [(x, y) for (dist, x, y) in heap]"
   ],
   "id": "171258d6de369da9",
   "outputs": [],
   "execution_count": 2
  },
  {
   "metadata": {
    "ExecuteTime": {
     "end_time": "2025-04-02T16:26:22.265008Z",
     "start_time": "2025-04-02T16:26:22.242767Z"
    }
   },
   "cell_type": "code",
   "source": [
    "\"\"\"\n",
    "Top K Frequent Elements\n",
    "\"\"\"\n",
    "from collections import Counter\n",
    "\n",
    "\n",
    "def topKfrequent(nums, k):\n",
    "    count = Counter(nums)\n",
    "    heap = []\n",
    "    for num, freq in count.items():\n",
    "        if len(heap) < k:\n",
    "            heapq.heappush(heap, (freq, num))\n",
    "        elif freq > heap[0][0]:\n",
    "            heapq.heapreplace(heap, (freq, num))\n",
    "\n",
    "    top_k = [num for freq, num in heap]\n",
    "    return top_k"
   ],
   "id": "2428016e308c7eb8",
   "outputs": [],
   "execution_count": 3
  },
  {
   "metadata": {
    "ExecuteTime": {
     "end_time": "2025-04-08T04:50:14.407935Z",
     "start_time": "2025-04-08T04:50:14.382065Z"
    }
   },
   "cell_type": "code",
   "source": [
    "\"\"\"\n",
    "Task Scheduler\n",
    "\"\"\"\n",
    "from collections import Counter, deque\n",
    "import heapq\n",
    "\n",
    "\n",
    "def task_scheduler(tasks, n):\n",
    "    task_counts = Counter(tasks)\n",
    "\n",
    "    max_heap = []\n",
    "    for count in task_counts.values():\n",
    "        max_heap.append(-count)\n",
    "\n",
    "    heapq.heapify(max_heap)\n",
    "\n",
    "    time = 0\n",
    "    wait_queue = deque()\n",
    "\n",
    "    while max_heap or wait_queue:\n",
    "        time += 1\n",
    "\n",
    "        if max_heap:\n",
    "            current_task = heapq.heappop(max_heap)\n",
    "            current_task += 1\n",
    "\n",
    "            if current_task != 0:\n",
    "                wait_queue.append((current_task, time + n))\n",
    "\n",
    "        if wait_queue and wait_queue[0][1] <= time:\n",
    "            heapq.heappush(max_heap, wait_queue.popleft()[0])\n",
    "\n",
    "    return time"
   ],
   "id": "aaefddd4d11cb704",
   "outputs": [],
   "execution_count": 1
  },
  {
   "metadata": {},
   "cell_type": "code",
   "outputs": [],
   "execution_count": null,
   "source": "",
   "id": "3bc30e41d8fce939"
  }
 ],
 "metadata": {
  "kernelspec": {
   "display_name": "Python 3",
   "language": "python",
   "name": "python3"
  },
  "language_info": {
   "codemirror_mode": {
    "name": "ipython",
    "version": 2
   },
   "file_extension": ".py",
   "mimetype": "text/x-python",
   "name": "python",
   "nbconvert_exporter": "python",
   "pygments_lexer": "ipython2",
   "version": "2.7.6"
  }
 },
 "nbformat": 4,
 "nbformat_minor": 5
}
