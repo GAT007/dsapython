{
 "cells": [
  {
   "metadata": {},
   "cell_type": "markdown",
   "source": "## Queues",
   "id": "8a06fcbf0ab04898"
  },
  {
   "cell_type": "code",
   "id": "initial_id",
   "metadata": {
    "collapsed": true,
    "ExecuteTime": {
     "end_time": "2025-03-25T22:56:52.981084Z",
     "start_time": "2025-03-25T22:56:52.974775Z"
    }
   },
   "source": [
    "\"\"\"\n",
    "Implement a stack using queues\n",
    "\"\"\"\n",
    "\n",
    "from collections import deque\n",
    "\n",
    "\n",
    "class MyStack:\n",
    "    def __init__(self):\n",
    "        self.queue = deque()\n",
    "\n",
    "    def push(self, data):\n",
    "        self.queue.append(data)\n",
    "\n",
    "    def pop(self):\n",
    "        for i in range(len(self.queue) - 1):\n",
    "            self.push(self.queue.popleft())\n",
    "\n",
    "    def peek(self):\n",
    "        return self.queue[-1]\n",
    "\n",
    "    def isEmpty(self):\n",
    "        return len(self.queue) == 0"
   ],
   "outputs": [],
   "execution_count": 1
  },
  {
   "metadata": {},
   "cell_type": "code",
   "outputs": [],
   "execution_count": null,
   "source": [
    "\"\"\"\n",
    "Time needed to buy tickets\n",
    "\"\"\"\n",
    "\n",
    "\n",
    "def time_needed_to_buy_tickets(tickets, k):\n",
    "    result = 0\n",
    "    for i in range(len(tickets)):\n",
    "        if i <= k:\n",
    "            result += min(tickets[i], tickets[k])\n",
    "        else:\n",
    "            result += min(tickets[i], tickets[k] - 1)\n",
    "\n",
    "    return result"
   ],
   "id": "143b484bb8ca4956"
  }
 ],
 "metadata": {
  "kernelspec": {
   "display_name": "Python 3",
   "language": "python",
   "name": "python3"
  },
  "language_info": {
   "codemirror_mode": {
    "name": "ipython",
    "version": 2
   },
   "file_extension": ".py",
   "mimetype": "text/x-python",
   "name": "python",
   "nbconvert_exporter": "python",
   "pygments_lexer": "ipython2",
   "version": "2.7.6"
  }
 },
 "nbformat": 4,
 "nbformat_minor": 5
}
