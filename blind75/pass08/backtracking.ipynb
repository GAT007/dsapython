{
 "cells": [
  {
   "metadata": {},
   "cell_type": "markdown",
   "source": "# Backtracking",
   "id": "f3eb8e7fc655d944"
  },
  {
   "cell_type": "code",
   "id": "initial_id",
   "metadata": {
    "collapsed": true,
    "ExecuteTime": {
     "end_time": "2025-07-12T15:23:19.022245Z",
     "start_time": "2025-07-12T15:23:19.010097Z"
    }
   },
   "source": [
    "\"\"\"\n",
    "Letter case permutation\n",
    "\"\"\""
   ],
   "outputs": [
    {
     "data": {
      "text/plain": [
       "'\\nLetter case permutation\\n'"
      ]
     },
     "execution_count": 1,
     "metadata": {},
     "output_type": "execute_result"
    }
   ],
   "execution_count": 1
  },
  {
   "metadata": {
    "ExecuteTime": {
     "end_time": "2025-07-12T15:23:26.191655Z",
     "start_time": "2025-07-12T15:23:26.183289Z"
    }
   },
   "cell_type": "code",
   "source": [
    "\"\"\"\n",
    "Subsets\n",
    "\"\"\""
   ],
   "id": "696235e80d1242f4",
   "outputs": [
    {
     "data": {
      "text/plain": [
       "'\\nSubsets\\n'"
      ]
     },
     "execution_count": 2,
     "metadata": {},
     "output_type": "execute_result"
    }
   ],
   "execution_count": 2
  },
  {
   "metadata": {
    "ExecuteTime": {
     "end_time": "2025-07-12T15:23:38.458612Z",
     "start_time": "2025-07-12T15:23:38.452106Z"
    }
   },
   "cell_type": "code",
   "source": [
    "\"\"\"\n",
    "Combinations\n",
    "\"\"\""
   ],
   "id": "ab83d7cd2eb29ee6",
   "outputs": [
    {
     "data": {
      "text/plain": [
       "'\\nCombinations\\n'"
      ]
     },
     "execution_count": 3,
     "metadata": {},
     "output_type": "execute_result"
    }
   ],
   "execution_count": 3
  },
  {
   "metadata": {},
   "cell_type": "code",
   "outputs": [],
   "execution_count": null,
   "source": [
    "\"\"\"\n",
    "Permutations\n",
    "\"\"\""
   ],
   "id": "ce7f515538cb667d"
  }
 ],
 "metadata": {
  "kernelspec": {
   "display_name": "Python 3",
   "language": "python",
   "name": "python3"
  },
  "language_info": {
   "codemirror_mode": {
    "name": "ipython",
    "version": 2
   },
   "file_extension": ".py",
   "mimetype": "text/x-python",
   "name": "python",
   "nbconvert_exporter": "python",
   "pygments_lexer": "ipython2",
   "version": "2.7.6"
  }
 },
 "nbformat": 4,
 "nbformat_minor": 5
}
