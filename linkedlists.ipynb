{
 "cells": [
  {
   "cell_type": "code",
   "id": "initial_id",
   "metadata": {
    "collapsed": true,
    "ExecuteTime": {
     "end_time": "2025-01-12T18:44:12.140944Z",
     "start_time": "2025-01-12T18:44:12.132443Z"
    }
   },
   "source": [
    "class Node(object):\n",
    "    def __init__(self, value):\n",
    "        self.value = value\n",
    "        self.next = None"
   ],
   "outputs": [],
   "execution_count": 1
  },
  {
   "metadata": {
    "ExecuteTime": {
     "end_time": "2025-01-12T18:57:05.588125Z",
     "start_time": "2025-01-12T18:57:05.577292Z"
    }
   },
   "cell_type": "code",
   "source": [
    "a = Node(1)\n",
    "b = Node(2)\n",
    "c = Node(3)\n",
    "a.next = b\n",
    "b.next = c"
   ],
   "id": "5c59fe3e313a6505",
   "outputs": [],
   "execution_count": 3
  },
  {
   "metadata": {
    "ExecuteTime": {
     "end_time": "2025-01-12T18:58:32.193201Z",
     "start_time": "2025-01-12T18:58:32.182982Z"
    }
   },
   "cell_type": "code",
   "source": [
    "class DLLNode(object):\n",
    "    def __init__(self, value):\n",
    "        self.value = value\n",
    "        self.next = None\n",
    "        self.prev = None\n",
    "\n",
    "a = DLLNode(1)\n",
    "b = DLLNode(2)\n",
    "c = DLLNode(3)\n",
    "a.next = b\n",
    "b.prev = a\n",
    "b.next = c\n",
    "c.prev = b\n",
    "c.next = a"
   ],
   "id": "974db8f4703f54ad",
   "outputs": [],
   "execution_count": 4
  },
  {
   "metadata": {
    "ExecuteTime": {
     "end_time": "2025-01-12T19:00:53.632355Z",
     "start_time": "2025-01-12T19:00:53.624524Z"
    }
   },
   "cell_type": "code",
   "source": [
    "#Check for cycle in linked list\n",
    "def check_cycle(node): #a b c d e a\n",
    "    marker1 = node\n",
    "    marker2 = node\n",
    "    while marker2!= None and marker2.next!=None:\n",
    "        marker1 = marker1.next\n",
    "        marker2 = marker2.next.next\n",
    "        if marker1 == marker2:\n",
    "            return True\n",
    "    return False"
   ],
   "id": "e137dce11e3c23c0",
   "outputs": [],
   "execution_count": 5
  },
  {
   "metadata": {
    "ExecuteTime": {
     "end_time": "2025-01-12T19:19:38.048715Z",
     "start_time": "2025-01-12T19:19:38.037086Z"
    }
   },
   "cell_type": "code",
   "source": [
    "def reverse_list(node):\n",
    "    current = node\n",
    "    prev = None\n",
    "    next = None\n",
    "    while current:\n",
    "        next = current.next\n",
    "        current.next = prev\n",
    "        prev = current\n",
    "        current = next\n",
    "    return prev"
   ],
   "id": "2f3caa814d4dfda1",
   "outputs": [],
   "execution_count": 7
  },
  {
   "metadata": {},
   "cell_type": "code",
   "outputs": [],
   "execution_count": null,
   "source": [
    "#Linked list to nth to last node in the linked list\n",
    "def n_to_node(n, head):\n",
    "    marker1 = head\n",
    "    marker2 = head\n",
    "    for i in range(n):\n",
    "        marker2 = marker2.next\n",
    "\n",
    "    if marker2 == None:\n",
    "        return False\n",
    "\n",
    "    while marker2!=None:\n",
    "        marker1 = marker1.next\n",
    "        marker2 = marker2.next\n",
    "\n",
    "    return marker1"
   ],
   "id": "40964459bfb17739"
  }
 ],
 "metadata": {
  "kernelspec": {
   "display_name": "Python 3",
   "language": "python",
   "name": "python3"
  },
  "language_info": {
   "codemirror_mode": {
    "name": "ipython",
    "version": 2
   },
   "file_extension": ".py",
   "mimetype": "text/x-python",
   "name": "python",
   "nbconvert_exporter": "python",
   "pygments_lexer": "ipython2",
   "version": "2.7.6"
  }
 },
 "nbformat": 4,
 "nbformat_minor": 5
}
