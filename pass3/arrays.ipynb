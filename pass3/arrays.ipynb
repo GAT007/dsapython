{
 "cells": [
  {
   "cell_type": "code",
   "id": "initial_id",
   "metadata": {
    "collapsed": true,
    "ExecuteTime": {
     "end_time": "2025-02-25T00:35:51.394527Z",
     "start_time": "2025-02-25T00:35:51.354971Z"
    }
   },
   "source": [
    "\"\"\"\n",
    "Pass 3\n",
    "Arrays\n",
    "CILEDO\n",
    "C - Clarifying Questions\n",
    "I - Input sanitization\n",
    "L - Logic\n",
    "E - Exception Handling\n",
    "D - Debugging\n",
    "O - Big (O) / Optimization\n",
    "\"\"\""
   ],
   "outputs": [
    {
     "data": {
      "text/plain": [
       "'\\nPass 3\\nArrays\\nCILEDO\\nC - Clarifying Questions\\nI - Input sanitization\\nL - Logic\\nE - Exception Handling\\nD - Debugging\\nO - Big (O) / Optimization\\n'"
      ]
     },
     "execution_count": 1,
     "metadata": {},
     "output_type": "execute_result"
    }
   ],
   "execution_count": 1
  },
  {
   "metadata": {
    "ExecuteTime": {
     "end_time": "2025-02-25T00:38:56.082610Z",
     "start_time": "2025-02-25T00:38:56.074469Z"
    }
   },
   "cell_type": "code",
   "source": [
    "\"\"\"\n",
    "Duplicate values\n",
    "Given an integer array nums, return true if any value appears at least twice in the array and return false if every element is distinct\n",
    "\"\"\"\n",
    "def duplicateValue(nums):\n",
    "    if len(set(nums)) != len(nums):\n",
    "        return True\n",
    "    return False"
   ],
   "id": "735c43e7411dfe12",
   "outputs": [],
   "execution_count": 3
  },
  {
   "metadata": {
    "ExecuteTime": {
     "end_time": "2025-02-25T00:47:01.167457Z",
     "start_time": "2025-02-25T00:47:01.156061Z"
    }
   },
   "cell_type": "code",
   "source": [
    "\"\"\"\n",
    "Missing Number\n",
    "Given an array nums containing n distinct numbers in the range [0, n], return the only number in the range that is missing from the array\n",
    "\"\"\"\n",
    "\n",
    "def missingNumber(nums):\n",
    "    return sum(range(len(nums)+1)) - sum(nums)\n",
    "\n",
    "print(missingNumber([0,1,3,4]))"
   ],
   "id": "d70332bd8c6f232f",
   "outputs": [
    {
     "name": "stdout",
     "output_type": "stream",
     "text": [
      "2\n"
     ]
    }
   ],
   "execution_count": 5
  },
  {
   "metadata": {
    "ExecuteTime": {
     "end_time": "2025-02-25T00:56:10.974176Z",
     "start_time": "2025-02-25T00:56:10.963852Z"
    }
   },
   "cell_type": "code",
   "source": [
    "\"\"\"\n",
    "Find all missing numbers\n",
    "\"\"\"\n",
    "def missingNumbers(nums):\n",
    "    set_nums = set(nums)\n",
    "    res = []\n",
    "    for i in range(1, len(nums)+1):\n",
    "        if i not in set_nums:\n",
    "            res.append(i)\n",
    "    return res\n",
    "\n",
    "print(missingNumbers([4,3,2,7,8,2,3,1]))"
   ],
   "id": "c072164621cad7cc",
   "outputs": [
    {
     "name": "stdout",
     "output_type": "stream",
     "text": [
      "[5, 6]\n"
     ]
    }
   ],
   "execution_count": 7
  },
  {
   "metadata": {
    "ExecuteTime": {
     "end_time": "2025-02-25T01:01:38.865318Z",
     "start_time": "2025-02-25T01:01:38.856873Z"
    }
   },
   "cell_type": "code",
   "source": [
    "\"\"\"\n",
    "Two sum\n",
    "\"\"\"\n",
    "def two_sum(nums, target):\n",
    "    dict = {}\n",
    "    for idx, elem in enumerate(nums):\n",
    "        if target-elem in dict.keys():\n",
    "            return (idx,dict[target-elem])\n",
    "        else:\n",
    "            dict[elem] = idx\n",
    "\n",
    "    return -1\n",
    "print(two_sum([2,7,11,15], 9))"
   ],
   "id": "9a0b608e9a369980",
   "outputs": [
    {
     "name": "stdout",
     "output_type": "stream",
     "text": [
      "(1, 0)\n"
     ]
    }
   ],
   "execution_count": 9
  },
  {
   "metadata": {
    "ExecuteTime": {
     "end_time": "2025-02-25T01:23:27.794717Z",
     "start_time": "2025-02-25T01:23:27.786751Z"
    }
   },
   "cell_type": "code",
   "source": [
    "\"\"\"\n",
    "How many numbers are smaller than the current number?\n",
    "\"\"\"\n",
    "def smallerThan(nums):\n",
    "    sorted_nums = sorted(nums)\n",
    "    dict = {}\n",
    "    for idx, elem in enumerate(sorted_nums):\n",
    "        if elem not in dict.keys():\n",
    "            dict[elem] = idx\n",
    "\n",
    "    res = []\n",
    "    for elem in nums:\n",
    "        res.append(dict[elem])\n",
    "\n",
    "    return res"
   ],
   "id": "d1de4b40e9771ea3",
   "outputs": [],
   "execution_count": 10
  },
  {
   "metadata": {
    "ExecuteTime": {
     "end_time": "2025-02-25T01:30:58.468962Z",
     "start_time": "2025-02-25T01:30:58.456816Z"
    }
   },
   "cell_type": "code",
   "source": [
    "\"\"\"\n",
    "Minimum time visiting all points\n",
    "\"\"\"\n",
    "def minTimeWithPoints(points):\n",
    "    res = 0\n",
    "    x1, y1 = points.pop()\n",
    "    while points:\n",
    "        x2, y2 = points.pop()\n",
    "        res += max(abs(y2-y1), abs(x2-x1))\n",
    "        x1, y1 = x2, y2\n",
    "\n",
    "    return res"
   ],
   "id": "bf5d27347a1fd353",
   "outputs": [],
   "execution_count": 11
  },
  {
   "metadata": {
    "ExecuteTime": {
     "end_time": "2025-02-25T01:38:59.149796Z",
     "start_time": "2025-02-25T01:38:59.134951Z"
    }
   },
   "cell_type": "code",
   "source": [
    "\"\"\"\n",
    "Spiral matrix\n",
    "\"\"\"\n",
    "\n",
    "def spiral_matrix(matrix):\n",
    "    res = []\n",
    "    while matrix:\n",
    "        #Pop off every top row\n",
    "        res.extend(matrix.pop(0))\n",
    "\n",
    "        #Last element of every row\n",
    "        if matrix:\n",
    "            for row in matrix:\n",
    "                res.append(row.pop())\n",
    "\n",
    "        #Last row in reverse\n",
    "        if matrix:\n",
    "            last_row_reverse = matrix.pop()[::-1]\n",
    "            res.extend(last_row_reverse)\n",
    "\n",
    "        #First element in rows\n",
    "        if matrix:\n",
    "            for row in matrix[::-1]:\n",
    "                res.append(row.pop(0))\n",
    "\n",
    "    return res\n",
    "\n",
    "print(spiral_matrix([[1,2,3],[4,5,6],[7,8,9]]))\n",
    "\n"
   ],
   "id": "b6627d04e4288634",
   "outputs": [
    {
     "name": "stdout",
     "output_type": "stream",
     "text": [
      "[1, 2, 3, 6, 9, 8, 7, 4, 5]\n"
     ]
    }
   ],
   "execution_count": 13
  },
  {
   "metadata": {
    "ExecuteTime": {
     "end_time": "2025-03-21T02:48:16.391090Z",
     "start_time": "2025-03-21T02:48:16.356237Z"
    }
   },
   "cell_type": "code",
   "source": [
    "\"\"\"\n",
    "Number of islands\n",
    "\"\"\"\n",
    "from collections import deque\n",
    "def number_of_islands(grid):\n",
    "    if not grid:\n",
    "        return 0\n",
    "\n",
    "    def bfs(r, c):\n",
    "        q = deque()\n",
    "        visited.add((r,c))\n",
    "        q.append((r,c))\n",
    "\n",
    "        while q:\n",
    "            row, col = q.popleft()\n",
    "            directions = [[1, 0],[-1,0],[0,1],[0,-1]]\n",
    "\n",
    "            for dr, dc in directions:\n",
    "                r, c = row+dr, col + dc\n",
    "                if (r in range(rows)) and (c in range(cols)) and grid[r][c] == '1' and (r,c) not in visited:\n",
    "                    q.append((r,c))\n",
    "                    visited.add((r,c))\n",
    "\n",
    "    count = 0\n",
    "    rows = len(grid)\n",
    "    cols = len(grid[0])\n",
    "    visited = set()\n",
    "\n",
    "    for r in range(rows):\n",
    "        for c in range(cols):\n",
    "            if grid[r][c] == '1' and (r,c) not in visited:\n",
    "                bfs(r, c)\n",
    "                count+=1\n",
    "\n",
    "    return count\n",
    "\n",
    "grid =  [\n",
    "    ['1', '0', '1', '1', '0'],\n",
    "    ['1', '0', '1', '1', '0'],\n",
    "    ['1', '0', '1', '1', '0'],\n",
    "    ['1', '1', '0', '0', '1'],\n",
    "    ['1', '1', '0', '0', '1'],\n",
    "]\n",
    "\n",
    "print(number_of_islands(grid))"
   ],
   "id": "e92373a84ca312de",
   "outputs": [
    {
     "name": "stdout",
     "output_type": "stream",
     "text": [
      "3\n"
     ]
    }
   ],
   "execution_count": 3
  },
  {
   "metadata": {},
   "cell_type": "code",
   "outputs": [],
   "execution_count": null,
   "source": "",
   "id": "236533e5c8721307"
  }
 ],
 "metadata": {
  "kernelspec": {
   "display_name": "Python 3",
   "language": "python",
   "name": "python3"
  },
  "language_info": {
   "codemirror_mode": {
    "name": "ipython",
    "version": 2
   },
   "file_extension": ".py",
   "mimetype": "text/x-python",
   "name": "python",
   "nbconvert_exporter": "python",
   "pygments_lexer": "ipython2",
   "version": "2.7.6"
  }
 },
 "nbformat": 4,
 "nbformat_minor": 5
}
