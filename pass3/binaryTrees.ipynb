{
 "cells": [
  {
   "cell_type": "code",
   "id": "initial_id",
   "metadata": {
    "collapsed": true,
    "ExecuteTime": {
     "end_time": "2025-03-05T18:14:00.071253Z",
     "start_time": "2025-03-05T18:14:00.059694Z"
    }
   },
   "source": [
    "\"\"\"\n",
    "Binary Trees - Fancy Graphs with unique properties\n",
    "Problems usually involve\n",
    "BFS : Breadth First Search : Uses a queue\n",
    "DFS : Depth First Search : Uses a stack\n",
    "\n",
    "Traversals :\n",
    "Preorder traversal: stack : root->left->right\n",
    "Inorder traversal: stack : left->root->right\n",
    "Postorder traversal: stack : left->right->root\n",
    "Level order traversal : queue :\n",
    "\"\"\""
   ],
   "outputs": [
    {
     "data": {
      "text/plain": [
       "'\\nBinary Trees - Fancy Graphs with unique properties\\nProblems usually involve\\nBFS : Breadth First Search : Uses a queue\\nDFS : Depth First Search : Uses a stack\\n\\nTraversals :\\nPreorder traversal: stack : root->left->right\\nInorder traversal: stack : left->root->right\\nPostorder traversal: left->right->root\\n'"
      ]
     },
     "execution_count": 1,
     "metadata": {},
     "output_type": "execute_result"
    }
   ],
   "execution_count": 1
  },
  {
   "metadata": {
    "ExecuteTime": {
     "end_time": "2025-03-05T18:16:09.280313Z",
     "start_time": "2025-03-05T18:16:09.272917Z"
    }
   },
   "cell_type": "code",
   "source": [
    "def preorder(root):\n",
    "    if root:\n",
    "        print(root.val, end=\" \")\n",
    "        preorder(root.left)\n",
    "        preorder(root.right)"
   ],
   "id": "671c9080ab61b968",
   "outputs": [],
   "execution_count": 2
  },
  {
   "metadata": {
    "ExecuteTime": {
     "end_time": "2025-03-05T18:16:56.431962Z",
     "start_time": "2025-03-05T18:16:56.419019Z"
    }
   },
   "cell_type": "code",
   "source": [
    "def inorder(root):\n",
    "    if root:\n",
    "        inorder(root.left)\n",
    "        print(root.val, end=\" \")\n",
    "        inorder(root.right)"
   ],
   "id": "522b7eeb9181f1be",
   "outputs": [],
   "execution_count": 3
  },
  {
   "metadata": {
    "ExecuteTime": {
     "end_time": "2025-03-05T18:17:30.367291Z",
     "start_time": "2025-03-05T18:17:30.360609Z"
    }
   },
   "cell_type": "code",
   "source": [
    "def postorder(root):\n",
    "    if root:\n",
    "        postorder(root.left)\n",
    "        postorder(root.right)\n",
    "        print(root.val, end=\" \")"
   ],
   "id": "764c3e12f6f28f1f",
   "outputs": [],
   "execution_count": 4
  },
  {
   "metadata": {
    "ExecuteTime": {
     "end_time": "2025-03-05T18:30:36.557575Z",
     "start_time": "2025-03-05T18:30:36.547120Z"
    }
   },
   "cell_type": "code",
   "source": [
    "\"\"\"\n",
    "Average of levels in a binary tree\n",
    "\"\"\"\n",
    "from collections import deque\n",
    "def levels(root):\n",
    "    result = []\n",
    "    q = deque([root])\n",
    "\n",
    "    while q:\n",
    "        level = []\n",
    "        for i in range(len(q)):\n",
    "            node = q.popleft()\n",
    "            level.append(node.val)\n",
    "            if node.left: q.append(node.left)\n",
    "            if node.right: q.append(node.right)\n",
    "        result.append(sum(level)/len(level))\n",
    "    return result\n"
   ],
   "id": "f8492f8cd9c83d05",
   "outputs": [],
   "execution_count": 6
  },
  {
   "metadata": {
    "ExecuteTime": {
     "end_time": "2025-03-05T18:44:08.605849Z",
     "start_time": "2025-03-05T18:44:08.595472Z"
    }
   },
   "cell_type": "code",
   "source": [
    "\"\"\"\n",
    "Minimum depth binary tree\n",
    "\"\"\"\n",
    "def minimumDepth(root):\n",
    "    if not root:\n",
    "        return 0\n",
    "\n",
    "    #You need to create an iterable for the queue to process it properly,\n",
    "    #Add a tuple with the root element and the level element\n",
    "    q = deque([(root, 1)])\n",
    "\n",
    "    while q:\n",
    "        node, level = q.popleft()\n",
    "        if not node.left and node.right:\n",
    "            return level\n",
    "\n",
    "        if node.left:\n",
    "            q.append((node.left, level+1))\n",
    "        if node.right:\n",
    "            q.append((node.right, level+1))\n",
    "\n",
    "    return 0"
   ],
   "id": "7575bc5b70236036",
   "outputs": [],
   "execution_count": 7
  },
  {
   "metadata": {
    "ExecuteTime": {
     "end_time": "2025-03-05T18:51:49.458407Z",
     "start_time": "2025-03-05T18:51:49.451623Z"
    }
   },
   "cell_type": "code",
   "source": [
    "\"\"\"\n",
    "Max depth of binary tree\n",
    "\"\"\"\n",
    "\n",
    "def maxDepth(root):\n",
    "    if not root:\n",
    "        return 0\n",
    "\n",
    "    max_depth = 0\n",
    "    q = deque([(root, 1)])\n",
    "\n",
    "    while q:\n",
    "        node, level = q.popleft()\n",
    "        max_depth = max(max_depth, level)\n",
    "        if node.left:\n",
    "            q.append((node.left, level+1))\n",
    "        if node.right:\n",
    "            q.append((node.right, level+1))\n",
    "\n",
    "    return level"
   ],
   "id": "ee22ee4705c284ae",
   "outputs": [],
   "execution_count": 8
  },
  {
   "metadata": {
    "ExecuteTime": {
     "end_time": "2025-03-05T19:06:31.465016Z",
     "start_time": "2025-03-05T19:06:31.448138Z"
    }
   },
   "cell_type": "code",
   "source": [
    "\"\"\"\n",
    "Max/Min value in a binary tree\n",
    "Do a breadth first search and at the end compare values\n",
    "\"\"\""
   ],
   "id": "99d807cfa7b2ff85",
   "outputs": [
    {
     "data": {
      "text/plain": [
       "'\\nMax/Min value in a binary tree\\nDo a breadth first search and at the end compare values\\n'"
      ]
     },
     "execution_count": 9,
     "metadata": {},
     "output_type": "execute_result"
    }
   ],
   "execution_count": 9
  },
  {
   "metadata": {
    "ExecuteTime": {
     "end_time": "2025-03-05T19:10:37.940936Z",
     "start_time": "2025-03-05T19:10:37.933294Z"
    }
   },
   "cell_type": "code",
   "source": [
    "\"\"\"\n",
    "Level order traversal\n",
    "BFS : Uses queue\n",
    "\"\"\"\n",
    "def levelOrderTraversal(root):\n",
    "    q = deque([root])\n",
    "    res = []\n",
    "\n",
    "    while q:\n",
    "        level = []\n",
    "        for i in range(len(q)):\n",
    "            node = q.popleft()\n",
    "            level.append(node)\n",
    "            if node.left: q.append(node.left)\n",
    "            if node.right: q.append(node.right)\n",
    "        res.append(level)\n",
    "    return res"
   ],
   "id": "2713ff9e8405ed08",
   "outputs": [],
   "execution_count": 10
  },
  {
   "metadata": {
    "ExecuteTime": {
     "end_time": "2025-03-05T19:16:51.934003Z",
     "start_time": "2025-03-05T19:16:51.925302Z"
    }
   },
   "cell_type": "code",
   "source": [
    "\"\"\"\n",
    "Same tree\n",
    "Given the roots of two binary tree p and q, write a function to check if they are same or not\n",
    "Use depth first search, you need to append right first and then left\n",
    "\"\"\"\n",
    "\n",
    "def isSameTree(p, q):\n",
    "    stack = [(p, q)]\n",
    "\n",
    "    while stack:\n",
    "        node1, node2 = stack.pop()\n",
    "\n",
    "        if not node1 and not node2:\n",
    "            continue\n",
    "\n",
    "        if not node1 or not node2 or node1!=node2:\n",
    "            return False\n",
    "\n",
    "        stack.append((node1.right, node2.right))\n",
    "        stack.append((node1.left, node2.left))\n",
    "\n",
    "    return True"
   ],
   "id": "d6119124a5f8443a",
   "outputs": [],
   "execution_count": 11
  },
  {
   "metadata": {
    "ExecuteTime": {
     "end_time": "2025-03-06T00:41:03.161084Z",
     "start_time": "2025-03-06T00:41:03.148190Z"
    }
   },
   "cell_type": "code",
   "source": [
    "\"\"\"\n",
    "Diameter of a binary tree\n",
    "Given the root of a binary tree, return the length of tree diameter\n",
    "\"\"\"\n",
    "\n",
    "def diameter(root):\n",
    "\n",
    "    di = 0\n",
    "\n",
    "    def depth(node):\n",
    "        nonlocal di\n",
    "        if not node:\n",
    "            return 0\n",
    "\n",
    "        left_depth = depth(node.left)\n",
    "        right_depth = depth(node.right)\n",
    "\n",
    "        di = max(di, left_depth, right_depth)\n",
    "\n",
    "        return 1+max(left_depth, right_depth)\n",
    "\n",
    "    depth(root)\n",
    "    return di"
   ],
   "id": "8d6650744ea61301",
   "outputs": [],
   "execution_count": 12
  },
  {
   "metadata": {
    "ExecuteTime": {
     "end_time": "2025-03-06T00:59:24.511663Z",
     "start_time": "2025-03-06T00:59:24.504325Z"
    }
   },
   "cell_type": "code",
   "source": [
    "\"\"\"\n",
    "Invert a binary tree\n",
    "Given root of binary tree, invert the tree and return it's root\n",
    "Logic : create a stack with the root, stack.pop(), if node the switch around branches, extend stack by right and left, return root\n",
    "\"\"\"\n",
    "\n",
    "def invert_binary_tree(root):\n",
    "    stack = [root]\n",
    "\n",
    "    while stack:\n",
    "        curr = stack.pop()\n",
    "        if curr:\n",
    "            curr.left, curr.right = curr.right, curr.left\n",
    "            stack.extend([curr.right, curr.left])\n",
    "\n",
    "    return root"
   ],
   "id": "cde5a1538bc3f842",
   "outputs": [],
   "execution_count": 14
  },
  {
   "metadata": {
    "ExecuteTime": {
     "end_time": "2025-03-06T01:20:02.761514Z",
     "start_time": "2025-03-06T01:20:02.745736Z"
    }
   },
   "cell_type": "code",
   "source": [
    "\"\"\"\n",
    "Lowest common ancestor of a binary tree\n",
    "Given a binary tree, find the lowest common ancestor of two given nodes in the tree\n",
    "\"\"\"\n",
    "def lca(root, p, q):\n",
    "    if not root or root==p or root==q:\n",
    "        return root\n",
    "\n",
    "    left = lca(root.left, p, q)\n",
    "    right = lca(root.right, p, q)\n",
    "\n",
    "    if left and right: return root\n",
    "    elif left: return left\n",
    "    else: return right"
   ],
   "id": "d4a84d6bca41a800",
   "outputs": [],
   "execution_count": 15
  },
  {
   "metadata": {},
   "cell_type": "code",
   "outputs": [],
   "execution_count": null,
   "source": "",
   "id": "101fdcd58b653035"
  }
 ],
 "metadata": {
  "kernelspec": {
   "display_name": "Python 3",
   "language": "python",
   "name": "python3"
  },
  "language_info": {
   "codemirror_mode": {
    "name": "ipython",
    "version": 2
   },
   "file_extension": ".py",
   "mimetype": "text/x-python",
   "name": "python",
   "nbconvert_exporter": "python",
   "pygments_lexer": "ipython2",
   "version": "2.7.6"
  }
 },
 "nbformat": 4,
 "nbformat_minor": 5
}
