{
 "cells": [
  {
   "cell_type": "code",
   "id": "initial_id",
   "metadata": {
    "collapsed": true,
    "ExecuteTime": {
     "end_time": "2025-03-04T15:04:41.148546Z",
     "start_time": "2025-03-04T15:04:41.137006Z"
    }
   },
   "source": [
    "\"\"\"\n",
    "Backtracking\n",
    "Algorithmic technique that involves finding a solution incrementally by trying different options and undoing them if they lead to a dead end\n",
    "\"\"\""
   ],
   "outputs": [
    {
     "data": {
      "text/plain": [
       "'\\nBacktracking\\nAlgorithmic technique that involves finding a solution incrementally by trying different options and undoing them if they lead to a dead end\\n'"
      ]
     },
     "execution_count": 1,
     "metadata": {},
     "output_type": "execute_result"
    }
   ],
   "execution_count": 1
  },
  {
   "metadata": {
    "ExecuteTime": {
     "end_time": "2025-03-04T15:05:48.045411Z",
     "start_time": "2025-03-04T15:05:48.031652Z"
    }
   },
   "cell_type": "code",
   "source": [
    "\"\"\"\n",
    "Permutations : The number of ways to arrange things : Order matters\n",
    "Combinations : The number of ways to choose things : Order doesn't matter\n",
    "\"\"\""
   ],
   "id": "e531eb903eaf5373",
   "outputs": [
    {
     "data": {
      "text/plain": [
       "'\\nPermutations : The number of ways to arrange things\\nCombinations : The number of ways to choose things\\n'"
      ]
     },
     "execution_count": 2,
     "metadata": {},
     "output_type": "execute_result"
    }
   ],
   "execution_count": 2
  },
  {
   "metadata": {},
   "cell_type": "code",
   "outputs": [],
   "execution_count": null,
   "source": "",
   "id": "794497766a1891"
  }
 ],
 "metadata": {
  "kernelspec": {
   "display_name": "Python 3",
   "language": "python",
   "name": "python3"
  },
  "language_info": {
   "codemirror_mode": {
    "name": "ipython",
    "version": 2
   },
   "file_extension": ".py",
   "mimetype": "text/x-python",
   "name": "python",
   "nbconvert_exporter": "python",
   "pygments_lexer": "ipython2",
   "version": "2.7.6"
  }
 },
 "nbformat": 4,
 "nbformat_minor": 5
}
