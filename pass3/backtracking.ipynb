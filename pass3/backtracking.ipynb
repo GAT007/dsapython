{
 "cells": [
  {
   "cell_type": "code",
   "id": "initial_id",
   "metadata": {
    "collapsed": true,
    "ExecuteTime": {
     "end_time": "2025-03-04T15:04:41.148546Z",
     "start_time": "2025-03-04T15:04:41.137006Z"
    }
   },
   "source": [
    "\"\"\"\n",
    "Backtracking\n",
    "Algorithmic technique that involves finding a solution incrementally by trying different options and undoing them if they lead to a dead end\n",
    "\"\"\""
   ],
   "outputs": [
    {
     "data": {
      "text/plain": [
       "'\\nBacktracking\\nAlgorithmic technique that involves finding a solution incrementally by trying different options and undoing them if they lead to a dead end\\n'"
      ]
     },
     "execution_count": 1,
     "metadata": {},
     "output_type": "execute_result"
    }
   ],
   "execution_count": 1
  },
  {
   "metadata": {
    "ExecuteTime": {
     "end_time": "2025-03-04T15:05:48.045411Z",
     "start_time": "2025-03-04T15:05:48.031652Z"
    }
   },
   "cell_type": "code",
   "source": [
    "\"\"\"\n",
    "Permutations : The number of ways to arrange things : Order matters\n",
    "Combinations : The number of ways to choose things : Order doesn't matter\n",
    "\"\"\""
   ],
   "id": "e531eb903eaf5373",
   "outputs": [
    {
     "data": {
      "text/plain": [
       "'\\nPermutations : The number of ways to arrange things\\nCombinations : The number of ways to choose things\\n'"
      ]
     },
     "execution_count": 2,
     "metadata": {},
     "output_type": "execute_result"
    }
   ],
   "execution_count": 2
  },
  {
   "metadata": {
    "ExecuteTime": {
     "end_time": "2025-03-04T15:19:13.984471Z",
     "start_time": "2025-03-04T15:19:13.976337Z"
    }
   },
   "cell_type": "code",
   "source": [
    "\"\"\"\n",
    "Letter Case Permutation\n",
    "Given a string s, you can transform every letter individually to be lowercase or uppercase to create another string\n",
    "Eg : a1b2, Output : a1b2, a1B2, A1b2, A1B2\n",
    "Time complexity : O(2^n) This is because each letter you have makes it branch of into two things\n",
    "\"\"\"\n",
    "\n",
    "def permutation(s):\n",
    "\n",
    "    output = [\"\"]\n",
    "    for c in s:\n",
    "        tmp = []\n",
    "        if c.isalpha():\n",
    "            for o in output:\n",
    "                tmp.append(o+c.lower())\n",
    "                tmp.append(o+c.upper())\n",
    "        else:\n",
    "            for o in output:\n",
    "                tmp.append(o+c)\n",
    "        output = tmp\n",
    "\n",
    "    return output\n",
    "\n",
    "print(permutation('a1b1'))\n"
   ],
   "id": "794497766a1891",
   "outputs": [
    {
     "name": "stdout",
     "output_type": "stream",
     "text": [
      "['a1b1', 'a1B1', 'A1b1', 'A1B1']\n"
     ]
    }
   ],
   "execution_count": 4
  },
  {
   "metadata": {
    "ExecuteTime": {
     "end_time": "2025-03-04T15:22:52.076736Z",
     "start_time": "2025-03-04T15:22:52.061708Z"
    }
   },
   "cell_type": "code",
   "source": [
    "def permute_recursive(s):\n",
    "    res = []\n",
    "\n",
    "    def backtrack(sub=\"\", i=0):\n",
    "        print(\"Sub\", sub, \"i\",i)\n",
    "        if len(sub) == len(s):\n",
    "            res.append(sub)\n",
    "            return\n",
    "\n",
    "        if s[i].isalpha():\n",
    "            backtrack(sub + s[i].swapcase(), i+1)\n",
    "        backtrack(sub+s[i], i+1)\n",
    "\n",
    "    backtrack()\n",
    "    return res\n"
   ],
   "id": "6366c1dc380ffbb7",
   "outputs": [],
   "execution_count": 5
  },
  {
   "metadata": {
    "ExecuteTime": {
     "end_time": "2025-03-04T15:34:23.803624Z",
     "start_time": "2025-03-04T15:34:23.794280Z"
    }
   },
   "cell_type": "code",
   "source": [
    "\"\"\"\n",
    "Subsets\n",
    "Given an integer array nums of unique elements, return all possible subsets\n",
    "All the numbers are unique\n",
    "Time complexity : O(n*2^n)\n",
    "\"\"\"\n",
    "def subsets(nums):\n",
    "    result = []\n",
    "    def backtrack(start, path):\n",
    "        result.append(path[:])\n",
    "\n",
    "        for i in range(start, len(nums)):\n",
    "            path.append(nums[i])\n",
    "            backtrack(i+1, path)\n",
    "            path.pop()\n",
    "\n",
    "    result = []\n",
    "    backtrack(0, [])\n",
    "    return result\n",
    "\n",
    "print(subsets([1,2,3]))"
   ],
   "id": "5e38479cb56f1762",
   "outputs": [
    {
     "name": "stdout",
     "output_type": "stream",
     "text": [
      "[[], [1], [1, 2], [1, 2, 3], [1, 3], [2], [2, 3], [3]]\n"
     ]
    }
   ],
   "execution_count": 8
  },
  {
   "metadata": {
    "ExecuteTime": {
     "end_time": "2025-03-04T21:48:58.858421Z",
     "start_time": "2025-03-04T21:48:58.845833Z"
    }
   },
   "cell_type": "code",
   "source": [
    "\"\"\"\n",
    "Combinations\n",
    "Given two integers n and k, return all possible combinations of k numbers chosen from the range[1,n]\n",
    "\"\"\"\n",
    "def combinations(n, k):\n",
    "    def backtrack(start, path):\n",
    "        if len(path) == k:\n",
    "            result.append(path[:])\n",
    "            return\n",
    "        for i in range(start, n+1):\n",
    "            path.append(i)\n",
    "            backtrack(i+1, path)\n",
    "            path.pop()\n",
    "    result = []\n",
    "    backtrack(1, [])\n",
    "    return result\n",
    "\n",
    "print(combinations(5,3))"
   ],
   "id": "22a1f7418021c84c",
   "outputs": [
    {
     "name": "stdout",
     "output_type": "stream",
     "text": [
      "[[1, 2, 3], [1, 2, 4], [1, 2, 5], [1, 3, 4], [1, 3, 5], [1, 4, 5], [2, 3, 4], [2, 3, 5], [2, 4, 5], [3, 4, 5]]\n"
     ]
    }
   ],
   "execution_count": 12
  },
  {
   "metadata": {
    "ExecuteTime": {
     "end_time": "2025-03-04T21:59:42.398189Z",
     "start_time": "2025-03-04T21:59:42.372401Z"
    }
   },
   "cell_type": "code",
   "source": [
    "\"\"\"\n",
    "Permutations\n",
    "Given an array nums of distinct integers, return all the possible permutations. You can return the answer in any order\n",
    "\"\"\"\n",
    "\n",
    "def permutations(nums):\n",
    "    def backtrack(start, end):\n",
    "        if start == end:\n",
    "            result.append(nums[:])\n",
    "            return\n",
    "        for i in range(start, end):\n",
    "            nums[start], nums[i] = nums[i], nums[start]\n",
    "            backtrack(start+1, end)\n",
    "            nums[start], nums[i] = nums[i], nums[start]\n",
    "    result = []\n",
    "    backtrack(0, len(nums))\n",
    "    return result\n",
    "\n",
    "print(permutations([1,2,3,4]))"
   ],
   "id": "99410cdf1f51cb1",
   "outputs": [
    {
     "name": "stdout",
     "output_type": "stream",
     "text": [
      "[[1, 2, 3, 4], [1, 2, 4, 3], [1, 3, 2, 4], [1, 3, 4, 2], [1, 4, 3, 2], [1, 4, 2, 3], [2, 1, 3, 4], [2, 1, 4, 3], [2, 3, 1, 4], [2, 3, 4, 1], [2, 4, 3, 1], [2, 4, 1, 3], [3, 2, 1, 4], [3, 2, 4, 1], [3, 1, 2, 4], [3, 1, 4, 2], [3, 4, 1, 2], [3, 4, 2, 1], [4, 2, 3, 1], [4, 2, 1, 3], [4, 3, 2, 1], [4, 3, 1, 2], [4, 1, 3, 2], [4, 1, 2, 3]]\n"
     ]
    }
   ],
   "execution_count": 13
  },
  {
   "metadata": {},
   "cell_type": "code",
   "outputs": [],
   "execution_count": null,
   "source": "",
   "id": "782a5a5d2ff38b7d"
  }
 ],
 "metadata": {
  "kernelspec": {
   "display_name": "Python 3",
   "language": "python",
   "name": "python3"
  },
  "language_info": {
   "codemirror_mode": {
    "name": "ipython",
    "version": 2
   },
   "file_extension": ".py",
   "mimetype": "text/x-python",
   "name": "python",
   "nbconvert_exporter": "python",
   "pygments_lexer": "ipython2",
   "version": "2.7.6"
  }
 },
 "nbformat": 4,
 "nbformat_minor": 5
}
