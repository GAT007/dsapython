{
 "cells": [
  {
   "cell_type": "code",
   "id": "initial_id",
   "metadata": {
    "collapsed": true,
    "ExecuteTime": {
     "end_time": "2025-03-05T17:01:51.259979Z",
     "start_time": "2025-03-05T17:01:51.249589Z"
    }
   },
   "source": [
    "\"\"\"\n",
    "Stacks\n",
    "push, pop, top\n",
    "\"\"\""
   ],
   "outputs": [
    {
     "data": {
      "text/plain": [
       "'\\nStacks\\npush, pop, top\\n'"
      ]
     },
     "execution_count": 1,
     "metadata": {},
     "output_type": "execute_result"
    }
   ],
   "execution_count": 1
  },
  {
   "metadata": {
    "ExecuteTime": {
     "end_time": "2025-03-05T17:02:19.746060Z",
     "start_time": "2025-03-05T17:02:19.733380Z"
    }
   },
   "cell_type": "code",
   "source": [
    "\"\"\"\n",
    "Min Stack\n",
    "Push tuples in, first is the value, second is the minimum element\n",
    "\"\"\""
   ],
   "id": "a5e1a0b707cbc27b",
   "outputs": [
    {
     "data": {
      "text/plain": [
       "'\\nMin Stack\\nPush tuples in, first is the value, second is the minimum element\\n'"
      ]
     },
     "execution_count": 2,
     "metadata": {},
     "output_type": "execute_result"
    }
   ],
   "execution_count": 2
  },
  {
   "metadata": {
    "ExecuteTime": {
     "end_time": "2025-03-05T17:03:22.492721Z",
     "start_time": "2025-03-05T17:03:22.477213Z"
    }
   },
   "cell_type": "code",
   "source": [
    "\"\"\"\n",
    "Valid parantheses\n",
    "Push ( { [ in stack, if ) } ], then pop the stack and check if it's matching pair, otherwise not valid\"\"\""
   ],
   "id": "fe2a25399a56661a",
   "outputs": [
    {
     "data": {
      "text/plain": [
       "\"\\nValid parantheses\\nPush ( { [ in stack, if ) } ], then pop the stack and check if it's matching pair, otherwise not valid\""
      ]
     },
     "execution_count": 3,
     "metadata": {},
     "output_type": "execute_result"
    }
   ],
   "execution_count": 3
  },
  {
   "metadata": {
    "ExecuteTime": {
     "end_time": "2025-03-05T17:04:47.521156Z",
     "start_time": "2025-03-05T17:04:47.508366Z"
    }
   },
   "cell_type": "code",
   "source": [
    "\"\"\"\n",
    "Evaluate reverse polish notation\n",
    "If number push on stack, if sign pop two elements of the stack, perform operation and push the resultant back onto stack\n",
    "\"\"\""
   ],
   "id": "abfefec07718547f",
   "outputs": [
    {
     "data": {
      "text/plain": [
       "'\\nEvaluate reverse polish notation\\nIf number push on stack, if sign pop two elements of the stack, perform operation and push the resultant back onto stack\\n'"
      ]
     },
     "execution_count": 4,
     "metadata": {},
     "output_type": "execute_result"
    }
   ],
   "execution_count": 4
  },
  {
   "metadata": {
    "ExecuteTime": {
     "end_time": "2025-03-05T17:10:47.728790Z",
     "start_time": "2025-03-05T17:10:47.720750Z"
    }
   },
   "cell_type": "code",
   "source": [
    "\"\"\"\n",
    "Stack sorting\n",
    "\"\"\"\n",
    "\n",
    "\n",
    "def sortstack(stack):\n",
    "    tmp_stack = []\n",
    "    while(stack):\n",
    "        num = stack.pop()\n",
    "        while (tmp_stack and (tmp_stack[-1]) < num):\n",
    "            stack.append(tmp_stack.pop())\n",
    "\n",
    "        tmp_stack.append(num)\n",
    "    return tmp_stack\n"
   ],
   "id": "3bf04ff674214d46",
   "outputs": [],
   "execution_count": 5
  },
  {
   "metadata": {},
   "cell_type": "code",
   "outputs": [],
   "execution_count": null,
   "source": "",
   "id": "1d3d631a2bd2b394"
  }
 ],
 "metadata": {
  "kernelspec": {
   "display_name": "Python 3",
   "language": "python",
   "name": "python3"
  },
  "language_info": {
   "codemirror_mode": {
    "name": "ipython",
    "version": 2
   },
   "file_extension": ".py",
   "mimetype": "text/x-python",
   "name": "python",
   "nbconvert_exporter": "python",
   "pygments_lexer": "ipython2",
   "version": "2.7.6"
  }
 },
 "nbformat": 4,
 "nbformat_minor": 5
}
