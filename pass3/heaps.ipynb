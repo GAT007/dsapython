{
 "cells": [
  {
   "cell_type": "code",
   "id": "initial_id",
   "metadata": {
    "collapsed": true,
    "ExecuteTime": {
     "end_time": "2025-03-06T01:37:07.163449Z",
     "start_time": "2025-03-06T01:37:07.154943Z"
    }
   },
   "source": [
    "\"\"\"\n",
    "Heaps - Specialized binary tree that satisfies the heap property\n",
    "min heap - parent node is smaller than or equal to its children - root - smallest element, used in priority queues\n",
    "max heap - parent node is greater than or equal to all its children - rooot - largest element, used in max priority queues\n",
    "\"\"\"\n",
    "\n",
    "import heapq\n",
    "\n",
    "min_heap = []\n",
    "\n",
    "heapq.heappush(min_heap, 5)\n",
    "heapq.heappush(min_heap, 1)\n",
    "heapq.heappush(min_heap, 3)\n",
    "\n",
    "print(min_heap)\n",
    "print(heapq.heappop(min_heap))"
   ],
   "outputs": [
    {
     "name": "stdout",
     "output_type": "stream",
     "text": [
      "[1, 5, 3]\n",
      "1\n"
     ]
    }
   ],
   "execution_count": 2
  },
  {
   "metadata": {
    "ExecuteTime": {
     "end_time": "2025-03-06T01:37:52.313458Z",
     "start_time": "2025-03-06T01:37:52.300271Z"
    }
   },
   "cell_type": "code",
   "source": [
    "\"\"\"\n",
    "For a max heap, you have to put in negative values\n",
    "\"\"\""
   ],
   "id": "3aa28f2eac086b8d",
   "outputs": [
    {
     "data": {
      "text/plain": [
       "'\\nFor a max heap, you have to put in negative values\\n'"
      ]
     },
     "execution_count": 3,
     "metadata": {},
     "output_type": "execute_result"
    }
   ],
   "execution_count": 3
  },
  {
   "metadata": {
    "ExecuteTime": {
     "end_time": "2025-03-06T01:38:40.387945Z",
     "start_time": "2025-03-06T01:38:40.379930Z"
    }
   },
   "cell_type": "code",
   "source": [
    "#Convert a list into a heap\n",
    "nums = [7,2,5,9,1]\n",
    "heapq.heapify(nums)\n",
    "print(nums)"
   ],
   "id": "5a0aab5c8565a0d1",
   "outputs": [
    {
     "name": "stdout",
     "output_type": "stream",
     "text": [
      "[1, 2, 5, 9, 7]\n"
     ]
    }
   ],
   "execution_count": 4
  },
  {
   "metadata": {
    "ExecuteTime": {
     "end_time": "2025-03-06T01:39:46.324389Z",
     "start_time": "2025-03-06T01:39:46.314667Z"
    }
   },
   "cell_type": "code",
   "source": [
    "#Kth smallest\n",
    "nums = [7, 10, 4, 3, 20, 15]\n",
    "heapq.heapify(nums)\n",
    "third_smallest = heapq.nsmallest(3, nums)[-1]\n",
    "print(third_smallest)"
   ],
   "id": "d26f5fe03ae19b89",
   "outputs": [
    {
     "name": "stdout",
     "output_type": "stream",
     "text": [
      "7\n"
     ]
    }
   ],
   "execution_count": 5
  },
  {
   "metadata": {
    "ExecuteTime": {
     "end_time": "2025-03-06T01:44:53.163283Z",
     "start_time": "2025-03-06T01:44:53.155004Z"
    }
   },
   "cell_type": "code",
   "source": [
    "#Implement Priority Queue\n",
    "class PriorityQueue:\n",
    "    def __init__(self):\n",
    "        self.heap = []\n",
    "\n",
    "    def push(self, priority, item):\n",
    "        heapq.heappush(self.heap, (priority, item))\n",
    "\n",
    "    def pop(self):\n",
    "        return heapq.heappop(self.heap)[1]\n",
    "\n",
    "pq = PriorityQueue()\n",
    "pq.push(2, \"Task B\")\n",
    "pq.push(1, \"Task A\")\n",
    "pq.push(3, \"Task C\")"
   ],
   "id": "f18bc6321a2bfb93",
   "outputs": [],
   "execution_count": 6
  },
  {
   "metadata": {
    "ExecuteTime": {
     "end_time": "2025-03-06T01:50:58.399513Z",
     "start_time": "2025-03-06T01:50:58.389971Z"
    }
   },
   "cell_type": "code",
   "source": [
    "\"\"\"\n",
    "N largest element in the array\n",
    "Time complexity : O(n log k)\n",
    "\"\"\"\n",
    "nums = [3,2,1,7,5,6,10,4,8,9]\n",
    "heapq.heapify(nums)\n",
    "print(heapq.nlargest(3, nums)[-1])"
   ],
   "id": "46868afc7e2839ea",
   "outputs": [
    {
     "name": "stdout",
     "output_type": "stream",
     "text": [
      "8\n"
     ]
    }
   ],
   "execution_count": 9
  },
  {
   "metadata": {
    "ExecuteTime": {
     "end_time": "2025-03-06T01:55:32.983679Z",
     "start_time": "2025-03-06T01:55:32.961666Z"
    }
   },
   "cell_type": "code",
   "source": [
    "\"\"\"\n",
    "Somewhat more manual approach\n",
    "\"\"\"\n",
    "def kth_largest(nums, k):\n",
    "    heap = []\n",
    "    for i in nums:\n",
    "        heapq.heappush(heap, i)\n",
    "\n",
    "    for i in range(len(nums)-k):\n",
    "        heapq.heappop(heap)\n",
    "\n",
    "    return heapq.heappop(heap)"
   ],
   "id": "dcc088f5ea7d775c",
   "outputs": [],
   "execution_count": 10
  },
  {
   "metadata": {},
   "cell_type": "code",
   "outputs": [],
   "execution_count": null,
   "source": "",
   "id": "3a8bd37bc7dc5f62"
  }
 ],
 "metadata": {
  "kernelspec": {
   "display_name": "Python 3",
   "language": "python",
   "name": "python3"
  },
  "language_info": {
   "codemirror_mode": {
    "name": "ipython",
    "version": 2
   },
   "file_extension": ".py",
   "mimetype": "text/x-python",
   "name": "python",
   "nbconvert_exporter": "python",
   "pygments_lexer": "ipython2",
   "version": "2.7.6"
  }
 },
 "nbformat": 4,
 "nbformat_minor": 5
}
