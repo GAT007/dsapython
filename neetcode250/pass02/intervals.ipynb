{
 "cells": [
  {
   "metadata": {},
   "cell_type": "markdown",
   "source": "# Intervals",
   "id": "d5ac9338e80614de"
  },
  {
   "metadata": {},
   "cell_type": "code",
   "outputs": [],
   "execution_count": null,
   "source": [
    "\"\"\"\n",
    "Insert interval\n",
    "\"\"\"\n",
    "\n",
    "\n",
    "def insert(intervals, newInterval):\n",
    "    res = []\n",
    "    for i in range(len(intervals)):\n",
    "        if newInterval[1] < intervals[i][0]:\n",
    "            res.append(newInterval)\n",
    "            return res + intervals[i:]\n",
    "\n",
    "        elif newInterval[0] > intervals[i][1]:\n",
    "            res.append(intervals[i])\n",
    "\n",
    "        else:\n",
    "            newInterval = [min(newInterval[0], intervals[i][0]), max(newInterval[1], intervals[i][1])]\n",
    "\n",
    "    res.append(newInterval)\n",
    "    return res\n"
   ],
   "id": "7eea541274caeb3"
  },
  {
   "cell_type": "code",
   "id": "initial_id",
   "metadata": {
    "collapsed": true,
    "ExecuteTime": {
     "end_time": "2025-08-07T04:03:25.176659Z",
     "start_time": "2025-08-07T04:03:25.160235Z"
    }
   },
   "source": [
    "\"\"\"\n",
    "Merge Interval\n",
    "\"\"\""
   ],
   "outputs": [
    {
     "data": {
      "text/plain": [
       "'\\nMerge Interval\\n'"
      ]
     },
     "execution_count": 1,
     "metadata": {},
     "output_type": "execute_result"
    }
   ],
   "execution_count": 1
  },
  {
   "metadata": {
    "ExecuteTime": {
     "end_time": "2025-08-07T04:03:25.469821Z",
     "start_time": "2025-08-07T04:03:25.457781Z"
    }
   },
   "cell_type": "code",
   "source": [
    "\"\"\"\n",
    "Overlapping interval\n",
    "\"\"\""
   ],
   "id": "eb648a02dea956d0",
   "outputs": [
    {
     "data": {
      "text/plain": [
       "'\\nOverlapping interval\\n'"
      ]
     },
     "execution_count": 2,
     "metadata": {},
     "output_type": "execute_result"
    }
   ],
   "execution_count": 2
  },
  {
   "metadata": {},
   "cell_type": "code",
   "outputs": [],
   "execution_count": null,
   "source": [
    "\"\"\"\n",
    "Meeting Rooms 1\n",
    "\"\"\""
   ],
   "id": "b46d452b8589c717"
  }
 ],
 "metadata": {
  "kernelspec": {
   "display_name": "Python 3",
   "language": "python",
   "name": "python3"
  },
  "language_info": {
   "codemirror_mode": {
    "name": "ipython",
    "version": 2
   },
   "file_extension": ".py",
   "mimetype": "text/x-python",
   "name": "python",
   "nbconvert_exporter": "python",
   "pygments_lexer": "ipython2",
   "version": "2.7.6"
  }
 },
 "nbformat": 4,
 "nbformat_minor": 5
}
