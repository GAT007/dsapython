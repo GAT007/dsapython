{
 "cells": [
  {
   "metadata": {},
   "cell_type": "markdown",
   "source": "# Greedy",
   "id": "6916c5fe85ed383a"
  },
  {
   "cell_type": "code",
   "id": "initial_id",
   "metadata": {
    "collapsed": true,
    "ExecuteTime": {
     "end_time": "2025-08-05T14:11:48.971848Z",
     "start_time": "2025-08-05T14:11:48.960309Z"
    }
   },
   "source": [
    "def lemondaeChange(bills):\n",
    "    five, ten = 0, 0\n",
    "    for b in bills:\n",
    "        if b == 5:\n",
    "            five += 1\n",
    "        elif b == 10:\n",
    "            ten += 1\n",
    "\n",
    "        change = b - 5\n",
    "\n",
    "        if change == 5:\n",
    "            if five > 0:\n",
    "                five -= 1\n",
    "            else:\n",
    "                return False\n",
    "\n",
    "        elif change == 15:\n",
    "            if ten > 1 and five > 1:\n",
    "                ten -= 1\n",
    "                five -= 1\n",
    "            elif five > 3:\n",
    "                five -= 3\n",
    "            else:\n",
    "                return False\n",
    "\n",
    "    return True"
   ],
   "outputs": [],
   "execution_count": 1
  },
  {
   "metadata": {
    "ExecuteTime": {
     "end_time": "2025-08-05T18:30:50.077084Z",
     "start_time": "2025-08-05T18:30:50.057866Z"
    }
   },
   "cell_type": "code",
   "source": [
    "\"\"\"\n",
    "Kadane's algorithm\n",
    "Kadane's is a sliding window greedy algorithm\n",
    "TC : O(n)\n",
    "\"\"\"\n",
    "\n",
    "\n",
    "def kadanes_algorithm(nums):\n",
    "    cursum = 0\n",
    "    maxsum = nums[0]\n",
    "\n",
    "    for n in nums:\n",
    "        cursum = max(cursum, 0)\n",
    "        cursum += n\n",
    "        maxsum = max(maxsum, cursum)\n",
    "\n",
    "    return maxsum\n",
    "\n",
    "\n",
    "def sliding_window(nums):\n",
    "    maxsum = nums[0]\n",
    "    cursum = 0\n",
    "    maxl, maxr = 0, 0\n",
    "    l = 0\n",
    "\n",
    "    for r in range(len(nums)):\n",
    "        if cursum < 0:\n",
    "            cursum = 0\n",
    "            l = r\n",
    "\n",
    "        cursum += nums[r]\n",
    "        if cursum > maxsum:\n",
    "            maxsum = cursum\n",
    "            maxl, maxr = l, r\n",
    "\n",
    "    return [maxl, maxr]\n"
   ],
   "id": "7e8c4d240b06d39d",
   "outputs": [],
   "execution_count": 2
  },
  {
   "metadata": {
    "ExecuteTime": {
     "end_time": "2025-08-05T23:43:21.516212Z",
     "start_time": "2025-08-05T23:43:21.490849Z"
    }
   },
   "cell_type": "code",
   "source": [
    "\"\"\"\n",
    "Max sum circular subarray\n",
    "\"\"\"\n",
    "\n",
    "\n",
    "def max_subarray_circular(nums):\n",
    "    globMax, globMin = nums[0], nums[0]\n",
    "    curMax, curMin = 0, 0\n",
    "    total = 0\n",
    "\n",
    "    for n in nums:\n",
    "        curMax = max(curMax + n, n)\n",
    "        curMin = min(curMin + n, n)\n",
    "        total += n\n",
    "        globMax = max(globMax, curMax)\n",
    "        globMin = min(globMin, curMin)\n",
    "\n",
    "    return max(globMax, total - globMin) if globMax > 0 else globMax"
   ],
   "id": "55b6b459c0ca654e",
   "outputs": [],
   "execution_count": 3
  },
  {
   "metadata": {
    "ExecuteTime": {
     "end_time": "2025-08-06T00:05:18.979979Z",
     "start_time": "2025-08-06T00:05:18.969945Z"
    }
   },
   "cell_type": "code",
   "source": [
    "\"\"\"\n",
    "Max Turbulent Size\n",
    "\"\"\"\n",
    "\n",
    "\n",
    "def maxTurbulentSize(arr):\n",
    "    l, r = 0, 1\n",
    "    res, prev = 1, \"\"\n",
    "\n",
    "    while r < len(arr):\n",
    "        if arr[r - 1] > arr[r] and prev != \">\":\n",
    "            res = max(res, r - l + 1)\n",
    "            r += 1\n",
    "            prev = \">\"\n",
    "        elif arr[r - 1] < arr[r] and prev != \"<\":\n",
    "            res = max(res, r - l + 1)\n",
    "            r += 1\n",
    "            prev = \">\"\n",
    "        else:\n",
    "            r = r + 1 if arr[r] == arr[r - 1] else r\n",
    "            l = r - 1\n",
    "            prev = \"\"\n",
    "\n",
    "    return res"
   ],
   "id": "44a2cfda1e0afb5",
   "outputs": [],
   "execution_count": 4
  },
  {
   "metadata": {
    "ExecuteTime": {
     "end_time": "2025-08-06T00:28:01.743240Z",
     "start_time": "2025-08-06T00:28:01.728207Z"
    }
   },
   "cell_type": "code",
   "source": [
    "\"\"\"\n",
    "Jump Game\n",
    "\"\"\"\n",
    "\n",
    "\n",
    "def can_jump(nums) -> bool:\n",
    "    goal = len(nums) - 1\n",
    "\n",
    "    for i in range(len(nums) - 1, -1, -1):\n",
    "        if i + nums[i] >= goal:\n",
    "            goal = i\n",
    "\n",
    "    return True if goal == 0 else False"
   ],
   "id": "456d6e195c142486",
   "outputs": [],
   "execution_count": 5
  },
  {
   "metadata": {
    "ExecuteTime": {
     "end_time": "2025-08-06T01:20:06.640391Z",
     "start_time": "2025-08-06T01:20:06.621883Z"
    }
   },
   "cell_type": "code",
   "source": [
    "\"\"\"\n",
    "Jump Game 2\n",
    "Spin is minimum amount of jumps\n",
    "\"\"\"\n",
    "\n",
    "\n",
    "def jump_game_2(nums):\n",
    "    res = 0\n",
    "    l = r = 0\n",
    "\n",
    "    while r < len(nums) - 1:\n",
    "        farthest = 0\n",
    "        for i in range(l, r + 1):\n",
    "            farthest = max(farthest, i + nums[i])\n",
    "        l = r + 1\n",
    "        r = farthest\n",
    "        res += 1\n",
    "    return res\n"
   ],
   "id": "a33d3c3c69a94237",
   "outputs": [],
   "execution_count": 6
  },
  {
   "metadata": {
    "ExecuteTime": {
     "end_time": "2025-08-06T01:22:09.376603Z",
     "start_time": "2025-08-06T01:22:09.366569Z"
    }
   },
   "cell_type": "code",
   "source": [
    "\"\"\"\n",
    "Jump Game 7\n",
    "\"\"\"\n",
    "from collections import deque\n",
    "\n",
    "\n",
    "def jump_game_7(s, minJump, maxJump):\n",
    "    q, farthest = deque([0]), 0\n",
    "\n",
    "    while q:\n",
    "        i = q.popleft()\n",
    "        start = max(i + minJump, farthest + 1)\n",
    "        for j in range(start, min(i + maxJump + 1, len(s))):\n",
    "            if s[j] == \"0\":\n",
    "                q.append(j)\n",
    "                if j == len(s) - 1:\n",
    "                    return True\n",
    "\n",
    "        farthest = i + maxJump\n",
    "\n",
    "    return False"
   ],
   "id": "4c805f73d6061ddc",
   "outputs": [],
   "execution_count": 7
  },
  {
   "metadata": {},
   "cell_type": "code",
   "outputs": [],
   "execution_count": null,
   "source": "",
   "id": "a3b6226d68c2251d"
  }
 ],
 "metadata": {
  "kernelspec": {
   "display_name": "Python 3",
   "language": "python",
   "name": "python3"
  },
  "language_info": {
   "codemirror_mode": {
    "name": "ipython",
    "version": 2
   },
   "file_extension": ".py",
   "mimetype": "text/x-python",
   "name": "python",
   "nbconvert_exporter": "python",
   "pygments_lexer": "ipython2",
   "version": "2.7.6"
  }
 },
 "nbformat": 4,
 "nbformat_minor": 5
}
