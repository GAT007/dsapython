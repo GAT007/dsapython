{
 "cells": [
  {
   "cell_type": "code",
   "id": "initial_id",
   "metadata": {
    "collapsed": true,
    "ExecuteTime": {
     "end_time": "2025-07-12T21:11:06.590254Z",
     "start_time": "2025-07-12T21:11:06.582236Z"
    }
   },
   "source": [
    "\"\"\"\n",
    "Baseball Game\n",
    "\"\"\"\n",
    "\n",
    "\n",
    "def baseball_game(ops):\n",
    "    stack = []\n",
    "    for op in ops:\n",
    "        if op == '+':\n",
    "            num1 = stack.pop()\n",
    "            num2 = stack.pop()\n",
    "            stack.append(num2)\n",
    "            stack.append(num1)\n",
    "            stack.append(num1 + num2)\n",
    "        elif op == 'C':\n",
    "            stack.pop()\n",
    "        elif op == 'D':\n",
    "            num1 = stack.pop()\n",
    "            stack.append(num1)\n",
    "            stack.append(num1 * 2)\n",
    "        else:\n",
    "            stack.append(int(op))\n",
    "\n",
    "    return sum(stack)\n",
    "\n",
    "\n",
    "print(baseball_game([\"1\", \"2\", \"+\", \"C\", \"5\", \"D\"]))"
   ],
   "outputs": [
    {
     "name": "stdout",
     "output_type": "stream",
     "text": [
      "18\n"
     ]
    }
   ],
   "execution_count": 2
  },
  {
   "metadata": {
    "ExecuteTime": {
     "end_time": "2025-07-13T02:30:45.637871Z",
     "start_time": "2025-07-13T02:30:45.622568Z"
    }
   },
   "cell_type": "code",
   "source": [
    "\"\"\"\n",
    "Valid parentheses\n",
    "\"\"\"\n",
    "\n",
    "\n",
    "def valid_parentheses(s):\n",
    "    paras = list(s)\n",
    "    p_map = {'}': '{', ']': '[', ')': '('}\n",
    "    stack = []\n",
    "    for b in paras:\n",
    "        if b in p_map:\n",
    "            if stack and stack[-1] == p_map[b]:\n",
    "                stack.pop()\n",
    "            else:\n",
    "                return False\n",
    "        else:\n",
    "            stack.append(b)\n",
    "\n",
    "    if len(stack) == 0:\n",
    "        return True\n",
    "    else:\n",
    "        return False"
   ],
   "id": "8867faac22cbc40a",
   "outputs": [],
   "execution_count": 3
  },
  {
   "metadata": {
    "ExecuteTime": {
     "end_time": "2025-07-13T02:35:14.456571Z",
     "start_time": "2025-07-13T02:35:14.449792Z"
    }
   },
   "cell_type": "code",
   "source": [
    "\"\"\"\n",
    "Implement stack using queues\n",
    "\"\"\"\n",
    "from collections import deque\n",
    "\n",
    "\n",
    "class S_using_Q:\n",
    "    def __init__(self):\n",
    "        self.q1 = deque()\n",
    "        self.q2 = deque()\n",
    "\n",
    "    def push(self, x):\n",
    "        self.q2.append(x)\n",
    "        while self.q1:\n",
    "            self.q2.append(self.q1.popleft())\n",
    "\n",
    "        self.q1, self.q2 = self.q1, self.q2\n",
    "\n",
    "    def pop(self):\n",
    "        return self.q1.popleft()\n",
    "\n",
    "    def top(self):\n",
    "        return self.q1[0]\n",
    "\n",
    "    def empty(self):\n",
    "        return len(self.q1) == 0"
   ],
   "id": "c4921ba8f8da61a1",
   "outputs": [],
   "execution_count": 4
  },
  {
   "metadata": {
    "ExecuteTime": {
     "end_time": "2025-07-13T02:54:07.671284Z",
     "start_time": "2025-07-13T02:54:07.662339Z"
    }
   },
   "cell_type": "code",
   "source": [
    "\"\"\"\n",
    "Queue using stacks\n",
    "\"\"\"\n",
    "\n",
    "\n",
    "class Q_using_S:\n",
    "    def __init__(self):\n",
    "        self.s1 = []\n",
    "        self.s2 = []\n",
    "\n",
    "    def push(self, x):\n",
    "        self.s1.append(x)\n",
    "\n",
    "    def pop(self):\n",
    "        if not self.s2:\n",
    "            while self.s1:\n",
    "                self.s2.append(self.s1.pop())\n",
    "\n",
    "        return self.s2.pop()"
   ],
   "id": "d3480c4204598e82",
   "outputs": [],
   "execution_count": 5
  },
  {
   "metadata": {
    "ExecuteTime": {
     "end_time": "2025-07-13T03:10:39.194634Z",
     "start_time": "2025-07-13T03:10:39.187484Z"
    }
   },
   "cell_type": "code",
   "source": [
    "\"\"\"\n",
    "Min Stack\n",
    "\"\"\"\n",
    "\n",
    "\n",
    "class MinStack:\n",
    "    def __init__(self):\n",
    "        self.s1 = []\n",
    "\n",
    "    def push(self, x):\n",
    "        curmin = 0\n",
    "        if self.s1:\n",
    "            curmin = self.s1[-1][1]\n",
    "        else:\n",
    "            curmin = x\n",
    "        self.s1.push((x, curmin))\n",
    "\n",
    "    def pop(self):\n",
    "        return self.s1.pop()[0]\n",
    "\n",
    "    def top(self):\n",
    "        return self.s1[-1][0]\n",
    "\n",
    "    def getMin(self):\n",
    "        return self.s1[-1][1]\n"
   ],
   "id": "35f7b652721afdae",
   "outputs": [],
   "execution_count": 6
  },
  {
   "metadata": {
    "ExecuteTime": {
     "end_time": "2025-07-13T03:18:32.971514Z",
     "start_time": "2025-07-13T03:18:32.958318Z"
    }
   },
   "cell_type": "code",
   "source": [
    "\"\"\"\n",
    "Evaluate reverse polish notation\n",
    "\"\"\"\n",
    "\n",
    "\n",
    "def rev_pol_not(ops):\n",
    "    stack = []\n",
    "    for op in ops:\n",
    "        if op.isnumeric():\n",
    "            stack.append(int(op))\n",
    "        else:\n",
    "            num2 = stack.pop()\n",
    "            num1 = stack.pop()\n",
    "            if op == '+':\n",
    "                stack.append(num1 + num2)\n",
    "            elif op == '-':\n",
    "                stack.append(num1 - num2)\n",
    "            elif op == '*':\n",
    "                stack.append(num1 * num2)\n",
    "            elif op == '/':\n",
    "                stack.append(num1 / num2)\n",
    "\n",
    "    if len(stack) == 1:\n",
    "        return stack.pop()\n",
    "    else:\n",
    "        return stack\n",
    "\n"
   ],
   "id": "e53a27bdf1227f7f",
   "outputs": [],
   "execution_count": 7
  },
  {
   "metadata": {
    "ExecuteTime": {
     "end_time": "2025-07-13T14:50:17.265284Z",
     "start_time": "2025-07-13T14:50:17.244520Z"
    }
   },
   "cell_type": "code",
   "source": [
    "\"\"\"\n",
    "Generate parentheses\n",
    "\"\"\"\n",
    "\n",
    "\n",
    "def generate_parenthesis(n):\n",
    "    stack = []\n",
    "    res = []\n",
    "\n",
    "    def backtrack(openN, closedN):\n",
    "        if openN == closedN == n:\n",
    "            res.append(\"\".join(stack))\n",
    "            return\n",
    "\n",
    "        if openN < n:\n",
    "            stack.append(\"(\")\n",
    "            backtrack(openN + 1, closedN)\n",
    "            stack.pop()\n",
    "        if closedN < openN:\n",
    "            stack.append(\")\")\n",
    "            backtrack(openN, closedN + 1)\n",
    "            stack.pop()\n",
    "\n",
    "    backtrack(0, 0)\n",
    "    return res\n",
    "\n",
    "\n",
    "def generate_parentheses(n):\n",
    "    stack = []\n",
    "    res = []\n",
    "\n",
    "    def backtrack(openN, closedN):\n",
    "        #Base condition\n",
    "        if openN == closedN == n:\n",
    "            res.append(\"\".join(stack))\n",
    "            return\n",
    "\n",
    "        if openN < n:\n",
    "            stack.append(\"(\")\n",
    "            backtrack(openN + 1, closedN)\n",
    "            stack.pop()\n",
    "\n",
    "        if closedN < openN:\n",
    "            stack.append(\")\")\n",
    "            backtrack(openN, closedN + 1)\n",
    "            stack.pop()\n",
    "\n",
    "    backtrack(0, 0)\n",
    "    return res\n",
    "\n"
   ],
   "id": "e0b7cd8b594049b3",
   "outputs": [],
   "execution_count": 8
  },
  {
   "metadata": {
    "ExecuteTime": {
     "end_time": "2025-07-13T16:06:42.254175Z",
     "start_time": "2025-07-13T16:06:42.234914Z"
    }
   },
   "cell_type": "code",
   "source": [
    "\"\"\"\n",
    "Asteroid collision\n",
    "\"\"\"\n",
    "\n",
    "\n",
    "def asteroid_collision(asteroids):\n",
    "    stack = []\n",
    "    for a in asteroids:\n",
    "        while stack and a < 0 and stack[-1] > 0:\n",
    "            diff = a + stack[-1]\n",
    "            if diff < 0:\n",
    "                stack.pop()\n",
    "            elif diff > 0:\n",
    "                a = 0\n",
    "            else:\n",
    "                a = 0\n",
    "                stack.pop()\n",
    "        if a:\n",
    "            stack.append(a)\n",
    "\n",
    "    return stack\n",
    "\n",
    "\n",
    "def asteroid_collision(asteroids):\n",
    "    stack = []\n",
    "    for a in asteroids:\n",
    "        while stack and a < 0 and stack[-1] > 0:\n",
    "            diff = stack[-1] + a\n",
    "            if diff < 0:\n",
    "                stack.pop()\n",
    "            elif diff > 0:\n",
    "                a = 0\n",
    "            else:\n",
    "                stack.pop()\n",
    "                a = 0\n",
    "        if a:\n",
    "            stack.append(a)\n",
    "    return stack"
   ],
   "id": "cfe1ca5a526622ab",
   "outputs": [],
   "execution_count": 9
  },
  {
   "metadata": {
    "ExecuteTime": {
     "end_time": "2025-07-13T16:32:25.555072Z",
     "start_time": "2025-07-13T16:32:25.535143Z"
    }
   },
   "cell_type": "code",
   "source": [
    "\"\"\"\n",
    "Daily temperatures\n",
    "\"\"\"\n",
    "\n",
    "\n",
    "def dtemps(temps):\n",
    "    stack = []\n",
    "    for i in range(len(temps)):\n",
    "        l = i\n",
    "        r = l + 1\n",
    "        while r < len(temps):\n",
    "            if temps[r] > temps[l]:\n",
    "                break\n",
    "            r += 1\n",
    "        stack.append(r - l)\n",
    "    return stack\n",
    "\n",
    "\n",
    "print(dtemps([73, 74, 75, 71, 69, 72, 76, 73]))\n",
    "\n",
    "\n",
    "def daily_temperatures(temps):\n",
    "    res = [0] * len(temps)\n",
    "    stack = []\n",
    "\n",
    "    for idx, temp in enumerate(temps):\n",
    "        while stack and temp > stack[-1][0]:\n",
    "            stackT, stackIdx = stack.pop()\n",
    "            res[stackIdx] = (idx - stackIdx)\n",
    "        stack.append([temp, idx])\n",
    "\n",
    "    return res\n",
    "\n",
    "\n",
    "def daily_temperatures(temps):\n",
    "    res = [0] * len(temps)\n",
    "    stack = []\n",
    "\n",
    "    for idx, temp in enumerate(temps):\n",
    "        while stack and temp > stack[-1][0]:\n",
    "            stackT, stackIdx = stack.pop()\n",
    "            res[stackIdx] = (idx - stackIdx)\n",
    "        stack.append((temp, idx))\n",
    "    return res\n",
    "\n",
    "\n",
    "print(daily_temperatures([73, 74, 75, 71, 69, 72, 76, 73]))"
   ],
   "id": "38321711f28ab26e",
   "outputs": [
    {
     "name": "stdout",
     "output_type": "stream",
     "text": [
      "[1, 1, 4, 2, 1, 1, 2, 1]\n",
      "[1, 1, 4, 2, 1, 1, 0, 0]\n"
     ]
    }
   ],
   "execution_count": 13
  },
  {
   "metadata": {
    "ExecuteTime": {
     "end_time": "2025-07-13T17:04:06.642064Z",
     "start_time": "2025-07-13T17:04:06.634900Z"
    }
   },
   "cell_type": "code",
   "source": [
    "\"\"\"\n",
    "Online stock span\n",
    "\"\"\"\n",
    "\n",
    "\n",
    "def stock_span(prices):\n",
    "    stack = []  #(price, span)\n",
    "    res = [0] * len(prices)\n",
    "    for idx, price in enumerate(prices):\n",
    "        curspan = 1\n",
    "        while stack and price > stack[-1][0]:\n",
    "            stck_p, stck_s = stack.pop()\n",
    "            curspan += stck_s\n",
    "        res[idx] = curspan\n",
    "        stack.append((price, curspan))\n",
    "    return res\n",
    "\n",
    "\n",
    "print(stock_span([100, 80, 60, 70, 60, 75, 85]))"
   ],
   "id": "ffb2c9f3384aab30",
   "outputs": [
    {
     "name": "stdout",
     "output_type": "stream",
     "text": [
      "[1, 1, 1, 2, 1, 4, 6]\n"
     ]
    }
   ],
   "execution_count": 15
  },
  {
   "metadata": {
    "ExecuteTime": {
     "end_time": "2025-07-13T17:47:00.246353Z",
     "start_time": "2025-07-13T17:47:00.237142Z"
    }
   },
   "cell_type": "code",
   "source": [
    "\"\"\"\n",
    "Car fleet\n",
    "\"\"\"\n",
    "\n",
    "\n",
    "def car_fleet():\n",
    "    pass"
   ],
   "id": "3642bf85700e89fb",
   "outputs": [],
   "execution_count": 16
  },
  {
   "metadata": {
    "ExecuteTime": {
     "end_time": "2025-07-13T18:32:08.517086Z",
     "start_time": "2025-07-13T18:32:08.505823Z"
    }
   },
   "cell_type": "code",
   "source": [
    "\"\"\"\n",
    "Simplify path\n",
    "\"\"\"\n",
    "\n",
    "\n",
    "def simplify_path(path):\n",
    "    stack = []\n",
    "    cur = \"\"\n",
    "\n",
    "    for c in path + \"/\":\n",
    "        if c == \"/\":\n",
    "            if cur == '..':\n",
    "                if stack: stack.pop()\n",
    "            elif cur != \"\" and cur != '':\n",
    "                stack.append(cur)\n",
    "        else:\n",
    "            cur += c\n",
    "\n",
    "    return \"/\" + \"/\".join(stack)"
   ],
   "id": "3112a03652a8e0f",
   "outputs": [],
   "execution_count": 17
  },
  {
   "metadata": {},
   "cell_type": "code",
   "outputs": [],
   "execution_count": null,
   "source": [
    "\"\"\"\n",
    "Decode String\n",
    "\"\"\"\n",
    "\n",
    "\n",
    "def decodeString(s):\n",
    "    stack = []\n",
    "    for i in range(len(s)):\n",
    "        if s[i] != ']':\n",
    "            stack.append(s[i])\n",
    "\n",
    "        else:\n",
    "            substr = ''\n",
    "            while stack[-1] != '[':\n",
    "                substr = stack.pop() + substr\n",
    "            stack.pop()\n",
    "            k = ''\n",
    "            while stack and stack[-1].isdigit():\n",
    "                k = stack.pop() + k\n",
    "\n",
    "            stack.append(int(k) * substr)\n",
    "\n",
    "    return ''.join(stack)\n",
    "\n"
   ],
   "id": "f6ed8fd93e781d1c"
  }
 ],
 "metadata": {
  "kernelspec": {
   "display_name": "Python 3",
   "language": "python",
   "name": "python3"
  },
  "language_info": {
   "codemirror_mode": {
    "name": "ipython",
    "version": 2
   },
   "file_extension": ".py",
   "mimetype": "text/x-python",
   "name": "python",
   "nbconvert_exporter": "python",
   "pygments_lexer": "ipython2",
   "version": "2.7.6"
  }
 },
 "nbformat": 4,
 "nbformat_minor": 5
}
