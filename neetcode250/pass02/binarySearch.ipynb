{
 "cells": [
  {
   "cell_type": "code",
   "id": "initial_id",
   "metadata": {
    "collapsed": true,
    "ExecuteTime": {
     "end_time": "2025-07-13T21:17:04.365553Z",
     "start_time": "2025-07-13T21:17:04.359049Z"
    }
   },
   "source": [
    "\"\"\"\n",
    "Binary Search\n",
    "\"\"\"\n",
    "\n",
    "\n",
    "def binary_search(nums, target):\n",
    "    l, r = 0, len(nums) - 1\n",
    "\n",
    "    while l <= r:\n",
    "        m = (l + r) // 2\n",
    "        if nums[m] > target:\n",
    "            r = m - 1\n",
    "        elif nums[m] < target:\n",
    "            l = m + 1\n",
    "        else:\n",
    "            return m\n",
    "    return -1\n",
    "\n",
    "\n",
    "def binary_search(nums, target):\n",
    "    l, r = 0, len(nums) - 1\n",
    "\n",
    "    while l <= r:\n",
    "        m = (l + r) // 2\n",
    "        if nums[m] > target:\n",
    "            r = m - 1\n",
    "        elif nums[m] < target:\n",
    "            l = m + 1\n",
    "        else:\n",
    "            return m\n",
    "    return -1\n"
   ],
   "outputs": [],
   "execution_count": 1
  },
  {
   "metadata": {
    "ExecuteTime": {
     "end_time": "2025-07-13T22:31:49.972761Z",
     "start_time": "2025-07-13T22:31:49.964075Z"
    }
   },
   "cell_type": "code",
   "source": [
    "\"\"\"\n",
    "Find insert index\n",
    "\"\"\"\n",
    "\n",
    "\n",
    "def insert_index(nums, target):\n",
    "    l, r = 0, len(nums) - 1\n",
    "\n",
    "    while l <= r:\n",
    "        m = (l + r) // 2\n",
    "        if nums[m] > target:\n",
    "            r = m - 1\n",
    "        elif nums[m] < target:\n",
    "            l = m + 1\n",
    "        elif nums[m] == target:\n",
    "            return m\n",
    "\n",
    "    return l\n"
   ],
   "id": "5644e0efde99e05e",
   "outputs": [],
   "execution_count": 2
  },
  {
   "metadata": {
    "ExecuteTime": {
     "end_time": "2025-07-13T22:36:31.423696Z",
     "start_time": "2025-07-13T22:36:31.415798Z"
    }
   },
   "cell_type": "code",
   "source": [
    "\"\"\"\n",
    "Higher or lower\n",
    "\"\"\"\n",
    "\n",
    "\n",
    "def guess(nums):\n",
    "    pass\n",
    "\n",
    "\n",
    "def higher_or_lower(num, n, target):\n",
    "    l = 1\n",
    "    r = n\n",
    "    while True:\n",
    "        m = (l + r) // 2\n",
    "        res = guess(m)\n",
    "        if res > 0:\n",
    "            l = m + 1\n",
    "        elif res < 0:\n",
    "            r = m - 1\n",
    "        else:\n",
    "            return m"
   ],
   "id": "13654c8c758620d4",
   "outputs": [],
   "execution_count": 3
  },
  {
   "metadata": {
    "ExecuteTime": {
     "end_time": "2025-07-13T22:44:45.989581Z",
     "start_time": "2025-07-13T22:44:45.971150Z"
    }
   },
   "cell_type": "code",
   "source": [
    "\"\"\"\n",
    "Sqrt of x1\n",
    "\"\"\"\n",
    "\n",
    "\n",
    "def sqrt(x):\n",
    "    l, r = 0, x\n",
    "    res = 0\n",
    "    while l <= r:\n",
    "        m = l + ((r - l) // 2)\n",
    "        if m ** 2 > x:\n",
    "            r = m - 1\n",
    "        elif m ** 2 < x:\n",
    "            l = m + 1\n",
    "            res = m\n",
    "        else:\n",
    "            return m\n",
    "\n",
    "    return res\n"
   ],
   "id": "f59e80add06edc50",
   "outputs": [],
   "execution_count": 4
  },
  {
   "metadata": {
    "ExecuteTime": {
     "end_time": "2025-07-14T00:46:10.742728Z",
     "start_time": "2025-07-14T00:46:10.726373Z"
    }
   },
   "cell_type": "code",
   "source": [
    "\"\"\"\n",
    "Search a 2D matrix\n",
    "\"\"\"\n",
    "\n",
    "\n",
    "def searchMatrix(matrix, target):\n",
    "    ROWS, COLS = len(matrix), len(matrix[0])\n",
    "\n",
    "    top, bot = 0, ROWS - 1\n",
    "    while top <= bot:\n",
    "        row = (top + bot) // 2\n",
    "        if target > matrix[row][-1]:\n",
    "            top = row + 1\n",
    "        elif target < matrix[row][0]:\n",
    "            bot = row - 1\n",
    "        else:\n",
    "            break\n",
    "\n",
    "    if not (top <= bot):\n",
    "        return False\n",
    "\n",
    "    row = (top + bot) // 2\n",
    "    l, r = 0, COLS - 1\n",
    "    while l <= r:\n",
    "        m = (l + r) // 2\n",
    "        if target > matrix[row][m]:\n",
    "            l = m + 1\n",
    "        elif target < matrix[row][m]:\n",
    "            r = m - 1\n",
    "        else:\n",
    "            return True\n",
    "    return False\n"
   ],
   "id": "5c02cbd36f5171f3",
   "outputs": [],
   "execution_count": 5
  },
  {
   "metadata": {
    "ExecuteTime": {
     "end_time": "2025-07-14T00:46:20.146638Z",
     "start_time": "2025-07-14T00:46:20.132334Z"
    }
   },
   "cell_type": "code",
   "source": [
    "\"\"\"\n",
    "Koko eating bananas\n",
    "Pick rate k such that all piles of bananas get finished\n",
    "\"\"\"\n",
    "\n",
    "from math import ceil\n",
    "\n",
    "\n",
    "def koko_eats_bananas(piles, h):\n",
    "    l, r = 1, max(piles)\n",
    "    res = r\n",
    "\n",
    "    while l <= r:\n",
    "        k = (l + r) // 2\n",
    "        hours = 0\n",
    "        for p in piles:\n",
    "            hours += ceil(p / k)\n",
    "\n",
    "        if hours <= h:\n",
    "            res = min(res, k)\n",
    "            r = k - 1\n",
    "        else:\n",
    "            l = k + 1\n",
    "\n",
    "    return res\n",
    "\n",
    "\n",
    "def koko_eats_bananas(piles, h):\n",
    "    l, r = 1, max(piles)\n",
    "\n",
    "    res = r\n",
    "\n",
    "    while l <= r:\n",
    "        k = (l + r) // 2\n",
    "        hours = 0\n",
    "        for p in piles:\n",
    "            hours += ceil(p / k)\n",
    "\n",
    "        if hours <= h:\n",
    "            res = min(k, res)\n",
    "            r = k - 1\n",
    "        else:\n",
    "            l = k + 1\n",
    "\n",
    "    return res\n",
    "\n",
    "\n",
    "\n"
   ],
   "id": "c38044bbc64154ff",
   "outputs": [
    {
     "data": {
      "text/plain": [
       "'\\nKoko eating bananas\\n'"
      ]
     },
     "execution_count": 6,
     "metadata": {},
     "output_type": "execute_result"
    }
   ],
   "execution_count": 6
  },
  {
   "metadata": {
    "ExecuteTime": {
     "end_time": "2025-07-16T22:54:16.238914Z",
     "start_time": "2025-07-16T22:54:16.231393Z"
    }
   },
   "cell_type": "code",
   "source": [
    "\"\"\"\n",
    "Capacity to ship packages within d Days\n",
    "\"\"\"\n",
    "\n",
    "from math import ceil\n",
    "\n",
    "\n",
    "def capacity_of_ships(weights, days):\n",
    "    l, r = max(weights), sum(weights)\n",
    "    res = 0\n",
    "\n",
    "    def canShip(capacity):\n",
    "        day, currCap = 1, capacity\n",
    "        for w in weights:\n",
    "            if currCap - w < 0:\n",
    "                day += 1\n",
    "                currCap = capacity\n",
    "            currCap -= w\n",
    "        return day <= days\n",
    "\n",
    "    while l <= r:\n",
    "        cap = (l + r) // 2\n",
    "        if canShip(cap):\n",
    "            res = min(res, cap)\n",
    "            r = cap - 1\n",
    "        else:\n",
    "            l = cap + 1\n",
    "\n",
    "    return res\n",
    "\n"
   ],
   "id": "7064cbe04867c948",
   "outputs": [
    {
     "name": "stdout",
     "output_type": "stream",
     "text": [
      "10\n"
     ]
    }
   ],
   "execution_count": 2
  },
  {
   "metadata": {
    "ExecuteTime": {
     "end_time": "2025-07-17T15:42:39.103758Z",
     "start_time": "2025-07-17T15:42:39.082685Z"
    }
   },
   "cell_type": "code",
   "source": [
    "\"\"\"\n",
    "Minimum in a rotated sorted array\n",
    "\"\"\"\n",
    "\n",
    "\n",
    "#If only rots is known\n",
    "def minimum(nums, rots):\n",
    "    k = len(nums) % rots\n",
    "    return nums[k]\n",
    "\n",
    "\n",
    "def minimum_sorted(nums):\n",
    "    l, r = 0, len(nums)\n",
    "    res = nums[0]\n",
    "    while l <= r:\n",
    "        if nums[l] < nums[r]:\n",
    "            res = min(res, nums[l])\n",
    "            break\n",
    "        else:\n",
    "            m = (l + r) // 2\n",
    "            if nums[m] >= nums[l]:\n",
    "                l = m + 1\n",
    "            else:\n",
    "                r = m - 1\n",
    "\n",
    "    return res"
   ],
   "id": "826a36dbe9a2b4fb",
   "outputs": [],
   "execution_count": 3
  },
  {
   "metadata": {
    "ExecuteTime": {
     "end_time": "2025-07-18T16:17:06.499804Z",
     "start_time": "2025-07-18T16:17:06.487968Z"
    }
   },
   "cell_type": "code",
   "source": [
    "\"\"\"\n",
    "Search in a rotated sorted array\n",
    "\"\"\"\n",
    "\n",
    "\n",
    "def search_rotated(nums, target):\n",
    "    l, r = 0, len(nums) - 1\n",
    "\n",
    "    while l <= r:\n",
    "        mid = (l + r) // 2\n",
    "        if target == nums[mid]:\n",
    "            return mid\n",
    "\n",
    "        if nums[l] <= nums[mid]:\n",
    "            if target > nums[mid] or target < nums[l]:\n",
    "                l = mid + 1\n",
    "            else:\n",
    "                r = mid - 1\n",
    "\n",
    "        else:\n",
    "            if target < nums[mid] or target > nums[r]:\n",
    "                r = mid - 1\n",
    "            else:\n",
    "                l = mid + 1\n",
    "\n",
    "    return -1\n",
    "\n",
    "\n",
    "def search_rotated_again(nums, target):\n",
    "    l, r = 0, len(nums) - 1\n",
    "\n",
    "    while l <= r:\n",
    "        mid = (l + r) // 2\n",
    "        if target == nums[mid]:\n",
    "            return mid\n",
    "\n",
    "        if nums[l] < nums[mid]:\n",
    "            if target > nums[mid] or target < nums[l]:\n",
    "                l = mid + 1\n",
    "            else:\n",
    "                r = mid - 1\n",
    "\n",
    "        else:\n",
    "            if target < nums[mid] or target > nums[r]:\n",
    "                r = mid - 1\n",
    "            else:\n",
    "                l = mid + 1\n",
    "\n",
    "    return -1"
   ],
   "id": "53eeecc9b4738925",
   "outputs": [],
   "execution_count": 1
  },
  {
   "metadata": {
    "ExecuteTime": {
     "end_time": "2025-07-18T16:39:52.477104Z",
     "start_time": "2025-07-18T16:39:52.465287Z"
    }
   },
   "cell_type": "code",
   "source": [
    "\"\"\"\n",
    "Rotated array part 2\n",
    "\"\"\"\n",
    "\n",
    "\n",
    "def search(nums, target):\n",
    "    l, r = 0, len(nums) - 1\n",
    "    while l <= r:\n",
    "        m = l + (r - l) // 2\n",
    "        if target == nums[m]:\n",
    "            return True\n",
    "\n",
    "        if nums[l] < nums[m]:  #left portion of the array\n",
    "            if nums[l] <= target < nums[m]:\n",
    "                r = m - 1\n",
    "            else:\n",
    "                l = m + 1\n",
    "\n",
    "        elif nums[l] > nums[m]:  #right portion of the array\n",
    "            if nums[m] < target <= nums[r]:\n",
    "                l = m + 1\n",
    "            else:\n",
    "                r = m - 1\n",
    "\n",
    "        else:\n",
    "            l = m + 1\n",
    "\n",
    "    return False"
   ],
   "id": "a6313d52ca4c45a3",
   "outputs": [],
   "execution_count": 2
  },
  {
   "metadata": {},
   "cell_type": "code",
   "outputs": [],
   "execution_count": null,
   "source": [
    "\"\"\"\n",
    "Time based key value store\n",
    "\"\"\"\n",
    "\n"
   ],
   "id": "686e18eb0f20118c"
  }
 ],
 "metadata": {
  "kernelspec": {
   "display_name": "Python 3",
   "language": "python",
   "name": "python3"
  },
  "language_info": {
   "codemirror_mode": {
    "name": "ipython",
    "version": 2
   },
   "file_extension": ".py",
   "mimetype": "text/x-python",
   "name": "python",
   "nbconvert_exporter": "python",
   "pygments_lexer": "ipython2",
   "version": "2.7.6"
  }
 },
 "nbformat": 4,
 "nbformat_minor": 5
}
