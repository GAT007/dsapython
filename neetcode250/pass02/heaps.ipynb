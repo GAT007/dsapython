{
 "cells": [
  {
   "metadata": {},
   "cell_type": "markdown",
   "source": "# Heaps",
   "id": "5bc3cafb31ff3628"
  },
  {
   "cell_type": "code",
   "id": "initial_id",
   "metadata": {
    "collapsed": true,
    "ExecuteTime": {
     "end_time": "2025-07-21T02:52:06.475409Z",
     "start_time": "2025-07-21T02:52:06.463828Z"
    }
   },
   "source": [
    "\"\"\"\n",
    "Kth largest element in a stream\n",
    "\"\"\"\n",
    "\n",
    "import heapq\n",
    "\n",
    "\n",
    "class KthLargest:\n",
    "    def __init__(self, k, nums):\n",
    "        self.minHeap, self.k = nums, k\n",
    "        heapq.heapify(self.minHeap)  # O(n) time\n",
    "        while len(self.minHeap) > k:\n",
    "            heapq.heappop(self.minHeap)\n",
    "\n",
    "    def add(self, val: int):\n",
    "        heapq.heappush(self.minHeap, val)\n",
    "        while len(self.minHeap) > self.k:\n",
    "            heapq.heappop(self.minHeap)\n",
    "        return self.minHeap[0]\n"
   ],
   "outputs": [],
   "execution_count": 1
  },
  {
   "metadata": {
    "ExecuteTime": {
     "end_time": "2025-07-21T22:40:09.118858Z",
     "start_time": "2025-07-21T22:40:09.113408Z"
    }
   },
   "cell_type": "code",
   "source": [
    "\"\"\"\n",
    "Last Stone weight\n",
    "\"\"\"\n",
    "\n",
    "import heapq\n",
    "\n",
    "\n",
    "def last_stone_weight(weights):\n",
    "    for i in range(len(weights)):\n",
    "        weights[i] *= -1\n",
    "\n",
    "    heapq.heapify(weights)\n",
    "\n",
    "    while len(weights) > 1:\n",
    "        stone1 = heapq.heappop(weights) * -1\n",
    "        stone2 = heapq.heappop(weights) * -1\n",
    "        if stone1 - stone2 != 0:\n",
    "            heapq.heappush(weights, stone1 - stone2)\n",
    "\n",
    "    return weights[0]\n",
    "\n",
    "\n",
    "print(last_stone_weight([2, 7, 4, 1, 8, 1]))"
   ],
   "id": "1bf4143420bbdc53",
   "outputs": [
    {
     "name": "stdout",
     "output_type": "stream",
     "text": [
      "1\n"
     ]
    }
   ],
   "execution_count": 3
  },
  {
   "metadata": {
    "ExecuteTime": {
     "end_time": "2025-07-21T22:48:03.123631Z",
     "start_time": "2025-07-21T22:48:03.115794Z"
    }
   },
   "cell_type": "code",
   "source": [
    "from math import sqrt\n",
    "import heapq\n",
    "\n",
    "\n",
    "def kclosestpoints(points, k):\n",
    "    res = []\n",
    "    for xi, yi in points:\n",
    "        dst = -sqrt((xi ** 2) + (yi ** 2))\n",
    "        if len(res) < k:\n",
    "            heapq.heappush(res, (dst, xi, yi))\n",
    "        else:\n",
    "            heapq.heappushpop(res, (dst, xi, yi))\n",
    "\n",
    "    return [(xi, yi) for dst, xi, yi in res]"
   ],
   "id": "7e3c0d4eb50d6460",
   "outputs": [],
   "execution_count": 4
  },
  {
   "metadata": {
    "ExecuteTime": {
     "end_time": "2025-07-21T23:21:27.026103Z",
     "start_time": "2025-07-21T23:21:27.018984Z"
    }
   },
   "cell_type": "code",
   "source": [
    "\"\"\"\n",
    "Kth Largest element in an array\n",
    "\"\"\"\n",
    "\n",
    "import heapq\n",
    "\n",
    "\n",
    "def kthlargestElement(nums, k):\n",
    "    heap = []\n",
    "\n",
    "    for i in nums:\n",
    "        heapq.heappush(heap, i)\n",
    "\n",
    "    for i in range((len(nums)) - k):\n",
    "        heapq.heappop(heap)\n",
    "\n",
    "    return heapq.heappop(heap)"
   ],
   "id": "5581561c1b4d1193",
   "outputs": [],
   "execution_count": 5
  },
  {
   "metadata": {
    "ExecuteTime": {
     "end_time": "2025-07-22T00:21:41.841619Z",
     "start_time": "2025-07-22T00:21:41.829317Z"
    }
   },
   "cell_type": "code",
   "source": [
    "\"\"\"\n",
    "Single Threaded CPU\n",
    "\"\"\"\n",
    "\n",
    "\n",
    "def single_threaded_cpu(tasks):\n",
    "    for i, t in enumerate(tasks):\n",
    "        t.append(i)\n",
    "    tasks.sort(key=lambda t: t[0])\n",
    "\n",
    "    res, minHeap = [], []\n",
    "\n",
    "    i, time = 0, tasks[0][0]\n",
    "\n",
    "    while minHeap or i < len(tasks):\n",
    "        while i < len(tasks) and time >= tasks[i][0]:\n",
    "            heapq.heappush(minHeap, [tasks[i][1], tasks[i][2]])\n",
    "            i += 1\n",
    "\n",
    "        if not minHeap:\n",
    "            time = tasks[i][0]\n",
    "        else:\n",
    "            procTime, index = heapq.heappop(minHeap)\n",
    "            time += procTime\n",
    "            res.append(index)\n",
    "\n",
    "    return res"
   ],
   "id": "8c73a252305d4b52",
   "outputs": [],
   "execution_count": 6
  },
  {
   "metadata": {
    "ExecuteTime": {
     "end_time": "2025-07-22T00:30:58.877956Z",
     "start_time": "2025-07-22T00:30:58.872520Z"
    }
   },
   "cell_type": "code",
   "source": [
    "\"\"\"\n",
    "Reorganize String\n",
    "\n",
    "Given a string s, rearrange the charcaters of s so that any two adjacent characters are not the same\n",
    "\"\"\"\n",
    "from collections import Counter\n",
    "\n",
    "\n",
    "def reorganizeString(s):\n",
    "    count = Counter(s)\n",
    "    maxHeap = [[-cnt, char] for char, cnt in count.items()]\n",
    "    heapq.heapify(maxHeap)\n",
    "\n",
    "    prev = None\n",
    "    res = \"\"\n",
    "    while maxHeap or prev:\n",
    "        if prev and not maxHeap:\n",
    "            return \"\"\n",
    "\n",
    "        cnt, char = heapq.heappop(maxHeap)\n",
    "        res += char\n",
    "        cnt += 1\n",
    "\n",
    "        if prev:\n",
    "            heapq.heappush(maxHeap, prev)\n",
    "            prev = None\n",
    "\n",
    "        if cnt != 0:\n",
    "            prev = [cnt, char]\n",
    "\n",
    "    return res\n",
    "\n"
   ],
   "id": "fa399c31eaa2c55b",
   "outputs": [],
   "execution_count": 7
  },
  {
   "metadata": {
    "ExecuteTime": {
     "end_time": "2025-07-22T00:43:56.645687Z",
     "start_time": "2025-07-22T00:43:56.638542Z"
    }
   },
   "cell_type": "code",
   "source": [
    "\"\"\"\n",
    "Longest possible happy string\n",
    "\"\"\"\n",
    "\n",
    "\n",
    "def happy_string(a, b, c):\n",
    "    res, maxHeap = \"\", []\n",
    "    for count, char in [(-a, \"a\"), (-b, \"b\"), (-c, \"c\")]:\n",
    "        if count != 0:\n",
    "            heapq.heappush(maxHeap, (count, char))\n",
    "\n",
    "    while maxHeap:\n",
    "        count, char = heapq.heappop(maxHeap)\n",
    "        if len(res) > 1 and res[-1] == res[-2] == char:\n",
    "            if not maxHeap:\n",
    "                break\n",
    "\n",
    "            count2, char2 = heapq.heappop(maxHeap)\n",
    "            res += char2\n",
    "            count2 += 1\n",
    "\n",
    "            if count2: heapq.heappush(maxHeap, (count2, char2))\n",
    "\n",
    "        else:\n",
    "            res += char\n",
    "            count += 1\n",
    "\n",
    "        if count:\n",
    "            heapq.heappush(maxHeap, (count, char))\n",
    "\n",
    "    return res\n",
    "\n",
    "\n",
    "print(happy_string(6, 3, 2))"
   ],
   "id": "db0042090eefec13",
   "outputs": [
    {
     "name": "stdout",
     "output_type": "stream",
     "text": [
      "aabaabacabc\n"
     ]
    }
   ],
   "execution_count": 12
  },
  {
   "metadata": {},
   "cell_type": "code",
   "outputs": [],
   "execution_count": null,
   "source": [
    "def carpooling(trips, capacity):\n",
    "    trips.sort(key=lambda t: t[1])\n",
    "\n",
    "    minHeap = []  # pair of [end, numPassengers]\n",
    "    curPass = 0\n",
    "    for t in trips:\n",
    "        numPass, start, end = t\n",
    "        while minHeap and minHeap[0]:\n",
    "            curPass -= minHeap[0][1]\n",
    "            heapq.heappop(minHeap)\n",
    "\n",
    "        curPass += numPass\n",
    "        if curPass > capacity:\n",
    "            return False\n",
    "\n",
    "        heapq.heappush(minHeap, [start, numPass])\n",
    "\n",
    "    return True\n"
   ],
   "id": "eea73bf19e864cd"
  }
 ],
 "metadata": {
  "kernelspec": {
   "display_name": "Python 3",
   "language": "python",
   "name": "python3"
  },
  "language_info": {
   "codemirror_mode": {
    "name": "ipython",
    "version": 2
   },
   "file_extension": ".py",
   "mimetype": "text/x-python",
   "name": "python",
   "nbconvert_exporter": "python",
   "pygments_lexer": "ipython2",
   "version": "2.7.6"
  }
 },
 "nbformat": 4,
 "nbformat_minor": 5
}
