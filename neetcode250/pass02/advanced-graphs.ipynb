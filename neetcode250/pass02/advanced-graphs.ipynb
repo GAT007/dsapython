{
 "cells": [
  {
   "metadata": {},
   "cell_type": "markdown",
   "source": "# Advanced Graphs",
   "id": "bfacca8b11e59e9a"
  },
  {
   "cell_type": "code",
   "id": "initial_id",
   "metadata": {
    "collapsed": true,
    "ExecuteTime": {
     "end_time": "2025-07-28T13:58:27.440163Z",
     "start_time": "2025-07-28T13:58:27.426281Z"
    }
   },
   "source": [
    "\"\"\"\n",
    "Path with minimum effort\n",
    "\n",
    "O(m * n * log(m*n)\n",
    "\n",
    "BFS is natural when you are trying to find the shortest minimum path\n",
    "\"\"\"\n",
    "\n",
    "import heapq\n",
    "\n",
    "\n",
    "def minEffortPath(heights):\n",
    "    ROWS, COLS = len(heights), len(heights[0])\n",
    "\n",
    "    minHeap = [[0, 0, 0]]  #[diff, r, c]\n",
    "\n",
    "    visit = set()\n",
    "    directions = [[0, 1], [0, -1], [1, 0], [-1, 0]]\n",
    "\n",
    "    while minHeap:\n",
    "        #Pop the minimum value from the minHeap\n",
    "        diff, r, c = heapq.heappop(minHeap)\n",
    "\n",
    "        #Put it in the visited set\n",
    "        if (r, c) in visit:\n",
    "            continue\n",
    "\n",
    "        #Add the node to the visited set\n",
    "        visit.add((r, c))\n",
    "\n",
    "        #If you have reached the last distance, return the min effort in the distance\n",
    "        if (r, c) == (ROWS - 1, COLS - 1):\n",
    "            return diff\n",
    "\n",
    "        #Iterate through your directions array\n",
    "        for dr, dc in directions:\n",
    "            #Create your new row and new col values\n",
    "            newR, newC = r + dr, c + dc\n",
    "            #Check if they are out of bounds\n",
    "            #They are out of bounds if\n",
    "            #1. They go below zero\n",
    "            #2. They go over the ROWS or COLS value\n",
    "            #3. If they are in the visited set already\n",
    "            if (\n",
    "                    newR < 0 or newC < 0 or\n",
    "                    newR >= ROWS or newC >= COLS or\n",
    "                    (newR, newC) in visit\n",
    "            ):\n",
    "                continue\n",
    "\n",
    "            #Calculate the new diff, the max between the previous diff and the abs diff between the new height and prev one\n",
    "            newDiff = max(diff, abs(heights[r][c] - heights[newR][newC]))\n",
    "            #Push these values onto the heap\n",
    "            heapq.heappush(minHeap, [newDiff, newR, newC])\n",
    "\n",
    "            #Here, essentially instead of a regular queue you are using a min heap to represent a priority queue\n",
    "\n",
    "    return 0"
   ],
   "outputs": [],
   "execution_count": 1
  },
  {
   "metadata": {},
   "cell_type": "code",
   "outputs": [],
   "execution_count": null,
   "source": [
    "\"\"\"\n",
    "Network delay time\n",
    "\"\"\""
   ],
   "id": "8ac7e30e3d64d9b6"
  }
 ],
 "metadata": {
  "kernelspec": {
   "display_name": "Python 3",
   "language": "python",
   "name": "python3"
  },
  "language_info": {
   "codemirror_mode": {
    "name": "ipython",
    "version": 2
   },
   "file_extension": ".py",
   "mimetype": "text/x-python",
   "name": "python",
   "nbconvert_exporter": "python",
   "pygments_lexer": "ipython2",
   "version": "2.7.6"
  }
 },
 "nbformat": 4,
 "nbformat_minor": 5
}
