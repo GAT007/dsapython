{
 "cells": [
  {
   "metadata": {},
   "cell_type": "markdown",
   "source": "# 2D Dynamic Programming",
   "id": "8794e341e6bf1629"
  },
  {
   "cell_type": "code",
   "id": "initial_id",
   "metadata": {
    "collapsed": true,
    "ExecuteTime": {
     "end_time": "2025-07-29T23:57:07.480769Z",
     "start_time": "2025-07-29T23:57:07.468402Z"
    }
   },
   "source": [
    "\"\"\"\n",
    "Unique paths\n",
    "\"\"\"\n",
    "\n",
    "\n",
    "def uniquePaths(m, n):\n",
    "    row = [1] * n\n",
    "\n",
    "    for i in range(m - 1):\n",
    "        newRow = [1] * n\n",
    "        for j in range(n - 2, -1, -1):\n",
    "            newRow[j] = newRow[j + 1] + row[j]\n",
    "        row = newRow\n",
    "    return row[0]"
   ],
   "outputs": [],
   "execution_count": 1
  },
  {
   "metadata": {
    "ExecuteTime": {
     "end_time": "2025-07-30T00:14:16.354961Z",
     "start_time": "2025-07-30T00:14:16.345822Z"
    }
   },
   "cell_type": "code",
   "source": [
    "\"\"\"\n",
    "Unique paths 2 : Same as above but with obastacles\n",
    "\"\"\"\n",
    "\n",
    "\n",
    "def unique_paths_2(grid):\n",
    "    m, n = len(grid), len(grid[0])\n",
    "    dp = [0] * n\n",
    "    dp[n - 1] = 1\n",
    "\n",
    "    for r in reversed(range(m)):\n",
    "        for c in reversed(range(n)):\n",
    "            if grid[r][c]:\n",
    "                dp[c] = 0\n",
    "            elif c + 1 < n:\n",
    "                dp[c] = dp[c] + dp[c + 1]\n",
    "            else:\n",
    "                dp[c] = dp[c] + dp[c + 1]\n",
    "    return dp[0]\n"
   ],
   "id": "63d63c42f931570",
   "outputs": [],
   "execution_count": 2
  },
  {
   "metadata": {
    "ExecuteTime": {
     "end_time": "2025-08-05T02:29:32.978399Z",
     "start_time": "2025-08-05T02:29:32.962708Z"
    }
   },
   "cell_type": "code",
   "source": [
    "\"\"\"\n",
    "Minimum path sum\n",
    "\"\"\"\n",
    "\n",
    "\n",
    "def min_path_sum(grid):\n",
    "    ROWS, COLS = len(grid), len(grid[0])\n",
    "\n",
    "    #Create you imaginary rows with infinite values\n",
    "    res = [[float('inf') * (COLS + 1) for r in range(ROWS + 1)]]\n",
    "    res[ROWS - 1][COLS] = 0\n",
    "\n",
    "    #Iterate through every column and row getting the minimum from it's surroundings and compute back to the 0th row\n",
    "\n",
    "    for r in range(ROWS - 1, -1, -1):\n",
    "        for c in range(COLS - 1, -1, -1):\n",
    "            res[r][c] = grid[r][c] + min(res[r + 1][c], res[r][c + 1])\n",
    "\n",
    "    return res[0][0]"
   ],
   "id": "6c79a5984b993c1b",
   "outputs": [],
   "execution_count": 1
  },
  {
   "metadata": {
    "ExecuteTime": {
     "end_time": "2025-08-05T03:37:55.181812Z",
     "start_time": "2025-08-05T03:37:55.171642Z"
    }
   },
   "cell_type": "code",
   "source": [
    "\"\"\"\n",
    "Longest common subsequence\n",
    "\"\"\"\n",
    "\n",
    "\n",
    "def lcs(text1, text2):\n",
    "    dp = [[0 for j in range(len(text2) + 1)] for i in range(len(text1) + 1)]\n",
    "\n",
    "    for i in range(len(text1) - 1, -1, -1):\n",
    "        for j in range(len(text2) - 1, -1, -1):\n",
    "            if text1[i] == text2[j]:\n",
    "                dp[i][j] = 1 + dp[i + 1][j + 1]\n",
    "            else:\n",
    "                dp[i][j] = max(dp[i][j + 1], dp[i + 1][j])\n",
    "\n",
    "    return dp[0][0]\n"
   ],
   "id": "dbd29f76b88897f5",
   "outputs": [],
   "execution_count": 2
  },
  {
   "metadata": {},
   "cell_type": "code",
   "outputs": [],
   "execution_count": null,
   "source": [
    "\"\"\"\n",
    "Last stone weight 2\n",
    "Sum it the array, divide by two\n",
    "Bounded knapsack problem\n",
    "\n",
    "\"\"\"\n",
    "\n"
   ],
   "id": "b95646ed01acd032"
  }
 ],
 "metadata": {
  "kernelspec": {
   "display_name": "Python 3",
   "language": "python",
   "name": "python3"
  },
  "language_info": {
   "codemirror_mode": {
    "name": "ipython",
    "version": 2
   },
   "file_extension": ".py",
   "mimetype": "text/x-python",
   "name": "python",
   "nbconvert_exporter": "python",
   "pygments_lexer": "ipython2",
   "version": "2.7.6"
  }
 },
 "nbformat": 4,
 "nbformat_minor": 5
}
