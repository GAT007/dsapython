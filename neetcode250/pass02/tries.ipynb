{
 "cells": [
  {
   "metadata": {},
   "cell_type": "markdown",
   "source": "# Tries",
   "id": "e6c50a4b835d2baa"
  },
  {
   "cell_type": "code",
   "id": "initial_id",
   "metadata": {
    "collapsed": true,
    "ExecuteTime": {
     "end_time": "2025-07-26T16:47:31.118831Z",
     "start_time": "2025-07-26T16:47:31.095496Z"
    }
   },
   "source": [
    "\"\"\"\n",
    "Implement Trie (Prefix Tree)\n",
    "Used to efficiently store and retrieve keys\n",
    "\"\"\"\n",
    "\n",
    "\n",
    "class TrieNode:\n",
    "    def __init__(self):\n",
    "        self.children = {}\n",
    "        self.endOfWord = False\n",
    "\n",
    "\n",
    "class Trie:\n",
    "    def __init__(self):\n",
    "        self.root = TrieNode()\n",
    "\n",
    "    def inserts(self, word):\n",
    "        cur = self.root\n",
    "\n",
    "        for c in word:\n",
    "            if c not in cur.children:\n",
    "                cur.children[c] = TrieNode()\n",
    "            cur = cur.children[c]\n",
    "        cur.endOfWord = True\n",
    "\n",
    "    def search(self, word):\n",
    "        cur = self.root\n",
    "\n",
    "        for c in word:\n",
    "            if c not in cur.children:\n",
    "                return False\n",
    "\n",
    "            cur = cur.children[c]\n",
    "\n",
    "        return cur.endOfWord\n",
    "\n",
    "    def startsWith(self, prefix):\n",
    "        cur = self.root\n",
    "        for c in prefix:\n",
    "            if c not in cur.children:\n",
    "                return False\n",
    "            cur = cur.children[c]\n",
    "\n",
    "        return True\n",
    "\n"
   ],
   "outputs": [],
   "execution_count": 1
  },
  {
   "metadata": {
    "ExecuteTime": {
     "end_time": "2025-07-26T21:54:46.070209Z",
     "start_time": "2025-07-26T21:54:46.033694Z"
    }
   },
   "cell_type": "code",
   "source": [
    "\"\"\"\n",
    "Design add and search words in a tree data structure\n",
    "\"\"\"\n",
    "\n"
   ],
   "id": "d8e59b418204c8f3",
   "outputs": [
    {
     "data": {
      "text/plain": [
       "'\\nDesign add and search words in a tree data structure\\n'"
      ]
     },
     "execution_count": 2,
     "metadata": {},
     "output_type": "execute_result"
    }
   ],
   "execution_count": 2
  },
  {
   "metadata": {},
   "cell_type": "code",
   "outputs": [],
   "execution_count": null,
   "source": [
    "\"\"\"\n",
    "\n",
    "\"\"\""
   ],
   "id": "b49d2e36eec3e1e6"
  }
 ],
 "metadata": {
  "kernelspec": {
   "display_name": "Python 3",
   "language": "python",
   "name": "python3"
  },
  "language_info": {
   "codemirror_mode": {
    "name": "ipython",
    "version": 2
   },
   "file_extension": ".py",
   "mimetype": "text/x-python",
   "name": "python",
   "nbconvert_exporter": "python",
   "pygments_lexer": "ipython2",
   "version": "2.7.6"
  }
 },
 "nbformat": 4,
 "nbformat_minor": 5
}
