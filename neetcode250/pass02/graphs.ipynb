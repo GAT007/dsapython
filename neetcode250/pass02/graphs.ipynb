{
 "cells": [
  {
   "metadata": {},
   "cell_type": "markdown",
   "source": "# Graphs",
   "id": "d8deb9a90eda6014"
  },
  {
   "cell_type": "code",
   "id": "initial_id",
   "metadata": {
    "collapsed": true,
    "ExecuteTime": {
     "end_time": "2025-07-26T22:23:41.462382Z",
     "start_time": "2025-07-26T22:23:41.445299Z"
    }
   },
   "source": [
    "\"\"\"\n",
    "Perimeter of the island\n",
    "\"\"\"\n",
    "\n",
    "\n",
    "def perimeter(graph):\n",
    "    visit = set()\n",
    "    ROWS = len(graph)\n",
    "    COLS = len(graph[0])\n",
    "\n",
    "    def dfs(i, j):\n",
    "        if i >= ROWS or j >= COLS or i < 0 or j < 0 or graph[i][j] == 0:\n",
    "            return 1\n",
    "        if (i, j) in visit:\n",
    "            return 0\n",
    "\n",
    "        visit.add((i, j))\n",
    "        dir = [(1, 0), (-1, 0), (0, 1), (0, -1)]\n",
    "        perim = 0\n",
    "        for dr, dc in dir:\n",
    "            perim += dfs(i + dr, j + dc)\n",
    "        return perim\n",
    "\n",
    "    for i in ROWS:\n",
    "        for j in COLS:\n",
    "            if graph[i][j] == '1':\n",
    "                return dfs(i, j)\n",
    "\n",
    "    return 0"
   ],
   "outputs": [],
   "execution_count": 1
  },
  {
   "metadata": {
    "ExecuteTime": {
     "end_time": "2025-07-26T22:41:51.267788Z",
     "start_time": "2025-07-26T22:41:51.251701Z"
    }
   },
   "cell_type": "code",
   "source": [
    "\"\"\"\n",
    "Verifying an alien dictionary\n",
    "\"\"\"\n",
    "\n",
    "\n",
    "def isAlienSorted(words, order):\n",
    "    # first differing char\n",
    "    # if word A is prefix of word B, word B must be after word A\n",
    "\n",
    "    orderInd = {c: i for i, c in enumerate(order)}\n",
    "\n",
    "    for i in range(len(words) - 1):\n",
    "        w1, w2 = words[i], words[i + 1]\n",
    "\n",
    "        for j in range(len(w1)):\n",
    "            if j == len(w2):\n",
    "                return False\n",
    "\n",
    "            if w1[j] != w2[j]:\n",
    "                if orderInd[w2[j]] < orderInd[w1[j]]:\n",
    "                    return False\n",
    "\n",
    "                break\n",
    "\n",
    "    return True\n",
    "\n",
    "\n"
   ],
   "id": "95ca10ff26bf0211",
   "outputs": [],
   "execution_count": 2
  },
  {
   "metadata": {
    "ExecuteTime": {
     "end_time": "2025-07-26T22:49:32.757718Z",
     "start_time": "2025-07-26T22:49:32.742470Z"
    }
   },
   "cell_type": "code",
   "source": [
    "\"\"\"\n",
    "Find the town judge\n",
    "\"\"\"\n",
    "\n",
    "from collections import defaultdict\n",
    "\n",
    "\n",
    "def town_judge(n, trust):\n",
    "    incoming = defaultdict(int)\n",
    "    outgoing = defaultdict(int)\n",
    "\n",
    "    for i, o in trust:\n",
    "        incoming[o] += 1\n",
    "        outgoing[i] += 1\n",
    "\n",
    "    exists = 0\n",
    "\n",
    "    for i in range(1, n):\n",
    "        if incoming[i] > 0 and outgoing[i] == 0:\n",
    "            return i\n",
    "\n",
    "    return -1\n"
   ],
   "id": "78425220d421ee96",
   "outputs": [],
   "execution_count": 3
  },
  {
   "metadata": {
    "ExecuteTime": {
     "end_time": "2025-07-26T23:27:31.596001Z",
     "start_time": "2025-07-26T23:27:31.586373Z"
    }
   },
   "cell_type": "code",
   "source": [
    "\"\"\"\n",
    "Number of islands\n",
    "\"\"\"\n",
    "\n",
    "from collections import deque\n",
    "\n",
    "\n",
    "def number_of_islands(grid):\n",
    "    ROWS = len(grid)\n",
    "    COLS = len(grid[0])\n",
    "    number = 0\n",
    "\n",
    "    visited = set()\n",
    "\n",
    "    def bfs(r, c):\n",
    "        q = deque([(r, c)])\n",
    "        while q:\n",
    "            ro, co = q.popleft()\n",
    "            dir = [[1, 0], [-1, 0], [0, 1], [0, -1]]\n",
    "            for dr, dc in dir:\n",
    "                n_r = dr + ro\n",
    "                n_c = dc + co\n",
    "                if n_r < ROWS and n_c < COLS and (n_r, n_c) not in visited and grid[n_r][n_c] == 1:\n",
    "                    q.append((n_r, n_c))\n",
    "                    visited.add((n_r, n_c))\n",
    "\n",
    "    for row in ROWS:\n",
    "        for col in COLS:\n",
    "            if (row, col) not in visited and grid[row][col] == 1:\n",
    "                visited.add((row, col))\n",
    "                bfs(row, col)\n",
    "                number += 1\n",
    "\n",
    "    return number\n"
   ],
   "id": "86d69aff0931437b",
   "outputs": [],
   "execution_count": 4
  },
  {
   "metadata": {
    "ExecuteTime": {
     "end_time": "2025-07-26T23:27:31.740416Z",
     "start_time": "2025-07-26T23:27:31.735734Z"
    }
   },
   "cell_type": "code",
   "source": [
    "\"\"\"\n",
    "Area of an island\n",
    "\"\"\"\n",
    "\n",
    "from collections import deque\n",
    "\n",
    "\n",
    "def area_of_island(grid):\n",
    "    ROWS = len(grid)\n",
    "    COLS = len(grid[0])\n",
    "    max_area = float('-inf')\n",
    "    visited = set()\n",
    "\n",
    "    def bfs(r, c):\n",
    "        q = deque([(r, c)])\n",
    "        visited.add((r, c))\n",
    "        area = 1\n",
    "        while q:\n",
    "            ro, co = q.popleft()\n",
    "            dir = [[1, 0], [-1, 0], [0, 1], [0, -1]]\n",
    "            for dr, dc in dir:\n",
    "                n_r = dr + ro\n",
    "                n_c = dc + co\n",
    "                if 0 <= n_r < ROWS and 0 <= n_c < COLS and grid[n_r][n_c] == '1' and (n_r, n_c) not in visited:\n",
    "                    visited.add((n_r, n_c))\n",
    "                    area += 1\n",
    "        return area\n",
    "\n",
    "    for r in range(ROWS):\n",
    "        for c in range(COLS):\n",
    "            if (r, c) not in visited and grid[r][c] == '1':\n",
    "                area = bfs(r, c)\n",
    "                max_area = max(area, max_area)\n",
    "\n",
    "    return max_area\n"
   ],
   "id": "6bc4edad95197036",
   "outputs": [],
   "execution_count": null
  },
  {
   "metadata": {
    "ExecuteTime": {
     "end_time": "2025-07-27T00:21:50.053345Z",
     "start_time": "2025-07-27T00:21:50.038944Z"
    }
   },
   "cell_type": "code",
   "source": [
    "\"\"\"\n",
    "Clone a graph\n",
    "\"\"\"\n",
    "\n",
    "\n",
    "class Node:\n",
    "    def __init__(self, val=0, neighbors=None):\n",
    "        self.val = val\n",
    "        self.neighbors = neighbors if neighbors is not None else []\n",
    "\n",
    "\n",
    "def cloneGraph(node):\n",
    "    if not node:\n",
    "        return None\n",
    "\n",
    "    oldToNew = {}\n",
    "\n",
    "    def dfs(node):\n",
    "        if node in oldToNew:\n",
    "            return oldToNew[node]\n",
    "\n",
    "        copy = Node(node.val)\n",
    "        oldToNew[node] = copy\n",
    "        for nei in node.neighbors:\n",
    "            copy.neighbors.append(dfs(nei))\n",
    "        return copy\n",
    "\n",
    "    return dfs(node)\n"
   ],
   "id": "533e5ca79a05134b",
   "outputs": [],
   "execution_count": 5
  },
  {
   "metadata": {
    "ExecuteTime": {
     "end_time": "2025-07-27T00:37:14.562756Z",
     "start_time": "2025-07-27T00:37:14.553183Z"
    }
   },
   "cell_type": "code",
   "source": [
    "\"\"\"\n",
    "Islands and treasure/Walls and gates\n",
    "\"\"\"\n",
    "\n",
    "\n",
    "def wallsAndGates(rooms):\n",
    "    ROWS, COLS = len(rooms), len(rooms[0])\n",
    "    visit = set()\n",
    "    q = deque()\n",
    "\n",
    "    def addRoom(r, c):\n",
    "        if (r < 0 or r == ROWS or c < 0 or c == COLS or (r, c) in visit or rooms[r][c] == -1):\n",
    "            return\n",
    "        visit.add((r, c))\n",
    "        q.append((r, c))\n",
    "\n",
    "    for r in range(ROWS):\n",
    "        for c in range(COLS):\n",
    "            if rooms[r][c] == 0:\n",
    "                q.append((r, c))\n",
    "                visit.add((r, c))\n",
    "\n",
    "    dist = 0\n",
    "    while q:\n",
    "        for i in range(len(q)):\n",
    "            r, c = q.popleft()\n",
    "\n",
    "            rooms[r][c] = dist\n",
    "            addRoom(r + 1, c)\n",
    "            addRoom(r - 1, c)\n",
    "            addRoom(r, c + 1)\n",
    "            addRoom(r, c - 1)\n",
    "\n",
    "        dist += 1"
   ],
   "id": "577a57bab68bd453",
   "outputs": [],
   "execution_count": 6
  },
  {
   "metadata": {
    "ExecuteTime": {
     "end_time": "2025-07-27T00:57:12.160608Z",
     "start_time": "2025-07-27T00:57:12.147567Z"
    }
   },
   "cell_type": "code",
   "source": [
    "\"\"\"\n",
    "Rotting fruit\n",
    "\"\"\"\n",
    "\n",
    "\n",
    "def rotting_fruit(grid):\n",
    "    q = deque()\n",
    "    time, fresh = 0, 0\n",
    "\n",
    "    ROWS, COLS = len(grid), len(grid[0])\n",
    "    for r in range(ROWS):\n",
    "        for c in range(COLS):\n",
    "            if grid[r][c] == 1:\n",
    "                fresh += 1\n",
    "            if grid[r][c] == 2:\n",
    "                q.append([r, c])\n",
    "\n",
    "    directions = [[0, 1], [0, -1], [1, 0], [-1, 0]]\n",
    "\n",
    "    while q and fresh > 0:\n",
    "        for i in range(len(q)):\n",
    "            r, c = q.popleft()\n",
    "            for dr, dc in directions:\n",
    "                row, col = dr + r, dc + c\n",
    "                if (row < 0 or row == ROWS) or (col < 0 or col == COLS) or grid[row][col] != 1:\n",
    "                    continue\n",
    "\n",
    "                grid[row][col] = 2\n",
    "                q.append([row, col])\n",
    "                fresh -= 1\n",
    "            time += 1\n",
    "\n",
    "    return time if fresh == 0 else -1\n",
    "\n"
   ],
   "id": "e902f255e82c7be5",
   "outputs": [],
   "execution_count": 7
  },
  {
   "metadata": {
    "ExecuteTime": {
     "end_time": "2025-07-27T14:15:43.014373Z",
     "start_time": "2025-07-27T14:15:42.994790Z"
    }
   },
   "cell_type": "code",
   "source": [
    "\"\"\"\n",
    "Pacific Atlantic Ocean\n",
    "\"\"\"\n",
    "\n",
    "\n",
    "def pacificAtlantic(heights):\n",
    "    ROWS, COLS = len(heights), len(heights[0])\n",
    "    pac, atl = set(), set()\n",
    "\n",
    "    def dfs(r, c, visit, prevHeight):\n",
    "        if ((r, c) in visit or r < 0 or c < 0 or r == ROWS or c == COLS or heights[r][c] < prevHeight):\n",
    "            return\n",
    "        visit.add((r, c))\n",
    "        dfs(r + 1, c, visit, heights[r][c])\n",
    "        dfs(r - 1, c, visit, heights[r][c])\n",
    "        dfs(r, c + 1, visit, heights[r][c])\n",
    "        dfs(r, c - 1, visit, heights[r][c])\n",
    "\n",
    "    for c in range(COLS):\n",
    "        dfs(0, c, pac, heights[0][c])\n",
    "        dfs(ROWS - 1, c, atl, heights[ROWS - 1][c])\n",
    "\n",
    "    for r in range(ROWS):\n",
    "        dfs(r, 0, pac, heights[r][0])\n",
    "        dfs(r, COLS - 1, atl, heights[r][COLS - 1])\n",
    "\n",
    "    res = []\n",
    "    for r in range(ROWS):\n",
    "        for c in range(COLS):\n",
    "            if (r, c) in pac and (r, c) in atl:\n",
    "                res.append([r, c])\n",
    "\n",
    "    return res\n",
    "\n"
   ],
   "id": "92fe3bcbcf8c9539",
   "outputs": [],
   "execution_count": 9
  },
  {
   "metadata": {
    "ExecuteTime": {
     "end_time": "2025-07-27T16:13:38.977637Z",
     "start_time": "2025-07-27T16:13:38.969310Z"
    }
   },
   "cell_type": "code",
   "source": [
    "\"\"\"\n",
    "Surrounded Regions\n",
    "\"\"\"\n",
    "\n",
    "\n",
    "def solve(board):\n",
    "    ROWS, COLS = len(board), len(board[0])\n",
    "\n",
    "    def capture(r, c):\n",
    "        if (r < 0 or c < 0 or r == ROWS or c == COLS or board[r][c] != 'O'):\n",
    "            return\n",
    "        board[r][c] = 'T'\n",
    "        capture(r + 1, c)\n",
    "        capture(r - 1, c)\n",
    "        capture(r, c + 1)\n",
    "        capture(r, c - 1)\n",
    "\n",
    "    #Capture unsurrounded regions (o->t)\n",
    "    for r in range(ROWS):\n",
    "        for c in range(COLS):\n",
    "            if (board[r][c] == 'O' and r in [0, ROWS - 1] or c in [0, COLS - 1]):\n",
    "                capture(r, c)\n",
    "    #Capture surrounded regions (o->x)\n",
    "    for r in range(ROWS):\n",
    "        for c in range(COLS):\n",
    "            if board[r][c] == 'O':\n",
    "                board[r][c] = 'X'\n",
    "    #Uncapture unsurrounded regions(t->o)\n",
    "    for r in range(ROWS):\n",
    "        for c in range(COLS):\n",
    "            if board[r][c] == 'T':\n",
    "                board[r][c] = 'O'\n",
    "\n"
   ],
   "id": "a1da8c7641f96843",
   "outputs": [],
   "execution_count": 11
  },
  {
   "metadata": {
    "ExecuteTime": {
     "end_time": "2025-07-27T20:43:00.719764Z",
     "start_time": "2025-07-27T20:43:00.702976Z"
    }
   },
   "cell_type": "code",
   "source": [
    "\"\"\"\n",
    "Open the lock\n",
    "\n",
    "The shortest path algorithm -> BFS\n",
    "\n",
    "O(10000)\n",
    "\"\"\"\n",
    "\n",
    "\n",
    "def openLock(deadends, target):\n",
    "    if \"0000\" in deadends:\n",
    "        return -1\n",
    "\n",
    "    q = deque()\n",
    "\n",
    "    def children():\n",
    "        res = []\n",
    "        for i in range(4):\n",
    "            digit = str((int(lock[i]) + 1) % 10)\n",
    "            res.append(lock[:i] + digit + lock[i + 1:])\n",
    "\n",
    "            digit = str((int(lock[i]) - 1 + 10) % 10)\n",
    "            res.append(lock[:i] + digit + lock[i + 1:])\n",
    "\n",
    "        return res\n",
    "\n",
    "    q.append([\"0000\", 0])\n",
    "\n",
    "    visit = set(deadends)\n",
    "    while q:\n",
    "        lock, turns = q.popleft()\n",
    "        if lock == target:\n",
    "            return turns\n",
    "        for child in children(lock):\n",
    "            if child not in visit:\n",
    "                visit.add(child)\n",
    "                q.append([child, turns + 1])\n",
    "\n",
    "    return -1\n",
    "\n"
   ],
   "id": "d7af05bd34cbc75b",
   "outputs": [],
   "execution_count": 12
  },
  {
   "metadata": {
    "ExecuteTime": {
     "end_time": "2025-07-27T21:09:27.950858Z",
     "start_time": "2025-07-27T21:09:27.942957Z"
    }
   },
   "cell_type": "code",
   "source": [
    "\"\"\"\n",
    "Graph valid tree\n",
    "The two conditions you need to check for this are\n",
    "Is there a cycle?\n",
    "Is every given node connected?\n",
    "\"\"\"\n",
    "\n",
    "\n",
    "def validTree(n, edges):\n",
    "    if not n:\n",
    "        return True\n",
    "\n",
    "    adj = {i: [] for i in range(n)}\n",
    "\n",
    "    for n1, n2 in edges:\n",
    "        adj[n1].append(n2)\n",
    "        adj[n2].append(n1)\n",
    "\n",
    "    visit = set()\n",
    "\n",
    "    def dfs(i, prev):\n",
    "        if i in visit:\n",
    "            return False\n",
    "\n",
    "        visit.add(i)\n",
    "        for j in adj[i]:\n",
    "            if j == prev:\n",
    "                continue\n",
    "\n",
    "            if not dfs(j, i):\n",
    "                return False\n",
    "\n",
    "        return True\n",
    "\n",
    "    return dfs(0, -1) and n == len(visit)\n"
   ],
   "id": "5546dc41a3f0bc59",
   "outputs": [],
   "execution_count": 13
  },
  {
   "metadata": {
    "ExecuteTime": {
     "end_time": "2025-07-27T21:53:40.177287Z",
     "start_time": "2025-07-27T21:53:40.165900Z"
    }
   },
   "cell_type": "code",
   "source": [
    "\"\"\"\n",
    "Number of connected components in an undirected graph\n",
    "\n",
    "Create an adjacency  list and then do a dfs\n",
    "You can also do a union find\n",
    "\"\"\"\n",
    "\n",
    "\n",
    "def countComponents(n, edges):\n",
    "    #Create the adjancency list\n",
    "    adj = [[] for _ in range(n)]\n",
    "\n",
    "    #Created a visited array, not a set but an array\n",
    "    visit = [False] * n\n",
    "    for u, v in edges:\n",
    "        adj[u].append(v)\n",
    "        adj[v].append(u)\n",
    "\n",
    "    #Create a helper dfs function\n",
    "    def dfs(node):\n",
    "        for nei in adj[node]:\n",
    "            if not visit[nei]:\n",
    "                visit[nei] = True\n",
    "                dfs(nei)\n",
    "\n",
    "    #Write the code to traverse from node 0 to node n-1 and do dfs when you find the node visited was not true\n",
    "    res = 0\n",
    "    for node in range(n):\n",
    "        if not visit[node]:\n",
    "            visit[node] = True\n",
    "            dfs(node)\n",
    "            res += 1\n",
    "    return res\n",
    "\n"
   ],
   "id": "340bc65c5f0df61e",
   "outputs": [],
   "execution_count": 14
  },
  {
   "metadata": {
    "ExecuteTime": {
     "end_time": "2025-07-27T22:18:01.828047Z",
     "start_time": "2025-07-27T22:18:01.800224Z"
    }
   },
   "cell_type": "code",
   "source": [
    "\"\"\"\n",
    "Redundant connection\n",
    "\"\"\"\n",
    "\n"
   ],
   "id": "65dc00f081ea25d2",
   "outputs": [
    {
     "data": {
      "text/plain": [
       "'\\nRedundant connection\\n'"
      ]
     },
     "execution_count": 15,
     "metadata": {},
     "output_type": "execute_result"
    }
   ],
   "execution_count": 15
  },
  {
   "metadata": {},
   "cell_type": "code",
   "outputs": [],
   "execution_count": null,
   "source": [
    "\"\"\"\n",
    "Accounts merge\n",
    "\"\"\"\n",
    "\n"
   ],
   "id": "c906014f0f913890"
  }
 ],
 "metadata": {
  "kernelspec": {
   "display_name": "Python 3",
   "language": "python",
   "name": "python3"
  },
  "language_info": {
   "codemirror_mode": {
    "name": "ipython",
    "version": 2
   },
   "file_extension": ".py",
   "mimetype": "text/x-python",
   "name": "python",
   "nbconvert_exporter": "python",
   "pygments_lexer": "ipython2",
   "version": "2.7.6"
  }
 },
 "nbformat": 4,
 "nbformat_minor": 5
}
