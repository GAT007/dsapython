{
 "cells": [
  {
   "metadata": {},
   "cell_type": "markdown",
   "source": "# Two Pointers",
   "id": "7857ce3ddd668843"
  },
  {
   "cell_type": "code",
   "id": "initial_id",
   "metadata": {
    "collapsed": true,
    "ExecuteTime": {
     "end_time": "2025-07-11T13:39:04.372917Z",
     "start_time": "2025-07-11T13:39:04.364743Z"
    }
   },
   "source": [
    "\"\"\"\n",
    "Reverse string\n",
    "\"\"\"\n",
    "\n",
    "\n",
    "def reverse_string(rev):\n",
    "    stack = []\n",
    "    for s in rev:\n",
    "        stack.append(s)\n",
    "    st = []\n",
    "    for s in range(len(stack)):\n",
    "        st.append(stack.pop())\n",
    "\n",
    "    return st\n",
    "\n",
    "\n",
    "print(reverse_string(['n', 'e', 'e', 't']))"
   ],
   "outputs": [
    {
     "name": "stdout",
     "output_type": "stream",
     "text": [
      "['t', 'e', 'e', 'n']\n"
     ]
    }
   ],
   "execution_count": 4
  },
  {
   "metadata": {
    "ExecuteTime": {
     "end_time": "2025-07-11T14:55:14.999043Z",
     "start_time": "2025-07-11T14:55:14.983926Z"
    }
   },
   "cell_type": "code",
   "source": [
    "\"\"\"\n",
    "Valid Palindrome\n",
    "\"\"\"\n",
    "\n",
    "\n",
    "def valid_palindrome(st):\n",
    "    l = 0\n",
    "    r = len(st) - 1\n",
    "    while l <= r:\n",
    "        if st[l] != st[r]:\n",
    "            return False\n",
    "        l += 1\n",
    "        r -= 1\n",
    "\n",
    "    return True\n",
    "\n",
    "\n",
    "print(valid_palindrome('racecar'))\n",
    "\n",
    "\n",
    "def even_more_valid_palindrome(st):\n",
    "    l, r = 0, len(st) - 1\n",
    "    while l < r:\n",
    "        while l < r and not st[l].isalnum():\n",
    "            l += 1\n",
    "        while r > l and not st[r].isalnum():\n",
    "            r -= 1\n",
    "        if st[l].lower() != st[r].lower():\n",
    "            return False\n",
    "        l, r = l + 1, r - 1\n",
    "    return True\n",
    "\n",
    "\n",
    "\"\"\"\n",
    "Valid palindrome with deleting one letter\n",
    "\"\"\"\n",
    "\n",
    "\n",
    "def valid_palindrome_letter_missing(st):\n",
    "    l, r = 0, len(st) - 1\n",
    "    while l < r:\n",
    "        if st[l] != st[r]:\n",
    "            skipL = st[l + 1:r + 1]\n",
    "            print(f'{l}: {r} : {skipL} : {skipL[::-1]}')\n",
    "            skipR = st[l:r]\n",
    "            print(f'{skipR} : {skipR[::-1]}')\n",
    "            return skipL == skipL[::-1] or skipR == skipR[::-1]\n",
    "        l, r = l + 1, r - 1\n",
    "\n",
    "    return True\n",
    "\n",
    "\n",
    "print(valid_palindrome_letter_missing(\"repaperr\"))"
   ],
   "id": "b9c79c113318cea9",
   "outputs": [
    {
     "name": "stdout",
     "output_type": "stream",
     "text": [
      "True\n",
      "1: 6 : paper : repap\n",
      "epape : epape\n",
      "True\n"
     ]
    }
   ],
   "execution_count": 14
  },
  {
   "metadata": {
    "ExecuteTime": {
     "end_time": "2025-07-11T15:17:01.912027Z",
     "start_time": "2025-07-11T15:17:01.904125Z"
    }
   },
   "cell_type": "code",
   "source": [
    "\"\"\"\n",
    "Merge strings alternately\n",
    "\"\"\"\n",
    "\n",
    "\n",
    "def merge_strings_alternately(st1, st2):\n",
    "    l = r = 0\n",
    "    st_final = \"\"\n",
    "    i = 1\n",
    "    while l < len(st1) and r < len(st2):\n",
    "        if i % 2 != 0:\n",
    "            st_final += st1[l]\n",
    "            l += 1\n",
    "        else:\n",
    "            st_final += st2[r]\n",
    "            r += 1\n",
    "        i += 1\n",
    "    st_final += st1[l:]\n",
    "    st_final += st2[r:]\n",
    "\n",
    "    return st_final\n",
    "\n",
    "\n",
    "print(merge_strings_alternately(\"string1\", \"str2\"))\n",
    "\n",
    "\n"
   ],
   "id": "a53b5fb71823b08b",
   "outputs": [
    {
     "name": "stdout",
     "output_type": "stream",
     "text": [
      "ssttrri2ng1\n"
     ]
    }
   ],
   "execution_count": 17
  },
  {
   "metadata": {
    "ExecuteTime": {
     "end_time": "2025-07-11T16:28:39.356882Z",
     "start_time": "2025-07-11T16:28:39.347637Z"
    }
   },
   "cell_type": "code",
   "source": [
    "\"\"\"\n",
    "Merge Sorted array\n",
    "\"\"\"\n",
    "\n",
    "\n",
    "def merge_sorted_arrays(nums1, nums2, m, n):\n",
    "    last = m + n - 1\n",
    "\n",
    "    while m > 0 and n > 0:\n",
    "        if nums1[m - 1] > nums2[n - 1]:\n",
    "            nums1[last] = nums1[m - 1]\n",
    "            m -= 1\n",
    "        else:\n",
    "            nums1[last] = nums2[n - 1]\n",
    "            n -= 1\n",
    "        last -= 1\n",
    "\n",
    "    while n > 0:\n",
    "        nums1[last] = nums2[n - 1]\n",
    "        n -= 1\n",
    "        last -= 1\n",
    "\n",
    "    return nums1\n",
    "\n",
    "\n",
    "def merge_sorted_arrays(nums1, nums2, m, n):\n",
    "    last = m + n - 1\n",
    "\n",
    "    while m > 0 and n > 0:\n",
    "        if nums1[m - 1] > nums2[n - 1]:\n",
    "            nums1[last] = nums1[m - 1]\n",
    "            m -= 1\n",
    "        else:\n",
    "            nums1[last] = nums2[n - 1]\n",
    "            n -= 1\n",
    "        last -= 1\n",
    "\n",
    "    while n > 0:\n",
    "        nums1[last] = nums2[n - 1]\n",
    "        n -= 1\n",
    "        last -= 1\n",
    "\n",
    "    return nums1\n",
    "\n"
   ],
   "id": "23f88806b436e0e4",
   "outputs": [],
   "execution_count": 18
  },
  {
   "metadata": {},
   "cell_type": "code",
   "source": "def remove_duplicates(nums):",
   "id": "a10e624fbefd39b7",
   "execution_count": null,
   "outputs": []
  },
  {
   "metadata": {},
   "cell_type": "code",
   "outputs": [],
   "execution_count": 19,
   "source": [
    "    l = 0\n",
    "for r in range(1, len(nums)):\n",
    "    if nums[l] != nums[r]:\n",
    "        l += 1\n",
    "        nums[l] = nums[r]\n",
    "\n",
    "return l + 1"
   ],
   "id": "cc38ce40af76eacb"
  },
  {
   "metadata": {
    "ExecuteTime": {
     "end_time": "2025-07-11T17:04:32.416400Z",
     "start_time": "2025-07-11T17:04:32.408539Z"
    }
   },
   "cell_type": "code",
   "source": [
    "\"\"\"\n",
    "Two Sum II input array is sorted\n",
    "\"\"\"\n",
    "\n",
    "\n",
    "def two_sum_sorted(nums, target):\n",
    "    res = []\n",
    "    l, r = 0, len(nums) - 1\n",
    "    while l < r:\n",
    "        cursum = nums[l] + nums[r]\n",
    "        if cursum < target:\n",
    "            l += 1\n",
    "        elif cursum > target:\n",
    "            r -= 1\n",
    "        else:\n",
    "            res.append((l + 1, r + 1))\n",
    "            l += 1\n",
    "    return res\n",
    "\n",
    "\n",
    "print(two_sum_sorted([1, 2, 3, 4], target=3))"
   ],
   "id": "7b692195e7930b12",
   "outputs": [
    {
     "name": "stdout",
     "output_type": "stream",
     "text": [
      "[(1, 2)]\n"
     ]
    }
   ],
   "execution_count": 21
  },
  {
   "metadata": {
    "ExecuteTime": {
     "end_time": "2025-07-11T17:05:06.097812Z",
     "start_time": "2025-07-11T17:05:06.084849Z"
    }
   },
   "cell_type": "code",
   "source": [
    "\"\"\"\n",
    "3 sum\n",
    "\"\"\"\n",
    "\n",
    "\n",
    "def three_sum(nums, target):\n",
    "    res = []\n",
    "    for i in range(len(nums)):\n",
    "        l, r = i + 1, len(nums) - 1\n",
    "        while l < r:\n",
    "            cursum = nums[i] + nums[l] + nums[r]\n",
    "            if cursum < target:\n",
    "                l += 1\n",
    "            elif cursum > target:\n",
    "                r -= 1\n",
    "            else:\n",
    "                res.append((nums[i], nums[l], nums[r]))\n",
    "                l += 1\n",
    "                while nums[l] == nums[l - 1] and l < r:\n",
    "                    l += 1\n",
    "    return res\n",
    "\n",
    "\n",
    "print(three_sum([1, 2, 3, 4, 4, ], target=9))"
   ],
   "id": "467a17e71b3fdc88",
   "outputs": [
    {
     "name": "stdout",
     "output_type": "stream",
     "text": [
      "[(1, 4, 4), (2, 3, 4)]\n"
     ]
    }
   ],
   "execution_count": 24
  },
  {
   "metadata": {
    "ExecuteTime": {
     "end_time": "2025-07-11T17:09:37.125529Z",
     "start_time": "2025-07-11T17:09:37.108344Z"
    }
   },
   "cell_type": "code",
   "source": [
    "\"\"\"\n",
    "4 sum\n",
    "\"\"\"\n",
    "\n",
    "from collections import Counter\n",
    "\n",
    "\n",
    "def fourSum(nums, target):\n",
    "    nums.sort()\n",
    "    count = Counter(nums)\n",
    "\n",
    "    res = []\n",
    "\n",
    "    for i in range(len(nums)):\n",
    "        count[nums[i]] -= 1\n",
    "        if i > 0 and nums[i] == nums[i - 1]:\n",
    "            continue\n",
    "\n",
    "        for j in range(len(nums)):\n",
    "            count[nums[j]] -= 1\n",
    "            if j > i + 1 and nums[j] == nums[j - 1]:\n",
    "                continue\n",
    "\n",
    "            for k in range(j + 1, len(nums)):\n",
    "                count[nums[k]] -= 1\n",
    "                if k > j + 1 and nums[k] == nums[k - 1]:\n",
    "                    continue\n",
    "\n",
    "                fourth = target - (nums[i] + nums[j] + nums[k])\n",
    "\n",
    "                if count[fourth] > 0:\n",
    "                    res.append([nums[i], nums[j], nums[k], fourth])\n",
    "\n",
    "            for k in range(j + 1, len(nums)):\n",
    "                count[nums[k]] += 1\n",
    "\n",
    "        for j in range(i + 1, len(nums)):\n",
    "            count[nums[j]] += 1\n",
    "\n",
    "    return res\n",
    "\n"
   ],
   "id": "3c7f3ad39c066f93",
   "outputs": [
    {
     "data": {
      "text/plain": [
       "'\\n4 sum\\n'"
      ]
     },
     "execution_count": 25,
     "metadata": {},
     "output_type": "execute_result"
    }
   ],
   "execution_count": 25
  },
  {
   "metadata": {
    "ExecuteTime": {
     "end_time": "2025-07-11T18:10:15.797047Z",
     "start_time": "2025-07-11T18:10:15.785777Z"
    }
   },
   "cell_type": "code",
   "source": [
    "\"\"\"\n",
    "Rotate Array\n",
    "\"\"\"\n",
    "\n",
    "from collections import deque\n",
    "\n",
    "\n",
    "def rotate_array(nums, k):\n",
    "    q = deque()\n",
    "    for num in nums:\n",
    "        q.append(num)\n",
    "\n",
    "    for i in range(k):\n",
    "        curr = q.pop()\n",
    "        q.appendleft(curr)\n",
    "\n",
    "    return list(q)\n",
    "\n",
    "\n",
    "print(rotate_array([1, 2, 3, 4, 5], 3))\n",
    "\n",
    "\n",
    "def rotate(nums, k):\n",
    "    #We do this, so that in case the k value is greater than the length, all the remaining rotations are useless other than the remainder value of the rotations\n",
    "    k = k % len(nums)\n",
    "\n",
    "    l, r = 0, len(nums) - 1\n",
    "    while l < r:\n",
    "        nums[l], nums[r] = nums[r], nums[l]\n",
    "        l, r = l + 1, r - 1\n",
    "\n",
    "    l, r = 0, k - 1\n",
    "    while l < r:\n",
    "        nums[l], nums[r] = nums[r], nums[l]\n",
    "        l, r = l + 1, r - 1\n",
    "\n",
    "    l, r = k, len(nums) - 1\n",
    "    while l < r:\n",
    "        nums[l], nums[r] = nums[r], nums[l]\n",
    "        l, r = l + 1, r - 1\n",
    "\n",
    "    return nums\n",
    "\n",
    "\n",
    "def rotate_again(nums, k):\n",
    "    k = k % len(nums)\n",
    "\n",
    "    l, r = 0, len(nums) - 1\n",
    "    while l < r:\n",
    "        nums[l], nums[r] = nums[r], nums[l]\n",
    "\n",
    "    l, r = 0, k - 1\n",
    "    while l < r:\n",
    "        nums[l], nums[r] = nums[r], nums[l]\n",
    "\n",
    "    l, r = k, len(nums) - 1\n",
    "    while l < r:\n",
    "        nums[l], nums[r] = nums[r], nums[l]\n",
    "\n",
    "    return nums"
   ],
   "id": "4fe57cd3c8cfdfc6",
   "outputs": [
    {
     "name": "stdout",
     "output_type": "stream",
     "text": [
      "[3, 4, 5, 1, 2]\n"
     ]
    }
   ],
   "execution_count": 29
  },
  {
   "metadata": {
    "ExecuteTime": {
     "end_time": "2025-07-11T20:23:55.829136Z",
     "start_time": "2025-07-11T20:23:55.818569Z"
    }
   },
   "cell_type": "code",
   "source": [
    "\"\"\"\n",
    "Container with most water\n",
    "\"\"\"\n",
    "\n",
    "\n",
    "def container_water(heights):\n",
    "    res = 0\n",
    "    l, r = 0, len(heights) - 1\n",
    "\n",
    "    while l < r:\n",
    "        area = (r - l) * min(heights[l], heights[r])\n",
    "        res = max(res, area)\n",
    "\n",
    "        if heights[l] < heights[r]:\n",
    "            l += 1\n",
    "        else:\n",
    "            r -= 1\n",
    "\n",
    "    return res\n",
    "\n",
    "\n",
    "def container_water(heights):\n",
    "    res = 0\n",
    "    l, r = 0, len(heights) - 1\n",
    "\n",
    "    while l < r:\n",
    "        area = (r - l) * min(heights[l], heights[r])\n",
    "        res = max(res, area)\n",
    "\n",
    "        if heights[l] < heights[r]:\n",
    "            l += 1\n",
    "        else:\n",
    "            r -= 1\n",
    "\n",
    "    return res\n"
   ],
   "id": "ec5705cfcf212ea",
   "outputs": [],
   "execution_count": 30
  },
  {
   "metadata": {
    "ExecuteTime": {
     "end_time": "2025-07-11T20:36:07.129832Z",
     "start_time": "2025-07-11T20:36:07.122005Z"
    }
   },
   "cell_type": "code",
   "source": [
    "\"\"\"\n",
    "People in boats\n",
    "\"\"\"\n",
    "\n",
    "\n",
    "def rescue_boats(people, limit):\n",
    "    people.sort()\n",
    "\n",
    "    res, l, r = 0, 0, len(people) - 1\n",
    "    while l <= r:\n",
    "        #Find the remaining weight by subtracting the heaviest person from the limit\n",
    "        remain = limit - people[r]\n",
    "        #Increment the r\n",
    "        r -= 1\n",
    "        #Increment the result\n",
    "        res += 1\n",
    "        #If left < right and remaining is greater than the weight of the person at l pointer\n",
    "        if l <= r and remain >= people[l]:\n",
    "            l += 1\n",
    "    return res\n",
    "\n",
    "\n",
    "def rescue_again(people, limit):\n",
    "    people.sort()\n",
    "\n",
    "    res, l, r = 0, 0, len(people) - 1\n",
    "\n",
    "    while l <= r:\n",
    "        remain = limit - people[r]\n",
    "        r -= 1\n",
    "        res += 1\n",
    "        if l <= r and remain >= people[l]:\n",
    "            l += 1\n",
    "    return res\n",
    "\n",
    "\n",
    "def rescue_again_again(people, limit):\n",
    "    people.sort()\n",
    "    res = 0\n",
    "    l, r = 0, len(people) - 1\n",
    "    while l <= r:\n",
    "        remain = limit - people[r]\n",
    "        r -= 1\n",
    "        res += 1\n",
    "        if remain > people[l]:\n",
    "            l += 1\n",
    "    return res\n"
   ],
   "id": "e1d7469d65bef2e7",
   "outputs": [],
   "execution_count": 33
  },
  {
   "metadata": {},
   "cell_type": "code",
   "outputs": [],
   "execution_count": null,
   "source": [
    "\"\"\"\n",
    "Trapping rain water\n",
    "\"\"\"\n",
    "\n",
    "\"\"\"\n",
    "Stack solution first\n",
    "This problem uses a monotonic stack\n",
    "A monotonic stack is one that keeps its element in sorted order\n",
    "When you try to insert an element into the stack that does not follow this order, it pops out the elements till the order is restored before appending the elements\n",
    "\"\"\"\n",
    "\n",
    "\"\"\"\n",
    "Two pointers\n",
    "\"\"\"\n",
    "\n",
    "\n",
    "def trap(heights):\n",
    "    if not heights:\n",
    "        return 0\n",
    "\n",
    "    l, r = 0, len(heights) - 1\n",
    "    leftmax, rightmax = heights[l], heights[r]\n",
    "    res = 0\n",
    "    while l < r:\n",
    "        if leftmax < rightmax:\n",
    "            l += 1\n",
    "            leftmax = max(leftmax, heights[l])\n",
    "            res += leftmax - heights[l]\n",
    "        else:\n",
    "            r -= 1\n",
    "            rightmax = max(rightmax, heights[r])\n",
    "            res += rightmax - heights[r]\n",
    "\n",
    "    return res\n",
    "\n",
    "\n",
    "\n",
    "\n"
   ],
   "id": "56b6b6761d0fce1c"
  },
  {
   "metadata": {
    "ExecuteTime": {
     "end_time": "2025-07-17T14:55:57.197984Z",
     "start_time": "2025-07-17T14:55:57.186676Z"
    }
   },
   "cell_type": "code",
   "source": "",
   "id": "e555564dc26a6367",
   "outputs": [],
   "execution_count": 1
  },
  {
   "metadata": {},
   "cell_type": "code",
   "outputs": [],
   "execution_count": null,
   "source": "",
   "id": "290cb1f3d29f38d8"
  }
 ],
 "metadata": {
  "kernelspec": {
   "display_name": "Python 3",
   "language": "python",
   "name": "python3"
  },
  "language_info": {
   "codemirror_mode": {
    "name": "ipython",
    "version": 2
   },
   "file_extension": ".py",
   "mimetype": "text/x-python",
   "name": "python",
   "nbconvert_exporter": "python",
   "pygments_lexer": "ipython2",
   "version": "2.7.6"
  }
 },
 "nbformat": 4,
 "nbformat_minor": 5
}
