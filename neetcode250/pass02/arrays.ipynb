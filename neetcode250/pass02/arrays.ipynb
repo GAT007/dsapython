{
 "cells": [
  {
   "metadata": {},
   "cell_type": "markdown",
   "source": "# Arrays",
   "id": "9764fc9499c4b66b"
  },
  {
   "cell_type": "code",
   "id": "initial_id",
   "metadata": {
    "collapsed": true,
    "ExecuteTime": {
     "end_time": "2025-07-12T19:03:11.077961Z",
     "start_time": "2025-07-12T19:03:11.067264Z"
    }
   },
   "source": [
    "\"\"\"\n",
    "Concatenation of array\n",
    "\"\"\"\n",
    "\n",
    "\n",
    "def concat1(arr1, arr2):\n",
    "    arr1.extend(arr1)\n",
    "    return arr1\n",
    "\n",
    "\n",
    "print(concat1([1, 2, 3], [4, 5, 6]))"
   ],
   "outputs": [
    {
     "name": "stdout",
     "output_type": "stream",
     "text": [
      "[1, 2, 3, 1, 2, 3]\n"
     ]
    }
   ],
   "execution_count": 1
  },
  {
   "metadata": {
    "ExecuteTime": {
     "end_time": "2025-07-08T22:05:40.946416Z",
     "start_time": "2025-07-08T22:05:40.935990Z"
    }
   },
   "cell_type": "code",
   "source": [
    "\"\"\"\n",
    "Contains duplicate\n",
    "\"\"\"\n",
    "\n",
    "\n",
    "def contains_duplicate(arr1):\n",
    "    if len(arr1) != len(set(arr1)):\n",
    "        return False\n",
    "    else:\n",
    "        return True\n",
    "\n",
    "\n",
    "print(contains_duplicate([1, 2, 1]))"
   ],
   "id": "6869d38c7649ea16",
   "outputs": [
    {
     "name": "stdout",
     "output_type": "stream",
     "text": [
      "False\n"
     ]
    }
   ],
   "execution_count": 5
  },
  {
   "metadata": {
    "ExecuteTime": {
     "end_time": "2025-07-08T22:07:49.217636Z",
     "start_time": "2025-07-08T22:07:49.210172Z"
    }
   },
   "cell_type": "code",
   "source": [
    "\"\"\"\n",
    "Valid anagram\n",
    "\"\"\"\n",
    "\n",
    "\n",
    "def valid_anagram(s1, s2):\n",
    "    if set(s1) != set(s2):\n",
    "        return False\n",
    "    else:\n",
    "        return True\n",
    "\n",
    "\n",
    "print(valid_anagram('cato', 'taco'))"
   ],
   "id": "cca88b8f585259aa",
   "outputs": [
    {
     "name": "stdout",
     "output_type": "stream",
     "text": [
      "True\n"
     ]
    }
   ],
   "execution_count": 8
  },
  {
   "metadata": {
    "ExecuteTime": {
     "end_time": "2025-07-08T22:12:10.219427Z",
     "start_time": "2025-07-08T22:12:10.210380Z"
    }
   },
   "cell_type": "code",
   "source": [
    "\"\"\"\n",
    "Two Sum\n",
    "\"\"\"\n",
    "\n",
    "\n",
    "def two_sum(nums, target):\n",
    "    target_dictionary = {}\n",
    "\n",
    "    for idx, num in enumerate(nums):\n",
    "        if target - num in target_dictionary:\n",
    "            return (idx, target_dictionary[target - num])\n",
    "        else:\n",
    "            target_dictionary[num] = idx\n",
    "\n",
    "    return (-1, -1)\n",
    "\n",
    "\n",
    "print(two_sum([1, 2, 3, 4, 5], 9))"
   ],
   "id": "73c3415887b687da",
   "outputs": [
    {
     "name": "stdout",
     "output_type": "stream",
     "text": [
      "(4, 3)\n"
     ]
    }
   ],
   "execution_count": 11
  },
  {
   "metadata": {
    "ExecuteTime": {
     "end_time": "2025-07-08T22:19:40.149922Z",
     "start_time": "2025-07-08T22:19:40.138719Z"
    }
   },
   "cell_type": "code",
   "source": [
    "\"\"\"\n",
    "Longest common prefix\n",
    "\"\"\"\n",
    "\n",
    "\n",
    "def longestCommonPrefix(strs) -> str:\n",
    "    for i in range(len(strs[0])):\n",
    "        for s in strs:\n",
    "            if i == len(s) or s[i] != strs[0][i]:\n",
    "                return s[:i]\n",
    "    return strs[0]\n",
    "\n",
    "\n",
    "print(longestCommonPrefix([\"dance\", \"dag\", \"danger\", \"damage\"]))\n"
   ],
   "id": "c25d7035faaf29bb",
   "outputs": [
    {
     "name": "stdout",
     "output_type": "stream",
     "text": [
      "da\n"
     ]
    }
   ],
   "execution_count": 15
  },
  {
   "metadata": {
    "ExecuteTime": {
     "end_time": "2025-07-08T22:40:11.779051Z",
     "start_time": "2025-07-08T22:40:11.770221Z"
    }
   },
   "cell_type": "code",
   "source": [
    "from collections import defaultdict\n",
    "\n",
    "\n",
    "def group_anagrams(strs):\n",
    "    if len(strs) == 1 or len(strs) == 0:\n",
    "        return strs\n",
    "\n",
    "    res = defaultdict(list)\n",
    "\n",
    "    for s in strs:\n",
    "        count = [0] * 26\n",
    "        for c in s:\n",
    "            count[ord(c) - ord('a')] += 1\n",
    "\n",
    "        res[tuple(count)].append(s)\n",
    "\n",
    "    return list(res.values())\n",
    "\n"
   ],
   "id": "6dbbebd1734ab416",
   "outputs": [],
   "execution_count": 16
  },
  {
   "metadata": {
    "ExecuteTime": {
     "end_time": "2025-07-08T22:43:56.612385Z",
     "start_time": "2025-07-08T22:43:56.604188Z"
    }
   },
   "cell_type": "code",
   "source": [
    "\"\"\"\n",
    "Remove elements\n",
    "\"\"\"\n",
    "\n",
    "\n",
    "def removeElement(nums, val):\n",
    "    k = 0\n",
    "    for i in range(len(nums)):\n",
    "        if nums[i] != val:\n",
    "            nums[k] = nums[i]\n",
    "            k += 1\n",
    "    return k"
   ],
   "id": "5faa9459d7045a58",
   "outputs": [],
   "execution_count": 18
  },
  {
   "metadata": {
    "ExecuteTime": {
     "end_time": "2025-07-08T22:46:12.927451Z",
     "start_time": "2025-07-08T22:46:12.915829Z"
    }
   },
   "cell_type": "code",
   "source": [
    "\"\"\"\n",
    "Majority element\n",
    "\"\"\"\n",
    "\n",
    "from collections import Counter\n",
    "\n",
    "\n",
    "def majority_element(nums):\n",
    "    count = Counter(nums)\n",
    "    target = len(nums) // 2\n",
    "    for num, freq in count.items():\n",
    "        if freq > target:\n",
    "            return num\n",
    "\n",
    "    return None\n",
    "\n",
    "\n",
    "print(majority_element([1, 2, 1, 2, 2]))"
   ],
   "id": "781cba06b991688a",
   "outputs": [
    {
     "name": "stdout",
     "output_type": "stream",
     "text": [
      "2\n"
     ]
    }
   ],
   "execution_count": 21
  },
  {
   "metadata": {
    "ExecuteTime": {
     "end_time": "2025-07-08T22:50:39.424707Z",
     "start_time": "2025-07-08T22:50:39.409791Z"
    }
   },
   "cell_type": "code",
   "source": [
    "\"\"\"\n",
    "Design hashset\n",
    "\"\"\""
   ],
   "id": "6b8a42bb6b9b6416",
   "outputs": [
    {
     "data": {
      "text/plain": [
       "'\\nDesign hashset\\n'"
      ]
     },
     "execution_count": 22,
     "metadata": {},
     "output_type": "execute_result"
    }
   ],
   "execution_count": 22
  },
  {
   "metadata": {
    "ExecuteTime": {
     "end_time": "2025-07-08T22:50:46.447040Z",
     "start_time": "2025-07-08T22:50:46.438901Z"
    }
   },
   "cell_type": "code",
   "source": [
    "\"\"\"\n",
    "Design hashmap\n",
    "\"\"\""
   ],
   "id": "cc284189f788306a",
   "outputs": [
    {
     "data": {
      "text/plain": [
       "'\\nDesign hashmap\\n'"
      ]
     },
     "execution_count": 23,
     "metadata": {},
     "output_type": "execute_result"
    }
   ],
   "execution_count": 23
  },
  {
   "metadata": {
    "ExecuteTime": {
     "end_time": "2025-07-08T22:52:51.740831Z",
     "start_time": "2025-07-08T22:52:51.733416Z"
    }
   },
   "cell_type": "code",
   "source": [
    "\"\"\"\n",
    "Sort an array\n",
    "\"\"\""
   ],
   "id": "98674a79c34bca3e",
   "outputs": [
    {
     "data": {
      "text/plain": [
       "'\\nSort an array\\n'"
      ]
     },
     "execution_count": 24,
     "metadata": {},
     "output_type": "execute_result"
    }
   ],
   "execution_count": 24
  },
  {
   "metadata": {
    "ExecuteTime": {
     "end_time": "2025-07-08T22:54:27.206597Z",
     "start_time": "2025-07-08T22:54:27.197791Z"
    }
   },
   "cell_type": "code",
   "source": [
    "\"\"\"\n",
    "Sort colors\n",
    "\"\"\"\n",
    "\n",
    "\n",
    "def sortcolors(nums):\n",
    "    zero = one = 0\n",
    "    for two in range(len(nums)):\n",
    "        tmp = nums[two]\n",
    "        nums[two] = 2\n",
    "        if tmp < 2:\n",
    "            nums[one] = 1\n",
    "            one += 1\n",
    "        if tmp < 1:\n",
    "            nums[zero] = 0\n",
    "            zero += 1"
   ],
   "id": "7944d18003f77e92",
   "outputs": [],
   "execution_count": 25
  },
  {
   "metadata": {
    "ExecuteTime": {
     "end_time": "2025-07-08T22:58:40.519138Z",
     "start_time": "2025-07-08T22:58:40.513511Z"
    }
   },
   "cell_type": "code",
   "source": [
    "\"\"\"\n",
    "Top k frequent elements\n",
    "\"\"\"\n",
    "\n",
    "import heapq\n",
    "\n",
    "\n",
    "def top_k_frequent(nums, k):\n",
    "    count = Counter(nums)\n",
    "\n",
    "    heap = []\n",
    "\n",
    "    for num, freq in count.items():\n",
    "        if len(heap) < k:\n",
    "            heapq.heappush(heap, (freq, num))\n",
    "        else:\n",
    "            heapq.heappushpop(heap, (freq, num))\n",
    "\n",
    "    top_k = [num for freq, num in heap]\n",
    "\n",
    "    return top_k\n"
   ],
   "id": "5388989e8a854e7d",
   "outputs": [],
   "execution_count": 26
  },
  {
   "metadata": {
    "ExecuteTime": {
     "end_time": "2025-07-10T14:46:53.037513Z",
     "start_time": "2025-07-10T14:46:53.028794Z"
    }
   },
   "cell_type": "code",
   "source": [
    "\"\"\"\n",
    "Encode and decode strings\n",
    "\"\"\"\n",
    "\n",
    "\n",
    "def encode(strs):\n",
    "    s = \"\"\n",
    "    for st in strs:\n",
    "        s += st + \"#\"\n",
    "\n",
    "    return s\n",
    "\n",
    "\n",
    "def decode(string):\n",
    "    l = 0\n",
    "    res = []\n",
    "    for i in range(len(string)):\n",
    "        if string[i] == \"#\":\n",
    "            res.append(string[l:i])\n",
    "            l = i + 1\n",
    "\n",
    "    return res\n",
    "\n",
    "\n",
    "sq = encode(['This', 'is', 'a', 'sentence'])\n",
    "print(decode(sq))\n",
    "\n"
   ],
   "id": "e64725d72e6663fa",
   "outputs": [
    {
     "name": "stdout",
     "output_type": "stream",
     "text": [
      "['This', 'is', 'a', 'sentence']\n"
     ]
    }
   ],
   "execution_count": 2
  },
  {
   "metadata": {
    "ExecuteTime": {
     "end_time": "2025-07-10T15:32:39.204066Z",
     "start_time": "2025-07-10T15:32:39.192321Z"
    }
   },
   "cell_type": "code",
   "source": [
    "\"\"\"\n",
    "Range sum query 2\n",
    "\"\"\"\n",
    "\n",
    "\n",
    "class NumMatrix:\n",
    "    def __init__(self, matrix):\n",
    "        ROWS, COLS = len(matrix), len(matrix[0])\n",
    "        self.sumMat = [[0] * (COLS + 1) for _ in range(ROWS + 1)]\n",
    "\n",
    "        for r in range(ROWS):\n",
    "            prefix = 0\n",
    "            for c in range(COLS):\n",
    "                prefix += matrix[r][c]\n",
    "                above = self.sumMat[r][c + 1]\n",
    "                self.sumMat[r + 1][c + 1] = prefix + above\n",
    "\n",
    "    def sumRegion(self, row1, col1, row2, col2):\n",
    "        row1, col1, row2, col2 = row1 + 1, col1 + 1, row2 + 1, col2 + 1\n",
    "        bottomRight = self.sumMat[row2][col2]\n",
    "        above = self.sumMat[row1 - 1][col2]\n",
    "        left = self.sumMat[row2][col1 - 1]\n",
    "        topLeft = self.sumMat[row1 - 1][col1 - 1]\n",
    "\n",
    "        return bottomRight - above - left + topLeft\n"
   ],
   "id": "5ed757e1a915540c",
   "outputs": [],
   "execution_count": 3
  },
  {
   "metadata": {
    "ExecuteTime": {
     "end_time": "2025-07-10T18:21:08.998491Z",
     "start_time": "2025-07-10T18:21:08.979163Z"
    }
   },
   "cell_type": "code",
   "source": [
    "\"\"\"\n",
    "Product of array except self\n",
    "Given an integer array nums, return an array output where output[i] is the product of all the elemetns of nums except nums[i]\n",
    "\"\"\"\n",
    "\n",
    "\n",
    "def array_except_self(nums):\n",
    "    res = [1] * (len(nums))\n",
    "    prefix = 1\n",
    "    for i in range(len(nums)):\n",
    "        res[i] = prefix\n",
    "        prefix *= nums[i]\n",
    "        print(f'Iter {i} : {res} : {prefix}')\n",
    "    postfix = 1\n",
    "    for i in range(len(nums) - 1, -1, -1):\n",
    "        res[i] *= postfix\n",
    "        postfix *= nums[i]\n",
    "        print(f'Iter {i} : {res} : {postfix}')\n",
    "    return res\n",
    "\n",
    "\n",
    "print(array_except_self([1, 2, 3, 4]))\n",
    "\n",
    "\n",
    "def array_except_self(nums):\n",
    "    res = [1] * (len(nums))\n",
    "    prefix = 1\n",
    "    for i in range(len(nums)):\n",
    "        res[i] = prefix\n",
    "        prefix *= nums[i]\n",
    "    postfix = 1\n",
    "    for i in range((len(nums)) - 1, -1, -1):\n",
    "        res[i] *= postfix\n",
    "        postfix *= nums[i]\n",
    "\n",
    "    return res\n",
    "\n"
   ],
   "id": "8fed8822d776eaf1",
   "outputs": [
    {
     "name": "stdout",
     "output_type": "stream",
     "text": [
      "Iter 0 : [1, 1, 1, 1] : 1\n",
      "Iter 1 : [1, 1, 1, 1] : 2\n",
      "Iter 2 : [1, 1, 2, 1] : 6\n",
      "Iter 3 : [1, 1, 2, 6] : 24\n",
      "Iter 3 : [1, 1, 2, 6] : 4\n",
      "Iter 2 : [1, 1, 8, 6] : 12\n",
      "Iter 1 : [1, 12, 8, 6] : 24\n",
      "Iter 0 : [24, 12, 8, 6] : 24\n",
      "[24, 12, 8, 6]\n"
     ]
    }
   ],
   "execution_count": 7
  },
  {
   "metadata": {
    "ExecuteTime": {
     "end_time": "2025-07-10T18:24:55.408037Z",
     "start_time": "2025-07-10T18:24:55.399355Z"
    }
   },
   "cell_type": "code",
   "source": [
    "\"\"\"\n",
    "Is Valid Sudoku\n",
    "Use a hashset\n",
    "\"\"\"\n",
    "\n",
    "\n",
    "def is_valid_sudoku(board):\n",
    "    #Just iterate through the entire board checking whether the given number is in the set or not\n",
    "    cols = defaultdict(set)\n",
    "    rows = defaultdict(set)\n",
    "    squares = defaultdict(set)\n",
    "\n",
    "    for r in range(9):\n",
    "        for c in range(9):\n",
    "            if board[r][c] == '.':\n",
    "                continue\n",
    "            if (board[r][c] in rows[r] or board[r][c] in cols[c] or board[r][c] in squares[(r // 3, c // 3)]):\n",
    "                return False\n",
    "\n",
    "            cols[c].add(board[r][c])\n",
    "            rows[r].add(board[r][c])\n",
    "            squares[(r // 3, c // 3)].add(board[r][c])\n",
    "\n",
    "    return True\n"
   ],
   "id": "97b4ef86fc8aecc4",
   "outputs": [],
   "execution_count": 8
  },
  {
   "metadata": {
    "ExecuteTime": {
     "end_time": "2025-07-10T20:28:49.848476Z",
     "start_time": "2025-07-10T20:28:49.837381Z"
    }
   },
   "cell_type": "code",
   "source": [
    "\"\"\"\n",
    "Longest Consecutive Sequence\n",
    "Using a hashset again\n",
    "\"\"\"\n",
    "\n",
    "\n",
    "def longestConsecutive(nums):\n",
    "    numSet = set(nums)\n",
    "    longest = 0\n",
    "\n",
    "    for num in numSet:\n",
    "        if (num - 1) not in numSet:\n",
    "            length = 1\n",
    "            while (num + length) in numSet:\n",
    "                length += 1\n",
    "            longest = max(length, longest)\n",
    "    return longest\n",
    "\n",
    "\n",
    "def longestConsecutive(nums):\n",
    "    numset = set(nums)\n",
    "    longest = 0\n",
    "\n",
    "    for num in numset:\n",
    "        if (num - 1) not in numset:\n",
    "            length = 1\n",
    "            while (num + length) in numset:\n",
    "                length += 1\n",
    "\n",
    "            longest = max(longest, length)\n",
    "\n",
    "    return longest"
   ],
   "id": "c3f70da2ba3883d9",
   "outputs": [],
   "execution_count": 9
  },
  {
   "metadata": {
    "ExecuteTime": {
     "end_time": "2025-07-10T20:39:05.945717Z",
     "start_time": "2025-07-10T20:39:05.935197Z"
    }
   },
   "cell_type": "code",
   "source": [
    "\"\"\"\n",
    "Best time to buy and sell a stock\n",
    "\"\"\"\n",
    "\n",
    "\n",
    "def best_time_to_buy(prices):\n",
    "    l = 0\n",
    "    max_profit = 0\n",
    "    for r in range(1, len(prices)):\n",
    "        if prices[r] > prices[l]:\n",
    "            max_profit = max(max_profit, prices[r] - prices[l])\n",
    "        else:\n",
    "            l = r\n",
    "\n",
    "    return max_profit\n",
    "\n",
    "\n",
    "def best_time_to_buy_again(prices):\n",
    "    pass\n",
    "\n"
   ],
   "id": "5c7244aaac76d85",
   "outputs": [],
   "execution_count": 10
  },
  {
   "metadata": {
    "ExecuteTime": {
     "end_time": "2025-07-10T20:40:55.437184Z",
     "start_time": "2025-07-10T20:40:55.427900Z"
    }
   },
   "cell_type": "code",
   "source": [
    "\"\"\"\n",
    "Majority element II\n",
    "\"\"\"\n",
    "from collections import Counter\n",
    "\n",
    "\n",
    "def majority_element_2(nums):\n",
    "    count = Counter(nums)\n",
    "    target = len(nums) // 3\n",
    "    res = []\n",
    "\n",
    "    for num, freq in count.items():\n",
    "        if freq > target:\n",
    "            res.append(num)\n",
    "\n",
    "    return res\n",
    "\n"
   ],
   "id": "5e3a1c1485f29b6",
   "outputs": [],
   "execution_count": 12
  },
  {
   "metadata": {
    "ExecuteTime": {
     "end_time": "2025-07-10T22:56:55.524007Z",
     "start_time": "2025-07-10T22:56:55.510872Z"
    }
   },
   "cell_type": "code",
   "source": [
    "\"\"\"\n",
    "Subarray sum equals K\n",
    "\"\"\"\n",
    "\n",
    "\n",
    "def subarray_sum(nums, k):\n",
    "    res = cursum = 0\n",
    "    prefixSums = {0: 1}\n",
    "\n",
    "    for num in nums:\n",
    "        cursum += num\n",
    "        diff = cursum - k\n",
    "        res += prefixSums.get(diff, 0)\n",
    "        prefixSums[cursum] = 1 + prefixSums.get(cursum, 0)\n",
    "\n",
    "    return res\n",
    "\n",
    "\n",
    "def subarray_sum(nums, k):\n",
    "    res = cursum = 0\n",
    "    prefixSum = {0, 1}\n",
    "\n",
    "    for num in nums:\n",
    "        cursum += num\n",
    "        diff = cursum - k\n",
    "        res += prefixSum.get(diff, 0)\n",
    "        prefixSum[cursum] = 1 + prefixSum.get(cursum, 0)\n",
    "\n",
    "    return res\n",
    "\n",
    "\n",
    "\"\"\"\n",
    "Subarray sum equals k\n",
    "\"\"\"\n",
    "\n",
    "from collections import defaultdict\n",
    "\n",
    "\n",
    "def subarray_equals_k(nums, k):\n",
    "    res = 0\n",
    "    curSum = 0\n",
    "    prefixSum = defaultdict(int)\n",
    "    prefixSum[0] = 1\n",
    "\n",
    "    for num in nums:\n",
    "        curSum += num\n",
    "\n",
    "        if (curSum - k) in prefixSum:\n",
    "            res += prefixSum[curSum - k]\n",
    "        prefixSum[curSum] += 1\n",
    "\n",
    "    return res\n",
    "\n",
    "\n"
   ],
   "id": "24f8316e46feb79a",
   "outputs": [],
   "execution_count": 13
  },
  {
   "metadata": {},
   "cell_type": "code",
   "outputs": [],
   "execution_count": null,
   "source": [
    "\"\"\"\n",
    "First missing positive\n",
    "\"\"\"\n",
    "\n",
    "\n",
    "def fmp(nums):\n",
    "    for i in range(len(nums)):\n",
    "        if nums[i] < 0:\n",
    "            nums[i] = 0\n",
    "\n",
    "    for i in range(len(nums)):\n",
    "        val = abs(nums[i])\n",
    "        if 1 <= val <= len(nums):\n",
    "            if nums[val - 1] > 0:\n",
    "                nums[val - 1] *= -1\n",
    "            elif nums[val - 1] == 0:\n",
    "                nums[val - 1] = -1 * (len(nums) + 1)\n",
    "\n",
    "    for i in range(1, len(nums) + 1):\n",
    "        if nums[i - 1] >= 0:\n",
    "            return i\n",
    "\n",
    "    return len(nums) + 1\n"
   ],
   "id": "5328304532e27af0"
  }
 ],
 "metadata": {
  "kernelspec": {
   "display_name": "Python 3",
   "language": "python",
   "name": "python3"
  },
  "language_info": {
   "codemirror_mode": {
    "name": "ipython",
    "version": 2
   },
   "file_extension": ".py",
   "mimetype": "text/x-python",
   "name": "python",
   "nbconvert_exporter": "python",
   "pygments_lexer": "ipython2",
   "version": "2.7.6"
  }
 },
 "nbformat": 4,
 "nbformat_minor": 5
}
