{
 "cells": [
  {
   "metadata": {},
   "cell_type": "markdown",
   "source": [
    "# 1-D Dynamic Programming\n",
    "Dynamic programming with one dimensional arrays"
   ],
   "id": "5ae68ce26687a5e1"
  },
  {
   "cell_type": "code",
   "id": "initial_id",
   "metadata": {
    "collapsed": true,
    "ExecuteTime": {
     "end_time": "2025-07-28T14:03:50.945818Z",
     "start_time": "2025-07-28T14:03:50.921084Z"
    }
   },
   "source": [
    "\"\"\"\n",
    "Climbing stairs\n",
    "\"\"\"\n",
    "\n",
    "\n",
    "def climbing_stairs(n):\n",
    "    dp = [0] * (n + 1)\n",
    "    dp[1] = 1\n",
    "    dp[2] = 2\n",
    "\n",
    "    for i in range(3, n):\n",
    "        dp[i] = dp[i - 1] + dp[i - 2]\n",
    "\n",
    "    return dp[n]\n"
   ],
   "outputs": [],
   "execution_count": 1
  },
  {
   "metadata": {
    "ExecuteTime": {
     "end_time": "2025-07-28T14:29:00.335094Z",
     "start_time": "2025-07-28T14:29:00.328982Z"
    }
   },
   "cell_type": "code",
   "source": [
    "\"\"\"\n",
    "Minimum cost climbing stairs\n",
    "\"\"\"\n",
    "\n",
    "\n",
    "def minCostClimbing(cost):\n",
    "    cost.append(0)\n",
    "\n",
    "    for i in range(len(cost) - 3, -1, -1):\n",
    "        cost[i] += min(cost[i + 1], cost[i + 2])\n",
    "\n",
    "    return min(cost[0], cost[1])"
   ],
   "id": "db17687163e0afa0",
   "outputs": [],
   "execution_count": 2
  },
  {
   "metadata": {
    "ExecuteTime": {
     "end_time": "2025-07-28T16:37:20.157346Z",
     "start_time": "2025-07-28T16:37:20.144555Z"
    }
   },
   "cell_type": "code",
   "source": [
    "\"\"\"\n",
    "Nth Tribonacci Number\n",
    "\"\"\"\n",
    "\n",
    "\n",
    "def tribonacci(n):\n",
    "    dp = [0] * (n + 1)\n",
    "    dp[1] = 1\n",
    "    dp[2] = 2\n",
    "\n",
    "    for i in range(3, n + 1):\n",
    "        dp[i] = dp[i - 1] + dp[i - 2] + dp[i - 3]\n",
    "\n",
    "    return dp[n]"
   ],
   "id": "be0e404f5b18aa38",
   "outputs": [],
   "execution_count": 3
  },
  {
   "metadata": {
    "ExecuteTime": {
     "end_time": "2025-07-28T22:52:07.580439Z",
     "start_time": "2025-07-28T22:52:07.572061Z"
    }
   },
   "cell_type": "code",
   "source": [
    "\"\"\"\n",
    "House Robber\n",
    "\"\"\"\n",
    "\n",
    "\n",
    "def house_robber(houses):\n",
    "    rob1, rob2 = 0, 0\n",
    "    for n in houses:\n",
    "        temp = max(n + rob1, rob2)\n",
    "        rob1 = rob2\n",
    "        rob2 = temp\n",
    "    return rob2\n"
   ],
   "id": "a664ef00d4c7826f",
   "outputs": [],
   "execution_count": 1
  },
  {
   "metadata": {
    "ExecuteTime": {
     "end_time": "2025-07-28T23:01:50.258881Z",
     "start_time": "2025-07-28T23:01:50.247986Z"
    }
   },
   "cell_type": "code",
   "source": [
    "\"\"\"\n",
    "House robber 2\n",
    "\"\"\"\n",
    "\n",
    "\n",
    "def house_robbing_again(houses):\n",
    "    return max(houses[0], house_robber(houses[1:]), house_robber(houses[:-1]))"
   ],
   "id": "25a29353523c947",
   "outputs": [],
   "execution_count": 2
  },
  {
   "metadata": {
    "ExecuteTime": {
     "end_time": "2025-07-28T23:10:25.448926Z",
     "start_time": "2025-07-28T23:10:25.437448Z"
    }
   },
   "cell_type": "code",
   "source": [
    "\"\"\"\n",
    "Longest palindrome\n",
    "\"\"\"\n",
    "\n",
    "\n",
    "def longest_palindrome(s):\n",
    "    res = \"\"\n",
    "    reslen = 0\n",
    "\n",
    "    for i in range(len(s)):\n",
    "        l, r = i, i\n",
    "        while l >= 0 and r < len(s) and s[l] == s[r]:\n",
    "            if (r - l + 1) > reslen:\n",
    "                res = s[l:r + 1]\n",
    "                l -= 1\n",
    "                r += 1\n",
    "\n",
    "        l, r = i, i + 1\n",
    "        while l >= 0 and r < len(s) and s[l] == s[r]:\n",
    "            if (r - l + 1) > reslen:\n",
    "                res = s[l:r + 1]\n",
    "                reslen = r - l + 1\n",
    "            l -= 1\n",
    "            r += 1\n",
    "\n",
    "    return res"
   ],
   "id": "743e67861a125aa4",
   "outputs": [],
   "execution_count": 3
  },
  {
   "metadata": {
    "ExecuteTime": {
     "end_time": "2025-07-28T23:33:28.568035Z",
     "start_time": "2025-07-28T23:33:28.561078Z"
    }
   },
   "cell_type": "code",
   "source": [
    "\"\"\"\n",
    "Count Sub Strings\n",
    "\"\"\"\n",
    "\n",
    "\n",
    "def countSubStrings(s):\n",
    "    res = 0\n",
    "\n",
    "    def palindromHelper(l, r, res):\n",
    "        while l >= 0 and r < len(s) and s[l] == s[r]:\n",
    "            res += 1\n",
    "            l -= 1\n",
    "            r += 1\n",
    "\n",
    "    for i in range(len(s)):\n",
    "        l = r = i\n",
    "\n",
    "        palindromHelper(l, r, res)\n",
    "\n",
    "        l = i\n",
    "        r = i + 1\n",
    "        palindromHelper(l, r, res)\n",
    "\n",
    "    return res"
   ],
   "id": "9522de3d1a238e41",
   "outputs": [],
   "execution_count": 4
  },
  {
   "metadata": {
    "ExecuteTime": {
     "end_time": "2025-07-29T00:02:20.527658Z",
     "start_time": "2025-07-29T00:02:20.518887Z"
    }
   },
   "cell_type": "code",
   "source": [
    "\"\"\"\n",
    "Decode Ways\n",
    "\"\"\"\n",
    "\n",
    "\n",
    "def decodeWays(s):\n",
    "    dp = {len(s): 1}\n",
    "\n",
    "    def dfs(i):\n",
    "        if i in dp:\n",
    "            return dp[i]\n",
    "\n",
    "        if s[i] == \"0\":\n",
    "            return 0\n",
    "\n",
    "        res = dfs(i + 1)\n",
    "        if (i + 1 < len(s) and (s[i] == \"1\" or (s[i] == \"2\" and s[i + 1] in \"0123456\"))):\n",
    "            res += dfs(i + 2)\n",
    "\n",
    "        dp[i] = res\n",
    "        return res\n",
    "\n",
    "    return dfs(0)\n"
   ],
   "id": "d79fc41e52944d48",
   "outputs": [],
   "execution_count": 5
  },
  {
   "metadata": {
    "ExecuteTime": {
     "end_time": "2025-07-29T00:05:19.116763Z",
     "start_time": "2025-07-29T00:05:19.106679Z"
    }
   },
   "cell_type": "code",
   "source": [
    "\"\"\"\n",
    "Coin change problem\n",
    "\"\"\"\n",
    "\n",
    "\n",
    "def coin_change(coins, target):\n",
    "    dp = [target + 1] * (target + 1)\n",
    "\n",
    "    dp[0] = 0\n",
    "\n",
    "    for i in range(1, target + 1):\n",
    "        for c in coins:\n",
    "            if i - c >= 0:\n",
    "                dp[i] = min(dp[i], dp[i - c] + 1)\n",
    "\n",
    "    if dp[target] == target + 1:\n",
    "        return -1\n",
    "    else:\n",
    "        return dp[target]"
   ],
   "id": "6c459039d4848208",
   "outputs": [],
   "execution_count": 6
  },
  {
   "metadata": {
    "ExecuteTime": {
     "end_time": "2025-07-29T00:22:12.433276Z",
     "start_time": "2025-07-29T00:22:12.423283Z"
    }
   },
   "cell_type": "code",
   "source": [
    "\"\"\"\n",
    "Maximum product subarray\n",
    "\"\"\"\n",
    "\n",
    "\n",
    "def max_product(nums):\n",
    "    res = max(nums)\n",
    "\n",
    "    curMin, curMax = 1, 1\n",
    "    for n in nums:\n",
    "        if n == 0:\n",
    "            curMin, curMax = 1, 1\n",
    "            continue\n",
    "        tmp_curMax = curMax * n\n",
    "        curMax = max(n * curMax, n * curMin, n)\n",
    "        curMin = min(tmp_curMax, n * curMin, n)\n",
    "        res = max(res, curMax)\n",
    "\n",
    "    return res\n"
   ],
   "id": "b2c3790cab4ac829",
   "outputs": [],
   "execution_count": 7
  },
  {
   "metadata": {
    "ExecuteTime": {
     "end_time": "2025-07-29T14:21:21.066211Z",
     "start_time": "2025-07-29T14:21:21.048652Z"
    }
   },
   "cell_type": "code",
   "source": [
    "\"\"\"\n",
    "Word break\n",
    "\"\"\"\n",
    "\n",
    "\n",
    "def word_break(s, wordDict):\n",
    "    dp = [False] * (len(s) + 1)\n",
    "    dp[len(s)] = True\n",
    "\n",
    "    for i in range(len(s) - 1, -1, -1):\n",
    "        for w in wordDict:\n",
    "            if (i + len(w)) <= len(s) and s[i: i + len(w)] == w:\n",
    "                dp[i] = dp[i + len(w)]\n",
    "            if dp[i]:\n",
    "                break\n",
    "\n",
    "    return dp[0]\n",
    "\n"
   ],
   "id": "96dd8f3736a8173e",
   "outputs": [],
   "execution_count": 8
  },
  {
   "metadata": {
    "ExecuteTime": {
     "end_time": "2025-07-29T21:03:27.902527Z",
     "start_time": "2025-07-29T21:03:27.738893Z"
    }
   },
   "cell_type": "code",
   "source": [
    "\"\"\"\n",
    "Longest subsequence\n",
    "\n",
    "Start at the last index,\n",
    "[1,2,4,3] is your example\n",
    "LIS[last index] = 1\n",
    "LIS[last index - 1] = 1, 1 + LIS[3]\n",
    "Time complexity : O(n^2)\n",
    "\"\"\"\n",
    "\n",
    "\n",
    "def lis(nums):\n",
    "    lis = [1] * len(nums)\n",
    "\n",
    "    for i in range(len(nums) - 1, -1, -1):\n",
    "        for j in range(i + 1, len(nums)):\n",
    "            if nums[i] < nums[j]:\n",
    "                lis[i] = max(lis[i], 1 + lis[j])\n",
    "\n",
    "    return max(lis)"
   ],
   "id": "8255b4af644ee204",
   "outputs": [],
   "execution_count": 9
  },
  {
   "metadata": {
    "ExecuteTime": {
     "end_time": "2025-07-29T21:20:24.469554Z",
     "start_time": "2025-07-29T21:20:24.442035Z"
    }
   },
   "cell_type": "code",
   "source": [
    "\"\"\"\n",
    "Partition equal subset sum\n",
    "\"\"\"\n",
    "\n",
    "\n",
    "def canParition(nums):\n",
    "    if sum(nums) % 2:\n",
    "        return False\n",
    "\n",
    "    dp = set()\n",
    "    dp.add(0)\n",
    "    target = sum(nums) // 2\n",
    "\n",
    "    for i in range(len(nums) - 1, - 1, -1):\n",
    "        nextDP = set()\n",
    "        for t in dp:\n",
    "            nextDP.add(t + nums[i])\n",
    "            nextDP.add(t)\n",
    "        dp = nextDP\n",
    "\n",
    "    return True if target in dp else False"
   ],
   "id": "7b9c999f2d0bd034",
   "outputs": [],
   "execution_count": 10
  },
  {
   "metadata": {
    "ExecuteTime": {
     "end_time": "2025-07-29T22:05:25.703788Z",
     "start_time": "2025-07-29T22:05:25.680165Z"
    }
   },
   "cell_type": "code",
   "source": [
    "\"\"\"\n",
    "Combination sum IV\n",
    "\"\"\"\n",
    "\n",
    "\n",
    "def comboSum(nums, target):\n",
    "    dp = {0: 1}\n",
    "\n",
    "    for total in range(1, target + 1):\n",
    "        dp[total] = 0\n",
    "        for n in nums:\n",
    "            dp[total - n] += dp.get(total - n, 0)\n",
    "\n",
    "    return dp[target]\n",
    "\n"
   ],
   "id": "2ead68283dd6c5d5",
   "outputs": [],
   "execution_count": 11
  },
  {
   "metadata": {
    "ExecuteTime": {
     "end_time": "2025-07-29T22:33:05.322585Z",
     "start_time": "2025-07-29T22:33:05.294006Z"
    }
   },
   "cell_type": "code",
   "source": [
    "\"\"\"\n",
    "Perfect squares\n",
    "\"\"\"\n",
    "\n",
    "from math import sqrt, ceil\n",
    "\n",
    "\n",
    "def perfect_squares(target):\n",
    "    per_s = []\n",
    "    for i in range(ceil(sqrt(target) + 1)):\n",
    "        if (i * i) <= target:\n",
    "            per_s.append((i * i))\n",
    "\n",
    "    dp = [target + 1] * (target + 1)\n",
    "    dp[0] = 0\n",
    "\n",
    "    for i in range(1, target + 1):\n",
    "        for s in per_s:\n",
    "            if i - s >= 0:\n",
    "                dp[i] = min(dp[i], dp[i - s] + 1)\n",
    "\n",
    "    if dp[target] != target + 1:\n",
    "        return dp[target]\n",
    "    else:\n",
    "        return -1"
   ],
   "id": "6af9a214b0210f2c",
   "outputs": [],
   "execution_count": 12
  },
  {
   "metadata": {
    "ExecuteTime": {
     "end_time": "2025-07-29T22:55:43.653617Z",
     "start_time": "2025-07-29T22:55:43.645581Z"
    }
   },
   "cell_type": "code",
   "source": [
    "\"\"\"\n",
    "Integer Break\n",
    "\"\"\"\n",
    "\n",
    "\n",
    "def integer_break(n):\n",
    "    dp = [0] * (n + 1)\n",
    "    dp[1] = 1\n",
    "\n",
    "    for num in range(2, n + 1):\n",
    "        dp[num] = 0 if num == n else num\n",
    "        for i in range(1, num):\n",
    "            dp[num] = max(dp[num], dp[i] * dp[num - 1])\n",
    "\n",
    "    return dp[n]"
   ],
   "id": "9471cb166a3464a7",
   "outputs": [],
   "execution_count": 13
  },
  {
   "metadata": {},
   "cell_type": "code",
   "outputs": [],
   "execution_count": null,
   "source": "",
   "id": "96cd805a69f066b7"
  }
 ],
 "metadata": {
  "kernelspec": {
   "display_name": "Python 3",
   "language": "python",
   "name": "python3"
  },
  "language_info": {
   "codemirror_mode": {
    "name": "ipython",
    "version": 2
   },
   "file_extension": ".py",
   "mimetype": "text/x-python",
   "name": "python",
   "nbconvert_exporter": "python",
   "pygments_lexer": "ipython2",
   "version": "2.7.6"
  }
 },
 "nbformat": 4,
 "nbformat_minor": 5
}
