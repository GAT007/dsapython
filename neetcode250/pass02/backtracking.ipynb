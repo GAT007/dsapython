{
 "cells": [
  {
   "metadata": {},
   "cell_type": "markdown",
   "source": "# Backtracking",
   "id": "4725f13de550666b"
  },
  {
   "cell_type": "code",
   "id": "initial_id",
   "metadata": {
    "collapsed": true,
    "ExecuteTime": {
     "end_time": "2025-07-23T00:55:07.539714Z",
     "start_time": "2025-07-23T00:55:07.524792Z"
    }
   },
   "source": [
    "\"\"\"\n",
    "Subsets : all possible subsets\n",
    "\"\"\"\n",
    "\n",
    "\n",
    "def subset(nums):\n",
    "    nums.sort()\n",
    "\n",
    "    def backtrack(start, path):\n",
    "        result.append(path.copy())\n",
    "\n",
    "        for i in range(start, len(nums)):\n",
    "            if i > start and nums[i] == nums[i - 1]:\n",
    "                continue\n",
    "            path.append(nums[i])\n",
    "            backtrack(i + 1, path)\n",
    "            path.pop()\n",
    "\n",
    "    result = []\n",
    "    backtrack(0, [])\n",
    "    return result\n",
    "\n",
    "\n",
    "print(subset([1, 2, 3]))"
   ],
   "outputs": [
    {
     "name": "stdout",
     "output_type": "stream",
     "text": [
      "[[], [1], [1, 2], [1, 2, 3], [1, 3], [2], [2, 3], [3]]\n"
     ]
    }
   ],
   "execution_count": 13
  },
  {
   "metadata": {
    "ExecuteTime": {
     "end_time": "2025-07-23T00:33:20.248956Z",
     "start_time": "2025-07-23T00:33:20.237467Z"
    }
   },
   "cell_type": "code",
   "source": [
    "\"\"\"\n",
    "Combination sum\n",
    "Distinct integers ->\n",
    "\"\"\"\n",
    "\n",
    "\n",
    "def combination_sum(candidates, target):\n",
    "    res = []\n",
    "\n",
    "    def dfs(i, cur, total):\n",
    "        #Handling our base cases\n",
    "        #When total is equal to target, append our current path to the res\n",
    "        if total == target:\n",
    "            res.append(cur.copy())\n",
    "            return\n",
    "        #When the total is greater than target or we have run out of candidates, return\n",
    "        if i >= len(candidates) or total > target:\n",
    "            return\n",
    "\n",
    "        #First path where you keep appending the same thing\n",
    "        cur.append(candidates[i])\n",
    "        dfs(i, cur, total + candidates[i])\n",
    "\n",
    "        #Second path where you move ahead with the thing\n",
    "        cur.pop()\n",
    "        dfs(i + 1, cur, total)\n",
    "\n",
    "    dfs(0, [], 0)\n",
    "    return res"
   ],
   "id": "1695256e7511c824",
   "outputs": [],
   "execution_count": 4
  },
  {
   "metadata": {
    "ExecuteTime": {
     "end_time": "2025-07-23T00:36:58.469772Z",
     "start_time": "2025-07-23T00:36:58.460301Z"
    }
   },
   "cell_type": "code",
   "source": [
    "def combination_sum_2(candidates, target):\n",
    "    res = []\n",
    "    candidates.sort()\n",
    "\n",
    "    def dfs(i, cur, total):\n",
    "        if total == target:\n",
    "            res.append(cur[:])\n",
    "            return\n",
    "        if i >= len(candidates) or total > target:\n",
    "            return\n",
    "\n",
    "        cur.append(candidates[i])\n",
    "        dfs(i, cur, total + candidates[i])\n",
    "        cur.pop()\n",
    "        while i + 1 < len(candidates[i]) and candidates[i] == candidates[i + 1]:\n",
    "            i += 1\n",
    "        dfs(i + 1, cur, total)\n",
    "\n",
    "    dfs(0, [], 0)\n",
    "    return res"
   ],
   "id": "c76aa662ec5d338a",
   "outputs": [],
   "execution_count": 5
  },
  {
   "metadata": {
    "ExecuteTime": {
     "end_time": "2025-07-23T00:44:41.381971Z",
     "start_time": "2025-07-23T00:44:41.369163Z"
    }
   },
   "cell_type": "code",
   "source": [
    "\"\"\"\n",
    "Combinations\n",
    "\"\"\"\n",
    "\n",
    "\n",
    "def combinations(n, k):\n",
    "    def backtrack(start, path):\n",
    "        if len(path) == k:\n",
    "            res.append(path.copy())\n",
    "            return\n",
    "\n",
    "        for i in range(start, n + 1):\n",
    "            path.append(i)\n",
    "            backtrack(i + 1, path)\n",
    "            path.pop()\n",
    "\n",
    "    res = []\n",
    "    backtrack(1, [])\n",
    "    return res\n",
    "\n",
    "\n",
    "print(combinations(3, 2))"
   ],
   "id": "ab593968b012dfc7",
   "outputs": [
    {
     "name": "stdout",
     "output_type": "stream",
     "text": [
      "[[1, 2], [1, 3], [2, 3]]\n"
     ]
    }
   ],
   "execution_count": 10
  },
  {
   "metadata": {
    "ExecuteTime": {
     "end_time": "2025-07-23T00:47:53.465722Z",
     "start_time": "2025-07-23T00:47:53.457607Z"
    }
   },
   "cell_type": "code",
   "source": [
    "\"\"\"\n",
    "Permutations\n",
    "\"\"\"\n",
    "\n",
    "\n",
    "def permutations(nums):\n",
    "    def backtrack(start, end):\n",
    "        if start == end:\n",
    "            res.append(nums[:])\n",
    "            return\n",
    "\n",
    "        for i in range(start, end):\n",
    "            nums[start], nums[i] = nums[i], nums[start]\n",
    "            backtrack(i + 1, end)\n",
    "            nums[start], nums[i] = nums[i], nums[start]\n",
    "\n",
    "    res = []\n",
    "    backtrack(0, len(nums))\n",
    "    return res"
   ],
   "id": "31b0aeafabae657f",
   "outputs": [],
   "execution_count": 11
  },
  {
   "metadata": {
    "ExecuteTime": {
     "end_time": "2025-07-26T14:59:26.531222Z",
     "start_time": "2025-07-26T14:59:26.505360Z"
    }
   },
   "cell_type": "code",
   "source": [
    "\"\"\"\n",
    "Matchsticks to square\n",
    "\"\"\"\n",
    "\n",
    "\n",
    "def matchsticks_to_square(matches):\n",
    "    length_of_side = sum(matches) // 4\n",
    "    sides = [0] * 4\n",
    "    if sum(matches) / 4 != length_of_side:\n",
    "        return False\n",
    "\n",
    "    matches.sort(reverse=True)\n",
    "\n",
    "    def backtrack(i):\n",
    "        if i == len(matches):\n",
    "            return True\n",
    "\n",
    "        for j in range(4):\n",
    "            if sides[j] + matches[i] < length_of_side:\n",
    "                sides[j] += matches[i]\n",
    "                if backtrack(i + 1):\n",
    "                    return True\n",
    "                sides[j] -= matches[i]\n",
    "\n",
    "        return False\n",
    "\n",
    "    return backtrack(0)\n"
   ],
   "id": "1a435678babeb3c9",
   "outputs": [],
   "execution_count": 1
  },
  {
   "metadata": {
    "ExecuteTime": {
     "end_time": "2025-07-26T15:58:23.678257Z",
     "start_time": "2025-07-26T15:58:23.665701Z"
    }
   },
   "cell_type": "code",
   "source": [
    "\"\"\"\n",
    "Partition to k equal sub sets\n",
    "O(k.2^n)\n",
    "\"\"\"\n",
    "\n",
    "\n",
    "def canPartitionSubset(nums, k):\n",
    "    if sum(nums) % k:\n",
    "        return False\n",
    "    nums.sort(reverse=True)\n",
    "    target = sum(nums) / k\n",
    "    used = [False] * len(nums)\n",
    "\n",
    "    def backtrack(i, k, subsetSum):\n",
    "        if k == 0:\n",
    "            return True\n",
    "\n",
    "        if subsetSum == target:\n",
    "            backtrack(0, k - 1, 0)\n",
    "\n",
    "        for j in range(i, len(nums)):\n",
    "            if not used[j] or subsetSum + nums[j] > target:\n",
    "                continue\n",
    "\n",
    "            used[j] = True\n",
    "            if backtrack(j + 1, k, subsetSum + nums[j]):\n",
    "                return True\n",
    "            used[j] = False\n",
    "\n",
    "        return False\n",
    "\n",
    "    return backtrack(0, k, 0)"
   ],
   "id": "49e32a51ee3fb012",
   "outputs": [],
   "execution_count": 2
  },
  {
   "metadata": {},
   "cell_type": "code",
   "outputs": [],
   "execution_count": null,
   "source": "",
   "id": "515ed30f70a3cc93"
  }
 ],
 "metadata": {
  "kernelspec": {
   "display_name": "Python 3",
   "language": "python",
   "name": "python3"
  },
  "language_info": {
   "codemirror_mode": {
    "name": "ipython",
    "version": 2
   },
   "file_extension": ".py",
   "mimetype": "text/x-python",
   "name": "python",
   "nbconvert_exporter": "python",
   "pygments_lexer": "ipython2",
   "version": "2.7.6"
  }
 },
 "nbformat": 4,
 "nbformat_minor": 5
}
