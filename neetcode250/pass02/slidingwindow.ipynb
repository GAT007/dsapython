{
 "cells": [
  {
   "metadata": {},
   "cell_type": "markdown",
   "source": "# Sliding window",
   "id": "a6557ceff873eced"
  },
  {
   "cell_type": "code",
   "id": "initial_id",
   "metadata": {
    "collapsed": true,
    "ExecuteTime": {
     "end_time": "2025-07-12T19:11:26.392976Z",
     "start_time": "2025-07-12T19:11:26.385881Z"
    }
   },
   "source": [
    "\"\"\"\n",
    "Contains duplicate 2\n",
    "\"\"\"\n",
    "\n",
    "\n",
    "def contains_duplicate(nums, k):\n",
    "    window = set()\n",
    "    l = 0\n",
    "    for r in range(len(nums)):\n",
    "        if r - l > k:\n",
    "            window.remove(nums[l])\n",
    "            l += 1\n",
    "        if nums[r] in window:\n",
    "            return True\n",
    "        window.add(nums[r])\n",
    "\n",
    "    return False\n",
    "\n",
    "\n",
    "def contains_duplicate_set(nums, k):\n",
    "    window = set()\n",
    "    l = 0\n",
    "\n",
    "    for r in range(len(nums)):\n",
    "        if r - l > k:\n",
    "            window.remove(nums[l])\n",
    "            l += 1\n",
    "        if nums[r] in window:\n",
    "            return True\n",
    "        window.add(nums[r])\n",
    "\n",
    "    return False"
   ],
   "outputs": [],
   "execution_count": 1
  },
  {
   "metadata": {
    "ExecuteTime": {
     "end_time": "2025-07-12T19:15:09.670722Z",
     "start_time": "2025-07-12T19:15:09.663115Z"
    }
   },
   "cell_type": "code",
   "source": [
    "\"\"\"\n",
    "Best time to buy and sell a stock 1\n",
    "\"\"\"\n",
    "\n",
    "\n",
    "def best_time(prices):\n",
    "    l = 0\n",
    "    res = 0\n",
    "    for r in range(1, len(prices)):\n",
    "        if prices[l] < prices[r]:\n",
    "            res = max(res, prices[r] - prices[l])\n",
    "        else:\n",
    "            l = r\n",
    "\n",
    "    return res\n"
   ],
   "id": "8c7a561f73b95eac",
   "outputs": [],
   "execution_count": 2
  },
  {
   "metadata": {
    "ExecuteTime": {
     "end_time": "2025-07-12T19:32:18.704774Z",
     "start_time": "2025-07-12T19:32:18.694938Z"
    }
   },
   "cell_type": "code",
   "source": [
    "\"\"\"\n",
    "Longest substring without repeating characters\n",
    "\"\"\"\n",
    "\n",
    "\n",
    "def longest_substring(st):\n",
    "    window = set()\n",
    "    l = 0\n",
    "    res = 0\n",
    "    for r in range(len(st)):\n",
    "        while st[r] in window:\n",
    "            window.remove(st[l])\n",
    "            l += 1\n",
    "        window.add(st[r])\n",
    "        res = max(res, r - l + 1)\n",
    "\n",
    "    return res"
   ],
   "id": "a81ca6b3d58a7c90",
   "outputs": [],
   "execution_count": 3
  },
  {
   "metadata": {
    "ExecuteTime": {
     "end_time": "2025-07-12T19:36:42.315626Z",
     "start_time": "2025-07-12T19:36:42.308671Z"
    }
   },
   "cell_type": "code",
   "source": [
    "\"\"\"\n",
    "Longest repeating substring with replacement\n",
    "\"\"\"\n",
    "\n",
    "\n",
    "def longest_repeating(s, k):\n",
    "    count = {}\n",
    "    l = 0\n",
    "    maxf = 0\n",
    "    res = 0\n",
    "    for r in range(len(s)):\n",
    "        count[s[r]] = 1 + count.get(s[r], 0)\n",
    "        maxf = max(maxf, count[s[r]])\n",
    "\n",
    "        while r - l + 1 - maxf > k:\n",
    "            count[s[l]] -= 1\n",
    "            l -= 1\n",
    "        res = max(res, r - l + 1)\n",
    "\n",
    "    return res\n"
   ],
   "id": "5407fdb2fbfaedb5",
   "outputs": [],
   "execution_count": 4
  },
  {
   "metadata": {
    "ExecuteTime": {
     "end_time": "2025-07-12T19:44:36.767194Z",
     "start_time": "2025-07-12T19:44:36.755546Z"
    }
   },
   "cell_type": "code",
   "source": [
    "\"\"\"\n",
    "Permutation in a string\n",
    "\"\"\"\n",
    "\n",
    "\n",
    "def permutation(s1, s2):\n",
    "    s1_set = set(s1)\n",
    "    l = 0\n",
    "    window = set()\n",
    "    for r in range(1, len(s2)):\n",
    "        if r - l > len(s1):\n",
    "            window.remove(s2[l])\n",
    "            l += 1\n",
    "        if s1_set == window:\n",
    "            return True\n",
    "        window.add(s2[r])\n",
    "    return False\n"
   ],
   "id": "ac872cd5a3d9e228",
   "outputs": [],
   "execution_count": 5
  },
  {
   "metadata": {
    "ExecuteTime": {
     "end_time": "2025-07-12T19:47:21.638790Z",
     "start_time": "2025-07-12T19:47:21.629701Z"
    }
   },
   "cell_type": "code",
   "source": [
    "\"\"\"\n",
    "Min size subarray sum\n",
    "\"\"\"\n",
    "\n",
    "\n",
    "def minsize(nums, target):\n",
    "    cursum = 0\n",
    "    l = 0\n",
    "    res = float('inf')\n",
    "    for r in range(len(nums)):\n",
    "        cursum += nums[r]\n",
    "        while cursum > target:\n",
    "            cursum -= nums[l]\n",
    "            l += 1\n",
    "            res = min(res, r - l + 1)\n",
    "    return res"
   ],
   "id": "867cfa313d566738",
   "outputs": [],
   "execution_count": 6
  },
  {
   "metadata": {},
   "cell_type": "code",
   "outputs": [],
   "execution_count": null,
   "source": [
    "\"\"\"\n",
    "Find k closest elements\n",
    "\"\"\"\n",
    "\n",
    "\n",
    "def k_closest_elements(nums, k, x):\n",
    "    l, r = 0, len(nums) - 1\n",
    "    while r - l >= k:\n",
    "        if abs(x - nums[l]) <= abs(x - nums[r]):\n",
    "            r -= 1\n",
    "        else:\n",
    "            l += 1\n",
    "    return nums[l:r + 1]\n"
   ],
   "id": "2ada7940b46199d6"
  }
 ],
 "metadata": {
  "kernelspec": {
   "display_name": "Python 3",
   "language": "python",
   "name": "python3"
  },
  "language_info": {
   "codemirror_mode": {
    "name": "ipython",
    "version": 2
   },
   "file_extension": ".py",
   "mimetype": "text/x-python",
   "name": "python",
   "nbconvert_exporter": "python",
   "pygments_lexer": "ipython2",
   "version": "2.7.6"
  }
 },
 "nbformat": 4,
 "nbformat_minor": 5
}
