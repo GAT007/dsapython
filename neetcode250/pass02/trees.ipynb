{
 "cells": [
  {
   "metadata": {},
   "cell_type": "markdown",
   "source": "# Trees",
   "id": "d231f9aa192e8693"
  },
  {
   "cell_type": "code",
   "id": "initial_id",
   "metadata": {
    "collapsed": true,
    "ExecuteTime": {
     "end_time": "2025-07-19T15:59:18.602389Z",
     "start_time": "2025-07-19T15:59:18.586993Z"
    }
   },
   "source": [
    "\"\"\"\n",
    "Binary Tree Inorder Traversal\n",
    "\"\"\"\n",
    "\n",
    "\n",
    "def tree_preorder(root):  # C L R\n",
    "    stack = [root]\n",
    "    res = []\n",
    "    while stack:\n",
    "        curr = stack.pop()\n",
    "        res.append(curr.val)\n",
    "        if curr.right: stack.append(curr.right)\n",
    "        if curr.left: stack.append(curr.left)\n",
    "\n",
    "    return res\n",
    "\n",
    "\n",
    "def tree_inorder(root):  # L C R\n",
    "    stack = []\n",
    "    res = []\n",
    "    cur = root\n",
    "\n",
    "    while cur or stack:\n",
    "        while cur:\n",
    "            stack.append(cur)\n",
    "            cur = cur.left\n",
    "\n",
    "        cur = stack.pop()\n",
    "        res.append(cur.val)\n",
    "        cur = cur.right\n",
    "\n",
    "    return res\n",
    "\n",
    "\n",
    "def tree_postorder(root):  #L R C\n",
    "    res = []\n",
    "\n",
    "    def postorder(node):\n",
    "        if not node:\n",
    "            return\n",
    "\n",
    "        postorder(node.left)\n",
    "        postorder(node.right)\n",
    "        res.append(node.val)\n",
    "\n",
    "    postorder(root)\n",
    "    return res\n",
    "\n"
   ],
   "outputs": [],
   "execution_count": 1
  },
  {
   "metadata": {
    "ExecuteTime": {
     "end_time": "2025-07-19T16:03:32.225173Z",
     "start_time": "2025-07-19T16:03:32.217804Z"
    }
   },
   "cell_type": "code",
   "source": [
    "\"\"\"\n",
    "Invert a binary tree\n",
    "\"\"\"\n",
    "\n",
    "\n",
    "def invert(root):\n",
    "    if not root:\n",
    "        return False\n",
    "\n",
    "    stack = [root]\n",
    "    while stack:\n",
    "        curr = stack.pop()\n",
    "        if curr:\n",
    "            curr.left, curr.right = curr.right, curr.left\n",
    "        stack.append(curr.right)\n",
    "        stack.append(curr.left)\n",
    "\n",
    "    return root\n"
   ],
   "id": "cb27ba79af203cde",
   "outputs": [],
   "execution_count": 2
  },
  {
   "metadata": {
    "ExecuteTime": {
     "end_time": "2025-07-19T16:12:42.122164Z",
     "start_time": "2025-07-19T16:12:42.112257Z"
    }
   },
   "cell_type": "code",
   "source": [
    "\"\"\"\n",
    "Maximum depth of a binary tree\n",
    "\"\"\"\n",
    "\n",
    "from collections import deque\n",
    "\n",
    "\n",
    "def max_depth(root):\n",
    "    if not root:\n",
    "        return False\n",
    "\n",
    "    level = 1\n",
    "    q = deque([root, level])\n",
    "\n",
    "    while q:\n",
    "        curr, level = q.popleft()\n",
    "        level += 1\n",
    "        if curr.left: q.append((curr.left, level))\n",
    "        if curr.right: q.append((curr.right, level))\n",
    "\n",
    "    return level"
   ],
   "id": "23655028c7ab898d",
   "outputs": [],
   "execution_count": 3
  },
  {
   "metadata": {
    "ExecuteTime": {
     "end_time": "2025-07-19T16:38:18.251078Z",
     "start_time": "2025-07-19T16:38:18.241892Z"
    }
   },
   "cell_type": "code",
   "source": [
    "\"\"\"\n",
    "Diameter of a binary tree\n",
    "\"\"\"\n",
    "\n",
    "\n",
    "def diameter(root):\n",
    "    res = 0\n",
    "\n",
    "    def dfs(curr):\n",
    "        if not curr:\n",
    "            return 0\n",
    "\n",
    "        left = dfs(curr.left)\n",
    "        right = dfs(curr.right)\n",
    "        nonlocal res\n",
    "        res = max(res, left + right)\n",
    "        return 1 + max(left, right)\n",
    "\n",
    "    dfs(root)\n",
    "    return res\n"
   ],
   "id": "8441459c87d6408b",
   "outputs": [],
   "execution_count": 4
  },
  {
   "metadata": {
    "ExecuteTime": {
     "end_time": "2025-07-19T18:57:20.908135Z",
     "start_time": "2025-07-19T18:57:20.900693Z"
    }
   },
   "cell_type": "code",
   "source": [
    "\"\"\"\n",
    "Balanced binary tree\n",
    "\"\"\"\n",
    "\n",
    "\n",
    "def isBalanced(root):\n",
    "    def dfs(root):\n",
    "        if not root: return [True, 0]\n",
    "\n",
    "        left, right = dfs(root.left), dfs(root.right)\n",
    "        balanced = (left[0] and right[0] and abs(left[1] - right[1]) <= 1)\n",
    "\n",
    "        return [balanced, 1 + max(left[1], right[1])]\n",
    "\n",
    "    return dfs(root)[0]"
   ],
   "id": "da2c25a82dbe11cb",
   "outputs": [],
   "execution_count": 5
  },
  {
   "metadata": {
    "ExecuteTime": {
     "end_time": "2025-07-19T19:14:35.174455Z",
     "start_time": "2025-07-19T19:14:35.164303Z"
    }
   },
   "cell_type": "code",
   "source": [
    "\"\"\"\n",
    "Same tree\n",
    "\"\"\"\n",
    "\n",
    "from collections import deque\n",
    "\n",
    "\n",
    "def same_tree(r1, r2):\n",
    "    l, r = r1, r2\n",
    "\n",
    "    q = deque([(l, r)])\n",
    "\n",
    "    while q:\n",
    "        l1, r1 = q.popleft()\n",
    "        if not l1 and not r1:\n",
    "            continue\n",
    "\n",
    "        if not l1 or not r1:\n",
    "            return False\n",
    "\n",
    "        if l1.val != r1.val:\n",
    "            return False\n",
    "        q.append((l1.left, r1.left))\n",
    "        q.append((l1.right, r1.right))\n",
    "\n",
    "    return True\n"
   ],
   "id": "92fbf8bf8ed8116c",
   "outputs": [],
   "execution_count": 6
  },
  {
   "metadata": {
    "ExecuteTime": {
     "end_time": "2025-07-19T20:57:23.750223Z",
     "start_time": "2025-07-19T20:57:23.738159Z"
    }
   },
   "cell_type": "code",
   "source": [
    "\"\"\"\n",
    "Subtree of another tree\n",
    "\"\"\"\n",
    "\n",
    "\n",
    "def subtree(r1, r2):\n",
    "    s, t = r1, r2\n",
    "\n",
    "    def sameTree(s, t):\n",
    "        if not s and not t:\n",
    "            return True\n",
    "\n",
    "        if s and t and s.val == t.val:\n",
    "            return (sameTree(s.left, t.left) and sameTree(s.right, t.right))\n",
    "\n",
    "        return False\n",
    "\n",
    "    if not t: return True\n",
    "    if not s and t: return False\n",
    "    if sameTree(s, t): return True\n",
    "    return (subtree(s.left, t) or subtree(s.right, t))"
   ],
   "id": "911f1f888030a770",
   "outputs": [],
   "execution_count": 7
  },
  {
   "metadata": {
    "ExecuteTime": {
     "end_time": "2025-07-19T21:13:37.985385Z",
     "start_time": "2025-07-19T21:13:37.965267Z"
    }
   },
   "cell_type": "code",
   "source": [
    "\"\"\"\n",
    "Lowest common ancestor in trees\n",
    "\"\"\"\n",
    "\n",
    "\n",
    "def lca(root, p, q):\n",
    "    if not root:\n",
    "        return False\n",
    "\n",
    "    q = deque([root])\n",
    "    parent = {root: None}\n",
    "\n",
    "    # BFS till both the nodes are there in the parent map\n",
    "    while q:\n",
    "        curr = q.pop()\n",
    "        if curr.left:\n",
    "            q.append(curr.left)\n",
    "            parent[curr.left] = curr\n",
    "\n",
    "        if curr.right:\n",
    "            q.append(curr.right)\n",
    "            parent[curr.right] = curr\n",
    "\n",
    "        if p in parent and q in parent:\n",
    "            break\n",
    "\n",
    "    # Create an ancestors set\n",
    "    ancestors = set()\n",
    "\n",
    "    #Go through all of p's parents\n",
    "    while p:\n",
    "        ancestors.add(p)\n",
    "        p = parent[p]\n",
    "\n",
    "    #Go through all of q's parents till you find them in ancestors\n",
    "    while q:\n",
    "        if q in ancestors:\n",
    "            return q\n",
    "        q = parent[q]\n",
    "\n",
    "    \"\"\"\n",
    "    Summing up the logic on this :\n",
    "    1. Create a queue and a parent map\n",
    "    2. Iterate through the tree till p and q are in the parent map\n",
    "    3. Create an ancestors set\n",
    "    4. Iterate through p till you reach the root (while p: ancestors.add(p), p = parent[p]\n",
    "    5. Iterate through q till you find the parent in the ancestors set, if yes return q else q = parent[q]\n",
    "    \"\"\"\n",
    "    return False"
   ],
   "id": "e517ae94ab17d21d",
   "outputs": [],
   "execution_count": 8
  },
  {
   "metadata": {},
   "cell_type": "markdown",
   "source": [
    "# Binary Search Trees\n",
    "\n",
    "A unique kind of a binary tree where every left node is lesser than it's parent and every right node is greater than it's parent"
   ],
   "id": "bdaffb7fa2336d71"
  },
  {
   "metadata": {
    "ExecuteTime": {
     "end_time": "2025-07-20T15:10:20.147413Z",
     "start_time": "2025-07-20T15:10:20.127852Z"
    }
   },
   "cell_type": "code",
   "source": [
    " \"\"\"\n",
    " Insert into a binary search tree\n",
    "\n",
    " Time complexity of the tree can be\n",
    " O(n)\n",
    " where n is the number of nodes\n",
    "    or\n",
    "     O(h)\n",
    " where h is the height of the tree\n",
    " \"\"\"\n",
    "\n",
    "\n",
    "class TreeNode:\n",
    "    def __init__(self, val, left=None, right=None):\n",
    "        self.val = val\n",
    "        self.left = left\n",
    "        self.right = right\n",
    "\n",
    "\n",
    "def insertIntoBST(root, val):\n",
    "    if not root:\n",
    "        return TreeNode(val)\n",
    "\n",
    "    cur = root\n",
    "    while True:\n",
    "        if val > cur.val:\n",
    "            if not cur.right:\n",
    "                cur.right = TreeNode(val)\n",
    "                return root\n",
    "            cur = cur.right\n",
    "\n",
    "        else:\n",
    "            if not cur.left:\n",
    "                cur.left = TreeNode(val)\n",
    "                return root\n",
    "            cur = cur.left"
   ],
   "id": "e6a92aded2db9efd",
   "outputs": [],
   "execution_count": 9
  },
  {
   "metadata": {
    "ExecuteTime": {
     "end_time": "2025-07-20T15:22:51.874680Z",
     "start_time": "2025-07-20T15:22:51.866141Z"
    }
   },
   "cell_type": "code",
   "source": [
    "\"\"\"\n",
    "Delete node in BST\n",
    "\"\"\"\n",
    "\n",
    "\n",
    "def deleteNode(root, key):\n",
    "    if not root:\n",
    "        return root\n",
    "\n",
    "    if key > root.val:\n",
    "        root.right = deleteNode(root.right, key)\n",
    "    elif key < root.val:\n",
    "        root.left = deleteNode(root.left, key)\n",
    "\n",
    "    else:\n",
    "        if not root.left:\n",
    "            return root.right\n",
    "        elif not root.right:\n",
    "            return root.left\n",
    "\n",
    "        cur = root.right\n",
    "        while cur.left:\n",
    "            cur = cur.left\n",
    "        root.val = cur.val\n",
    "        root.right = deleteNode(root.right, cur.val)\n",
    "\n",
    "    return root"
   ],
   "id": "15729412b0cea3e6",
   "outputs": [],
   "execution_count": 10
  },
  {
   "metadata": {
    "ExecuteTime": {
     "end_time": "2025-07-20T15:31:43.695836Z",
     "start_time": "2025-07-20T15:31:43.688788Z"
    }
   },
   "cell_type": "code",
   "source": [
    "\"\"\"\n",
    "Binary Tree Level Order Traversal\n",
    "\"\"\"\n",
    "\n",
    "from collections import deque\n",
    "\n",
    "\n",
    "def levelOrderTraversal(root):\n",
    "    q = deque([root])\n",
    "    res = []\n",
    "    while q:\n",
    "        temp = []\n",
    "        for i in range(len(q)):\n",
    "            curr = q.popleft()\n",
    "            temp.append(curr.val)\n",
    "            if curr.left: q.append(curr.left)\n",
    "            if curr.right: q.append(curr.right)\n",
    "        res.append(temp)\n",
    "    return res\n"
   ],
   "id": "1828e3104759991c",
   "outputs": [],
   "execution_count": 11
  },
  {
   "metadata": {
    "ExecuteTime": {
     "end_time": "2025-07-20T15:33:26.592431Z",
     "start_time": "2025-07-20T15:33:26.580613Z"
    }
   },
   "cell_type": "code",
   "source": [
    "\"\"\"\n",
    "Binary tree right hand view\n",
    "\"\"\"\n",
    "\n",
    "\n",
    "def right_hand_view(root):\n",
    "    res = []\n",
    "\n",
    "    def dfs(node, depth):\n",
    "        if not node:\n",
    "            return None\n",
    "        if depth == len(res):\n",
    "            res.append(node.val)\n",
    "\n",
    "        dfs(node.right, depth + 1)\n",
    "        dfs(node.left, depth + 1)\n",
    "\n",
    "    dfs(root, 0)\n",
    "    return res"
   ],
   "id": "1628e840856ed10a",
   "outputs": [],
   "execution_count": 12
  },
  {
   "metadata": {
    "ExecuteTime": {
     "end_time": "2025-07-20T16:53:58.261458Z",
     "start_time": "2025-07-20T16:53:58.244802Z"
    }
   },
   "cell_type": "code",
   "source": [
    "class GraphNode:\n",
    "    def __init__(self, val, isLeaf, topLeft, topRight, bottomLeft, bottomRight):\n",
    "        self.val = val\n",
    "        self.isLeaf = isLeaf\n",
    "        self.topLeft = topLeft\n",
    "        self.topRight = topRight\n",
    "        self.bottomLeft = bottomLeft\n",
    "        self.bottomRight = bottomRight\n",
    "\n",
    "\n",
    "class Solution:\n",
    "    def construct(self, grid):\n",
    "        def dfs(n, r, c):\n",
    "            allSame = True\n",
    "            for i in range(n):\n",
    "                for j in range(n):\n",
    "                    if grid[r][c] != grid[r + i][c + j]:\n",
    "                        allSame = False\n",
    "                        break\n",
    "\n",
    "            if allSame:\n",
    "                return GraphNode(grid[r][c], True, None)\n",
    "\n",
    "            n = n // 2\n",
    "            topleft = dfs(n, r, c)\n",
    "            topright = dfs(n, r, c + n)\n",
    "            bottomleft = dfs(n, r + n, c)\n",
    "            bottomright = dfs(n, r + n, c + n)\n",
    "            return GraphNode(0, False, topleft, topright, bottomleft, bottomright)\n",
    "\n",
    "        return dfs(len(grid), 0, 0)\n"
   ],
   "id": "cfc14184f3d41cb5",
   "outputs": [],
   "execution_count": 13
  },
  {
   "metadata": {
    "ExecuteTime": {
     "end_time": "2025-07-20T17:14:11.160977Z",
     "start_time": "2025-07-20T17:14:11.152569Z"
    }
   },
   "cell_type": "code",
   "source": [
    "\"\"\"\n",
    "Number of good nodes\n",
    "\"\"\"\n",
    "\n",
    "from collections import deque\n",
    "\n",
    "\n",
    "def good_nodes(root):\n",
    "    q = deque([(root, -float('inf'))])\n",
    "    res = 0\n",
    "    while q:\n",
    "        curr, lvl = q.popleft()\n",
    "        if curr.left: q.append((curr.left, max(lvl, curr.val)))\n",
    "        if curr.right: q.append((curr.right, max(lvl, curr.val)))\n",
    "        if curr.val > lvl:\n",
    "            res += 1\n",
    "\n",
    "    return res"
   ],
   "id": "8061a89c07ce14e2",
   "outputs": [],
   "execution_count": 14
  },
  {
   "metadata": {
    "ExecuteTime": {
     "end_time": "2025-07-20T17:18:01.408884Z",
     "start_time": "2025-07-20T17:18:01.403853Z"
    }
   },
   "cell_type": "code",
   "source": [
    "\"\"\"\n",
    "Valid binary search tree\n",
    "\"\"\"\n",
    "\n",
    "\n",
    "def isValidBST(root):\n",
    "    def valid(node, left, right):\n",
    "        if not node:\n",
    "            return True\n",
    "\n",
    "        if not (left < node.val < right):\n",
    "            return False\n",
    "\n",
    "        return valid(node.left, left, node.val) and valid(node.right, node.val, right)\n",
    "\n",
    "    return valid(root, -float('inf'), -float('inf'))"
   ],
   "id": "43518b5c655a265e",
   "outputs": [],
   "execution_count": 15
  },
  {
   "metadata": {
    "ExecuteTime": {
     "end_time": "2025-07-20T17:31:18.777858Z",
     "start_time": "2025-07-20T17:31:18.770153Z"
    }
   },
   "cell_type": "code",
   "source": [
    "\"\"\"\n",
    "Kth smallest element in a bst\n",
    "\"\"\"\n",
    "\n",
    "\n",
    "def kthsmallest(root, k):\n",
    "    n = 0\n",
    "    stack = []\n",
    "    cur = root\n",
    "\n",
    "    while cur or stack:\n",
    "        while cur:\n",
    "            stack.append(cur)\n",
    "            cur = cur.left\n",
    "        cur = stack.pop()\n",
    "        n += 1\n",
    "        if n == k:\n",
    "            return cur.val\n",
    "        cur = cur.right\n",
    "\n",
    "    return -1"
   ],
   "id": "bec1754507980047",
   "outputs": [],
   "execution_count": 16
  },
  {
   "metadata": {
    "ExecuteTime": {
     "end_time": "2025-07-20T18:05:27.032773Z",
     "start_time": "2025-07-20T18:05:27.024656Z"
    }
   },
   "cell_type": "code",
   "source": [
    "\"\"\"\n",
    "Construct a binary tree from preorder and inorder traversal\n",
    "\"\"\"\n",
    "\n",
    "\n",
    "def buildTree(preorder, inorder):\n",
    "    if not preorder or not inorder:\n",
    "        return None\n",
    "\n",
    "    root = TreeNode(preorder[0])\n",
    "\n",
    "    mid = inorder.index(preorder[0])\n",
    "\n",
    "    root.left = buildTree(preorder[1:mid + 1], inorder[:mid])\n",
    "    root.right = buildTree(preorder[mid + 1:], inorder[mid + 1:])\n",
    "    return root"
   ],
   "id": "dad9cc72b2ba28e4",
   "outputs": [],
   "execution_count": 17
  },
  {
   "metadata": {
    "ExecuteTime": {
     "end_time": "2025-07-20T18:38:59.310874Z",
     "start_time": "2025-07-20T18:38:59.301696Z"
    }
   },
   "cell_type": "code",
   "source": [
    "\"\"\"\n",
    "House robber 3\n",
    "DFS Problem, we are going to be a returning a pair of values\n",
    "\"\"\"\n",
    "\n",
    "\n",
    "def robber(root):\n",
    "    def dfs(root):\n",
    "        if not root:\n",
    "            return [0, 0]\n",
    "\n",
    "        leftPair = dfs(root.left)\n",
    "        rightPair = dfs(root.right)\n",
    "\n",
    "        withRoot = root.val + leftPair[1] + rightPair[1]\n",
    "        withoutRoot = max(leftPair) + max(rightPair)\n",
    "\n",
    "        return [withRoot, withoutRoot]\n",
    "\n",
    "    return max(dfs(root))\n",
    "\n"
   ],
   "id": "54028806259cbe51",
   "outputs": [],
   "execution_count": 18
  },
  {
   "metadata": {
    "ExecuteTime": {
     "end_time": "2025-07-20T19:05:36.574088Z",
     "start_time": "2025-07-20T19:05:36.568261Z"
    }
   },
   "cell_type": "code",
   "source": [
    "\"\"\"\n",
    "Delete leaves with a given value\n",
    "Postorder DFS using recursion\n",
    "\"\"\"\n",
    "\n",
    "\n",
    "def removeLeafNodes(root, target):\n",
    "    stack = [root]\n",
    "    visit = set()\n",
    "    parents = {root: None}\n",
    "\n",
    "    while stack:\n",
    "        node = stack.pop()\n",
    "        if not node.left and not node.right:\n",
    "            if node.val == target:\n",
    "                p = parents[node]\n",
    "                if not p:\n",
    "                    return None\n",
    "                if p.left == node: p.left = None\n",
    "                if p.right == node: p.right = None\n",
    "\n",
    "        else:\n",
    "            visit.add(node)\n",
    "            stack.append(node)\n",
    "            if node.left: stack.append(node.left)\n",
    "            if node.right: stack.append(node.right)\n",
    "    return root"
   ],
   "id": "436738e5af0aa83e",
   "outputs": [],
   "execution_count": 19
  },
  {
   "metadata": {
    "ExecuteTime": {
     "end_time": "2025-07-20T22:15:07.876090Z",
     "start_time": "2025-07-20T22:15:07.859835Z"
    }
   },
   "cell_type": "code",
   "source": [
    "\"\"\"\n",
    "Binary tree max path sum\n",
    "\"\"\"\n",
    "\n",
    "\n",
    "def maxPathSum(root):\n",
    "    res = [root.val]\n",
    "\n",
    "    def dfs(root):\n",
    "        if not root:\n",
    "            return 0\n",
    "\n",
    "        leftMax = max(dfs(root.left), 0)\n",
    "        rightMax = max(dfs(root.right), 0)\n",
    "\n",
    "        res[0] = max(res[0], root.val + leftMax + rightMax)\n",
    "\n",
    "        return root.val + max(leftMax, rightMax)\n",
    "\n",
    "    dfs(root)\n"
   ],
   "id": "2e55ce766ac2ade",
   "outputs": [],
   "execution_count": 20
  },
  {
   "metadata": {},
   "cell_type": "code",
   "outputs": [],
   "execution_count": null,
   "source": [
    "\"\"\"\n",
    "Serialize and deserialize a binary tree\n",
    "\"\"\"\n",
    "\n",
    "\n",
    "class Codec:\n",
    "\n",
    "    def serialize(self, root):\n",
    "        res = []\n",
    "\n",
    "        def dfs(node):\n",
    "            if not node:\n",
    "                res.append(\"N\")\n",
    "                return\n",
    "            res.append(str(node.val))\n",
    "            dfs(node.left)\n",
    "            dfs(node.right)\n",
    "\n",
    "        dfs(root)\n",
    "        return \",\".join(res)\n",
    "\n",
    "    def deserialize(self, data):\n",
    "        vals = data.split(\",\")\n",
    "        self.i = 0\n",
    "\n",
    "        def dfs():\n",
    "            if vals[self.i] == \"N\":\n",
    "                self.i += 1\n",
    "                return None\n",
    "            node = TreeNode(int(vals[self.i]))\n",
    "            self.i += 1\n",
    "            node.left = dfs()\n",
    "            node.right = dfs()\n",
    "            return node\n",
    "\n",
    "        return dfs()"
   ],
   "id": "76a1f468bdf89593"
  }
 ],
 "metadata": {
  "kernelspec": {
   "display_name": "Python 3",
   "language": "python",
   "name": "python3"
  },
  "language_info": {
   "codemirror_mode": {
    "name": "ipython",
    "version": 2
   },
   "file_extension": ".py",
   "mimetype": "text/x-python",
   "name": "python",
   "nbconvert_exporter": "python",
   "pygments_lexer": "ipython2",
   "version": "2.7.6"
  }
 },
 "nbformat": 4,
 "nbformat_minor": 5
}
