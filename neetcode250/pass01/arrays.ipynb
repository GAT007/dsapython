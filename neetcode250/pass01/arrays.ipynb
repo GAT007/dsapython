{
 "cells": [
  {
   "metadata": {},
   "cell_type": "markdown",
   "source": [
    "# Arrays\n",
    "\n",
    "Common python data structures\n",
    "\n",
    "List l1 = [], l1.append(), l1.remove(), l1.pop()\n",
    "\n",
    "Dictionary d1 = {'key':'value'} d1[key] gives you access and d1[key]=value2 updates it del(d1[key]) deletes the item from the dictionary\n",
    "\n",
    "Tuple t1 = () immutable\n",
    "\n",
    "Set s1 = {} or s1 = set() set.add() set.remove()"
   ],
   "id": "6faf743fd53ac062"
  },
  {
   "cell_type": "code",
   "id": "initial_id",
   "metadata": {
    "collapsed": true,
    "ExecuteTime": {
     "end_time": "2025-06-02T02:06:15.626880Z",
     "start_time": "2025-06-02T02:06:15.611412Z"
    }
   },
   "source": [
    "\"\"\"\n",
    "Contains duplicate\n",
    "\"\"\"\n",
    "\n",
    "\n",
    "def contains_duplicate(nums):\n",
    "    return len(set(nums)) == len(nums)"
   ],
   "outputs": [
    {
     "data": {
      "text/plain": [
       "'\\nContains duplicate\\n'"
      ]
     },
     "execution_count": 1,
     "metadata": {},
     "output_type": "execute_result"
    }
   ],
   "execution_count": 1
  },
  {
   "metadata": {
    "ExecuteTime": {
     "end_time": "2025-06-02T02:06:23.070737Z",
     "start_time": "2025-06-02T02:06:23.062390Z"
    }
   },
   "cell_type": "code",
   "source": [
    "\"\"\"\n",
    "Valid anagram\n",
    "\"\"\"\n",
    "\n",
    "from collections import defaultdict\n",
    "\n",
    "\n",
    "def valid_anagram(st1, st2):\n",
    "    if len(st1) != len(st2):\n",
    "        return False\n",
    "    st1_d = defaultdict(int)\n",
    "    st2_d = defaultdict(int)\n",
    "    for s in st1:\n",
    "        st1_d[s] += 1\n",
    "\n",
    "    for s in st2:\n",
    "        st2_d[s] += 1\n",
    "\n",
    "    for key, value in st1_d.items():\n",
    "        if st2_d[key] != value:\n",
    "            return False\n",
    "\n",
    "    return True"
   ],
   "id": "dcf2394ac48f5a15",
   "outputs": [
    {
     "data": {
      "text/plain": [
       "'\\nValid anagram\\n'"
      ]
     },
     "execution_count": 3,
     "metadata": {},
     "output_type": "execute_result"
    }
   ],
   "execution_count": 3
  },
  {
   "metadata": {
    "ExecuteTime": {
     "end_time": "2025-06-03T22:21:15.509380Z",
     "start_time": "2025-06-03T22:21:15.492445Z"
    }
   },
   "cell_type": "code",
   "source": [
    "\"\"\"\n",
    "Two Sum\n",
    "\"\"\"\n",
    "\n",
    "\n",
    "def two_sum(nums, target):\n",
    "    nums_dict = {}\n",
    "    for idx, elem in enumerate(nums):\n",
    "        if target - elem in nums_dict:\n",
    "            return idx, nums_dict[target - elem]\n",
    "        else:\n",
    "            nums_dict[elem] = idx\n",
    "\n",
    "    return -1, -1\n"
   ],
   "id": "e3b1cb10b202ee14",
   "outputs": [],
   "execution_count": 1
  },
  {
   "metadata": {
    "ExecuteTime": {
     "end_time": "2025-06-03T22:30:38.925400Z",
     "start_time": "2025-06-03T22:30:38.918609Z"
    }
   },
   "cell_type": "code",
   "source": [
    "\"\"\"\n",
    "Longest Common Prefix\n",
    "\"\"\"\n",
    "\n",
    "\n",
    "def longest_prefix(strs):\n",
    "    if len(strs) == 1:\n",
    "        return strs[0]\n",
    "\n",
    "    strs = sorted(strs)\n",
    "\n",
    "    for i in range(min(len(strs[0]), len(strs[-1]))):\n",
    "        if strs[0][i] != strs[-1][i]:\n",
    "            return strs[0][:i]\n",
    "\n",
    "    return strs[0]"
   ],
   "id": "7bacb2ae5aa9750f",
   "outputs": [],
   "execution_count": 2
  },
  {
   "metadata": {
    "ExecuteTime": {
     "end_time": "2025-06-03T22:35:58.449688Z",
     "start_time": "2025-06-03T22:35:58.442208Z"
    }
   },
   "cell_type": "code",
   "source": [
    "\"\"\"\n",
    "Group Anagrams\n",
    "\"\"\"\n",
    "\n",
    "from collections import defaultdict\n",
    "\n",
    "\n",
    "def group_anagram(strs):\n",
    "    res = defaultdict(list)\n",
    "    for s in strs:\n",
    "        sortedS = ''.join(sorted(s))\n",
    "        res[sortedS].append(s)\n",
    "\n",
    "    return list(res.values())\n",
    "\n"
   ],
   "id": "343afa934464093c",
   "outputs": [],
   "execution_count": 3
  },
  {
   "metadata": {
    "ExecuteTime": {
     "end_time": "2025-06-03T22:39:04.194889Z",
     "start_time": "2025-06-03T22:39:04.188220Z"
    }
   },
   "cell_type": "code",
   "source": [
    "\"\"\"\n",
    "Remove element\n",
    "\"\"\"\n",
    "\n",
    "\n",
    "def removeElement(nums, val):\n",
    "    k = 0\n",
    "    for i in range(len(nums)):\n",
    "        if nums[i] != val:\n",
    "            nums[k] = nums[i]\n",
    "            k += 1\n",
    "    return k, nums"
   ],
   "id": "e119d6c7ba754e63",
   "outputs": [],
   "execution_count": 4
  },
  {
   "metadata": {
    "ExecuteTime": {
     "end_time": "2025-06-03T22:43:19.015776Z",
     "start_time": "2025-06-03T22:43:19.009422Z"
    }
   },
   "cell_type": "code",
   "source": [
    "\"\"\"\n",
    "Majority element\n",
    "\"\"\"\n",
    "\n",
    "\n",
    "def majorityElement(nums):\n",
    "    count = defaultdict(int)\n",
    "\n",
    "    res = maxCount = 0\n",
    "\n",
    "    for n in nums:\n",
    "        count[n] += 1\n",
    "\n",
    "        if count[n] > maxCount:\n",
    "            res = n\n",
    "            maxCount = count[n]\n",
    "\n",
    "    return res\n"
   ],
   "id": "1dd9392dd80a9fb3",
   "outputs": [],
   "execution_count": 5
  },
  {
   "metadata": {
    "ExecuteTime": {
     "end_time": "2025-06-03T22:44:10.728074Z",
     "start_time": "2025-06-03T22:44:10.714389Z"
    }
   },
   "cell_type": "code",
   "source": [
    "\"\"\"\n",
    "Longest substring without repeating characters\n",
    "Whenever someone asks you to find max length, immediately init a max and then try finding the max after condition is successfully fulfilled in the correct case\n",
    "\"\"\"\n",
    "\n",
    "\n",
    "def longest_substring(st):\n",
    "    l = r = maxl = 0\n",
    "    dups = set()\n",
    "\n",
    "    while r < len(st):\n",
    "        if st[r] not in dups:\n",
    "            dups.add(st[r])\n",
    "            maxl = max(maxl, r - l + 1)\n",
    "        else:\n",
    "            while st[r] in dups:\n",
    "                dups.remove(st[l])\n",
    "                l += 1\n",
    "            dups.add(st[r])\n",
    "        r += 1\n",
    "\n",
    "    return maxl"
   ],
   "id": "48ed4beb4ff5936c",
   "outputs": [],
   "execution_count": 6
  },
  {
   "metadata": {
    "ExecuteTime": {
     "end_time": "2025-06-03T22:44:27.810840Z",
     "start_time": "2025-06-03T22:44:27.798289Z"
    }
   },
   "cell_type": "code",
   "source": [
    "\"\"\"\n",
    "Design Hashset\n",
    "\"\"\""
   ],
   "id": "ad7352fd569c49a7",
   "outputs": [
    {
     "data": {
      "text/plain": [
       "'\\nDesign Hashset\\n'"
      ]
     },
     "execution_count": 7,
     "metadata": {},
     "output_type": "execute_result"
    }
   ],
   "execution_count": 7
  },
  {
   "metadata": {
    "ExecuteTime": {
     "end_time": "2025-06-03T22:44:44.323138Z",
     "start_time": "2025-06-03T22:44:44.314537Z"
    }
   },
   "cell_type": "code",
   "source": [
    "\"\"\"\n",
    "Design Hashmap\n",
    "\"\"\""
   ],
   "id": "878c5a7ba6deb544",
   "outputs": [
    {
     "data": {
      "text/plain": [
       "'\\nDesign Hashmap\\n'"
      ]
     },
     "execution_count": 8,
     "metadata": {},
     "output_type": "execute_result"
    }
   ],
   "execution_count": 8
  },
  {
   "metadata": {
    "ExecuteTime": {
     "end_time": "2025-06-04T22:25:01.144418Z",
     "start_time": "2025-06-04T22:25:01.134173Z"
    }
   },
   "cell_type": "code",
   "source": [
    "\"\"\"\n",
    "Top K Frequent Elements\n",
    "\"\"\"\n",
    "\n",
    "from collections import Counter\n",
    "import heapq\n",
    "\n",
    "\n",
    "def topkfrequent(k, string):\n",
    "    st_list = list(string)\n",
    "    count = Counter(st_list)\n",
    "    heap = []\n",
    "\n",
    "    for num, freq in count.items():\n",
    "        if len(heap) < k:\n",
    "            heapq.heappush(heap, (freq, num))\n",
    "        else:\n",
    "            heapq.heapreplace(heap, (freq, num))\n",
    "\n",
    "    top_k = [num for freq, num in heap]\n",
    "\n",
    "    return top_k\n",
    "\n",
    "\n",
    "print(topkfrequent(4, \"hello\"));\n"
   ],
   "id": "fd5aec05fab08d7f",
   "outputs": [
    {
     "name": "stdout",
     "output_type": "stream",
     "text": [
      "['e', 'h', 'l', 'o']\n"
     ]
    }
   ],
   "execution_count": 14
  },
  {
   "metadata": {
    "ExecuteTime": {
     "end_time": "2025-06-05T17:27:34.976029Z",
     "start_time": "2025-06-05T17:27:34.967062Z"
    }
   },
   "cell_type": "code",
   "source": [
    "\"\"\"\n",
    "Encode and decode strings\n",
    "\"\"\"\n",
    "\n",
    "\n",
    "def encode(strs):\n",
    "    res = \"\"\n",
    "    for s in strs:\n",
    "        res += str(len(s)) + \"#\" + s\n",
    "    return res\n",
    "\n",
    "\n",
    "def decode(s):\n",
    "    res = []\n",
    "    i = 0\n",
    "    while i < len(s):\n",
    "        j = i\n",
    "        while s[j] != '#':\n",
    "            j += 1\n",
    "        length = int(s[i:j])\n",
    "        i = j + 1\n",
    "        j = i + length\n",
    "        res.append(s[i:j])\n",
    "        i = j\n",
    "\n",
    "    return res\n"
   ],
   "id": "588b281e0695063",
   "outputs": [],
   "execution_count": 16
  },
  {
   "metadata": {
    "ExecuteTime": {
     "end_time": "2025-06-04T22:02:33.673326Z",
     "start_time": "2025-06-04T22:02:33.667552Z"
    }
   },
   "cell_type": "code",
   "source": [
    "\"\"\"\n",
    "Range sum query\n",
    "\"\"\"\n",
    "\n"
   ],
   "id": "b86a076fb51a3db0",
   "outputs": [
    {
     "data": {
      "text/plain": [
       "'\\nRange sum query\\n'"
      ]
     },
     "execution_count": 3,
     "metadata": {},
     "output_type": "execute_result"
    }
   ],
   "execution_count": 3
  },
  {
   "metadata": {
    "ExecuteTime": {
     "end_time": "2025-06-06T16:20:51.516308Z",
     "start_time": "2025-06-06T16:20:51.490331Z"
    }
   },
   "cell_type": "code",
   "source": [
    "\"\"\"\n",
    "Product of array except self\n",
    "\"\"\"\n",
    "\n",
    "\n",
    "def product_self(nums):\n",
    "    n = len(nums)\n",
    "    pref = [0] * n\n",
    "    suff = [0] * n\n",
    "    res = [0] * n\n",
    "    pref[0] = suff[n - 1] = 1\n",
    "    for i in range(1, n):\n",
    "        pref[i] = nums[i - 1] * pref[i - 1]\n",
    "    print(pref)\n",
    "    for i in range(n - 2, -1, -1):\n",
    "        suff[i] = nums[i + 1] * suff[i + 1]\n",
    "    print(suff)\n",
    "    for i in range(n):\n",
    "        res[i] = pref[i] * suff[i]\n",
    "    print(res)\n",
    "\n",
    "\n",
    "product_self([1, 2, 3, 4])\n"
   ],
   "id": "88accf5b15df865d",
   "outputs": [
    {
     "name": "stdout",
     "output_type": "stream",
     "text": [
      "[1, 1, 2, 6]\n",
      "[24, 12, 4, 1]\n",
      "[24, 12, 8, 6]\n"
     ]
    }
   ],
   "execution_count": 29
  },
  {
   "metadata": {
    "ExecuteTime": {
     "end_time": "2025-06-04T22:02:57.516538Z",
     "start_time": "2025-06-04T22:02:57.505675Z"
    }
   },
   "cell_type": "code",
   "source": [
    "\"\"\"\n",
    "Valid sudoku\n",
    "\"\"\""
   ],
   "id": "886e9502207feda",
   "outputs": [
    {
     "data": {
      "text/plain": [
       "'\\nValid sudoku\\n'"
      ]
     },
     "execution_count": 5,
     "metadata": {},
     "output_type": "execute_result"
    }
   ],
   "execution_count": 5
  },
  {
   "metadata": {
    "ExecuteTime": {
     "end_time": "2025-06-05T22:33:36.944160Z",
     "start_time": "2025-06-05T22:33:30.094110Z"
    }
   },
   "cell_type": "code",
   "source": [
    "\"\"\"\n",
    "Longest consecutive sequence\n",
    "\"\"\"\n",
    "\n",
    "\n",
    "def longest_sequence(nums):\n",
    "    numset = set(nums)\n",
    "    longest = 0\n",
    "\n",
    "    for num in numset:\n",
    "        if (num - 1) not in numset:\n",
    "            length = 1\n",
    "            while (num + length) in numset:\n",
    "                length += 1\n",
    "            longest = max(length, longest)\n",
    "\n",
    "    return longest\n",
    "\n",
    "\n",
    "print(longest_sequence([2, 20, 4, 10, 3, 4, 5]))\n"
   ],
   "id": "b848b9be55e7e479",
   "outputs": [
    {
     "ename": "KeyboardInterrupt",
     "evalue": "",
     "output_type": "error",
     "traceback": [
      "\u001B[0;31m---------------------------------------------------------------------------\u001B[0m",
      "\u001B[0;31mKeyboardInterrupt\u001B[0m                         Traceback (most recent call last)",
      "Cell \u001B[0;32mIn[23], line 20\u001B[0m\n\u001B[1;32m     15\u001B[0m             r \u001B[38;5;241m=\u001B[39m l\n\u001B[1;32m     17\u001B[0m     \u001B[38;5;28;01mreturn\u001B[39;00m maxl\n\u001B[0;32m---> 20\u001B[0m \u001B[38;5;28mprint\u001B[39m(longest_sequence([\u001B[38;5;241m2\u001B[39m, \u001B[38;5;241m20\u001B[39m, \u001B[38;5;241m4\u001B[39m, \u001B[38;5;241m10\u001B[39m, \u001B[38;5;241m3\u001B[39m, \u001B[38;5;241m4\u001B[39m, \u001B[38;5;241m5\u001B[39m]))\n",
      "Cell \u001B[0;32mIn[23], line 9\u001B[0m, in \u001B[0;36mlongest_sequence\u001B[0;34m(nums)\u001B[0m\n\u001B[1;32m      7\u001B[0m l \u001B[38;5;241m=\u001B[39m r \u001B[38;5;241m=\u001B[39m \u001B[38;5;241m0\u001B[39m\n\u001B[1;32m      8\u001B[0m maxl \u001B[38;5;241m=\u001B[39m \u001B[38;5;241m0\u001B[39m\n\u001B[0;32m----> 9\u001B[0m \u001B[38;5;28;01mwhile\u001B[39;00m r \u001B[38;5;241m<\u001B[39m \u001B[38;5;28mlen\u001B[39m(nums):\n\u001B[1;32m     10\u001B[0m     \u001B[38;5;28;01mif\u001B[39;00m nums[r] \u001B[38;5;241m==\u001B[39m nums[r \u001B[38;5;241m+\u001B[39m \u001B[38;5;241m1\u001B[39m] \u001B[38;5;241m-\u001B[39m \u001B[38;5;241m1\u001B[39m:\n\u001B[1;32m     11\u001B[0m         r \u001B[38;5;241m+\u001B[39m\u001B[38;5;241m=\u001B[39m \u001B[38;5;241m1\u001B[39m\n",
      "\u001B[0;31mKeyboardInterrupt\u001B[0m: "
     ]
    }
   ],
   "execution_count": 23
  },
  {
   "metadata": {
    "ExecuteTime": {
     "end_time": "2025-06-06T15:52:25.406964Z",
     "start_time": "2025-06-06T15:52:25.392269Z"
    }
   },
   "cell_type": "code",
   "source": [
    "\"\"\"\n",
    "Best Time to buy and sell a stock 2\n",
    "\n",
    "\"\"\"\n",
    "\n",
    "\n",
    "def best_time(prices):\n",
    "    n = len(prices)\n",
    "    dp = [[0] * 2 for _ in range(n + 1)]\n",
    "    print(dp)\n",
    "\n",
    "    for i in range(n - 1, -1, -1):\n",
    "        dp[i][0] = max(dp[i + 1][0], -prices[i] + dp[i + 1][1])\n",
    "        print(f'FR : {dp}')\n",
    "        dp[i][1] = max(dp[i + 1][1], prices[i] + dp[i + 1][0])\n",
    "        print(f'SR : {dp}')\n",
    "\n",
    "    return dp[0][0]\n",
    "\n",
    "\n",
    "best_time([7, 1, 5, 3, 6, 4])"
   ],
   "id": "64d2a6eb4af5e9f8",
   "outputs": [
    {
     "name": "stdout",
     "output_type": "stream",
     "text": [
      "[[0, 0], [0, 0], [0, 0], [0, 0], [0, 0], [0, 0], [0, 0]]\n",
      "FR : [[0, 0], [0, 0], [0, 0], [0, 0], [0, 0], [0, 0], [0, 0]]\n",
      "SR : [[0, 0], [0, 0], [0, 0], [0, 0], [0, 0], [0, 4], [0, 0]]\n",
      "FR : [[0, 0], [0, 0], [0, 0], [0, 0], [0, 0], [0, 4], [0, 0]]\n",
      "SR : [[0, 0], [0, 0], [0, 0], [0, 0], [0, 6], [0, 4], [0, 0]]\n",
      "FR : [[0, 0], [0, 0], [0, 0], [3, 0], [0, 6], [0, 4], [0, 0]]\n",
      "SR : [[0, 0], [0, 0], [0, 0], [3, 6], [0, 6], [0, 4], [0, 0]]\n",
      "FR : [[0, 0], [0, 0], [3, 0], [3, 6], [0, 6], [0, 4], [0, 0]]\n",
      "SR : [[0, 0], [0, 0], [3, 8], [3, 6], [0, 6], [0, 4], [0, 0]]\n",
      "FR : [[0, 0], [7, 0], [3, 8], [3, 6], [0, 6], [0, 4], [0, 0]]\n",
      "SR : [[0, 0], [7, 8], [3, 8], [3, 6], [0, 6], [0, 4], [0, 0]]\n",
      "FR : [[7, 0], [7, 8], [3, 8], [3, 6], [0, 6], [0, 4], [0, 0]]\n",
      "SR : [[7, 14], [7, 8], [3, 8], [3, 6], [0, 6], [0, 4], [0, 0]]\n"
     ]
    },
    {
     "data": {
      "text/plain": [
       "7"
      ]
     },
     "execution_count": 28,
     "metadata": {},
     "output_type": "execute_result"
    }
   ],
   "execution_count": 28
  },
  {
   "metadata": {
    "ExecuteTime": {
     "end_time": "2025-06-04T22:03:36.449482Z",
     "start_time": "2025-06-04T22:03:36.443072Z"
    }
   },
   "cell_type": "code",
   "source": [
    "\"\"\"\n",
    "Majority Element 2\n",
    "\"\"\"\n",
    "\n",
    "\n",
    "def majorityElement(nums):\n",
    "    count = Counter(nums)\n",
    "\n",
    "    res = []\n",
    "    for key in count:\n",
    "        if count[key] > len(nums) // 3:\n",
    "            res.append(key)\n",
    "\n",
    "    return res"
   ],
   "id": "ad378ab9e406778c",
   "outputs": [
    {
     "data": {
      "text/plain": [
       "'\\nMajority Element 2\\n'"
      ]
     },
     "execution_count": 8,
     "metadata": {},
     "output_type": "execute_result"
    }
   ],
   "execution_count": 8
  },
  {
   "metadata": {
    "ExecuteTime": {
     "end_time": "2025-06-04T22:03:48.908510Z",
     "start_time": "2025-06-04T22:03:48.899140Z"
    }
   },
   "cell_type": "code",
   "source": [
    "\"\"\"\n",
    "Subarray sum equals K\n",
    "\"\"\"\n",
    "\n",
    "  \n"
   ],
   "id": "6c365f4edc6af68e",
   "outputs": [
    {
     "data": {
      "text/plain": [
       "'\\nSubarray sum equals K\\n'"
      ]
     },
     "execution_count": 9,
     "metadata": {},
     "output_type": "execute_result"
    }
   ],
   "execution_count": 9
  },
  {
   "metadata": {},
   "cell_type": "code",
   "outputs": [],
   "execution_count": null,
   "source": [
    "\"\"\"\n",
    "First missing positive\n",
    "\"\"\""
   ],
   "id": "757b213476531711"
  }
 ],
 "metadata": {
  "kernelspec": {
   "display_name": "Python 3",
   "language": "python",
   "name": "python3"
  },
  "language_info": {
   "codemirror_mode": {
    "name": "ipython",
    "version": 2
   },
   "file_extension": ".py",
   "mimetype": "text/x-python",
   "name": "python",
   "nbconvert_exporter": "python",
   "pygments_lexer": "ipython2",
   "version": "2.7.6"
  }
 },
 "nbformat": 4,
 "nbformat_minor": 5
}
