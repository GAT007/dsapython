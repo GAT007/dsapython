{
 "cells": [
  {
   "metadata": {},
   "cell_type": "markdown",
   "source": "# Two Pointers",
   "id": "3ead2fd749561410"
  },
  {
   "metadata": {
    "ExecuteTime": {
     "end_time": "2025-06-06T19:47:38.552163Z",
     "start_time": "2025-06-06T19:47:38.543499Z"
    }
   },
   "cell_type": "code",
   "source": [
    "\"\"\"\n",
    "Reverse a string\n",
    "\"\"\"\n",
    "\n",
    "\n",
    "def reverse_string(st):\n",
    "    stack = []\n",
    "    for s in st:\n",
    "        stack.append(s)\n",
    "\n",
    "    res = ''\n",
    "    for i in range(len(stack)):\n",
    "        res += stack.pop()\n",
    "\n",
    "    return res\n",
    "\n",
    "\n",
    "print(reverse_string(\"Hello\"))"
   ],
   "id": "5bb74b492cf981f1",
   "outputs": [
    {
     "name": "stdout",
     "output_type": "stream",
     "text": [
      "olleH\n"
     ]
    }
   ],
   "execution_count": 3
  },
  {
   "cell_type": "code",
   "id": "initial_id",
   "metadata": {
    "collapsed": true,
    "ExecuteTime": {
     "end_time": "2025-06-06T19:50:06.248829Z",
     "start_time": "2025-06-06T19:50:06.241146Z"
    }
   },
   "source": [
    " \"\"\"\n",
    " Valid Palindrome\n",
    " \"\"\"\n",
    "\n",
    "\n",
    "def valid_palindrome(st1):\n",
    "    l, r = 0, len(st1) - 1\n",
    "    while l <= r:\n",
    "        if st1[l] != st1[r]:\n",
    "            return False\n",
    "        l += 1\n",
    "        r -= 1\n",
    "    return True\n",
    "\n",
    "\n",
    "print(valid_palindrome(\"racecar\"))"
   ],
   "outputs": [
    {
     "name": "stdout",
     "output_type": "stream",
     "text": [
      "True\n"
     ]
    }
   ],
   "execution_count": 4
  },
  {
   "metadata": {
    "ExecuteTime": {
     "end_time": "2025-06-06T20:20:37.618574Z",
     "start_time": "2025-06-06T20:20:37.611933Z"
    }
   },
   "cell_type": "code",
   "source": [
    "\"\"\"\n",
    "Valid Palindrome 2\n",
    "\"\"\"\n",
    "\n",
    "\n",
    "def valid_palindrome_2(st):\n",
    "    def is_palindrome(l, r):\n",
    "        while l < r:\n",
    "            if st[l] != st[r]:\n",
    "                return False\n",
    "            l += 1\n",
    "            r -= 1\n",
    "        return True\n",
    "\n",
    "    l, r = 0, len(st) - 1\n",
    "    while l < r:\n",
    "        if st[l] != st[r]:\n",
    "            return (is_palindrome(l + 1, r)) or (is_palindrome(l, r - 1))\n",
    "\n",
    "        l += 1\n",
    "        r -= 1\n",
    "\n",
    "    return True\n"
   ],
   "id": "fadaff281b5f95ca",
   "outputs": [],
   "execution_count": 5
  },
  {
   "metadata": {
    "ExecuteTime": {
     "end_time": "2025-06-06T20:52:48.221522Z",
     "start_time": "2025-06-06T20:52:48.211130Z"
    }
   },
   "cell_type": "code",
   "source": [
    "\"\"\"\n",
    "Merge Strings alternatively\n",
    "\"\"\"\n",
    "\n",
    "\n",
    "def merge_strings(st1, st2):\n",
    "    lMax = len(st1)\n",
    "    rMax = len(st2)\n",
    "    l, r = 0, 0\n",
    "\n",
    "    i = 1\n",
    "    res = \"\"\n",
    "    while l < lMax and r < rMax:\n",
    "        if i % 2 != 0:\n",
    "            res += st1[l]\n",
    "            l += 1\n",
    "        else:\n",
    "            res += st2[r]\n",
    "            r += 1\n",
    "        i += 1\n",
    "\n",
    "    if l + 1 < lMax:\n",
    "        res += st1[l:]\n",
    "    else:\n",
    "        res += st2[r:]\n",
    "\n",
    "    return res\n",
    "\n",
    "\n",
    "print(merge_strings(\"Hello\", 'World'))\n"
   ],
   "id": "bd5ee7e8fe6668a",
   "outputs": [
    {
     "name": "stdout",
     "output_type": "stream",
     "text": [
      "HWeolrllod\n"
     ]
    }
   ],
   "execution_count": 8
  },
  {
   "metadata": {
    "ExecuteTime": {
     "end_time": "2025-06-06T21:57:38.167011Z",
     "start_time": "2025-06-06T21:57:38.158411Z"
    }
   },
   "cell_type": "code",
   "source": [
    "\"\"\"\n",
    "Merge sorted array\n",
    "Three pointers with extra space approach\n",
    "\"\"\"\n",
    "\n",
    "\n",
    "def merge(nums1, nums2, m, n):\n",
    "    nums1_copy = nums1[:m]\n",
    "    idx = 0\n",
    "    i = j = 0\n",
    "    while idx < m + n:\n",
    "        if j >= n or (i < m and nums1_copy[i] <= nums2[j]):\n",
    "            nums1[idx] = nums1_copy[i]\n",
    "            i += 1\n",
    "        else:\n",
    "            nums1[idx] = nums1[j]\n",
    "            j += 1\n",
    "        idx += 1\n",
    "\n",
    "    return nums1\n"
   ],
   "id": "7e5eca342c248322",
   "outputs": [],
   "execution_count": 9
  },
  {
   "metadata": {
    "ExecuteTime": {
     "end_time": "2025-06-06T22:05:23.961219Z",
     "start_time": "2025-06-06T22:05:23.955051Z"
    }
   },
   "cell_type": "code",
   "source": [
    "\"\"\"\n",
    "Remove duplicates\n",
    "\"\"\"\n",
    "\n",
    "\n",
    "def remove_duplicates(nums):\n",
    "    l = 1\n",
    "    for r in range(1, len(nums)):\n",
    "        if nums[r] != nums[r - 1]:\n",
    "            nums[l] = nums[r]\n",
    "            l += 1\n",
    "    return l\n",
    "\n"
   ],
   "id": "8a53587777d100d2",
   "outputs": [],
   "execution_count": 11
  },
  {
   "metadata": {
    "ExecuteTime": {
     "end_time": "2025-06-08T01:55:11.674544Z",
     "start_time": "2025-06-08T01:55:11.656711Z"
    }
   },
   "cell_type": "code",
   "source": [
    "\"\"\"\n",
    "2 sum when input array is sorted\n",
    "\"\"\"\n",
    "\n",
    "\n",
    "def two_sum(nums, target):\n",
    "    l, r = 0, len(nums) - 1\n",
    "    res = []\n",
    "    while l <= r:\n",
    "        val = nums[l] + nums[r]\n",
    "        if val < target:\n",
    "            l += 1\n",
    "        elif val > target:\n",
    "            r -= 1\n",
    "        else:\n",
    "            res.append((nums[l], nums[r]))\n",
    "            l += 1\n",
    "            r -= 1\n",
    "\n",
    "    return res\n",
    "\n",
    "\n",
    "print(two_sum([1, 2, 3, 4], 3))"
   ],
   "id": "436eeb3a098cbdc3",
   "outputs": [
    {
     "name": "stdout",
     "output_type": "stream",
     "text": [
      "[(1, 2)]\n"
     ]
    }
   ],
   "execution_count": 2
  },
  {
   "metadata": {
    "ExecuteTime": {
     "end_time": "2025-06-08T02:07:05.728265Z",
     "start_time": "2025-06-08T02:07:05.719783Z"
    }
   },
   "cell_type": "code",
   "source": [
    "\"\"\"\n",
    "3 sum\n",
    "\"\"\"\n",
    "\n",
    "\n",
    "def three_sum(nums, target):\n",
    "    res = []\n",
    "    nums.sort()\n",
    "    for i in range(len(nums)):\n",
    "        idx = nums[i]\n",
    "        l, r = i + 1, len(nums) - 1\n",
    "        while l <= r:\n",
    "            val = idx + nums[l] + nums[r]\n",
    "            if val < 0:\n",
    "                l += 1\n",
    "            elif val > 0:\n",
    "                r -= 1\n",
    "            else:\n",
    "                res.append((idx, nums[l], nums[r]))\n",
    "                l += 1\n",
    "                r -= 1\n",
    "\n",
    "    return res"
   ],
   "id": "4a762e2763af10ba",
   "outputs": [],
   "execution_count": 3
  },
  {
   "metadata": {
    "ExecuteTime": {
     "end_time": "2025-06-09T04:41:39.236431Z",
     "start_time": "2025-06-09T04:41:39.226576Z"
    }
   },
   "cell_type": "code",
   "source": [
    "\"\"\"\n",
    "4 sum\n",
    "\"\"\"\n",
    "\n",
    "\n",
    "def four_sum(nums, target):\n",
    "    nums.sort()\n",
    "    n = len(nums)\n",
    "    res = []\n",
    "    for i in range(n - 3):\n",
    "        j = i + 1\n",
    "        while j < n - 2:\n",
    "            l, r = j + 1, n - 1\n",
    "            while l < r:\n",
    "                val = nums[i] + nums[j] + nums[l] + nums[r]\n",
    "                if val < target:\n",
    "                    l += 1\n",
    "                elif val > target:\n",
    "                    r -= 1\n",
    "                else:\n",
    "                    res.append((nums[i], nums[j], nums[l], nums[r]))\n",
    "                    l += 1\n",
    "                    r -= 1\n",
    "            j += 1\n",
    "\n",
    "    return res\n",
    "\n",
    "\n",
    "print(four_sum([3, 2, 3, -3, -1, 0], 3))\n",
    "print(four_sum([2, 2, 2, 2, 3, 3, 3, 3], 8))\n",
    "\n"
   ],
   "id": "6b45c1e161d832a4",
   "outputs": [
    {
     "name": "stdout",
     "output_type": "stream",
     "text": [
      "[(-3, 0, 3, 3)]\n",
      "[(2, 2, 2, 2)]\n"
     ]
    }
   ],
   "execution_count": 4
  },
  {
   "metadata": {
    "ExecuteTime": {
     "end_time": "2025-06-09T04:43:14.176103Z",
     "start_time": "2025-06-09T04:43:14.168986Z"
    }
   },
   "cell_type": "code",
   "source": [
    "\"\"\"\n",
    "Rotate array\n",
    "\"\"\"\n",
    "from collections import deque\n",
    "\n",
    "\n",
    "def rotate_array(nums, k):\n",
    "    q = deque(nums)\n",
    "\n",
    "    for i in range(k):\n",
    "        q.rotate()\n",
    "\n",
    "    return list(q)\n",
    "\n",
    "\n",
    "print(rotate_array([1, 2, 3, 4, 5, 6, 7, 8], 3))"
   ],
   "id": "6a2000ddbc76c267",
   "outputs": [
    {
     "name": "stdout",
     "output_type": "stream",
     "text": [
      "[6, 7, 8, 1, 2, 3, 4, 5]\n"
     ]
    }
   ],
   "execution_count": 6
  },
  {
   "metadata": {
    "ExecuteTime": {
     "end_time": "2025-06-10T22:23:35.367781Z",
     "start_time": "2025-06-10T22:23:35.353003Z"
    }
   },
   "cell_type": "code",
   "source": [
    "\"\"\"\n",
    "Container with most water\n",
    "\"\"\"\n",
    "\n",
    "\n",
    "def container_water(nums):\n",
    "    l, r = 0, len(nums) - 1\n",
    "    res = 0\n",
    "\n",
    "    while l < r:\n",
    "        area = min(nums[l], nums[r]) * (r - l)\n",
    "        res = max(res, area)\n",
    "        if nums[l] <= nums[r]:\n",
    "            l += 1\n",
    "        else:\n",
    "            r -= 1\n",
    "\n",
    "    return res\n",
    "\n",
    "\n",
    "print(container_water([1, 7, 2, 5, 4, 7, 3, 6]))"
   ],
   "id": "dcd4c66d75ade4d3",
   "outputs": [
    {
     "name": "stdout",
     "output_type": "stream",
     "text": [
      "36\n"
     ]
    }
   ],
   "execution_count": 1
  },
  {
   "metadata": {
    "ExecuteTime": {
     "end_time": "2025-06-10T22:36:50.721575Z",
     "start_time": "2025-06-10T22:36:50.697152Z"
    }
   },
   "cell_type": "code",
   "source": [
    "\"\"\"\n",
    "Boats to save people\n",
    "\"\"\"\n",
    "\n",
    "\n",
    "def boats(people, limit):\n",
    "    people.sort()\n",
    "    res, l, r = 0, 0, len(people) - 1\n",
    "    while l <= r:\n",
    "        remain = limit - people[r]\n",
    "        r -= 1\n",
    "        res += 1\n",
    "        if l <= r and remain >= people[l]:\n",
    "            l += 1\n",
    "    return res\n",
    "\n",
    "\n",
    "print(boats([9, 6, 4, 1], 10))\n"
   ],
   "id": "2dc1265953b9f1a6",
   "outputs": [
    {
     "name": "stdout",
     "output_type": "stream",
     "text": [
      "2\n"
     ]
    }
   ],
   "execution_count": 3
  },
  {
   "metadata": {
    "ExecuteTime": {
     "end_time": "2025-06-10T23:12:11.856373Z",
     "start_time": "2025-06-10T23:12:11.844428Z"
    }
   },
   "cell_type": "code",
   "source": [
    "\"\"\"\n",
    "Trapping rain water\n",
    "\"\"\"\n",
    "\n",
    "\n",
    "def trap_rain_water(heights):\n",
    "    l, r = 0, len(heights) - 1\n",
    "    maxl, maxr = heights[l], heights[r]\n",
    "    res = 0\n",
    "    while l < r:\n",
    "        if maxl < maxr:\n",
    "            l += 1\n",
    "            maxl = max(maxl, heights[l])\n",
    "            res += maxl - heights[l]\n",
    "        else:\n",
    "            r -= 1\n",
    "            maxr = max(maxr, heights[r])\n",
    "            res += maxr - heights[r]\n",
    "\n",
    "    return res\n",
    "\n",
    "\n",
    "print(trap_rain_water([0, 1, 0, 2, 1, 0, 1, 3, 2, 1, 2, 1]))"
   ],
   "id": "6bd434ef5f8ff12f",
   "outputs": [
    {
     "name": "stdout",
     "output_type": "stream",
     "text": [
      "6\n"
     ]
    }
   ],
   "execution_count": 4
  },
  {
   "metadata": {},
   "cell_type": "code",
   "outputs": [],
   "execution_count": null,
   "source": "",
   "id": "b64f3178a356151e"
  }
 ],
 "metadata": {
  "kernelspec": {
   "display_name": "Python 3",
   "language": "python",
   "name": "python3"
  },
  "language_info": {
   "codemirror_mode": {
    "name": "ipython",
    "version": 2
   },
   "file_extension": ".py",
   "mimetype": "text/x-python",
   "name": "python",
   "nbconvert_exporter": "python",
   "pygments_lexer": "ipython2",
   "version": "2.7.6"
  }
 },
 "nbformat": 4,
 "nbformat_minor": 5
}
