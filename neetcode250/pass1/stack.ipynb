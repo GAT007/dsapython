{
 "cells": [
  {
   "metadata": {},
   "cell_type": "markdown",
   "source": "# Stacks",
   "id": "badc743156e442d8"
  },
  {
   "cell_type": "code",
   "id": "initial_id",
   "metadata": {
    "collapsed": true,
    "ExecuteTime": {
     "end_time": "2025-06-17T22:03:32.077093Z",
     "start_time": "2025-06-17T22:03:32.066887Z"
    }
   },
   "source": [
    "\"\"\"\n",
    "Baseball Game\n",
    "\"\"\"\n",
    "\n",
    "\n",
    "def baseball(operations):\n",
    "    stack = []\n",
    "    for op in operations:\n",
    "        if not stack and (op == 'D' or op == 'C'):\n",
    "            return 'Invalid operation encountered'\n",
    "        elif len(stack) < 2 and op == '+':\n",
    "            print(stack)\n",
    "            return 'Not enough scores to add'\n",
    "        elif op == '+':\n",
    "            num1 = int(stack.pop())\n",
    "            num2 = int(stack.pop())\n",
    "            stack.append(num1)\n",
    "            stack.append(num2)\n",
    "            stack.append(int(num1) + int(num2))\n",
    "        elif op == 'D':\n",
    "            num1 = int(stack.pop())\n",
    "            stack.append(num1)\n",
    "            stack.append(int(num1) * 2)\n",
    "        elif op == 'C':\n",
    "            stack.pop()\n",
    "        else:\n",
    "            stack.append(op)\n",
    "\n",
    "    res = 0\n",
    "    for s in stack:\n",
    "        res += int(s)\n",
    "\n",
    "    return res\n",
    "\n",
    "\n",
    "print(baseball([\"1\", \"2\", \"+\", \"C\", \"5\", \"D\"]))"
   ],
   "outputs": [
    {
     "name": "stdout",
     "output_type": "stream",
     "text": [
      "18\n"
     ]
    }
   ],
   "execution_count": 10
  },
  {
   "metadata": {
    "ExecuteTime": {
     "end_time": "2025-06-17T22:18:10.863876Z",
     "start_time": "2025-06-17T22:18:10.851098Z"
    }
   },
   "cell_type": "code",
   "source": [
    "\"\"\"\n",
    "Valid parentheses\n",
    "\"\"\"\n",
    "\n",
    "\n",
    "def valid_parentheses(st):\n",
    "    brackets = {')': '(', '}': '{', ']': '['}\n",
    "    stack = []\n",
    "    for s in st:\n",
    "        if stack and (s in brackets and stack[-1] == brackets[s]):\n",
    "            stack.pop()\n",
    "        else:\n",
    "            stack.append()\n",
    "\n",
    "    return not stack\n"
   ],
   "id": "8cc2416d7ebc75ef",
   "outputs": [],
   "execution_count": 11
  },
  {
   "metadata": {
    "ExecuteTime": {
     "end_time": "2025-06-17T22:50:30.387665Z",
     "start_time": "2025-06-17T22:50:30.378134Z"
    }
   },
   "cell_type": "code",
   "source": [
    "\"\"\"\n",
    "Stack using 2 queues\n",
    "\"\"\"\n",
    "\n",
    "from collections import deque\n",
    "\n",
    "\n",
    "class MyStack:\n",
    "    def __init__(self):\n",
    "        self.q1 = deque()\n",
    "        self.q2 = deque()\n",
    "\n",
    "    def push(self, x: int):\n",
    "        self.q2.append(x)\n",
    "        while self.q1:\n",
    "            self.q2.append(self.q1.popleft())\n",
    "        self.q1, self.q2 = self.q2, self.q1\n",
    "\n",
    "    def pop(self):\n",
    "        return self.q1.popleft()\n",
    "\n",
    "    def top(self):\n",
    "        return self.q1[0]\n",
    "\n",
    "    def empty(self):\n",
    "        return len(self.q1) == 0\n"
   ],
   "id": "bd09a0d19da8fc53",
   "outputs": [],
   "execution_count": 12
  },
  {
   "metadata": {
    "ExecuteTime": {
     "end_time": "2025-06-17T22:56:33.779454Z",
     "start_time": "2025-06-17T22:56:33.770009Z"
    }
   },
   "cell_type": "code",
   "source": [
    "\"\"\"\n",
    "Implement queue using stacks\n",
    "\"\"\"\n",
    "\n",
    "\n",
    "class MyQueue:\n",
    "    def __init__(self):\n",
    "        self.s1 = []\n",
    "        self.s2 = []\n",
    "\n",
    "    def insert(self, x: int):\n",
    "        self.s1.append(x)\n",
    "\n",
    "    def pop(self):\n",
    "        while len(self.s1) > 1:\n",
    "            self.s2.append(self.s1.pop())\n",
    "        res = self.s1.pop()\n",
    "        while self.s2:\n",
    "            self.s1.append(self.s2.pop())\n",
    "        return res\n",
    "\n",
    "    def top(self):\n",
    "        return self.s1[0]\n",
    "\n",
    "    def empty(self):\n",
    "        return len(self.s1) == 0"
   ],
   "id": "ace49159cbe9dd0d",
   "outputs": [],
   "execution_count": 13
  },
  {
   "metadata": {},
   "cell_type": "code",
   "outputs": [],
   "execution_count": null,
   "source": [
    "\"\"\"\n",
    "Min stack\n",
    "\"\"\"\n",
    "\n",
    "\n",
    "class Min_stack:\n",
    "    def __init__(self):\n",
    "        self.s1 = []\n",
    "\n",
    "    def push(self, x: int):\n",
    "        if not self.s1:\n",
    "            self.s1.append((x, x))\n",
    "        else:\n",
    "            minimum = min(self.s1[-1][1], x)\n",
    "            self.s1.append((x, minimum))\n",
    "\n",
    "    def pop(self):\n",
    "        return self.s1.pop()\n",
    "\n",
    "    def top(self):\n",
    "        return self.s1[-1]\n",
    "\n",
    "    def getMin(self):\n",
    "        return self.s1[-1][1]"
   ],
   "id": "8b157e82140e77b5"
  }
 ],
 "metadata": {
  "kernelspec": {
   "display_name": "Python 3",
   "language": "python",
   "name": "python3"
  },
  "language_info": {
   "codemirror_mode": {
    "name": "ipython",
    "version": 2
   },
   "file_extension": ".py",
   "mimetype": "text/x-python",
   "name": "python",
   "nbconvert_exporter": "python",
   "pygments_lexer": "ipython2",
   "version": "2.7.6"
  }
 },
 "nbformat": 4,
 "nbformat_minor": 5
}
