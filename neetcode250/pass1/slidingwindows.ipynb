{
 "cells": [
  {
   "metadata": {},
   "cell_type": "markdown",
   "source": "# Sliding windows",
   "id": "b4c8891bb6e393ec"
  },
  {
   "cell_type": "code",
   "id": "initial_id",
   "metadata": {
    "collapsed": true,
    "ExecuteTime": {
     "end_time": "2025-06-11T02:22:34.724784Z",
     "start_time": "2025-06-11T02:22:34.708179Z"
    }
   },
   "source": [
    "\"\"\"\n",
    "Contains duplicate 2\n",
    "\"\"\"\n",
    "\n",
    "\n",
    "def contains_duplicate(nums, k):\n",
    "    visited_set = set()\n",
    "    l = 0\n",
    "    for r in range(len(nums)):\n",
    "        if r - l > k:\n",
    "            visited_set.remove(nums[l])\n",
    "            l += 1\n",
    "        if nums[r] in visited_set:\n",
    "            return True\n",
    "        visited_set.add(nums[r])\n",
    "\n",
    "    return False"
   ],
   "outputs": [],
   "execution_count": 1
  },
  {
   "metadata": {
    "ExecuteTime": {
     "end_time": "2025-06-11T02:28:22.366871Z",
     "start_time": "2025-06-11T02:28:22.357448Z"
    }
   },
   "cell_type": "code",
   "source": [
    "\"\"\"\n",
    "Best time to buy and sell stock\n",
    "\"\"\"\n",
    "\n",
    "\n",
    "def best_time(prices):\n",
    "    l = 0\n",
    "    maxProfit = 0\n",
    "    for r in range(1, len(prices)):\n",
    "        if prices[r] > prices[l]:\n",
    "            maxProfit = max(maxProfit, prices[r] - prices[l])\n",
    "        else:\n",
    "            l = r\n",
    "\n",
    "    return maxProfit\n",
    "\n",
    "\n",
    "print(best_time([10, 1, 5, 6, 7, 1]))"
   ],
   "id": "e6cf0f970d06591b",
   "outputs": [
    {
     "name": "stdout",
     "output_type": "stream",
     "text": [
      "6\n"
     ]
    }
   ],
   "execution_count": 2
  },
  {
   "metadata": {
    "ExecuteTime": {
     "end_time": "2025-06-11T02:41:36.799862Z",
     "start_time": "2025-06-11T02:41:36.781289Z"
    }
   },
   "cell_type": "code",
   "source": [
    "\"\"\"\n",
    "Longest substring without repeating characters\n",
    "\"\"\"\n",
    "\n",
    "\n",
    "def longest_substring(st):\n",
    "    st_set = set()\n",
    "    l, max_size = 0, 0\n",
    "    st_set.add(st[l])\n",
    "    for r in range(1, len(st)):\n",
    "        if st[r] not in st_set:\n",
    "            st_set.add(st[r])\n",
    "            max_size = max(max_size, r - l)\n",
    "        else:\n",
    "            while st[r] in st_set:\n",
    "                st_set.remove(st[l])\n",
    "                l += 1\n",
    "    return max_size\n",
    "\n",
    "\n",
    "print(longest_substring(\"zxyzxyz\"))\n"
   ],
   "id": "7f875afd34f10086",
   "outputs": [
    {
     "name": "stdout",
     "output_type": "stream",
     "text": [
      "3\n"
     ]
    }
   ],
   "execution_count": 4
  },
  {
   "metadata": {
    "ExecuteTime": {
     "end_time": "2025-06-12T19:32:46.907611Z",
     "start_time": "2025-06-12T19:32:46.894385Z"
    }
   },
   "cell_type": "code",
   "source": [
    "\"\"\"\n",
    "Longest repeating character replacement\n",
    "\"\"\"\n",
    "\n",
    "\n",
    "def longest_repeating(st, k):\n",
    "    res = 0\n",
    "    charSet = set(st)\n",
    "\n",
    "    for c in charSet:\n",
    "        count = l = 0\n",
    "        for r in range(len(st)):\n",
    "            if st[r] == c:\n",
    "                count += 1\n",
    "\n",
    "            while (r - l + 1) - count > k:\n",
    "                if st[l] == c:\n",
    "                    count -= 1\n",
    "                l += 1\n",
    "\n",
    "            res = max(res, r - l + 1)\n",
    "\n",
    "    return res\n",
    "\n",
    "\n",
    "def long_repeating(st, k):\n",
    "    count = {}\n",
    "    res = 0\n",
    "\n",
    "    l = 0\n",
    "    for r in range(len(st)):\n",
    "        count[st[r]] = 1 + count.get(st[r], 0)\n",
    "\n",
    "        while (r - l + 1) - max(count.values()) > k:\n",
    "            count[st[l]] -= 1\n",
    "            l += 1\n",
    "\n",
    "        res = max(res, r - l + 1)\n",
    "\n",
    "    return res\n"
   ],
   "id": "2e214bfe0e114ce0",
   "outputs": [],
   "execution_count": 1
  },
  {
   "metadata": {
    "ExecuteTime": {
     "end_time": "2025-06-13T13:30:52.587112Z",
     "start_time": "2025-06-13T13:30:52.570021Z"
    }
   },
   "cell_type": "code",
   "source": [
    "\"\"\"\n",
    "Permutation in string\n",
    "\"\"\"\n",
    "\n",
    "\n",
    "def permutation_string(s1, s2):\n",
    "    if len(s1) > len(s2): return False\n",
    "\n",
    "    s1Count, s2Count = [0] * 26, [0] * 26\n",
    "    for i in range(len(s1)):\n",
    "        s1Count[ord(s1[i]) - ord('a')] += 1\n",
    "        s2Count[ord(s2[i]) - ord('a')] += 1\n",
    "\n",
    "    matches = 0\n",
    "    for i in range(26):\n",
    "        matches += (1 if s1Count[i] == s2Count[i] else 0)\n",
    "\n",
    "    l = 0\n",
    "    for r in range(len(s1), len(s2)):\n",
    "        if matches == 26:\n",
    "            return True\n",
    "\n",
    "        index = ord(s2[r]) - ord('a')\n",
    "        s2Count[index] += 1\n",
    "        if s1Count[index] == s2Count[index]:\n",
    "            matches += 1\n",
    "        elif s1Count[index] + 1 == s2Count[index]:\n",
    "            matches -= 1\n",
    "\n",
    "        index = ord(s2[l]) - ord('a')\n",
    "        s2Count[index] -= 1\n",
    "        if s1Count[index] == s2Count[index]:\n",
    "            matches += 1\n",
    "        elif s1Count[index] + 1 == s2Count[index]:\n",
    "            matches -= 1\n",
    "    print(matches)\n",
    "\n",
    "    return matches == 26\n",
    "\n",
    "\n",
    "print(permutation_string('ab', 'eidbaoooo'))\n"
   ],
   "id": "cf0a41b23a21f4b9",
   "outputs": [
    {
     "name": "stdout",
     "output_type": "stream",
     "text": [
      "23\n",
      "False\n"
     ]
    }
   ],
   "execution_count": 6
  },
  {
   "metadata": {
    "ExecuteTime": {
     "end_time": "2025-06-12T20:01:04.265418Z",
     "start_time": "2025-06-12T20:01:04.258149Z"
    }
   },
   "cell_type": "code",
   "source": [
    "\"\"\"\n",
    "Min size subarray sum\n",
    "\"\"\"\n",
    "\n",
    "\n",
    "def min_size(nums, target):\n",
    "    if not nums:\n",
    "        return False\n",
    "\n",
    "    l, val = 0, 0\n",
    "    minSize = float('inf')\n",
    "    for r in range(1, len(nums)):\n",
    "        val += nums[r]\n",
    "        while val > target:\n",
    "            minSize = min(minSize, r - l + 1)\n",
    "            val -= nums[l]\n",
    "            l += 1\n",
    "\n",
    "    if minSize == float('inf'):\n",
    "        return 0\n",
    "    else:\n",
    "        return minSize"
   ],
   "id": "c40eaf0b3d18b198",
   "outputs": [],
   "execution_count": 4
  },
  {
   "metadata": {},
   "cell_type": "code",
   "outputs": [],
   "execution_count": null,
   "source": [
    "\"\"\"\n",
    "Find k closest elements\n",
    "\"\"\"\n",
    "\n",
    "\n",
    "def k_closest_elements(nums, k, x):\n",
    "\n"
   ],
   "id": "50768a35f0bb76c7"
  }
 ],
 "metadata": {
  "kernelspec": {
   "display_name": "Python 3",
   "language": "python",
   "name": "python3"
  },
  "language_info": {
   "codemirror_mode": {
    "name": "ipython",
    "version": 2
   },
   "file_extension": ".py",
   "mimetype": "text/x-python",
   "name": "python",
   "nbconvert_exporter": "python",
   "pygments_lexer": "ipython2",
   "version": "2.7.6"
  }
 },
 "nbformat": 4,
 "nbformat_minor": 5
}
