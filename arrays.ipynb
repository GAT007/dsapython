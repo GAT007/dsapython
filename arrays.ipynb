{
 "cells": [
  {
   "cell_type": "code",
   "execution_count": null,
   "id": "initial_id",
   "metadata": {
    "collapsed": true
   },
   "outputs": [],
   "source": [
    "\"\"\"\n",
    "Whenever we are solving a dsa problem, we need to keep 4 things in mind\n",
    "1. parsing the input\n",
    "2. cleaning the input\n",
    "3. business logic\n",
    "4. displaying the output\n",
    "\"\"\"\n"
   ]
  },
  {
   "metadata": {
    "ExecuteTime": {
     "end_time": "2025-01-05T17:26:38.176731Z",
     "start_time": "2025-01-05T17:26:38.160841Z"
    }
   },
   "cell_type": "code",
   "source": [
    "#Dynamic Arrays\n",
    "import sys\n",
    "n = []\n",
    "for i in range(20):\n",
    "    n.append(i)\n",
    "\n",
    "    b = sys.getsizeof(n)\n",
    "    print(f\"Length of array : {len(n)} Bytes in memory: {b} \")\n"
   ],
   "id": "a7c6f39b887670d4",
   "outputs": [
    {
     "name": "stdout",
     "output_type": "stream",
     "text": [
      "Length of array : 1 Bytes in memory: 88 \n",
      "Length of array : 2 Bytes in memory: 88 \n",
      "Length of array : 3 Bytes in memory: 88 \n",
      "Length of array : 4 Bytes in memory: 88 \n",
      "Length of array : 5 Bytes in memory: 120 \n",
      "Length of array : 6 Bytes in memory: 120 \n",
      "Length of array : 7 Bytes in memory: 120 \n",
      "Length of array : 8 Bytes in memory: 120 \n",
      "Length of array : 9 Bytes in memory: 184 \n",
      "Length of array : 10 Bytes in memory: 184 \n",
      "Length of array : 11 Bytes in memory: 184 \n",
      "Length of array : 12 Bytes in memory: 184 \n",
      "Length of array : 13 Bytes in memory: 184 \n",
      "Length of array : 14 Bytes in memory: 184 \n",
      "Length of array : 15 Bytes in memory: 184 \n",
      "Length of array : 16 Bytes in memory: 184 \n",
      "Length of array : 17 Bytes in memory: 248 \n",
      "Length of array : 18 Bytes in memory: 248 \n",
      "Length of array : 19 Bytes in memory: 248 \n",
      "Length of array : 20 Bytes in memory: 248 \n"
     ]
    }
   ],
   "execution_count": 1
  },
  {
   "metadata": {
    "ExecuteTime": {
     "end_time": "2025-01-05T17:42:21.764209Z",
     "start_time": "2025-01-05T17:42:21.752807Z"
    }
   },
   "cell_type": "code",
   "source": [
    "#Difference between public and private methods\n",
    "class M:\n",
    "    def public(self):\n",
    "        return \"You will be able to tab see me!\"\n",
    "    def _private(self):\n",
    "        return \"You will not be able to tab see me!\"\n",
    "\n",
    "m = M()\n",
    "print(m.public())\n",
    "print(m._private())"
   ],
   "id": "f6e55a91442a4b24",
   "outputs": [
    {
     "name": "stdout",
     "output_type": "stream",
     "text": [
      "You will be able to tab see me!\n",
      "You will not be able to tab see me!\n"
     ]
    }
   ],
   "execution_count": 3
  },
  {
   "metadata": {},
   "cell_type": "markdown",
   "source": "##Dynamic Array Implementation",
   "id": "ff12f373b641ada8"
  },
  {
   "metadata": {
    "ExecuteTime": {
     "end_time": "2025-01-05T18:46:25.593187Z",
     "start_time": "2025-01-05T18:46:25.581032Z"
    }
   },
   "cell_type": "code",
   "source": [
    "import ctypes\n",
    "\n",
    "class DynamicArray(object):\n",
    "    def __init__(self):\n",
    "        self.n = 0\n",
    "        self.capacity = 1\n",
    "        self.A = self.make_array(self.capacity)\n",
    "\n",
    "    def __len__(self):\n",
    "        return self.n\n",
    "\n",
    "    def __getitem__(self, k):\n",
    "        if not 0<=k<self.n:\n",
    "            raise IndexError(f'Given value {k} is out of bounds!')\n",
    "        else:\n",
    "            return self.A[k]\n",
    "\n",
    "    def append(self, k):\n",
    "        if self.n == self.capacity:\n",
    "            self._resize(2 * self.capacity)\n",
    "        self.A[self.n]=k\n",
    "        self.n+=1\n",
    "\n",
    "    def _resize(self, new_capacity):\n",
    "        b = self.make_array(new_capacity)\n",
    "        for k in range(self.n):\n",
    "            b[k] = self.A[k]\n",
    "        self.capacity = new_capacity\n",
    "        self.A = b\n",
    "\n",
    "    def make_array(self, capacity):\n",
    "        return (capacity * ctypes.py_object)()"
   ],
   "id": "f11b1c7a62f227d4",
   "outputs": [],
   "execution_count": 10
  },
  {
   "metadata": {
    "ExecuteTime": {
     "end_time": "2025-01-05T18:46:27.846222Z",
     "start_time": "2025-01-05T18:46:27.839617Z"
    }
   },
   "cell_type": "code",
   "source": [
    "new_arr = DynamicArray()\n",
    "\n",
    "for i in range(20):\n",
    "    new_arr.append(i)\n",
    "    b = sys.getsizeof(new_arr)\n",
    "    print(f\"Length of array : {len(new_arr)} Size in bytes : {b}\")"
   ],
   "id": "381c870c2b7c42b0",
   "outputs": [
    {
     "name": "stdout",
     "output_type": "stream",
     "text": [
      "Length of array : 1 Size in bytes : 48\n",
      "Length of array : 2 Size in bytes : 48\n",
      "Length of array : 3 Size in bytes : 48\n",
      "Length of array : 4 Size in bytes : 48\n",
      "Length of array : 5 Size in bytes : 48\n",
      "Length of array : 6 Size in bytes : 48\n",
      "Length of array : 7 Size in bytes : 48\n",
      "Length of array : 8 Size in bytes : 48\n",
      "Length of array : 9 Size in bytes : 48\n",
      "Length of array : 10 Size in bytes : 48\n",
      "Length of array : 11 Size in bytes : 48\n",
      "Length of array : 12 Size in bytes : 48\n",
      "Length of array : 13 Size in bytes : 48\n",
      "Length of array : 14 Size in bytes : 48\n",
      "Length of array : 15 Size in bytes : 48\n",
      "Length of array : 16 Size in bytes : 48\n",
      "Length of array : 17 Size in bytes : 48\n",
      "Length of array : 18 Size in bytes : 48\n",
      "Length of array : 19 Size in bytes : 48\n",
      "Length of array : 20 Size in bytes : 48\n"
     ]
    }
   ],
   "execution_count": 11
  },
  {
   "metadata": {},
   "cell_type": "code",
   "outputs": [],
   "execution_count": null,
   "source": "",
   "id": "e9bdada57d6b79f2"
  }
 ],
 "metadata": {
  "kernelspec": {
   "display_name": "Python 3",
   "language": "python",
   "name": "python3"
  },
  "language_info": {
   "codemirror_mode": {
    "name": "ipython",
    "version": 2
   },
   "file_extension": ".py",
   "mimetype": "text/x-python",
   "name": "python",
   "nbconvert_exporter": "python",
   "pygments_lexer": "ipython2",
   "version": "2.7.6"
  }
 },
 "nbformat": 4,
 "nbformat_minor": 5
}
