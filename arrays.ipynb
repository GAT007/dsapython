{
 "cells": [
  {
   "cell_type": "code",
   "id": "initial_id",
   "metadata": {
    "collapsed": true,
    "ExecuteTime": {
     "end_time": "2025-01-30T14:10:43.830358Z",
     "start_time": "2025-01-30T14:10:43.816617Z"
    }
   },
   "source": [
    "\"\"\"\n",
    "217 : Array contains duplicate elements\n",
    "Brute force logic : two for loops, where you pick each element and check with other elements in the array\n",
    "Time complexity approach : sort the array, single for loop to iterate through, check if any two elements are the same\n",
    "Space complexity approach : Single for loop, iterate through, find them in a list and check the set each time, if the set had the number before, array contains a duplicate, otherwise it does not\n",
    "\n",
    "Python data structures\n",
    "list = []\n",
    "dictionary = {}\n",
    "tuple = () //immutable, cannot be changed once created\n",
    "set = set() //mutable, does not contain any duplicate elements\n",
    "\"\"\"\n",
    "\n",
    "def containsDuplicate(nums):\n",
    "    num_set = set()\n",
    "\n",
    "    for num in nums:\n",
    "        if num in num_set:\n",
    "            return True\n",
    "        else:\n",
    "            num_set.add(num)\n",
    "    return False"
   ],
   "outputs": [],
   "execution_count": 1
  },
  {
   "metadata": {
    "ExecuteTime": {
     "end_time": "2025-02-01T20:54:18.038318Z",
     "start_time": "2025-02-01T20:54:18.027064Z"
    }
   },
   "cell_type": "code",
   "source": [
    "\"\"\"\n",
    "242 Valid Anagram\n",
    "Given two strings, check whether they are anagrams of each other or not\n",
    "Brute force approach :\n",
    "\"\"\"\n",
    "\n",
    "def is_anagram(s, t) -> bool:\n",
    "    if len(s) != len(t):\n",
    "        return False\n",
    "\n",
    "    alphabet = [0] * 26\n",
    "\n",
    "    for i in range(len(s)):\n",
    "       alphabet[ord(s[i]) - ord('a')] += 1\n",
    "       alphabet[ord(t[i]) - ord('a')] -= 1\n",
    "\n",
    "    for element in alphabet:\n",
    "        if element != 0:\n",
    "            return False\n",
    "\n",
    "    return True\n"
   ],
   "id": "742c97b00211f2ee",
   "outputs": [],
   "execution_count": 1
  },
  {
   "metadata": {
    "ExecuteTime": {
     "end_time": "2025-02-01T21:11:46.317250Z",
     "start_time": "2025-02-01T21:11:46.302010Z"
    }
   },
   "cell_type": "code",
   "source": [
    "\"\"\"\n",
    "1 Two Sum\n",
    "Given an array of integers find whether two elements from the array can add up to a certain target value\n",
    "Logic : Iterate through the array, finding the complement of each element, check in the dictionary whether the element is present or not, if present return indices, else return false\n",
    "\"\"\"\n",
    "\n",
    "def two_sum(nums, target):\n",
    "    if len(nums) < 2:\n",
    "        raise Exception\n",
    "\n",
    "    dict_num= {}\n",
    "\n",
    "    for i, number in enumerate(nums):\n",
    "        complement = target - i\n",
    "        if complement in dict_num:\n",
    "            return (i, dict_num[complement])\n",
    "\n",
    "        dict_num[complement] = i\n",
    "\n",
    "    return False"
   ],
   "id": "f24af4d94b376e42",
   "outputs": [],
   "execution_count": 2
  },
  {
   "metadata": {
    "ExecuteTime": {
     "end_time": "2025-02-01T21:37:28.259525Z",
     "start_time": "2025-02-01T21:37:28.250503Z"
    }
   },
   "cell_type": "code",
   "source": [
    "\"\"\" Group Anagrams\n",
    "Given an array of strings, group anagrams together and return them in any order\n",
    "Create their equivalent 26 character array, store it in a dictionary, return the dictionary\n",
    "\"\"\"\n",
    "from collections import defaultdict\n",
    "\n",
    "def group_anagrams(strs):\n",
    "    if len(strs) == 0:\n",
    "        return []\n",
    "\n",
    "    ans_map = defaultdict(list)\n",
    "    for str in strs:\n",
    "        count = [0] * 26\n",
    "\n",
    "        for s in str:\n",
    "            count[ord(s) - ord('a')] += 1\n",
    "\n",
    "        key = tuple(count)\n",
    "        ans_map[key].append(str)\n",
    "\n",
    "    return list(ans_map.values())"
   ],
   "id": "ee1b1c7979da733b",
   "outputs": [],
   "execution_count": 3
  },
  {
   "metadata": {},
   "cell_type": "code",
   "outputs": [],
   "execution_count": null,
   "source": "",
   "id": "d28795ad43d276e5"
  }
 ],
 "metadata": {
  "kernelspec": {
   "display_name": "Python 3",
   "language": "python",
   "name": "python3"
  },
  "language_info": {
   "codemirror_mode": {
    "name": "ipython",
    "version": 2
   },
   "file_extension": ".py",
   "mimetype": "text/x-python",
   "name": "python",
   "nbconvert_exporter": "python",
   "pygments_lexer": "ipython2",
   "version": "2.7.6"
  }
 },
 "nbformat": 4,
 "nbformat_minor": 5
}
