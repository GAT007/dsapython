{
 "cells": [
  {
   "metadata": {},
   "cell_type": "markdown",
   "source": "# Linked Lists",
   "id": "74a5669851bb7683"
  },
  {
   "cell_type": "code",
   "id": "initial_id",
   "metadata": {
    "collapsed": true,
    "ExecuteTime": {
     "end_time": "2025-05-19T16:16:59.621036Z",
     "start_time": "2025-05-19T16:16:59.605366Z"
    }
   },
   "source": [
    "\"\"\"\n",
    "Middle of the linked list\n",
    "\"\"\"\n",
    "\n",
    "\n",
    "def middle_of_list(root):\n",
    "    if not root:\n",
    "        return False\n",
    "\n",
    "    slow = fast = root\n",
    "\n",
    "    while fast and fast.next:\n",
    "        slow = slow.next\n",
    "        fast = fast.next.next\n",
    "\n",
    "    return slow"
   ],
   "outputs": [],
   "execution_count": 1
  },
  {
   "metadata": {
    "ExecuteTime": {
     "end_time": "2025-05-19T16:27:13.514254Z",
     "start_time": "2025-05-19T16:27:13.497359Z"
    }
   },
   "cell_type": "code",
   "source": [
    "\"\"\"\n",
    "Linked list cycle\n",
    "\"\"\"\n",
    "\n",
    "\n",
    "def linked_list_cycle(root):\n",
    "    if not root:\n",
    "        return False\n",
    "\n",
    "    slow = fast = root\n",
    "    while fast and fast.next:\n",
    "        slow = slow.next\n",
    "        fast = fast.next.next\n",
    "        if slow == fast:\n",
    "            return True\n",
    "\n",
    "    return False"
   ],
   "id": "721105be0a07a081",
   "outputs": [],
   "execution_count": 2
  },
  {
   "metadata": {
    "ExecuteTime": {
     "end_time": "2025-05-19T16:32:01.534172Z",
     "start_time": "2025-05-19T16:32:01.525382Z"
    }
   },
   "cell_type": "code",
   "source": [
    "\"\"\"\n",
    "Reverse a linked list\n",
    "\"\"\"\n",
    "\n",
    "\n",
    "def reverse(root):\n",
    "    if not root:\n",
    "        return False\n",
    "\n",
    "    prev = None\n",
    "    curr = root\n",
    "\n",
    "    while curr != None:\n",
    "        next_p = curr.next\n",
    "        curr.next = prev\n",
    "        prev = curr\n",
    "        curr = next_p\n",
    "\n",
    "    return prev"
   ],
   "id": "510db6b23c99dba1",
   "outputs": [],
   "execution_count": 3
  },
  {
   "metadata": {
    "ExecuteTime": {
     "end_time": "2025-05-19T16:33:35.195358Z",
     "start_time": "2025-05-19T16:33:35.186843Z"
    }
   },
   "cell_type": "code",
   "source": [
    "\"\"\"\n",
    "Remove elements from a linked list\n",
    "\"\"\"\n",
    "\n",
    "\n",
    "def remove_elements(root, target):\n",
    "    if not root:\n",
    "        return False\n",
    "\n",
    "    dummy_node = LLNode(-1, root)\n",
    "    curr = dummy_node\n",
    "\n",
    "    while curr != None:\n",
    "        if curr.next == target:\n",
    "            curr.next = curr.next.next\n",
    "        else:\n",
    "            curr = curr.next\n",
    "\n",
    "    return dummy_node.next"
   ],
   "id": "7a2dfa8818d1650c",
   "outputs": [],
   "execution_count": 4
  },
  {
   "metadata": {
    "ExecuteTime": {
     "end_time": "2025-05-19T16:38:35.043758Z",
     "start_time": "2025-05-19T16:38:35.037276Z"
    }
   },
   "cell_type": "code",
   "source": [
    "\"\"\"\n",
    "Reverse linked list 2\n",
    "\"\"\"\n",
    "\n",
    "\n",
    "def reverse_linked_list_2(root, p, q):\n",
    "    if not root: return False\n",
    "\n",
    "    dummy_head - LLNode(-1, head)\n",
    "    curr = root\n",
    "    for i in range(p - 1):\n",
    "        curr = curr.next\n",
    "\n",
    "    left_prev = curr\n",
    "    prev = left_prev\n",
    "    curr = prev.next\n",
    "\n",
    "    for i in range(q - p + 1):\n",
    "        next_p = curr.next\n",
    "        curr.next = prev\n",
    "        prev = curr\n",
    "        curr = next_p\n",
    "\n",
    "    left_prev.next.next = curr\n",
    "    left_prev.next = prev\n",
    "\n",
    "    return dummy_head.next\n"
   ],
   "id": "c9db7c0a8ae92c16",
   "outputs": [],
   "execution_count": 5
  },
  {
   "metadata": {
    "ExecuteTime": {
     "end_time": "2025-05-19T16:41:30.836861Z",
     "start_time": "2025-05-19T16:41:30.831837Z"
    }
   },
   "cell_type": "code",
   "source": [
    "\"\"\"\n",
    "Palindrome linked list\n",
    "\"\"\"\n",
    "\n",
    "\n",
    "def palindrome_linked_list(root):\n",
    "    if not root:\n",
    "        return False\n",
    "\n",
    "    slow = fast = root\n",
    "\n",
    "    while fast and fast.next:\n",
    "        slow = slow.next\n",
    "        fast = fast.next.next\n",
    "\n",
    "    prev = None\n",
    "    curr = slow\n",
    "\n",
    "    while curr:\n",
    "        next_p = curr.next\n",
    "        curr.next = prev\n",
    "        prev = curr\n",
    "        curr = next_p\n",
    "\n",
    "    l, r = root, prev\n",
    "\n",
    "    while r:\n",
    "        if l.value != r.value:\n",
    "            return False\n",
    "        else:\n",
    "            l = l.next\n",
    "            r = r.next\n",
    "\n",
    "    return True"
   ],
   "id": "81fa4c0d85a4d988",
   "outputs": [],
   "execution_count": 8
  },
  {
   "metadata": {
    "ExecuteTime": {
     "end_time": "2025-05-19T16:44:01.023822Z",
     "start_time": "2025-05-19T16:44:01.016183Z"
    }
   },
   "cell_type": "code",
   "source": [
    "\"\"\"\n",
    "Merge two sorted lists\n",
    "\"\"\"\n",
    "\n",
    "\n",
    "def merge_two_sorted(p, q):\n",
    "    # Check conditions\n",
    "    dummy_node = LLNode(-1, None)\n",
    "    curr = dummy_node\n",
    "\n",
    "    while p and q:\n",
    "        if p.value <= q.value:\n",
    "            curr.next = p\n",
    "            p, curr = p.next, curr.next\n",
    "\n",
    "        else:\n",
    "            curr.next = q\n",
    "            q, curr = q.next, curr.next\n",
    "\n",
    "    if p or q:\n",
    "        curr.next = p if p else q\n",
    "\n",
    "    return dummy_node.next"
   ],
   "id": "bbbd8da71f519120",
   "outputs": [],
   "execution_count": 9
  },
  {
   "metadata": {},
   "cell_type": "code",
   "outputs": [],
   "execution_count": null,
   "source": "",
   "id": "4f764ce12165728c"
  }
 ],
 "metadata": {
  "kernelspec": {
   "display_name": "Python 3",
   "language": "python",
   "name": "python3"
  },
  "language_info": {
   "codemirror_mode": {
    "name": "ipython",
    "version": 2
   },
   "file_extension": ".py",
   "mimetype": "text/x-python",
   "name": "python",
   "nbconvert_exporter": "python",
   "pygments_lexer": "ipython2",
   "version": "2.7.6"
  }
 },
 "nbformat": 4,
 "nbformat_minor": 5
}
