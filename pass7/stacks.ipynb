{
 "cells": [
  {
   "metadata": {},
   "cell_type": "markdown",
   "source": "# Stacks",
   "id": "35e86eaba77079f"
  },
  {
   "cell_type": "code",
   "id": "initial_id",
   "metadata": {
    "collapsed": true,
    "ExecuteTime": {
     "end_time": "2025-05-19T22:19:13.522258Z",
     "start_time": "2025-05-19T22:19:13.510615Z"
    }
   },
   "source": [
    "\"\"\"\n",
    "Minstack\n",
    "\"\"\"\n",
    "\n",
    "\n",
    "class Minstack:\n",
    "    def __init__(self):\n",
    "        self.stack = []\n",
    "\n",
    "    def push(self, value):\n",
    "        if not self.stack:\n",
    "            current_min = value\n",
    "        else:\n",
    "            current_min = min(value, self.stack[-1][1])\n",
    "\n",
    "        self.stack.append((value, current_min))\n",
    "\n",
    "    def pop(self):\n",
    "        self.stack.pop()\n",
    "\n",
    "    def top(self):\n",
    "        return self.stack[-1][0]\n",
    "\n",
    "    def getMin(self):\n",
    "        return self.stack[-1][1]\n",
    "\n"
   ],
   "outputs": [],
   "execution_count": 2
  },
  {
   "metadata": {
    "ExecuteTime": {
     "end_time": "2025-05-19T22:27:25.586195Z",
     "start_time": "2025-05-19T22:27:25.576782Z"
    }
   },
   "cell_type": "code",
   "source": [
    "\"\"\"\n",
    "Valid parentheses\n",
    "\"\"\"\n",
    "\n",
    "\n",
    "def validparenthese(st):\n",
    "    stack = []\n",
    "    map = {')': '(', '}': '{', ']': '['}\n",
    "    for elem in st:\n",
    "        if stack and (elem in map and stack[-1] == map[elem]):\n",
    "            stack.pop()\n",
    "        else:\n",
    "            stack.append()\n",
    "\n",
    "    return not stack"
   ],
   "id": "b6a9f6dcda612824",
   "outputs": [],
   "execution_count": 3
  },
  {
   "metadata": {
    "ExecuteTime": {
     "end_time": "2025-05-19T22:29:48.910942Z",
     "start_time": "2025-05-19T22:29:48.903794Z"
    }
   },
   "cell_type": "code",
   "source": [
    "\"\"\"\n",
    "Eval reverse polish notation\n",
    "\"\"\"\n",
    "\n",
    "\n",
    "def polishnotation(st):\n",
    "    stack = []\n",
    "    for element in str:\n",
    "        if element not in '+-*/':\n",
    "            stack.append(int(element))\n",
    "        else:\n",
    "            r = stack.pop()\n",
    "            l = stack.pop()\n",
    "            if element == '+':\n",
    "                stack.append(r + l)\n",
    "            elif element == '-':\n",
    "                stack.append(r - l)\n",
    "            elif element == '*':\n",
    "                stack.append(r * l)\n",
    "            else:\n",
    "                stack.append(r / l)\n",
    "    return stack.pop()"
   ],
   "id": "1983243b64b2908d",
   "outputs": [],
   "execution_count": 5
  },
  {
   "metadata": {
    "ExecuteTime": {
     "end_time": "2025-05-19T22:30:31.765194Z",
     "start_time": "2025-05-19T22:30:31.736242Z"
    }
   },
   "cell_type": "code",
   "source": [
    "\"\"\"\n",
    "Create reverse polish notation\n",
    "\"\"\""
   ],
   "id": "e768159633732878",
   "outputs": [
    {
     "data": {
      "text/plain": [
       "'\\nCreate reverse polish notation\\n'"
      ]
     },
     "execution_count": 6,
     "metadata": {},
     "output_type": "execute_result"
    }
   ],
   "execution_count": 6
  },
  {
   "metadata": {},
   "cell_type": "code",
   "outputs": [],
   "execution_count": null,
   "source": [
    "\"\"\"\n",
    "Stack sorting\n",
    "\"\"\""
   ],
   "id": "8100812979be280e"
  }
 ],
 "metadata": {
  "kernelspec": {
   "display_name": "Python 3",
   "language": "python",
   "name": "python3"
  },
  "language_info": {
   "codemirror_mode": {
    "name": "ipython",
    "version": 2
   },
   "file_extension": ".py",
   "mimetype": "text/x-python",
   "name": "python",
   "nbconvert_exporter": "python",
   "pygments_lexer": "ipython2",
   "version": "2.7.6"
  }
 },
 "nbformat": 4,
 "nbformat_minor": 5
}
