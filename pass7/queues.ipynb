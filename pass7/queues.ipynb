{
 "cells": [
  {
   "metadata": {},
   "cell_type": "markdown",
   "source": [
    "# Queues\n",
    "Insertions happen in the front and deletions happen in the rear"
   ],
   "id": "c1155398fcfad7f8"
  },
  {
   "cell_type": "code",
   "id": "initial_id",
   "metadata": {
    "collapsed": true,
    "ExecuteTime": {
     "end_time": "2025-05-19T22:45:26.661653Z",
     "start_time": "2025-05-19T22:45:26.648782Z"
    }
   },
   "source": [
    "\"\"\"\n",
    "Implement a stack using queues\n",
    "\"\"\"\n",
    "\n"
   ],
   "outputs": [
    {
     "data": {
      "text/plain": [
       "'\\nImplement a stack using queues\\n'"
      ]
     },
     "execution_count": 1,
     "metadata": {},
     "output_type": "execute_result"
    }
   ],
   "execution_count": 1
  },
  {
   "metadata": {
    "ExecuteTime": {
     "end_time": "2025-05-19T22:48:31.236863Z",
     "start_time": "2025-05-19T22:48:31.229472Z"
    }
   },
   "cell_type": "code",
   "source": [
    "\"\"\"\n",
    "Time needed to buy tickets\n",
    "\"\"\"\n",
    "\n",
    "\n",
    "def timetaken(nums, k):\n",
    "    result = 0\n",
    "    for i in range(len(nums)):\n",
    "        if i <= k:\n",
    "            result += min(nums[i], nums[k])\n",
    "        else:\n",
    "            result += min(nums[i], nums[k] - 1)\n",
    "    return result\n"
   ],
   "id": "ab8a86ee8c8144e5",
   "outputs": [],
   "execution_count": 2
  },
  {
   "metadata": {
    "ExecuteTime": {
     "end_time": "2025-05-19T22:52:59.179289Z",
     "start_time": "2025-05-19T22:52:59.170080Z"
    }
   },
   "cell_type": "code",
   "source": [
    "\"\"\"\n",
    "Reverse first k elements of q using stack\n",
    "\"\"\"\n",
    "from collections import deque\n",
    "\n",
    "\n",
    "def reverseq(nums, k):\n",
    "    stack = []\n",
    "    for i in range(k):\n",
    "        stack.append(nums.pop(0))\n",
    "\n",
    "    temp_q = deque()\n",
    "    for i in range(k):\n",
    "        temp_q.append(stack.pop())\n",
    "\n",
    "    for i in range(len(nums)):\n",
    "        temp_q.append(nums.pop(0))\n",
    "\n",
    "    return temp_q\n",
    "\n",
    "\n",
    "print(reverseq([10, 20, 30, 40, 50, 60, 70, 80, 90, 100], 5))"
   ],
   "id": "d8ad10027b855ff3",
   "outputs": [
    {
     "name": "stdout",
     "output_type": "stream",
     "text": [
      "deque([50, 40, 30, 20, 10, 60, 70, 80, 90, 100])\n"
     ]
    }
   ],
   "execution_count": 7
  },
  {
   "metadata": {},
   "cell_type": "code",
   "outputs": [],
   "execution_count": null,
   "source": "",
   "id": "d3a65b81a4d6010b"
  }
 ],
 "metadata": {
  "kernelspec": {
   "display_name": "Python 3",
   "language": "python",
   "name": "python3"
  },
  "language_info": {
   "codemirror_mode": {
    "name": "ipython",
    "version": 2
   },
   "file_extension": ".py",
   "mimetype": "text/x-python",
   "name": "python",
   "nbconvert_exporter": "python",
   "pygments_lexer": "ipython2",
   "version": "2.7.6"
  }
 },
 "nbformat": 4,
 "nbformat_minor": 5
}
