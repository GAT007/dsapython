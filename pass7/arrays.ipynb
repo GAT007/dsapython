{
 "cells": [
  {
   "metadata": {},
   "cell_type": "markdown",
   "source": [
    "# Arrays\n",
    "Quick review of all the data structures in python\n",
    "\n",
    "Lists = [] list.append(), list.remove()\n",
    "Sets = {} or set(), only unique values allowed, set.add()\n",
    "Tuples = (), immutable, duplicates allowed\n",
    "Dictionaries, we usually use deafultdict() but usually, {'key':'value'}"
   ],
   "id": "bf88dd7669fc1645"
  },
  {
   "cell_type": "code",
   "id": "initial_id",
   "metadata": {
    "collapsed": true,
    "ExecuteTime": {
     "end_time": "2025-05-17T00:17:46.816932Z",
     "start_time": "2025-05-17T00:17:46.805538Z"
    }
   },
   "source": [
    "\"\"\"\n",
    "Duplicate values\n",
    "\"\"\"\n",
    "\n",
    "\n",
    "def duplicate_values(nums):\n",
    "    set_nums = set(nums)\n",
    "    if len(set_nums) != len(nums):\n",
    "        return False\n",
    "    return True"
   ],
   "outputs": [],
   "execution_count": 1
  },
  {
   "metadata": {
    "ExecuteTime": {
     "end_time": "2025-05-17T00:18:20.833071Z",
     "start_time": "2025-05-17T00:18:20.826642Z"
    }
   },
   "cell_type": "code",
   "source": [
    "\"\"\"\n",
    "Missing Number\n",
    "\"\"\"\n",
    "\n",
    "\n",
    "def missing_number(nums):\n",
    "    return sum(range(len(nums) + 1)) - sum(nums)"
   ],
   "id": "9afdab8f3efe709c",
   "outputs": [],
   "execution_count": 2
  },
  {
   "metadata": {
    "ExecuteTime": {
     "end_time": "2025-05-21T16:27:09.648950Z",
     "start_time": "2025-05-21T16:27:09.635155Z"
    }
   },
   "cell_type": "code",
   "source": [
    "\"\"\"\n",
    "Find all missing numbers\n",
    "\"\"\"\n",
    "\n",
    "\n",
    "def range_numbers(nums):\n",
    "    res = []\n",
    "    for i in range(1, max(nums)):\n",
    "        if i not in nums:\n",
    "            res.append(i)\n",
    "    return res\n",
    "\n",
    "\n",
    "print(range_numbers([2, 8]))"
   ],
   "id": "78a89c86487e1a27",
   "outputs": [
    {
     "name": "stdout",
     "output_type": "stream",
     "text": [
      "[1, 3, 4, 5, 6, 7]\n"
     ]
    }
   ],
   "execution_count": 7
  },
  {
   "metadata": {
    "ExecuteTime": {
     "end_time": "2025-05-17T00:32:52.845337Z",
     "start_time": "2025-05-17T00:32:52.837892Z"
    }
   },
   "cell_type": "code",
   "source": [
    "\"\"\"\n",
    "Two Sum\n",
    "\"\"\"\n",
    "\n",
    "from collections import defaultdict\n",
    "\n",
    "\n",
    "def two_sum(nums, target):\n",
    "    nums_dict = defaultdict(int)\n",
    "    for idx, num in enumerate(nums):\n",
    "        if target - num in nums_dict:\n",
    "            return idx, nums_dict[target - num]\n",
    "        else:\n",
    "            nums_dict[num] = idx\n",
    "\n",
    "    return -1"
   ],
   "id": "6ab58cce3861d9d9",
   "outputs": [],
   "execution_count": 4
  },
  {
   "metadata": {
    "ExecuteTime": {
     "end_time": "2025-05-17T00:36:11.066720Z",
     "start_time": "2025-05-17T00:36:11.058154Z"
    }
   },
   "cell_type": "code",
   "source": [
    "\"\"\"\n",
    "How many numbers are smaller than the current number?\n",
    "\"\"\"\n",
    "\n",
    "\n",
    "def smaller_than_current(nums):\n",
    "    sorted_nums = sorted(nums)\n",
    "    nums_dict = defaultdict(int)\n",
    "\n",
    "    for idx, elem in enumerate(sorted_nums):\n",
    "        if elem not in nums_dict:\n",
    "            nums_dict[elem] = idx\n",
    "\n",
    "    ret = []\n",
    "    for i in nums:\n",
    "        ret.append(nums_dict[i])\n",
    "\n",
    "    return ret"
   ],
   "id": "3cb845273e13b460",
   "outputs": [],
   "execution_count": 5
  },
  {
   "metadata": {
    "ExecuteTime": {
     "end_time": "2025-05-17T00:41:46.943238Z",
     "start_time": "2025-05-17T00:41:46.933259Z"
    }
   },
   "cell_type": "code",
   "source": [
    "\"\"\"\n",
    "Spiral Matrix\n",
    "\"\"\"\n",
    "\n",
    "\n",
    "def spiral_matrix(grid):\n",
    "    ret = []\n",
    "    while grid:\n",
    "        ret.extend(grid.pop(0))\n",
    "        if grid:\n",
    "            for row in grid: ret.append(row.pop())\n",
    "        if grid:\n",
    "            reverse = grid.pop()[::-1]\n",
    "            ret.extend(reverse)\n",
    "        if grid:\n",
    "            reverse = []\n",
    "            for row in grid: ret.append(row.pop(0))\n",
    "            ret.extend(reverse[::-1])\n",
    "\n",
    "    return ret\n"
   ],
   "id": "864e140d843737cb",
   "outputs": [],
   "execution_count": 6
  },
  {
   "metadata": {
    "ExecuteTime": {
     "end_time": "2025-05-17T00:55:23.354526Z",
     "start_time": "2025-05-17T00:55:23.340266Z"
    }
   },
   "cell_type": "code",
   "source": [
    "\"\"\"\n",
    "BFS for tree\n",
    "\"\"\"\n",
    "\n",
    "\n",
    "class Node:\n",
    "    def __init__(self, val, left=None, right=None):\n",
    "        self.val = val\n",
    "        self.left = left\n",
    "        self.right = right\n",
    "\n",
    "\n",
    "from collections import deque\n",
    "\n",
    "\n",
    "def bfs(root):\n",
    "    if not root:\n",
    "        return False\n",
    "\n",
    "    q = deque([root])\n",
    "    ret = []\n",
    "\n",
    "    while q:\n",
    "        curr = q.popleft()\n",
    "        ret.append(curr)\n",
    "        if curr.left: q.append(curr.left)\n",
    "        if curr.right: q.append(curr.right)\n",
    "\n",
    "    return ret\n",
    "\n",
    "\n",
    "\"\"\"\n",
    "DFS for tree nodes\n",
    "\"\"\"\n",
    "\n",
    "\n",
    "def dfs(root):\n",
    "    if not root:\n",
    "        return False\n",
    "\n",
    "    stack = [root]\n",
    "    ret = []\n",
    "\n",
    "    while stack:\n",
    "        curr = stack.pop()\n",
    "        ret.append(curr)\n",
    "        if curr.right: stack.append(curr.right)\n",
    "        if curr.left: stack.append(curr.left)\n",
    "\n",
    "    return ret\n"
   ],
   "id": "20cf69c32ef1cda0",
   "outputs": [],
   "execution_count": 8
  },
  {
   "metadata": {
    "ExecuteTime": {
     "end_time": "2025-05-17T01:06:10.210090Z",
     "start_time": "2025-05-17T01:06:10.202460Z"
    }
   },
   "cell_type": "code",
   "source": [
    "\"\"\"\n",
    "Number of islands\n",
    "\"\"\"\n",
    "\n",
    "from collections import deque\n",
    "\n",
    "\n",
    "def number_of_islands(grid):\n",
    "    count = 0\n",
    "    rows = len(grid)\n",
    "    cols = len(grid[0])\n",
    "    visited = set()\n",
    "\n",
    "    def bfs(r, c):\n",
    "        q = deque([(r, c)])\n",
    "        dir = [(1, 0), (-1, 0), (0, 1), (0, -1)]\n",
    "        while q:\n",
    "            ro, co = q.popleft()\n",
    "            for dr, dc in dir:\n",
    "                row, col = ro + dr, co + dc\n",
    "                if row in range(rows) and col in range(cols) and (row, col) not in visited and grid[row][col] == '1':\n",
    "                    visited.add((row, col))\n",
    "                    q.append((row, col))\n",
    "\n",
    "    for r in rows:\n",
    "        for c in cols:\n",
    "            if (r, c) not in visited and grid[r][c] == '1':\n",
    "                visited.add((r, c))\n",
    "                count += 1\n",
    "                bfs(r, c)\n",
    "\n",
    "    return count"
   ],
   "id": "c474a21167b4d4bb",
   "outputs": [],
   "execution_count": 9
  },
  {
   "metadata": {},
   "cell_type": "markdown",
   "source": "# Two Pointer Technique",
   "id": "477b99cac2d30d3e"
  },
  {
   "metadata": {
    "ExecuteTime": {
     "end_time": "2025-05-17T15:20:32.676029Z",
     "start_time": "2025-05-17T15:20:32.663300Z"
    }
   },
   "cell_type": "code",
   "source": [
    "\"\"\"\n",
    "Best time to buy and sell a stock\n",
    "\"\"\"\n",
    "\n",
    "\n",
    "def best_time(prices):\n",
    "    l, r = 0, 0\n",
    "    max_profit = 0\n",
    "    while r <= len(prices):\n",
    "        if prices[r] > prices[l]:\n",
    "            max_profit = max(max_profit, prices[r] - prices[l])\n",
    "        else:\n",
    "            r = l\n",
    "        r += 1\n",
    "    return max_profit\n"
   ],
   "id": "15857e0ddb8a26b8",
   "outputs": [],
   "execution_count": 10
  },
  {
   "metadata": {
    "ExecuteTime": {
     "end_time": "2025-05-17T15:23:03.687851Z",
     "start_time": "2025-05-17T15:23:03.679699Z"
    }
   },
   "cell_type": "code",
   "source": [
    "\"\"\"\n",
    "Squares of a sorted array\n",
    "\"\"\"\n",
    "from collections import deque\n",
    "\n",
    "\n",
    "def sqaures(nums):\n",
    "    l, r = 0, len(nums) - 1\n",
    "    q = deque()\n",
    "    while r >= l:\n",
    "        left, right = abs(nums[l]), abs(nums[r])\n",
    "        if left > right:\n",
    "            q.append(left * left)\n",
    "            l += 1\n",
    "        else:\n",
    "            q.append(right * right)\n",
    "            r -= 1\n",
    "    return list(q)\n"
   ],
   "id": "bf81795dd5920f4e",
   "outputs": [],
   "execution_count": 11
  },
  {
   "metadata": {
    "ExecuteTime": {
     "end_time": "2025-05-17T15:27:26.428442Z",
     "start_time": "2025-05-17T15:27:26.422618Z"
    }
   },
   "cell_type": "code",
   "source": [
    "\"\"\"\n",
    "3 sum\n",
    "\"\"\"\n",
    "\n",
    "\n",
    "def three_sum(nums):\n",
    "    res = []\n",
    "    for i in range(len(nums)):\n",
    "        left, right = i + 1, len(nums) - 1\n",
    "        while left < right:\n",
    "            value = nums[i] + nums[left] + nums[right]\n",
    "            if value > 0:\n",
    "                right -= 1\n",
    "            elif value < 0:\n",
    "                left += 1\n",
    "            else:\n",
    "                res.append((nums[i], nums[left], nums[right]))\n",
    "                left += 1\n",
    "    return res\n",
    "\n",
    "\n",
    "print(three_sum([-4, - 1, -1, 0, 1, 2]))"
   ],
   "id": "631427b89c4c6fac",
   "outputs": [
    {
     "name": "stdout",
     "output_type": "stream",
     "text": [
      "[(-1, -1, 2), (-1, 0, 1), (-1, 0, 1)]\n"
     ]
    }
   ],
   "execution_count": 14
  },
  {
   "metadata": {
    "ExecuteTime": {
     "end_time": "2025-05-17T15:53:28.845127Z",
     "start_time": "2025-05-17T15:53:28.838996Z"
    }
   },
   "cell_type": "code",
   "source": [
    "\"\"\"\n",
    "Longest Mountain\n",
    "\"\"\"\n",
    "\n",
    "\n",
    "def longest_mountain(nums):\n",
    "    max_length = 0\n",
    "    for i in range(1, len(nums) - 1):\n",
    "        if nums[i - 1] < nums[i] > nums[i + 1]:\n",
    "            l, r = i - 1, i + 1\n",
    "            while nums[l - 1] < nums[l] and l >= 0:\n",
    "                l -= 1\n",
    "            while nums[r + 1] < nums[r] and r < len(nums) - 1:\n",
    "                r += 1\n",
    "\n",
    "            max_length = max(max_length, r - l + 1)\n",
    "\n",
    "    return max_length\n",
    "\n"
   ],
   "id": "c137aee974cfd1a8",
   "outputs": [],
   "execution_count": 15
  },
  {
   "metadata": {},
   "cell_type": "markdown",
   "source": "# Sliding window",
   "id": "a93dc3ee92a79688"
  },
  {
   "metadata": {
    "ExecuteTime": {
     "end_time": "2025-05-17T15:56:39.817012Z",
     "start_time": "2025-05-17T15:56:39.808376Z"
    }
   },
   "cell_type": "code",
   "source": [
    "\"\"\"\n",
    "Contains nearby duplicate\n",
    "\"\"\"\n",
    "\n",
    "\n",
    "def contains_nearby_duplicate(nums, k):\n",
    "    nearby_set = set()\n",
    "    for i in nums:\n",
    "        if i in nearby_set:\n",
    "            return True\n",
    "        if len(nearby_set) < k:\n",
    "            nearby_set.add(i)\n",
    "        else:\n",
    "            nearby_set.remove(nums[i - k])\n",
    "            nearby_set.add(i)\n",
    "\n",
    "    return False\n"
   ],
   "id": "a1a3b00856f0ffe8",
   "outputs": [],
   "execution_count": 16
  },
  {
   "metadata": {
    "ExecuteTime": {
     "end_time": "2025-05-17T16:27:44.316783Z",
     "start_time": "2025-05-17T16:27:44.308078Z"
    }
   },
   "cell_type": "code",
   "source": [
    "\"\"\"\n",
    "Minimum Absolute Difference\n",
    "\"\"\"\n",
    "\n",
    "\n",
    "def minAbsDiff(nums):\n",
    "    nums_sorted = sorted(nums)\n",
    "    min_diff = float('inf')\n",
    "    for i in range(1, len(nums_sorted) - 1):\n",
    "        min_diff = min(min_diff, nums_sorted[i] - nums_sorted[i - 1])\n",
    "\n",
    "    res = []\n",
    "\n",
    "    for i in range(1, len(nums) - 1):\n",
    "        if nums[i] - nums[i - 1] == min_diff:\n",
    "            res.append((nums[i], nums[i - 1]))\n",
    "\n",
    "    return res"
   ],
   "id": "7bfa1e3614cbf22a",
   "outputs": [],
   "execution_count": 17
  },
  {
   "metadata": {
    "ExecuteTime": {
     "end_time": "2025-05-17T16:42:09.553833Z",
     "start_time": "2025-05-17T16:42:09.545190Z"
    }
   },
   "cell_type": "code",
   "source": [
    "\"\"\"\n",
    "Min Size Subarray\n",
    "\"\"\"\n",
    "\n",
    "\n",
    "def minSizeSubarray(nums, target):\n",
    "    l = 0\n",
    "    total = 0\n",
    "    res = float('inf')\n",
    "\n",
    "    for i in range(len(nums)):\n",
    "        total += nums[i]\n",
    "        while total >= target:\n",
    "            res = min(res, i - l + 1)\n",
    "            total -= nums[l]\n",
    "            l += 1\n",
    "\n",
    "    if res == float('inf'):\n",
    "        return 0\n",
    "    else:\n",
    "        return res"
   ],
   "id": "67973285bd82d647",
   "outputs": [],
   "execution_count": 18
  },
  {
   "metadata": {},
   "cell_type": "code",
   "outputs": [],
   "execution_count": null,
   "source": "",
   "id": "920b4f2163b19bb3"
  }
 ],
 "metadata": {
  "kernelspec": {
   "display_name": "Python 3",
   "language": "python",
   "name": "python3"
  },
  "language_info": {
   "codemirror_mode": {
    "name": "ipython",
    "version": 2
   },
   "file_extension": ".py",
   "mimetype": "text/x-python",
   "name": "python",
   "nbconvert_exporter": "python",
   "pygments_lexer": "ipython2",
   "version": "2.7.6"
  }
 },
 "nbformat": 4,
 "nbformat_minor": 5
}
