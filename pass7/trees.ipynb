{
 "cells": [
  {
   "metadata": {},
   "cell_type": "markdown",
   "source": "# Trees",
   "id": "6312345159e63c76"
  },
  {
   "cell_type": "code",
   "id": "initial_id",
   "metadata": {
    "collapsed": true,
    "ExecuteTime": {
     "end_time": "2025-05-20T02:54:55.298935Z",
     "start_time": "2025-05-20T02:54:55.291164Z"
    }
   },
   "source": [
    "\"\"\"\n",
    "Average of levels in tree\n",
    "\"\"\"\n",
    "\n",
    "from collections import deque\n",
    "\n",
    "\n",
    "def averageOfLevels(root):\n",
    "    if root is None:\n",
    "        return False\n",
    "\n",
    "    q = deque([root])\n",
    "    res = []\n",
    "    while q:\n",
    "        level = []\n",
    "        for i in range(len(q)):\n",
    "            curr = q.popleft()\n",
    "            level.append(curr.value)\n",
    "            if curr.left: q.append(curr.left)\n",
    "            if curr.right: q.append(curr.right)\n",
    "\n",
    "        res.append(sum(level) / len(level))\n",
    "\n",
    "    return res"
   ],
   "outputs": [],
   "execution_count": 1
  },
  {
   "metadata": {
    "ExecuteTime": {
     "end_time": "2025-05-20T03:47:42.582269Z",
     "start_time": "2025-05-20T03:47:42.571574Z"
    }
   },
   "cell_type": "code",
   "source": [
    "\"\"\"\n",
    "Min depth of a binary tree\n",
    "\"\"\"\n",
    "\n",
    "\n",
    "def mindepth(root):\n",
    "    if root is None:\n",
    "        return False\n",
    "\n",
    "    level = 1\n",
    "    q = deque([(root, level)])\n",
    "\n",
    "    while q:\n",
    "        for i in range(len(q)):\n",
    "            curr, level = q.popleft()\n",
    "            if curr.right is None and curr.left is None:\n",
    "                return level\n",
    "            level += 1\n",
    "            if curr.left: q.append((curr.left, level))\n",
    "            if curr.right: q.append((curr.right, level))\n",
    "\n",
    "    return level\n"
   ],
   "id": "48f7436bd931f40a",
   "outputs": [],
   "execution_count": 2
  },
  {
   "metadata": {
    "ExecuteTime": {
     "end_time": "2025-05-20T03:50:14.508708Z",
     "start_time": "2025-05-20T03:50:14.495537Z"
    }
   },
   "cell_type": "code",
   "source": [
    "\"\"\"\n",
    "Largest Node\n",
    "\"\"\"\n",
    "\n",
    "from collections import deque\n",
    "\n",
    "\n",
    "def largestNode(root):\n",
    "    q = deque([root])\n",
    "    largest_node = 0\n",
    "    while q:\n",
    "        curr = q.popleft()\n",
    "        largest_node = max(curr.value, largest_node)\n",
    "        if curr.left: q.append(curr.left)\n",
    "        if curr.right: q.append(curr.right)\n",
    "\n",
    "    return largest_node"
   ],
   "id": "5a0613f717799d32",
   "outputs": [],
   "execution_count": 3
  },
  {
   "metadata": {
    "ExecuteTime": {
     "end_time": "2025-05-20T04:00:11.657804Z",
     "start_time": "2025-05-20T04:00:11.649559Z"
    }
   },
   "cell_type": "code",
   "source": [
    "\"\"\"\n",
    "Level Order Traversal\n",
    "\"\"\"\n",
    "\n",
    "\n",
    "def levelOrderTraversal(root):\n",
    "    if not root:\n",
    "        return False\n",
    "\n",
    "    res = []\n",
    "    q = deque([root])\n",
    "    while q:\n",
    "        level = []\n",
    "        for i in range(len(q)):\n",
    "            curr = q.popleft()\n",
    "            level.append(curr.val)\n",
    "            if curr.left: q.append(curr.left)\n",
    "            if curr.right: q.append(curr.right)\n",
    "        res.append(level)\n",
    "\n",
    "    return res\n"
   ],
   "id": "63b1eb566c19ac6f",
   "outputs": [],
   "execution_count": 4
  },
  {
   "metadata": {
    "ExecuteTime": {
     "end_time": "2025-05-20T04:02:51.820959Z",
     "start_time": "2025-05-20T04:02:51.812778Z"
    }
   },
   "cell_type": "code",
   "source": [
    "\"\"\"\n",
    "Same Tree\n",
    "\"\"\"\n",
    "\n",
    "\n",
    "def sametree(p, q):\n",
    "    stack = [(p, q)]\n",
    "    while stack:\n",
    "        l, r = stack.pop()\n",
    "        if l == None and r == None:\n",
    "            continue\n",
    "        if l is None or r is None:\n",
    "            return False\n",
    "        if l.val != r.val:\n",
    "            return False\n",
    "        stack.append((l.right, r.right))\n",
    "        stack.append((l.left, r.left))\n",
    "\n",
    "    return True"
   ],
   "id": "10e8a39f187a9084",
   "outputs": [],
   "execution_count": 6
  },
  {
   "metadata": {
    "ExecuteTime": {
     "end_time": "2025-05-20T04:14:12.700291Z",
     "start_time": "2025-05-20T04:14:12.689224Z"
    }
   },
   "cell_type": "code",
   "source": [
    "\"\"\"\n",
    "Path Sum\n",
    "\"\"\"\n",
    "\n",
    "\n",
    "def pathsum(root, target):\n",
    "    stack = [(root, root.value)]\n",
    "    while stack:\n",
    "        curr, value = stack.pop()\n",
    "        if value == target: return True\n",
    "        if curr.right: stack.append((curr.right, curr.right.value + value))\n",
    "        if curr.left: stack.append((curr.left, curr.left.value + value))\n",
    "\n",
    "    return False\n"
   ],
   "id": "7297d682d76403c3",
   "outputs": [],
   "execution_count": 7
  },
  {
   "metadata": {
    "ExecuteTime": {
     "end_time": "2025-05-20T04:14:27.286635Z",
     "start_time": "2025-05-20T04:14:27.275824Z"
    }
   },
   "cell_type": "code",
   "source": [
    "\"\"\"\n",
    "Diameter of a binary tree\n",
    "\"\"\""
   ],
   "id": "a7765f203b4b9952",
   "outputs": [
    {
     "data": {
      "text/plain": [
       "'\\nDiameter of a binary tree\\n'"
      ]
     },
     "execution_count": 8,
     "metadata": {},
     "output_type": "execute_result"
    }
   ],
   "execution_count": 8
  },
  {
   "metadata": {
    "ExecuteTime": {
     "end_time": "2025-05-20T04:15:41.457049Z",
     "start_time": "2025-05-20T04:15:41.451477Z"
    }
   },
   "cell_type": "code",
   "source": [
    "\"\"\"\n",
    "Invert a binary tree\n",
    "\"\"\"\n",
    "\n",
    "\n",
    "def invertTree(root):\n",
    "    if root is None:\n",
    "        return False\n",
    "\n",
    "    stack = [root]\n",
    "\n",
    "    while stack:\n",
    "        curr = stack.pop()\n",
    "        if curr:\n",
    "            curr.left, curr.right = curr.right, curr.left\n",
    "            stack.append(curr.right)\n",
    "            stack.append(curr.left)\n",
    "\n",
    "    return root\n"
   ],
   "id": "3ce10eea2685d087",
   "outputs": [],
   "execution_count": 9
  },
  {
   "metadata": {
    "ExecuteTime": {
     "end_time": "2025-05-20T04:29:02.634707Z",
     "start_time": "2025-05-20T04:29:02.628692Z"
    }
   },
   "cell_type": "code",
   "source": [
    "\"\"\"\n",
    "Mirror of a binary tree\n",
    "\"\"\"\n",
    "\n",
    "\n",
    "def mirror(p, q):\n",
    "    stack = [(p, q)]\n",
    "\n",
    "    while stack:\n",
    "        if not p and not q:\n",
    "            continue\n",
    "        if not p or not q:\n",
    "            return False\n",
    "        if p.value != q.value:\n",
    "            return False\n",
    "        stack.append((p.right, q.left))\n",
    "        stack.append((p.left, q.right))\n",
    "\n",
    "    return True"
   ],
   "id": "9a5e1c7cce9c2cb8",
   "outputs": [],
   "execution_count": 11
  },
  {
   "metadata": {},
   "cell_type": "code",
   "outputs": [],
   "execution_count": null,
   "source": [
    "\"\"\"\n",
    "Lowest Common Ancestor\n",
    "\"\"\""
   ],
   "id": "6a3865972f2534a"
  }
 ],
 "metadata": {
  "kernelspec": {
   "display_name": "Python 3",
   "language": "python",
   "name": "python3"
  },
  "language_info": {
   "codemirror_mode": {
    "name": "ipython",
    "version": 2
   },
   "file_extension": ".py",
   "mimetype": "text/x-python",
   "name": "python",
   "nbconvert_exporter": "python",
   "pygments_lexer": "ipython2",
   "version": "2.7.6"
  }
 },
 "nbformat": 4,
 "nbformat_minor": 5
}
