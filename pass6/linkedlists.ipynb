{
 "cells": [
  {
   "metadata": {},
   "cell_type": "markdown",
   "source": "# Linked lists",
   "id": "9726eb1aa52cb0d4"
  },
  {
   "cell_type": "code",
   "id": "initial_id",
   "metadata": {
    "collapsed": true,
    "ExecuteTime": {
     "end_time": "2025-05-12T03:40:34.479957Z",
     "start_time": "2025-05-12T03:40:34.472456Z"
    }
   },
   "source": [
    "\"\"\"\n",
    "Middle of the linked list\n",
    "\"\"\"\n",
    "\n",
    "\n",
    "def middle_of_list(start):\n",
    "    slow = fast = start\n",
    "\n",
    "    while fast != None and fast.next != None:\n",
    "        slow = slow.next\n",
    "        fast = fast.next.next\n",
    "    return slow"
   ],
   "outputs": [],
   "execution_count": 1
  },
  {
   "metadata": {
    "ExecuteTime": {
     "end_time": "2025-05-12T03:41:56.547724Z",
     "start_time": "2025-05-12T03:41:56.538394Z"
    }
   },
   "cell_type": "code",
   "source": [
    "\"\"\"\n",
    "Linked list cycle\n",
    "\"\"\"\n",
    "\n",
    "\n",
    "def linked_list_cycle(start):\n",
    "    slow = fast = start\n",
    "    while fast != None and fast.next != None:\n",
    "        slow = slow.next\n",
    "        fast = fast.next.next\n",
    "        if slow == fast:\n",
    "            return True\n",
    "\n",
    "    return False"
   ],
   "id": "a3a0ab1230b5589b",
   "outputs": [],
   "execution_count": 2
  },
  {
   "metadata": {
    "ExecuteTime": {
     "end_time": "2025-05-12T03:43:36.309292Z",
     "start_time": "2025-05-12T03:43:36.295966Z"
    }
   },
   "cell_type": "code",
   "source": [
    "\"\"\"\n",
    "Reverse a linked list\n",
    "\"\"\"\n",
    "\n",
    "\n",
    "def reverse_list(start):\n",
    "    prev = None\n",
    "    curr = start\n",
    "    while curr != None:\n",
    "        next_p = curr.next\n",
    "        curr.next = prev\n",
    "        prev = curr\n",
    "        curr = next_p\n",
    "    return prev"
   ],
   "id": "fae447054a7f8e9b",
   "outputs": [],
   "execution_count": 3
  },
  {
   "metadata": {
    "ExecuteTime": {
     "end_time": "2025-05-12T03:48:45.098046Z",
     "start_time": "2025-05-12T03:48:45.087281Z"
    }
   },
   "cell_type": "code",
   "source": [
    "\"\"\"\n",
    "Remove elements from a linked list\n",
    "\"\"\"\n",
    "\n",
    "\n",
    "def remove_element(start, element):\n",
    "    dummy_head = LLNode(-1, start)\n",
    "    curr = dummy_head\n",
    "    while curr != None and curr.next != None:\n",
    "        if curr.next.val == element:\n",
    "            curr.next = curr.next.next\n",
    "        else:\n",
    "            curr = curr.next\n",
    "    return dummy_head.next"
   ],
   "id": "ac9c9b7deaef6be5",
   "outputs": [],
   "execution_count": 4
  },
  {
   "metadata": {
    "ExecuteTime": {
     "end_time": "2025-05-12T03:55:19.359248Z",
     "start_time": "2025-05-12T03:55:19.350501Z"
    }
   },
   "cell_type": "code",
   "source": [
    "\"\"\"\n",
    "Reverse linked list 2\n",
    "\"\"\"\n",
    "\n",
    "\n",
    "def reverse_linked_list_2(head, start, end):\n",
    "    dummy_head = LLNode(-1, head)\n",
    "    prev_left = dummy_head\n",
    "    for i in range(start - 1):\n",
    "        prev_left = prev_left.next\n",
    "\n",
    "    prev = None\n",
    "    curr = prev_left.next\n",
    "\n",
    "    for i in range(end - start + 1):\n",
    "        next_p = curr.next\n",
    "        curr.next = prev\n",
    "        prev = curr\n",
    "        curr = next_p\n",
    "\n",
    "    prev_left.next.next = curr\n",
    "    prev_left.next = prev\n",
    "\n",
    "    return dummy_head.next\n"
   ],
   "id": "1e786ab34692bbcc",
   "outputs": [],
   "execution_count": 5
  },
  {
   "metadata": {
    "ExecuteTime": {
     "end_time": "2025-05-12T04:18:13.403210Z",
     "start_time": "2025-05-12T04:18:13.389835Z"
    }
   },
   "cell_type": "code",
   "source": [
    "\"\"\"\n",
    "Palindrome linked list\n",
    "\"\"\"\n",
    "\n",
    "\n",
    "def palindrome_linked_list(head):\n",
    "    slow = fast = head\n",
    "    while fast != None and fast.next != None:\n",
    "        slow = slow.next\n",
    "        fast = fast.next.next\n",
    "\n",
    "    prev = None\n",
    "    curr = slow\n",
    "\n",
    "    while curr != None:\n",
    "        next_p = curr.next\n",
    "        curr.next = prev\n",
    "        prev = curr\n",
    "        curr = next_p\n",
    "\n",
    "    p_check_end = prev\n",
    "    p_check_start = head\n",
    "\n",
    "    while p_check_end != None:\n",
    "        if p_check_end.value != p_check_start.value:\n",
    "            return False\n",
    "        else:\n",
    "            p_check_end = p_check_end.next\n",
    "            p_check_start = p_check_start.next\n",
    "\n",
    "    return True\n"
   ],
   "id": "43f26a66c5087f87",
   "outputs": [],
   "execution_count": 6
  },
  {
   "metadata": {},
   "cell_type": "code",
   "outputs": [],
   "execution_count": null,
   "source": [
    "\"\"\"\n",
    "Merge two sorted lists\n",
    "\"\"\"\n",
    "\n",
    "\n",
    "#Constraint : all positive values\n",
    "def merge_two(list1, list2):\n",
    "    left = list1\n",
    "    right = list2\n",
    "\n",
    "    dummy_head = LLNode(-1, None)\n",
    "    curr = dummy_head\n",
    "    while left != None or right != None:\n",
    "        if left.value < right.value:\n",
    "            curr.next = left\n",
    "            left, curr = left.next, left\n",
    "        else:\n",
    "            curr.next = right\n",
    "            right, curr = right.next, right\n",
    "\n",
    "    if left or right:\n",
    "        curr.next = left if left else right\n",
    "\n",
    "    return dummy_head.next\n"
   ],
   "id": "4b8c3a90ab3ac8e8"
  }
 ],
 "metadata": {
  "kernelspec": {
   "display_name": "Python 3",
   "language": "python",
   "name": "python3"
  },
  "language_info": {
   "codemirror_mode": {
    "name": "ipython",
    "version": 2
   },
   "file_extension": ".py",
   "mimetype": "text/x-python",
   "name": "python",
   "nbconvert_exporter": "python",
   "pygments_lexer": "ipython2",
   "version": "2.7.6"
  }
 },
 "nbformat": 4,
 "nbformat_minor": 5
}
