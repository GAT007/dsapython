{
 "cells": [
  {
   "metadata": {},
   "cell_type": "markdown",
   "source": "# Trees",
   "id": "d0350d16e1cde000"
  },
  {
   "cell_type": "code",
   "id": "initial_id",
   "metadata": {
    "collapsed": true,
    "ExecuteTime": {
     "end_time": "2025-05-12T14:52:48.802446Z",
     "start_time": "2025-05-12T14:52:48.788530Z"
    }
   },
   "source": [
    "\"\"\"\n",
    "Average of levels in the tree\n",
    "\"\"\"\n",
    "\n",
    "from collections import deque\n",
    "\n",
    "\n",
    "def averageOfLevels(root):\n",
    "    if root is None:\n",
    "        return False\n",
    "\n",
    "    q = deque([root])\n",
    "    res = []\n",
    "    while q:\n",
    "        level = []\n",
    "        for i in range(len(q)):\n",
    "            curr = q.popleft()\n",
    "            level.append(curr.val)\n",
    "            if curr.left: q.append(curr.left)\n",
    "            if curr.right: q.append(curr.right)\n",
    "        res.append(sum(level) / len(level))\n",
    "\n",
    "    return res"
   ],
   "outputs": [],
   "execution_count": 1
  },
  {
   "metadata": {
    "ExecuteTime": {
     "end_time": "2025-05-12T15:00:25.152135Z",
     "start_time": "2025-05-12T15:00:25.132220Z"
    }
   },
   "cell_type": "code",
   "source": [
    "\"\"\"\n",
    "Min Depth of a binary tree\n",
    "\"\"\"\n",
    "\n",
    "from collections import deque\n",
    "\n",
    "\n",
    "def mindepth(root):\n",
    "    if root is None:\n",
    "        return False\n",
    "\n",
    "    level = 1\n",
    "    q = deque([(root, level)])\n",
    "    while q:\n",
    "        for i in range(len(q)):\n",
    "            curr, level = q.popleft()\n",
    "            if curr.left is None and curr.right is None:\n",
    "                return level\n",
    "            level += 1\n",
    "            if curr.left: q.append((curr.left, level))\n",
    "            if curr.right: q.append((curr.right, level))\n",
    "\n",
    "    return level"
   ],
   "id": "10014d520b12a2d0",
   "outputs": [],
   "execution_count": 2
  },
  {
   "metadata": {
    "ExecuteTime": {
     "end_time": "2025-05-12T15:52:25.928783Z",
     "start_time": "2025-05-12T15:52:25.909414Z"
    }
   },
   "cell_type": "code",
   "source": [
    "\"\"\"\n",
    "Largest Node\n",
    "\"\"\"\n",
    "\n",
    "from collections import deque\n",
    "\n",
    "\n",
    "def largestNode(root):\n",
    "    q = deque([root])\n",
    "    largest_node = 0\n",
    "\n",
    "    while q:\n",
    "        curr = q.popleft()\n",
    "        largest_node = max(largest_node, curr.value)\n",
    "        if curr.left: q.append(curr.left)\n",
    "        if curr.right: q.append(curr.right)\n",
    "\n",
    "    return largest_node"
   ],
   "id": "41896929c28ab77c",
   "outputs": [],
   "execution_count": 3
  },
  {
   "metadata": {
    "ExecuteTime": {
     "end_time": "2025-05-12T16:16:28.590487Z",
     "start_time": "2025-05-12T16:16:28.581455Z"
    }
   },
   "cell_type": "code",
   "source": [
    "\"\"\"\n",
    "Level Order Traversal\n",
    "\"\"\"\n",
    "\n",
    "\n",
    "def levelOrderTraversal(root):\n",
    "    if not root:\n",
    "        return False\n",
    "\n",
    "    q = deque([root])\n",
    "    res = []\n",
    "    while q:\n",
    "        curr = q.popleft()\n",
    "        res.append(q.value)\n",
    "        if curr.left: q.append(curr.left)\n",
    "        if curr.right: q.append(curr.right)\n",
    "\n",
    "    return res"
   ],
   "id": "3f420aa62229e1a0",
   "outputs": [],
   "execution_count": 4
  },
  {
   "metadata": {
    "ExecuteTime": {
     "end_time": "2025-05-12T16:22:41.136815Z",
     "start_time": "2025-05-12T16:22:41.128053Z"
    }
   },
   "cell_type": "code",
   "source": [
    "\"\"\"\n",
    "Same Tree\n",
    "\"\"\"\n",
    "\n",
    "\n",
    "def same_tree(p, q):\n",
    "    stack = [(p, q)]\n",
    "    while stack:\n",
    "        l, r = stack.pop()\n",
    "        if l == None and r == None:\n",
    "            continue\n",
    "\n",
    "        if l == None or r == None:\n",
    "            return False\n",
    "\n",
    "        if l.value != r.value:\n",
    "            return False\n",
    "\n",
    "        stack.append((l.right, r.right))\n",
    "        stack.append((l.left, r.left))\n",
    "\n",
    "    return True"
   ],
   "id": "a45adfb11dd96d4e",
   "outputs": [],
   "execution_count": 6
  },
  {
   "metadata": {
    "ExecuteTime": {
     "end_time": "2025-05-12T16:26:23.405629Z",
     "start_time": "2025-05-12T16:26:23.397357Z"
    }
   },
   "cell_type": "code",
   "source": [
    "\"\"\"\n",
    "Path Sum\n",
    "CILEDO\n",
    "Clarifying questions\n",
    "Input Sanitization\n",
    "Logic\n",
    "Exception Handling\n",
    "Debugging\n",
    "Optimization or Big O\n",
    "\"\"\"\n",
    "\n",
    "\n",
    "def path_sum(root, target):\n",
    "    if not root:\n",
    "        return 0\n",
    "\n",
    "    stack = [(root, root.value)]\n",
    "\n",
    "    while stack:\n",
    "        curr, val = stack.pop()\n",
    "\n",
    "        if curr.right == None and curr.left == None and val == target:\n",
    "            return True\n",
    "\n",
    "        if curr.right: stack.append((curr.right, val + curr.right.value))\n",
    "        if curr.left: stack.append((curr.left, val + curr.left.value))\n",
    "\n",
    "    return False\n",
    "\n"
   ],
   "id": "6f64989e4dd92c3f",
   "outputs": [],
   "execution_count": 7
  },
  {
   "metadata": {
    "ExecuteTime": {
     "end_time": "2025-05-12T16:39:07.740471Z",
     "start_time": "2025-05-12T16:39:07.730556Z"
    }
   },
   "cell_type": "code",
   "source": [
    "\"\"\"\n",
    "Diameter of a binary tree\n",
    "\"\"\"\n",
    "\n",
    "\n",
    "def diameter(root):\n",
    "    di = 0\n",
    "\n",
    "    def depth(root):\n",
    "        nonlocal di\n",
    "        if not root:\n",
    "            return 0\n",
    "\n",
    "        left_depth = depth(root.left)\n",
    "        right_depth = depth(root.right)\n",
    "\n",
    "        di = max(di, left_depth + right_depth)\n",
    "\n",
    "        return 1 + max(left_depth, right_depth)\n",
    "\n",
    "    depth(root)\n",
    "    return di"
   ],
   "id": "4dc3d9c5730333e1",
   "outputs": [],
   "execution_count": 8
  },
  {
   "metadata": {
    "ExecuteTime": {
     "end_time": "2025-05-12T16:42:41.043106Z",
     "start_time": "2025-05-12T16:42:41.033686Z"
    }
   },
   "cell_type": "code",
   "source": [
    "\"\"\"\n",
    "Invert a binary tree\n",
    "\"\"\"\n",
    "\n",
    "\n",
    "def inverter(root):\n",
    "    if root is None:\n",
    "        return False\n",
    "\n",
    "    stack = [root]\n",
    "\n",
    "    while stack:\n",
    "        curr = stack.pop()\n",
    "        if curr:\n",
    "            curr.left, curr.right = curr.right, curr.left\n",
    "            stack.append(curr.left)\n",
    "            stack.append(curr.right)\n",
    "\n",
    "    return root"
   ],
   "id": "3fc908a8aa4f77de",
   "outputs": [],
   "execution_count": 9
  },
  {
   "metadata": {
    "ExecuteTime": {
     "end_time": "2025-05-12T16:45:48.057832Z",
     "start_time": "2025-05-12T16:45:48.047630Z"
    }
   },
   "cell_type": "code",
   "source": [
    "\"\"\"\n",
    "Mirror of a binary tree\n",
    "\"\"\"\n",
    "\n",
    "\n",
    "def mirror(p, q):\n",
    "    stack = [(p, q)]\n",
    "\n",
    "    while stack:\n",
    "        l, r = stack.pop()\n",
    "        if not l and not r:\n",
    "            continue\n",
    "\n",
    "        if not l or not r:\n",
    "            return False\n",
    "\n",
    "        if l.value != r.value:\n",
    "            return False\n",
    "\n",
    "        stack.append((l.right, r.left))\n",
    "        stack.append((l.left, r.right))\n",
    "\n",
    "    return True\n",
    "\n"
   ],
   "id": "d5f8af54d8c6cdfe",
   "outputs": [],
   "execution_count": 10
  },
  {
   "metadata": {},
   "cell_type": "code",
   "outputs": [],
   "execution_count": null,
   "source": [
    "\"\"\"\n",
    "Lowest Common Ancestor\n",
    "\"\"\"\n",
    "\n",
    "\n",
    "def lowestCommonAncestor(root, p, q):\n",
    "    queue = deque([root])\n",
    "    parent = {root: None}\n",
    "\n",
    "    while queue:\n",
    "        curr = queue.pop()\n",
    "        if curr.left:\n",
    "            q.append(curr.left)\n",
    "            parent[curr.left] = curr\n",
    "        if curr.right:\n",
    "            q.append(curr.right)\n",
    "            parent[curr.right] = curr\n",
    "\n",
    "        if p in parent and q in parent:\n",
    "            break\n",
    "\n",
    "    ancestors = set()\n",
    "\n",
    "    while p:\n",
    "        ancestors.add(p)\n",
    "        p = parent[p]\n",
    "\n",
    "    while q:\n",
    "        if q in ancestors:\n",
    "            return q\n",
    "        q = parent[q]\n",
    "\n",
    "\n"
   ],
   "id": "e7a90d43fe01ead0"
  }
 ],
 "metadata": {
  "kernelspec": {
   "display_name": "Python 3",
   "language": "python",
   "name": "python3"
  },
  "language_info": {
   "codemirror_mode": {
    "name": "ipython",
    "version": 2
   },
   "file_extension": ".py",
   "mimetype": "text/x-python",
   "name": "python",
   "nbconvert_exporter": "python",
   "pygments_lexer": "ipython2",
   "version": "2.7.6"
  }
 },
 "nbformat": 4,
 "nbformat_minor": 5
}
