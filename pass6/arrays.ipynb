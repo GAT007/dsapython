{
 "cells": [
  {
   "metadata": {},
   "cell_type": "markdown",
   "source": "# Arrays",
   "id": "98295851f80d9bb5"
  },
  {
   "cell_type": "code",
   "id": "initial_id",
   "metadata": {
    "collapsed": true,
    "ExecuteTime": {
     "end_time": "2025-05-11T21:36:01.802308Z",
     "start_time": "2025-05-11T21:36:01.788803Z"
    }
   },
   "source": [
    "\"\"\"\n",
    "Duplicate Values\n",
    "\"\"\"\n",
    "\n",
    "\n",
    "def duplicate_values(nums):\n",
    "    set_nums = set(nums)\n",
    "    if len(set_nums) != set(nums):\n",
    "        return False\n",
    "    return True"
   ],
   "outputs": [],
   "execution_count": 1
  },
  {
   "metadata": {
    "ExecuteTime": {
     "end_time": "2025-05-11T21:38:00.148664Z",
     "start_time": "2025-05-11T21:38:00.141309Z"
    }
   },
   "cell_type": "code",
   "source": [
    "\"\"\"\n",
    "Missing Number\n",
    "\"\"\"\n",
    "\n",
    "\n",
    "def missing_number(nums):\n",
    "    return sum(range(len(nums) + 1)) - sum(nums)"
   ],
   "id": "52913d6f49b8ed4f",
   "outputs": [],
   "execution_count": 2
  },
  {
   "metadata": {
    "ExecuteTime": {
     "end_time": "2025-05-11T21:39:07.563492Z",
     "start_time": "2025-05-11T21:39:07.555697Z"
    }
   },
   "cell_type": "code",
   "source": [
    "\"\"\"\n",
    "Find all missing numbers\n",
    "\"\"\"\n",
    "\n",
    "\n",
    "def all_missing_number(nums):\n",
    "    ret = []\n",
    "    for i in range(1, len(nums)):\n",
    "        if i not in nums:\n",
    "            ret.append(i)\n",
    "\n",
    "    return ret"
   ],
   "id": "f37401e9ac356614",
   "outputs": [],
   "execution_count": 3
  },
  {
   "metadata": {
    "ExecuteTime": {
     "end_time": "2025-05-11T21:41:24.713274Z",
     "start_time": "2025-05-11T21:41:24.706843Z"
    }
   },
   "cell_type": "code",
   "source": [
    "\"\"\"\n",
    "Two Sum\n",
    "\"\"\"\n",
    "\n",
    "from collections import defaultdict\n",
    "\n",
    "\n",
    "def two_sum(nums, target):\n",
    "    nums_dict = defaultdict(int)\n",
    "    for idx, elem in enumerate(nums):\n",
    "        if target - elem in nums_dict:\n",
    "            return idx, nums_dict[target - elem]\n",
    "        else:\n",
    "            nums_dict[elem] = idx\n",
    "\n",
    "    return -1\n"
   ],
   "id": "2dbdac2badd184e9",
   "outputs": [],
   "execution_count": 4
  },
  {
   "metadata": {
    "ExecuteTime": {
     "end_time": "2025-05-11T21:45:45.264726Z",
     "start_time": "2025-05-11T21:45:45.249433Z"
    }
   },
   "cell_type": "code",
   "source": [
    "\"\"\"\n",
    "How many numbers are smaller than the current number?\n",
    "\"\"\"\n",
    "\n",
    "\n",
    "def smaller_than_curr(nums):\n",
    "    nums_sorted = sorted(nums)\n",
    "    sort_idx = defaultdict()\n",
    "    for idx, elem in nums_sorted:\n",
    "        sort_idx[elem] = idx\n",
    "\n",
    "    ret = []\n",
    "    for elem in nums:\n",
    "        ret.append(sort_idx[elem])\n",
    "\n",
    "    return ret\n",
    "\n"
   ],
   "id": "c6e216c3ed26dab4",
   "outputs": [],
   "execution_count": 5
  },
  {
   "metadata": {
    "ExecuteTime": {
     "end_time": "2025-05-11T21:50:55.643163Z",
     "start_time": "2025-05-11T21:50:55.634462Z"
    }
   },
   "cell_type": "code",
   "source": [
    "\"\"\"\n",
    "Spiral matrix\n",
    "\"\"\"\n",
    "\n",
    "\n",
    "def spiral_matrix(grid):\n",
    "    ret = []\n",
    "    while grid:\n",
    "        ret.extend(grid.pop(0))\n",
    "        if grid:\n",
    "            for row in grid: ret.append(row.pop())\n",
    "        if grid:\n",
    "            reverse = grid.pop()[::-1]\n",
    "            ret.extend(reverse)\n",
    "        if grid:\n",
    "            temp = []\n",
    "            for row in grid: temp.append(row.pop(0))\n",
    "            ret.extend(temp[::-1])\n",
    "\n",
    "    return ret\n"
   ],
   "id": "1aa0f090fda4cca8",
   "outputs": [],
   "execution_count": 6
  },
  {
   "metadata": {
    "ExecuteTime": {
     "end_time": "2025-05-11T21:56:36.088518Z",
     "start_time": "2025-05-11T21:56:36.071487Z"
    }
   },
   "cell_type": "code",
   "source": [
    "\"\"\"\n",
    "BFS for tree\n",
    "\"\"\"\n",
    "\n",
    "\n",
    "class Node:\n",
    "    def __init__(self, val, left=None, right=None):\n",
    "        self.val = val\n",
    "        self.left = left\n",
    "        self.right = right\n",
    "\n",
    "\n",
    "from collections import deque\n",
    "\n",
    "\n",
    "def bfs(root):\n",
    "    if root is None:\n",
    "        return False\n",
    "\n",
    "    q = deque([root])\n",
    "    ret = []\n",
    "\n",
    "    while q:\n",
    "        level = []\n",
    "        for i in range(len(q)):\n",
    "            curr = q.popleft()\n",
    "            level.append(curr.val)\n",
    "            if curr.left: q.append(curr.left)\n",
    "            if curr.right: q.append(curr.right)\n",
    "        ret.append(level)\n",
    "\n",
    "    return ret\n",
    "\n",
    "\n",
    "root = Node(1)\n",
    "root.left = Node(2)\n",
    "root.right = Node(3)\n",
    "root.left.left = Node(4)\n",
    "root.left.right = Node(5)\n",
    "root.right.right = Node(6)\n",
    "\n",
    "print(bfs(root))"
   ],
   "id": "a8c533eff948aa53",
   "outputs": [
    {
     "name": "stdout",
     "output_type": "stream",
     "text": [
      "[[1], [2, 3], [4, 5, 6]]\n"
     ]
    }
   ],
   "execution_count": 9
  },
  {
   "metadata": {
    "ExecuteTime": {
     "end_time": "2025-05-11T22:32:18.491438Z",
     "start_time": "2025-05-11T22:32:18.479329Z"
    }
   },
   "cell_type": "code",
   "source": [
    "\"\"\"\n",
    "Number of islands\n",
    "\"\"\"\n",
    "from collections import deque\n",
    "\n",
    "\n",
    "def number_of_islands(grid):\n",
    "    count = 0\n",
    "    rows = len(grid)\n",
    "    cols = len(grid[0])\n",
    "    visited = set()\n",
    "\n",
    "    def bfs(r, c):\n",
    "        q = deque([(r, c)])\n",
    "        dir = [(1, 0), (-1, 0), (0, 1), (0, -1)]\n",
    "        while q:\n",
    "            row, col = q.popleft()\n",
    "            for dr, dc in dir:\n",
    "                ro = row + dr\n",
    "                co = col + dc\n",
    "                if ro in range(rows) and co in range(cols) and grid[ro][co] == '1' and (ro, co) not in visited:\n",
    "                    visited.add((ro, co))\n",
    "                    q.append((ro, co))\n",
    "\n",
    "    for r in range(rows):\n",
    "        for c in range(cols):\n",
    "            if grid[r][c] == '1' and (r, c) not in visited:\n",
    "                bfs(r, c)\n",
    "                visited.add((r, c))\n",
    "                count += 1\n",
    "\n",
    "    return count"
   ],
   "id": "88dc48a475cbbc6c",
   "outputs": [],
   "execution_count": 10
  },
  {
   "metadata": {},
   "cell_type": "markdown",
   "source": "# Two pointer technique",
   "id": "3dabd3ba756b1272"
  },
  {
   "metadata": {
    "ExecuteTime": {
     "end_time": "2025-05-11T22:34:14.617900Z",
     "start_time": "2025-05-11T22:34:14.612351Z"
    }
   },
   "cell_type": "code",
   "source": [
    "\"\"\"\n",
    "Best Time to buy and sell\n",
    "\"\"\"\n",
    "\n",
    "\n",
    "def best_time(prices):\n",
    "    l, r = 0, 0\n",
    "    max_profit = 0\n",
    "    while r < len(prices):\n",
    "        if prices[r] > prices[l]:\n",
    "            max_profit = max(max_profit, prices[r] - prices[l])\n",
    "        else:\n",
    "            l = r\n",
    "        r += 1\n",
    "    return max_profit"
   ],
   "id": "4b27cef884ca5383",
   "outputs": [],
   "execution_count": 11
  },
  {
   "metadata": {
    "ExecuteTime": {
     "end_time": "2025-05-11T22:40:33.274962Z",
     "start_time": "2025-05-11T22:40:33.266903Z"
    }
   },
   "cell_type": "code",
   "source": [
    "\"\"\"\n",
    "Squares of a sorted array\n",
    "\"\"\"\n",
    "\n",
    "from collections import deque\n",
    "\n",
    "\n",
    "def sortedsquares(nums):\n",
    "    l, r = 0, len(nums) - 1\n",
    "    q = deque()\n",
    "\n",
    "    while l <= r:\n",
    "        if abs(nums[l]) > abs(nums[r]):\n",
    "            q.appendleft(nums[l] * nums[l])\n",
    "            l += 1\n",
    "        else:\n",
    "            q.appendleft(nums[r] * nums[r])\n",
    "            r -= 1\n",
    "\n",
    "    return list(q)\n",
    "\n"
   ],
   "id": "24f35c7ee8e6d44e",
   "outputs": [],
   "execution_count": 12
  },
  {
   "metadata": {
    "ExecuteTime": {
     "end_time": "2025-05-11T22:51:17.058552Z",
     "start_time": "2025-05-11T22:51:17.051443Z"
    }
   },
   "cell_type": "code",
   "source": [
    "\"\"\"\n",
    "3 sum\n",
    "\"\"\"\n",
    "\n",
    "\n",
    "def three_sum(nums):\n",
    "    ret = []\n",
    "    nums.sort()\n",
    "\n",
    "    for idx, val in enumerate(nums):\n",
    "        if (val == nums[idx - 1]):\n",
    "            continue\n",
    "\n",
    "        l = idx + 1\n",
    "        r = len(nums) - 1\n",
    "\n",
    "        while l < r:\n",
    "            currentSum = val + nums[l] + nums[r]\n",
    "            if currentSum == 0:\n",
    "                ret.append((val, nums[l], nums[r]))\n",
    "                l += 1\n",
    "            elif currentSum > 0:\n",
    "                r -= 1\n",
    "            else:\n",
    "                l += 1\n",
    "\n",
    "    return ret\n",
    "\n",
    "\n",
    "print(three_sum([-4, - 1, -1, 0, 1, 2]))"
   ],
   "id": "77a5a27d1c6b7db7",
   "outputs": [
    {
     "name": "stdout",
     "output_type": "stream",
     "text": [
      "[(-1, -1, 2), (-1, 0, 1)]\n"
     ]
    }
   ],
   "execution_count": 15
  },
  {
   "metadata": {
    "ExecuteTime": {
     "end_time": "2025-05-11T22:55:38.262540Z",
     "start_time": "2025-05-11T22:55:38.253509Z"
    }
   },
   "cell_type": "code",
   "source": [
    "\"\"\"\n",
    "Longest Mountain\n",
    "\"\"\"\n",
    "\n",
    "\n",
    "def longest_mountain(nums):\n",
    "    max_value = 0\n",
    "    for i in range(1, len(nums) - 1):\n",
    "        if nums[i - 1] < nums[i] > nums[i + 1]:\n",
    "            l = r = i\n",
    "            while l > 0 and nums[l] > nums[l - 1]:\n",
    "                l -= 1\n",
    "            while r < len(nums) - 1 and nums[r] > nums[r + 1]:\n",
    "                r += 1\n",
    "            max_value = max(max_value, r - l + 1)\n",
    "    return max_value"
   ],
   "id": "737fc3fccba659c5",
   "outputs": [],
   "execution_count": 16
  },
  {
   "metadata": {},
   "cell_type": "markdown",
   "source": "# Sliding Window",
   "id": "bf6aa81d48416139"
  },
  {
   "metadata": {
    "ExecuteTime": {
     "end_time": "2025-05-11T23:09:04.041465Z",
     "start_time": "2025-05-11T23:09:04.034511Z"
    }
   },
   "cell_type": "code",
   "source": [
    "\"\"\"\n",
    "Contains nearby duplicate\n",
    "\"\"\"\n",
    "\n",
    "\n",
    "def contains_duplicate(nums, k):\n",
    "    seen = set()\n",
    "    for idx, num in enumerate(nums):\n",
    "        if num in seen:\n",
    "            return True\n",
    "        seen.add(num)\n",
    "        if len(seen) > k:\n",
    "            seen.remove(nums[idx - k])\n",
    "\n",
    "    return False\n",
    "\n"
   ],
   "id": "273094d6de11f8fa",
   "outputs": [],
   "execution_count": 17
  },
  {
   "metadata": {
    "ExecuteTime": {
     "end_time": "2025-05-11T23:12:51.850184Z",
     "start_time": "2025-05-11T23:12:51.841879Z"
    }
   },
   "cell_type": "code",
   "source": [
    "\"\"\"\n",
    "Minimum Absolute Difference\n",
    "\"\"\"\n",
    "\n",
    "\n",
    "def minAbsDiff(nums):\n",
    "    nums_sorted = sorted(nums)\n",
    "    min_diff = float('inf')\n",
    "\n",
    "    for i in range(1, len(nums_sorted)):\n",
    "        min_diff = min(min_diff, nums_sorted[i] - nums_sorted[i - 1])\n",
    "\n",
    "    ret = set()\n",
    "    for i in range(1, len(nums)):\n",
    "        if nums[i] - nums[i - 1] == min_diff:\n",
    "            ret.add((nums[i], nums[i - 1]))\n",
    "\n",
    "    return ret"
   ],
   "id": "51a7c0160059d977",
   "outputs": [],
   "execution_count": 18
  },
  {
   "metadata": {},
   "cell_type": "code",
   "outputs": [],
   "execution_count": null,
   "source": [
    "\"\"\"\n",
    "Min Size Subarray\n",
    "\"\"\"\n",
    "\n",
    "\n",
    "def minSizeSubarray(nums, target):\n",
    "    l = 0\n",
    "    total = 0\n",
    "    res = float('inf')\n",
    "\n",
    "    for i in range(len(nums)):\n",
    "        total += nums[i]\n",
    "        while total >= target:\n",
    "            res = min(res, i - l + 1)\n",
    "            total -= nums[l]\n",
    "            l += 1\n",
    "\n",
    "    if res == float('inf'):\n",
    "        return 0\n",
    "    else:\n",
    "        return res"
   ],
   "id": "4edeace53f5af520"
  }
 ],
 "metadata": {
  "kernelspec": {
   "display_name": "Python 3",
   "language": "python",
   "name": "python3"
  },
  "language_info": {
   "codemirror_mode": {
    "name": "ipython",
    "version": 2
   },
   "file_extension": ".py",
   "mimetype": "text/x-python",
   "name": "python",
   "nbconvert_exporter": "python",
   "pygments_lexer": "ipython2",
   "version": "2.7.6"
  }
 },
 "nbformat": 4,
 "nbformat_minor": 5
}
