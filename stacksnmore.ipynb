{
 "cells": [
  {
   "cell_type": "code",
   "id": "initial_id",
   "metadata": {
    "collapsed": true,
    "ExecuteTime": {
     "end_time": "2025-01-12T16:17:50.333310Z",
     "start_time": "2025-01-12T16:17:50.320767Z"
    }
   },
   "source": [
    "#Stacks - Insertion only at one end, Last in first out, Insertion only happens on the top\n",
    "class Stack:\n",
    "    def __init__(self):\n",
    "        self.arr = []\n",
    "\n",
    "    def push(self, value):\n",
    "        self.arr.append(value)\n",
    "\n",
    "    def pop(self):\n",
    "        return self.arr.pop()\n",
    "\n",
    "    def peek(self):\n",
    "        return self.arr[-1]\n",
    "\n",
    "    def is_empty(self):\n",
    "        return len(self.arr) == 0\n",
    "\n",
    "    def length(self):\n",
    "        return len(self.arr)\n",
    "\n",
    "st = Stack()\n",
    "print(st.is_empty())\n",
    "st.push(4)\n",
    "st.push(5)\n",
    "st.push(6)\n",
    "print(st.peek())\n",
    "print(st.length())\n",
    "print(st.pop())\n",
    "print(st.length())"
   ],
   "outputs": [
    {
     "name": "stdout",
     "output_type": "stream",
     "text": [
      "True\n",
      "6\n",
      "3\n",
      "6\n",
      "2\n"
     ]
    }
   ],
   "execution_count": 2
  },
  {
   "metadata": {
    "ExecuteTime": {
     "end_time": "2025-01-12T16:28:32.023328Z",
     "start_time": "2025-01-12T16:28:32.015963Z"
    }
   },
   "cell_type": "code",
   "source": [
    "class Queue:\n",
    "    def __init__(self):\n",
    "        self.items = []\n",
    "\n",
    "    def enqueue(self, value):\n",
    "        self.items.insert(0, value)\n",
    "\n",
    "    def dequeue(self):\n",
    "        return self.items.pop()\n",
    "\n",
    "    def is_empty(self):\n",
    "        return self.items == []\n",
    "\n",
    "    def length(self):\n",
    "        return len(self.items)\n",
    "\n",
    "q = Queue()\n",
    "print(q.is_empty())\n",
    "q.enqueue(10)\n",
    "q.enqueue(11)\n",
    "q.enqueue(12)\n",
    "q.enqueue(13)\n",
    "print(q.length())\n",
    "print(q.dequeue())\n",
    "print(q.length())"
   ],
   "id": "66a15c155f24b48c",
   "outputs": [
    {
     "name": "stdout",
     "output_type": "stream",
     "text": [
      "True\n",
      "4\n",
      "10\n",
      "3\n"
     ]
    }
   ],
   "execution_count": 4
  },
  {
   "metadata": {},
   "cell_type": "code",
   "outputs": [],
   "execution_count": null,
   "source": [
    "class Deque:\n",
    "    def __init__(self):\n",
    "        self.items = []\n",
    "\n",
    "    def addFront(self, item):\n",
    "       self.items.append(item)\n",
    "\n",
    "    def addRear(self, item):\n",
    "        self.items.insert(0, item)\n",
    "\n",
    "    def removeRear(self):\n",
    "        return self.items.pop(0)\n",
    "\n",
    "    def removeFront(self):\n",
    "        return self.items.pop()\n",
    "\n",
    "    def is_empty(self):\n",
    "        return self.items == []\n",
    "\n",
    "    def length(self):\n",
    "        return len(self.items)\n",
    "\n"
   ],
   "id": "3406e02159116416"
  }
 ],
 "metadata": {
  "kernelspec": {
   "display_name": "Python 3",
   "language": "python",
   "name": "python3"
  },
  "language_info": {
   "codemirror_mode": {
    "name": "ipython",
    "version": 2
   },
   "file_extension": ".py",
   "mimetype": "text/x-python",
   "name": "python",
   "nbconvert_exporter": "python",
   "pygments_lexer": "ipython2",
   "version": "2.7.6"
  }
 },
 "nbformat": 4,
 "nbformat_minor": 5
}
