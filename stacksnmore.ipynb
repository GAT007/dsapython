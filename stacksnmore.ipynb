{
 "cells": [
  {
   "cell_type": "code",
   "id": "initial_id",
   "metadata": {
    "collapsed": true,
    "ExecuteTime": {
     "end_time": "2025-01-12T16:17:50.333310Z",
     "start_time": "2025-01-12T16:17:50.320767Z"
    }
   },
   "source": [
    "#Stacks - Insertion only at one end, Last in first out, Insertion only happens on the top\n",
    "class Stack:\n",
    "    def __init__(self):\n",
    "        self.arr = []\n",
    "\n",
    "    def push(self, value):\n",
    "        self.arr.append(value)\n",
    "\n",
    "    def pop(self):\n",
    "        return self.arr.pop()\n",
    "\n",
    "    def peek(self):\n",
    "        return self.arr[-1]\n",
    "\n",
    "    def is_empty(self):\n",
    "        return len(self.arr) == 0\n",
    "\n",
    "    def length(self):\n",
    "        return len(self.arr)\n",
    "\n",
    "st = Stack()\n",
    "print(st.is_empty())\n",
    "st.push(4)\n",
    "st.push(5)\n",
    "st.push(6)\n",
    "print(st.peek())\n",
    "print(st.length())\n",
    "print(st.pop())\n",
    "print(st.length())"
   ],
   "outputs": [
    {
     "name": "stdout",
     "output_type": "stream",
     "text": [
      "True\n",
      "6\n",
      "3\n",
      "6\n",
      "2\n"
     ]
    }
   ],
   "execution_count": 2
  },
  {
   "metadata": {
    "ExecuteTime": {
     "end_time": "2025-01-12T16:28:32.023328Z",
     "start_time": "2025-01-12T16:28:32.015963Z"
    }
   },
   "cell_type": "code",
   "source": [
    "class Queue:\n",
    "    def __init__(self):\n",
    "        self.items = []\n",
    "\n",
    "    def enqueue(self, value):\n",
    "        self.items.insert(0, value)\n",
    "\n",
    "    def dequeue(self):\n",
    "        return self.items.pop()\n",
    "\n",
    "    def is_empty(self):\n",
    "        return self.items == []\n",
    "\n",
    "    def length(self):\n",
    "        return len(self.items)\n",
    "\n",
    "q = Queue()\n",
    "print(q.is_empty())\n",
    "q.enqueue(10)\n",
    "q.enqueue(11)\n",
    "q.enqueue(12)\n",
    "q.enqueue(13)\n",
    "print(q.length())\n",
    "print(q.dequeue())\n",
    "print(q.length())"
   ],
   "id": "66a15c155f24b48c",
   "outputs": [
    {
     "name": "stdout",
     "output_type": "stream",
     "text": [
      "True\n",
      "4\n",
      "10\n",
      "3\n"
     ]
    }
   ],
   "execution_count": 4
  },
  {
   "metadata": {
    "ExecuteTime": {
     "end_time": "2025-01-12T16:57:16.915332Z",
     "start_time": "2025-01-12T16:57:16.904696Z"
    }
   },
   "cell_type": "code",
   "source": [
    "class Deque:\n",
    "    def __init__(self):\n",
    "        self.items = []\n",
    "\n",
    "    def addFront(self, item):\n",
    "       self.items.append(item)\n",
    "\n",
    "    def addRear(self, item):\n",
    "        self.items.insert(0, item)\n",
    "\n",
    "    def removeRear(self):\n",
    "        return self.items.pop(0)\n",
    "\n",
    "    def removeFront(self):\n",
    "        return self.items.pop()\n",
    "\n",
    "    def is_empty(self):\n",
    "        return self.items == []\n",
    "\n",
    "    def length(self):\n",
    "        return len(self.items)\n",
    "\n"
   ],
   "id": "3406e02159116416",
   "outputs": [],
   "execution_count": 5
  },
  {
   "metadata": {
    "ExecuteTime": {
     "end_time": "2025-01-12T17:07:38.807259Z",
     "start_time": "2025-01-12T17:07:38.798955Z"
    }
   },
   "cell_type": "code",
   "source": [
    "def balance_check(s): # [{()}]\n",
    "    if(len(s)) == 0:\n",
    "        return False\n",
    "    length = len(s) #6\n",
    "    brackets = []\n",
    "    for i in range(length):\n",
    "        if s[i] == '(' or s[i] == '{' or s[i] == '[':\n",
    "            brackets.append(s[i]) #[{(\n",
    "        elif len(brackets) == 0:\n",
    "            return False\n",
    "        elif s[i] == ')':\n",
    "            br = brackets.pop()\n",
    "            if br != '(':\n",
    "                return False\n",
    "        elif s[i] == '}':\n",
    "            br = brackets.pop()\n",
    "            if br!= '{':\n",
    "                return False\n",
    "        elif s[i] == ']':\n",
    "            br = brackets.pop()\n",
    "            if br!= '[':\n",
    "                return False\n",
    "        print(brackets)\n",
    "        print()\n",
    "    if brackets == []:\n",
    "        return True\n",
    "\n",
    "    return False\n",
    "print(balance_check('[{(})}]'))"
   ],
   "id": "2876d0884a5aec39",
   "outputs": [
    {
     "name": "stdout",
     "output_type": "stream",
     "text": [
      "['[']\n",
      "\n",
      "['[', '{']\n",
      "\n",
      "['[', '{', '(']\n",
      "\n",
      "False\n"
     ]
    }
   ],
   "execution_count": 10
  },
  {
   "metadata": {
    "ExecuteTime": {
     "end_time": "2025-01-12T17:27:17.365607Z",
     "start_time": "2025-01-12T17:27:17.351543Z"
    }
   },
   "cell_type": "code",
   "source": [
    "def balance_check_2(s):\n",
    "    if len(s) == 0 or len(s)%2 != 0:\n",
    "        return False\n",
    "    open = set('({[')\n",
    "    matches = set([('(', ')'), ('{','}'), ('[',']')])\n",
    "    brackets = []\n",
    "    for paren in s:\n",
    "        if paren in open:\n",
    "            brackets.append(paren)\n",
    "        else:\n",
    "            if len(brackets) == 0:\n",
    "                return False\n",
    "\n",
    "            last_open = brackets.pop()\n",
    "\n",
    "            if (last_open, paren) not in matches:\n",
    "                return False\n",
    "\n",
    "    return len(brackets) == 0"
   ],
   "id": "b46c818ec7a8eb47",
   "outputs": [],
   "execution_count": 11
  },
  {
   "metadata": {
    "ExecuteTime": {
     "end_time": "2025-01-12T17:39:27.355984Z",
     "start_time": "2025-01-12T17:39:27.343004Z"
    }
   },
   "cell_type": "code",
   "source": [
    "#Implement a queue using 2 stacks\n",
    "class Queue:\n",
    "    def __init__(self):\n",
    "        self.push_stack = []\n",
    "        self.pop_stack = []\n",
    "\n",
    "    def enqueue(self, value):\n",
    "        if len(self.pop_stack) == 0:\n",
    "            self.push_stack.append(value)\n",
    "\n",
    "        else:\n",
    "            for i in range(len(self.pop_stack)):\n",
    "                self.push_stack.append(self.pop_stack.pop())\n",
    "\n",
    "    def dequeue(self):\n",
    "        if len(self.push_stack) == 0:\n",
    "            return self.pop_stack.pop()\n",
    "\n",
    "        else:\n",
    "            for i in range(len(self.push_stack)):\n",
    "                self.pop_stack.append(self.push_stack.pop())\n",
    "\n",
    "            return self.pop_stack.pop()\n",
    "\n",
    "    def is_empty(self):\n",
    "        return self.push_stack == [] and self.pop_stack == []\n",
    "\n",
    "q = Queue()\n",
    "\n",
    "for i  in range(5):\n",
    "    q.enqueue(i)\n",
    "\n",
    "for i in range(5):\n",
    "    print(q.dequeue())"
   ],
   "id": "c2ede3ff050637dd",
   "outputs": [
    {
     "name": "stdout",
     "output_type": "stream",
     "text": [
      "0\n",
      "1\n",
      "2\n",
      "3\n",
      "4\n"
     ]
    }
   ],
   "execution_count": 12
  },
  {
   "metadata": {},
   "cell_type": "code",
   "outputs": [],
   "execution_count": null,
   "source": "",
   "id": "a9a9b3878bb56190"
  }
 ],
 "metadata": {
  "kernelspec": {
   "display_name": "Python 3",
   "language": "python",
   "name": "python3"
  },
  "language_info": {
   "codemirror_mode": {
    "name": "ipython",
    "version": 2
   },
   "file_extension": ".py",
   "mimetype": "text/x-python",
   "name": "python",
   "nbconvert_exporter": "python",
   "pygments_lexer": "ipython2",
   "version": "2.7.6"
  }
 },
 "nbformat": 4,
 "nbformat_minor": 5
}
