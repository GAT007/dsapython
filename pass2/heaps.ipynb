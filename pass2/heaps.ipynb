{
 "cells": [
  {
   "cell_type": "code",
   "id": "initial_id",
   "metadata": {
    "collapsed": true,
    "ExecuteTime": {
     "end_time": "2025-02-23T20:53:36.679140Z",
     "start_time": "2025-02-23T20:53:36.658624Z"
    }
   },
   "source": [
    "\"\"\"\n",
    "Heaps\n",
    "Complete binary tree data structure that satisfies the heap property : every node the value of its children is less than or equal to it's own value\n",
    "Generally used for priority queues, where the smallest and largest element is always at the root of the tree\n",
    "\"\"\""
   ],
   "outputs": [
    {
     "data": {
      "text/plain": [
       "\"\\nHeaps\\nComplete binary tree data structure that satisfies the heap property : every node the value of its children is less than or equal to it's own value\\nGenerally used for priority queues, where the smallest and largest element is always at the root of the tree\\n\""
      ]
     },
     "execution_count": 1,
     "metadata": {},
     "output_type": "execute_result"
    }
   ],
   "execution_count": 1
  },
  {
   "metadata": {
    "ExecuteTime": {
     "end_time": "2025-02-23T20:53:45.762889Z",
     "start_time": "2025-02-23T20:53:45.740283Z"
    }
   },
   "cell_type": "code",
   "source": [
    "\"\"\"\n",
    "Use an array to build a heap\n",
    "\"\"\""
   ],
   "id": "4447ae5263acc87e",
   "outputs": [
    {
     "data": {
      "text/plain": [
       "'\\nUse an array to build a heap\\n'"
      ]
     },
     "execution_count": 2,
     "metadata": {},
     "output_type": "execute_result"
    }
   ],
   "execution_count": 2
  },
  {
   "metadata": {
    "ExecuteTime": {
     "end_time": "2025-02-23T20:53:56.535584Z",
     "start_time": "2025-02-23T20:53:56.527943Z"
    }
   },
   "cell_type": "code",
   "source": [
    "\"\"\"\n",
    "Use a predefined dictionary to create a heap\"\"\""
   ],
   "id": "c5493e61e4adedf6",
   "outputs": [
    {
     "data": {
      "text/plain": [
       "'\\nUse a predefined dictionary to create a heap'"
      ]
     },
     "execution_count": 3,
     "metadata": {},
     "output_type": "execute_result"
    }
   ],
   "execution_count": 3
  },
  {
   "metadata": {
    "ExecuteTime": {
     "end_time": "2025-02-23T21:47:29.819158Z",
     "start_time": "2025-02-23T21:47:29.808390Z"
    }
   },
   "cell_type": "code",
   "source": [
    "\"\"\"\n",
    "Kth largest element in an array\n",
    "Given an integer array nums and an integer k, return the kth largest element in the array\n",
    "Note that it is the kth largest element in the sorted order, not the kth distinct element\n",
    "\"\"\"\n",
    "import heapq\n",
    "k = 5\n",
    "nums = [3,2,1,7,5,6,10,4,8,9]\n",
    "print(heapq.nlargest(k, nums)[-1])"
   ],
   "id": "45d4b1f77f7a4e00",
   "outputs": [
    {
     "name": "stdout",
     "output_type": "stream",
     "text": [
      "6\n"
     ]
    }
   ],
   "execution_count": 5
  },
  {
   "metadata": {
    "ExecuteTime": {
     "end_time": "2025-02-23T21:53:29.046977Z",
     "start_time": "2025-02-23T21:53:29.036658Z"
    }
   },
   "cell_type": "code",
   "source": [
    "heap = []\n",
    "for i in nums:\n",
    "    heapq.heappush(heap, i)\n",
    "\n",
    "for i in range(len(nums)-k):\n",
    "    heapq.heappop(heap)\n",
    "\n",
    "print(heapq.heappop(heap))"
   ],
   "id": "2cdae4792b811c54",
   "outputs": [
    {
     "name": "stdout",
     "output_type": "stream",
     "text": [
      "6\n"
     ]
    }
   ],
   "execution_count": 7
  },
  {
   "metadata": {
    "ExecuteTime": {
     "end_time": "2025-02-23T22:03:11.597837Z",
     "start_time": "2025-02-23T22:03:11.586199Z"
    }
   },
   "cell_type": "code",
   "source": [
    "heap = nums[:k]\n",
    "heapq.heapify(heap)\n",
    "\n",
    "for num in nums[k:]:\n",
    "    if num > heap[0]:\n",
    "        heapq.heapreplace(heap, num)\n",
    "\n",
    "print(heap[0])"
   ],
   "id": "f8d18c972ab4ba1d",
   "outputs": [
    {
     "name": "stdout",
     "output_type": "stream",
     "text": [
      "6\n"
     ]
    }
   ],
   "execution_count": 8
  },
  {
   "metadata": {
    "ExecuteTime": {
     "end_time": "2025-02-23T22:44:21.296814Z",
     "start_time": "2025-02-23T22:44:21.286589Z"
    }
   },
   "cell_type": "code",
   "source": [
    "\"\"\"\n",
    "K closest points to the origin\n",
    "\"\"\"\n",
    "def kpointsclosest(points):\n",
    "    heap = []\n",
    "    for (x, y) in points:\n",
    "        dist = -(x^2+y^2)\n",
    "        if len(heap) == k:\n",
    "            heapq.heappushpop(heap, (dist, x,y))\n",
    "        else:\n",
    "            heapq.heappush(heap, (dist, x, y))\n",
    "\n",
    "    return [(x,y) for (dist, x, y) in heap]"
   ],
   "id": "3ce271a0e0ff4bc",
   "outputs": [],
   "execution_count": 9
  },
  {
   "metadata": {
    "ExecuteTime": {
     "end_time": "2025-02-23T22:56:23.834012Z",
     "start_time": "2025-02-23T22:56:23.821908Z"
    }
   },
   "cell_type": "code",
   "source": [
    "\"\"\"\n",
    "Top k frequent elements\n",
    "Given an integer array nums and an integer k, return the k most frequent elements. You may return the answer in any order\n",
    "\"\"\"\n",
    "from collections import Counter\n",
    "count = Counter(nums)\n",
    "\n",
    "heap = []\n",
    "for num, freq in count.items():\n",
    "    if len(heap) < k:\n",
    "        heapq.heappush(heap, (freq, num))\n",
    "    elif freq > heap[0][0]:\n",
    "        heapq.heapreplace(heap, (freq, num))\n",
    "\n",
    "top_k = [num for freq, num in heap]\n",
    "\n",
    "print(top_k)"
   ],
   "id": "c733e4c7847593a1",
   "outputs": [
    {
     "name": "stdout",
     "output_type": "stream",
     "text": [
      "[1, 3, 2, 7, 5]\n"
     ]
    }
   ],
   "execution_count": 10
  },
  {
   "metadata": {},
   "cell_type": "code",
   "outputs": [],
   "execution_count": null,
   "source": [
    "\"\"\"\n",
    "Task Scheduler\n",
    "\"\"\""
   ],
   "id": "6c87a325a9f123ea"
  }
 ],
 "metadata": {
  "kernelspec": {
   "display_name": "Python 3",
   "language": "python",
   "name": "python3"
  },
  "language_info": {
   "codemirror_mode": {
    "name": "ipython",
    "version": 2
   },
   "file_extension": ".py",
   "mimetype": "text/x-python",
   "name": "python",
   "nbconvert_exporter": "python",
   "pygments_lexer": "ipython2",
   "version": "2.7.6"
  }
 },
 "nbformat": 4,
 "nbformat_minor": 5
}
