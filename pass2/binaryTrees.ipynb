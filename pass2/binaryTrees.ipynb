{
 "cells": [
  {
   "cell_type": "code",
   "id": "initial_id",
   "metadata": {
    "collapsed": true,
    "ExecuteTime": {
     "end_time": "2025-02-23T20:18:13.256511Z",
     "start_time": "2025-02-23T20:18:13.242972Z"
    }
   },
   "source": [
    "\"\"\"\n",
    "Binary trees : Each node has two roots\n",
    "BFS : Insert node into queue\n",
    "DFS : Insert node into stack\n",
    "\"\"\""
   ],
   "outputs": [
    {
     "data": {
      "text/plain": [
       "'\\nBinary trees : Each node has two roots\\nBFS : Insert node into queue\\nDFS : Insert node into stack\\n'"
      ]
     },
     "execution_count": 22,
     "metadata": {},
     "output_type": "execute_result"
    }
   ],
   "execution_count": 22
  },
  {
   "metadata": {
    "ExecuteTime": {
     "end_time": "2025-02-23T20:19:04.512296Z",
     "start_time": "2025-02-23T20:19:04.495238Z"
    }
   },
   "cell_type": "code",
   "source": [
    "class Node:\n",
    "    def __init__(self, v):\n",
    "        self.data = v\n",
    "        self.left = None\n",
    "        self.right = None"
   ],
   "id": "7c6b8d00624ed429",
   "outputs": [],
   "execution_count": 23
  },
  {
   "metadata": {
    "ExecuteTime": {
     "end_time": "2025-02-23T20:19:18.563461Z",
     "start_time": "2025-02-23T20:19:18.554104Z"
    }
   },
   "cell_type": "code",
   "source": [
    "root = Node(1)\n",
    "root.left = Node(2)\n",
    "root.right = Node(3)\n",
    "root.left.left = Node(4)\n",
    "root.left.right = Node(5)\n",
    "root.right.right = Node(6)"
   ],
   "id": "881b8fe2b8952edf",
   "outputs": [],
   "execution_count": 24
  },
  {
   "metadata": {
    "ExecuteTime": {
     "end_time": "2025-02-22T22:26:24.753002Z",
     "start_time": "2025-02-22T22:26:24.740010Z"
    }
   },
   "cell_type": "code",
   "source": [
    "\"\"\"\n",
    "Average value of levels in binary tree\n",
    "\"\"\"\n",
    "from collections import deque\n",
    "def avglevel(root):\n",
    "    queue = deque([root])\n",
    "    result = []\n",
    "\n",
    "    while queue:\n",
    "        level = []\n",
    "        for i in range(len(queue)):\n",
    "            node =queue.popleft()\n",
    "            level.append(node.val)\n",
    "            if node.left: queue.append(node.left)\n",
    "            if node.right: queue.append(node.right)\n",
    "        result.append(sum(level)/len(level))\n",
    "    return result"
   ],
   "id": "e814d3cf22f6ffc6",
   "outputs": [],
   "execution_count": 2
  },
  {
   "metadata": {
    "ExecuteTime": {
     "end_time": "2025-02-22T22:29:09.471599Z",
     "start_time": "2025-02-22T22:29:09.461804Z"
    }
   },
   "cell_type": "code",
   "source": [
    "\"\"\"\n",
    "Minimum depth of a binary tree\n",
    "\"\"\"\n",
    "\n",
    "def minDepth(self, root):\n",
    "    if not root:\n",
    "        return 0\n",
    "\n",
    "    queue = deque([(root, 1)])\n",
    "\n",
    "    while queue:\n",
    "        node, level = queue.popleft()\n",
    "\n",
    "        if not node.left and not node.right:\n",
    "            return level\n",
    "\n",
    "        if node.left:\n",
    "            queue.append((node.left, level+1))\n",
    "\n",
    "        if node.right:\n",
    "            queue.append((node.right, level+1))\n",
    "\n",
    "    return 0"
   ],
   "id": "f2c84eed83cc163f",
   "outputs": [],
   "execution_count": 3
  },
  {
   "metadata": {
    "ExecuteTime": {
     "end_time": "2025-02-22T22:37:18.080279Z",
     "start_time": "2025-02-22T22:37:18.068215Z"
    }
   },
   "cell_type": "code",
   "source": [
    "def maxDepth(root):\n",
    "    if not root:\n",
    "        return 0\n",
    "\n",
    "    queue = deque([(root, 1)])\n",
    "\n",
    "    while queue:\n",
    "        node, level = queue.popleft()\n",
    "\n",
    "        if node.left:\n",
    "            queue.append((node.left, level+1))\n",
    "\n",
    "        if node.right:\n",
    "            queue.append((node.right, level+1))\n",
    "\n",
    "    return level"
   ],
   "id": "ec63b2adc69ee0f2",
   "outputs": [],
   "execution_count": 4
  },
  {
   "metadata": {
    "ExecuteTime": {
     "end_time": "2025-02-22T22:46:45.304292Z",
     "start_time": "2025-02-22T22:46:45.288810Z"
    }
   },
   "cell_type": "code",
   "source": [
    "\"\"\"\n",
    "Max/Min value of a binary tree\n",
    "\"\"\"\n",
    "\n",
    "def maxValue(root):\n",
    "    queue = deque([root])\n",
    "    max_node = 0\n",
    "    while queue:\n",
    "        curr_node = queue.popleft()\n",
    "\n",
    "        if curr_node.left: queue.append(curr_node.left)\n",
    "        if curr_node.right: queue.append(curr_node.right)\n",
    "\n",
    "        if curr_node.val > max_node:\n",
    "            max_node = curr_node.val\n",
    "\n",
    "    return max_node\n"
   ],
   "id": "5522e91f82e3b778",
   "outputs": [],
   "execution_count": 6
  },
  {
   "metadata": {
    "ExecuteTime": {
     "end_time": "2025-02-23T15:45:47.798425Z",
     "start_time": "2025-02-23T15:45:47.776462Z"
    }
   },
   "cell_type": "code",
   "source": [
    "\"\"\"\n",
    "Binary Tree Level Order Traversal\n",
    "\"\"\"\n",
    "def levelOrderTraversal(root):\n",
    "    if root is None:\n",
    "        return False\n",
    "\n",
    "    queue = deque([root])\n",
    "    res = []\n",
    "    while queue:\n",
    "        level = []\n",
    "        for i in range(len(queue)):\n",
    "            curr = queue.popleft()\n",
    "            level.append(curr.val)\n",
    "            if curr.left: queue.append(curr.left)\n",
    "            if curr.right: queue.append(curr.right)\n",
    "        res.append(level)\n",
    "\n",
    "    return res\n"
   ],
   "id": "80f0a0af5529731b",
   "outputs": [],
   "execution_count": 7
  },
  {
   "metadata": {
    "ExecuteTime": {
     "end_time": "2025-02-23T15:54:15.977472Z",
     "start_time": "2025-02-23T15:54:15.962400Z"
    }
   },
   "cell_type": "code",
   "source": [
    "\"\"\"\n",
    "Same tree\n",
    "Given the roots of two binary trees p and q, write a function to check if they are the same or not\n",
    "Two binary trees are considered the same if they are structurally identical, and the node haves the same value\n",
    "\"\"\"\n",
    "def same_tree(p, q):\n",
    "    stack = [(p, q)]\n",
    "\n",
    "    while stack:\n",
    "        node1, node2 = stack.pop()\n",
    "        if not node1 and not node2:\n",
    "            continue\n",
    "        elif None in [node1, node2] or node1.val != node2.val:\n",
    "            return False\n",
    "\n",
    "        #This is so that the left node gets popped out first\n",
    "        stack.append((node1.right, node2.right))\n",
    "        stack.append((node1.left, node2.left))\n",
    "\n",
    "    return True"
   ],
   "id": "4e44ecd85c08f584",
   "outputs": [],
   "execution_count": 8
  },
  {
   "metadata": {
    "ExecuteTime": {
     "end_time": "2025-02-23T16:55:27.538445Z",
     "start_time": "2025-02-23T16:55:27.528041Z"
    }
   },
   "cell_type": "code",
   "source": [
    "\"\"\"\n",
    "Path sum :\n",
    "Given the root of a binary tree and an integer targetSum, return true if tree has a root to leaf path such that adding up all the\n",
    "values along the path equals targetSum\n",
    "\"\"\"\n",
    "def pathSum(root, target):\n",
    "    if not root:\n",
    "        return False\n",
    "\n",
    "    stack = [(root, root.val)]\n",
    "\n",
    "    while stack:\n",
    "\n",
    "        curr, val = stack.pop()\n",
    "\n",
    "        if not curr.left and not curr.right and val == target:\n",
    "            return True\n",
    "\n",
    "        if curr.right : stack.append((curr.right, val+curr.right.val))\n",
    "        if curr.left : stack.append((curr.left, val+curr.left.val))"
   ],
   "id": "f1821982b7dcbbe",
   "outputs": [],
   "execution_count": 10
  },
  {
   "metadata": {
    "ExecuteTime": {
     "end_time": "2025-02-23T17:15:30.543985Z",
     "start_time": "2025-02-23T17:15:30.530873Z"
    }
   },
   "cell_type": "code",
   "source": [
    "\"\"\"\n",
    "Diameter of a binary tree\n",
    "Given the root of a binary tree, return the length of the diameter of the tree\n",
    "The diameter of a binary tree is the length of the longest path between any two nodes in a tree\n",
    "This path may or may not pass through the root\n",
    "Recursive solution is better than iterative solution\n",
    "\"\"\"\n",
    "def diameter(root):\n",
    "    diameter = 0\n",
    "    def depth(root):\n",
    "        nonlocal diameter\n",
    "        if not root:\n",
    "            return 0\n",
    "\n",
    "        left_depth = depth(root.left)\n",
    "        right_depth = depth(root.right)\n",
    "\n",
    "        diameter = max( diameter, left_depth+right_depth)\n",
    "\n",
    "        return 1+ max(left_depth, right_depth)\n",
    "\n",
    "    depth(root)\n",
    "    return diameter"
   ],
   "id": "7e4652832dbf429a",
   "outputs": [],
   "execution_count": 11
  },
  {
   "metadata": {
    "ExecuteTime": {
     "end_time": "2025-02-23T17:24:08.613642Z",
     "start_time": "2025-02-23T17:24:08.604908Z"
    }
   },
   "cell_type": "code",
   "source": [
    "\"\"\"\n",
    "Invert a binary tree\n",
    "Given the root of a binary tree, invert the tree and return its root\n",
    "\"\"\"\n",
    "\n",
    "def invertBinaryTree(root):\n",
    "    stack = [root]\n",
    "    while stack:\n",
    "        curr = stack.pop()\n",
    "        if curr:\n",
    "            curr.left, curr.right = curr.right, curr.left\n",
    "            stack.extend([curr.right, curr.left])\n",
    "\n",
    "    return root"
   ],
   "id": "c293665867d2b5bc",
   "outputs": [],
   "execution_count": 12
  },
  {
   "metadata": {
    "ExecuteTime": {
     "end_time": "2025-02-23T17:46:50.420886Z",
     "start_time": "2025-02-23T17:46:50.411279Z"
    }
   },
   "cell_type": "code",
   "source": [
    "\"\"\"\n",
    "Lowest common ancestor of a binary tree\n",
    "Given a binary tree, find the lowest common ancestor of two given nodes in the tree\n",
    "\"\"\"\n",
    "\n",
    "def lca(root, node1, node2):\n",
    "    pass\n"
   ],
   "id": "3a88d9ffe08023db",
   "outputs": [],
   "execution_count": 14
  },
  {
   "metadata": {
    "ExecuteTime": {
     "end_time": "2025-02-23T17:48:28.982229Z",
     "start_time": "2025-02-23T17:48:28.973058Z"
    }
   },
   "cell_type": "code",
   "source": [
    "\"\"\"\n",
    "Search in a binary search tree\n",
    "You are given the root of a binary search tree and an integer\n",
    "Find the node in the BST that the node's value equals val and return the subtree rooted with that node\n",
    "\"\"\"\n",
    "def searchBST(root, val):\n",
    "    while root:\n",
    "        if root.val == val:\n",
    "            return root\n",
    "        elif root.val < val:\n",
    "            root = root.right\n",
    "        else:\n",
    "            root = root.left\n",
    "\n",
    "    return None"
   ],
   "id": "2535a85e22299b7c",
   "outputs": [],
   "execution_count": 15
  },
  {
   "metadata": {
    "ExecuteTime": {
     "end_time": "2025-02-23T18:04:33.746550Z",
     "start_time": "2025-02-23T18:04:33.733845Z"
    }
   },
   "cell_type": "code",
   "source": [
    "\"\"\"\n",
    "Insert into a binary search tree\n",
    "\"\"\"\n",
    "class TreeNode:\n",
    "    def __init__(self, val, left=None, right=None):\n",
    "        self.val = val\n",
    "        self.left = left\n",
    "        self.right = right\n",
    "\n",
    "def insertIntoBST(root, val):\n",
    "    new_node = TreeNode(val)\n",
    "\n",
    "    if not root:\n",
    "        return new_node\n",
    "\n",
    "    current = root\n",
    "\n",
    "    while True:\n",
    "        if val < current.val:\n",
    "            if current.left:\n",
    "                current = current.left\n",
    "            else:\n",
    "                current.left = new_node\n",
    "                break\n",
    "\n",
    "        else:\n",
    "            if current.right:\n",
    "                current = current.right\n",
    "            else:\n",
    "                current.right = new_node\n",
    "                break\n",
    "\n",
    "    return root\n"
   ],
   "id": "6c46b8d3610278ca",
   "outputs": [],
   "execution_count": 17
  },
  {
   "metadata": {
    "ExecuteTime": {
     "end_time": "2025-02-23T20:06:03.445622Z",
     "start_time": "2025-02-23T20:06:03.429922Z"
    }
   },
   "cell_type": "code",
   "source": [
    "\"\"\"\n",
    "Convert sorted array to BST\n",
    "Given an integer array nums where the elements are sorted in ascending order, convert it to a height balanced binary search tree\n",
    "\"\"\"\n",
    "\n",
    "def sortedArrayBST(nums):\n",
    "    if not nums:\n",
    "        return None\n",
    "\n",
    "    n = len(nums)\n",
    "    mid = n//2\n",
    "    root = TreeNode(nums[mid])\n",
    "\n",
    "    q = deque()\n",
    "    q.append((root, 0, mid - 1))\n",
    "    q.append((root, min + 1, n -1))\n",
    "\n",
    "    while q:\n",
    "        parent, left, right = q.popleft()\n",
    "        if left <= right:\n",
    "            mid = (left+right) //2\n",
    "            child = TreeNode(nums[mid])\n",
    "            if nums[mid] < parent.val:\n",
    "                parent.left = child\n",
    "            else:\n",
    "                parent.right = child\n",
    "\n",
    "            q.append((child, left, mid -1))\n",
    "            q.append((child, mid+1, right))\n",
    "\n",
    "    return root"
   ],
   "id": "6a960b4da3532389",
   "outputs": [],
   "execution_count": 18
  },
  {
   "metadata": {
    "ExecuteTime": {
     "end_time": "2025-02-23T20:09:30.171884Z",
     "start_time": "2025-02-23T20:09:30.160222Z"
    }
   },
   "cell_type": "code",
   "source": [
    "\"\"\"\n",
    "2 sum with BST\n",
    "Given a BST and target value, return true if two numbers which equal target in BST\n",
    "\"\"\"\n",
    "def findTarget(root, k):\n",
    "    queue = deque([root])\n",
    "    num_set = set()\n",
    "\n",
    "    while queue:\n",
    "        node = queue.popleft()\n",
    "        if (k-node.val) in num_set:\n",
    "            return True\n",
    "        else:\n",
    "            num_set.add(node.val)\n",
    "\n",
    "            if node.left:\n",
    "                queue.append(node.left)\n",
    "            if node.right:\n",
    "                queue.append(node.right)\n",
    "\n",
    "    return False"
   ],
   "id": "a40006ac7cfa45b4",
   "outputs": [],
   "execution_count": 19
  },
  {
   "metadata": {
    "ExecuteTime": {
     "end_time": "2025-02-23T20:21:27.678740Z",
     "start_time": "2025-02-23T20:21:27.667496Z"
    }
   },
   "cell_type": "code",
   "source": [
    "\"\"\"\n",
    "LCA of a binary search tree\n",
    "Given a binary search tree, find the lowest common ancestor(LCA) node of the two given nodes in the BST\n",
    "\"\"\"\n",
    "def lcaBinary(root, p, q):\n",
    "    small = min(p.val, q.val)\n",
    "    large = max(p.val, q.val)\n",
    "\n",
    "    while root:\n",
    "        if root.val > large:\n",
    "            root = root.left\n",
    "        elif root.val < small:\n",
    "            root = root.right\n",
    "        else:\n",
    "            return root\n",
    "    return None\n"
   ],
   "id": "a7f8daa509213389",
   "outputs": [],
   "execution_count": 27
  },
  {
   "metadata": {},
   "cell_type": "code",
   "outputs": [],
   "execution_count": null,
   "source": [
    "\"\"\"\n",
    "Inorder : left center right\n",
    "PreOrder : center left right\n",
    "PostOrder : left right center\n",
    "\"\"\""
   ],
   "id": "ce9ad6a96700e092"
  },
  {
   "metadata": {
    "ExecuteTime": {
     "end_time": "2025-02-23T20:35:21.335147Z",
     "start_time": "2025-02-23T20:35:21.320762Z"
    }
   },
   "cell_type": "code",
   "source": [
    "\"\"\"\n",
    "Min Abs Difference BST\n",
    "Given the root of a Binary Search Tree(BST), return the minimum absolute difference\n",
    "\"\"\"\n",
    "def getMinimumDiff(root):\n",
    "    min_diff = float('inf')\n",
    "    prev_val = float('-inf')\n",
    "\n",
    "    stack = []\n",
    "    while root or stack:\n",
    "        if root:\n",
    "            stack.append(root)\n",
    "            root = root.left\n",
    "        else:\n",
    "            root = stack.pop()\n",
    "            min_diff = min(min_diff, root.val - prev_val)\n",
    "            prev_val = root.val\n",
    "            root = root.right\n",
    "\n",
    "    return min_diff"
   ],
   "id": "eab1a2eaf928a62d",
   "outputs": [],
   "execution_count": 28
  },
  {
   "metadata": {
    "ExecuteTime": {
     "end_time": "2025-02-23T20:36:33.080033Z",
     "start_time": "2025-02-23T20:36:33.070292Z"
    }
   },
   "cell_type": "code",
   "source": [
    "\"\"\"\n",
    "Balance BST\n",
    "Given the root of a binary search tree, return a balanced binary search tree with the same node values. If there is more than one answer, return any of them\n",
    "A binary search tree is balanced if the depth of the two subtrees of every node never differs by more than 1\n",
    "\"\"\"\n",
    "def balanceBST(root):\n",
    "    pass\n"
   ],
   "id": "3fcff8b2fd38a10d",
   "outputs": [
    {
     "data": {
      "text/plain": [
       "'\\nBalance BST\\nGiven the root of a binary search tree, return a balanced binary search tree with the same node values. If there is more than one answer, return any of them\\nA binary search tree is balanced if the depth of the two subtrees of every node never differs by more than 1\\n'"
      ]
     },
     "execution_count": 29,
     "metadata": {},
     "output_type": "execute_result"
    }
   ],
   "execution_count": 29
  },
  {
   "metadata": {
    "ExecuteTime": {
     "end_time": "2025-02-23T20:46:06.443574Z",
     "start_time": "2025-02-23T20:46:06.436518Z"
    }
   },
   "cell_type": "code",
   "source": [
    "\"\"\"\n",
    "Delete node BST\n",
    "Given a root node reference of a BST and a key, delete the node with the given key in the BST. Return the root node reference of the the BST\n",
    "\"\"\"\n",
    "\n",
    "def deleteNodeBST(root, val):\n",
    "    pass"
   ],
   "id": "f25e3830367b6a28",
   "outputs": [],
   "execution_count": 30
  },
  {
   "metadata": {
    "ExecuteTime": {
     "end_time": "2025-02-23T20:48:52.823790Z",
     "start_time": "2025-02-23T20:48:52.811431Z"
    }
   },
   "cell_type": "code",
   "source": [
    "\"\"\"\n",
    "Kth smallest element in a BST\n",
    "Given the root of a BST and an integer k, return the kth smallest value of all the values of the nodes in the tree\n",
    "\"\"\"\n",
    "\n",
    "def smallestKth(root, k):\n",
    "    stack = []\n",
    "\n",
    "    while root or stack:\n",
    "        if root:\n",
    "            stack.append(root)\n",
    "            root = root.left\n",
    "        else:\n",
    "            root = stack.pop()\n",
    "            k -= 1\n",
    "\n",
    "            if k == 0:\n",
    "                return root\n",
    "\n",
    "        root = root.right"
   ],
   "id": "3691c22687e66fdf",
   "outputs": [],
   "execution_count": 31
  },
  {
   "metadata": {},
   "cell_type": "code",
   "outputs": [],
   "execution_count": null,
   "source": "",
   "id": "ce4e004e7e5dcfdd"
  }
 ],
 "metadata": {
  "kernelspec": {
   "display_name": "Python 3",
   "language": "python",
   "name": "python3"
  },
  "language_info": {
   "codemirror_mode": {
    "name": "ipython",
    "version": 2
   },
   "file_extension": ".py",
   "mimetype": "text/x-python",
   "name": "python",
   "nbconvert_exporter": "python",
   "pygments_lexer": "ipython2",
   "version": "2.7.6"
  }
 },
 "nbformat": 4,
 "nbformat_minor": 5
}
