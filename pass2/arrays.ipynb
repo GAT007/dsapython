{
 "cells": [
  {
   "cell_type": "code",
   "id": "initial_id",
   "metadata": {
    "collapsed": true,
    "ExecuteTime": {
     "end_time": "2025-02-17T18:46:29.089904Z",
     "start_time": "2025-02-17T18:46:29.071712Z"
    }
   },
   "source": [
    " #Lists [] contiguous list of values a = []\n",
    " #Sets () list of unique values a = set()\n",
    " #Dictionaries {} key value pairs a = {}\n",
    " #Tuples () immutable lists a = ()\n"
   ],
   "outputs": [
    {
     "data": {
      "text/plain": [
       "'\\nLists [] contiguous list of values a = []\\nSets () list of unique values a = set()\\nDictionaries {} key value pairs a = {}\\nTuples () immutable lists a = ()\\n'"
      ]
     },
     "execution_count": 1,
     "metadata": {},
     "output_type": "execute_result"
    }
   ],
   "execution_count": 1
  },
  {
   "metadata": {
    "ExecuteTime": {
     "end_time": "2025-02-17T18:50:33.992021Z",
     "start_time": "2025-02-17T18:50:33.980541Z"
    }
   },
   "cell_type": "code",
   "source": [
    "\"\"\"\n",
    "Duplicate values\n",
    "Given an integer array nums, return true is any value appears at least twice in the array and return false if every element is distinct\n",
    "\"\"\"\n",
    "def duplicateValues(nums):\n",
    "    if len(nums)!=len(set(nums)):\n",
    "        return False\n",
    "    else:\n",
    "        return True\n",
    "\n",
    "print(duplicateValues([1,2,3,1]))"
   ],
   "id": "b710d3750de1e8cb",
   "outputs": [
    {
     "name": "stdout",
     "output_type": "stream",
     "text": [
      "False\n"
     ]
    }
   ],
   "execution_count": 3
  },
  {
   "metadata": {},
   "cell_type": "code",
   "outputs": [],
   "execution_count": null,
   "source": [
    "\"\"\"\n",
    "Missing number\n",
    "Given an array nums containing n distinct number in the range (0,n) return the only number in the range that is missing from the array\n",
    "\"\"\"\n",
    "def missingNumber(nums):\n",
    "    range_sum = 0\n",
    "    for i in range(len(nums) + 1):\n",
    "        range_sum+=i\n",
    "\n",
    "    for i in range(len(nums)):\n",
    "        range_sum-=nums[i]\n",
    "\n",
    "def missingNumberSingle(nums):\n",
    "    return sum(range(len(nums)+1)) - sum(nums)"
   ],
   "id": "1f10b5cec93b27df"
  },
  {
   "metadata": {
    "ExecuteTime": {
     "end_time": "2025-02-18T00:51:39.071766Z",
     "start_time": "2025-02-18T00:51:39.053575Z"
    }
   },
   "cell_type": "code",
   "source": [
    "\"\"\"\n",
    "Notes : Sorting + Dictionaries\n",
    "Iterate through dictionaries\n",
    "d = {}\n",
    "for k,v in d.items()\n",
    "for key in d.keys()\n",
    "for val in d.values()\n",
    "\n",
    "sorted(iterable,/, *, key=None,reverse=False)\n",
    "\n",
    "sorted_keys = sorted(d.keys())\n",
    "print(sorted_keys)\n",
    "\n",
    "for key in sorted_keys:\n",
    "    print(key, d[key])\n",
    "\n",
    "variable.sort() sorts the list in place, sorted(variable) returns a new variable\n",
    "\"\"\""
   ],
   "id": "18434ff5e1df8353",
   "outputs": [
    {
     "data": {
      "text/plain": [
       "'\\nNotes : Sorting + Dictionaries\\nIterate through dictionaries\\nd = {}\\nfor k,v in d.items()\\nfor key in d.keys()\\nfor val in d.values()\\n\\nsorted(iterable,/, *, key=None,reverse=False)\\n\\nsorted_keys = sorted(d.keys())\\nprint(sorted_keys)\\n\\nfor key in sorted_keys:\\n    print(key, d[key])\\n\\nvariable.sort() sorts the list in place, sorted(variable) returns a new variable\\n'"
      ]
     },
     "execution_count": 4,
     "metadata": {},
     "output_type": "execute_result"
    }
   ],
   "execution_count": 4
  },
  {
   "metadata": {
    "ExecuteTime": {
     "end_time": "2025-02-18T01:01:18.551984Z",
     "start_time": "2025-02-18T01:01:18.542096Z"
    }
   },
   "cell_type": "code",
   "source": [
    "\"\"\"\n",
    "Q3. Find all missing numbers\n",
    "Check given list for missing numbers range(1, len(nums))\n",
    "\"\"\"\n",
    "def missingNumberRanges(nums, ranger):\n",
    "    num_set = set(nums)\n",
    "\n",
    "    ret = []\n",
    "\n",
    "    for i in range(1, ranger):\n",
    "        if i not in num_set:\n",
    "            ret.append(i)\n",
    "\n",
    "    return ret\n",
    "\n",
    "print(missingNumberRanges([4,8,2,3,1], 12))"
   ],
   "id": "f727e031cfc075b2",
   "outputs": [
    {
     "name": "stdout",
     "output_type": "stream",
     "text": [
      "[5, 6, 7, 9, 10, 11]\n"
     ]
    }
   ],
   "execution_count": 9
  },
  {
   "metadata": {
    "ExecuteTime": {
     "end_time": "2025-02-18T01:28:31.858088Z",
     "start_time": "2025-02-18T01:28:31.848443Z"
    }
   },
   "cell_type": "code",
   "source": [
    "\"\"\"\n",
    "Two Sum\n",
    "Given an array of integers nums and an integer target, return indices of the two numbers such that they add up to target\n",
    "\"\"\"\n",
    "from collections import defaultdict\n",
    "def twoSum(nums, target) :\n",
    "    visited = defaultdict()\n",
    "    for index, element in enumerate(nums):\n",
    "        if(target-element in visited):\n",
    "            return (visited[target-element], index)\n",
    "        else:\n",
    "            visited[element] = index\n",
    "\n",
    "    return -1\n",
    "\n",
    "print(twoSum([2,11,7,15], 9))"
   ],
   "id": "c338615a4f4e43ab",
   "outputs": [
    {
     "name": "stdout",
     "output_type": "stream",
     "text": [
      "(0, 2)\n"
     ]
    }
   ],
   "execution_count": 14
  },
  {
   "metadata": {
    "ExecuteTime": {
     "end_time": "2025-02-18T02:28:37.303756Z",
     "start_time": "2025-02-18T02:28:37.294043Z"
    }
   },
   "cell_type": "code",
   "source": [
    "\"\"\"\n",
    "How many numbers are smaller than the current number?\n",
    "Given the array nums, for each nums[i] find out how many numbers in the array are smaller than it.\n",
    "\"\"\"\n",
    "def smallerThan(nums):\n",
    "    sorted_nums = sorted(nums)\n",
    "    dict = {}\n",
    "    for idx, element in enumerate(sorted_nums):\n",
    "        if element not in dict:\n",
    "            dict[element] = idx\n",
    "\n",
    "    ret = []\n",
    "    for element in nums:\n",
    "        ret.append(dict[element])\n",
    "\n",
    "    return ret\n",
    "\n",
    "print(smallerThan([8,1,2,2,3]))\n"
   ],
   "id": "809aab60c2783db8",
   "outputs": [
    {
     "name": "stdout",
     "output_type": "stream",
     "text": [
      "[4, 0, 1, 1, 3]\n"
     ]
    }
   ],
   "execution_count": 16
  },
  {
   "metadata": {
    "ExecuteTime": {
     "end_time": "2025-02-18T02:38:44.050118Z",
     "start_time": "2025-02-18T02:38:44.040143Z"
    }
   },
   "cell_type": "code",
   "source": [
    "\"\"\"\n",
    "Minimum time visiting all points\n",
    "\"\"\"\n",
    "def minTimeToVisitAllPoints(points) -> int:\n",
    "    res = 0\n",
    "    x1, y1 = points.pop()\n",
    "    while points:\n",
    "        x2,y2 = points.pop()\n",
    "        res += max(abs(y2-y1), abs(x2-x1))\n",
    "        x1,y1 = x2,y2\n",
    "    return res\n",
    "\n",
    "print(minTimeToVisitAllPoints([[1,1], [3,4], [-1,0]]))"
   ],
   "id": "5c790c43949682e4",
   "outputs": [
    {
     "name": "stdout",
     "output_type": "stream",
     "text": [
      "7\n"
     ]
    }
   ],
   "execution_count": 17
  },
  {
   "metadata": {
    "ExecuteTime": {
     "end_time": "2025-02-18T02:55:00.551744Z",
     "start_time": "2025-02-18T02:55:00.534839Z"
    }
   },
   "cell_type": "code",
   "source": [
    "\"\"\"\n",
    "Spiral Matrix\n",
    "Given a m*n matrix, return all elements of the matrix in spiral order\n",
    "Pop off the first row, pop off the last elements in all the rows, pop off the last row, pop off the first elements in all the rows\n",
    "Sample input = [[1,2,3],[4,5,6],[7,8,9]]\n",
    "\"\"\"\n",
    "def spiralMatrix(matrix):\n",
    "    ret = []\n",
    "    while matrix:\n",
    "        ret+=(matrix.pop(0))\n",
    "        if matrix and matrix[0]:\n",
    "            for list in matrix: ret.append(list.pop())\n",
    "        if matrix:\n",
    "            ret+=(matrix.pop()[::-1])\n",
    "        if matrix and matrix[0]:\n",
    "            for list in matrix: ret.append(list.pop(0))\n",
    "\n",
    "    return ret\n",
    "\n",
    "print(spiralMatrix([[1,2,3],[4,5,6],[7,8,9]]))"
   ],
   "id": "e39e7c32b0801922",
   "outputs": [
    {
     "name": "stdout",
     "output_type": "stream",
     "text": [
      "[1, 2, 3, 6, 9, 8, 7, 4, 5]\n"
     ]
    }
   ],
   "execution_count": 20
  },
  {
   "metadata": {
    "ExecuteTime": {
     "end_time": "2025-02-18T03:58:24.001634Z",
     "start_time": "2025-02-18T03:58:23.980965Z"
    }
   },
   "cell_type": "code",
   "source": [
    "\"\"\"\n",
    "Number of islands\n",
    "Given an m * n 2d binary grid, which represent a map of '1's and 0's, return the number of islands\n",
    "An island is surrounded by water and is formed by connecting adjacent lands horizontally or vertically\n",
    "Uses breadth first search which uses queue\n",
    "Flip side of this is the depth first search which uses stack\n",
    "O(m*n)\n",
    "\"\"\"\n",
    "from collections import deque\n",
    "def numberOfIslands(grid):\n",
    "    if not grid:\n",
    "        return 0\n",
    "\n",
    "    def bfs(r, c):\n",
    "        q = deque()\n",
    "        visit.add((r,c))\n",
    "        q.append((r,c))\n",
    "\n",
    "        while q:\n",
    "            row, col = q.popleft()\n",
    "            directions = [[1,0], [-1,0], [0,1], [0,-1]]\n",
    "\n",
    "\n",
    "            for dr, dc in directions:\n",
    "                r,c = row+dr, col+dc\n",
    "                if (r in range(rows) and c in range(cols) and grid[r][c]==1 and (r,c) not in visit):\n",
    "                    q.append((r,c))\n",
    "                    print(q)\n",
    "                    visit.add((r,c))\n",
    "                    #print(visit)\n",
    "\n",
    "    count = 0\n",
    "    rows = len(grid)\n",
    "    cols = len(grid[0])\n",
    "    visit = set()\n",
    "\n",
    "    for r in range(rows):\n",
    "        for c in range(cols):\n",
    "            if grid[r][c] == 1 and (r,c) not in visit:\n",
    "                bfs(r,c)\n",
    "                count+=1\n",
    "\n",
    "    return count\n",
    "\n",
    "\n",
    "print(numberOfIslands(\n",
    "    [\n",
    "        [1,1,1,1,0],\n",
    "        [1,1,0,1,0],\n",
    "        [1,1,0,0,0],\n",
    "        [0,0,0,0,1]]))"
   ],
   "id": "f5c46807d2fb8aab",
   "outputs": [
    {
     "name": "stdout",
     "output_type": "stream",
     "text": [
      "deque([(1, 0)])\n",
      "deque([(1, 0), (0, 1)])\n",
      "deque([(0, 1), (2, 0)])\n",
      "deque([(0, 1), (2, 0), (1, 1)])\n",
      "deque([(2, 0), (1, 1), (0, 2)])\n",
      "deque([(1, 1), (0, 2), (2, 1)])\n",
      "deque([(2, 1), (0, 3)])\n",
      "deque([(1, 3)])\n",
      "2\n"
     ]
    }
   ],
   "execution_count": 34
  },
  {
   "metadata": {
    "ExecuteTime": {
     "end_time": "2025-02-18T13:04:38.450362Z",
     "start_time": "2025-02-18T13:04:38.439769Z"
    }
   },
   "cell_type": "code",
   "source": [
    "\"\"\"\n",
    "Q9 Best time to buy and sell a stock\n",
    "You are given an array prices where prices[i] is the price of the given stock on the ith day\n",
    "You want to maximize your profit by choosing a single day to buy one stock and choosing a different day in the future to sell that stock\n",
    "Return maximum profit you can achieve from this transaction. If you cannot achieve any profit return 0\n",
    "Note that buying on day 2 and selling on day 1 is not allowed because you must buy before you sell\n",
    "\"\"\"\n",
    "\n",
    "def bestTimeToBuy(prices):\n",
    "     l ,r = 0, 1\n",
    "     maxP = 0\n",
    "\n",
    "     while r!=(len(prices)):\n",
    "\n",
    "         if prices[l]<prices[r]:\n",
    "             tempP = prices[r]-prices[l]\n",
    "             maxP = max(tempP, maxP)\n",
    "         else:\n",
    "             l = r\n",
    "         r+=1\n",
    "     return maxP\n",
    "\n",
    "print(bestTimeToBuy([7,1,5,3,6,4]))\n"
   ],
   "id": "13f0c6c2c13bc97",
   "outputs": [
    {
     "name": "stdout",
     "output_type": "stream",
     "text": [
      "5\n"
     ]
    }
   ],
   "execution_count": 1
  },
  {
   "metadata": {
    "ExecuteTime": {
     "end_time": "2025-02-18T13:08:45.018289Z",
     "start_time": "2025-02-18T13:08:45.007021Z"
    }
   },
   "cell_type": "code",
   "source": [
    "\"\"\"\n",
    "CILEDO\n",
    "C - Clarifying questions\n",
    "I - Input sanitization\n",
    "L - Logic\n",
    "E - Exception handling\n",
    "D - Debugging\n",
    "O - Optimization/Big O\n",
    "\"\"\""
   ],
   "id": "adbba398f6fc2489",
   "outputs": [
    {
     "data": {
      "text/plain": [
       "'\\nCILEDO\\nC - Clarifying questions\\nI - Input sanitization\\nL - Logic\\nE - Exception handling\\nD - Debugging\\nO - Optimization/Big O\\n'"
      ]
     },
     "execution_count": 2,
     "metadata": {},
     "output_type": "execute_result"
    }
   ],
   "execution_count": 2
  },
  {
   "metadata": {
    "ExecuteTime": {
     "end_time": "2025-02-18T14:36:35.124079Z",
     "start_time": "2025-02-18T14:36:35.110146Z"
    }
   },
   "cell_type": "code",
   "source": [
    "\"\"\"\n",
    "Squares of a sorted array\n",
    "Given an integer array nums sorted in ascending order, return an array of the squares of each number\n",
    "sorted in ascending order\n",
    "Question to ask : Am I considering negative values? Integers? Floats?\n",
    "My approach : find the index of zero, go from reverse and append those to array\n",
    "\"\"\"\n",
    "from collections import deque\n",
    "def squaresSortedArraytrivial(nums):\n",
    "    ret = []\n",
    "    for element in nums:\n",
    "        ret.append(element*element)\n",
    "    return sorted(ret)\n",
    "\n",
    "print(squaresSortedArraytrivial([-4,-1, 0, 3, 10]))\n",
    "\n",
    "def squareSortedArray(nums):\n",
    "    \"\"\"\n",
    "    Find the index of zero\n",
    "    \"\"\"\n",
    "    idx = 0\n",
    "    for i, element in enumerate(nums):\n",
    "        if element==0:\n",
    "            idx = i\n",
    "\n",
    "    #Create two arrays A and B\n",
    "    A = nums[idx:]\n",
    "    B = nums[:idx][::-1]\n",
    "    D = []\n",
    "    for ele in B:\n",
    "        D.append(ele*-1)\n",
    "    l, r = 0, 0\n",
    "    ans = []\n",
    "    while l<len(A) and r<len(D):\n",
    "        if A[l] < D[r]:\n",
    "            ans.append(A[l])\n",
    "            l+=1\n",
    "        else:\n",
    "            ans.append(D[r])\n",
    "            r+=1\n",
    "\n",
    "    if l<len(A):\n",
    "        ans.extend(A[l:])\n",
    "    if r<len(D):\n",
    "        ans.extend(D[r:])\n",
    "\n",
    "    return [n*n for n in ans]\n",
    "\n",
    "print(squareSortedArray([-4,-1, 0, 3, 10]))\n",
    "\n",
    "def squareSortedArrayDeque(nums):\n",
    "    ans = deque()\n",
    "    l, r = 0, len(nums) - 1\n",
    "    while l<=r:\n",
    "        left, right = abs(nums[l]), abs(nums[r])\n",
    "        if left > right:\n",
    "            ans.appendleft(left*left)\n",
    "            l+=1\n",
    "        else:\n",
    "            ans.appendleft(right*right)\n",
    "            r-=1\n",
    "    return ans\n",
    "\n",
    "print(squareSortedArrayDeque([-4,-1, 0, 3, 10]))\n"
   ],
   "id": "34e734187786cd6f",
   "outputs": [
    {
     "name": "stdout",
     "output_type": "stream",
     "text": [
      "[0, 1, 9, 16, 100]\n",
      "[0, 1, 9, 16, 100]\n",
      "deque([0, 1, 9, 16, 100])\n"
     ]
    }
   ],
   "execution_count": 21
  },
  {
   "metadata": {
    "ExecuteTime": {
     "end_time": "2025-02-19T18:30:19.632004Z",
     "start_time": "2025-02-19T18:30:19.619684Z"
    }
   },
   "cell_type": "code",
   "source": [
    "\"\"\"\n",
    "3 sum\n",
    "Given an integer array nums, return all the triplets, i,j and k such that i!=j!=k and i+j+k=0\n",
    "\"\"\"\n",
    "def threeSum(nums):\n",
    "    triplets = set()\n",
    "    nums.sort()\n",
    "\n",
    "    for idx, val in enumerate(nums):\n",
    "        if (idx > 0) and (val==nums[idx-1]):\n",
    "            continue\n",
    "\n",
    "        l, r =  idx+1, len(nums)-1\n",
    "        #print(l, r, nums[l], nums[r])\n",
    "        while l < r:\n",
    "            target = val + nums[l] + nums[r]\n",
    "            if target < 0:\n",
    "                l+=1\n",
    "            elif target > 0:\n",
    "                r-=1\n",
    "            else:\n",
    "                triplets.add((val, nums[l], nums[r]))\n",
    "                l+=1\n",
    "\n",
    "    return triplets\n",
    "\n",
    "print(threeSum([-4,-1,-1,0,1,2,2]))"
   ],
   "id": "feddebf147a3b769",
   "outputs": [
    {
     "name": "stdout",
     "output_type": "stream",
     "text": [
      "1 6 -1 2\n",
      "2 6 -1 2\n",
      "4 6 1 2\n",
      "5 6 2 2\n",
      "6 6 2 2\n",
      "{(-1, -1, 2), (-1, 0, 1), (-4, 2, 2)}\n"
     ]
    }
   ],
   "execution_count": 11
  },
  {
   "metadata": {
    "ExecuteTime": {
     "end_time": "2025-02-19T19:02:25.972331Z",
     "start_time": "2025-02-19T19:02:25.958872Z"
    }
   },
   "cell_type": "code",
   "source": [
    "\"\"\"\n",
    "Longest mountain in the array\n",
    "A mountain array has length >=3\n",
    "There exists some index i with 0<i<arr.length-1\n",
    "\"\"\"\n",
    "#This solution only checks if the given array is a longest mountain array, it does not return the length of the longest mountain\n",
    "def longestMountainArray(nums):\n",
    "    max = index = 0\n",
    "    for idx, val in enumerate(nums):\n",
    "        if val > max:\n",
    "            index = idx\n",
    "            max = val\n",
    "\n",
    "    l = r = index\n",
    "\n",
    "    while l>=0:\n",
    "        if nums[l]>max:\n",
    "            return False\n",
    "        else:\n",
    "            l-=1\n",
    "\n",
    "    while r<len(nums):\n",
    "        if nums[r]>max:\n",
    "            return False\n",
    "        else:\n",
    "            r+=1\n",
    "\n",
    "    return True\n",
    "\n",
    "print(longestMountainArray([2,1,4,7,3,2,4]))\n",
    "\n",
    "def lma(nums):\n",
    "    lm = 0\n",
    "    for i in range(1, len(nums)-1):\n",
    "        if nums[i-1] < nums[i] > nums[i+1]:\n",
    "            l=r=i\n",
    "\n",
    "            while l>0 and nums[l]>nums[l-1]:\n",
    "                l-=1\n",
    "\n",
    "            while r<len(nums)-1 and nums[r]>nums[r+1]:\n",
    "                r+=1\n",
    "\n",
    "            lm = max(lm, r-l+1)\n",
    "    return lm\n",
    "\n",
    "print(lma([2,1,4,7,3,2,8]))"
   ],
   "id": "4c139b491f56791c",
   "outputs": [
    {
     "name": "stdout",
     "output_type": "stream",
     "text": [
      "True\n",
      "5\n"
     ]
    }
   ],
   "execution_count": 25
  },
  {
   "metadata": {
    "ExecuteTime": {
     "end_time": "2025-02-20T14:24:39.186499Z",
     "start_time": "2025-02-20T14:24:39.176005Z"
    }
   },
   "cell_type": "code",
   "source": [
    "\"\"\"\n",
    "Arrays Sliding windows\n",
    "Contains nearby duplicate II\n",
    "Given an integer array nums and an integer k, return true if there are two distinct indices, i and j in the array such that nums[i] == nums[j] and abs(i-j)<=k\n",
    "\"\"\"\n",
    "\n",
    "def containsNearbyDuplicate(nums, k: int) -> bool:\n",
    "    seen = set()\n",
    "    for i, num in enumerate(nums):\n",
    "        if num in seen:\n",
    "            return True\n",
    "        seen.add(num)\n",
    "\n",
    "        if len(seen) > k:\n",
    "            seen.remove(nums[i-k])\n",
    "\n",
    "    return False\n",
    "\n",
    "print(containsNearbyDuplicate([1,2,3,1], 3))"
   ],
   "id": "89ce8a22e37583dc",
   "outputs": [
    {
     "name": "stdout",
     "output_type": "stream",
     "text": [
      "True\n"
     ]
    }
   ],
   "execution_count": 2
  },
  {
   "metadata": {
    "ExecuteTime": {
     "end_time": "2025-02-20T14:33:17.335047Z",
     "start_time": "2025-02-20T14:33:17.319444Z"
    }
   },
   "cell_type": "code",
   "source": [
    "\"\"\"\n",
    "Minimum Absolute Difference\n",
    "Given an array of distinct integers arr, find all pairs of elements with the minimum absolute difference of any two elements\n",
    "\"\"\"\n",
    "\n",
    "def minimumAbsoluteDiff(nums):\n",
    "\n",
    "    nums.sort()\n",
    "    min_diff = float('inf')\n",
    "    for i in range(1, len(nums)):\n",
    "        min_diff = min(min_diff, nums[i]-nums[i-1])\n",
    "\n",
    "    res = []\n",
    "    for i in range(1, len(nums)):\n",
    "        if nums[i] - nums[i-1] == min_diff:\n",
    "            res.append((nums[i], nums[i-1]))\n",
    "\n",
    "    return res\n",
    "\n",
    "print(minimumAbsoluteDiff([4,2,3,1]))\n"
   ],
   "id": "12f24db135719db5",
   "outputs": [
    {
     "name": "stdout",
     "output_type": "stream",
     "text": [
      "[(2, 1), (3, 2), (4, 3)]\n"
     ]
    }
   ],
   "execution_count": 3
  },
  {
   "metadata": {
    "ExecuteTime": {
     "end_time": "2025-02-21T00:23:50.970927Z",
     "start_time": "2025-02-21T00:23:50.952416Z"
    }
   },
   "cell_type": "code",
   "source": [
    "\"\"\"\n",
    "Minimum size subarray sum\n",
    "Given an array of positive integers and a positive integer target return the minimal length of a subarray whose sum is greater than or\n",
    "equal to the target\n",
    "\"\"\"\n",
    "\n",
    "def mindiff(nums, t):\n",
    "    l = 0\n",
    "    total = 0\n",
    "    res = float('inf')\n",
    "\n",
    "    for r in range(len(nums)):\n",
    "        total += nums[r]\n",
    "        while total>t:\n",
    "            res = min(res, r-l+1)\n",
    "            total -= nums[l]\n",
    "            l+=1\n",
    "\n",
    "    if res == float('inf'):\n",
    "        return 0\n",
    "    else:\n",
    "        return res\n",
    "\n",
    "print(mindiff([2,3,1,2,4,3], 7))\n"
   ],
   "id": "25eee26b53d1c846",
   "outputs": [
    {
     "name": "stdout",
     "output_type": "stream",
     "text": [
      "3\n"
     ]
    }
   ],
   "execution_count": 1
  },
  {
   "metadata": {
    "ExecuteTime": {
     "end_time": "2025-02-21T00:50:19.990412Z",
     "start_time": "2025-02-21T00:50:19.979032Z"
    }
   },
   "cell_type": "code",
   "source": [
    "\"\"\"\n",
    "Coin change\n",
    "You are given an integer array coins representing the coins of different denominations and an integer amount representing a total amount of moeny.\n",
    "Return the fewest number of coins that you need to make up that amount. If the amount of money cannot be made up by any combination of the coins, return -1\n",
    "Assume an infinte number of coins of each kind\n",
    "\n",
    "Greedy algorithm : Is any algorithm that follows the problem solving heuristic of making the locally optimal choice at each stage\n",
    "\n",
    "Dynamic Programming :\n",
    "\"\"\"\n",
    "\n",
    "def coinChange(coins, amt):\n",
    "    dp = [amt+1] * (amt+1)\n",
    "    dp[0] = 0\n",
    "\n",
    "    #array index\n",
    "    for i in range(1, amt+1):\n",
    "        for c in coins:\n",
    "            if (i-c) >= 0:\n",
    "                dp[i] = min(dp[i], 1+dp[i-c])\n",
    "\n",
    "    return dp[amt] if (dp[amt]!=amt+1) else -1\n",
    "\n",
    "print(coinChange([1,2,5], 11))"
   ],
   "id": "84590f39c393bae5",
   "outputs": [
    {
     "name": "stdout",
     "output_type": "stream",
     "text": [
      "3\n"
     ]
    }
   ],
   "execution_count": 2
  },
  {
   "metadata": {},
   "cell_type": "code",
   "outputs": [],
   "execution_count": null,
   "source": "",
   "id": "30def1f5a4c72116"
  }
 ],
 "metadata": {
  "kernelspec": {
   "display_name": "Python 3",
   "language": "python",
   "name": "python3"
  },
  "language_info": {
   "codemirror_mode": {
    "name": "ipython",
    "version": 2
   },
   "file_extension": ".py",
   "mimetype": "text/x-python",
   "name": "python",
   "nbconvert_exporter": "python",
   "pygments_lexer": "ipython2",
   "version": "2.7.6"
  }
 },
 "nbformat": 4,
 "nbformat_minor": 5
}
