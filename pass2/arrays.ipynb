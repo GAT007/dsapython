{
 "cells": [
  {
   "cell_type": "code",
   "id": "initial_id",
   "metadata": {
    "collapsed": true,
    "ExecuteTime": {
     "end_time": "2025-02-17T18:46:29.089904Z",
     "start_time": "2025-02-17T18:46:29.071712Z"
    }
   },
   "source": [
    " \"\"\"\n",
    " Lists [] contiguous list of values a = []\n",
    " Sets () list of unique values a = set()\n",
    " Dictionaries {} key value pairs a = {}\n",
    " Tuples () immutable lists a = ()\n",
    " \"\"\"\n",
    "\n"
   ],
   "outputs": [
    {
     "data": {
      "text/plain": [
       "'\\nLists [] contiguous list of values a = []\\nSets () list of unique values a = set()\\nDictionaries {} key value pairs a = {}\\nTuples () immutable lists a = ()\\n'"
      ]
     },
     "execution_count": 1,
     "metadata": {},
     "output_type": "execute_result"
    }
   ],
   "execution_count": 1
  },
  {
   "metadata": {
    "ExecuteTime": {
     "end_time": "2025-02-17T18:50:33.992021Z",
     "start_time": "2025-02-17T18:50:33.980541Z"
    }
   },
   "cell_type": "code",
   "source": [
    "\"\"\"\n",
    "Duplicate values\n",
    "Given an integer array nums, return true is any value appears at least twice in the array and return false if every element is distinct\n",
    "\"\"\"\n",
    "def duplicateValues(nums):\n",
    "    if len(nums)!=len(set(nums)):\n",
    "        return False\n",
    "    else:\n",
    "        return True\n",
    "\n",
    "print(duplicateValues([1,2,3,1]))"
   ],
   "id": "b710d3750de1e8cb",
   "outputs": [
    {
     "name": "stdout",
     "output_type": "stream",
     "text": [
      "False\n"
     ]
    }
   ],
   "execution_count": 3
  },
  {
   "metadata": {},
   "cell_type": "code",
   "outputs": [],
   "execution_count": null,
   "source": [
    "\"\"\"\n",
    "Missing number\n",
    "Given an array nums containing n distinct number in the range (0,n) return the only number in the range that is missing from the array\n",
    "\"\"\"\n",
    "def missingNumber(nums):\n",
    "    range_sum = 0\n",
    "    for i in range(len(nums) + 1):\n",
    "        range_sum+=i\n",
    "\n",
    "    for i in range(len(nums)):\n",
    "        range_sum-=nums[i]\n",
    "\n",
    "def missingNumberSingle(nums):\n",
    "    return sum(range(len(nums)+1)) - sum(nums)"
   ],
   "id": "1f10b5cec93b27df"
  },
  {
   "metadata": {
    "ExecuteTime": {
     "end_time": "2025-02-18T00:51:39.071766Z",
     "start_time": "2025-02-18T00:51:39.053575Z"
    }
   },
   "cell_type": "code",
   "source": [
    "\"\"\"\n",
    "Notes : Sorting + Dictionaries\n",
    "Iterate through dictionaries\n",
    "d = {}\n",
    "for k,v in d.items()\n",
    "for key in d.keys()\n",
    "for val in d.values()\n",
    "\n",
    "sorted(iterable,/, *, key=None,reverse=False)\n",
    "\n",
    "sorted_keys = sorted(d.keys())\n",
    "print(sorted_keys)\n",
    "\n",
    "for key in sorted_keys:\n",
    "    print(key, d[key])\n",
    "\n",
    "variable.sort() sorts the list in place, sorted(variable) returns a new variable\n",
    "\"\"\""
   ],
   "id": "18434ff5e1df8353",
   "outputs": [
    {
     "data": {
      "text/plain": [
       "'\\nNotes : Sorting + Dictionaries\\nIterate through dictionaries\\nd = {}\\nfor k,v in d.items()\\nfor key in d.keys()\\nfor val in d.values()\\n\\nsorted(iterable,/, *, key=None,reverse=False)\\n\\nsorted_keys = sorted(d.keys())\\nprint(sorted_keys)\\n\\nfor key in sorted_keys:\\n    print(key, d[key])\\n\\nvariable.sort() sorts the list in place, sorted(variable) returns a new variable\\n'"
      ]
     },
     "execution_count": 4,
     "metadata": {},
     "output_type": "execute_result"
    }
   ],
   "execution_count": 4
  },
  {
   "metadata": {
    "ExecuteTime": {
     "end_time": "2025-02-18T01:01:18.551984Z",
     "start_time": "2025-02-18T01:01:18.542096Z"
    }
   },
   "cell_type": "code",
   "source": [
    "\"\"\"\n",
    "Q3. Find all missing numbers\n",
    "Check given list for missing numbers range(1, len(nums))\n",
    "\"\"\"\n",
    "def missingNumberRanges(nums, ranger):\n",
    "    num_set = set(nums)\n",
    "\n",
    "    ret = []\n",
    "\n",
    "    for i in range(1, ranger):\n",
    "        if i not in num_set:\n",
    "            ret.append(i)\n",
    "\n",
    "    return ret\n",
    "\n",
    "print(missingNumberRanges([4,8,2,3,1], 12))"
   ],
   "id": "f727e031cfc075b2",
   "outputs": [
    {
     "name": "stdout",
     "output_type": "stream",
     "text": [
      "[5, 6, 7, 9, 10, 11]\n"
     ]
    }
   ],
   "execution_count": 9
  },
  {
   "metadata": {
    "ExecuteTime": {
     "end_time": "2025-02-18T01:28:31.858088Z",
     "start_time": "2025-02-18T01:28:31.848443Z"
    }
   },
   "cell_type": "code",
   "source": [
    "\"\"\"\n",
    "Two Sum\n",
    "Given an array of integers nums and an integer target, return indices of the two numbers such that they add up to target\n",
    "\"\"\"\n",
    "from collections import defaultdict\n",
    "def twoSum(nums, target) :\n",
    "    visited = defaultdict()\n",
    "    for index, element in enumerate(nums):\n",
    "        if(target-element in visited):\n",
    "            return (visited[target-element], index)\n",
    "        else:\n",
    "            visited[element] = index\n",
    "\n",
    "    return -1\n",
    "\n",
    "print(twoSum([2,11,7,15], 9))"
   ],
   "id": "c338615a4f4e43ab",
   "outputs": [
    {
     "name": "stdout",
     "output_type": "stream",
     "text": [
      "(0, 2)\n"
     ]
    }
   ],
   "execution_count": 14
  },
  {
   "metadata": {
    "ExecuteTime": {
     "end_time": "2025-02-18T02:28:37.303756Z",
     "start_time": "2025-02-18T02:28:37.294043Z"
    }
   },
   "cell_type": "code",
   "source": [
    "\"\"\"\n",
    "How many numbers are smaller than the current number?\n",
    "Given the array nums, for each nums[i] find out how many numbers in the array are smaller than it.\n",
    "\"\"\"\n",
    "def smallerThan(nums):\n",
    "    sorted_nums = sorted(nums)\n",
    "    dict = {}\n",
    "    for idx, element in enumerate(sorted_nums):\n",
    "        if element not in dict:\n",
    "            dict[element] = idx\n",
    "\n",
    "    ret = []\n",
    "    for element in nums:\n",
    "        ret.append(dict[element])\n",
    "\n",
    "    return ret\n",
    "\n",
    "print(smallerThan([8,1,2,2,3]))\n"
   ],
   "id": "809aab60c2783db8",
   "outputs": [
    {
     "name": "stdout",
     "output_type": "stream",
     "text": [
      "[4, 0, 1, 1, 3]\n"
     ]
    }
   ],
   "execution_count": 16
  },
  {
   "metadata": {
    "ExecuteTime": {
     "end_time": "2025-02-18T02:38:44.050118Z",
     "start_time": "2025-02-18T02:38:44.040143Z"
    }
   },
   "cell_type": "code",
   "source": [
    "\"\"\"\n",
    "Minimum time visiting all points\n",
    "\"\"\"\n",
    "def minTimeToVisitAllPoints(points) -> int:\n",
    "    res = 0\n",
    "    x1, y1 = points.pop()\n",
    "    while points:\n",
    "        x2,y2 = points.pop()\n",
    "        res += max(abs(y2-y1), abs(x2-x1))\n",
    "        x1,y1 = x2,y2\n",
    "    return res\n",
    "\n",
    "print(minTimeToVisitAllPoints([[1,1], [3,4], [-1,0]]))"
   ],
   "id": "5c790c43949682e4",
   "outputs": [
    {
     "name": "stdout",
     "output_type": "stream",
     "text": [
      "7\n"
     ]
    }
   ],
   "execution_count": 17
  },
  {
   "metadata": {
    "ExecuteTime": {
     "end_time": "2025-02-18T02:55:00.551744Z",
     "start_time": "2025-02-18T02:55:00.534839Z"
    }
   },
   "cell_type": "code",
   "source": [
    "\"\"\"\n",
    "Spiral Matrix\n",
    "Given a m*n matrix, return all elements of the matrix in spiral order\n",
    "Pop off the first row, pop off the last elements in all the rows, pop off the last row, pop off the first elements in all the rows\n",
    "Sample input = [[1,2,3],[4,5,6],[7,8,9]]\n",
    "\"\"\"\n",
    "def spiralMatrix(matrix):\n",
    "    ret = []\n",
    "    while matrix:\n",
    "        ret+=(matrix.pop(0))\n",
    "        if matrix and matrix[0]:\n",
    "            for list in matrix: ret.append(list.pop())\n",
    "        if matrix:\n",
    "            ret+=(matrix.pop()[::-1])\n",
    "        if matrix and matrix[0]:\n",
    "            for list in matrix: ret.append(list.pop(0))\n",
    "\n",
    "    return ret\n",
    "\n",
    "print(spiralMatrix([[1,2,3],[4,5,6],[7,8,9]]))"
   ],
   "id": "e39e7c32b0801922",
   "outputs": [
    {
     "name": "stdout",
     "output_type": "stream",
     "text": [
      "[1, 2, 3, 6, 9, 8, 7, 4, 5]\n"
     ]
    }
   ],
   "execution_count": 20
  },
  {
   "metadata": {
    "ExecuteTime": {
     "end_time": "2025-02-18T03:58:24.001634Z",
     "start_time": "2025-02-18T03:58:23.980965Z"
    }
   },
   "cell_type": "code",
   "source": [
    "\"\"\"\n",
    "Number of islands\n",
    "Given an m * n 2d binary grid, which represent a map of '1's and 0's, return the number of islands\n",
    "An island is surrounded by water and is formed by connecting adjacent lands horizontally or vertically\n",
    "Uses breadth first search which uses queue\n",
    "Flip side of this is the depth first search which uses stack\n",
    "O(m*n)\n",
    "\"\"\"\n",
    "from collections import deque\n",
    "def numberOfIslands(grid):\n",
    "    if not grid:\n",
    "        return 0\n",
    "\n",
    "    def bfs(r, c):\n",
    "        q = deque()\n",
    "        visit.add((r,c))\n",
    "        q.append((r,c))\n",
    "\n",
    "        while q:\n",
    "            row, col = q.popleft()\n",
    "            directions = [[1,0], [-1,0], [0,1], [0,-1]]\n",
    "\n",
    "\n",
    "            for dr, dc in directions:\n",
    "                r,c = row+dr, col+dc\n",
    "                if (r in range(rows) and c in range(cols) and grid[r][c]==1 and (r,c) not in visit):\n",
    "                    q.append((r,c))\n",
    "                    print(q)\n",
    "                    visit.add((r,c))\n",
    "                    #print(visit)\n",
    "\n",
    "    count = 0\n",
    "    rows = len(grid)\n",
    "    cols = len(grid[0])\n",
    "    visit = set()\n",
    "\n",
    "    for r in range(rows):\n",
    "        for c in range(cols):\n",
    "            if grid[r][c] == 1 and (r,c) not in visit:\n",
    "                bfs(r,c)\n",
    "                count+=1\n",
    "\n",
    "    return count\n",
    "\n",
    "\n",
    "print(numberOfIslands(\n",
    "    [\n",
    "        [1,1,1,1,0],\n",
    "        [1,1,0,1,0],\n",
    "        [1,1,0,0,0],\n",
    "        [0,0,0,0,1]]))"
   ],
   "id": "f5c46807d2fb8aab",
   "outputs": [
    {
     "name": "stdout",
     "output_type": "stream",
     "text": [
      "deque([(1, 0)])\n",
      "deque([(1, 0), (0, 1)])\n",
      "deque([(0, 1), (2, 0)])\n",
      "deque([(0, 1), (2, 0), (1, 1)])\n",
      "deque([(2, 0), (1, 1), (0, 2)])\n",
      "deque([(1, 1), (0, 2), (2, 1)])\n",
      "deque([(2, 1), (0, 3)])\n",
      "deque([(1, 3)])\n",
      "2\n"
     ]
    }
   ],
   "execution_count": 34
  },
  {
   "metadata": {},
   "cell_type": "code",
   "outputs": [],
   "execution_count": null,
   "source": [
    "\"\"\"\n",
    "Q9 Best time to buy and sell a stock\n",
    "You are given an array prices where prices[i] is the price of the given stock on the ith day\n",
    "You want to maximize your profit by choosing a single day to buy one stock and choosing a different day in the future to sell that stock\n",
    "Return maximum profit you can achieve from this transaction. If you cannot achieve any profit return 0\n",
    "Note that buying on day 2 and selling on day 1 is not allowed because you must buy before you sell\n",
    "\"\"\"\n",
    "\n",
    "def bestTimeToBuy(prices):\n",
    "     pass\n"
   ],
   "id": "13f0c6c2c13bc97"
  }
 ],
 "metadata": {
  "kernelspec": {
   "display_name": "Python 3",
   "language": "python",
   "name": "python3"
  },
  "language_info": {
   "codemirror_mode": {
    "name": "ipython",
    "version": 2
   },
   "file_extension": ".py",
   "mimetype": "text/x-python",
   "name": "python",
   "nbconvert_exporter": "python",
   "pygments_lexer": "ipython2",
   "version": "2.7.6"
  }
 },
 "nbformat": 4,
 "nbformat_minor": 5
}
