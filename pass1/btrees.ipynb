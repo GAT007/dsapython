{
 "cells": [
  {
   "cell_type": "code",
   "id": "initial_id",
   "metadata": {
    "collapsed": true,
    "ExecuteTime": {
     "end_time": "2025-02-12T03:44:49.374582Z",
     "start_time": "2025-02-12T03:44:49.365970Z"
    }
   },
   "source": [
    "class TreeNode:\n",
    "    def __init__(self, val, left = None, right = None):\n",
    "        self.val = val\n",
    "        self.left = left\n",
    "        self.right = right"
   ],
   "outputs": [],
   "execution_count": 1
  },
  {
   "metadata": {
    "ExecuteTime": {
     "end_time": "2025-02-12T03:55:12.928347Z",
     "start_time": "2025-02-12T03:55:12.916980Z"
    }
   },
   "cell_type": "code",
   "source": [
    "def averageOfLevels(root):\n",
    "     pass"
   ],
   "id": "9e87bcee1368afbe",
   "outputs": [],
   "execution_count": 2
  },
  {
   "metadata": {
    "ExecuteTime": {
     "end_time": "2025-02-12T03:57:00.703953Z",
     "start_time": "2025-02-12T03:57:00.695292Z"
    }
   },
   "cell_type": "code",
   "source": [
    "from collections import deque\n",
    "def largest_node_binary_tree(root):\n",
    "\n",
    "    queue = deque([root])\n",
    "    max_node = 0\n",
    "    while queue:\n",
    "        curr_node = queue.popleft()\n",
    "\n",
    "        if curr_node.left:\n",
    "            queue.append(curr_node.left)\n",
    "\n",
    "        if curr_node.right:\n",
    "            queue.append(curr_node.right)\n",
    "\n",
    "        if curr_node.val > max_node:\n",
    "            max_node = curr_node.val\n",
    "\n",
    "    return max_node"
   ],
   "id": "295f9176b94880e4",
   "outputs": [],
   "execution_count": 3
  },
  {
   "metadata": {
    "ExecuteTime": {
     "end_time": "2025-02-12T04:03:36.596822Z",
     "start_time": "2025-02-12T04:03:36.570107Z"
    }
   },
   "cell_type": "code",
   "source": [
    "def levelOrderTraversal(root):\n",
    "    if root == None:\n",
    "        return []\n",
    "\n",
    "    queue = deque([root])\n",
    "\n",
    "    tree = []\n",
    "\n",
    "    while queue:\n",
    "        level = []\n",
    "        for i in range(len(queue)):\n",
    "\n",
    "            node = queue.popleft()\n",
    "            level.append(node.val)\n",
    "\n",
    "            if node.left:\n",
    "                queue.append(node.left)\n",
    "\n",
    "            if node.right:\n",
    "                queue.append(node.right)\n",
    "\n",
    "\n",
    "        tree.append(level)\n",
    "\n",
    "    return tree\n",
    "\n",
    "#TC : O(n) for both time and space\n",
    "\"\"\"\n",
    "BFS : Queue\n",
    "DFS : Stack\n",
    "\"\"\""
   ],
   "id": "6b400ca41f9ac676",
   "outputs": [
    {
     "data": {
      "text/plain": [
       "'\\nBFS : Queue\\nDFS : Stack\\n'"
      ]
     },
     "execution_count": 5,
     "metadata": {},
     "output_type": "execute_result"
    }
   ],
   "execution_count": 5
  },
  {
   "metadata": {},
   "cell_type": "code",
   "outputs": [],
   "execution_count": null,
   "source": "",
   "id": "b9fc3fed06846d07"
  }
 ],
 "metadata": {
  "kernelspec": {
   "display_name": "Python 3",
   "language": "python",
   "name": "python3"
  },
  "language_info": {
   "codemirror_mode": {
    "name": "ipython",
    "version": 2
   },
   "file_extension": ".py",
   "mimetype": "text/x-python",
   "name": "python",
   "nbconvert_exporter": "python",
   "pygments_lexer": "ipython2",
   "version": "2.7.6"
  }
 },
 "nbformat": 4,
 "nbformat_minor": 5
}
