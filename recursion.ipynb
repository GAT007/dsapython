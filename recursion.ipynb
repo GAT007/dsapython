{
 "cells": [
  {
   "metadata": {
    "ExecuteTime": {
     "end_time": "2025-01-12T20:30:54.175196Z",
     "start_time": "2025-01-12T20:30:54.164182Z"
    }
   },
   "cell_type": "code",
   "source": [
    "def factorial(n):\n",
    "    if n == 0:\n",
    "        return 1\n",
    "    return n * factorial(n-1)"
   ],
   "id": "9bb7ea5d48a0d15c",
   "outputs": [],
   "execution_count": 3
  },
  {
   "cell_type": "code",
   "id": "initial_id",
   "metadata": {
    "collapsed": true,
    "ExecuteTime": {
     "end_time": "2025-01-12T20:30:56.210834Z",
     "start_time": "2025-01-12T20:30:56.203115Z"
    }
   },
   "source": "print(factorial(5))",
   "outputs": [
    {
     "name": "stdout",
     "output_type": "stream",
     "text": [
      "120\n"
     ]
    }
   ],
   "execution_count": 4
  },
  {
   "metadata": {
    "ExecuteTime": {
     "end_time": "2025-01-12T20:38:32.559961Z",
     "start_time": "2025-01-12T20:38:32.551176Z"
    }
   },
   "cell_type": "code",
   "source": [
    "def cum_sum(n):\n",
    "    if n==0:\n",
    "        return 0\n",
    "    return n + cum_sum(n-1)\n",
    "print(cum_sum(5))"
   ],
   "id": "8079f3d785091d2d",
   "outputs": [
    {
     "name": "stdout",
     "output_type": "stream",
     "text": [
      "15\n"
     ]
    }
   ],
   "execution_count": 5
  },
  {
   "metadata": {
    "ExecuteTime": {
     "end_time": "2025-01-12T20:41:54.795057Z",
     "start_time": "2025-01-12T20:41:54.786676Z"
    }
   },
   "cell_type": "code",
   "source": [
    "def mod_sum(n):\n",
    "    if n < 10:\n",
    "        return n\n",
    "    return n%10 + mod_sum(int(n/10))\n",
    "print(mod_sum(123))"
   ],
   "id": "f9c7783ea01dde21",
   "outputs": [
    {
     "name": "stdout",
     "output_type": "stream",
     "text": [
      "6\n"
     ]
    }
   ],
   "execution_count": 8
  },
  {
   "metadata": {
    "ExecuteTime": {
     "end_time": "2025-01-13T01:41:24.183869Z",
     "start_time": "2025-01-13T01:41:24.176834Z"
    }
   },
   "cell_type": "code",
   "source": [
    "#Reverse a string using recursion\n",
    "def reverse_string(s):\n",
    "    if len(s) == 1:\n",
    "        return s\n",
    "    return s[-1] + reverse_string(s[:-1])\n",
    "\n",
    "print(reverse_string(\"Arpitha\"))"
   ],
   "id": "486e7ae1ea553dac",
   "outputs": [
    {
     "name": "stdout",
     "output_type": "stream",
     "text": [
      "ahtiprA\n"
     ]
    }
   ],
   "execution_count": 13
  },
  {
   "metadata": {
    "ExecuteTime": {
     "end_time": "2025-01-13T01:58:25.016412Z",
     "start_time": "2025-01-13T01:58:25.003239Z"
    }
   },
   "cell_type": "code",
   "source": [
    "#String permutation using recursion\n",
    "def permute(s):\n",
    "    out = []\n",
    "    if len(s) == 1:\n",
    "        out = [s]\n",
    "    else:\n",
    "        #For every letter in string\n",
    "        for i, let in enumerate(s):\n",
    "            for perm in permute(s[:i] + s[i+1:]):\n",
    "                out+=[let+perm]\n",
    "\n",
    "    return(out)\n",
    "permute('abc')"
   ],
   "id": "9d28442cd08ec460",
   "outputs": [
    {
     "data": {
      "text/plain": [
       "['abc', 'acb', 'bac', 'bca', 'cab', 'cba']"
      ]
     },
     "execution_count": 18,
     "metadata": {},
     "output_type": "execute_result"
    }
   ],
   "execution_count": 18
  },
  {
   "metadata": {},
   "cell_type": "code",
   "outputs": [],
   "execution_count": null,
   "source": "",
   "id": "926d72d88b5293d9"
  }
 ],
 "metadata": {
  "kernelspec": {
   "display_name": "Python 3",
   "language": "python",
   "name": "python3"
  },
  "language_info": {
   "codemirror_mode": {
    "name": "ipython",
    "version": 2
   },
   "file_extension": ".py",
   "mimetype": "text/x-python",
   "name": "python",
   "nbconvert_exporter": "python",
   "pygments_lexer": "ipython2",
   "version": "2.7.6"
  }
 },
 "nbformat": 4,
 "nbformat_minor": 5
}
