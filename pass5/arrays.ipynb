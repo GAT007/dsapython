{
 "cells": [
  {
   "metadata": {},
   "cell_type": "markdown",
   "source": [
    "# Basic Python Data Structures\n",
    "There are 4 major data structures in python\n",
    "\n",
    "Lists : list1 = [] Common functions : append(),insert(i,x) extend(), [i]=x remove()\n",
    "\n",
    "Dictionaries : dict1 = {} CF : dict1[key]=value\n",
    "\n",
    "Tuples : tuple1 = () CF = tuple = (a,b) tuple[i]\n",
    "\n",
    "Sets : set1 = set() set.add(x) set={a,b}"
   ],
   "id": "b8bf3564fee9084"
  },
  {
   "metadata": {},
   "cell_type": "markdown",
   "source": [
    "# Arrays\n",
    "\n",
    "Mostly using lists and sets, one of the common things to do is to sort it, that usually helps with the problem"
   ],
   "id": "49d1c249b2e7f994"
  },
  {
   "cell_type": "code",
   "id": "initial_id",
   "metadata": {
    "collapsed": true,
    "ExecuteTime": {
     "end_time": "2025-05-02T16:23:09.341507Z",
     "start_time": "2025-05-02T16:23:09.328129Z"
    }
   },
   "source": [
    "\"\"\"\n",
    "Duplicate Values\n",
    "\n",
    "Find if an array contains duplicate values\n",
    "\"\"\"\n",
    "\n",
    "\n",
    "def duplicate_values(nums):\n",
    "    set_nums = set(nums)\n",
    "    if len(nums) != len(set_nums):\n",
    "        return False\n",
    "    else:\n",
    "        return True\n",
    "\n",
    "\n",
    "print(duplicate_values([1, 2, 3, 1]))"
   ],
   "outputs": [
    {
     "name": "stdout",
     "output_type": "stream",
     "text": [
      "False\n"
     ]
    }
   ],
   "execution_count": 2
  },
  {
   "metadata": {
    "ExecuteTime": {
     "end_time": "2025-05-02T16:34:12.231940Z",
     "start_time": "2025-05-02T16:34:12.219651Z"
    }
   },
   "cell_type": "code",
   "source": [
    "\"\"\"\n",
    "Missing Number\n",
    "Given an array nums containing n distinct numbers in the range[0,n] return the only number in the range that is missing from the array\n",
    "\"\"\"\n",
    "\n",
    "\n",
    "def missingNumber(nums: list[int]):\n",
    "    return sum(range(len(nums) + 1)) - sum(nums)\n",
    "\n",
    "\n",
    "print(missingNumber([3, 0, 1]))"
   ],
   "id": "e48e86cc16fade45",
   "outputs": [
    {
     "name": "stdout",
     "output_type": "stream",
     "text": [
      "2\n"
     ]
    }
   ],
   "execution_count": 4
  },
  {
   "metadata": {
    "ExecuteTime": {
     "end_time": "2025-05-03T22:21:16.026502Z",
     "start_time": "2025-05-03T22:21:16.018714Z"
    }
   },
   "cell_type": "code",
   "source": [
    "\"\"\"\n",
    "Find all the missing numbers\n",
    "Given an array nums of n integers where nums[i] is in the range [1,n] return an array of all the integers in the range [1, n] that do not appear in nums\n",
    "\"\"\"\n",
    "\n",
    "\n",
    "def missing_numbers(nums):\n",
    "    set_nums = set(nums)\n",
    "    ret = []\n",
    "    for i in range(1, len(nums) + 1):\n",
    "        if i not in set_nums:\n",
    "            ret.append(i)\n",
    "\n",
    "    return ret\n",
    "\n",
    "\n",
    "print(missing_numbers([5, 3, 2, 1]))\n"
   ],
   "id": "51c557d598233bc2",
   "outputs": [
    {
     "name": "stdout",
     "output_type": "stream",
     "text": [
      "[4]\n"
     ]
    }
   ],
   "execution_count": 3
  },
  {
   "metadata": {
    "ExecuteTime": {
     "end_time": "2025-05-03T22:32:12.531741Z",
     "start_time": "2025-05-03T22:32:12.522002Z"
    }
   },
   "cell_type": "code",
   "source": [
    "\"\"\"\n",
    "Two Sum\n",
    "\"\"\"\n",
    "\n",
    "\n",
    "def two_sum(tgt, nums):\n",
    "    num_dict = {}\n",
    "    for idx, num in enumerate(nums):\n",
    "        if (tgt - num) in num_dict:\n",
    "            return idx, num_dict[tgt - num]\n",
    "        else:\n",
    "            num_dict[num] = idx\n",
    "\n",
    "\n",
    "print(two_sum(7, [4, 3, 2, 7, 8, 2, 3, 1]))"
   ],
   "id": "d37dc41b736e717c",
   "outputs": [
    {
     "name": "stdout",
     "output_type": "stream",
     "text": [
      "(1, 0)\n"
     ]
    }
   ],
   "execution_count": 4
  },
  {
   "metadata": {
    "ExecuteTime": {
     "end_time": "2025-05-03T22:41:13.045135Z",
     "start_time": "2025-05-03T22:41:13.035121Z"
    }
   },
   "cell_type": "code",
   "source": [
    "\"\"\"\n",
    "How many numbers are smaller than the current number?\n",
    "\"\"\"\n",
    "\n",
    "\n",
    "def smaller_numer(nums):\n",
    "    sorted_nums = sorted(nums)\n",
    "    d = {}\n",
    "\n",
    "    for i, num in enumerate(sorted_nums):\n",
    "        if num not in d:\n",
    "            d[num] = i\n",
    "\n",
    "    ret = []\n",
    "\n",
    "    for i in nums:\n",
    "        ret.append(d[i])\n",
    "\n",
    "    return ret\n",
    "\n",
    "\n",
    "print(smaller_numer([5, 3, 8, 6, 2, 1]))\n",
    "print(\"Time complexity : O(n log n)\")"
   ],
   "id": "dc3d64226499d31",
   "outputs": [
    {
     "name": "stdout",
     "output_type": "stream",
     "text": [
      "[3, 2, 5, 4, 1, 0]\n",
      "Time complexity : O(n log n)\n"
     ]
    }
   ],
   "execution_count": 7
  },
  {
   "metadata": {
    "ExecuteTime": {
     "end_time": "2025-05-04T14:12:07.613214Z",
     "start_time": "2025-05-04T14:12:07.602886Z"
    }
   },
   "cell_type": "code",
   "source": [
    "\"\"\"\n",
    "Spiral matrix\n",
    "\"\"\"\n",
    "\n",
    "\n",
    "def spiral_matrix(matrix):\n",
    "    ret = []\n",
    "    while matrix:\n",
    "        ret.extend(matrix.pop(0))\n",
    "        if matrix:\n",
    "            for row in matrix: ret.append(row.pop())\n",
    "        if matrix:\n",
    "            reversed = matrix.pop()[::-1]\n",
    "            ret.extend(reversed)\n",
    "        if matrix:\n",
    "            for row in matrix: ret.append(row.pop(0))\n",
    "\n",
    "    return (ret)\n",
    "\n",
    "\n",
    "print(spiral_matrix([[1, 2, 3], [4, 5, 6], [7, 8, 9]]))"
   ],
   "id": "512f38bc11de457f",
   "outputs": [
    {
     "name": "stdout",
     "output_type": "stream",
     "text": [
      "[1, 2, 3, 6, 9, 8, 7, 4, 5]\n"
     ]
    }
   ],
   "execution_count": 1
  },
  {
   "metadata": {},
   "cell_type": "markdown",
   "source": [
    "# BFS and DFS\n",
    "\n",
    "## Breadth First Search\n",
    "\n",
    "Traverse through one level of children nodes, keep going over this level by level, uses a queue for it's implementation\n",
    "\n",
    "## Depth First Search\n",
    "\n",
    "Traverse through the left subtree first, then traverse through the right subtree, this uses a stack\n",
    "\n",
    "Let's go through naive implementations for both"
   ],
   "id": "3bc5902ce06ad305"
  },
  {
   "metadata": {
    "ExecuteTime": {
     "end_time": "2025-05-04T17:49:11.186193Z",
     "start_time": "2025-05-04T17:49:11.174207Z"
    }
   },
   "cell_type": "code",
   "source": [
    "\"\"\"\n",
    "BFS : For a graph\n",
    "\"\"\"\n",
    "from collections import deque, defaultdict\n",
    "\n",
    "\n",
    "def bfs(graph, start):\n",
    "    visited = set()\n",
    "    q = deque([start])\n",
    "    result = []\n",
    "\n",
    "    while q:\n",
    "        node = q.popleft()\n",
    "        if node not in visited:\n",
    "            visited.add(node)\n",
    "            result.append(node)\n",
    "            for neighbor in graph[node]:\n",
    "                if neighbor not in visited:\n",
    "                    q.append(neighbor)\n",
    "\n",
    "    return result\n",
    "\n",
    "\n",
    "graph = {\n",
    "    'A': ['B', 'C'],\n",
    "    'B': ['D', 'E'],\n",
    "    'C': ['F'],\n",
    "    'D': [],\n",
    "    'E': ['F'],\n",
    "    'F': []\n",
    "}\n",
    "\n",
    "print(bfs(graph, 'A'))"
   ],
   "id": "b8e74cada7fb64c7",
   "outputs": [
    {
     "name": "stdout",
     "output_type": "stream",
     "text": [
      "['A', 'B', 'C', 'D', 'E', 'F']\n"
     ]
    }
   ],
   "execution_count": 2
  },
  {
   "metadata": {
    "ExecuteTime": {
     "end_time": "2025-05-04T17:57:10.569753Z",
     "start_time": "2025-05-04T17:57:10.556810Z"
    }
   },
   "cell_type": "code",
   "source": [
    "\"\"\"\n",
    "BFS for a binary tree\n",
    "\"\"\"\n",
    "from collections import deque\n",
    "\n",
    "\n",
    "class TreeNode:\n",
    "    def __init__(self, val):\n",
    "        self.val = val\n",
    "        self.left = None\n",
    "        self.right = None\n",
    "\n",
    "\n",
    "def bfs_tree(root):\n",
    "    if not root:\n",
    "        return []\n",
    "\n",
    "    q = deque([root])\n",
    "    result = []\n",
    "\n",
    "    while q:\n",
    "        node = q.popleft()\n",
    "        result.append(node.val)\n",
    "\n",
    "        if node.left: q.append(node.left)\n",
    "        if node.right: q.append(node.right)\n",
    "\n",
    "    return result\n",
    "\n",
    "\n",
    "root = TreeNode(1)\n",
    "root.left = TreeNode(2)\n",
    "root.right = TreeNode(3)\n",
    "root.left.left = TreeNode(4)\n",
    "root.left.right = TreeNode(5)\n",
    "root.right.right = TreeNode(6)\n",
    "\n",
    "print(bfs_tree(root))\n"
   ],
   "id": "6562b33c7ab5765d",
   "outputs": [
    {
     "name": "stdout",
     "output_type": "stream",
     "text": [
      "[1, 2, 3, 4, 5, 6]\n"
     ]
    }
   ],
   "execution_count": 3
  },
  {
   "metadata": {
    "ExecuteTime": {
     "end_time": "2025-05-04T17:59:44.256439Z",
     "start_time": "2025-05-04T17:59:44.242627Z"
    }
   },
   "cell_type": "code",
   "source": [
    "def dfs_preorder(node, result):\n",
    "    if node:\n",
    "        result.append(node.val)\n",
    "        dfs_preorder(node.left, result)\n",
    "        dfs_preorder(node.right, result)\n",
    "\n",
    "\n",
    "def dfs_inorder(node, result):\n",
    "    if node:\n",
    "        dfs_inorder(node.left, result)\n",
    "        result.append(node.val)\n",
    "        dfs_inorder(node.right, result)\n",
    "\n",
    "\n",
    "def dfs_postorder(node, result):\n",
    "    if node:\n",
    "        dfs_postorder(node.left, result)\n",
    "        dfs_postorder(node.right, result)\n",
    "        result.append(node.val)\n",
    "\n",
    "\n",
    "root = TreeNode(1)\n",
    "root.left = TreeNode(2)\n",
    "root.right = TreeNode(3)\n",
    "root.left.left = TreeNode(4)\n",
    "root.left.right = TreeNode(5)\n",
    "\n",
    "pre, ino, post = [], [], []\n",
    "dfs_preorder(root, pre)\n",
    "dfs_inorder(root, ino)\n",
    "dfs_postorder(root, post)\n",
    "\n",
    "print(\"Preorder:\", pre)  # [1, 2, 4, 5, 3]\n",
    "print(\"Inorder:\", ino)  # [4, 2, 5, 1, 3]\n",
    "print(\"Postorder:\", post)  # [4, 5, 2, 3, 1]\n"
   ],
   "id": "4c7e53bb17b529b5",
   "outputs": [
    {
     "name": "stdout",
     "output_type": "stream",
     "text": [
      "Preorder: [1, 2, 4, 5, 3]\n",
      "Inorder: [4, 2, 5, 1, 3]\n",
      "Postorder: [4, 5, 2, 3, 1]\n"
     ]
    }
   ],
   "execution_count": 4
  },
  {
   "metadata": {},
   "cell_type": "code",
   "outputs": [],
   "execution_count": null,
   "source": [
    "\"\"\"\n",
    "Number of islands\n",
    "\"\"\"\n",
    "from collections import deque\n",
    "\n",
    "\n",
    "def number_of_islands(grid):\n",
    "    count = 0\n",
    "    rows = len(grid)\n",
    "    cols = len(grid[0])\n",
    "    visited = set()\n",
    "\n",
    "    def bfs(r, c):\n",
    "        q = deque()\n",
    "        visited.add((r, c))\n",
    "        q.append((r, c))\n",
    "        directions = [[1, 0], [-1, 0], [0, 1], [0, -1]]\n",
    "\n",
    "        while q:\n",
    "            row, col = q.popleft()\n",
    "            for dr, dc in directions:\n",
    "                ro, co = row + dr, col + dc\n",
    "                if (ro in range(rows) and co in range(cols) and grid[ro][co] == '1' and (ro, co) not in visited):\n",
    "                    q.append((ro, co))\n",
    "                    visited.add((ro, co))\n",
    "\n",
    "    for r in range(rows):\n",
    "        for c in range(cols):\n",
    "            if grid[r][c] == '1' and (r, c) not in visited:\n",
    "                bfs(r, c)\n",
    "                count += 1\n",
    "\n",
    "    return count"
   ],
   "id": "eab3e8671e46b66b"
  },
  {
   "metadata": {},
   "cell_type": "markdown",
   "source": "# Two Pointer Technique for problems",
   "id": "a9df6ec70fb3ed63"
  },
  {
   "metadata": {},
   "cell_type": "code",
   "outputs": [],
   "execution_count": null,
   "source": "",
   "id": "de2c72fa62738db7"
  }
 ],
 "metadata": {
  "kernelspec": {
   "display_name": "Python 3",
   "language": "python",
   "name": "python3"
  },
  "language_info": {
   "codemirror_mode": {
    "name": "ipython",
    "version": 2
   },
   "file_extension": ".py",
   "mimetype": "text/x-python",
   "name": "python",
   "nbconvert_exporter": "python",
   "pygments_lexer": "ipython2",
   "version": "2.7.6"
  }
 },
 "nbformat": 4,
 "nbformat_minor": 5
}
