{
 "cells": [
  {
   "metadata": {},
   "cell_type": "markdown",
   "source": "# Arrays",
   "id": "eccabd4a84f76a87"
  },
  {
   "cell_type": "code",
   "id": "initial_id",
   "metadata": {
    "collapsed": true,
    "ExecuteTime": {
     "end_time": "2025-04-08T13:58:30.072959Z",
     "start_time": "2025-04-08T13:58:30.060098Z"
    }
   },
   "source": [
    "\"\"\"\n",
    "Duplicate values\n",
    "\"\"\"\n",
    "\n",
    "\n",
    "def duplicate_values(nums):\n",
    "    set_nums = set(nums)\n",
    "    if len(nums) != len(set_nums):\n",
    "        return True\n",
    "    return False"
   ],
   "outputs": [],
   "execution_count": 1
  },
  {
   "metadata": {
    "ExecuteTime": {
     "end_time": "2025-04-08T14:01:43.192279Z",
     "start_time": "2025-04-08T14:01:43.173267Z"
    }
   },
   "cell_type": "code",
   "source": [
    "\"\"\"\n",
    "Missing number\n",
    "\"\"\"\n",
    "\n",
    "\n",
    "def missing_number(n, nums):\n",
    "    total_sum = 0\n",
    "    for i in range(1, n):\n",
    "        total_sum += i\n",
    "    array_sum = 0\n",
    "    for i in nums:\n",
    "        array_sum += i\n",
    "    return total_sum - array_sum"
   ],
   "id": "bfc740ff25aa90be",
   "outputs": [],
   "execution_count": 2
  },
  {
   "metadata": {
    "ExecuteTime": {
     "end_time": "2025-04-08T14:06:41.913792Z",
     "start_time": "2025-04-08T14:06:41.905276Z"
    }
   },
   "cell_type": "code",
   "source": [
    "\"\"\"\n",
    "Find all missing numbers\n",
    "\"\"\"\n",
    "\n",
    "\n",
    "def findMissingNumbers(nums, n):\n",
    "    set_nums = set(nums)\n",
    "    ret = []\n",
    "    for i in range(0, n):\n",
    "        if i not in set_nums:\n",
    "            ret.append(i)\n",
    "    return ret\n"
   ],
   "id": "2e4c6c67d0e32854",
   "outputs": [],
   "execution_count": 3
  },
  {
   "metadata": {
    "ExecuteTime": {
     "end_time": "2025-04-08T14:10:45.061182Z",
     "start_time": "2025-04-08T14:10:45.054308Z"
    }
   },
   "cell_type": "code",
   "source": [
    "\"\"\"\n",
    "Two Sum\n",
    "\"\"\"\n",
    "\n",
    "\n",
    "def two_sum(nums, target):\n",
    "    nums_dict = {}\n",
    "    for idx, elem in enumerate(nums):\n",
    "        if target - elem in nums_dict:\n",
    "            return nums_dict[target - elem], idx\n",
    "        else:\n",
    "            nums_dict[elem] = idx\n",
    "\n",
    "    return -1\n"
   ],
   "id": "d97dfd9c52eed206",
   "outputs": [],
   "execution_count": 4
  },
  {
   "metadata": {
    "ExecuteTime": {
     "end_time": "2025-04-08T14:17:24.616937Z",
     "start_time": "2025-04-08T14:17:24.606657Z"
    }
   },
   "cell_type": "code",
   "source": [
    "\"\"\"\n",
    "Smaller than current number\n",
    "Sort create dictionary of element:idx, iterate through nums while fetching from idx to return array\n",
    "\"\"\"\n",
    "\n",
    "from collections import defaultdict\n",
    "\n",
    "\n",
    "def smaller(nums):\n",
    "    sorted_nums = sorted(nums)\n",
    "    nums_dict = defaultdict(int)\n",
    "    for idx, num in enumerate(sorted_nums):\n",
    "        nums_dict[num] = idx\n",
    "\n",
    "    ret = []\n",
    "    for num in nums:\n",
    "        ret.append(nums_dict[num])\n",
    "\n",
    "    return ret"
   ],
   "id": "411fa1c0eb27daaf",
   "outputs": [],
   "execution_count": 5
  },
  {
   "metadata": {
    "ExecuteTime": {
     "end_time": "2025-04-08T15:00:24.623719Z",
     "start_time": "2025-04-08T15:00:24.610336Z"
    }
   },
   "cell_type": "code",
   "source": [
    "\"\"\"\n",
    "Minimum time visiting all points\n",
    "\"\"\"\n",
    "points = [[1, 1], [3, 4], [-1, 0]]\n",
    "\n",
    "\n",
    "def minTimeToVisitAllPoints(points) -> int:\n",
    "    res = 0\n",
    "    x1, y1 = points.pop()\n",
    "    while points:\n",
    "        x2, y2 = points.pop()\n",
    "        res += max(abs(y2 - y1), abs(x2 - x1))\n",
    "        x1, y1 = x2, y2\n",
    "    return res"
   ],
   "id": "c9a03652b22e390",
   "outputs": [],
   "execution_count": 7
  },
  {
   "metadata": {
    "ExecuteTime": {
     "end_time": "2025-04-08T15:07:14.664683Z",
     "start_time": "2025-04-08T15:07:14.647436Z"
    }
   },
   "cell_type": "code",
   "source": [
    "\"\"\"\n",
    "Spiral matrix\n",
    "\"\"\"\n",
    "\n",
    "\n",
    "def spiral(matrix):\n",
    "    ret = []\n",
    "    while matrix:\n",
    "        ret.extend(matrix.pop(0))\n",
    "\n",
    "        if matrix:\n",
    "            for row in matrix: ret.append(row.pop())\n",
    "\n",
    "        if matrix:\n",
    "            row = matrix.pop()\n",
    "            ret.extend(row[::-1])\n",
    "\n",
    "        if matrix:\n",
    "            for row in matrix[::-1]: ret.append(row.pop(0))\n",
    "\n",
    "    return ret"
   ],
   "id": "49cadd76e7b06992",
   "outputs": [
    {
     "ename": "SyntaxError",
     "evalue": "'(' was never closed (1132765161.py, line 19)",
     "output_type": "error",
     "traceback": [
      "\u001B[0;36m  Cell \u001B[0;32mIn[8], line 19\u001B[0;36m\u001B[0m\n\u001B[0;31m    for row in matrix: ret.append(row.pop(0)\u001B[0m\n\u001B[0m                                 ^\u001B[0m\n\u001B[0;31mSyntaxError\u001B[0m\u001B[0;31m:\u001B[0m '(' was never closed\n"
     ]
    }
   ],
   "execution_count": 8
  },
  {
   "metadata": {},
   "cell_type": "code",
   "outputs": [],
   "execution_count": null,
   "source": [
    "\"\"\"\n",
    "Number of islands\n",
    "\"\"\"\n",
    "from collections import deque\n",
    "\n",
    "\n",
    "def numberOfIslands(grid):\n",
    "    if not grid:\n",
    "        return 0\n",
    "\n",
    "    def bfs(r, c):\n",
    "\n",
    "        q = deque([(r, c)])\n",
    "        visit.add((r, c))\n",
    "\n",
    "        while q:\n",
    "            row, col = q.popleft()\n",
    "            directions = [[1, 0], [-1, 0], [0, 1], [0, -1]]\n",
    "            for dr, dc in directions:\n",
    "                r, c = row + dr, col + dc\n",
    "\n",
    "                if (r in range(row) and c in range(cols) and grid[r][c] == '1' and (r, c) not in visit):\n",
    "                    q.append((r, c))\n",
    "                    visit.add((r, c))\n",
    "\n",
    "    count = 0\n",
    "    rows = len(grid)\n",
    "    cols = len(grid[0])\n",
    "    visit = set()\n",
    "\n",
    "    for r in range(rows):\n",
    "        for c in range(cols):\n",
    "            if grid[r][c] == '1' and (r, c) not in visit:\n",
    "                bfs(r, c)\n",
    "                count += 1\n",
    "\n",
    "    return count"
   ],
   "id": "71f619d1f94c788e"
  },
  {
   "metadata": {},
   "cell_type": "markdown",
   "source": "## Two Pointers",
   "id": "57ec57aa4674251e"
  },
  {
   "metadata": {
    "ExecuteTime": {
     "end_time": "2025-04-08T15:44:38.285256Z",
     "start_time": "2025-04-08T15:44:38.276453Z"
    }
   },
   "cell_type": "code",
   "source": [
    "\"\"\"\n",
    "Best time to buy and sell stock\n",
    "\"\"\"\n",
    "\n",
    "\n",
    "def besttime(nums):\n",
    "    l = 0\n",
    "    r = 1\n",
    "    profit = 0\n",
    "    while r <= len(nums):\n",
    "        if nums[l] > nums[r]:\n",
    "            l = r\n",
    "        else:\n",
    "            profit = max(profit, nums[r] - nums[l])\n",
    "\n",
    "        r += 1\n",
    "    return profit"
   ],
   "id": "9ed145d703bcbfe9",
   "outputs": [],
   "execution_count": 9
  },
  {
   "metadata": {
    "ExecuteTime": {
     "end_time": "2025-04-08T15:52:04.627393Z",
     "start_time": "2025-04-08T15:52:04.619034Z"
    }
   },
   "cell_type": "code",
   "source": [
    "\"\"\"\n",
    "Squares of a sorted array\n",
    "\"\"\"\n",
    "\n",
    "from collections import deque\n",
    "\n",
    "\n",
    "def squares(nums):\n",
    "    l = 0\n",
    "    r = len(nums) - 1\n",
    "    ret = deque()\n",
    "    while l <= r:\n",
    "        left, right = abs(nums[r]), abs(nums[r])\n",
    "        if left > right:\n",
    "            ret.appendleft(left * left)\n",
    "            r -= 1\n",
    "        else:\n",
    "            ret.append(right * right)\n",
    "            l += 1\n",
    "    return ret"
   ],
   "id": "75e8abe3eef6812",
   "outputs": [],
   "execution_count": 10
  },
  {
   "metadata": {
    "ExecuteTime": {
     "end_time": "2025-04-08T18:15:30.480600Z",
     "start_time": "2025-04-08T18:15:30.468368Z"
    }
   },
   "cell_type": "code",
   "source": [
    "\"\"\"\n",
    "3 sum\n",
    "\"\"\"\n",
    "\n",
    "\n",
    "def three_sum(nums):\n",
    "    triplets = []\n",
    "\n",
    "    nums.sort()\n",
    "\n",
    "    for idx, val in enumerate(nums):\n",
    "\n",
    "        if idx > 0 & val == nums[idx - 10]:\n",
    "            continue\n",
    "\n",
    "        l = idx + 1\n",
    "        r = len(nums) - 1\n",
    "\n",
    "        while l < r:\n",
    "            currentsum = val + nums[l] + nums[r]\n",
    "            if currentsum > 0:\n",
    "                r -= 1\n",
    "            elif currentsum < 0:\n",
    "                l += 1\n",
    "            else:\n",
    "                triplets.append([val, nums[l], nums[r]])\n",
    "                l += 1\n",
    "                while l < r and nums[l] == nums[l - 1]:\n",
    "                    l += 1\n",
    "\n",
    "    return triplets\n",
    "\n",
    "\n"
   ],
   "id": "85819a4689965fcb",
   "outputs": [],
   "execution_count": 1
  },
  {
   "metadata": {
    "ExecuteTime": {
     "end_time": "2025-04-08T18:19:43.152193Z",
     "start_time": "2025-04-08T18:19:43.140020Z"
    }
   },
   "cell_type": "code",
   "source": [
    "\"\"\"\n",
    "Longest Mountain\n",
    "\"\"\"\n",
    "\n",
    "\n",
    "def longestmountain(nums):\n",
    "    ret = 0\n",
    "    for i in range(1, len(nums) - 1):\n",
    "        if nums[i - 1] < nums[i] > nums[i + 1]:\n",
    "            l = r = i\n",
    "\n",
    "            while l >= 0 and nums[l] < nums[i]:\n",
    "                l -= 1\n",
    "\n",
    "            while r < len(nums) and nums[r] < nums[i]:\n",
    "                r += 1\n",
    "\n",
    "            ret = max(ret, r - l + 1)\n",
    "\n",
    "    return ret\n"
   ],
   "id": "185be8836a5d6a6e",
   "outputs": [],
   "execution_count": 2
  },
  {
   "metadata": {},
   "cell_type": "markdown",
   "source": "## Sliding window",
   "id": "2b11003806c863dc"
  },
  {
   "metadata": {
    "ExecuteTime": {
     "end_time": "2025-04-08T21:06:58.122729Z",
     "start_time": "2025-04-08T21:06:57.970047Z"
    }
   },
   "cell_type": "code",
   "source": [
    "\"\"\"\n",
    "Contains Duplicate 2\n",
    "\"\"\"\n",
    "\n",
    "\n",
    "def duplicate2(nums, k):\n",
    "    seen = set()\n",
    "\n",
    "    for i, num in enumerate(nums):\n",
    "        if num in seen:\n",
    "            return True\n",
    "        seen.add(num)\n",
    "        if len(seen) > k:\n",
    "            seen.remove(nums[i - k])\n",
    "    return False\n"
   ],
   "id": "3a15403046368880",
   "outputs": [],
   "execution_count": 3
  },
  {
   "metadata": {
    "ExecuteTime": {
     "end_time": "2025-04-08T21:10:20.932520Z",
     "start_time": "2025-04-08T21:10:20.899696Z"
    }
   },
   "cell_type": "code",
   "source": [
    "\"\"\"\n",
    "Min absolute difference\n",
    "\"\"\"\n",
    "\n",
    "\n",
    "def mad(nums):\n",
    "    mini = float('inf')\n",
    "    sorted_nums = sorted(nums)\n",
    "    for i in range(1, len(sorted_nums)):\n",
    "        mini = min(mini, sorted_nums[i] - sorted_nums[i - 1])\n",
    "\n",
    "    res = []\n",
    "    for i in range(len(nums)):\n",
    "        if nums[i] - nums[i - 1] == mini:\n",
    "            res.append((nums[i], nums[i - 1]))\n",
    "\n",
    "    return res"
   ],
   "id": "98de9006ea66b012",
   "outputs": [],
   "execution_count": 4
  },
  {
   "metadata": {},
   "cell_type": "code",
   "outputs": [],
   "execution_count": null,
   "source": [
    "\"\"\"\n",
    "Min size subarray sum\n",
    "\"\"\"\n",
    "\n",
    "\n",
    "def mindiff(nums, t):\n",
    "    l = 0\n",
    "    total = 0\n",
    "    res = float('inf')\n",
    "\n",
    "    for r in range(len(nums)):\n",
    "        total += nums[r]\n",
    "\n",
    "        while total >= t:\n",
    "            res = min(res, r - l + 1)\n",
    "\n",
    "            total -= nums[l]\n",
    "            l += 1\n",
    "\n",
    "    if res == float('inf'):\n",
    "        return 0\n",
    "    else:\n",
    "        return res"
   ],
   "id": "3540e2c09445f6d6"
  }
 ],
 "metadata": {
  "kernelspec": {
   "display_name": "Python 3",
   "language": "python",
   "name": "python3"
  },
  "language_info": {
   "codemirror_mode": {
    "name": "ipython",
    "version": 2
   },
   "file_extension": ".py",
   "mimetype": "text/x-python",
   "name": "python",
   "nbconvert_exporter": "python",
   "pygments_lexer": "ipython2",
   "version": "2.7.6"
  }
 },
 "nbformat": 4,
 "nbformat_minor": 5
}
