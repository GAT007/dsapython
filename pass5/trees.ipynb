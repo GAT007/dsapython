{
 "cells": [
  {
   "metadata": {},
   "cell_type": "markdown",
   "source": "# Trees",
   "id": "272a67ff480b929d"
  },
  {
   "cell_type": "code",
   "id": "initial_id",
   "metadata": {
    "collapsed": true,
    "ExecuteTime": {
     "end_time": "2025-05-10T22:15:41.690728Z",
     "start_time": "2025-05-10T22:15:41.683038Z"
    }
   },
   "source": [
    "class TreeNode:\n",
    "    def __init__(self, value, left=None, right=None):\n",
    "        self.value = value\n",
    "        self.left = left\n",
    "        self.right = right"
   ],
   "outputs": [],
   "execution_count": 1
  },
  {
   "metadata": {
    "ExecuteTime": {
     "end_time": "2025-05-10T22:22:38.656361Z",
     "start_time": "2025-05-10T22:22:38.645828Z"
    }
   },
   "cell_type": "code",
   "source": [
    "\"\"\"\n",
    "Average of levels in a binary tree\n",
    "\"\"\"\n",
    "\n",
    "from collections import deque\n",
    "\n",
    "\n",
    "def averageOfLevels(root):\n",
    "    q = deque([root])\n",
    "    result = []\n",
    "\n",
    "    while q:\n",
    "        level = []\n",
    "        for i in range(len(q)):\n",
    "            node = q.popleft()\n",
    "            level.append(node.val)\n",
    "            if node.left: q.append(node.left)\n",
    "            if node.right: q.append(node.right)\n",
    "        result.append(sum(level) / len(level))\n",
    "    return result"
   ],
   "id": "3e3ee7a4a9a8b500",
   "outputs": [],
   "execution_count": 2
  },
  {
   "metadata": {
    "ExecuteTime": {
     "end_time": "2025-05-10T22:25:51.971346Z",
     "start_time": "2025-05-10T22:25:51.962812Z"
    }
   },
   "cell_type": "code",
   "source": [
    "\"\"\"\n",
    "Min depth of a binary tree\n",
    "\"\"\"\n",
    "\n",
    "\n",
    "def mindepth(root):\n",
    "    if not root:\n",
    "        return 0\n",
    "\n",
    "    q = deque([(root, 1)])\n",
    "\n",
    "    while q:\n",
    "        node, level = q.popleft()\n",
    "        if not node.left and not node.right:\n",
    "            return level\n",
    "\n",
    "        if node.left: q.append((node.left, level + 1))\n",
    "        if node.right: q.append((node.right, level + 1))\n",
    "\n",
    "    return 0"
   ],
   "id": "ec2f5da0f82d01ec",
   "outputs": [],
   "execution_count": 3
  },
  {
   "metadata": {
    "ExecuteTime": {
     "end_time": "2025-05-10T22:36:09.675951Z",
     "start_time": "2025-05-10T22:36:09.668124Z"
    }
   },
   "cell_type": "code",
   "source": [
    "\"\"\"\n",
    "\n",
    "Min depth of a binary tree\n",
    "\n",
    "\"\"\"\n",
    "\n",
    "\n",
    "def mindepth(root):\n",
    "    q = deque([root])\n",
    "    level = 0\n",
    "    while q:\n",
    "        for i in range(len(q)):\n",
    "            curr = q.popleft()\n",
    "            if curr.left == None and curr.right == None:\n",
    "                return level\n",
    "            else:\n",
    "                if curr.left: q.append(curr.left)\n",
    "                if curr.right: q.append(curr.right)\n",
    "        level += 1\n",
    "    return level"
   ],
   "id": "4abc138c583db1f2",
   "outputs": [],
   "execution_count": 4
  },
  {
   "metadata": {
    "ExecuteTime": {
     "end_time": "2025-05-10T22:49:46.297306Z",
     "start_time": "2025-05-10T22:49:46.287015Z"
    }
   },
   "cell_type": "code",
   "source": [
    "\"\"\"\n",
    "Maxmimum depth\n",
    "\"\"\"\n",
    "\"\"\"\n",
    "\n",
    "Min depth of a binary tree\n",
    "\n",
    "\"\"\"\n",
    "\n",
    "\n",
    "def maxdepth(root):\n",
    "    q = deque([root])\n",
    "    level = 0\n",
    "    while q:\n",
    "        for i in range(len(q)):\n",
    "            curr = q.popleft()\n",
    "            if curr.left: q.append(curr.left)\n",
    "            if curr.right: q.append(curr.right)\n",
    "        level += 1\n",
    "    return level"
   ],
   "id": "b5c5cceee13558cf",
   "outputs": [],
   "execution_count": 5
  },
  {
   "metadata": {
    "ExecuteTime": {
     "end_time": "2025-05-10T22:52:21.549745Z",
     "start_time": "2025-05-10T22:52:21.540787Z"
    }
   },
   "cell_type": "code",
   "source": [
    "def largest_node(root):\n",
    "    q = deque([root])\n",
    "    max = 0  #min = float('inf')\n",
    "    while q:\n",
    "        curr = q.popleft()\n",
    "        if curr.value >= max:\n",
    "            max = curr.value\n",
    "        if curr.left: q.append(curr.left)\n",
    "        if curr.right: q.append(curr.right)\n",
    "\n",
    "    return max\n",
    "\n"
   ],
   "id": "bafce99fe8b57d93",
   "outputs": [],
   "execution_count": 6
  },
  {
   "metadata": {
    "ExecuteTime": {
     "end_time": "2025-05-10T22:55:52.774004Z",
     "start_time": "2025-05-10T22:55:52.763241Z"
    }
   },
   "cell_type": "code",
   "source": [
    "def levelOrder(root):\n",
    "    q = deque([root])\n",
    "    res = []\n",
    "    while q:\n",
    "        levl = []\n",
    "        for i in range(len(q)):\n",
    "            curr = q.popleft()\n",
    "            levl.append(curr.value)\n",
    "            if curr.left: q.append(curr.left)\n",
    "            if curr.right: q.append(curr.right)\n",
    "        res.append(levl)\n",
    "\n",
    "    return res\n"
   ],
   "id": "cbaf6e0a82746a0",
   "outputs": [],
   "execution_count": 8
  },
  {
   "metadata": {
    "ExecuteTime": {
     "end_time": "2025-05-10T23:03:38.661460Z",
     "start_time": "2025-05-10T23:03:38.654113Z"
    }
   },
   "cell_type": "code",
   "source": [
    "\"\"\"\n",
    "Same Tree\n",
    "\"\"\"\n",
    "\n",
    "\n",
    "def sameTree(p, q):\n",
    "    stack = [(p, q)]\n",
    "\n",
    "    while stack:\n",
    "        node1, node2 = stack.pop()\n",
    "        if not node1 and not node2:\n",
    "            continue\n",
    "        if node1.val != node2.val:\n",
    "            return False\n",
    "\n",
    "        stack.append((node1.right, node2.right))\n",
    "        stack.append((node1.left, node2.left))\n",
    "\n",
    "    return True"
   ],
   "id": "af72bdaabc6d28f",
   "outputs": [],
   "execution_count": 9
  },
  {
   "metadata": {
    "ExecuteTime": {
     "end_time": "2025-05-11T01:48:37.432834Z",
     "start_time": "2025-05-11T01:48:37.416753Z"
    }
   },
   "cell_type": "code",
   "source": [
    "\"\"\"\n",
    "Path Sum\n",
    "\"\"\"\n",
    "\n",
    "\n",
    "def hasPathSum(root, target):\n",
    "    if not root:\n",
    "        return\n",
    "\n",
    "    stack = [(root, root.val)]\n",
    "\n",
    "    while stack:\n",
    "        curr, val = stack.pop()\n",
    "\n",
    "        if not curr.left and not curr.right and val == target:\n",
    "            return True\n",
    "\n",
    "        if curr.right: stack.append((curr.right, val + curr.right.val))\n",
    "        if curr.left: stack.append((curr.left, val + curr.left.val))\n",
    "\n",
    "    return False"
   ],
   "id": "e1d098c2243abd99",
   "outputs": [],
   "execution_count": 10
  },
  {
   "metadata": {
    "ExecuteTime": {
     "end_time": "2025-05-11T02:24:42.203261Z",
     "start_time": "2025-05-11T02:24:42.193971Z"
    }
   },
   "cell_type": "code",
   "source": [
    "\"\"\"\n",
    "Diameter of a binary tree\n",
    "\"\"\"\n",
    "\n",
    "\n",
    "def diameter(root):\n",
    "    di = 0\n",
    "\n",
    "    def depth(root):\n",
    "        nonlocal di\n",
    "        if not root:\n",
    "            return 0\n",
    "\n",
    "        left_depth = depth(root.left)\n",
    "        right_depth = depth(root.right)\n",
    "\n",
    "        di = max(di, left_depth + right_depth)\n",
    "\n",
    "        return 1 + max(left_depth, right_depth)\n",
    "\n",
    "    depth(root)\n",
    "    return di\n"
   ],
   "id": "424b89412bf2fafe",
   "outputs": [],
   "execution_count": 11
  },
  {
   "metadata": {
    "ExecuteTime": {
     "end_time": "2025-05-11T02:26:25.414998Z",
     "start_time": "2025-05-11T02:26:25.401436Z"
    }
   },
   "cell_type": "code",
   "source": [
    "\"\"\"\n",
    "Invert a binary tree\n",
    "\"\"\"\n",
    "\n",
    "\n",
    "def inverter(root):\n",
    "    stack = [root]\n",
    "    while stack:\n",
    "        curr = stack.pop()\n",
    "        if curr:\n",
    "            curr.left, curr.right = curr.right, curr.left\n",
    "            stack.extend([curr.right, curr.left])\n",
    "    return root"
   ],
   "id": "94690dc05fc471b9",
   "outputs": [],
   "execution_count": 12
  },
  {
   "metadata": {
    "ExecuteTime": {
     "end_time": "2025-05-11T13:47:28.436514Z",
     "start_time": "2025-05-11T13:47:28.416395Z"
    }
   },
   "cell_type": "code",
   "source": [
    "\"\"\"\n",
    "Mirror of a binary tree\n",
    "\"\"\"\n",
    "\n",
    "\n",
    "def is_mirror(node1, node2):\n",
    "    stack = [(node1, node2)]\n",
    "\n",
    "    while stack:\n",
    "        n1, n2 = stack.pop()\n",
    "\n",
    "        if not n1 and not n2:\n",
    "            continue\n",
    "\n",
    "        if not n1 or not n2:\n",
    "            return False\n",
    "\n",
    "        if n1.data != n2.data:\n",
    "            return False\n",
    "\n",
    "        stack.append((n1.left, n2.right))\n",
    "        stack.append((n1.right, n2.left))\n",
    "\n",
    "    return True"
   ],
   "id": "b1e76e6fe167dca",
   "outputs": [],
   "execution_count": 13
  },
  {
   "metadata": {},
   "cell_type": "code",
   "outputs": [],
   "execution_count": null,
   "source": [
    "\"\"\"\n",
    "Lowest Common Ancestor\n",
    "\"\"\"\n"
   ],
   "id": "23320772117f6"
  }
 ],
 "metadata": {
  "kernelspec": {
   "display_name": "Python 3",
   "language": "python",
   "name": "python3"
  },
  "language_info": {
   "codemirror_mode": {
    "name": "ipython",
    "version": 2
   },
   "file_extension": ".py",
   "mimetype": "text/x-python",
   "name": "python",
   "nbconvert_exporter": "python",
   "pygments_lexer": "ipython2",
   "version": "2.7.6"
  }
 },
 "nbformat": 4,
 "nbformat_minor": 5
}
