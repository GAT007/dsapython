{
 "cells": [
  {
   "metadata": {},
   "cell_type": "markdown",
   "source": [
    "# Heaps\n",
    "\n",
    "A complete binary tree data structure that satisfies the heap property for every node, the value of its children is less than or equal to its own value.\n",
    "Heaps are used to usually to implement priority queues, where the smallest(or largest) element is always at the root of the tree"
   ],
   "id": "3ac8641beac1aa8a"
  },
  {
   "cell_type": "code",
   "id": "initial_id",
   "metadata": {
    "collapsed": true,
    "ExecuteTime": {
     "end_time": "2025-05-11T15:03:27.865427Z",
     "start_time": "2025-05-11T15:03:27.850315Z"
    }
   },
   "source": [
    "\"\"\"\n",
    "Kth Largest element in an array\n",
    "\"\"\"\n",
    "\n",
    "import heapq\n",
    "\n",
    "#Using the built in nlargest function for heaps\n",
    "k = 5\n",
    "nums = [3, 2, 1, 4, 6, 8, 9]\n",
    "print(heapq.nlargest(k, nums))\n",
    "\n",
    "\n",
    "#Time complexity : O(k) + (n-k) X O(log k)\n",
    "\n",
    "#Heap of n size, pop k items\n",
    "def heaper(k, nums):\n",
    "    heap = []\n",
    "    for i in nums:\n",
    "        heapq.heappush(heap, i)\n",
    "\n",
    "    for i in range(len(nums) - k):\n",
    "        heapq.heappop(heap)\n",
    "\n",
    "    return heapq.heappop(heap)\n",
    "\n",
    "\n",
    "#Create a heap of k size, return root\n",
    "def heapksize(k, nums):\n",
    "    heap = nums[:k]\n",
    "    heapq.heapify(heap)\n",
    "\n",
    "    for num in nums[k:]:\n",
    "        if num > heap[0]:\n",
    "            heapq.heapreplace(heap, num)\n",
    "\n",
    "    return heap[0]"
   ],
   "outputs": [
    {
     "name": "stdout",
     "output_type": "stream",
     "text": [
      "[9, 8, 6, 4, 3]\n"
     ]
    }
   ],
   "execution_count": 1
  },
  {
   "metadata": {
    "ExecuteTime": {
     "end_time": "2025-05-11T15:45:55.777858Z",
     "start_time": "2025-05-11T15:45:55.765401Z"
    }
   },
   "cell_type": "code",
   "source": [
    "\"\"\"\n",
    "K points closest to the origin\n",
    "\"\"\"\n",
    "\n",
    "\n",
    "def kclosest(points):\n",
    "    heap = []\n",
    "    for (x, y) in points:\n",
    "        dist = -(x * x + y * y)\n",
    "        if len(heap) == k:\n",
    "            heapq.heappushpop(heap, (dist, x, y))\n",
    "        else:\n",
    "            heapq.heappush(heap, (dist, x, y))\n",
    "\n",
    "    return [(x, y) for (dist, x, y) in heap]\n",
    "\n"
   ],
   "id": "7be15968145ca288",
   "outputs": [],
   "execution_count": 2
  },
  {
   "metadata": {
    "ExecuteTime": {
     "end_time": "2025-05-11T16:09:39.519318Z",
     "start_time": "2025-05-11T16:09:39.511111Z"
    }
   },
   "cell_type": "code",
   "source": [
    "\"\"\"\n",
    "Top K frequent elements\n",
    "\"\"\"\n",
    "from collections import Counter\n",
    "\n",
    "\n",
    "def topkfrequent(k, nums):\n",
    "    count = Counter(nums)\n",
    "\n",
    "    heap = []\n",
    "    for num, freq in count.items():\n",
    "        if len(heap) < k:\n",
    "            heapq.heappush(heap, (freq, num))\n",
    "        elif freq > heap[0][0]:\n",
    "            heapq.heapreplace(heap, (freq, num))\n",
    "\n",
    "    top_k = [num for freq, num in heap]\n",
    "\n",
    "    return top_k\n"
   ],
   "id": "a640714ead03f311",
   "outputs": [],
   "execution_count": 3
  },
  {
   "metadata": {},
   "cell_type": "code",
   "outputs": [],
   "execution_count": null,
   "source": [
    "\"\"\"\n",
    "Task Scheduler\n",
    "\"\"\"\n",
    "\n"
   ],
   "id": "219defb3212e476b"
  }
 ],
 "metadata": {
  "kernelspec": {
   "display_name": "Python 3",
   "language": "python",
   "name": "python3"
  },
  "language_info": {
   "codemirror_mode": {
    "name": "ipython",
    "version": 2
   },
   "file_extension": ".py",
   "mimetype": "text/x-python",
   "name": "python",
   "nbconvert_exporter": "python",
   "pygments_lexer": "ipython2",
   "version": "2.7.6"
  }
 },
 "nbformat": 4,
 "nbformat_minor": 5
}
