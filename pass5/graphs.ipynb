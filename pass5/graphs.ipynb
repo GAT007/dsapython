{
 "cells": [
  {
   "metadata": {},
   "cell_type": "markdown",
   "source": [
    "# Graphs\n",
    "\n",
    "Graphs are composed of two items, vertices and edges\n",
    "You can create new vertices and add edges to them connecting them to other vertices\n",
    "\n",
    "To search through a graph, you need to either use a breadth first search or a depth first search.\n",
    "\n",
    "Technically speaking, a graph is more complex tree\n"
   ],
   "id": "9bc574b68261811d"
  },
  {
   "cell_type": "code",
   "id": "initial_id",
   "metadata": {
    "collapsed": true,
    "ExecuteTime": {
     "end_time": "2025-05-11T18:10:49.390392Z",
     "start_time": "2025-05-11T18:10:49.372159Z"
    }
   },
   "source": [
    "\"\"\"\n",
    "Basic Definitions\n",
    "\"\"\"\n",
    "\n",
    "\n",
    "class Graph:\n",
    "    def __init__(self):\n",
    "        self.graph = {}\n",
    "\n",
    "    def addEdge(self, from_vertex, to_vertex):\n",
    "        #Add edge\n",
    "        if from_vertex in self.graph:\n",
    "            self.graph[from_vertex].append(to_vertex)\n",
    "        #Add vertex\n",
    "        else:\n",
    "            self.graph[from_vertex] = [to_vertex]\n",
    "\n",
    "\n",
    "g = Graph()\n",
    "g.addEdge(0, 1)\n",
    "g.addEdge(0, 2)\n",
    "g.addEdge(1, 3)"
   ],
   "outputs": [],
   "execution_count": 2
  },
  {
   "metadata": {
    "ExecuteTime": {
     "end_time": "2025-05-11T18:13:47.007034Z",
     "start_time": "2025-05-11T18:13:46.993491Z"
    }
   },
   "cell_type": "code",
   "source": [
    "\"\"\"\n",
    "BFS Traversal\n",
    "\"\"\"\n",
    "\n",
    "\n",
    "def bfs(self, start, graph):\n",
    "    if start not in graph:\n",
    "        return []\n",
    "\n",
    "    q = [start]\n",
    "    traversal = []\n",
    "\n",
    "    while q:\n",
    "        curr = q.pop(0)\n",
    "        if curr not in traversal:\n",
    "            traversal.append(curr)\n",
    "            if curr in graph:\n",
    "                q.extend(graph[curr])\n",
    "\n",
    "    return traversal"
   ],
   "id": "cb012ab185b50789",
   "outputs": [],
   "execution_count": 3
  },
  {
   "metadata": {
    "ExecuteTime": {
     "end_time": "2025-05-11T18:25:23.957998Z",
     "start_time": "2025-05-11T18:25:23.949459Z"
    }
   },
   "cell_type": "code",
   "source": [
    "\"\"\"\n",
    "DFS Traversal\n",
    "\"\"\"\n",
    "\n",
    "\n",
    "def dfs(start, graph):\n",
    "    if start not in graph:\n",
    "        return []\n",
    "\n",
    "    stack = [start]\n",
    "\n",
    "    traversal = []\n",
    "\n",
    "    while stack:\n",
    "        vertex = stack.pop()\n",
    "        if vertex not in traversal:\n",
    "            traversal.append()\n",
    "            if vertex in graph:\n",
    "                stack.extend(graph[vertex])\n",
    "\n",
    "    return traversal"
   ],
   "id": "e86a5f2bdcae7b76",
   "outputs": [],
   "execution_count": 4
  },
  {
   "metadata": {
    "ExecuteTime": {
     "end_time": "2025-05-11T19:37:22.226512Z",
     "start_time": "2025-05-11T19:37:22.201863Z"
    }
   },
   "cell_type": "code",
   "source": [
    "\"\"\"\n",
    "Clone a connected graph\n",
    "O(e+n)\n",
    "\"\"\"\n",
    "\n",
    "from collections import deque\n",
    "\n",
    "\n",
    "class Node(object):\n",
    "    def __init__(self, val=0, neighbors=None):\n",
    "        self.val = val\n",
    "        self.neighbors = neighbors if neighbors is not None else []\n",
    "\n",
    "\n",
    "adjList = [[2, 4], [1, 3], [2, 4], [1, 3]]\n",
    "\n",
    "\n",
    "def clone_graph(node):\n",
    "    if not node:\n",
    "        return node\n",
    "\n",
    "    queue = deque([node])\n",
    "\n",
    "    clones = {node.val: Node(node.val)}\n",
    "\n",
    "    while queue:\n",
    "        curr = queue.popleft()\n",
    "        curr_clone = clones[curr.val]\n",
    "\n",
    "        for neighbor in curr.neighbors:\n",
    "            if neighbor.val not in clones:\n",
    "                clones[neighbor.val] = Node(neighbor.val)\n",
    "\n",
    "                queue.append(neighbor)\n",
    "\n",
    "            curr_clone.neighbors.append(clones[neighbor.val])\n",
    "\n",
    "    return clones[node.val]\n"
   ],
   "id": "7e25365a23335b9e",
   "outputs": [],
   "execution_count": 5
  },
  {
   "metadata": {
    "ExecuteTime": {
     "end_time": "2025-05-11T19:40:58.319889Z",
     "start_time": "2025-05-11T19:40:58.307030Z"
    }
   },
   "cell_type": "code",
   "source": [
    "\"\"\"\n",
    "Find the largest node : BFS till you find the largest node\n",
    "\"\"\"\n",
    "\n",
    "\n",
    "def findLargestNode(start, graph):\n",
    "    if start not in graph:\n",
    "        return None\n",
    "\n",
    "    queue = deque([start])\n",
    "    traversal = []\n",
    "    largest_node = start\n",
    "\n",
    "    while queue:\n",
    "        vertex = queue.popleft(0)\n",
    "        if vertex not in traversal:\n",
    "            traversal.append(vertex)\n",
    "\n",
    "            if vertex > largest_node:\n",
    "                largest_node = vertex\n",
    "\n",
    "            if vertex in graph:\n",
    "                queue.extend(graph[vertex])\n",
    "\n",
    "    return largest_node"
   ],
   "id": "3591eccb14747190",
   "outputs": [],
   "execution_count": 6
  },
  {
   "metadata": {
    "ExecuteTime": {
     "end_time": "2025-05-11T19:44:28.593292Z",
     "start_time": "2025-05-11T19:44:28.583098Z"
    }
   },
   "cell_type": "code",
   "source": [
    "\"\"\"\n",
    "Find cycle : Iterative DFS to traverse graph and visited set to identify a cycle\n",
    "\"\"\"\n",
    "\n",
    "\n",
    "def find_cycle(start, graph):\n",
    "    if start not in graph:\n",
    "        return False\n",
    "\n",
    "    stack = [(start, -1)]\n",
    "\n",
    "    visited = set()\n",
    "\n",
    "    while stack:\n",
    "        vertex, parent = stack.pop()\n",
    "        if vertex in visited:\n",
    "            return True\n",
    "\n",
    "        visited.add(vertex)\n",
    "\n",
    "        for neighbor in graph.get(vertex, []):\n",
    "            if neighbor != parent:\n",
    "                stack.append((neighbor, vertex))\n",
    "\n",
    "    return False"
   ],
   "id": "cf165939696da412",
   "outputs": [],
   "execution_count": 7
  },
  {
   "metadata": {
    "ExecuteTime": {
     "end_time": "2025-05-11T19:46:55.740970Z",
     "start_time": "2025-05-11T19:46:55.732952Z"
    }
   },
   "cell_type": "code",
   "source": [
    "\"\"\"\n",
    "Count the number of edges in graph: Iterate through each vertex and sum the lengths of their adjacency lists\n",
    "\"\"\"\n",
    "\n",
    "\n",
    "def count_edges(graph):\n",
    "    edge_count = 0\n",
    "    for vertex in graph:\n",
    "        edge_count += len(graph[vertex])\n",
    "\n",
    "    return edge_count"
   ],
   "id": "ca015b83f81f8e5",
   "outputs": [],
   "execution_count": 8
  },
  {
   "metadata": {
    "ExecuteTime": {
     "end_time": "2025-05-11T19:47:48.355180Z",
     "start_time": "2025-05-11T19:47:48.273953Z"
    }
   },
   "cell_type": "code",
   "source": [
    "\"\"\"\n",
    "Cheapest flights with K stops : Djikstra's Bellman Ford\n",
    "\"\"\""
   ],
   "id": "4d57288e1c22e672",
   "outputs": [
    {
     "data": {
      "text/plain": [
       "\"\\nCheapest flights with K stops : Djikstra's Bellman Ford\\n\""
      ]
     },
     "execution_count": 9,
     "metadata": {},
     "output_type": "execute_result"
    }
   ],
   "execution_count": 9
  },
  {
   "metadata": {},
   "cell_type": "code",
   "outputs": [],
   "execution_count": null,
   "source": [
    "\"\"\"\n",
    "Course Schedule\n",
    "\"\"\"\n",
    "\n",
    "courses = 5\n",
    "preq = [[0, 1], [0, 2], [1, 3], [1, 4], [3, 4]]\n",
    "\n",
    "\n",
    "def course_schedule(courses, preq):\n",
    "    adj = {course: [] for course in range(courses)}\n",
    "    for course, pre in preq:\n",
    "        adj[course].append(pre)\n",
    "\n",
    "    for course in range(courses):\n",
    "        stack = [(course, set())]\n",
    "        while stack:\n",
    "            curr, visited = stack.pop()\n",
    "            if curr in visited:\n",
    "                return False\n",
    "            visited.add(curr)\n",
    "            for pre in adj[curr]:\n",
    "                stack.append((pre, visited))\n",
    "        adj[course] = []\n",
    "\n",
    "    return True"
   ],
   "id": "863985aee0c30549"
  }
 ],
 "metadata": {
  "kernelspec": {
   "display_name": "Python 3",
   "language": "python",
   "name": "python3"
  },
  "language_info": {
   "codemirror_mode": {
    "name": "ipython",
    "version": 2
   },
   "file_extension": ".py",
   "mimetype": "text/x-python",
   "name": "python",
   "nbconvert_exporter": "python",
   "pygments_lexer": "ipython2",
   "version": "2.7.6"
  }
 },
 "nbformat": 4,
 "nbformat_minor": 5
}
