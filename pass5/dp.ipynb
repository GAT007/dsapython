{
 "cells": [
  {
   "metadata": {},
   "cell_type": "markdown",
   "source": "# Dynamic Programming",
   "id": "81b28bf70d204ae0"
  },
  {
   "cell_type": "code",
   "execution_count": null,
   "id": "initial_id",
   "metadata": {
    "collapsed": true
   },
   "outputs": [],
   "source": [
    "\"\"\"\n",
    "Coin change\n",
    "\"\"\"\n",
    "\n",
    "\n",
    "def coin_change(coins, target):\n",
    "    dp = [target + 1] * (target + 1)\n",
    "    dp[0] = 0\n",
    "    for i in range(1, target + 1):\n",
    "        for c in coins:\n",
    "            if i - c >= 0:\n",
    "                dp[i] = min(dp[i], 1 + dp[i - c])\n",
    "\n",
    "    return dp[target] if (dp[target] != target + 1) else -1"
   ]
  }
 ],
 "metadata": {
  "kernelspec": {
   "display_name": "Python 3",
   "language": "python",
   "name": "python3"
  },
  "language_info": {
   "codemirror_mode": {
    "name": "ipython",
    "version": 2
   },
   "file_extension": ".py",
   "mimetype": "text/x-python",
   "name": "python",
   "nbconvert_exporter": "python",
   "pygments_lexer": "ipython2",
   "version": "2.7.6"
  }
 },
 "nbformat": 4,
 "nbformat_minor": 5
}
