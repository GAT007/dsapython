{
 "cells": [
  {
   "metadata": {},
   "cell_type": "markdown",
   "source": [
    "# Linked Lists\n",
    "\n",
    "Most linked list problems are solved with a pointer approach a fast pointer and a slow pointer. They also use a custom node class where the node usually contains the next connection or the previous connection"
   ],
   "id": "baf29f5390be4653"
  },
  {
   "cell_type": "code",
   "id": "initial_id",
   "metadata": {
    "collapsed": true,
    "ExecuteTime": {
     "end_time": "2025-05-09T21:57:29.662180Z",
     "start_time": "2025-05-09T21:57:29.653799Z"
    }
   },
   "source": [
    "\"\"\"\n",
    "Middle of a linked list\n",
    "\"\"\"\n",
    "\n",
    "\n",
    "class LLNode:\n",
    "    def __init__(self, value, next=None):\n",
    "        self.value = value\n",
    "        self.next = next\n",
    "\n",
    "\n",
    "def middle(start):\n",
    "    slow, fast = start, start\n",
    "    while fast != None and fast.next != None:\n",
    "        slow = slow.next\n",
    "        fast = fast.next.next\n",
    "\n",
    "    return slow"
   ],
   "outputs": [],
   "execution_count": 1
  },
  {
   "metadata": {
    "ExecuteTime": {
     "end_time": "2025-05-10T02:22:43.681111Z",
     "start_time": "2025-05-10T02:22:43.665736Z"
    }
   },
   "cell_type": "code",
   "source": [
    "\"\"\"\n",
    "Linked list cycle\n",
    "\"\"\"\n",
    "\n",
    "\n",
    "def linked_list_cycle(start):\n",
    "    slow, fast = start, start\n",
    "    while (fast != None and fast.next != None):\n",
    "        slow = slow.next\n",
    "        fast = fast.next.next\n",
    "        if fast == slow:\n",
    "            return True\n",
    "\n",
    "    return False"
   ],
   "id": "86dfc4f6f6391d08",
   "outputs": [],
   "execution_count": 2
  },
  {
   "metadata": {
    "ExecuteTime": {
     "end_time": "2025-05-10T03:16:09.159063Z",
     "start_time": "2025-05-10T03:16:09.144483Z"
    }
   },
   "cell_type": "code",
   "source": [
    "\"\"\"\n",
    "Reverse a linked list\n",
    "\"\"\"\n",
    "\n",
    "\n",
    "def reverse(head):\n",
    "    prev = None\n",
    "    curr = head\n",
    "\n",
    "    while curr != None:\n",
    "        next = curr.next\n",
    "        curr.next = prev\n",
    "        prev = curr\n",
    "        curr = next\n",
    "\n",
    "    return prev"
   ],
   "id": "fe0085835df361a6",
   "outputs": [],
   "execution_count": 3
  },
  {
   "metadata": {
    "ExecuteTime": {
     "end_time": "2025-05-10T03:18:24.553171Z",
     "start_time": "2025-05-10T03:18:24.545332Z"
    }
   },
   "cell_type": "code",
   "source": [
    "\"\"\"\n",
    "Remove elements from a linked list\n",
    "\"\"\"\n",
    "\n",
    "\n",
    "def remove_elements(head, value):\n",
    "    dummy_head = LLNode(-1, head)\n",
    "    curr = dummy_head\n",
    "    while curr != None:\n",
    "        if curr.next:\n",
    "            if curr.next.value == value:\n",
    "                curr.next = curr.next.next\n",
    "            else:\n",
    "                curr = curr.next\n",
    "\n",
    "    return dummy_head.next"
   ],
   "id": "293a926bd9532d90",
   "outputs": [],
   "execution_count": 4
  },
  {
   "metadata": {
    "ExecuteTime": {
     "end_time": "2025-05-10T14:48:04.208468Z",
     "start_time": "2025-05-10T14:48:04.194682Z"
    }
   },
   "cell_type": "code",
   "source": [
    "\"\"\"\n",
    "Reverse linked list 2\n",
    "\"\"\"\n",
    "\n",
    "\n",
    "def reverse2(head, start, end):\n",
    "    dummy_head = LLNode(-1, head)\n",
    "\n",
    "    left_prev, curr = dummy_head, head\n",
    "    for i in range(start - 1):\n",
    "        left_prev, curr = curr, curr.next\n",
    "\n",
    "    prev = None\n",
    "    for i in range(end - start + 1):\n",
    "        next_p = curr.next\n",
    "        curr.next = prev\n",
    "        prev, curr = curr, next_p\n",
    "\n",
    "    left_prev.next.next = curr\n",
    "    left_prev.next = prev\n",
    "\n",
    "    return dummy_head.next\n"
   ],
   "id": "db68ded1b1e3fcb7",
   "outputs": [],
   "execution_count": 1
  },
  {
   "metadata": {
    "ExecuteTime": {
     "end_time": "2025-05-10T15:06:22.869446Z",
     "start_time": "2025-05-10T15:06:22.859385Z"
    }
   },
   "cell_type": "code",
   "source": [
    "\"\"\"\n",
    "Palindrome Linked list\n",
    "\"\"\"\n",
    "\n",
    "\n",
    "def palindromeList(head):\n",
    "    slow, fast = head, head\n",
    "\n",
    "    while fast != None and fast.next != None:\n",
    "        slow, fast = slow.next, fast.next.next\n",
    "\n",
    "    prev = None\n",
    "\n",
    "    while slow != None:\n",
    "        next_p = slow.next\n",
    "        slow.next = prev\n",
    "        prev = slow\n",
    "        slow = next_p\n",
    "\n",
    "    left = head\n",
    "    right = prev\n",
    "    while right != None:\n",
    "        if left.value != right.value:\n",
    "            return False\n",
    "        else:\n",
    "            left = left.next\n",
    "            right = right.next\n",
    "\n",
    "    return True\n",
    "\n"
   ],
   "id": "7a09bdeb9827e5d7",
   "outputs": [],
   "execution_count": 2
  },
  {
   "metadata": {
    "ExecuteTime": {
     "end_time": "2025-05-10T15:28:46.397586Z",
     "start_time": "2025-05-10T15:28:46.387873Z"
    }
   },
   "cell_type": "code",
   "source": [
    "\"\"\"\n",
    "Merge two sorted linked lists\n",
    "\"\"\"\n",
    "\n",
    "\n",
    "def mergelists(left, right):\n",
    "    dummy_node = LLNode(-1, None)\n",
    "\n",
    "    curr = dummy_node\n",
    "\n",
    "    while left and right:\n",
    "        if left.value < right.value:\n",
    "            curr.next = left\n",
    "            left, curr = left.next, left\n",
    "\n",
    "        else:\n",
    "            curr.next = right\n",
    "            right, curr = right.next, right\n",
    "\n",
    "    if left or right:\n",
    "        curr.next = left if left else right\n",
    "\n",
    "    return dummy_node.next\n",
    "\n"
   ],
   "id": "6adbfa6ae778f520",
   "outputs": [],
   "execution_count": 3
  },
  {
   "metadata": {},
   "cell_type": "code",
   "outputs": [],
   "execution_count": null,
   "source": "",
   "id": "6ec63f1299adb740"
  }
 ],
 "metadata": {
  "kernelspec": {
   "display_name": "Python 3",
   "language": "python",
   "name": "python3"
  },
  "language_info": {
   "codemirror_mode": {
    "name": "ipython",
    "version": 2
   },
   "file_extension": ".py",
   "mimetype": "text/x-python",
   "name": "python",
   "nbconvert_exporter": "python",
   "pygments_lexer": "ipython2",
   "version": "2.7.6"
  }
 },
 "nbformat": 4,
 "nbformat_minor": 5
}
