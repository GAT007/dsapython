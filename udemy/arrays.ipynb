{
 "cells": [
  {
   "cell_type": "code",
   "execution_count": null,
   "id": "initial_id",
   "metadata": {
    "collapsed": true
   },
   "outputs": [],
   "source": [
    "\"\"\"\n",
    "Whenever we are solving a dsa problem, we need to keep 4 things in mind\n",
    "1. parsing the input\n",
    "2. cleaning the input\n",
    "3. business logic\n",
    "4. displaying the output\n",
    "\"\"\"\n"
   ]
  },
  {
   "metadata": {
    "ExecuteTime": {
     "end_time": "2025-01-05T17:26:38.176731Z",
     "start_time": "2025-01-05T17:26:38.160841Z"
    }
   },
   "cell_type": "code",
   "source": [
    "#Dynamic Arrays\n",
    "import sys\n",
    "n = []\n",
    "for i in range(20):\n",
    "    n.append(i)\n",
    "\n",
    "    b = sys.getsizeof(n)\n",
    "    print(f\"Length of array : {len(n)} Bytes in memory: {b} \")\n"
   ],
   "id": "a7c6f39b887670d4",
   "outputs": [
    {
     "name": "stdout",
     "output_type": "stream",
     "text": [
      "Length of array : 1 Bytes in memory: 88 \n",
      "Length of array : 2 Bytes in memory: 88 \n",
      "Length of array : 3 Bytes in memory: 88 \n",
      "Length of array : 4 Bytes in memory: 88 \n",
      "Length of array : 5 Bytes in memory: 120 \n",
      "Length of array : 6 Bytes in memory: 120 \n",
      "Length of array : 7 Bytes in memory: 120 \n",
      "Length of array : 8 Bytes in memory: 120 \n",
      "Length of array : 9 Bytes in memory: 184 \n",
      "Length of array : 10 Bytes in memory: 184 \n",
      "Length of array : 11 Bytes in memory: 184 \n",
      "Length of array : 12 Bytes in memory: 184 \n",
      "Length of array : 13 Bytes in memory: 184 \n",
      "Length of array : 14 Bytes in memory: 184 \n",
      "Length of array : 15 Bytes in memory: 184 \n",
      "Length of array : 16 Bytes in memory: 184 \n",
      "Length of array : 17 Bytes in memory: 248 \n",
      "Length of array : 18 Bytes in memory: 248 \n",
      "Length of array : 19 Bytes in memory: 248 \n",
      "Length of array : 20 Bytes in memory: 248 \n"
     ]
    }
   ],
   "execution_count": 1
  },
  {
   "metadata": {
    "ExecuteTime": {
     "end_time": "2025-01-05T17:42:21.764209Z",
     "start_time": "2025-01-05T17:42:21.752807Z"
    }
   },
   "cell_type": "code",
   "source": [
    "#Difference between public and private methods\n",
    "class M:\n",
    "    def public(self):\n",
    "        return \"You will be able to tab see me!\"\n",
    "    def _private(self):\n",
    "        return \"You will not be able to tab see me!\"\n",
    "\n",
    "m = M()\n",
    "print(m.public())\n",
    "print(m._private())"
   ],
   "id": "f6e55a91442a4b24",
   "outputs": [
    {
     "name": "stdout",
     "output_type": "stream",
     "text": [
      "You will be able to tab see me!\n",
      "You will not be able to tab see me!\n"
     ]
    }
   ],
   "execution_count": 3
  },
  {
   "metadata": {},
   "cell_type": "markdown",
   "source": "##Dynamic Array Implementation",
   "id": "ff12f373b641ada8"
  },
  {
   "metadata": {
    "ExecuteTime": {
     "end_time": "2025-01-05T18:46:25.593187Z",
     "start_time": "2025-01-05T18:46:25.581032Z"
    }
   },
   "cell_type": "code",
   "source": [
    "import ctypes\n",
    "\n",
    "class DynamicArray(object):\n",
    "    def __init__(self):\n",
    "        self.n = 0\n",
    "        self.capacity = 1\n",
    "        self.A = self.make_array(self.capacity)\n",
    "\n",
    "    def __len__(self):\n",
    "        return self.n\n",
    "\n",
    "    def __getitem__(self, k):\n",
    "        if not 0<=k<self.n:\n",
    "            raise IndexError(f'Given value {k} is out of bounds!')\n",
    "        else:\n",
    "            return self.A[k]\n",
    "\n",
    "    def append(self, k):\n",
    "        if self.n == self.capacity:\n",
    "            self._resize(2 * self.capacity)\n",
    "        self.A[self.n]=k\n",
    "        self.n+=1\n",
    "\n",
    "    def _resize(self, new_capacity):\n",
    "        b = self.make_array(new_capacity)\n",
    "        for k in range(self.n):\n",
    "            b[k] = self.A[k]\n",
    "        self.capacity = new_capacity\n",
    "        self.A = b\n",
    "\n",
    "    def make_array(self, capacity):\n",
    "        return (capacity * ctypes.py_object)()"
   ],
   "id": "f11b1c7a62f227d4",
   "outputs": [],
   "execution_count": 10
  },
  {
   "metadata": {
    "ExecuteTime": {
     "end_time": "2025-01-05T18:46:27.846222Z",
     "start_time": "2025-01-05T18:46:27.839617Z"
    }
   },
   "cell_type": "code",
   "source": [
    "new_arr = DynamicArray()\n",
    "\n",
    "for i in range(20):\n",
    "    new_arr.append(i)\n",
    "    b = sys.getsizeof(new_arr)\n",
    "    print(f\"Length of array : {len(new_arr)} Size in bytes : {b}\")"
   ],
   "id": "381c870c2b7c42b0",
   "outputs": [
    {
     "name": "stdout",
     "output_type": "stream",
     "text": [
      "Length of array : 1 Size in bytes : 48\n",
      "Length of array : 2 Size in bytes : 48\n",
      "Length of array : 3 Size in bytes : 48\n",
      "Length of array : 4 Size in bytes : 48\n",
      "Length of array : 5 Size in bytes : 48\n",
      "Length of array : 6 Size in bytes : 48\n",
      "Length of array : 7 Size in bytes : 48\n",
      "Length of array : 8 Size in bytes : 48\n",
      "Length of array : 9 Size in bytes : 48\n",
      "Length of array : 10 Size in bytes : 48\n",
      "Length of array : 11 Size in bytes : 48\n",
      "Length of array : 12 Size in bytes : 48\n",
      "Length of array : 13 Size in bytes : 48\n",
      "Length of array : 14 Size in bytes : 48\n",
      "Length of array : 15 Size in bytes : 48\n",
      "Length of array : 16 Size in bytes : 48\n",
      "Length of array : 17 Size in bytes : 48\n",
      "Length of array : 18 Size in bytes : 48\n",
      "Length of array : 19 Size in bytes : 48\n",
      "Length of array : 20 Size in bytes : 48\n"
     ]
    }
   ],
   "execution_count": 11
  },
  {
   "metadata": {},
   "cell_type": "markdown",
   "source": [
    "Anagram Check\n",
    "WAP to check if two given strings are anagrams or not"
   ],
   "id": "ab90479d5258f714"
  },
  {
   "metadata": {
    "ExecuteTime": {
     "end_time": "2025-01-05T20:14:18.643996Z",
     "start_time": "2025-01-05T20:14:18.636533Z"
    }
   },
   "cell_type": "code",
   "source": [
    "def anagram_check(str1, str2):\n",
    "    #If total number of characters in string1!= string2 then obviously not an anagram\n",
    "    #Sort the two strings, and then check for equivalency\n",
    "    #Create a hashmap and then check for equivalency\n",
    "    str1 = str1.replace(\" \", \"\").lower()\n",
    "    str2 = str2.replace(\" \", \"\").lower()\n",
    "\n",
    "    if len(str1)!=len(str2):\n",
    "        return False\n",
    "\n",
    "    return sorted(str1) == sorted(str2)\n",
    "\n",
    "anagram_check('Dog', 'God')"
   ],
   "id": "b639f375f6324580",
   "outputs": [
    {
     "data": {
      "text/plain": [
       "True"
      ]
     },
     "execution_count": 7,
     "metadata": {},
     "output_type": "execute_result"
    }
   ],
   "execution_count": 7
  },
  {
   "metadata": {},
   "cell_type": "code",
   "outputs": [],
   "execution_count": null,
   "source": [
    "def anagram_count(str1, str2):\n",
    "    str1 = str1.replace(\" \", \"\").lower()\n",
    "    str2 = str2.replace(\" \", \"\").lower()\n",
    "\n",
    "    if len(str1) != len(str2):\n",
    "        return False\n",
    "\n",
    "    def dictionary_maker(strn):\n",
    "        dicti = {}\n",
    "        for ch in strn:\n",
    "            if ch in dicti:\n",
    "                dicti[ch]+=1\n",
    "            else:\n",
    "                dicti[ch] = 1\n",
    "\n",
    "        return dicti\n",
    "\n",
    "    d_str1 = dictionary_maker(str1)\n",
    "    d_str2 = dictionary_maker(str2)\n",
    "\n",
    "    print(list(d_str1.items()))\n",
    "    print(list(d_str2.items()))\n",
    "    if sorted(list(d_str1.items())) == sorted(list(d_str2.items())):\n",
    "        return True\n",
    "\n",
    "    return False\n",
    "\n",
    "anagram_count('Dog', 'God')"
   ],
   "id": "bd2fffb2786733bf"
  },
  {
   "metadata": {
    "ExecuteTime": {
     "end_time": "2025-01-05T20:14:48.114564Z",
     "start_time": "2025-01-05T20:14:48.104905Z"
    }
   },
   "cell_type": "code",
   "source": [
    "def optimum_anagram_count(str1, str2):\n",
    "    \"\"\"\n",
    "    Here instead of creating two separate dictionaries, for the first string we add the counts, second time we subtract the counts\n",
    "    \"\"\"\n",
    "    str1 = str1.replace(\" \", \"\").lower()\n",
    "    str2 = str2.replace(\" \", \"\").lower()\n",
    "\n",
    "    if len(str1) != len(str2):\n",
    "        return False\n",
    "    d_str1 = {}\n",
    "    for ch in str1:\n",
    "        if ch in d_str1:\n",
    "            d_str1[ch]+=1\n",
    "        else:\n",
    "            d_str1[ch]=1\n",
    "\n",
    "    for ch in str2:\n",
    "        if ch not in d_str1:\n",
    "            return False\n",
    "        else:\n",
    "            d_str1[ch]-=1\n",
    "\n",
    "    for key in d_str1.keys():\n",
    "        if d_str1[key] != 0:\n",
    "            return False\n",
    "\n",
    "    return True\n",
    "optimum_anagram_count('Dog', 'God')"
   ],
   "id": "e42537fd3eb17fbe",
   "outputs": [
    {
     "data": {
      "text/plain": [
       "True"
      ]
     },
     "execution_count": 8,
     "metadata": {},
     "output_type": "execute_result"
    }
   ],
   "execution_count": 8
  },
  {
   "metadata": {
    "ExecuteTime": {
     "end_time": "2025-01-05T20:36:40.321775Z",
     "start_time": "2025-01-05T20:36:40.314206Z"
    }
   },
   "cell_type": "code",
   "source": [
    "#Array Pair Sum\n",
    "#Given an integer array output all the unique pairs that would sum up to k\n",
    "#Lists[], Tuples(), Dictionaries{kv}, Sets{}\n",
    "def array_pair(numlist, total):\n",
    "    if len(numlist)<2:\n",
    "        return False\n",
    "    #One for loop, take number, check if diff is present in number, increment count, append to list\n",
    "    counter = 0\n",
    "    c_list = []\n",
    "    for i in range(len(numlist)):\n",
    "        diff = total - numlist[i]\n",
    "        if diff in numlist:\n",
    "            counter+=1\n",
    "            c_list.append((numlist[i], diff))\n",
    "\n",
    "    print(counter)\n",
    "    print(c_list)\n",
    "array_pair([1,3,2,2],4)\n"
   ],
   "id": "564fa5c3adee76ee",
   "outputs": [
    {
     "name": "stdout",
     "output_type": "stream",
     "text": [
      "4\n",
      "[(1, 3), (3, 1), (2, 2), (2, 2)]\n"
     ]
    }
   ],
   "execution_count": 11
  },
  {
   "metadata": {
    "ExecuteTime": {
     "end_time": "2025-01-05T20:54:30.952187Z",
     "start_time": "2025-01-05T20:54:30.939487Z"
    }
   },
   "cell_type": "code",
   "source": [
    "def array_pair(arr, k):\n",
    "    if len(arr) < 2:\n",
    "        return\n",
    "    seen = set()\n",
    "    output = set()\n",
    "    for num in arr:\n",
    "        target = k - num\n",
    "        if target not in seen:\n",
    "            seen.add(num)\n",
    "        else:\n",
    "            output.add((num, target))\n",
    "    print('\\n'.join(map(str, list(output))))\n",
    "    return len(output)\n",
    "\n",
    "array_pair([1,3,2,2],4)"
   ],
   "id": "8db8afe05bcaf463",
   "outputs": [
    {
     "name": "stdout",
     "output_type": "stream",
     "text": [
      "(3, 1)\n",
      "(2, 2)\n"
     ]
    },
    {
     "data": {
      "text/plain": [
       "2"
      ]
     },
     "execution_count": 16,
     "metadata": {},
     "output_type": "execute_result"
    }
   ],
   "execution_count": 16
  },
  {
   "metadata": {
    "ExecuteTime": {
     "end_time": "2025-01-05T22:20:22.401304Z",
     "start_time": "2025-01-05T22:20:22.382491Z"
    }
   },
   "cell_type": "code",
   "source": [
    "#Missing element problem\n",
    "#Given two arrays where the second array is one where the first array is shuffled and a random element is deleted, find the deleted element\n",
    "def finder(list1, list2):\n",
    "    if list1 is None or list2 is None:\n",
    "        return False\n",
    "\n",
    "    list1.sort()\n",
    "    list2.sort()\n",
    "\n",
    "    print(zip(list1, list2))\n",
    "    print('\\n'.join(map(str, list(zip(list1, list2)))))\n",
    "    for num1, num2 in zip(list1, list2):\n",
    "        if num1 != num2:\n",
    "            return num1\n",
    "\n",
    "    return list1[-1]\n",
    "\n",
    "\n",
    "    return \"No element was deleted\"\n",
    "\n",
    "finder([1,3,5,7,9], [1,3,5,7])"
   ],
   "id": "f8b84f7d79248413",
   "outputs": [
    {
     "name": "stdout",
     "output_type": "stream",
     "text": [
      "<zip object at 0x7ab67ffc7600>\n",
      "(1, 1)\n",
      "(3, 3)\n",
      "(5, 5)\n",
      "(7, 7)\n"
     ]
    },
    {
     "data": {
      "text/plain": [
       "9"
      ]
     },
     "execution_count": 21,
     "metadata": {},
     "output_type": "execute_result"
    }
   ],
   "execution_count": 21
  },
  {
   "metadata": {
    "ExecuteTime": {
     "end_time": "2025-01-05T22:30:14.510117Z",
     "start_time": "2025-01-05T22:30:14.498583Z"
    }
   },
   "cell_type": "code",
   "source": [
    "import collections\n",
    "def finder2(list1, list2):\n",
    "    d = collections.defaultdict(int)\n",
    "    for num in list2:\n",
    "        d[num]+=1\n",
    "\n",
    "    for num in list1:\n",
    "        if d[num]==0:\n",
    "            return num\n",
    "        else:\n",
    "            d[num]-=1\n",
    "\n",
    "finder2([1,3,5,7,9], [1,3,5,7])"
   ],
   "id": "e4ff4f5b4488df11",
   "outputs": [
    {
     "data": {
      "text/plain": [
       "9"
      ]
     },
     "execution_count": 22,
     "metadata": {},
     "output_type": "execute_result"
    }
   ],
   "execution_count": 22
  },
  {
   "metadata": {
    "ExecuteTime": {
     "end_time": "2025-01-05T23:45:39.581617Z",
     "start_time": "2025-01-05T23:45:39.572632Z"
    }
   },
   "cell_type": "code",
   "source": [
    "#Largest continuous sum\n",
    "#Just plain old addition till you encounter a negative, we will keep comparing throughout to make sure we don't lose out our tracker\n",
    "\n",
    "def largest_continuous_sum(list1):\n",
    "    if len(list1)==0:\n",
    "        return 0\n",
    "\n",
    "    max_sum = current_sum = list1[0]\n",
    "\n",
    "    for i in list1[1:]:\n",
    "        current_sum = max(current_sum+i, i)\n",
    "        max_sum = max(current_sum, max_sum)\n",
    "\n",
    "    return max_sum\n",
    "\n",
    "print(largest_continuous_sum([1,3,5,6,-10,2,3,4]))"
   ],
   "id": "dd5105fd085f8692",
   "outputs": [
    {
     "name": "stdout",
     "output_type": "stream",
     "text": [
      "15\n"
     ]
    }
   ],
   "execution_count": 2
  },
  {
   "metadata": {
    "ExecuteTime": {
     "end_time": "2025-01-06T00:21:02.965315Z",
     "start_time": "2025-01-06T00:21:02.955054Z"
    }
   },
   "cell_type": "code",
   "source": [
    "def lcs_with_indices(array):\n",
    "    current_sum = max_sum = 0\n",
    "    temp_start = start = 0\n",
    "    end = -1\n",
    "\n",
    "    for i in range(len(array)):\n",
    "        current_sum += array[i]\n",
    "        if current_sum < 0:\n",
    "            current_sum = 0\n",
    "            temp_start = i + 1\n",
    "\n",
    "        if current_sum > max_sum:\n",
    "            max_sum = current_sum\n",
    "            start = temp_start\n",
    "            end = i\n",
    "\n",
    "    return max_sum, start, end\n",
    "\n",
    "print(lcs_with_indices([1,3,5,6,-10,2,3,4]))"
   ],
   "id": "5b11c3cd47f0673c",
   "outputs": [
    {
     "name": "stdout",
     "output_type": "stream",
     "text": [
      "(15, 0, 3)\n"
     ]
    }
   ],
   "execution_count": 6
  },
  {
   "metadata": {
    "ExecuteTime": {
     "end_time": "2025-01-06T00:26:00.919897Z",
     "start_time": "2025-01-06T00:26:00.916101Z"
    }
   },
   "cell_type": "code",
   "source": [
    "def sentence_reversal(sen):\n",
    "    sen.strip()\n",
    "    l_sen = sen.split(\" \")\n",
    "    l = len(l_sen) - 1\n",
    "    output = []\n",
    "    while l >= 0:\n",
    "        output.append(l_sen[l])\n",
    "        l-=1\n",
    "    print(output)\n",
    "\n",
    "sentence_reversal(\"This is the best\")"
   ],
   "id": "d1def448e3043d20",
   "outputs": [
    {
     "name": "stdout",
     "output_type": "stream",
     "text": [
      "['best', 'the', 'is', 'This']\n"
     ]
    }
   ],
   "execution_count": 12
  },
  {
   "metadata": {
    "ExecuteTime": {
     "end_time": "2025-01-06T00:38:41.514640Z",
     "start_time": "2025-01-06T00:38:41.508074Z"
    }
   },
   "cell_type": "code",
   "source": [
    "def rev_words(sen):\n",
    "    words = []\n",
    "    l = len(sen)\n",
    "    spaces = [' ']\n",
    "    i = 0\n",
    "    while i < l :\n",
    "        if sen[i] not in spaces:\n",
    "            word_start = i\n",
    "            while i < l and sen[i] not in spaces:\n",
    "                i+=1\n",
    "            words.append(sen[word_start:i])\n",
    "        i+=1\n",
    "    return \" \".join(reversed(words))\n",
    "rev_words(\"This is the best\")\n"
   ],
   "id": "2ad9ffabaf0fab13",
   "outputs": [
    {
     "data": {
      "text/plain": [
       "'best the is This'"
      ]
     },
     "execution_count": 14,
     "metadata": {},
     "output_type": "execute_result"
    }
   ],
   "execution_count": 14
  },
  {
   "metadata": {
    "ExecuteTime": {
     "end_time": "2025-01-06T00:52:35.413161Z",
     "start_time": "2025-01-06T00:52:35.401861Z"
    }
   },
   "cell_type": "code",
   "source": [
    "def compress_strings(s):\n",
    "    if len(s) == 0:return 0\n",
    "    cs = \"\"\n",
    "    current_char = s[0]\n",
    "    l = 1\n",
    "    for ch in s[1:]:\n",
    "        if ch!=current_char:\n",
    "            cs += current_char + str(l)\n",
    "            current_char = ch\n",
    "            l = 1\n",
    "        else:\n",
    "            l+=1\n",
    "    cs += current_char + str(l)\n",
    "    print(cs)\n",
    "\n",
    "compress_strings(\"AAAAABBBB\")\n"
   ],
   "id": "13990c407ad0bb9d",
   "outputs": [
    {
     "name": "stdout",
     "output_type": "stream",
     "text": [
      "AA5B4\n"
     ]
    }
   ],
   "execution_count": 18
  },
  {
   "metadata": {},
   "cell_type": "code",
   "outputs": [],
   "execution_count": null,
   "source": "",
   "id": "e9ef8f42aa3ff37e"
  }
 ],
 "metadata": {
  "kernelspec": {
   "display_name": "Python 3",
   "language": "python",
   "name": "python3"
  },
  "language_info": {
   "codemirror_mode": {
    "name": "ipython",
    "version": 2
   },
   "file_extension": ".py",
   "mimetype": "text/x-python",
   "name": "python",
   "nbconvert_exporter": "python",
   "pygments_lexer": "ipython2",
   "version": "2.7.6"
  }
 },
 "nbformat": 4,
 "nbformat_minor": 5
}
