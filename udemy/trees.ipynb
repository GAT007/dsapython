{
 "cells": [
  {
   "cell_type": "code",
   "id": "initial_id",
   "metadata": {
    "collapsed": true,
    "ExecuteTime": {
     "end_time": "2025-01-23T15:20:05.713349Z",
     "start_time": "2025-01-23T15:20:05.701344Z"
    }
   },
   "source": [
    "def ListBinaryTree(r):\n",
    "    return [r, [], []]"
   ],
   "outputs": [],
   "execution_count": 1
  },
  {
   "metadata": {
    "ExecuteTime": {
     "end_time": "2025-01-23T15:29:03.220301Z",
     "start_time": "2025-01-23T15:29:03.213988Z"
    }
   },
   "cell_type": "code",
   "source": [
    "def insertLeft(root, newBranch):\n",
    "    t = root.pop(1)\n",
    "\n",
    "    if len(t) > 1:\n",
    "        root.insert(1, [newBranch, t, []])\n",
    "    else:\n",
    "        root.insert(1, [newBranch, [], []])"
   ],
   "id": "eb3086ea1e8b9157",
   "outputs": [],
   "execution_count": 2
  },
  {
   "metadata": {
    "ExecuteTime": {
     "end_time": "2025-01-23T15:30:45.420749Z",
     "start_time": "2025-01-23T15:30:45.416108Z"
    }
   },
   "cell_type": "code",
   "source": [
    "def insertRight(root, newBranch):\n",
    "    t = root.pop(2)\n",
    "\n",
    "    if len(t) > 1:\n",
    "        root.insert(1, [newBranch, t, []])\n",
    "    else:\n",
    "        root.insert(1, [newBranch, [], []])"
   ],
   "id": "1d3c176788f562",
   "outputs": [],
   "execution_count": 3
  },
  {
   "metadata": {
    "ExecuteTime": {
     "end_time": "2025-01-25T15:16:43.271027Z",
     "start_time": "2025-01-25T15:16:43.261343Z"
    }
   },
   "cell_type": "code",
   "source": [
    "class BinaryTree(object):\n",
    "    def __init__(self, rootObj):\n",
    "        self.key = rootObj\n",
    "        self.leftNode = None\n",
    "        self.rightNode = None\n",
    "\n",
    "    def insertLeft(self, newNode):\n",
    "        if self.leftNode == None:\n",
    "            self.leftNode = BinaryTree(newNode)\n",
    "\n",
    "        else:\n",
    "            t = BinaryTree(newNode)\n",
    "            t.leftNode = self.leftNode\n",
    "            self.leftNode = t\n",
    "\n",
    "    def insertRight(self, newNode):\n",
    "        if self.rightNode == None:\n",
    "            self.rightNode = BinaryTree(newNode)\n",
    "\n",
    "        else:\n",
    "            t = BinaryTree(newNode)\n",
    "            t.rightNode = self.rightNode\n",
    "            self.rightNode = t\n",
    "\n",
    "    def getRightChild(self):\n",
    "        return self.rightNode\n",
    "\n",
    "    def getLeftChild(self):\n",
    "        return self.leftNode\n",
    "\n",
    "    def setRootVal(self, value):\n",
    "        self.key = value\n",
    "\n",
    "    def getRootVal(self):\n",
    "        return self.key\n",
    "\n"
   ],
   "id": "cbf8533c7cfe8fed",
   "outputs": [],
   "execution_count": 1
  },
  {
   "metadata": {},
   "cell_type": "code",
   "outputs": [],
   "execution_count": null,
   "source": "",
   "id": "7facc34913d0911c"
  }
 ],
 "metadata": {
  "kernelspec": {
   "display_name": "Python 3",
   "language": "python",
   "name": "python3"
  },
  "language_info": {
   "codemirror_mode": {
    "name": "ipython",
    "version": 2
   },
   "file_extension": ".py",
   "mimetype": "text/x-python",
   "name": "python",
   "nbconvert_exporter": "python",
   "pygments_lexer": "ipython2",
   "version": "2.7.6"
  }
 },
 "nbformat": 4,
 "nbformat_minor": 5
}
