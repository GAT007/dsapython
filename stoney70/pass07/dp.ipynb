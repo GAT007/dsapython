{
 "cells": [
  {
   "metadata": {},
   "cell_type": "code",
   "outputs": [],
   "execution_count": null,
   "source": "# Dynamic Programming",
   "id": "637b2a52c64e4b0e"
  },
  {
   "cell_type": "code",
   "id": "initial_id",
   "metadata": {
    "collapsed": true,
    "ExecuteTime": {
     "end_time": "2025-05-19T22:34:10.477997Z",
     "start_time": "2025-05-19T22:34:10.469094Z"
    }
   },
   "source": [
    "\"\"\"\n",
    "Coin change\n",
    "\"\"\"\n",
    "\n",
    "\n",
    "def coin_change(coins, target):\n",
    "    dp = [target + 1] * (target + 1)\n",
    "    dp[0] = 0\n",
    "\n",
    "    for i in range(1, target + 1):\n",
    "        for c in coins:\n",
    "            if i - c >= 0:\n",
    "                dp[i] = min(dp[i], 1 + dp[i - c])\n",
    "\n",
    "    if dp[target] == target + 1:\n",
    "        return -1\n",
    "    else:\n",
    "        return dp[target]"
   ],
   "outputs": [],
   "execution_count": 7
  },
  {
   "metadata": {
    "ExecuteTime": {
     "end_time": "2025-05-19T22:42:38.505001Z",
     "start_time": "2025-05-19T22:42:38.498506Z"
    }
   },
   "cell_type": "code",
   "source": [
    "\"\"\"\n",
    "Climbing stairs\n",
    "\"\"\"\n",
    "\n",
    "\n",
    "def climbing_stairs(target):\n",
    "    dp = [0] * (target + 1)\n",
    "    dp[1] = 1\n",
    "    dp[2] = 2\n",
    "\n",
    "    for i in range(3, target + 1):\n",
    "        dp[i] = dp[i - 1] + dp[i - 2]\n",
    "\n",
    "    return dp[target]\n"
   ],
   "id": "a22354af9100355c",
   "outputs": [],
   "execution_count": 8
  },
  {
   "metadata": {
    "ExecuteTime": {
     "end_time": "2025-06-27T18:42:37.605408Z",
     "start_time": "2025-06-27T18:42:37.594468Z"
    }
   },
   "cell_type": "code",
   "source": [
    "\"\"\"\n",
    "Max subarray\n",
    "\"\"\"\n",
    "\n",
    "\n",
    "def max_subarray(nums):\n",
    "    dp = [0] * len(nums)\n",
    "    for i, num in enumerate(nums):\n",
    "        dp[i] = max(num, dp[i - 1] + num)\n",
    "    return max(dp)\n",
    "\n",
    "\n",
    "print(max_subarray([-2, 1, -2, 4, 3, 5, 6, 1, 5]))"
   ],
   "id": "9b9c195a5abcf869",
   "outputs": [],
   "execution_count": 1
  },
  {
   "metadata": {
    "ExecuteTime": {
     "end_time": "2025-06-27T18:57:14.108523Z",
     "start_time": "2025-06-27T18:57:14.099073Z"
    }
   },
   "cell_type": "code",
   "source": [
    "def max_subarray_kadane(nums):\n",
    "    if not nums:\n",
    "        return 0\n",
    "\n",
    "    current_max = nums[0]\n",
    "    global_max = nums[0]\n",
    "\n",
    "    for i in range(1, len(nums)):\n",
    "        current_max = max(nums[i], current_max + nums[i])\n",
    "        global_max = max(global_max, current_max)\n",
    "\n",
    "    return global_max"
   ],
   "id": "1bebe093fddf566d",
   "outputs": [],
   "execution_count": 2
  },
  {
   "metadata": {},
   "cell_type": "code",
   "outputs": [],
   "execution_count": null,
   "source": [
    "class RangeSumQuery:\n",
    "    def __init__(self, nums):\n",
    "        self.acc_nums = [0]\n",
    "        for num in nums:\n",
    "            self.acc_nums.append(self.acc_nums[-1] + num)\n",
    "\n",
    "    def sumRange(self, left, right):\n",
    "        return self.acc_nums[right + 1] - self.acc_nums[left]"
   ],
   "id": "4200dd8dd794e8b2"
  }
 ],
 "metadata": {
  "kernelspec": {
   "display_name": "Python 3",
   "language": "python",
   "name": "python3"
  },
  "language_info": {
   "codemirror_mode": {
    "name": "ipython",
    "version": 2
   },
   "file_extension": ".py",
   "mimetype": "text/x-python",
   "name": "python",
   "nbconvert_exporter": "python",
   "pygments_lexer": "ipython2",
   "version": "2.7.6"
  }
 },
 "nbformat": 4,
 "nbformat_minor": 5
}
