{
 "cells": [
  {
   "metadata": {},
   "cell_type": "markdown",
   "source": "# Heaps",
   "id": "2214e0764ad91bd2"
  },
  {
   "cell_type": "code",
   "id": "initial_id",
   "metadata": {
    "collapsed": true,
    "ExecuteTime": {
     "end_time": "2025-08-15T18:05:48.737129Z",
     "start_time": "2025-08-15T18:05:48.725382Z"
    }
   },
   "source": [
    "\"\"\"\n",
    "Kth largest element in an array\n",
    "\"\"\"\n",
    "\n",
    "import heapq\n",
    "\n",
    "\n",
    "def k_largest(nums, k):\n",
    "    return heapq.nlargest(k, nums)[-1]\n",
    "\n",
    "\n",
    "def k_largest_manual(nums, k):\n",
    "    heap = []\n",
    "    for num in nums:\n",
    "        if len(heap) < k:\n",
    "            heapq.heappush(heap, num)\n",
    "        else:\n",
    "            heapq.heappushpop(heap, num)\n",
    "\n",
    "    return heapq.heappop(heap)"
   ],
   "outputs": [],
   "execution_count": 1
  },
  {
   "metadata": {
    "ExecuteTime": {
     "end_time": "2025-08-15T18:10:41.543643Z",
     "start_time": "2025-08-15T18:10:41.533222Z"
    }
   },
   "cell_type": "code",
   "source": [
    "\"\"\"\n",
    "K closest points to the origin\n",
    "\"\"\"\n",
    "\n",
    "import heapq, math\n",
    "\n",
    "\n",
    "def k_closest_points(points, k):\n",
    "    heap = []\n",
    "    for x1, y1 in points:\n",
    "        dist = -(math.sqrt((x1 ** 2) + (y1 ** 2)))\n",
    "        if len(heap) < k:\n",
    "            heapq.heappush(heap, (dist, x1, y1))\n",
    "        else:\n",
    "            heapq.heappushpop(heap, (dist, x1, y1))\n",
    "\n",
    "    res = [(x, y) for dist, x, y in heap]"
   ],
   "id": "e0890b2ddb51320c",
   "outputs": [],
   "execution_count": 2
  },
  {
   "metadata": {
    "ExecuteTime": {
     "end_time": "2025-08-15T18:22:04.895280Z",
     "start_time": "2025-08-15T18:22:04.889312Z"
    }
   },
   "cell_type": "code",
   "source": [
    "\"\"\"\n",
    "Top K Frequent Elements\n",
    "\"\"\"\n",
    "\n",
    "import heapq\n",
    "from collections import Counter\n",
    "\n",
    "\n",
    "def top_k_frequent_elements(nums, k):\n",
    "    count = Counter(nums)\n",
    "    heap = []\n",
    "\n",
    "    for num, freq in count.items():\n",
    "        heapq.heappush(heap, (freq, num))\n",
    "\n",
    "    for i in range(len(count) - k):\n",
    "        heapq.heappop(heap)\n",
    "\n",
    "    res = [num for freq, num in heap][::-1]\n",
    "\n",
    "    return res\n"
   ],
   "id": "8e1af403bdc1fe14",
   "outputs": [],
   "execution_count": 3
  },
  {
   "metadata": {},
   "cell_type": "code",
   "outputs": [],
   "execution_count": null,
   "source": [
    "\"\"\"\n",
    "Task Scheduler\n",
    "Remember this is a max heap question, you need to create a max heap by negating all the values\n",
    "\"\"\"\n",
    "\n",
    "from collections import Counter, deque\n",
    "import heapq\n",
    "\n",
    "\n",
    "def task_scheduler(tasks, n):\n",
    "    count = Counter(tasks)\n",
    "    max_heap = []\n",
    "    for task, freq in count.items():\n",
    "        heapq.heappush(max_heap, -freq)\n",
    "\n",
    "    q = deque()\n",
    "    time = 0\n",
    "\n",
    "    while max_heap or q:\n",
    "        time += 1\n",
    "        if max_heap:\n",
    "            curr = heapq.heappop(max_heap)\n",
    "            curr += 1\n",
    "\n",
    "            if curr != 0:\n",
    "                q.append((curr, time + n))\n",
    "\n",
    "        if q and q[0][1] == time:\n",
    "            heapq.heappush(max_heap, q.popleft()[0])\n",
    "\n",
    "    return time\n"
   ],
   "id": "24069f1aafc1e2fa"
  }
 ],
 "metadata": {
  "kernelspec": {
   "display_name": "Python 3",
   "language": "python",
   "name": "python3"
  },
  "language_info": {
   "codemirror_mode": {
    "name": "ipython",
    "version": 2
   },
   "file_extension": ".py",
   "mimetype": "text/x-python",
   "name": "python",
   "nbconvert_exporter": "python",
   "pygments_lexer": "ipython2",
   "version": "2.7.6"
  }
 },
 "nbformat": 4,
 "nbformat_minor": 5
}
