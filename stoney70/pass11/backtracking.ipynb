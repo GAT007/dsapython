{
 "cells": [
  {
   "metadata": {},
   "cell_type": "markdown",
   "source": "# Backtracking",
   "id": "2e095088e627d335"
  },
  {
   "cell_type": "code",
   "id": "initial_id",
   "metadata": {
    "collapsed": true,
    "ExecuteTime": {
     "end_time": "2025-08-21T00:07:10.452554Z",
     "start_time": "2025-08-21T00:07:10.442362Z"
    }
   },
   "source": [
    "\"\"\"\n",
    "Letter Case Permutation\n",
    "\"\"\"\n",
    "\n",
    "\n",
    "def letter_case_permutation(st):\n",
    "    res = [\"\"]\n",
    "    for s in st:\n",
    "        temp = []\n",
    "        for r in res:\n",
    "            if s.isalpha():\n",
    "                temp.append(r + s.lower())\n",
    "                temp.append(r + s.upper())\n",
    "            else:\n",
    "                temp.append(r + s)\n",
    "        res = temp\n",
    "    return res\n",
    "\n"
   ],
   "outputs": [
    {
     "data": {
      "text/plain": [
       "'\\nLetter Case Permutation\\n'"
      ]
     },
     "execution_count": 1,
     "metadata": {},
     "output_type": "execute_result"
    }
   ],
   "execution_count": 1
  },
  {
   "metadata": {
    "ExecuteTime": {
     "end_time": "2025-08-21T00:18:04.495490Z",
     "start_time": "2025-08-21T00:18:04.489030Z"
    }
   },
   "cell_type": "code",
   "source": [
    "\"\"\"\n",
    "Subsets\n",
    "\"\"\"\n",
    "\n",
    "\n",
    "def subsets(nums):\n",
    "    def backtrack(start, path):\n",
    "        res.append(path.copy())\n",
    "        for i in range(start, len(nums)):\n",
    "            path.append(nums[i])\n",
    "            backtrack(i + 1, path)\n",
    "            path.pop()\n",
    "\n",
    "    res = []\n",
    "    backtrack(0, [])\n",
    "    return res"
   ],
   "id": "f75397376a3c767",
   "outputs": [],
   "execution_count": 4
  },
  {
   "metadata": {
    "ExecuteTime": {
     "end_time": "2025-08-21T00:07:18.197083Z",
     "start_time": "2025-08-21T00:07:18.189733Z"
    }
   },
   "cell_type": "code",
   "source": [
    "\"\"\"\n",
    "Combinations\n",
    "\"\"\"\n",
    "\n",
    "\n",
    "def combinations(n, k):\n",
    "    def backtrack(start, path):\n",
    "        if len(path) == k:\n",
    "            res.append(path.copy())\n",
    "            return\n",
    "        for i in range(start, n + 1):\n",
    "            path.append(i)\n",
    "            backtrack(i + 1, path)\n",
    "            path.pop()\n",
    "\n",
    "    res = []\n",
    "    backtrack(0, [])\n",
    "    return res"
   ],
   "id": "4760b26ec97d69ff",
   "outputs": [
    {
     "data": {
      "text/plain": [
       "'\\nCombinations\\n'"
      ]
     },
     "execution_count": 3,
     "metadata": {},
     "output_type": "execute_result"
    }
   ],
   "execution_count": 3
  },
  {
   "metadata": {},
   "cell_type": "code",
   "outputs": [],
   "execution_count": null,
   "source": [
    "\"\"\"\n",
    "Permutations\n",
    "\"\"\"\n",
    "\n",
    "\n",
    "def permutations(nums):\n",
    "    def backtrack(start, end):\n",
    "        if start == end:\n",
    "            res.append(nums.copy())\n",
    "        for i in range(start, end):\n",
    "            nums[start], nums[i] = nums[i], nums[start]\n",
    "            backtrack(start + 1, end)\n",
    "            nums[start], nums[i] = nums[i], nums[start]\n",
    "\n",
    "    res = []\n",
    "    backtrack(0, len(nums))\n",
    "    return res\n",
    "\n"
   ],
   "id": "dd1f20b34f77b30"
  }
 ],
 "metadata": {
  "kernelspec": {
   "display_name": "Python 3",
   "language": "python",
   "name": "python3"
  },
  "language_info": {
   "codemirror_mode": {
    "name": "ipython",
    "version": 2
   },
   "file_extension": ".py",
   "mimetype": "text/x-python",
   "name": "python",
   "nbconvert_exporter": "python",
   "pygments_lexer": "ipython2",
   "version": "2.7.6"
  }
 },
 "nbformat": 4,
 "nbformat_minor": 5
}
