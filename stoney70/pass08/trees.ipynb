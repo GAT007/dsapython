{
 "cells": [
  {
   "metadata": {},
   "cell_type": "markdown",
   "source": "# Trees",
   "id": "6d5cc9c09743d546"
  },
  {
   "cell_type": "code",
   "id": "initial_id",
   "metadata": {
    "collapsed": true,
    "ExecuteTime": {
     "end_time": "2025-05-20T16:26:11.907042Z",
     "start_time": "2025-05-20T16:26:11.894770Z"
    }
   },
   "source": [
    "\"\"\"\n",
    "Average of levels in the tree\n",
    "\"\"\"\n",
    "\n",
    "from collections import deque\n",
    "\n",
    "\n",
    "def averageOfLevels(root):\n",
    "    if not root:\n",
    "        return False\n",
    "\n",
    "    q = deque([root])\n",
    "    res = []\n",
    "\n",
    "    while q:\n",
    "        level = []\n",
    "        for i in range(len(q)):\n",
    "            curr = q.popleft()\n",
    "            level.append(curr)\n",
    "            if curr.left: q.append(curr.left)\n",
    "            if curr.right: q.append(curr.right)\n",
    "\n",
    "        res.append(sum(level) / len(level))\n",
    "\n",
    "    return res\n",
    "\n",
    "\n"
   ],
   "outputs": [],
   "execution_count": 10
  },
  {
   "metadata": {
    "ExecuteTime": {
     "end_time": "2025-05-20T16:29:03.947123Z",
     "start_time": "2025-05-20T16:29:03.940062Z"
    }
   },
   "cell_type": "code",
   "source": [
    "\"\"\"\n",
    "Min Depth of a binary tree\n",
    "\"\"\"\n",
    "\n",
    "\n",
    "def min_depth(root):\n",
    "    if not root:\n",
    "        return False\n",
    "\n",
    "    level = 1\n",
    "    q = deque([(root, level)])\n",
    "\n",
    "    while q:\n",
    "        for i in range(len(q)):\n",
    "            curr, level = q.popleft()\n",
    "            if not curr.left and not curr.right:\n",
    "                return level\n",
    "            level += 1\n",
    "            if curr.left: q.append((curr.left, level))\n",
    "            if curr.right: q.append((curr.right, level))\n",
    "\n",
    "    return level"
   ],
   "id": "89e21a50c43ff19d",
   "outputs": [],
   "execution_count": 11
  },
  {
   "metadata": {
    "ExecuteTime": {
     "end_time": "2025-05-20T16:35:13.557045Z",
     "start_time": "2025-05-20T16:35:13.545672Z"
    }
   },
   "cell_type": "code",
   "source": [
    "\"\"\"\n",
    "Largest Node/Smallest Node\n",
    "\"\"\"\n",
    "\n",
    "\n",
    "def node_of_all_sizes(root):\n",
    "    if not root:\n",
    "        return False\n",
    "\n",
    "    largest_node = 0\n",
    "    smallest_node = float('inf')\n",
    "\n",
    "    q = deque([root])\n",
    "\n",
    "    while q:\n",
    "        curr = q.popleft()\n",
    "        largest_node = max(largest_node, curr)\n",
    "        smallest_node = min(smallest_node, curr)\n",
    "        if curr.left: q.append(curr.left)\n",
    "        if curr.right: q.append(curr.right)\n",
    "\n",
    "    return largest_node, smallest_node\n"
   ],
   "id": "b4b54538db03758c",
   "outputs": [],
   "execution_count": 12
  },
  {
   "metadata": {
    "ExecuteTime": {
     "end_time": "2025-05-20T16:14:01.642581Z",
     "start_time": "2025-05-20T16:14:01.635627Z"
    }
   },
   "cell_type": "code",
   "source": [
    "\"\"\"\n",
    "Level order traversal\n",
    "\"\"\"\n",
    "\n",
    "\n",
    "def level_order_traversal(root):\n",
    "    if not root:\n",
    "        return False\n",
    "\n",
    "    q = deque([root])\n",
    "\n",
    "    res = []\n",
    "\n",
    "    while q:\n",
    "        level = []\n",
    "        for i in range(len(q)):\n",
    "            curr = q.popleft()\n",
    "            level.append(curr.val)\n",
    "            if curr.left: q.append(curr.left)\n",
    "            if curr.right: q.append(curr.right)\n",
    "\n",
    "        res.append(level)\n",
    "\n",
    "    return res"
   ],
   "id": "b11ffbdc2dd61817",
   "outputs": [
    {
     "data": {
      "text/plain": [
       "'\\nLevel order traversal/\\n'"
      ]
     },
     "execution_count": 4,
     "metadata": {},
     "output_type": "execute_result"
    }
   ],
   "execution_count": 4
  },
  {
   "metadata": {
    "ExecuteTime": {
     "end_time": "2025-05-20T16:51:46.456309Z",
     "start_time": "2025-05-20T16:51:46.430092Z"
    }
   },
   "cell_type": "code",
   "source": [
    "\"\"\"\n",
    "Same Tree\n",
    "\"\"\"\n",
    "\n",
    "\n",
    "def same_tree(p, q):\n",
    "    stack = [(p, q)]\n",
    "    while stack:\n",
    "        l, r = stack.pop()\n",
    "        if not l and not r:\n",
    "            continue\n",
    "        if not l or not r:\n",
    "            return False\n",
    "        if l.value != r.value:\n",
    "            return False\n",
    "\n",
    "        stack.append((l.right, r.right))\n",
    "        stack.append((l.left, r.left))\n",
    "\n",
    "    return True"
   ],
   "id": "fd6eec6f68291446",
   "outputs": [],
   "execution_count": 13
  },
  {
   "metadata": {
    "ExecuteTime": {
     "end_time": "2025-05-20T16:14:20.131966Z",
     "start_time": "2025-05-20T16:14:20.120134Z"
    }
   },
   "cell_type": "code",
   "source": [
    "\"\"\"\n",
    "Path Sum\n",
    "\"\"\"\n",
    "\n",
    "\n",
    "def path_sum(root, target):\n",
    "    if not root:\n",
    "        return False\n",
    "\n",
    "    stack = [(root, root.val)]\n",
    "    while stack:\n",
    "        curr, val = stack.pop()\n",
    "        if val == target:\n",
    "            return True\n",
    "        if curr.right: stack.append((curr.right, val + curr.right.val))\n",
    "        if curr.left: stack.append((curr.left, val + curr.left.val))\n",
    "\n",
    "    return False"
   ],
   "id": "96fd38878d8190e",
   "outputs": [
    {
     "data": {
      "text/plain": [
       "'\\nPath Sum\\n'"
      ]
     },
     "execution_count": 6,
     "metadata": {},
     "output_type": "execute_result"
    }
   ],
   "execution_count": 6
  },
  {
   "metadata": {
    "ExecuteTime": {
     "end_time": "2025-05-20T22:36:20.979242Z",
     "start_time": "2025-05-20T22:36:20.969232Z"
    }
   },
   "cell_type": "code",
   "source": [
    "\"\"\"\n",
    "Diameter of a binary tree\n",
    "\"\"\"\n",
    "\n",
    "\n",
    "def diameter(root):\n",
    "    if not root:\n",
    "        return False\n",
    "\n",
    "    di = 0\n",
    "\n",
    "    def depth(root):\n",
    "        nonlocal di\n",
    "        if not root:\n",
    "            return 0\n",
    "\n",
    "        left_depth = depth(root.left)\n",
    "        right_depth = depth(root.right)\n",
    "\n",
    "        di = max(di, left_depth + right_depth)\n",
    "\n",
    "        return max(left_depth, right_depth)\n",
    "\n",
    "    depth(root)\n",
    "    return di"
   ],
   "id": "4e24a73dbc5d88ab",
   "outputs": [],
   "execution_count": 14
  },
  {
   "metadata": {
    "ExecuteTime": {
     "end_time": "2025-05-20T16:15:21.256270Z",
     "start_time": "2025-05-20T16:15:21.242332Z"
    }
   },
   "cell_type": "code",
   "source": [
    "\"\"\"\n",
    "Invert a binary tree\n",
    "\"\"\"\n",
    "\n",
    "\n",
    "def inverter(root):\n",
    "    if not root:\n",
    "        return False\n",
    "\n",
    "    stack = [root]\n",
    "    while stack:\n",
    "        curr = stack.pop()\n",
    "        if curr:\n",
    "            curr.left, curr.right = curr.right, curr.left\n",
    "            stack.append(curr.left)\n",
    "            stack.append(curr.right)\n",
    "\n",
    "    return root"
   ],
   "id": "1d2f6026a6115f77",
   "outputs": [
    {
     "data": {
      "text/plain": [
       "'\\nInvert a binary tree\\n'"
      ]
     },
     "execution_count": 8,
     "metadata": {},
     "output_type": "execute_result"
    }
   ],
   "execution_count": 8
  },
  {
   "metadata": {
    "ExecuteTime": {
     "end_time": "2025-05-20T22:40:52.755750Z",
     "start_time": "2025-05-20T22:40:52.748950Z"
    }
   },
   "cell_type": "code",
   "source": [
    "\"\"\"\n",
    "Mirror of a binary tree\n",
    "\"\"\"\n",
    "\n",
    "\n",
    "def mirror(p, q):\n",
    "    stack = [(p, q)]\n",
    "\n",
    "    while stack:\n",
    "        l, r = stack.pop()\n",
    "        if not l and not r:\n",
    "            continue\n",
    "        if not l or not r:\n",
    "            return False\n",
    "        if l.val != r.val:\n",
    "            return False\n",
    "\n",
    "        stack.append((l.left, r.right))\n",
    "        stack.append((l.right, l.left))\n",
    "\n",
    "    return True\n"
   ],
   "id": "f44e11183a768c28",
   "outputs": [],
   "execution_count": 15
  },
  {
   "metadata": {},
   "cell_type": "code",
   "outputs": [],
   "execution_count": null,
   "source": [
    "\"\"\"\n",
    "Lowest Common Ancestor\n",
    "\"\"\"\n",
    "\n",
    "\n",
    "def lca(root, p, q):\n",
    "    if not root:\n",
    "        return False\n",
    "\n",
    "    q = deque([root])\n",
    "    parent = {root: None}\n",
    "\n",
    "    while q:\n",
    "        curr = q.pop()\n",
    "        if curr.left:\n",
    "            q.append(curr.left)\n",
    "            parent[curr.left] = curr\n",
    "\n",
    "        if curr.right:\n",
    "            q.append(curr.right)\n",
    "            parent[curr.right] = curr\n",
    "\n",
    "        if p in parent and q in parent:\n",
    "            break\n",
    "\n",
    "    ancestors = set()\n",
    "\n",
    "    while p:\n",
    "        ancestors.add(p)\n",
    "        p = parent[p]\n",
    "\n",
    "    while q:\n",
    "        if q in ancestors:\n",
    "            return q\n",
    "        q = parent[q]\n",
    "\n",
    "    return False"
   ],
   "id": "613c2ca0697003d7"
  },
  {
   "metadata": {
    "ExecuteTime": {
     "end_time": "2025-05-31T20:17:21.359216Z",
     "start_time": "2025-05-31T20:17:02.778711Z"
    }
   },
   "cell_type": "code",
   "source": [
    "import pgeocode\n",
    "\n",
    "\n",
    "def get_lat_long_from_pincode():\n",
    "    \"\"\"\n",
    "    Prompts the user for a US Pincode and prints its latitude and longitude.\n",
    "    \"\"\"\n",
    "    while True:\n",
    "        pincode = input(\"Enter a US Pincode (e.g., 90210) or type 'exit' to quit: \")\n",
    "        if pincode.lower() == 'exit':\n",
    "            break\n",
    "\n",
    "        # Initialize Nominatim for the US\n",
    "        nomi = pgeocode.Nominatim('us')\n",
    "        location_info = nomi.query_postal_code(pincode)\n",
    "\n",
    "        if not location_info.empty and 'latitude' in location_info and 'longitude' in location_info:\n",
    "            latitude = location_info.latitude\n",
    "            longitude = location_info.longitude\n",
    "            place_name = location_info.place_name\n",
    "            state_name = location_info.state_name\n",
    "\n",
    "            print(f\"\\n--- Location Information for Pincode: {pincode} ---\")\n",
    "            if isinstance(place_name, str) and isinstance(state_name, str):\n",
    "                print(f\"Place: {place_name}, {state_name}\")\n",
    "            elif isinstance(place_name, str):  # Handle cases where state might be NaN\n",
    "                print(f\"Place: {place_name}\")\n",
    "            print(f\"Latitude: {latitude}\")\n",
    "            print(f\"Longitude: {longitude}\")\n",
    "            print(\"--------------------------------------------------\\n\")\n",
    "        else:\n",
    "            print(\n",
    "                f\"Could not find location information for Pincode: {pincode}. Please ensure it's a valid US Pincode.\\n\")\n",
    "\n",
    "\n",
    "print(\"Welcome to the Pincode to Latitude/Longitude Converter!\")\n",
    "# The first time you run this for a country,\n",
    "# pgeocode will download the necessary data.\n",
    "# This might take a moment.\n",
    "try:\n",
    "    # Pre-load the US data to check if it's available\n",
    "    # and to avoid the download message during the first user input.\n",
    "    print(\"Initializing geocoding data for the US (this may take a moment on first run)...\")\n",
    "    pgeocode.Nominatim('us')\n",
    "    print(\"Initialization complete.\\n\")\n",
    "    get_lat_long_from_pincode()\n",
    "except Exception as e:\n",
    "    print(f\"An error occurred during initialization or lookup: {e}\")\n",
    "    print(\"Please ensure you have an internet connection if this is the first time running the script,\")\n",
    "    print(\"as it may need to download data. If the error persists, the pgeocode library might be unavailable.\")"
   ],
   "id": "b64dae5e0779d1e8",
   "outputs": [
    {
     "name": "stdout",
     "output_type": "stream",
     "text": [
      "Welcome to the Pincode to Latitude/Longitude Converter!\n",
      "Initializing geocoding data for the US (this may take a moment on first run)...\n",
      "Initialization complete.\n",
      "\n",
      "\n",
      "--- Location Information for Pincode: 30308 ---\n",
      "Place: Atlanta, Georgia\n",
      "Latitude: 33.7718\n",
      "Longitude: -84.3757\n",
      "--------------------------------------------------\n",
      "\n"
     ]
    }
   ],
   "execution_count": 1
  },
  {
   "metadata": {},
   "cell_type": "code",
   "outputs": [],
   "execution_count": null,
   "source": "",
   "id": "5863d9d5fb1715d0"
  }
 ],
 "metadata": {
  "kernelspec": {
   "display_name": "Python 3",
   "language": "python",
   "name": "python3"
  },
  "language_info": {
   "codemirror_mode": {
    "name": "ipython",
    "version": 2
   },
   "file_extension": ".py",
   "mimetype": "text/x-python",
   "name": "python",
   "nbconvert_exporter": "python",
   "pygments_lexer": "ipython2",
   "version": "2.7.6"
  }
 },
 "nbformat": 4,
 "nbformat_minor": 5
}
