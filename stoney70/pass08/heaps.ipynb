{
 "cells": [
  {
   "metadata": {},
   "cell_type": "markdown",
   "source": [
    "# Heaps\n",
    "\n",
    "Heaps are usually imported via the import heapq command\n",
    "Created as regular array, then heapified using heapq.heapify(created_array)\n",
    "Inserting new elements using heappush : heapq.heappush(heap, element)\n",
    "Remove top element using heappop : heapq.heappop(heap)\n",
    "HeapPushPop : First pushes the new item, then pops the smallest item\n",
    "HeapReplace : First pops the smallest item, then pushes the new item and heapifies"
   ],
   "id": "e27b4780d15b3380"
  },
  {
   "metadata": {
    "ExecuteTime": {
     "end_time": "2025-07-03T20:31:13.042443Z",
     "start_time": "2025-07-03T20:31:13.034026Z"
    }
   },
   "cell_type": "code",
   "source": [
    "\"\"\"\n",
    "Kth largest element in an array\n",
    "\"\"\"\n",
    "\n",
    "import heapq\n",
    "\n",
    "\n",
    "def nlargest(nums, k):\n",
    "    return heapq.nlargest(nums, k)\n",
    "\n",
    "\n",
    "def nlargest_manual(nums, k):\n",
    "    heap = []\n",
    "\n",
    "    for num in nums:\n",
    "        heapq.heappush(heap, num)\n",
    "\n",
    "    for _ in range(k):\n",
    "        heapq.heappop(heap)\n",
    "\n",
    "    return heapq.heappop(heap)\n",
    "\n",
    "\n",
    "def nlargest_heapreplace(nums, k):\n",
    "    heap = nums[:k]\n",
    "    heapq.heapify(heap)\n",
    "\n",
    "    for num in nums[k:]:\n",
    "        if num > heap[0]:\n",
    "            heapq.heapreplace(heap, num)\n",
    "\n",
    "    return heap[0]"
   ],
   "id": "9054204f39b2cce7",
   "outputs": [],
   "execution_count": 1
  },
  {
   "cell_type": "code",
   "id": "initial_id",
   "metadata": {
    "collapsed": true,
    "ExecuteTime": {
     "end_time": "2025-07-03T21:03:13.608941Z",
     "start_time": "2025-07-03T21:03:13.603284Z"
    }
   },
   "source": [
    "\"\"\"\n",
    "K closest points to the origin\n",
    "\"\"\"\n",
    "\n",
    "import heapq, math\n",
    "\n",
    "\n",
    "def k_closest_points(points, k):\n",
    "    heap = []\n",
    "    for x, y in points:\n",
    "        distance = -(math.sqrt(x * x + y * y))\n",
    "        if len(heap) == k:\n",
    "            heapq.heappushpop(heap, (distance, x, y))\n",
    "        else:\n",
    "            heapq.heappush(heap, (distance, x, y))\n",
    "\n",
    "    return [(x, y) for (dist, x, y) in heap]\n"
   ],
   "outputs": [],
   "execution_count": 2
  },
  {
   "metadata": {
    "ExecuteTime": {
     "end_time": "2025-07-03T21:14:56.946448Z",
     "start_time": "2025-07-03T21:14:56.934803Z"
    }
   },
   "cell_type": "code",
   "source": [
    "\"\"\"\n",
    "Top K frequent elements\n",
    "\"\"\"\n",
    "\n",
    "from collections import Counter\n",
    "\n",
    "\n",
    "def top_k_frequent(nums, k):\n",
    "    count = Counter(nums)\n",
    "\n",
    "    heap = []\n",
    "\n",
    "    for num, freq in count.items():\n",
    "        if len(heap) > k:\n",
    "            heap.heapreplace(heap, (freq, num))\n",
    "        else:\n",
    "            heap.heappush(heap, (freq, num))\n",
    "\n",
    "    return [num for (freq, num) in heap]"
   ],
   "id": "c0057149389acca4",
   "outputs": [],
   "execution_count": 3
  },
  {
   "metadata": {},
   "cell_type": "code",
   "outputs": [],
   "execution_count": null,
   "source": [
    "\"\"\"\n",
    "Task Scheduler\n",
    "\"\"\"\n",
    "\n",
    "from collections import Counter, deque\n",
    "\n",
    "\n",
    "def task_scheduler(tasks, n):\n",
    "    task_counts = Counter(tasks)\n",
    "\n",
    "    max_heap = []\n",
    "    for count in task_counts.values():\n",
    "        max_heap.append(-count)\n",
    "\n",
    "    heapq.heapify(max_heap)\n",
    "\n",
    "    time = 0\n",
    "    wait_queue = deque()\n",
    "\n",
    "    while max_heap or wait_queue:\n",
    "        time += 1\n",
    "        if max_heap:\n",
    "            current_task = heapq.heappop(max_heap)\n",
    "            current_task += 1\n",
    "\n",
    "            if current_task != 0:\n",
    "                wait_queue.append((current_task, time + n))\n",
    "\n",
    "        if wait_queue and wait_queue[0][1] == time:\n",
    "            heapq.heappush(max_heap, wait_queue.popleft()[0])\n",
    "\n",
    "    return time\n",
    "\n",
    "\n"
   ],
   "id": "d7a86bc4e769e87a"
  }
 ],
 "metadata": {
  "kernelspec": {
   "display_name": "Python 3",
   "language": "python",
   "name": "python3"
  },
  "language_info": {
   "codemirror_mode": {
    "name": "ipython",
    "version": 2
   },
   "file_extension": ".py",
   "mimetype": "text/x-python",
   "name": "python",
   "nbconvert_exporter": "python",
   "pygments_lexer": "ipython2",
   "version": "2.7.6"
  }
 },
 "nbformat": 4,
 "nbformat_minor": 5
}
