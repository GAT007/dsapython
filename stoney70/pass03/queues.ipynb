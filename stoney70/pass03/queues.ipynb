{
 "cells": [
  {
   "cell_type": "code",
   "id": "initial_id",
   "metadata": {
    "collapsed": true,
    "ExecuteTime": {
     "end_time": "2025-03-05T17:19:34.761765Z",
     "start_time": "2025-03-05T17:19:34.748256Z"
    }
   },
   "source": [
    "\"\"\"\n",
    "Queues\n",
    "Implement a LIFO stack using two queues\n",
    "\"\"\""
   ],
   "outputs": [
    {
     "data": {
      "text/plain": [
       "'\\nQueues\\nImplement a LIFO stack using two queues\\n'"
      ]
     },
     "execution_count": 1,
     "metadata": {},
     "output_type": "execute_result"
    }
   ],
   "execution_count": 1
  },
  {
   "metadata": {
    "ExecuteTime": {
     "end_time": "2025-03-05T17:22:46.465530Z",
     "start_time": "2025-03-05T17:22:46.446707Z"
    }
   },
   "cell_type": "code",
   "source": [
    "\"\"\"\n",
    "Time needed to buy tickets\n",
    "Brute force solution\n",
    "Time complexity O(n*m)\n",
    "\"\"\"\n",
    "\n",
    "def brutetime(tickets, k):\n",
    "    time = 0\n",
    "    while True:\n",
    "        for i in range(len(tickets)):\n",
    "            if tickets[k] == 0:\n",
    "                return time\n",
    "\n",
    "            if tickets[i] == 0:\n",
    "                continue\n",
    "\n",
    "            if tickets[i] >=1:\n",
    "                tickets[i]-=1\n",
    "                time+=1\n",
    "\n"
   ],
   "id": "67414beb0d0d0cc2",
   "outputs": [],
   "execution_count": 2
  },
  {
   "metadata": {
    "ExecuteTime": {
     "end_time": "2025-03-05T17:34:28.002675Z",
     "start_time": "2025-03-05T17:34:27.994347Z"
    }
   },
   "cell_type": "code",
   "source": [
    " def lineartime(tickets, k):\n",
    "     result = 0\n",
    "     for i in range(len(tickets)):\n",
    "         if i<=k:\n",
    "             result+=min(tickets[i], tickets[k])\n",
    "         else:\n",
    "             result+=min(tickets[i], tickets[k]-1)\n",
    "\n",
    "     return result"
   ],
   "id": "618e19423f49ccca",
   "outputs": [],
   "execution_count": 3
  },
  {
   "metadata": {
    "ExecuteTime": {
     "end_time": "2025-03-05T17:36:02.656543Z",
     "start_time": "2025-03-05T17:36:02.648497Z"
    }
   },
   "cell_type": "code",
   "source": [
    "\"\"\"\n",
    "Reverse the first k elements of queue using stack\n",
    "\"\"\"\n",
    "def reverseStack(q, k):\n",
    "    stack = []\n",
    "    for i in range(k):\n",
    "        stack.append(q.popleft())\n",
    "\n",
    "    while stack:\n",
    "        q.append(stack.pop())\n"
   ],
   "id": "9d3c4afb33e5368d",
   "outputs": [],
   "execution_count": 4
  },
  {
   "metadata": {},
   "cell_type": "code",
   "outputs": [],
   "execution_count": null,
   "source": "",
   "id": "a5f59dc0e556e23b"
  }
 ],
 "metadata": {
  "kernelspec": {
   "display_name": "Python 3",
   "language": "python",
   "name": "python3"
  },
  "language_info": {
   "codemirror_mode": {
    "name": "ipython",
    "version": 2
   },
   "file_extension": ".py",
   "mimetype": "text/x-python",
   "name": "python",
   "nbconvert_exporter": "python",
   "pygments_lexer": "ipython2",
   "version": "2.7.6"
  }
 },
 "nbformat": 4,
 "nbformat_minor": 5
}
