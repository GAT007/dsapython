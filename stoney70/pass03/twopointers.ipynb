{
 "cells": [
  {
   "cell_type": "code",
   "id": "initial_id",
   "metadata": {
    "collapsed": true,
    "ExecuteTime": {
     "end_time": "2025-02-26T17:08:17.740831Z",
     "start_time": "2025-02-26T17:08:17.722870Z"
    }
   },
   "source": [
    "\"\"\"\n",
    "Two Pointer Problems\n",
    "Best Time to buy and sell a stock\n",
    "\"\"\"\n",
    "def bestTimeToBuy(prices):\n",
    "    l, r = 0, 1\n",
    "    max = 0\n",
    "\n",
    "    while r!=len(prices):\n",
    "        if prices[l] < prices[r]:\n",
    "            prof = prices[r]-prices[l]\n",
    "            max = max(max, prof)\n",
    "\n",
    "        else:\n",
    "            l=r\n",
    "\n",
    "        r+=1\n",
    "\n",
    "    return max"
   ],
   "outputs": [],
   "execution_count": 1
  },
  {
   "metadata": {
    "ExecuteTime": {
     "end_time": "2025-03-03T13:20:33.656945Z",
     "start_time": "2025-03-03T13:20:33.641241Z"
    }
   },
   "cell_type": "code",
   "source": [
    "\"\"\"\n",
    "Squares of a sorted array\n",
    "Given an integer array nums sorted in non decreasing order, return an array of the squares of each number sorted in non decreasing order\n",
    "O(n) solution required\n",
    "\"\"\"\n",
    "from collections import deque\n",
    "def squares(nums):\n",
    "    res = deque()\n",
    "    l, r = 0, len(nums)-1\n",
    "    while l<=r:\n",
    "        left, right = abs(nums[l]), abs(nums[r])\n",
    "        if left < right:\n",
    "            res.appendleft(right*right)\n",
    "            r-=1\n",
    "        else:\n",
    "            res.appendleft(left*left)\n",
    "            l+=1\n",
    "    return list(res)\n",
    "\n",
    "print(squares([-4,-1,0,1,3,10]))\n"
   ],
   "id": "43d8ff9d9a65c604",
   "outputs": [
    {
     "name": "stdout",
     "output_type": "stream",
     "text": [
      "[0, 1, 1, 9, 16, 100]\n"
     ]
    }
   ],
   "execution_count": 4
  },
  {
   "metadata": {
    "ExecuteTime": {
     "end_time": "2025-03-03T13:28:10.174862Z",
     "start_time": "2025-03-03T13:28:10.167029Z"
    }
   },
   "cell_type": "code",
   "source": [
    "\"\"\"\n",
    "Two Sum II - Input array is sorted\n",
    "\"\"\"\n",
    "\n",
    "def twoSum2(nums, target):\n",
    "    l, r = 0, len(nums)-1\n",
    "    while l<r:\n",
    "        currSum = nums[l]+nums[r]\n",
    "        if currSum==target:\n",
    "            return l, r\n",
    "        elif currSum < target:\n",
    "            l+=1\n",
    "        else:\n",
    "            r-=1\n",
    "    return -1, -1"
   ],
   "id": "aca55b3f8260794f",
   "outputs": [],
   "execution_count": 5
  },
  {
   "metadata": {
    "ExecuteTime": {
     "end_time": "2025-03-03T13:39:56.728806Z",
     "start_time": "2025-03-03T13:39:56.717948Z"
    }
   },
   "cell_type": "code",
   "source": [
    "\"\"\"\n",
    "3sum\n",
    "Given an array of ints, return the list of t\n",
    "\"\"\"\n",
    "def threesum(nums):\n",
    "    res = []\n",
    "    for i in range(len(nums)):\n",
    "        j, k = i+1, len(nums)-1\n",
    "        while j<k:\n",
    "            currSum = nums[i]+nums[j]+nums[k]\n",
    "            if currSum == 0:\n",
    "                res.append((i,j,k))\n",
    "                j+=1\n",
    "            elif currSum < 0:\n",
    "                j+=1\n",
    "            else:\n",
    "                k-=1\n",
    "    return res\n",
    "\n",
    "print(threesum([-4,-1,-1,0,1,2]))"
   ],
   "id": "c8641d74c0aa61c",
   "outputs": [
    {
     "name": "stdout",
     "output_type": "stream",
     "text": [
      "[(1, 2, 5), (1, 3, 4), (2, 3, 4)]\n"
     ]
    }
   ],
   "execution_count": 1
  },
  {
   "metadata": {
    "ExecuteTime": {
     "end_time": "2025-03-03T13:54:24.354809Z",
     "start_time": "2025-03-03T13:54:24.343225Z"
    }
   },
   "cell_type": "code",
   "source": [
    "\"\"\"\n",
    "Longest Mountain Array\n",
    "\"\"\"\n",
    "\n",
    "def lma(nums):\n",
    "    max_l = 0\n",
    "    for i in range(1, len(nums)-1):\n",
    "        if nums[i]>nums[i-1] and nums[i]>nums[i+1]:\n",
    "            l, r = i-1, i+1\n",
    "            while l>=0 and nums[l]>nums[l-1]:\n",
    "                l-=1\n",
    "            while r<len(nums) and nums[r]>nums[r+1]:\n",
    "                r+=1\n",
    "            max_l = max(max_l, r-l+1)\n",
    "\n",
    "    return max_l if max_l>=3 else 0\n"
   ],
   "id": "6e3b85c1958e6e55",
   "outputs": [],
   "execution_count": 2
  },
  {
   "metadata": {
    "ExecuteTime": {
     "end_time": "2025-03-03T14:05:27.002723Z",
     "start_time": "2025-03-03T14:05:26.990934Z"
    }
   },
   "cell_type": "code",
   "source": [
    "\"\"\"\n",
    "Contains duplicate 2\n",
    "Given an integer array nums and an integer k, return true if there are two distinct indices i and j in the array such that nums[i] == nums[j] and abs(i-j) <=k\n",
    "\"\"\"\n",
    "def duplicate2(nums, k):\n",
    "    seen = set()\n",
    "    for i, num in enumerate(nums):\n",
    "        if num in seen:\n",
    "            return True\n",
    "        seen.add(num)\n",
    "        if len(seen) > k:\n",
    "            seen.remove(nums[i-k])\n",
    "    return False\n",
    "\n",
    "print(duplicate2([1,2,3,4,1],3))"
   ],
   "id": "604fe10775d6913e",
   "outputs": [
    {
     "name": "stdout",
     "output_type": "stream",
     "text": [
      "False\n"
     ]
    }
   ],
   "execution_count": 4
  },
  {
   "metadata": {
    "ExecuteTime": {
     "end_time": "2025-03-03T18:27:46.305613Z",
     "start_time": "2025-03-03T18:27:46.287576Z"
    }
   },
   "cell_type": "code",
   "source": [
    "\"\"\"\n",
    "Minimum Pair Difference\n",
    "Given an array of distinct integers arr, find all pairs of elements with the minimum absolute differnce of any two elements\n",
    "\"\"\"\n",
    "def minPair(nums):\n",
    "    nums.sort()\n",
    "\n",
    "    min_diff = float('inf')\n",
    "    for i in range(1, len(nums)):\n",
    "        min_diff = min(min_diff, nums[i]-nums[i-1])\n",
    "\n",
    "    results = []\n",
    "    for i in range(1, len(nums)):\n",
    "        if nums[i]-nums[i-1]==min_diff:\n",
    "            results.append((nums[i], nums[i-1]))\n",
    "\n",
    "    return results"
   ],
   "id": "6e06534c4c73b830",
   "outputs": [],
   "execution_count": 5
  },
  {
   "metadata": {
    "ExecuteTime": {
     "end_time": "2025-03-03T19:04:39.005323Z",
     "start_time": "2025-03-03T19:04:38.994273Z"
    }
   },
   "cell_type": "code",
   "source": [
    "\"\"\"\n",
    "Minimum size subarray sum\n",
    "Given an array of positive integers nums and a positive integer target return the minimal length\n",
    "of a subarray whose sum is greater than or equal to target\n",
    "\"\"\"\n",
    "\n",
    "def mindiff(nums, t):\n",
    "    l = 0\n",
    "    total = 0\n",
    "    res = float('inf')\n",
    "\n",
    "    for r in range(len(nums)):\n",
    "        total += nums[r]\n",
    "\n",
    "        while total>=t:\n",
    "            res = min(res, r-l+1)\n",
    "            total -= nums[l]\n",
    "            l+=1\n",
    "\n",
    "    if res == float('inf'):\n",
    "        return 0\n",
    "    else:\n",
    "        return res\n"
   ],
   "id": "173389b4414703a1",
   "outputs": [],
   "execution_count": 6
  },
  {
   "metadata": {},
   "cell_type": "code",
   "outputs": [],
   "execution_count": null,
   "source": "",
   "id": "72eb0a0730ddc898"
  }
 ],
 "metadata": {
  "kernelspec": {
   "display_name": "Python 3",
   "language": "python",
   "name": "python3"
  },
  "language_info": {
   "codemirror_mode": {
    "name": "ipython",
    "version": 2
   },
   "file_extension": ".py",
   "mimetype": "text/x-python",
   "name": "python",
   "nbconvert_exporter": "python",
   "pygments_lexer": "ipython2",
   "version": "2.7.6"
  }
 },
 "nbformat": 4,
 "nbformat_minor": 5
}
