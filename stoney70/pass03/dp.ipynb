{
 "cells": [
  {
   "metadata": {
    "ExecuteTime": {
     "end_time": "2025-03-04T01:40:13.984722Z",
     "start_time": "2025-03-04T01:40:13.967690Z"
    }
   },
   "cell_type": "code",
   "source": [
    "\"\"\"\n",
    "Coin Change\n",
    "Given an array of coins and a target value, return the smallest number of coins to make amount\n",
    "O(m*n)\n",
    "\"\"\"\n",
    "\n",
    "def coin_change(coins, amount):\n",
    "    dp = [amount+1] * (amount+1)\n",
    "    dp[0] = 0\n",
    "\n",
    "    #Array index\n",
    "    for i in range(1, amount+1):\n",
    "        for c in coins:\n",
    "            if (i-c) >= 0:\n",
    "                dp[i] = min(dp[i], 1 + dp[i-c])\n",
    "\n",
    "    return dp[amount] if (dp[amount] != amount+1) else -1"
   ],
   "id": "2e010d82382a5a56",
   "outputs": [],
   "execution_count": 1
  },
  {
   "metadata": {
    "ExecuteTime": {
     "end_time": "2025-03-04T01:49:13.599597Z",
     "start_time": "2025-03-04T01:49:13.588284Z"
    }
   },
   "cell_type": "code",
   "source": [
    "\"\"\"\n",
    "Climbing stairs\n",
    "You are climbing a staircase. It takes n steps to reach the top\n",
    "Each time you can either climb 1 or 2 steps. How many distinct ways can you climb to the top?\n",
    "O(n)\n",
    "\"\"\"\n",
    "def climbingStairs(stairs):\n",
    "    dp = [0] * (stairs+1)\n",
    "    dp[1] = 1\n",
    "    dp[2] = 2\n",
    "\n",
    "    for i in range(3, stairs+1):\n",
    "        dp[i] = dp[i-1] + dp[i-2]\n",
    "\n",
    "    print(dp)\n",
    "    return dp[stairs]\n",
    "\n",
    "print(climbingStairs(5))"
   ],
   "id": "47d4fcb0ed19c3b4",
   "outputs": [
    {
     "name": "stdout",
     "output_type": "stream",
     "text": [
      "[0, 1, 2, 3, 5, 8]\n",
      "8\n"
     ]
    }
   ],
   "execution_count": 10
  },
  {
   "metadata": {
    "ExecuteTime": {
     "end_time": "2025-03-04T01:57:05.699152Z",
     "start_time": "2025-03-04T01:57:05.692937Z"
    }
   },
   "cell_type": "code",
   "source": [
    "\"\"\"\n",
    "Maximum Subarray\n",
    "Given an integer array nums, find the subarray with the largest sum and return its sum\n",
    "\"\"\"\n",
    "\n",
    "def max_subarray(nums):\n",
    "    dp = [0] * len(nums)\n",
    "    for i, n in enumerate(nums):\n",
    "        dp[i] = max(n, dp[i-1]+n)\n",
    "    return max(dp)\n"
   ],
   "id": "13fe771e7cd481d2",
   "outputs": [],
   "execution_count": 11
  },
  {
   "metadata": {},
   "cell_type": "code",
   "outputs": [],
   "execution_count": null,
   "source": [
    "def msub(nums):\n",
    "    currentSum = 0\n",
    "    maxSum = 0\n",
    "    for n in nums:\n",
    "        if currentSum <0:\n",
    "            currentSum = 0\n",
    "        currentSum+=n\n",
    "        maxSum = max(maxSum, currentSum)\n",
    "    return maxSum"
   ],
   "id": "d961891a77cd9c47"
  },
  {
   "metadata": {},
   "cell_type": "code",
   "outputs": [],
   "execution_count": null,
   "source": [
    "\"\"\"\n",
    "Quick recap\n",
    "\n",
    "Data structures in python :\n",
    "List = [], append, extend, remove\n",
    "Dictionary  = {}, key value pair, d = {}, d[i] = j or d[i] or del d[i]\n",
    "Set = set(), stores only unique values, set.add() and set.remove\n",
    "tuple = (), immutable list where you cannot modify once created\n",
    "\"\"\""
   ],
   "id": "a3f4a196e228eb0b"
  },
  {
   "metadata": {
    "ExecuteTime": {
     "end_time": "2025-03-04T15:01:57.610446Z",
     "start_time": "2025-03-04T15:01:57.555449Z"
    }
   },
   "cell_type": "code",
   "source": [
    "\"\"\"\n",
    "Range Sum Query\n",
    "Given a list of numbers, initialize for look up and create function which sums based on given indices subrange\n",
    "\"\"\"\n",
    "class NumArray:\n",
    "    def __init__(self, nums):\n",
    "        self.nums = nums\n",
    "        self.num_sum = [0]\n",
    "        totalSum = 0\n",
    "        for num in self.nums:\n",
    "            totalSum+=num\n",
    "            self.num_sum.append(totalSum)\n",
    "\n",
    "    def rangeSum(self, l,r):\n",
    "        return self.num_sum[r] - self.num_sum[l-1]"
   ],
   "id": "70835d93c8a9fb6b",
   "outputs": [],
   "execution_count": 12
  },
  {
   "metadata": {},
   "cell_type": "code",
   "outputs": [],
   "execution_count": null,
   "source": "",
   "id": "3ee862f68d827d64"
  }
 ],
 "metadata": {
  "kernelspec": {
   "display_name": "Python 3",
   "language": "python",
   "name": "python3"
  },
  "language_info": {
   "codemirror_mode": {
    "name": "ipython",
    "version": 2
   },
   "file_extension": ".py",
   "mimetype": "text/x-python",
   "name": "python",
   "nbconvert_exporter": "python",
   "pygments_lexer": "ipython2",
   "version": "2.7.6"
  }
 },
 "nbformat": 4,
 "nbformat_minor": 5
}
