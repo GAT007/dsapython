{
 "cells": [
  {
   "cell_type": "code",
   "id": "initial_id",
   "metadata": {
    "collapsed": true,
    "ExecuteTime": {
     "end_time": "2025-01-30T14:10:43.830358Z",
     "start_time": "2025-01-30T14:10:43.816617Z"
    }
   },
   "source": [
    "\"\"\"\n",
    "217 : Array contains duplicate elements\n",
    "Brute force logic : two for loops, where you pick each element and check with other elements in the array\n",
    "Time complexity approach : sort the array, single for loop to iterate through, check if any two elements are the same\n",
    "Space complexity approach : Single for loop, iterate through, find them in a list and check the set each time, if the set had the number before, array contains a duplicate, otherwise it does not\n",
    "\n",
    "Python data structures\n",
    "list = []\n",
    "dictionary = {}\n",
    "tuple = () //immutable, cannot be changed once created\n",
    "set = set() //mutable, does not contain any duplicate elements\n",
    "\"\"\"\n",
    "\n",
    "def containsDuplicate(nums):\n",
    "    num_set = set()\n",
    "\n",
    "    for num in nums:\n",
    "        if num in num_set:\n",
    "            return True\n",
    "        else:\n",
    "            num_set.add(num)\n",
    "    return False"
   ],
   "outputs": [],
   "execution_count": 1
  },
  {
   "metadata": {
    "ExecuteTime": {
     "end_time": "2025-02-01T20:54:18.038318Z",
     "start_time": "2025-02-01T20:54:18.027064Z"
    }
   },
   "cell_type": "code",
   "source": [
    "\"\"\"\n",
    "242 Valid Anagram\n",
    "Given two strings, check whether they are anagrams of each other or not\n",
    "Brute force approach :\n",
    "\"\"\"\n",
    "\n",
    "def is_anagram(s, t) -> bool:\n",
    "    if len(s) != len(t):\n",
    "        return False\n",
    "\n",
    "    alphabet = [0] * 26\n",
    "\n",
    "    for i in range(len(s)):\n",
    "       alphabet[ord(s[i]) - ord('a')] += 1\n",
    "       alphabet[ord(t[i]) - ord('a')] -= 1\n",
    "\n",
    "    for element in alphabet:\n",
    "        if element != 0:\n",
    "            return False\n",
    "\n",
    "    return True\n"
   ],
   "id": "742c97b00211f2ee",
   "outputs": [],
   "execution_count": 1
  },
  {
   "metadata": {
    "ExecuteTime": {
     "end_time": "2025-02-01T21:11:46.317250Z",
     "start_time": "2025-02-01T21:11:46.302010Z"
    }
   },
   "cell_type": "code",
   "source": [
    "\"\"\"\n",
    "1 Two Sum\n",
    "Given an array of integers find whether two elements from the array can add up to a certain target value\n",
    "Logic : Iterate through the array, finding the complement of each element, check in the dictionary whether the element is present or not, if present return indices, else return false\n",
    "\"\"\"\n",
    "\n",
    "def two_sum(nums, target):\n",
    "    if len(nums) < 2:\n",
    "        raise Exception\n",
    "\n",
    "    dict_num= {}\n",
    "\n",
    "    for i, number in enumerate(nums):\n",
    "        complement = target - i\n",
    "        if complement in dict_num:\n",
    "            return (i, dict_num[complement])\n",
    "\n",
    "        dict_num[complement] = i\n",
    "\n",
    "    return False"
   ],
   "id": "f24af4d94b376e42",
   "outputs": [],
   "execution_count": 2
  },
  {
   "metadata": {
    "ExecuteTime": {
     "end_time": "2025-02-01T21:37:28.259525Z",
     "start_time": "2025-02-01T21:37:28.250503Z"
    }
   },
   "cell_type": "code",
   "source": [
    "\"\"\" Group Anagrams\n",
    "Given an array of strings, group anagrams together and return them in any order\n",
    "Create their equivalent 26 character array, store it in a dictionary, return the dictionary\n",
    "\"\"\"\n",
    "from collections import defaultdict\n",
    "\n",
    "def group_anagrams(strs):\n",
    "    if len(strs) == 0:\n",
    "        return []\n",
    "\n",
    "    ans_map = defaultdict(list)\n",
    "    for str in strs:\n",
    "        count = [0] * 26\n",
    "\n",
    "        for s in str:\n",
    "            count[ord(s) - ord('a')] += 1\n",
    "\n",
    "        key = tuple(count)\n",
    "        ans_map[key].append(str)\n",
    "\n",
    "    return list(ans_map.values())"
   ],
   "id": "ee1b1c7979da733b",
   "outputs": [],
   "execution_count": 3
  },
  {
   "metadata": {
    "ExecuteTime": {
     "end_time": "2025-02-06T13:29:05.256163Z",
     "start_time": "2025-02-06T13:29:05.247137Z"
    }
   },
   "cell_type": "code",
   "source": [
    "\"\"\"\n",
    "Given an unsorted array find out how many numbers are smaller than each of the elements in that array\n",
    "Input : [8, 0 ,1, 1, 4, 3]\n",
    "Output : [5, 0, 1, 1, 4, 3]\n",
    "\"\"\"\n",
    "\n",
    "#CILEDO\n",
    "\n",
    "def lesser_than_func(nums):\n",
    "    temp = sorted(nums)\n",
    "    d = {}\n",
    "    for i, num in enumerate(temp):\n",
    "        if num not in d:\n",
    "            d[num] = i\n",
    "\n",
    "    ret = []\n",
    "\n",
    "    for i in nums:\n",
    "        ret.append(d[i])\n",
    "\n",
    "    return ret\n",
    "\n",
    "#Time complexity : O(n log n)\n",
    "#Time complexity reminder : O(n^2) < O(n log n) < O(n) < O(log n) < O(1)"
   ],
   "id": "d28795ad43d276e5",
   "outputs": [],
   "execution_count": 1
  },
  {
   "metadata": {
    "ExecuteTime": {
     "end_time": "2025-02-06T13:45:59.282231Z",
     "start_time": "2025-02-06T13:45:59.272113Z"
    }
   },
   "cell_type": "code",
   "source": [
    "\"\"\"\n",
    "Minimum time visiting all points\n",
    "From a list of points, calculate the min distance between the first and the last point\n",
    "\"\"\"\n",
    "def min_distance_to_points(points) -> int:\n",
    "    res = 0\n",
    "    x1, y1 = points.pop()\n",
    "    while points:\n",
    "        x2, y2 = points.pop()\n",
    "        res += max(abs(y2 - y1), abs(x2 - x1))\n",
    "        x1, y1 = x2, y2\n",
    "    return res"
   ],
   "id": "a0b67f10b65fcd2a",
   "outputs": [],
   "execution_count": 2
  },
  {
   "metadata": {
    "ExecuteTime": {
     "end_time": "2025-02-06T15:03:50.764587Z",
     "start_time": "2025-02-06T15:03:50.752571Z"
    }
   },
   "cell_type": "code",
   "source": [
    "\"\"\"\n",
    "Spiral matrix\n",
    "Given an m*n matrix, return all elements of the matrix in spiral order\n",
    "matrix = [[1,2,3], [4,5,6], [7,8,9]]\n",
    "ret\n",
    "\"\"\"\n",
    "def spiralOrder(matrix):\n",
    "    ret = []\n",
    "    while matrix:\n",
    "        #First row of the elements in the matrix\n",
    "        ret += (matrix.pop(0))\n",
    "\n",
    "        if matrix and matrix[0]:\n",
    "            for row in matrix:\n",
    "                ret.append(row.pop())\n",
    "\n",
    "        if matrix:\n",
    "            ret+=(matrix.pop()[::-1])\n",
    "\n",
    "        if matrix and matrix[0]:\n",
    "            for row in matrix[::-1]:\n",
    "                ret.append(row.pop(0))\n"
   ],
   "id": "98feffe2b611483d",
   "outputs": [],
   "execution_count": 3
  },
  {
   "metadata": {},
   "cell_type": "code",
   "outputs": [],
   "execution_count": null,
   "source": [
    "\"\"\"\n",
    "Number of Islands : DFS/BFS problem : Need to do this with graphs\n",
    "DFS in binary trees : Traverse through the left subtree first, and then traverse through the right subtree : This is usually done with stack\n",
    "BFS in trees : Traverse level by level in the tree : Usually done with a queue\n",
    "\"\"\"\n",
    "from collections import deque\n",
    "def NumIslands2(grid):\n",
    "    if not grid:\n",
    "        return 0\n",
    "\n",
    "    def bfs(r, c):\n",
    "        q = deque()\n",
    "        visit.add((r, c ))\n"
   ],
   "id": "eb325090ff070f71"
  },
  {
   "metadata": {
    "ExecuteTime": {
     "end_time": "2025-02-07T03:22:58.999387Z",
     "start_time": "2025-02-07T03:22:58.978967Z"
    }
   },
   "cell_type": "code",
   "source": [
    "\"\"\"\n",
    "Max Profit\n",
    "\"\"\"\n",
    "\n",
    "def maxProfit(prices):\n",
    "    l, r = 0,1\n",
    "    maxP = 0\n",
    "\n",
    "    while r!= len(prices):\n",
    "        if prices[l] < prices[r] :\n",
    "            prof = prices[r] - prices[l]\n",
    "            maxP = max(maxP, prof)\n",
    "\n",
    "        else:\n",
    "            l = r\n",
    "\n",
    "        r+=1\n",
    "    return maxP"
   ],
   "id": "87eefc96de8662ea",
   "outputs": [],
   "execution_count": 4
  },
  {
   "metadata": {},
   "cell_type": "code",
   "outputs": [],
   "execution_count": null,
   "source": [
    "\"\"\"\n",
    "Squares of a sorted array\n",
    "\"\"\"\n",
    "\n"
   ],
   "id": "79c326163c2e4c82"
  },
  {
   "metadata": {
    "ExecuteTime": {
     "end_time": "2025-02-10T15:12:08.623177Z",
     "start_time": "2025-02-10T15:12:08.607236Z"
    }
   },
   "cell_type": "code",
   "source": [
    "\"\"\"\n",
    "Range sum query\n",
    "\"\"\"\n",
    "class numArray(object):\n",
    "    def __init__(self, nums):\n",
    "        self.acc_nums = [0]\n",
    "        for num in nums:\n",
    "            self.acc_nums.append(self.acc_nums[-1] + num)\n",
    "\n",
    "    def sumRange(self, left, right):\n",
    "        return self.acc_nums[right+1] - self.acc_nums[left]"
   ],
   "id": "44d0d793eea1ace",
   "outputs": [
    {
     "data": {
      "text/plain": [
       "''"
      ]
     },
     "execution_count": 1,
     "metadata": {},
     "output_type": "execute_result"
    }
   ],
   "execution_count": 1
  },
  {
   "metadata": {
    "ExecuteTime": {
     "end_time": "2025-02-10T15:37:55.193437Z",
     "start_time": "2025-02-10T15:37:55.179613Z"
    }
   },
   "cell_type": "code",
   "source": [
    "\"\"\"\n",
    "Backtracking\n",
    "Permutations - the number of ways to arrange things - order matters\n",
    "Combinations - the number of ways to choose things - order doesn't matter\n",
    "\"\"\"\n",
    "\n",
    "\"\"\"\n",
    "Problem 1\n",
    "Letter case permutations :\n",
    "Input : a1b1\n",
    "Output : [a1b1, A1b1, a1B1, A1B1]\n",
    "\"\"\"\n",
    "\n",
    "#Iterative approach\n",
    "def letterCasePermutations(s):\n",
    "    output = [\"\"]\n",
    "    for c in s:\n",
    "        tmp = []\n",
    "        if c.isalpha():\n",
    "            for o in output:\n",
    "                tmp.append(o+c.lower())\n",
    "                tmp.append(o+c.upper())\n",
    "        else:\n",
    "            for o in output:\n",
    "                tmp.append(o+c)\n",
    "        output = tmp\n",
    "\n",
    "    return output\n",
    "#Log analysis : O(2^n)\n",
    "def letterCaseBackTrack(s):\n",
    "    res = []\n",
    "\n",
    "    def backtrack(sub = \"\", i=0):\n",
    "        if len(sub) == len(s):\n",
    "            res.append(sub)\n",
    "            return\n",
    "\n",
    "        if s[i].isalpha():\n",
    "            backtrack(sub + s[i].swapcase(), i + 1)\n",
    "\n",
    "        backtrack(sub + s[i], i + 1)\n",
    "\n",
    "    backtrack()\n",
    "\n",
    "    return res\n",
    "\n",
    "s = \"a1b1\"\n",
    "print(letterCaseBackTrack(s))"
   ],
   "id": "843ab8fad206d086",
   "outputs": [
    {
     "name": "stdout",
     "output_type": "stream",
     "text": [
      "['A1B1', 'A1b1', 'a1B1', 'a1b1']\n"
     ]
    }
   ],
   "execution_count": 5
  },
  {
   "metadata": {},
   "cell_type": "code",
   "outputs": [],
   "execution_count": null,
   "source": [
    "def permute(nums):\n",
    "    def backtrack(start, end):\n",
    "        if start == end:\n",
    "            result.append(nums[:])\n",
    "            return\n",
    "        for i in range(start, end):\n",
    "            nums[start], nums[i] = nums[i], nums[start]\n",
    "            backtrack(start+1, end)\n",
    "            nums[start], nums[i] = nums[i], nums[start]\n",
    "    result = []\n",
    "    backtrack(0, len(nums))\n",
    "    return result\n",
    "\n",
    "#Time complexity O(N * N!)\n"
   ],
   "id": "fc74d31b0558b01c"
  }
 ],
 "metadata": {
  "kernelspec": {
   "display_name": "Python 3",
   "language": "python",
   "name": "python3"
  },
  "language_info": {
   "codemirror_mode": {
    "name": "ipython",
    "version": 2
   },
   "file_extension": ".py",
   "mimetype": "text/x-python",
   "name": "python",
   "nbconvert_exporter": "python",
   "pygments_lexer": "ipython2",
   "version": "2.7.6"
  }
 },
 "nbformat": 4,
 "nbformat_minor": 5
}
