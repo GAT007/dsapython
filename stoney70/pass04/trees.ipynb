{
 "cells": [
  {
   "metadata": {},
   "cell_type": "markdown",
   "source": "## Binary Trees",
   "id": "4627529902ef2ba5"
  },
  {
   "cell_type": "code",
   "id": "initial_id",
   "metadata": {
    "collapsed": true,
    "ExecuteTime": {
     "end_time": "2025-03-26T02:23:09.971387Z",
     "start_time": "2025-03-26T02:23:09.952018Z"
    }
   },
   "source": [
    "\"\"\"\n",
    "Average of Levels in a binary tree\n",
    "\"\"\"\n",
    "\n",
    "\n",
    "class Node:\n",
    "    def __init__(self, val=0, left=None, right=None):\n",
    "        self.val = val\n",
    "        self.left = left\n",
    "        self.right = right\n",
    "\n",
    "\n",
    "from collections import deque\n",
    "\n",
    "\n",
    "def average_levels(root):\n",
    "    q = deque([root])\n",
    "    res = []\n",
    "\n",
    "    while q:\n",
    "        level = []\n",
    "        for i in range(len(q)):\n",
    "            node = q.popleft()\n",
    "            level.append(node.val)\n",
    "            if node.left: q.append(node.left)\n",
    "            if node.right: q.append(node.right)\n",
    "\n",
    "        res.append(sum(level) / len(level))\n",
    "\n",
    "    return res"
   ],
   "outputs": [],
   "execution_count": 1
  },
  {
   "metadata": {
    "ExecuteTime": {
     "end_time": "2025-03-26T02:45:25.253600Z",
     "start_time": "2025-03-26T02:45:25.244393Z"
    }
   },
   "cell_type": "code",
   "source": [
    "\"\"\"\n",
    "Min Depth of a binary tree\n",
    "\"\"\"\n",
    "\n",
    "\n",
    "def min_depth(root):\n",
    "    q = deque([root, 1])\n",
    "    while q:\n",
    "        node, level = q.popleft()\n",
    "        if not node.left and not node.right:\n",
    "            return level\n",
    "        if node.left: q.append((node.left, level + 1))\n",
    "        if node.right: q.append((node.right, level + 1))\n",
    "\n",
    "    return -1"
   ],
   "id": "e3d7cb8cc8726210",
   "outputs": [],
   "execution_count": 2
  },
  {
   "metadata": {
    "ExecuteTime": {
     "end_time": "2025-03-26T02:48:08.392019Z",
     "start_time": "2025-03-26T02:48:08.375115Z"
    }
   },
   "cell_type": "code",
   "source": [
    "\"\"\"\n",
    "max depth of a binary tree\n",
    "\"\"\"\n",
    "\n",
    "\n",
    "def max_depth(root):\n",
    "    q = deque([(root, 1)])\n",
    "    while q:\n",
    "        node, level = q.popleft()\n",
    "        if node.left: q.append((node.left, level + 1))\n",
    "        if node.right: q.append((node.right, level + 1))\n",
    "    return level"
   ],
   "id": "9f17866fd914f919",
   "outputs": [],
   "execution_count": 3
  },
  {
   "metadata": {
    "ExecuteTime": {
     "end_time": "2025-04-02T13:08:29.470266Z",
     "start_time": "2025-04-02T13:08:29.444266Z"
    }
   },
   "cell_type": "code",
   "source": [
    "\"\"\"\n",
    "Max/Min value of a binary tree\n",
    "\"\"\"\n",
    "\n",
    "\n",
    "def max_value(root):\n",
    "    q = deque([root])\n",
    "    max_value = 0\n",
    "    while q:\n",
    "        node = q.popleft()\n",
    "        if node.left: q.append(node.left)\n",
    "        if node.right: q.append(node.right)\n",
    "        if node.val > max_value:\n",
    "            max_value = node.val\n",
    "    return max_value"
   ],
   "id": "123f4602583dd151",
   "outputs": [],
   "execution_count": 1
  },
  {
   "metadata": {
    "ExecuteTime": {
     "end_time": "2025-04-02T13:15:57.239906Z",
     "start_time": "2025-04-02T13:15:57.229555Z"
    }
   },
   "cell_type": "code",
   "source": [
    "\"\"\"\n",
    "Level order traversal : Nothing but breadth first search on the tree\n",
    "\"\"\"\n",
    "\n",
    "\n",
    "def level_order_traversal(root):\n",
    "    q = deque([root])\n",
    "    res = []\n",
    "    while q:\n",
    "        level = []\n",
    "        for i in range(len(q)):\n",
    "            node = q.popleft()\n",
    "            level.append(node.val)\n",
    "            if node.left: q.append(node.left)\n",
    "            if node.right: q.append(node.right)\n",
    "\n",
    "        res.append(level)\n",
    "\n",
    "    return res"
   ],
   "id": "7c76027451dab361",
   "outputs": [],
   "execution_count": 3
  },
  {
   "metadata": {
    "ExecuteTime": {
     "end_time": "2025-04-02T14:25:51.873605Z",
     "start_time": "2025-04-02T14:25:51.859227Z"
    }
   },
   "cell_type": "code",
   "source": [
    "\"\"\"\n",
    "Same Tree : DFS with tuples\n",
    "\"\"\"\n",
    "\n",
    "\n",
    "def isSameTree(p, q):\n",
    "    stack = [(p, q)]\n",
    "    while stack:\n",
    "        node1, node2 = stack.pop()\n",
    "        if not node1 and not node2:\n",
    "            continue\n",
    "        elif None in [node1, node2] or node1.val != node2.val:\n",
    "            return False\n",
    "\n",
    "        stack.append((node1.right, node2.right))\n",
    "        stack.append((node1.left, node2.left))\n",
    "\n",
    "    return True"
   ],
   "id": "98c8d9c554047b8e",
   "outputs": [],
   "execution_count": 4
  },
  {
   "metadata": {
    "ExecuteTime": {
     "end_time": "2025-04-02T14:53:47.187991Z",
     "start_time": "2025-04-02T14:53:47.177981Z"
    }
   },
   "cell_type": "code",
   "source": [
    "\"\"\"\n",
    "Path Sum\n",
    "\"\"\"\n",
    "\n",
    "\n",
    "def pathSum(root, targetSum):\n",
    "    if not root:\n",
    "        return False\n",
    "\n",
    "    stack = [(root, root.val)]\n",
    "\n",
    "    while stack:\n",
    "        node, val = stack.pop()\n",
    "        if not node.left and not node.right and val == targetSum:\n",
    "            return True\n",
    "\n",
    "        if node.right: stack.append((node.right, val + node.right.val))\n",
    "        if node.left: stack.append((node.left, val + node.left.val))\n",
    "\n",
    "    return False\n"
   ],
   "id": "7b906c3792175d81",
   "outputs": [],
   "execution_count": 5
  },
  {
   "metadata": {
    "ExecuteTime": {
     "end_time": "2025-04-02T15:08:20.157356Z",
     "start_time": "2025-04-02T15:08:20.148352Z"
    }
   },
   "cell_type": "code",
   "source": [
    "\"\"\"\n",
    "Diameter of the whole tree\n",
    "\"\"\"\n",
    "\n",
    "\n",
    "def diameter(root):\n",
    "    di = 0\n",
    "\n",
    "    def depth(root):\n",
    "        nonlocal di\n",
    "        if not root:\n",
    "            return 0\n",
    "\n",
    "        left_depth = depth(root.left)\n",
    "        right_depth = depth(root.right)\n",
    "\n",
    "        di = max(di, left_depth + right_depth)\n",
    "        return 1 - max(left_depth, right_depth)\n",
    "\n",
    "    depth(root)\n",
    "    return diameter"
   ],
   "id": "9e3c239bd0a6468a",
   "outputs": [],
   "execution_count": 6
  },
  {
   "metadata": {
    "ExecuteTime": {
     "end_time": "2025-04-02T15:10:07.681249Z",
     "start_time": "2025-04-02T15:10:07.674768Z"
    }
   },
   "cell_type": "code",
   "source": [
    "\"\"\"\n",
    "Invert a binary tree\n",
    "\n",
    "\"\"\"\n",
    "\n",
    "\n",
    "def invert_binary(root):\n",
    "    stack = [root]\n",
    "\n",
    "    while stack:\n",
    "        curr = stack.pop()\n",
    "        if curr:\n",
    "            curr.left, curr.right = curr.right, curr.left\n",
    "            stack.extend([curr.right, curr.left])\n",
    "\n",
    "    return root"
   ],
   "id": "6a253779086c6cba",
   "outputs": [],
   "execution_count": 7
  },
  {
   "metadata": {},
   "cell_type": "code",
   "outputs": [],
   "execution_count": null,
   "source": [
    "\"\"\"\n",
    "Lowest common ancestor\n",
    "\"\"\"\n",
    "from collections import defaultdict\n",
    "\n",
    "\n",
    "def lca(root, p, q):\n",
    "    #Create the q and dictionary\n",
    "    qu = deque([root])\n",
    "    parent = defaultdict(list)\n",
    "    parent[root] = None\n",
    "\n",
    "    #BFS through qu and create dict through nodes\n",
    "    while qu:\n",
    "        node = qu.popleft()\n",
    "        if node.left:\n",
    "            qu.append(node.left)\n",
    "            parent[node.left] = node\n",
    "        if node.right:\n",
    "            qu.append(node.right)\n",
    "            parent[node.right] = node\n",
    "\n",
    "        if p in parent and q in parent:\n",
    "            break\n",
    "\n",
    "    #Create set for ancestors, iterate through them and return the common ancestor\n",
    "    ancestors = set()\n",
    "    while p:\n",
    "        ancestors.add(p)\n",
    "        p = parent[p]\n",
    "\n",
    "    while q:\n",
    "        if q in ancestors:\n",
    "            return q\n",
    "        q = parent[q]\n",
    "\n"
   ],
   "id": "2b42e645e8d32f20"
  }
 ],
 "metadata": {
  "kernelspec": {
   "display_name": "Python 3",
   "language": "python",
   "name": "python3"
  },
  "language_info": {
   "codemirror_mode": {
    "name": "ipython",
    "version": 2
   },
   "file_extension": ".py",
   "mimetype": "text/x-python",
   "name": "python",
   "nbconvert_exporter": "python",
   "pygments_lexer": "ipython2",
   "version": "2.7.6"
  }
 },
 "nbformat": 4,
 "nbformat_minor": 5
}
