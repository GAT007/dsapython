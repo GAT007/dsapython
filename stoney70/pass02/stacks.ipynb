{
 "cells": [
  {
   "cell_type": "code",
   "id": "initial_id",
   "metadata": {
    "collapsed": true,
    "ExecuteTime": {
     "end_time": "2025-02-22T14:25:06.282565Z",
     "start_time": "2025-02-22T14:25:06.273940Z"
    }
   },
   "source": [
    "\"\"\"\n",
    "Min stack\n",
    "Design a stack that supports push, pop, top and retrieving the minimum element in constant time\n",
    "MinStack() initializes the stack object\n",
    "push(val) pushes the val onto the stack\n",
    "pop() removes the element on the top of the stack\n",
    "top() gets the top element of the stack\n",
    "getMin() retrieves the minimum element of the stack\n",
    "\"\"\"\n",
    "\n",
    "class minstack:\n",
    "    def __init__(self):\n",
    "        self.stack = []\n",
    "\n",
    "    def push(self, x):\n",
    "        if not self.stack:\n",
    "            current_min = x\n",
    "        else:\n",
    "            current_min = min(x, self.stack[-1][1])\n",
    "\n",
    "        #print(self.stack)\n",
    "        self.stack.append((x, current_min))\n",
    "\n",
    "    def pop(self):\n",
    "        print(self.stack.pop())\n",
    "\n",
    "    def top(self):\n",
    "        return self.stack[-1][0]\n",
    "\n",
    "    def getMin(self):\n",
    "        return self.stack[-1][1]\n",
    "\n",
    "\n",
    "minStack = minstack()\n",
    "minStack.push(-2)\n",
    "minStack.push(0)\n",
    "minStack.push(-5)\n",
    "minStack.push(-8)\n",
    "minStack.pop()\n",
    "print(minStack.getMin())"
   ],
   "outputs": [
    {
     "name": "stdout",
     "output_type": "stream",
     "text": [
      "(-8, -8)\n",
      "-5\n"
     ]
    }
   ],
   "execution_count": 12
  },
  {
   "metadata": {},
   "cell_type": "code",
   "outputs": [],
   "execution_count": null,
   "source": [
    "\"\"\"\n",
    "Quick revision of the data structures in python\n",
    "Lists = [], append(), extend() Simple arrays\n",
    "Dictionaries = {}, key value pairs, new elements added by dict[key] = value\n",
    "Tuples = (), immutable arrays, cannot be modified once you have created them\n",
    "Sets = set(), set of all unique values, no repeated elements\n",
    "\"\"\""
   ],
   "id": "7ac8f792955b1bf7"
  },
  {
   "metadata": {
    "ExecuteTime": {
     "end_time": "2025-02-22T14:35:16.348166Z",
     "start_time": "2025-02-22T14:35:16.340072Z"
    }
   },
   "cell_type": "code",
   "source": [
    "\"\"\"\n",
    "Valid parentheses\n",
    "\"\"\"\n",
    "def isValid(s):\n",
    "    stack = []\n",
    "    hashMap = {')':'(', '}':'{', ']':'['}\n",
    "    for element in s:\n",
    "        if stack and (element in hashMap and stack[-1] == hashMap[element]):\n",
    "            stack.pop()\n",
    "        else:\n",
    "            stack.append(element)\n",
    "    return not stack"
   ],
   "id": "47b0367975b151f9",
   "outputs": [],
   "execution_count": 13
  },
  {
   "metadata": {
    "ExecuteTime": {
     "end_time": "2025-02-22T15:19:38.052202Z",
     "start_time": "2025-02-22T15:19:38.036562Z"
    }
   },
   "cell_type": "code",
   "source": [
    "\"\"\"\n",
    "Evaluate Reverse polish notation\n",
    "You are given an array of strings tokens that re\n",
    "\"\"\"\n",
    "def reversePolishNotation(s):\n",
    "    op = '+-*/'\n",
    "    stack = []\n",
    "    for element in s:\n",
    "        if element not in op:\n",
    "            stack.append(element)\n",
    "        else:\n",
    "            r, l = int(stack.pop()), int(stack.pop())\n",
    "            if element == \"+\":\n",
    "                stack.append(r+l)\n",
    "            elif element == '-':\n",
    "                stack.append(r-l)\n",
    "            elif element == '*':\n",
    "                stack.append(r*l)\n",
    "            else:\n",
    "                stack.append(int(float((l)/r)))\n",
    "\n",
    "    print(stack.pop())\n",
    "\n",
    "reversePolishNotation(['10','6','9','3','+','-11','*','/','*','17','+','5','+'])"
   ],
   "id": "f0f7cfc647c40591",
   "outputs": [
    {
     "name": "stdout",
     "output_type": "stream",
     "text": [
      "22\n"
     ]
    }
   ],
   "execution_count": 16
  },
  {
   "metadata": {
    "ExecuteTime": {
     "end_time": "2025-02-22T15:20:16.065283Z",
     "start_time": "2025-02-22T15:20:16.050062Z"
    }
   },
   "cell_type": "code",
   "source": [
    "\"\"\"\n",
    "Bonus question : How do you create a reverse polish notation?\n",
    "\"\"\""
   ],
   "id": "a5e57c2eb69bea07",
   "outputs": [
    {
     "data": {
      "text/plain": [
       "'\\nBonus question : How do you create a reverse polish notation?\\n'"
      ]
     },
     "execution_count": 17,
     "metadata": {},
     "output_type": "execute_result"
    }
   ],
   "execution_count": 17
  },
  {
   "metadata": {
    "ExecuteTime": {
     "end_time": "2025-02-22T15:26:14.899436Z",
     "start_time": "2025-02-22T15:26:14.889620Z"
    }
   },
   "cell_type": "code",
   "source": [
    "\"\"\"\n",
    "Stack sorting\n",
    "Given a stack of integers sort them in ascending or descending order\n",
    "\"\"\"\n",
    "def stackSorting(nums):\n",
    "    temp_stack = []\n",
    "\n",
    "    while(nums):\n",
    "        num = nums.pop()\n",
    "        while (temp_stack and (temp_stack[-1] < num)):\n",
    "            nums.append(temp_stack[-1])\n",
    "            temp_stack.pop()\n",
    "        temp_stack.append(num)\n",
    "\n",
    "    return temp_stack\n",
    "\n",
    "print(stackSorting([34, 3, 31, 98, 92, 23]))"
   ],
   "id": "1a922e70c0c0125",
   "outputs": [
    {
     "name": "stdout",
     "output_type": "stream",
     "text": [
      "[98, 92, 34, 31, 23, 3]\n"
     ]
    }
   ],
   "execution_count": 18
  },
  {
   "metadata": {
    "ExecuteTime": {
     "end_time": "2025-02-22T15:39:07.807648Z",
     "start_time": "2025-02-22T15:39:07.796380Z"
    }
   },
   "cell_type": "code",
   "source": [
    "\"\"\"\n",
    "Stack sorting in recursive manner\n",
    "\"\"\""
   ],
   "id": "7d1a93249804b06d",
   "outputs": [
    {
     "data": {
      "text/plain": [
       "'\\nStack sorting in recursive manner\\n'"
      ]
     },
     "execution_count": 19,
     "metadata": {},
     "output_type": "execute_result"
    }
   ],
   "execution_count": 19
  },
  {
   "metadata": {},
   "cell_type": "code",
   "outputs": [],
   "execution_count": null,
   "source": "",
   "id": "62669f1274ee6408"
  }
 ],
 "metadata": {
  "kernelspec": {
   "display_name": "Python 3",
   "language": "python",
   "name": "python3"
  },
  "language_info": {
   "codemirror_mode": {
    "name": "ipython",
    "version": 2
   },
   "file_extension": ".py",
   "mimetype": "text/x-python",
   "name": "python",
   "nbconvert_exporter": "python",
   "pygments_lexer": "ipython2",
   "version": "2.7.6"
  }
 },
 "nbformat": 4,
 "nbformat_minor": 5
}
