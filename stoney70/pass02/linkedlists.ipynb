{
 "cells": [
  {
   "cell_type": "code",
   "id": "initial_id",
   "metadata": {
    "collapsed": true,
    "ExecuteTime": {
     "end_time": "2025-02-22T02:24:10.355450Z",
     "start_time": "2025-02-22T02:24:10.346745Z"
    }
   },
   "source": [
    "\"\"\"\n",
    "Linked lists\n",
    "Middle of the linked list\n",
    "Given the head of a singly linked list, return the middle node of the linked list\n",
    "If there are two middle nodes, i.e. if the number of nodes is even, return the second middle node\n",
    "\"\"\"\n",
    "\n",
    "class ListNode:\n",
    "    def __init__(self, val, next=None):\n",
    "        self.val = val\n",
    "        self.next = next\n",
    "c = ListNode(5)\n",
    "b = ListNode(4, c)\n",
    "a = ListNode(3, b)\n",
    "\n",
    "def middleNode(head):\n",
    "    slow = fast = head\n",
    "    while fast and fast.next:\n",
    "        slow = slow.next\n",
    "        fast = fast.next.next\n",
    "\n",
    "    return slow.val\n",
    "\n",
    "print(middleNode(a))"
   ],
   "outputs": [
    {
     "name": "stdout",
     "output_type": "stream",
     "text": [
      "4\n"
     ]
    }
   ],
   "execution_count": 2
  },
  {
   "metadata": {
    "ExecuteTime": {
     "end_time": "2025-02-22T05:40:52.373310Z",
     "start_time": "2025-02-22T05:40:52.364362Z"
    }
   },
   "cell_type": "code",
   "source": [
    "\"\"\"\n",
    "Linked list cycle\n",
    "Given the head of a linked list, determine if the linked list has a cycle in it\n",
    "\"\"\"\n",
    "def hasCycle(head):\n",
    "    slow, fast = head, head\n",
    "    while fast and fast.next:\n",
    "        slow = slow.next\n",
    "        fast = fast.next.next\n",
    "        if slow == fast:\n",
    "            return True\n",
    "\n",
    "    return False"
   ],
   "id": "c0b5e8dcec50917f",
   "outputs": [],
   "execution_count": 4
  },
  {
   "metadata": {},
   "cell_type": "code",
   "outputs": [],
   "execution_count": null,
   "source": [
    "#CILEDO\n",
    "#C - clarifying questions\n",
    "#I - Input Santization\n",
    "#L - Logic\n",
    "#E - Exception handling\n",
    "#D - Debugging\n",
    "#O - O(n)/Optimization"
   ],
   "id": "9ed44f1465628acd"
  },
  {
   "metadata": {
    "ExecuteTime": {
     "end_time": "2025-02-22T05:44:10.881075Z",
     "start_time": "2025-02-22T05:44:10.872962Z"
    }
   },
   "cell_type": "code",
   "source": [
    "\"\"\"\n",
    "Reverse Linked List\n",
    "Given the head of a singly linked list, reverse the list and return the reversed list\n",
    "\"\"\"\n",
    "\n",
    "def reversell(head):\n",
    "    prev = None\n",
    "    curr = head\n",
    "\n",
    "    while(curr!=None):\n",
    "        next_p = curr.next\n",
    "\n",
    "        curr.next = prev\n",
    "\n",
    "        prev = curr\n",
    "\n",
    "        curr = next_p\n",
    "\n",
    "    head = prev"
   ],
   "id": "4a37775239748c4d",
   "outputs": [],
   "execution_count": 5
  },
  {
   "metadata": {
    "ExecuteTime": {
     "end_time": "2025-02-22T12:56:35.518521Z",
     "start_time": "2025-02-22T12:56:35.505298Z"
    }
   },
   "cell_type": "code",
   "source": [
    "\"\"\"\n",
    "Remove linked list elements\n",
    "Given the head of a linked list and an integer val, remove all the nodes of the linked list that as node.val = val and return the new head\n",
    "\"\"\"\n",
    "\n",
    "def removell(head, val):\n",
    "    dummy_head = ListNode(-1)\n",
    "    dummy_head.next = head\n",
    "\n",
    "    curr = dummy_head\n",
    "    while curr != None:\n",
    "        if curr.next.val == val:\n",
    "            curr.next = curr.next.next\n",
    "        else:\n",
    "            curr = curr.next\n",
    "\n",
    "    return dummy_head.next"
   ],
   "id": "3aa8e921b94861bf",
   "outputs": [],
   "execution_count": 1
  },
  {
   "metadata": {
    "ExecuteTime": {
     "end_time": "2025-02-22T13:21:06.435356Z",
     "start_time": "2025-02-22T13:21:06.427580Z"
    }
   },
   "cell_type": "code",
   "source": [
    "\"\"\"\n",
    "Reverse linked list 2\n",
    "Given the head of a linked list and two ints left and right, reverse nodes of the list from left to right\n",
    "\"\"\"\n",
    "def rll2(head, left, right):\n",
    "    dummy_head = ListNode(-1, head)\n",
    "    left_prev, current_node = dummy_head, head\n",
    "    for i in range(left-1):\n",
    "        left_prev, current_node = current_node, current_node.next\n",
    "\n",
    "    prev = None\n",
    "    for i in range(right-left+1):\n",
    "        next_pointer = current_node.next\n",
    "        current_node.next = prev\n",
    "        prev, current_node = current_node, next_pointer\n",
    "\n",
    "    left_prev.next.next = current_node\n",
    "    left_prev.next = prev\n",
    "    return dummy_head.next\n"
   ],
   "id": "a2b262d6ba62c0f5",
   "outputs": [],
   "execution_count": 2
  },
  {
   "metadata": {
    "ExecuteTime": {
     "end_time": "2025-02-22T13:48:24.757640Z",
     "start_time": "2025-02-22T13:48:24.743441Z"
    }
   },
   "cell_type": "code",
   "source": [
    "\"\"\"\n",
    "Palindrome of a linked list\n",
    "Given the head of a linked list, figure out whether it is a palindrome or not\n",
    "\"\"\"\n",
    "\n",
    "def isPalindrome(head):\n",
    "    fast, slow = head, head\n",
    "    while fast and fast.next:\n",
    "        fast = fast.next.next\n",
    "        slow = slow.next\n",
    "    prev = None\n",
    "    while slow!= None:\n",
    "        next = slow.next\n",
    "        slow.next = prev\n",
    "        prev = slow\n",
    "        slow = next\n",
    "    left = head\n",
    "    right = prev\n",
    "    while right!=None:\n",
    "        if left.val != right.val:\n",
    "            return False\n",
    "        left = left.next\n",
    "        right = right.next\n",
    "    return True"
   ],
   "id": "12d8a31ce5cff252",
   "outputs": [],
   "execution_count": 3
  },
  {
   "metadata": {
    "ExecuteTime": {
     "end_time": "2025-02-22T13:56:25.511880Z",
     "start_time": "2025-02-22T13:56:25.498736Z"
    }
   },
   "cell_type": "code",
   "source": [
    "\"\"\"\n",
    "Merge two linked lists\n",
    "You are given the heads of two sorted linked lists list1 and list2\n",
    "\"\"\"\n",
    "def merge(head1, head2):\n",
    "    curr = dummy = ListNode(-1)\n",
    "\n",
    "    while head1 and head2:\n",
    "        if head1.val < head2.val:\n",
    "            curr.next = head1\n",
    "            head1 = head1.next\n",
    "        else:\n",
    "            curr.next = head2\n",
    "            head2 = head2.next\n",
    "\n",
    "    if head1 or head2:\n",
    "        curr.next = head1 if head1 else head2\n",
    "\n",
    "    return dummy.next\n"
   ],
   "id": "7f65773616d0e28f",
   "outputs": [],
   "execution_count": 4
  },
  {
   "metadata": {},
   "cell_type": "code",
   "outputs": [],
   "execution_count": null,
   "source": "",
   "id": "a8b9441525ca6406"
  }
 ],
 "metadata": {
  "kernelspec": {
   "display_name": "Python 3",
   "language": "python",
   "name": "python3"
  },
  "language_info": {
   "codemirror_mode": {
    "name": "ipython",
    "version": 2
   },
   "file_extension": ".py",
   "mimetype": "text/x-python",
   "name": "python",
   "nbconvert_exporter": "python",
   "pygments_lexer": "ipython2",
   "version": "2.7.6"
  }
 },
 "nbformat": 4,
 "nbformat_minor": 5
}
