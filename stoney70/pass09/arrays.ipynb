{
 "cells": [
  {
   "metadata": {},
   "cell_type": "markdown",
   "source": "# Arrays",
   "id": "d2a26c8cf9527847"
  },
  {
   "metadata": {},
   "cell_type": "code",
   "outputs": [],
   "execution_count": null,
   "source": [
    "\"\"\"\n",
    "Lists [] contiguous list of values a = []\n",
    "Sets () list of unique values a = set()\n",
    "Dictionaries {}, key value pairs a = {'key':'value'}\n",
    "Tuple () immutable lists a = ()\n",
    "\"\"\""
   ],
   "id": "94fcd6314d82ee44"
  },
  {
   "cell_type": "code",
   "id": "initial_id",
   "metadata": {
    "collapsed": true,
    "ExecuteTime": {
     "end_time": "2025-06-23T21:44:42.918207Z",
     "start_time": "2025-06-23T21:44:42.912776Z"
    }
   },
   "source": [
    "\"\"\"\n",
    "Contains duplicate\n",
    "\"\"\"\n",
    "\n",
    "\n",
    "def contains_duplicate(nums):\n",
    "    if len(nums) != len(set(nums)):\n",
    "        return True\n",
    "    return False\n",
    "\n",
    "#TC : O(n)"
   ],
   "outputs": [],
   "execution_count": 8
  },
  {
   "metadata": {
    "ExecuteTime": {
     "end_time": "2025-06-23T21:49:32.919185Z",
     "start_time": "2025-06-23T21:49:32.914400Z"
    }
   },
   "cell_type": "code",
   "source": [
    "\"\"\"\n",
    "Missing number\n",
    "\"\"\"\n",
    "\n",
    "\n",
    "def missing_number(nums):\n",
    "    return sum(range(len(nums) + 1)) - sum(nums)"
   ],
   "id": "9eed3202d99ce37d",
   "outputs": [],
   "execution_count": 9
  },
  {
   "metadata": {
    "ExecuteTime": {
     "end_time": "2025-06-23T21:51:35.059252Z",
     "start_time": "2025-06-23T21:51:35.049867Z"
    }
   },
   "cell_type": "code",
   "source": [
    "\"\"\"\n",
    "All numbers in array\n",
    "\"\"\"\n",
    "\n",
    "\n",
    "def all_missing_numbers(nums):\n",
    "    set_nums = set(nums)\n",
    "    res = []\n",
    "    for i in range(1, len(nums)):\n",
    "        if i not in set_nums:\n",
    "            res.append(i)\n",
    "\n",
    "    return res\n",
    "\n",
    "#TC : O(n)\n",
    "\n"
   ],
   "id": "16ee07ad61211c43",
   "outputs": [],
   "execution_count": 10
  },
  {
   "metadata": {
    "ExecuteTime": {
     "end_time": "2025-06-23T21:41:26.528548Z",
     "start_time": "2025-06-23T21:41:26.521790Z"
    }
   },
   "cell_type": "code",
   "source": [
    "\"\"\"\n",
    "Two Sum\n",
    "\"\"\"\n",
    "\n",
    "\n",
    "def two_sum(nums, target):\n",
    "    tsd = {}\n",
    "    for idx, elem in enumerate(nums):\n",
    "        val = target - elem\n",
    "        if val in tsd:\n",
    "            return (idx, tsd[val])\n",
    "\n",
    "        else:\n",
    "            tsd[elem] = idx\n",
    "\n",
    "    return (-1, -1)"
   ],
   "id": "c7f35d265fd7d42a",
   "outputs": [
    {
     "data": {
      "text/plain": [
       "'\\nTwo Sum\\n'"
      ]
     },
     "execution_count": 4,
     "metadata": {},
     "output_type": "execute_result"
    }
   ],
   "execution_count": 4
  },
  {
   "metadata": {
    "ExecuteTime": {
     "end_time": "2025-06-23T21:57:07.354458Z",
     "start_time": "2025-06-23T21:57:07.347356Z"
    }
   },
   "cell_type": "code",
   "source": [
    "\"\"\"\n",
    "How many numbers are smaller than the current number\n",
    "\"\"\"\n",
    "\n",
    "\n",
    "def how_many(nums):\n",
    "    sorted_nums = sorted(nums)\n",
    "    sorted_dict = {}\n",
    "    for i in range(len(sorted_nums)):\n",
    "        if sorted_nums[i] not in sorted_dict:\n",
    "            sorted_dict[sorted_nums[i]] = i\n",
    "\n",
    "    res = []\n",
    "\n",
    "    for elem in nums:\n",
    "        res.append(sorted_dict[elem])\n",
    "\n",
    "    return res\n"
   ],
   "id": "e3895229b70413c1",
   "outputs": [],
   "execution_count": 11
  },
  {
   "metadata": {
    "ExecuteTime": {
     "end_time": "2025-06-23T21:42:27.227362Z",
     "start_time": "2025-06-23T21:42:27.218446Z"
    }
   },
   "cell_type": "code",
   "source": [
    "\"\"\"\n",
    "Minimum time visiting all points\n",
    "\n",
    "Solution :\n",
    "\"\"\"\n",
    "\n",
    "\n",
    "def min_time(points):\n",
    "    res = 0\n",
    "    x1, y1 = points.pop()\n",
    "    while points:\n",
    "        x2, y2 = points.pop()\n",
    "        res += max(abs(y2 - y1), abs(x2 - x1))\n",
    "        x1, y1 = x2, y2\n",
    "\n",
    "    res = 0\n",
    "    x1, y1 = points.pop()\n",
    "    while points:\n",
    "        x2, y2 = points.pop()\n",
    "        res += max(abs(y2 - y1), abs(x2 - x1))\n",
    "\n",
    "        x1, y1 = x2, y2\n",
    "\n"
   ],
   "id": "7dff1c75f2226ca8",
   "outputs": [
    {
     "data": {
      "text/plain": [
       "'\\nMinimum time visiting all points\\n'"
      ]
     },
     "execution_count": 6,
     "metadata": {},
     "output_type": "execute_result"
    }
   ],
   "execution_count": 6
  },
  {
   "metadata": {
    "ExecuteTime": {
     "end_time": "2025-06-23T22:03:10.746310Z",
     "start_time": "2025-06-23T22:03:10.741807Z"
    }
   },
   "cell_type": "code",
   "source": [
    "\"\"\"\n",
    "Spiral matrix\n",
    "\"\"\"\n",
    "\n",
    "\n",
    "def spiral_matrix(grid):\n",
    "    res = []\n",
    "    while grid:\n",
    "        res.extend(grid.pop(0))\n",
    "        if grid:\n",
    "            for i in range(len(grid)): res.append(grid[i].pop())\n",
    "        if grid:\n",
    "            res.extend(grid.pop())\n",
    "        if grid:\n",
    "            temp = []\n",
    "            for i in range(len(grid)): temp.append(grid[i].pop(0))\n",
    "            res.extend(temp[::-1])\n",
    "\n",
    "    return res\n",
    "\n"
   ],
   "id": "83a893da62bab928",
   "outputs": [],
   "execution_count": 12
  },
  {
   "metadata": {},
   "cell_type": "code",
   "outputs": [],
   "execution_count": null,
   "source": [
    "\"\"\"\n",
    "Number of islands\n",
    "\"\"\"\n",
    "\n",
    "from collections import deque\n",
    "\n",
    "\n",
    "def number_of_islands(grid):\n",
    "    count = 0\n",
    "    r = len(grid)\n",
    "    c = len(grid[0])\n",
    "    visited = set()\n",
    "\n",
    "    def bfs(r, c):\n",
    "        dir = [(1, 0), (-1, 0), (0, 1), (0, -1)]\n",
    "        q = deque([(r, c)])\n",
    "        while q:\n",
    "            ro, co = q.popleft()\n",
    "            for dr, dc in dir:\n",
    "                n_r = ro + dr\n",
    "                n_c = co + dc\n",
    "                if n_r in range(r) and n_c in range(c) and (n_r, n_c) not in visited and grid[n_r][n_c] == 1:\n",
    "                    q.append((n_r, n_c))\n",
    "                    visited.add((n_r, n_c))\n",
    "\n",
    "    for row in range(r):\n",
    "        for col in range(c):\n",
    "            if (row, col) not in visited and grid[row][col] == 1:\n",
    "                visited.add(row, col)\n",
    "                bfs(row, col)\n",
    "                count += 1\n",
    "\n",
    "    return count"
   ],
   "id": "9ae78a1312fdafb"
  }
 ],
 "metadata": {
  "kernelspec": {
   "display_name": "Python 3",
   "language": "python",
   "name": "python3"
  },
  "language_info": {
   "codemirror_mode": {
    "name": "ipython",
    "version": 2
   },
   "file_extension": ".py",
   "mimetype": "text/x-python",
   "name": "python",
   "nbconvert_exporter": "python",
   "pygments_lexer": "ipython2",
   "version": "2.7.6"
  }
 },
 "nbformat": 4,
 "nbformat_minor": 5
}
