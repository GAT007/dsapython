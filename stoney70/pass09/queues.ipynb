{
 "cells": [
  {
   "metadata": {},
   "cell_type": "markdown",
   "source": [
    "# Queues\n",
    "\n",
    "Insertion happens at the rear end and removal happens from the front end\n",
    "FIFO - First In First Out\n",
    "\n",
    "In python we do\n",
    "from collections import deque\n",
    "\n",
    "which is a doubly ended queue\n",
    "\n",
    "q = deque([root])\n",
    "\n",
    "q.append(element)\n",
    "\n",
    "q.popleft()"
   ],
   "id": "ee128df616367ff2"
  },
  {
   "cell_type": "code",
   "id": "initial_id",
   "metadata": {
    "collapsed": true,
    "ExecuteTime": {
     "end_time": "2025-06-29T03:21:33.924840Z",
     "start_time": "2025-06-29T03:21:33.914160Z"
    }
   },
   "source": [
    "\"\"\"\n",
    "Implement stacks using queues\n",
    "\"\"\""
   ],
   "outputs": [
    {
     "data": {
      "text/plain": [
       "'\\nImplement stacks using queues\\n'"
      ]
     },
     "execution_count": 1,
     "metadata": {},
     "output_type": "execute_result"
    }
   ],
   "execution_count": 1
  },
  {
   "metadata": {
    "ExecuteTime": {
     "end_time": "2025-06-29T03:21:52.996140Z",
     "start_time": "2025-06-29T03:21:52.988795Z"
    }
   },
   "cell_type": "code",
   "source": [
    "\"\"\"\n",
    "Time needed to buy tickets\n",
    "\"\"\""
   ],
   "id": "de58afb91f26c85a",
   "outputs": [
    {
     "data": {
      "text/plain": [
       "'\\nTime needed to buy tickets\\n'"
      ]
     },
     "execution_count": 2,
     "metadata": {},
     "output_type": "execute_result"
    }
   ],
   "execution_count": 2
  },
  {
   "metadata": {},
   "cell_type": "code",
   "outputs": [],
   "execution_count": null,
   "source": [
    "\"\"\"\n",
    "Reverse the first k elements of queue\n",
    "\"\"\""
   ],
   "id": "bc341654ea94a7b9"
  }
 ],
 "metadata": {
  "kernelspec": {
   "display_name": "Python 3",
   "language": "python",
   "name": "python3"
  },
  "language_info": {
   "codemirror_mode": {
    "name": "ipython",
    "version": 2
   },
   "file_extension": ".py",
   "mimetype": "text/x-python",
   "name": "python",
   "nbconvert_exporter": "python",
   "pygments_lexer": "ipython2",
   "version": "2.7.6"
  }
 },
 "nbformat": 4,
 "nbformat_minor": 5
}
