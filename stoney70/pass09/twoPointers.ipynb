{
 "cells": [
  {
   "metadata": {},
   "cell_type": "markdown",
   "source": "# Two Pointers",
   "id": "d72f28898c1f74"
  },
  {
   "cell_type": "code",
   "id": "initial_id",
   "metadata": {
    "collapsed": true,
    "ExecuteTime": {
     "end_time": "2025-06-23T22:18:47.681373Z",
     "start_time": "2025-06-23T22:18:47.659425Z"
    }
   },
   "source": [
    "\"\"\"\n",
    "Best time to buy and sell a stock\n",
    "\"\"\"\n",
    "\n",
    "\n",
    "def best_time(prices):\n",
    "    l, r = 0, 1\n",
    "    max_profit = 0\n",
    "    while r < len(prices):\n",
    "        if prices[r] > prices[l]:\n",
    "            max_profit = max(max_profit, prices[r] - prices[l])\n",
    "        else:\n",
    "            l = r\n",
    "        r += 1\n",
    "\n",
    "    return max_profit"
   ],
   "outputs": [
    {
     "data": {
      "text/plain": [
       "'\\nBest time to buy and sell a stock\\n'"
      ]
     },
     "execution_count": 1,
     "metadata": {},
     "output_type": "execute_result"
    }
   ],
   "execution_count": 1
  },
  {
   "metadata": {
    "ExecuteTime": {
     "end_time": "2025-06-23T22:19:08.621496Z",
     "start_time": "2025-06-23T22:19:08.614236Z"
    }
   },
   "cell_type": "code",
   "source": [
    "\"\"\"\n",
    "Squares of a sorted array\n",
    "\"\"\"\n",
    "\n",
    "\n",
    "def sqaures(nums):\n",
    "    l, r = 0, len(nums) - 1\n",
    "    res = []\n",
    "    while l <= r:\n",
    "        left, right = abs(nums[l]), abs(nums[r])\n",
    "        if left < right:\n",
    "            res.append(left * left)\n",
    "            l += 1\n",
    "        else:\n",
    "            res.append(right * right)\n",
    "            r += 1\n",
    "\n",
    "    return res"
   ],
   "id": "9ff595f97887d1e1",
   "outputs": [
    {
     "data": {
      "text/plain": [
       "'\\nSquares of a sorted array\\n'"
      ]
     },
     "execution_count": 2,
     "metadata": {},
     "output_type": "execute_result"
    }
   ],
   "execution_count": 2
  },
  {
   "metadata": {
    "ExecuteTime": {
     "end_time": "2025-06-24T14:22:14.765276Z",
     "start_time": "2025-06-24T14:22:14.753460Z"
    }
   },
   "cell_type": "code",
   "source": [
    "\"\"\"\n",
    "3Sum\n",
    "\"\"\"\n",
    "\n",
    "\n",
    "def three_sum(nums):\n",
    "    res = []\n",
    "    for i in range(len(nums) - 2):\n",
    "        l, r = i + 1, len(nums) - 1\n",
    "        while l < r:\n",
    "            val = nums[i] + nums[l] + nums[r]\n",
    "            if val == 0:\n",
    "                res.append((nums[i], nums[l], nums[r]))\n",
    "                l += 1\n",
    "            elif val < 0:\n",
    "                l += 1\n",
    "            else:\n",
    "                r -= 1\n",
    "\n",
    "    return res\n",
    "\n",
    "\n",
    "print(three_sum([-4, - 1, -1, 0, 1, 2]))"
   ],
   "id": "2a3d24b31b61ef6c",
   "outputs": [
    {
     "name": "stdout",
     "output_type": "stream",
     "text": [
      "[(-1, -1, 2), (-1, 0, 1), (-1, 0, 1)]\n"
     ]
    }
   ],
   "execution_count": 6
  },
  {
   "metadata": {
    "ExecuteTime": {
     "end_time": "2025-06-23T22:19:30.109152Z",
     "start_time": "2025-06-23T22:19:30.101646Z"
    }
   },
   "cell_type": "code",
   "source": [
    "\"\"\"\n",
    "Longest mountain in an array\n",
    "\"\"\"\n",
    "\n",
    "\n",
    "def longest_mountain(nums):\n",
    "    longest = 0\n",
    "    for i in range(1, len(nums)):\n",
    "        l = i - 1\n",
    "        r = i + 1\n",
    "        while l - 1 >= 0 and nums[l - 1] < nums[l]:\n",
    "            l -= 1\n",
    "\n",
    "        while r + 1 <= len(nums) - 1 and nums[r + 1] < nums[r]:\n",
    "            r += 1\n",
    "\n",
    "        longest = max(longest, r - l + 1)\n",
    "\n",
    "    return longest\n"
   ],
   "id": "81e00c8660ff0034",
   "outputs": [
    {
     "data": {
      "text/plain": [
       "'\\nLongest mountain in an array\\n'"
      ]
     },
     "execution_count": 4,
     "metadata": {},
     "output_type": "execute_result"
    }
   ],
   "execution_count": 4
  },
  {
   "metadata": {},
   "cell_type": "code",
   "outputs": [],
   "execution_count": null,
   "source": "",
   "id": "bfd805ac8524a0c0"
  }
 ],
 "metadata": {
  "kernelspec": {
   "display_name": "Python 3",
   "language": "python",
   "name": "python3"
  },
  "language_info": {
   "codemirror_mode": {
    "name": "ipython",
    "version": 2
   },
   "file_extension": ".py",
   "mimetype": "text/x-python",
   "name": "python",
   "nbconvert_exporter": "python",
   "pygments_lexer": "ipython2",
   "version": "2.7.6"
  }
 },
 "nbformat": 4,
 "nbformat_minor": 5
}
