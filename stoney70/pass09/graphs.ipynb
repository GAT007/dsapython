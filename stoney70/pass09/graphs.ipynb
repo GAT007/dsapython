{
 "cells": [
  {
   "metadata": {},
   "cell_type": "markdown",
   "source": "# Graphs",
   "id": "675d53f976ded76f"
  },
  {
   "metadata": {},
   "cell_type": "raw",
   "source": [
    "# WTF\n",
    "# Graphs"
   ],
   "id": "7ac462cbb8a29d21"
  },
  {
   "metadata": {},
   "cell_type": "code",
   "outputs": [],
   "execution_count": null,
   "source": [
    "\"\"\"\n",
    "Basic Definitions\n",
    "\"\"\"\n",
    "\n",
    "from collections import defaultdict\n",
    "\n",
    "\n",
    "class Graph:\n",
    "    def __init__(self):\n",
    "        self.graph = defaultdict(list)\n",
    "\n",
    "    def addEdge(self, from_vertex, to_vertex):\n",
    "        self.graph[from_vertex].append(to_vertex)\n",
    "\n",
    "\n",
    "\"\"\"\n",
    "This is what your graph will look like:\n",
    "1 --> 2,3\n",
    "2 --> 4,5\n",
    "4 --> 5\n",
    "\n",
    "{1 : [2:3], 2: [4, 5], 4:[5]}\n",
    "\"\"\""
   ],
   "id": "fe79f140109fdf25"
  },
  {
   "cell_type": "code",
   "id": "initial_id",
   "metadata": {
    "collapsed": true,
    "ExecuteTime": {
     "end_time": "2025-06-29T22:33:48.932828Z",
     "start_time": "2025-06-29T22:33:48.921283Z"
    }
   },
   "source": [
    "\"\"\"\n",
    "BFS and DFS Traversal\n",
    "\"\"\"\n",
    "\n",
    "\n",
    "def bfs(start, graph):\n",
    "    if start not in graph:\n",
    "        return []\n",
    "\n",
    "    q = [start]\n",
    "\n",
    "    traversal = []\n",
    "\n",
    "    while q:\n",
    "        curr = q.pop(0)\n",
    "        if curr not in traversal:\n",
    "            traversal.append(curr)\n",
    "            if curr in graph:\n",
    "                q.extend(graph[curr])\n",
    "\n",
    "    return traversal\n",
    "\n",
    "\n",
    "\"\"\"\n",
    "DFS Traversal\n",
    "\"\"\"\n",
    "\n",
    "\n",
    "def dfs(start, graph):\n",
    "    if start not in graph:\n",
    "        return []\n",
    "\n",
    "    stack = [start]\n",
    "\n",
    "    traversal = []\n",
    "\n",
    "    while stack:\n",
    "        vertex = stack.pop()\n",
    "        if vertex not in traversal:\n",
    "            traversal.append()\n",
    "            if vertex in graph:\n",
    "                stack.extend(graph[vertex])\n",
    "\n",
    "    return traversal"
   ],
   "outputs": [
    {
     "data": {
      "text/plain": [
       "'\\nBFS and DFS Traversal\\n'"
      ]
     },
     "execution_count": 1,
     "metadata": {},
     "output_type": "execute_result"
    }
   ],
   "execution_count": 1
  },
  {
   "metadata": {
    "ExecuteTime": {
     "end_time": "2025-06-29T22:33:54.299485Z",
     "start_time": "2025-06-29T22:33:54.287781Z"
    }
   },
   "cell_type": "code",
   "source": [
    "\"\"\"\n",
    "Clone Graph\n",
    "\"\"\"\n",
    "\n",
    "from collections import deque\n",
    "\n",
    "\n",
    "class Node(object):\n",
    "    def __init__(self, val=0, neighbors=None):\n",
    "        self.val = val\n",
    "        self.neighbors = neighbors if neighbors is not None else []\n",
    "\n",
    "\n",
    "adjList = [[2, 4], [1, 3], [2, 4], [1, 3]]\n",
    "\n",
    "\n",
    "def clone_graph(node):\n",
    "    if not node:\n",
    "        return None\n",
    "\n",
    "    q = deque([node])\n",
    "\n",
    "    clones = {node: Node(node.val)}\n",
    "\n",
    "    while q:\n",
    "        curr = q.popleft()\n",
    "\n",
    "        for neighbor in curr.neighbors:\n",
    "            if neighbor not in clones:\n",
    "                clones[neighbor] = Node(neighbor.val)\n",
    "                q.append(neighbor)\n",
    "\n",
    "            clones[curr].neighbors.append(clones[neighbor])\n",
    "\n",
    "    return clones[node]"
   ],
   "id": "367fdb1c270e9c3a",
   "outputs": [
    {
     "data": {
      "text/plain": [
       "'\\nClone Graph\\n'"
      ]
     },
     "execution_count": 2,
     "metadata": {},
     "output_type": "execute_result"
    }
   ],
   "execution_count": 2
  },
  {
   "metadata": {
    "ExecuteTime": {
     "end_time": "2025-06-29T22:34:00.934587Z",
     "start_time": "2025-06-29T22:34:00.926441Z"
    }
   },
   "cell_type": "code",
   "source": [
    "\"\"\"\n",
    "Core Graph Operations\n",
    "\"\"\"\n",
    "\n",
    "\"\"\"\n",
    "Largest node\n",
    "\"\"\"\n",
    "\n",
    "from collections import deque\n",
    "\n",
    "\n",
    "def findLargestNode(start, graph):\n",
    "    if start not in graph:\n",
    "        return\n",
    "\n",
    "    queue = deque([start])\n",
    "    traversal = []\n",
    "    largest_node = start\n",
    "\n",
    "    while queue:\n",
    "        vertex = queue.popleft()\n",
    "        if vertex not in traversal:\n",
    "            traversal.append(vertex)\n",
    "\n",
    "            if vertex > largest_node:\n",
    "                largest_node = vertex\n",
    "\n",
    "            if vertex in graph:\n",
    "                queue.extend(graph[vertex])\n",
    "\n",
    "    return largest_node\n",
    "\n",
    "\n",
    "\"\"\"\n",
    "Find cycle\n",
    "\"\"\"\n",
    "\n",
    "\n",
    "def find_cycle(start, graph):\n",
    "    if start not in graph:\n",
    "        return False\n",
    "\n",
    "    stack = [(start, -1)]\n",
    "\n",
    "    visited = set()\n",
    "\n",
    "    while stack:\n",
    "        vertex, parent = stack.pop()\n",
    "        if vertex in visited:\n",
    "            return True\n",
    "\n",
    "        visited.add(vertex)\n",
    "\n",
    "        for neighbor in graph.get(vertex, []):\n",
    "            if neighbor != parent:\n",
    "                stack.append((neighbor, vertex))\n",
    "\n",
    "    return False\n",
    "\n",
    "\n",
    "\"\"\"\n",
    "Count edges\n",
    "\"\"\"\n",
    "\n",
    "\n",
    "def count_edges(graph):\n",
    "    edge_count = 0\n",
    "    for vertex in graph:\n",
    "        edge_count += len(graph[vertex])\n",
    "\n",
    "    return edge_count\n"
   ],
   "id": "f7bec92191232294",
   "outputs": [
    {
     "data": {
      "text/plain": [
       "'\\nCore Graph Operations\\n'"
      ]
     },
     "execution_count": 3,
     "metadata": {},
     "output_type": "execute_result"
    }
   ],
   "execution_count": 3
  },
  {
   "metadata": {
    "ExecuteTime": {
     "end_time": "2025-06-29T22:34:12.219086Z",
     "start_time": "2025-06-29T22:34:12.212966Z"
    }
   },
   "cell_type": "code",
   "source": [
    "\"\"\"\n",
    "Cheapest flights within k stops\n",
    "\"\"\""
   ],
   "id": "f697ab713e18b357",
   "outputs": [
    {
     "data": {
      "text/plain": [
       "'\\nCheapest flights within k stops\\n'"
      ]
     },
     "execution_count": 4,
     "metadata": {},
     "output_type": "execute_result"
    }
   ],
   "execution_count": 4
  },
  {
   "metadata": {},
   "cell_type": "code",
   "outputs": [],
   "execution_count": null,
   "source": [
    "\"\"\"\n",
    "Course schedule\n",
    "\"\"\"\n",
    "\n",
    "courses = 5\n",
    "preq = [[0, 1], [0, 2], [1, 3], [1, 4], [3, 4]]\n",
    "\n",
    "\n",
    "def course_schedule(courses, preq):\n",
    "    adj = {course: [] for course in range(courses)}\n",
    "    for course, pre in preq:\n",
    "        adj[course].append(pre)\n",
    "\n",
    "    for course in range(courses):\n",
    "        stack = [(course, set())]\n",
    "        while stack:\n",
    "            curr, visited = stack.pop()\n",
    "            if curr in visited:\n",
    "                return False\n",
    "            visited.add(curr)\n",
    "            for pre in adj[curr]:\n",
    "                stack.append((pre, visited))\n",
    "\n",
    "        adj[course] = []\n",
    "\n"
   ],
   "id": "6da2ae1b12111c10"
  }
 ],
 "metadata": {
  "kernelspec": {
   "display_name": "Python 3",
   "language": "python",
   "name": "python3"
  },
  "language_info": {
   "codemirror_mode": {
    "name": "ipython",
    "version": 2
   },
   "file_extension": ".py",
   "mimetype": "text/x-python",
   "name": "python",
   "nbconvert_exporter": "python",
   "pygments_lexer": "ipython2",
   "version": "2.7.6"
  }
 },
 "nbformat": 4,
 "nbformat_minor": 5
}
