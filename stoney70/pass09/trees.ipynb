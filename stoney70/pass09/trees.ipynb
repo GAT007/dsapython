{
 "cells": [
  {
   "metadata": {},
   "cell_type": "markdown",
   "source": [
    "# Trees\n",
    "\n",
    "Trees come in many sizes and shapes, but for most of the problems here, we'll be dealing with trees with two nodes, left node and a right node, there are two major searches you can carry out with a tree\n",
    "\n",
    "1. BFS : Using a queue, this traverses the tree level by level, you move onto the next level only once all the elements in that level have been consumed\n",
    "2. DFS : Using a stack, this traverses a tree from root to leaf through a single edge, everything else goes into the stack and gets popped out as you traverse that element"
   ],
   "id": "22c1338b82314d7d"
  },
  {
   "metadata": {},
   "cell_type": "code",
   "outputs": [],
   "execution_count": null,
   "source": [
    "\"\"\"\n",
    "Sample tree node\n",
    "\"\"\"\n",
    "\n",
    "\n",
    "class TNode:\n",
    "    def __init__(self, val=None, r=None, l=None):\n",
    "        self.val = val\n",
    "        self.r = r\n",
    "        self.l = l"
   ],
   "id": "9dd882fd6677928f"
  },
  {
   "cell_type": "code",
   "id": "initial_id",
   "metadata": {
    "collapsed": true,
    "ExecuteTime": {
     "end_time": "2025-06-29T16:44:36.699510Z",
     "start_time": "2025-06-29T16:44:36.691463Z"
    }
   },
   "source": [
    "\"\"\"\n",
    "Average of levels in a tree\n",
    "\n",
    "BFS with for loop and temp array, calculate average and append to res array\n",
    "\"\"\"\n",
    "\n",
    "from collections import deque\n",
    "\n",
    "\n",
    "def average_of_levels(root):\n",
    "    if not root:\n",
    "        return False\n",
    "\n",
    "    q = deque([root])\n",
    "    avgs = []\n",
    "    while q:\n",
    "        tmp = []\n",
    "        for i in range(len(q)):\n",
    "            curr = q.popleft()\n",
    "            tmp.append(curr.val)\n",
    "            if curr.l: q.append(curr.l)\n",
    "            if curr.r: q.append(curr.r)\n",
    "\n",
    "        avgs.append(sum(tmp) / len(tmp))\n",
    "\n",
    "    return avgs"
   ],
   "outputs": [],
   "execution_count": 1
  },
  {
   "metadata": {
    "ExecuteTime": {
     "end_time": "2025-06-29T16:59:36.276916Z",
     "start_time": "2025-06-29T16:59:36.271362Z"
    }
   },
   "cell_type": "code",
   "source": [
    "\"\"\"\n",
    "Min Depth of a binary tree\n",
    "\n",
    "BFS till you find an node without a left child and right child\n",
    "\"\"\"\n",
    "\n",
    "from collections import deque\n",
    "\n",
    "\n",
    "def min_depth(root):\n",
    "    if not root:\n",
    "        return 0\n",
    "\n",
    "    level = 1\n",
    "    q = deque([root, level])\n",
    "\n",
    "    while q:\n",
    "        for i in range(len(q)):\n",
    "            curr, level = q.popleft()\n",
    "            if not curr.left and not curr.right:\n",
    "                return level\n",
    "\n",
    "            level += 1\n",
    "\n",
    "            if curr.l: q.append((curr.l, level))\n",
    "            if curr.r: q.append((curr.r, level))\n",
    "\n",
    "    return level"
   ],
   "id": "7feba33f1437a07a",
   "outputs": [],
   "execution_count": 2
  },
  {
   "metadata": {
    "ExecuteTime": {
     "end_time": "2025-06-29T17:05:40.582580Z",
     "start_time": "2025-06-29T17:05:40.574823Z"
    }
   },
   "cell_type": "code",
   "source": [
    "\"\"\"\n",
    "Largest Node/Smallest Node\n",
    "\n",
    "BFS with largest and smallest node is found\n",
    "\"\"\"\n",
    "\n",
    "\n",
    "def largest_node(root):\n",
    "    q = deque([root])\n",
    "    largest_node = 0\n",
    "    smallest_node = float('inf')\n",
    "\n",
    "    while q:\n",
    "        curr = q.popleft()\n",
    "        largest_node = max(largest_node, curr.val)\n",
    "        smallest_node = min(smallest_node, curr.val)\n",
    "        if curr.l: q.append(curr.l)\n",
    "        if curr.r: q.append(curr.r)\n",
    "\n",
    "    return largest_node, smallest_node"
   ],
   "id": "f5b5a1d7ccf11962",
   "outputs": [],
   "execution_count": 3
  },
  {
   "metadata": {
    "ExecuteTime": {
     "end_time": "2025-06-29T18:55:53.010239Z",
     "start_time": "2025-06-29T18:55:53.002877Z"
    }
   },
   "cell_type": "code",
   "source": [
    "\"\"\"\n",
    "Level order traversal\n",
    "\n",
    "BFS using queue, keep appending the nodes to the queue and popping them out\n",
    "\"\"\"\n",
    "\n",
    "from collections import deque\n",
    "\n",
    "\n",
    "def level_order_traversal(root):\n",
    "    if not root:\n",
    "        return None\n",
    "\n",
    "    q = deque([root])\n",
    "    res = []\n",
    "\n",
    "    while q:\n",
    "        curr = q.popleft()\n",
    "        res.append(curr.val)\n",
    "        if curr.l: q.append(curr.l)\n",
    "        if curr.r: q.append(curr.r)\n",
    "\n",
    "    return res"
   ],
   "id": "4dafd3d28be96559",
   "outputs": [],
   "execution_count": 12
  },
  {
   "metadata": {
    "ExecuteTime": {
     "end_time": "2025-06-29T18:56:44.700227Z",
     "start_time": "2025-06-29T18:56:44.693358Z"
    }
   },
   "cell_type": "code",
   "source": [
    "\"\"\"\n",
    "Other Traversals\n",
    "\"\"\"\n",
    "\n",
    "#Inorder traversal : L C R\n",
    "\n",
    "#Preorder traversal : C L R\n",
    "\n",
    "#Postorder traversal : L R C\n"
   ],
   "id": "d1c5782b63611bcb",
   "outputs": [
    {
     "data": {
      "text/plain": [
       "'\\nOther Traversals\\n'"
      ]
     },
     "execution_count": 13,
     "metadata": {},
     "output_type": "execute_result"
    }
   ],
   "execution_count": 13
  },
  {
   "metadata": {
    "ExecuteTime": {
     "end_time": "2025-06-29T17:06:07.208832Z",
     "start_time": "2025-06-29T17:06:07.201114Z"
    }
   },
   "cell_type": "code",
   "source": [
    "\"\"\"\n",
    "Same Tree\n",
    "\n",
    "Use a stack, take the left and the right nodes into a tuple, append the tuple to the stack, pop out both node, if both are empty continue, if either of them are empty, return false, if the values are not same, return false, append the right nodes, then append the left nodes\n",
    "\"\"\"\n",
    "\n",
    "\n",
    "def same_tree(r1, r2):\n",
    "    if not r1 and not r2:\n",
    "        return True\n",
    "\n",
    "    q = deque([(r1, r2)])\n",
    "\n",
    "    while q:\n",
    "        left, right = q.popleft()\n",
    "        if not left and not right:\n",
    "            continue\n",
    "\n",
    "        if not left or not right:\n",
    "            return False\n",
    "        if left.val != right.val:\n",
    "            return False\n",
    "\n",
    "        q.append((left.r, right.r))\n",
    "        q.append((left.l, right.l))\n",
    "\n",
    "    return True\n",
    "\n",
    "\n"
   ],
   "id": "85074ccda3554949",
   "outputs": [
    {
     "data": {
      "text/plain": [
       "'\\nSame Tree\\n'"
      ]
     },
     "execution_count": 6,
     "metadata": {},
     "output_type": "execute_result"
    }
   ],
   "execution_count": 6
  },
  {
   "metadata": {
    "ExecuteTime": {
     "end_time": "2025-06-29T17:06:20.833166Z",
     "start_time": "2025-06-29T17:06:20.827248Z"
    }
   },
   "cell_type": "code",
   "source": [
    "\"\"\"\n",
    "Path Sum\n",
    "\n",
    "Use a stack, append the root and the value in a tuple to the stack, while stack exists, pop the tuple and check whether the value is equal to the target, return True, append the right node with sum of the value and curr value the append the left node\n",
    "\"\"\"\n",
    "\n",
    "\n",
    "def path_sum(root, target):\n",
    "    if not root:\n",
    "        return False\n",
    "    stack = [(root, root.val)]\n",
    "    while stack:\n",
    "        curr, v = stack.pop()\n",
    "        if v == target:\n",
    "            return True\n",
    "        if curr.r: stack.append((curr.r, v + curr.r.val))\n",
    "        if curr.l: stack.append((curr.l, v + curr.l.val))\n",
    "\n",
    "    return False\n"
   ],
   "id": "7db203d18bc7c1a4",
   "outputs": [
    {
     "data": {
      "text/plain": [
       "'\\nPath Sum\\n'"
      ]
     },
     "execution_count": 7,
     "metadata": {},
     "output_type": "execute_result"
    }
   ],
   "execution_count": 7
  },
  {
   "metadata": {
    "ExecuteTime": {
     "end_time": "2025-06-29T19:19:55.374207Z",
     "start_time": "2025-06-29T19:19:55.365153Z"
    }
   },
   "cell_type": "code",
   "source": [
    "\"\"\"\n",
    "Diameter of a binary tree\n",
    "\n",
    "Recursive function, find the left depth and the right depth,  use the nonlocal di and find the max di, left_depth+right_depth and depth(root)\n",
    "and then return the di\n",
    "\"\"\"\n",
    "\n",
    "\n",
    "def diameter(root):\n",
    "    if not root:\n",
    "        return False\n",
    "\n",
    "    di = 0\n",
    "\n",
    "    def depth(root):\n",
    "        nonlocal di\n",
    "        if not root:\n",
    "            return 0\n",
    "\n",
    "        left_depth = depth(root.l)\n",
    "        right_depth = depth(root.r)\n",
    "\n",
    "        di = max(di, left_depth + right_depth)\n",
    "\n",
    "        return max(left_depth, right_depth)\n",
    "\n",
    "    depth(root)\n",
    "    return di"
   ],
   "id": "384afdcbe11d56e1",
   "outputs": [],
   "execution_count": 14
  },
  {
   "metadata": {
    "ExecuteTime": {
     "end_time": "2025-06-29T17:06:45.998205Z",
     "start_time": "2025-06-29T17:06:45.992890Z"
    }
   },
   "cell_type": "code",
   "source": [
    "\"\"\"\n",
    "Invert a binary tree\n",
    "\n",
    "Use a stack, append the root, pop the current node, if the node exists, swap the two child nodes, then append them to the stack\n",
    "\"\"\"\n",
    "\n",
    "\n",
    "def invert(root):\n",
    "    if not root:\n",
    "        return False\n",
    "\n",
    "    stack = [root]\n",
    "\n",
    "    while stack:\n",
    "        curr = stack.pop()\n",
    "        if curr:\n",
    "            curr.left, curr.right = curr.right, curr.left\n",
    "            stack.append(curr.left)\n",
    "            stack.append(curr.right)\n",
    "\n",
    "    return root\n"
   ],
   "id": "de6cd01c894b7069",
   "outputs": [
    {
     "data": {
      "text/plain": [
       "'\\nInvert a binary tree\\n'"
      ]
     },
     "execution_count": 9,
     "metadata": {},
     "output_type": "execute_result"
    }
   ],
   "execution_count": 9
  },
  {
   "metadata": {
    "ExecuteTime": {
     "end_time": "2025-06-29T17:07:11.710845Z",
     "start_time": "2025-06-29T17:07:11.704940Z"
    }
   },
   "cell_type": "code",
   "source": [
    "\"\"\"\n",
    "Mirror of a binary tree\n",
    "\n",
    "Create a tuple of the given two nodes, pop them while the stack exists, if both of the popped nodes doesn't exist, then continue, if either of them don't exist then return false, if the value is not the same, then return false, then append the left and right to stack and then append the same to the stack left.right and right.left\n",
    "\"\"\"\n",
    "\n",
    "\n",
    "def mirror(p, q):\n",
    "    stack = [(p, q)]\n",
    "\n",
    "    while stack:\n",
    "        l, r = stack.pop()\n",
    "        if not l and not r:\n",
    "            continue\n",
    "\n",
    "        if not l or not r:\n",
    "            return False\n",
    "\n",
    "        if l.val != r.val:\n",
    "            return False\n",
    "\n",
    "        stack.append((l.left, r.right))\n",
    "        stack.append((l.right, r.left))\n",
    "\n",
    "    return True\n"
   ],
   "id": "b1b5f9027dff09f",
   "outputs": [
    {
     "data": {
      "text/plain": [
       "'\\nMirror of a binary tree\\n'"
      ]
     },
     "execution_count": 10,
     "metadata": {},
     "output_type": "execute_result"
    }
   ],
   "execution_count": 10
  },
  {
   "metadata": {
    "ExecuteTime": {
     "end_time": "2025-06-29T17:07:28.209070Z",
     "start_time": "2025-06-29T17:07:28.201158Z"
    }
   },
   "cell_type": "code",
   "source": [
    "\"\"\"\n",
    "Lowest common ancestor\n",
    "\n",
    "Use a queue, create a dictionary, pop out the current node, keep adding the child nodes of the current node with the current node as parent to the dictionary, once that's done create an ancestors set till you find the root node, then do the same with the q node with the addition of the condition that if you find the parent in the ancestors set, then you have found the lowest common ancestor\n",
    "\"\"\"\n",
    "\n",
    "\n",
    "def lca(root, p, q):\n",
    "    if not root:\n",
    "        return False\n",
    "\n",
    "    q = deque([root])\n",
    "    parent = {root: None}\n",
    "\n",
    "    while q:\n",
    "        curr = q.pop()\n",
    "        if curr.left:\n",
    "            q.append(curr.left)\n",
    "            parent[curr.left] = curr\n",
    "\n",
    "        if curr.right:\n",
    "            q.append(curr.right)\n",
    "            parent[curr.right] = curr\n",
    "\n",
    "        if p in parent and q in parent:\n",
    "            break\n",
    "\n",
    "    ancestors = set()\n",
    "\n",
    "    while p:\n",
    "        ancestors.add(p)\n",
    "        p = parent[p]\n",
    "\n",
    "    while q:\n",
    "        if q in ancestors:\n",
    "            return q\n",
    "        q = parent[q]\n",
    "\n",
    "    return False\n",
    "\n"
   ],
   "id": "c1e30dfdca68aa05",
   "outputs": [
    {
     "data": {
      "text/plain": [
       "'\\nLowest common ancestor\\n'"
      ]
     },
     "execution_count": 11,
     "metadata": {},
     "output_type": "execute_result"
    }
   ],
   "execution_count": 11
  },
  {
   "metadata": {},
   "cell_type": "code",
   "outputs": [],
   "execution_count": null,
   "source": "",
   "id": "8318df24b78e6ee6"
  }
 ],
 "metadata": {
  "kernelspec": {
   "display_name": "Python 3",
   "language": "python",
   "name": "python3"
  },
  "language_info": {
   "codemirror_mode": {
    "name": "ipython",
    "version": 2
   },
   "file_extension": ".py",
   "mimetype": "text/x-python",
   "name": "python",
   "nbconvert_exporter": "python",
   "pygments_lexer": "ipython2",
   "version": "2.7.6"
  }
 },
 "nbformat": 4,
 "nbformat_minor": 5
}
