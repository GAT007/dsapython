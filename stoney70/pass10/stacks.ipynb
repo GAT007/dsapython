{
 "cells": [
  {
   "metadata": {},
   "cell_type": "markdown",
   "source": "# Stacks",
   "id": "a707494bf5c233b3"
  },
  {
   "cell_type": "code",
   "id": "initial_id",
   "metadata": {
    "collapsed": true,
    "ExecuteTime": {
     "end_time": "2025-08-09T01:58:24.577981Z",
     "start_time": "2025-08-09T01:58:24.548892Z"
    }
   },
   "source": [
    "\"\"\"\n",
    "Min Stack\n",
    "\"\"\"\n",
    "\n",
    "\n",
    "class MinStack:\n",
    "    def __init__(self):\n",
    "        self.stack = []\n",
    "        self.length = 0\n",
    "\n",
    "    def push(self, val):\n",
    "        if self.length == 0:\n",
    "            self.stack.append((val, val))\n",
    "        else:\n",
    "            curr_min = self.stack[-1][1]\n",
    "            self.stack.append((val, min(val, curr_min)))\n",
    "        self.length += 1\n",
    "\n",
    "    def pop(self):\n",
    "        if self.length > 0:\n",
    "            val, curr_min = self.stack.pop()\n",
    "            self.length -= 1\n",
    "            return val\n",
    "        else:\n",
    "            return None\n",
    "\n",
    "    def top(self):\n",
    "        if self.length > 0:\n",
    "            return self.stack[-1][0]\n",
    "        else:\n",
    "            return None\n",
    "\n",
    "    def getMin(self):\n",
    "        if self.length > 0:\n",
    "            return self.stack[-1][1]\n",
    "        else:\n",
    "            return None\n",
    "\n"
   ],
   "outputs": [],
   "execution_count": 1
  },
  {
   "metadata": {
    "ExecuteTime": {
     "end_time": "2025-08-09T02:06:14.385139Z",
     "start_time": "2025-08-09T02:06:14.372322Z"
    }
   },
   "cell_type": "code",
   "source": [
    "\"\"\"\n",
    "Valid parentheses\n",
    "\"\"\"\n",
    "\n",
    "\n",
    "def valid_parentheses(st):\n",
    "    bmap = {')': '(', '}': '{', ']': '['}\n",
    "    stack = []\n",
    "    for c in st:\n",
    "        if len(stack) > 0 and c in bmap and stack[-1] == bmap[c]:\n",
    "            stack.pop()\n",
    "        elif c in '({[':\n",
    "            stack.append(c)\n",
    "        else:\n",
    "            return False\n",
    "\n",
    "    return True if len(stack) == 0 else False\n"
   ],
   "id": "9e24ebf7a267ebc2",
   "outputs": [],
   "execution_count": 2
  },
  {
   "metadata": {
    "ExecuteTime": {
     "end_time": "2025-08-09T02:15:20.871596Z",
     "start_time": "2025-08-09T02:15:20.861330Z"
    }
   },
   "cell_type": "code",
   "source": [
    "\"\"\"\n",
    "Evaluate reverse polish notation\n",
    "\"\"\"\n",
    "\n",
    "\n",
    "def polish_notation(st):\n",
    "    stack = []\n",
    "    for c in st:\n",
    "        if c.isnumeric():\n",
    "            stack.append(int(c))\n",
    "        else:\n",
    "            num2 = stack.pop()\n",
    "            num1 = stack.pop()\n",
    "            if c == '+':\n",
    "                stack.append(num1 + num2)\n",
    "            elif c == '-':\n",
    "                stack.append(num1 - num2)\n",
    "            elif c == '*':\n",
    "                stack.append(num1 * num2)\n",
    "            elif c == '/':\n",
    "                stack.append(num1 // num2)\n",
    "            else:\n",
    "                return 'Invalid operand encountered'\n",
    "\n",
    "    return stack[0] if len(stack) == 1 else 'Invalid Polish Notation'"
   ],
   "id": "3b6de9658ec1ae37",
   "outputs": [],
   "execution_count": 3
  },
  {
   "metadata": {},
   "cell_type": "code",
   "outputs": [],
   "execution_count": null,
   "source": [
    "\"\"\"\n",
    "Stack sorting\n",
    "\"\"\""
   ],
   "id": "b361923c7839f524"
  }
 ],
 "metadata": {
  "kernelspec": {
   "display_name": "Python 3",
   "language": "python",
   "name": "python3"
  },
  "language_info": {
   "codemirror_mode": {
    "name": "ipython",
    "version": 2
   },
   "file_extension": ".py",
   "mimetype": "text/x-python",
   "name": "python",
   "nbconvert_exporter": "python",
   "pygments_lexer": "ipython2",
   "version": "2.7.6"
  }
 },
 "nbformat": 4,
 "nbformat_minor": 5
}
