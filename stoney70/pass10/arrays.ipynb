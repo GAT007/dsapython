{
 "cells": [
  {
   "metadata": {},
   "cell_type": "markdown",
   "source": "# Arrays",
   "id": "c5ffe8dd6b34e69"
  },
  {
   "cell_type": "code",
   "id": "initial_id",
   "metadata": {
    "collapsed": true,
    "ExecuteTime": {
     "end_time": "2025-08-07T04:05:32.539039Z",
     "start_time": "2025-08-07T04:05:32.532053Z"
    }
   },
   "source": [
    "\"\"\"\n",
    "Contains duplicate\n",
    "\"\"\"\n",
    "\n",
    "\n",
    "def contains_duplicate(nums):\n",
    "    if len(nums) != len(set(nums)):\n",
    "        return True\n",
    "    return False"
   ],
   "outputs": [],
   "execution_count": 1
  },
  {
   "metadata": {
    "ExecuteTime": {
     "end_time": "2025-08-07T04:08:40.471046Z",
     "start_time": "2025-08-07T04:08:40.467555Z"
    }
   },
   "cell_type": "code",
   "source": [
    "\"\"\"\n",
    "Missing Number\n",
    "\"\"\"\n",
    "\n",
    "\n",
    "def missing_number(nums, n):\n",
    "    return sum(range(len(nums) + 1)) - sum(nums)\n"
   ],
   "id": "68be7cabcd7adb00",
   "outputs": [],
   "execution_count": 2
  },
  {
   "metadata": {
    "ExecuteTime": {
     "end_time": "2025-08-07T14:30:51.940524Z",
     "start_time": "2025-08-07T14:30:51.929573Z"
    }
   },
   "cell_type": "code",
   "source": [
    "\"\"\"\n",
    "Sorting, Dictionaries, lambdas\n",
    "\n",
    "Iterate dictionaries :\n",
    "\n",
    "for k,v in d.items() or d.keys() or d.values() -> (k,v)\n",
    "\n",
    "sorted_variable = sorted(variable, key=None, reverse = False)\n",
    "\n",
    "variable.sort() - only for lists with no return, permanently changes the variable\n",
    "\n",
    "Lambdas\n",
    "lambda arguments:expression\n",
    "\n",
    "sort dict by value\n",
    "\n",
    "sorted(x.items(), key = y:y[1])\n",
    "\"\"\"\n",
    "\n",
    "\n",
    "\n"
   ],
   "id": "d89734033259a96c",
   "outputs": [
    {
     "data": {
      "text/plain": [
       "'\\nSorting, Dictionaries, lambdas\\n\\nIterate dictionaries :\\n\\nfor k,v in d.items() or d.keys() or d.values() -> (k,v)\\n\\nsorted_variable = sorted(variable, key=None, reverse = False)\\n\\nvariable.sort() - only for lists with no return, permanently changes the variable\\n\\nLambdas\\nlambda arguments:expression\\n'"
      ]
     },
     "execution_count": 3,
     "metadata": {},
     "output_type": "execute_result"
    }
   ],
   "execution_count": 3
  },
  {
   "metadata": {
    "ExecuteTime": {
     "end_time": "2025-08-07T14:51:12.386906Z",
     "start_time": "2025-08-07T14:51:12.381752Z"
    }
   },
   "cell_type": "code",
   "source": [
    "\"\"\"\n",
    "Missing number\n",
    "\"\"\"\n",
    "\n",
    "\n",
    "def missing_numbers(nums):\n",
    "    set_nums = set(nums)\n",
    "    res = []\n",
    "    for i in range(1, len(nums) + 1):\n",
    "        if i not in set_nums:\n",
    "            res.append(i)\n",
    "    return res"
   ],
   "id": "346fbb03bf109ec4",
   "outputs": [],
   "execution_count": 4
  },
  {
   "metadata": {
    "ExecuteTime": {
     "end_time": "2025-08-07T14:58:20.575648Z",
     "start_time": "2025-08-07T14:58:20.567998Z"
    }
   },
   "cell_type": "code",
   "source": [
    "\"\"\"\n",
    "Two Sum\n",
    "\"\"\"\n",
    "\n",
    "from collections import defaultdict\n",
    "\n",
    "\n",
    "def two_sum(nums, target):\n",
    "    mydict = defaultdict(int)\n",
    "    for idx, num in enumerate(nums):\n",
    "        if target - num in mydict:\n",
    "            return (idx, mydict[target - num])\n",
    "        else:\n",
    "            mydict[num] = idx\n",
    "\n",
    "    return (-1, -1)\n"
   ],
   "id": "2461ae240a82361",
   "outputs": [],
   "execution_count": 5
  },
  {
   "metadata": {
    "ExecuteTime": {
     "end_time": "2025-08-07T15:06:03.767512Z",
     "start_time": "2025-08-07T15:06:03.757605Z"
    }
   },
   "cell_type": "code",
   "source": [
    "\"\"\"\n",
    "How many numbers are smaller than the current number\n",
    "\"\"\"\n",
    "\n",
    "from collections import defaultdict\n",
    "\n",
    "\n",
    "def smaller_than(nums):\n",
    "    sorted_nums = sorted(set(nums))\n",
    "    idxdict = defaultdict(int)\n",
    "    for idx, num in sorted_nums:\n",
    "        idxdict[num] = idx\n",
    "\n",
    "    res = []\n",
    "    for num in nums:\n",
    "        res.append(idxdict[num])\n"
   ],
   "id": "45c452325937f71a",
   "outputs": [],
   "execution_count": 6
  },
  {
   "metadata": {
    "ExecuteTime": {
     "end_time": "2025-08-07T15:06:23.552365Z",
     "start_time": "2025-08-07T15:06:23.547309Z"
    }
   },
   "cell_type": "code",
   "source": [
    "\"\"\"\n",
    "Minimum time visiting all points\n",
    "Key point : Distance between two points is the maximum difference of either of the x or y co-ordinates\n",
    "\"\"\"\n",
    "\n",
    "\n",
    "def min_time(points):\n",
    "    x1, y1 = points[0]\n",
    "    res = 0\n",
    "    i = 1\n",
    "    while i < len(points):\n",
    "        x2, y2 = points[i]\n",
    "        res += max(abs(x2 - x1), abs(y2 - y1))\n",
    "        x1, y1 = x2, y2\n",
    "        i += 1\n",
    "    return res"
   ],
   "id": "81dff5efaa14ceb4",
   "outputs": [
    {
     "data": {
      "text/plain": [
       "'\\nMinimum time visiting all points\\n'"
      ]
     },
     "execution_count": 7,
     "metadata": {},
     "output_type": "execute_result"
    }
   ],
   "execution_count": 7
  },
  {
   "metadata": {
    "ExecuteTime": {
     "end_time": "2025-08-07T15:15:57.346844Z",
     "start_time": "2025-08-07T15:15:57.337031Z"
    }
   },
   "cell_type": "code",
   "source": [
    "\"\"\"\n",
    "Spiral matrix\n",
    "\"\"\"\n",
    "\n",
    "\n",
    "def spiral_matrix(grid):\n",
    "    res = []\n",
    "    while grid:\n",
    "        res.extend(grid.pop(0))\n",
    "        if grid:\n",
    "            for r in grid: res.append(r.pop())\n",
    "        if grid:\n",
    "            res.extend(grid.pop()[::-1])\n",
    "        if grid:\n",
    "            temp = []\n",
    "            for r in grid: temp.append(r.pop(0))\n",
    "            res.extend(temp[::-1])\n",
    "\n",
    "    return res"
   ],
   "id": "a205265b82f402a",
   "outputs": [],
   "execution_count": 8
  },
  {
   "metadata": {},
   "cell_type": "code",
   "outputs": [],
   "execution_count": null,
   "source": [
    "\"\"\"\n",
    "Number of islands\n",
    "First breadth first search problem\n",
    "\"\"\"\n",
    "\n",
    "from collections import deque\n",
    "\n",
    "\n",
    "def number_of_islands(grid):\n",
    "    ROWS, COLS = len(grid), len(grid[0])\n",
    "    visited = set()\n",
    "\n",
    "    def bfs(r, c):\n",
    "        dir = [[1, 0], [-1, 0], [0, 1], [0, -1]]\n",
    "        q = deque([(r, c)])\n",
    "        visited.add((r, c))\n",
    "        while q:\n",
    "            ro, co = q.popleft()\n",
    "            for dr, dc in dir:\n",
    "                nr, nc = ro + dr, co + dc\n",
    "                if 0 <= nr < ROWS and 0 <= nc < COLS and grid[nr][nc] == '1' and (nr, nc) not in visited:\n",
    "                    q.append((nr, nc))\n",
    "                    visited.add((nr, nc))\n",
    "\n",
    "    res = 0\n",
    "    for r in range(ROWS):\n",
    "        for c in range(COLS):\n",
    "            if grid[r][c] == '1' and (r, c) not in visited:\n",
    "                bfs(r, c)\n",
    "                res += 1\n",
    "\n",
    "    return res"
   ],
   "id": "373e5cfbe2fb156d"
  }
 ],
 "metadata": {
  "kernelspec": {
   "display_name": "Python 3",
   "language": "python",
   "name": "python3"
  },
  "language_info": {
   "codemirror_mode": {
    "name": "ipython",
    "version": 2
   },
   "file_extension": ".py",
   "mimetype": "text/x-python",
   "name": "python",
   "nbconvert_exporter": "python",
   "pygments_lexer": "ipython2",
   "version": "2.7.6"
  }
 },
 "nbformat": 4,
 "nbformat_minor": 5
}
