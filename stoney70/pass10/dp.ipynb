{
 "cells": [
  {
   "metadata": {},
   "cell_type": "markdown",
   "source": [
    "# Dynamic Programming\n",
    "\n",
    "The principles behind dynamic programming is simple sub problems are solved and the answers to them are stored before finally getting to the actual problem that needs to be solved. Storing those smaller answers is called memoization\n",
    "\n",
    "1. Pick the data structre for the problem, usually an array\n",
    "2. Setup the base case, i.e. some of the values in the array will be hard coded\n",
    "3. Execute the loop logic that will solve all the answers\n",
    "4. Give the answers if conditions are met"
   ],
   "id": "d22476c4d72251c0"
  },
  {
   "cell_type": "code",
   "id": "initial_id",
   "metadata": {
    "collapsed": true,
    "ExecuteTime": {
     "end_time": "2025-08-08T03:39:32.484667Z",
     "start_time": "2025-08-08T03:39:32.465751Z"
    }
   },
   "source": [
    "\"\"\"\n",
    "Coin change\n",
    "\"\"\"\n",
    "\n",
    "\n",
    "def coin_change(target, coins):\n",
    "    dp = [target + 1] * (target + 1)\n",
    "    dp[0] = 0\n",
    "\n",
    "    for i in range(1, target + 1):\n",
    "        for c in coins:\n",
    "            if i - c >= 0:\n",
    "                dp[i] = min(dp[i], dp[i - c] + 1)\n",
    "\n",
    "    return dp[target] if dp[target] != target + 1 else -1\n"
   ],
   "outputs": [],
   "execution_count": 1
  },
  {
   "metadata": {
    "ExecuteTime": {
     "end_time": "2025-08-08T03:41:41.559825Z",
     "start_time": "2025-08-08T03:41:41.551226Z"
    }
   },
   "cell_type": "code",
   "source": [
    "\"\"\"\n",
    "Climbing stairs\n",
    "\"\"\"\n",
    "\n",
    "\n",
    "def climbing_stairs(n):\n",
    "    dp = [0] * n + 1\n",
    "    dp[1] = 1\n",
    "    dp[2] = 2\n",
    "\n",
    "    for i in range(3, n + 1):\n",
    "        dp[i] = dp[i - 1] + dp[i - 2]\n",
    "\n",
    "    return dp[n]"
   ],
   "id": "f20a9080a416cc4",
   "outputs": [],
   "execution_count": 2
  },
  {
   "metadata": {
    "ExecuteTime": {
     "end_time": "2025-08-08T15:51:57.510120Z",
     "start_time": "2025-08-08T15:51:57.496932Z"
    }
   },
   "cell_type": "code",
   "source": [
    "\"\"\"\n",
    "Max subarray\n",
    "\"\"\"\n",
    "\n",
    "\n",
    "def msub(arr):\n",
    "    dp = [0] * len(arr)\n",
    "    for i, n in enumerate(arr):\n",
    "        dp[i] = max(n, dp[i - 1] + n)\n",
    "    return max(dp)"
   ],
   "id": "5c66dbdcee7fb9a1",
   "outputs": [],
   "execution_count": 3
  },
  {
   "metadata": {
    "ExecuteTime": {
     "end_time": "2025-08-08T17:35:12.164284Z",
     "start_time": "2025-08-08T17:35:12.152801Z"
    }
   },
   "cell_type": "code",
   "source": [
    "\"\"\"\n",
    "Range sum query\n",
    "\"\"\"\n",
    "\n",
    "\n",
    "class NumArray:\n",
    "\n",
    "    def __init__(self, nums):\n",
    "        self.nums = nums\n",
    "        self.acc_nums = [0]\n",
    "        for num in self.nums:\n",
    "            self.acc_nums.append(self.acc_nums[-1] + num)\n",
    "\n",
    "    def sumRange(self, left, right):\n",
    "        return self.acc_nums[right + 1] - self.acc_nums[left]\n"
   ],
   "id": "a11e1f2d0f167131",
   "outputs": [],
   "execution_count": 4
  },
  {
   "metadata": {},
   "cell_type": "code",
   "outputs": [],
   "execution_count": null,
   "source": "",
   "id": "4e7517546c047790"
  }
 ],
 "metadata": {
  "kernelspec": {
   "display_name": "Python 3",
   "language": "python",
   "name": "python3"
  },
  "language_info": {
   "codemirror_mode": {
    "name": "ipython",
    "version": 2
   },
   "file_extension": ".py",
   "mimetype": "text/x-python",
   "name": "python",
   "nbconvert_exporter": "python",
   "pygments_lexer": "ipython2",
   "version": "2.7.6"
  }
 },
 "nbformat": 4,
 "nbformat_minor": 5
}
