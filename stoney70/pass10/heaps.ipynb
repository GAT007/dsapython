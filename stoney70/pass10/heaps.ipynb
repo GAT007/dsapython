{
 "cells": [
  {
   "metadata": {},
   "cell_type": "markdown",
   "source": "# Heaps",
   "id": "96d6800c9a634a07"
  },
  {
   "cell_type": "code",
   "id": "initial_id",
   "metadata": {
    "collapsed": true,
    "ExecuteTime": {
     "end_time": "2025-08-10T17:34:32.860273Z",
     "start_time": "2025-08-10T17:34:32.850111Z"
    }
   },
   "source": [
    "\"\"\"\n",
    "Kth largest element in an array\n",
    "\"\"\"\n",
    "\n",
    "import heapq\n",
    "\n",
    "\n",
    "def kthlargest(nums, k):\n",
    "    return heapq.nlargest(nums, k)\n",
    "\n",
    "\n",
    "def kthlargest_manual(nums, k):\n",
    "    heap = []\n",
    "    for num in nums:\n",
    "        heapq.heappush(heap, num)\n",
    "\n",
    "    for i in range(len(nums) - k):\n",
    "        heapq.heappop(heap)\n",
    "\n",
    "    return heapq.heappop(heap)\n",
    "\n",
    "\n",
    "def nlargest_heapreplace(nums, k):\n",
    "    heap = nums[:k]\n",
    "    heapq.heapify(heap)\n",
    "\n",
    "    for num in nums[k:]:\n",
    "        if num > heap[0]:\n",
    "            heapq.heapreplace(heap, num)\n",
    "\n",
    "    return heap[0]\n"
   ],
   "outputs": [],
   "execution_count": 1
  },
  {
   "metadata": {
    "ExecuteTime": {
     "end_time": "2025-08-10T20:12:15.601640Z",
     "start_time": "2025-08-10T20:12:15.578245Z"
    }
   },
   "cell_type": "code",
   "source": [
    "\"\"\"\n",
    "K Closest points to origin\n",
    "\"\"\"\n",
    "\n",
    "import heapq, math\n",
    "\n",
    "\n",
    "def k_closest_points(points, k):\n",
    "    heap = []\n",
    "    for x, y in points:\n",
    "        distance = -(math.sqrt(x * x + y * y))\n",
    "        if len(heap) == k:\n",
    "            heapq.heappushpop(heap, (distance, x, y))\n",
    "        else:\n",
    "            heapq.heappush(heap, (distance, x, y))\n",
    "\n"
   ],
   "id": "9df2a9d9ca2198e3",
   "outputs": [
    {
     "data": {
      "text/plain": [
       "'\\nK Closest points to origin\\n'"
      ]
     },
     "execution_count": 2,
     "metadata": {},
     "output_type": "execute_result"
    }
   ],
   "execution_count": 2
  },
  {
   "metadata": {
    "ExecuteTime": {
     "end_time": "2025-08-10T20:12:26.886473Z",
     "start_time": "2025-08-10T20:12:26.878667Z"
    }
   },
   "cell_type": "code",
   "source": [
    "\"\"\"\n",
    "Top K Frequent Elements\n",
    "\"\"\"\n",
    "\n",
    "from collections import Counter\n",
    "\n",
    "\n",
    "def top_k_frequent(nums, k):\n",
    "    count = Counter(nums)\n",
    "    heap = []\n",
    "    for num, freq in count.items():\n",
    "        if len(heap) < k:\n",
    "            heapq.heappush(heap, (freq, num))\n",
    "        else:\n",
    "            heapq.heappushpop(heap, (freq, num))\n",
    "\n",
    "    top_k = [num for freq, num in heap]\n",
    "\n",
    "    return top_k"
   ],
   "id": "64b2d4eefe91c2be",
   "outputs": [
    {
     "data": {
      "text/plain": [
       "'\\nTop K Frequent Elements\\n'"
      ]
     },
     "execution_count": 3,
     "metadata": {},
     "output_type": "execute_result"
    }
   ],
   "execution_count": 3
  },
  {
   "metadata": {},
   "cell_type": "code",
   "outputs": [],
   "execution_count": null,
   "source": [
    "\"\"\"\n",
    "Task Scheduler\n",
    "\"\"\"\n",
    "\n",
    "from collections import Counter, deque\n",
    "import heapq\n",
    "\n",
    "\n",
    "def task_scheduler(tasks, n):\n",
    "    count = Counter(tasks)\n",
    "\n",
    "    max_heap = []\n",
    "\n",
    "    for c in count:\n",
    "        heapq.heappush(max_heap, -c)\n",
    "\n",
    "    time = 0\n",
    "    q = deque()\n",
    "\n",
    "    while max_heap or q:\n",
    "        time += 1\n",
    "        if max_heap:\n",
    "            curr = heapq.heappop(max_heap)\n",
    "            curr += 1\n",
    "\n",
    "            if curr != 0:\n",
    "                q.append((curr, time + n))\n",
    "\n",
    "        if q and q[0][1] == time:\n",
    "            heapq.heappush(max_heap, q.popleft()[0])\n",
    "\n",
    "    return time\n",
    "\n"
   ],
   "id": "d031142ddb153503"
  }
 ],
 "metadata": {
  "kernelspec": {
   "display_name": "Python 3",
   "language": "python",
   "name": "python3"
  },
  "language_info": {
   "codemirror_mode": {
    "name": "ipython",
    "version": 2
   },
   "file_extension": ".py",
   "mimetype": "text/x-python",
   "name": "python",
   "nbconvert_exporter": "python",
   "pygments_lexer": "ipython2",
   "version": "2.7.6"
  }
 },
 "nbformat": 4,
 "nbformat_minor": 5
}
