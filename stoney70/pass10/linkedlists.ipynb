{
 "cells": [
  {
   "metadata": {},
   "cell_type": "markdown",
   "source": "# Linked Lists",
   "id": "fbe679f4f49c65ec"
  },
  {
   "cell_type": "code",
   "id": "initial_id",
   "metadata": {
    "collapsed": true,
    "ExecuteTime": {
     "end_time": "2025-08-08T23:19:12.135233Z",
     "start_time": "2025-08-08T23:19:12.125096Z"
    }
   },
   "source": [
    "\"\"\"\n",
    "Middle of a linked list\n",
    "\"\"\"\n",
    "\n",
    "\n",
    "def middle_list(root):\n",
    "    if not root:\n",
    "        return False\n",
    "    slow = root\n",
    "    fast = root\n",
    "\n",
    "    while fast and fast.next:\n",
    "        slow = slow.next\n",
    "        fast = fast.next.next\n",
    "\n",
    "    return slow"
   ],
   "outputs": [],
   "execution_count": 1
  },
  {
   "metadata": {
    "ExecuteTime": {
     "end_time": "2025-08-08T23:20:23.171391Z",
     "start_time": "2025-08-08T23:20:23.162125Z"
    }
   },
   "cell_type": "code",
   "source": [
    "\"\"\"\n",
    "Linked list cycle\n",
    "\"\"\"\n",
    "\n",
    "\n",
    "def cycle(root):\n",
    "    if not root:\n",
    "        return False\n",
    "\n",
    "    slow = fast = root\n",
    "\n",
    "    while fast and fast.next:\n",
    "        slow = slow.next\n",
    "        fast = fast.next.next\n",
    "\n",
    "        if slow == fast:\n",
    "            return True\n",
    "\n",
    "    return False"
   ],
   "id": "73971e829913bb91",
   "outputs": [],
   "execution_count": 2
  },
  {
   "metadata": {
    "ExecuteTime": {
     "end_time": "2025-08-08T23:22:11.774942Z",
     "start_time": "2025-08-08T23:22:11.762023Z"
    }
   },
   "cell_type": "code",
   "source": [
    "\"\"\"\n",
    "Reverse Linked List\n",
    "\"\"\"\n",
    "\n",
    "\n",
    "def reverse_linked_list(root):\n",
    "    if not root:\n",
    "        return None\n",
    "\n",
    "    prev = None\n",
    "    curr = root\n",
    "\n",
    "    while curr:\n",
    "        next_p = curr.next\n",
    "        curr.next = prev\n",
    "        prev = curr\n",
    "        curr = next_p\n",
    "\n",
    "    return prev\n"
   ],
   "id": "6ac38ebe644e3aef",
   "outputs": [],
   "execution_count": 3
  },
  {
   "metadata": {
    "ExecuteTime": {
     "end_time": "2025-08-08T23:27:11.818482Z",
     "start_time": "2025-08-08T23:27:11.808373Z"
    }
   },
   "cell_type": "code",
   "source": [
    "\"\"\"\n",
    "Remove linked list elements\n",
    "\"\"\"\n",
    "\n",
    "\n",
    "class LLNode:\n",
    "    def __init__(self, val, next=None):\n",
    "        self.val = val\n",
    "        self.next = next\n",
    "\n",
    "\n",
    "def remove_linked_list_elements(root, target):\n",
    "    if not root:\n",
    "        return None\n",
    "\n",
    "    dummy_node = LLNode(-1, root)\n",
    "    curr = dummy_node\n",
    "\n",
    "    while curr:\n",
    "        if curr.val == target:\n",
    "            curr.next = curr.next.next\n",
    "        else:\n",
    "            curr = curr.next\n",
    "\n",
    "    return dummy_node.next"
   ],
   "id": "c7233276473a8ad4",
   "outputs": [],
   "execution_count": 4
  },
  {
   "metadata": {
    "ExecuteTime": {
     "end_time": "2025-08-08T23:59:25.217765Z",
     "start_time": "2025-08-08T23:59:25.206822Z"
    }
   },
   "cell_type": "code",
   "source": [
    "\"\"\"\n",
    "Reverse Linked List 2\n",
    "\"\"\"\n",
    "\n",
    "\n",
    "def reverse_ll_2(root, start, end):\n",
    "    if not root:\n",
    "        return None\n",
    "\n",
    "    prev_l = None\n",
    "    curr_l = root\n",
    "\n",
    "    for i in range(1, start + 1):\n",
    "        prev_l = curr_l\n",
    "        curr_l = curr_l.next\n",
    "\n",
    "    curr = curr_l\n",
    "    prev = None\n",
    "    curr.next = None\n",
    "\n",
    "    for i in range(end - start + 1):\n",
    "        next_p = curr.next\n",
    "        curr.next = prev\n",
    "        prev = curr\n",
    "        curr = next_p\n",
    "\n",
    "    prev_l.next = prev\n",
    "    curr_l.next = curr\n",
    "\n",
    "    return root"
   ],
   "id": "d6eb41ffe372f576",
   "outputs": [],
   "execution_count": 5
  },
  {
   "metadata": {
    "ExecuteTime": {
     "end_time": "2025-08-09T00:03:26.277972Z",
     "start_time": "2025-08-09T00:03:26.270855Z"
    }
   },
   "cell_type": "code",
   "source": [
    "\"\"\"\n",
    "Palindrome Linked List\n",
    "\"\"\"\n",
    "\n",
    "\n",
    "def palindrome_linked_list(root):\n",
    "    slow = root\n",
    "    fast = root\n",
    "\n",
    "    while fast and fast.next:\n",
    "        slow = slow.next\n",
    "        fast = fast.next.next\n",
    "\n",
    "    prev = None\n",
    "    curr = slow\n",
    "\n",
    "    while curr:\n",
    "        next_p = curr.next\n",
    "        curr.next = prev\n",
    "        prev = curr\n",
    "        curr = next_p\n",
    "\n",
    "    l = root\n",
    "    r = prev\n",
    "\n",
    "    while r.next:\n",
    "        if l.val != r.val:\n",
    "            return False\n",
    "        l = l.next\n",
    "        r = r.next\n",
    "\n",
    "    return True\n",
    "\n"
   ],
   "id": "37b9daf1360a8cbc",
   "outputs": [],
   "execution_count": 6
  },
  {
   "metadata": {
    "ExecuteTime": {
     "end_time": "2025-08-09T00:11:14.406648Z",
     "start_time": "2025-08-09T00:11:14.391565Z"
    }
   },
   "cell_type": "code",
   "source": [
    "\"\"\"\n",
    "Merge 2 sorted lists\n",
    "\"\"\"\n",
    "\n",
    "\n",
    "def merge_2_sorted(root1, root2):\n",
    "    if not root1 and not root2:\n",
    "        return None\n",
    "\n",
    "    if not root1:\n",
    "        return root2\n",
    "\n",
    "    if not root2:\n",
    "        return root1\n",
    "\n",
    "    dummy_node = LLNode(-1)\n",
    "    curr = dummy_node\n",
    "    l = root1\n",
    "    r = root2\n",
    "    while l.next and r.next:\n",
    "        if l.val < r.val:\n",
    "            curr.next = l\n",
    "            l = l.next\n",
    "        else:\n",
    "            curr.next = r\n",
    "            r = r.next\n",
    "        curr = curr.next\n",
    "\n",
    "    if l:\n",
    "        curr.next = l\n",
    "    if r:\n",
    "        curr.next = r\n",
    "\n",
    "    return dummy_node.next"
   ],
   "id": "a82c4da62a1f94ca",
   "outputs": [],
   "execution_count": 7
  },
  {
   "metadata": {
    "ExecuteTime": {
     "end_time": "2025-08-09T00:37:58.537550Z",
     "start_time": "2025-08-09T00:37:58.526945Z"
    }
   },
   "cell_type": "code",
   "source": [
    "\"\"\"\n",
    "Merge K lists\n",
    "\"\"\"\n",
    "\n",
    "\n",
    "def merge_k_lists(lists):\n",
    "    nodes = []\n",
    "    while len(lists) > 1:\n",
    "        mergedLists = []\n",
    "        for i in range(0, len(lists), 2):\n",
    "            l1 = lists[i]\n",
    "            l2 = lists[i + 1] if (i + 1) < len(lists) else None\n",
    "            mergedLists.append(merge_2_sorted(l1, l2))\n",
    "        lists = mergedLists\n",
    "    return lists[0]"
   ],
   "id": "f638e6ae4d9bf4a0",
   "outputs": [],
   "execution_count": 8
  },
  {
   "metadata": {},
   "cell_type": "code",
   "outputs": [],
   "execution_count": null,
   "source": "",
   "id": "9963bf9597644e92"
  }
 ],
 "metadata": {
  "kernelspec": {
   "display_name": "Python 3",
   "language": "python",
   "name": "python3"
  },
  "language_info": {
   "codemirror_mode": {
    "name": "ipython",
    "version": 2
   },
   "file_extension": ".py",
   "mimetype": "text/x-python",
   "name": "python",
   "nbconvert_exporter": "python",
   "pygments_lexer": "ipython2",
   "version": "2.7.6"
  }
 },
 "nbformat": 4,
 "nbformat_minor": 5
}
