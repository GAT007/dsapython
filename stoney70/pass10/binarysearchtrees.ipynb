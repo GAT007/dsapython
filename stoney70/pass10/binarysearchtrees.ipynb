{
 "cells": [
  {
   "metadata": {},
   "cell_type": "markdown",
   "source": [
    " # Binary Search Trees\n",
    "\n",
    "Any nodes, left child is smaller than itself, while right child is greater than itself\n"
   ],
   "id": "d9be208cc4c4eede"
  },
  {
   "cell_type": "code",
   "id": "initial_id",
   "metadata": {
    "collapsed": true,
    "ExecuteTime": {
     "end_time": "2025-08-11T23:02:27.609014Z",
     "start_time": "2025-08-11T23:02:27.599818Z"
    }
   },
   "source": [
    "\"\"\"\n",
    "Search/Find node in a BST\n",
    "O(n) where n is the height of the binary tree\n",
    "\"\"\"\n",
    "\n",
    "\n",
    "def searchBST(root, val):\n",
    "    while root:\n",
    "        if root.val == val:\n",
    "            return root\n",
    "        elif root.val > val:\n",
    "            root = root.right\n",
    "        else:\n",
    "            root = root.left\n",
    "\n",
    "    return None"
   ],
   "outputs": [],
   "execution_count": 3
  },
  {
   "metadata": {
    "ExecuteTime": {
     "end_time": "2025-08-11T23:02:42.064566Z",
     "start_time": "2025-08-11T23:02:42.055628Z"
    }
   },
   "cell_type": "code",
   "source": [
    "\"\"\"\n",
    "Insert_into a binary search tree\n",
    "\"\"\"\n",
    "\n",
    "\n",
    "class TreeNode:\n",
    "    def __init__(self, val, left=None, right=None):\n",
    "        self.val = val\n",
    "        self.left = left\n",
    "        self.right = right\n",
    "\n",
    "\n",
    "def insert_into_BST(root, val):\n",
    "    new_node = TreeNode(val)\n",
    "    if not root:\n",
    "        return new_node\n",
    "\n",
    "    current = root\n",
    "\n",
    "    while True:\n",
    "        if val < current.val:\n",
    "            if current.left:\n",
    "                current = current.left\n",
    "            else:\n",
    "                current.left = new_node\n",
    "                break\n",
    "\n",
    "        else:\n",
    "            if current.right:\n",
    "                current = current.right\n",
    "            else:\n",
    "                current.right = new_node\n",
    "                break\n",
    "\n",
    "    return root\n",
    "\n",
    "\n"
   ],
   "id": "448936d4bdbff26",
   "outputs": [
    {
     "data": {
      "text/plain": [
       "'\\nInsert into a binary search tree\\n'"
      ]
     },
     "execution_count": 4,
     "metadata": {},
     "output_type": "execute_result"
    }
   ],
   "execution_count": 4
  },
  {
   "metadata": {
    "ExecuteTime": {
     "end_time": "2025-08-12T02:43:46.787008Z",
     "start_time": "2025-08-12T02:43:46.775160Z"
    }
   },
   "cell_type": "code",
   "source": [
    "\"\"\"\n",
    "Convert sorted array to a binary search tree\n",
    "\"\"\"\n",
    "\n",
    "from collections import deque\n",
    "\n",
    "\n",
    "def sorted_array_to_bst_iterative(nums):\n",
    "    if not nums:\n",
    "        return None\n",
    "\n",
    "    n = len(nums)\n",
    "\n",
    "    mid = n // 2\n",
    "    root = TreeNode(nums[mid])\n",
    "\n",
    "    q = deque()\n",
    "    q.append((root, 0, mid - 1))\n",
    "    q.append((root, mid + 1, n - 1))\n",
    "\n",
    "    while q:\n",
    "        parent, left, right = q.popleft()\n",
    "        if left <= right:\n",
    "            mid = (left + right) // 2\n",
    "            child = TreeNode(nums[mid])\n",
    "            if nums[mid] < parent.val:\n",
    "                parent.left = child\n",
    "            else:\n",
    "                parent.right = child\n",
    "            q.append((child, left, mid - 1))\n",
    "            q.append((child, mid + 1, right))\n",
    "\n",
    "\n",
    "def sorted_array_to_bst_recursive(nums):\n",
    "    def convert(left, right):\n",
    "        if left > right:\n",
    "            return None\n",
    "        mid = left + right // 2\n",
    "        node = TreeNode(nums[mid])\n",
    "        node.left = convert(left, mid - 1)\n",
    "        node.right = convert(mid + 1, right)\n",
    "        return node\n",
    "\n",
    "    return convert(0, len(nums) - 1)\n"
   ],
   "id": "6803b397e3bf4d3",
   "outputs": [],
   "execution_count": 11
  },
  {
   "metadata": {
    "ExecuteTime": {
     "end_time": "2025-08-12T02:49:46.766332Z",
     "start_time": "2025-08-12T02:49:46.754976Z"
    }
   },
   "cell_type": "code",
   "source": [
    "\"\"\"\n",
    "Two Sum IV : Input is a binary search tree\n",
    "\"\"\"\n",
    "from collections import deque\n",
    "\n",
    "\n",
    "def find_target(root, k):\n",
    "    q = deque([root])\n",
    "    num_set = set()\n",
    "\n",
    "    while q:\n",
    "        node = q.popleft()\n",
    "        if (k - node.val) in num_set:\n",
    "            return True\n",
    "\n",
    "        else:\n",
    "            num_set.add(node.val)\n",
    "\n",
    "            if node.left: q.append(node.left)\n",
    "            if node.right: q.append(node.right)\n",
    "\n",
    "    return False\n"
   ],
   "id": "74b3effd17d303b8",
   "outputs": [],
   "execution_count": 13
  },
  {
   "metadata": {
    "ExecuteTime": {
     "end_time": "2025-08-11T23:03:47.551602Z",
     "start_time": "2025-08-11T23:03:47.545205Z"
    }
   },
   "cell_type": "code",
   "source": [
    "\"\"\"\n",
    "Lowest common ancestor of a binary search tree\n",
    "\"\"\"\n",
    "\n",
    "\n",
    "def lca_bst(root, p, q):\n",
    "    small = min(p.val, q.val)\n",
    "    large = max(p.val, q.val)\n",
    "\n",
    "    while root:\n",
    "        if root.val > large:\n",
    "            root = root.left\n",
    "\n",
    "        elif root.val < small:\n",
    "            root = root.right\n",
    "\n",
    "        else:\n",
    "            return root\n",
    "\n",
    "    return None"
   ],
   "id": "bbcc6cbc9f214b26",
   "outputs": [
    {
     "data": {
      "text/plain": [
       "'\\nLowest common ancestor of a binary search tree\\n'"
      ]
     },
     "execution_count": 7,
     "metadata": {},
     "output_type": "execute_result"
    }
   ],
   "execution_count": 7
  },
  {
   "metadata": {
    "ExecuteTime": {
     "end_time": "2025-08-12T17:26:20.405631Z",
     "start_time": "2025-08-12T17:26:20.389919Z"
    }
   },
   "cell_type": "code",
   "source": [
    "\"\"\"\n",
    "Minimum absolute difference in a BST\n",
    "\"\"\"\n",
    "\n",
    "\n",
    "def get_minimum_difference(root):\n",
    "    min_diff = float('inf')\n",
    "    prev_val = float('-inf')\n",
    "\n",
    "    stack = []\n",
    "\n",
    "    while root or stack:\n",
    "        if root:\n",
    "            stack.append(root)\n",
    "            root = root.left\n",
    "\n",
    "        else:\n",
    "            root = stack.pop()\n",
    "            min_diff = min(min_diff, root.val - prev_val)\n",
    "            prev_val = root.val\n",
    "            root = root.right\n",
    "\n",
    "    return min_diff\n",
    "\n"
   ],
   "id": "eeaf8bef4d47f29d",
   "outputs": [],
   "execution_count": 1
  },
  {
   "metadata": {
    "ExecuteTime": {
     "end_time": "2025-08-12T17:50:07.971148Z",
     "start_time": "2025-08-12T17:50:07.952775Z"
    }
   },
   "cell_type": "code",
   "source": [
    "\"\"\"\n",
    "Balance a binary search tree\n",
    "\"\"\"\n",
    "\n",
    "\n",
    "def balance_tree(root):\n",
    "    \"\"\"\n",
    "     This question is a combination of two parts.\n",
    "     In order traversal of the tree : An inorder traversal produces a sorted list, if you didn't do this the TC of the problem will go from O(n) to O(n log n) : Added log n complexity because the list will require additional sorting\n",
    "     Create a bst from the sorted array\n",
    "     \"\"\"\n",
    "\n",
    "    # Creating the inorder traversal list, we did the same in minimum absolute difference as well\n",
    "    nodes = []\n",
    "    stack = []\n",
    "    curr = root\n",
    "\n",
    "    while curr or stack:\n",
    "        while curr:\n",
    "            stack.append(curr)\n",
    "            curr = curr.left\n",
    "\n",
    "        curr = stack.pop()\n",
    "        nodes.append(curr.val)\n",
    "        curr = curr.right\n",
    "\n",
    "    # Converting the sorted list into the BST\n",
    "    n = len(nodes)\n",
    "    mid = n // 2\n",
    "    root = TreeNode(nodes[mid])\n",
    "\n",
    "    q = deque()\n",
    "    q.append((root, 0, mid - 1))\n",
    "    q.append((root, mid + 1, n - 1))\n",
    "\n",
    "    while q:\n",
    "        parent, left, right = q.popleft()\n",
    "        if left <= right:\n",
    "            mid = (left + right) // 2\n",
    "            child = TreeNode(nodes[mid])\n",
    "            if nodes[mid] < parent.val:\n",
    "                parent.left = child\n",
    "            else:\n",
    "                parent.right = child\n",
    "\n",
    "            q.append((child, left, mid - 1))\n",
    "\n",
    "            q.append((child, mid + 1, right))\n",
    "\n",
    "    return root\n",
    "\n",
    "\n",
    "\n",
    "\n"
   ],
   "id": "1507ef28b1819e42",
   "outputs": [],
   "execution_count": 3
  },
  {
   "metadata": {
    "ExecuteTime": {
     "end_time": "2025-08-11T23:05:23.614110Z",
     "start_time": "2025-08-11T23:05:23.607946Z"
    }
   },
   "cell_type": "code",
   "source": [
    "\"\"\"\n",
    "Delete node in a binary search tree\n",
    "\"\"\"\n",
    "\n",
    "\"\"\"\n",
    "Recursive approach\n",
    "\"\"\"\n",
    "\n",
    "\n",
    "def delete_node(root, target):\n",
    "    if not root:\n",
    "        return root\n",
    "\n",
    "    #Traversal to find the node\n",
    "    #Search through the bst\n",
    "    if target > root.val:\n",
    "        root.right = delete_node(root.right, target)\n",
    "    elif target < root.val:\n",
    "        root.left = delete_node(root.left, target)\n",
    "\n",
    "    #When you find the bst\n",
    "    else:\n",
    "        #If no left node is present, return the right node\n",
    "        if not root.left:\n",
    "            return root.right\n",
    "        #If no right node is present, return the left node\n",
    "        elif not root.right:\n",
    "            return root.left\n",
    "\n",
    "        #If the tree has both the nodes then\n",
    "        #Set the right node as the current node\n",
    "        cur = root.right\n",
    "        #Travel through the left node of the newly identified right node, till there are no more left nodes\n",
    "        while cur.left:\n",
    "            cur = cur.left\n",
    "        #Set the lowest found value of the left node of the right node as the root value\n",
    "        root.val = cur.val\n",
    "        #Call the recursive delete function of whatever is there in the new root's right child node\n",
    "        root.right = delete_node(root.right, root.val)\n",
    "\n",
    "    return root\n",
    "\n",
    "\n",
    "\n"
   ],
   "id": "3f34faed9e2e4686",
   "outputs": [
    {
     "data": {
      "text/plain": [
       "'\\nDelete node in a binary search tree\\n'"
      ]
     },
     "execution_count": 10,
     "metadata": {},
     "output_type": "execute_result"
    }
   ],
   "execution_count": 10
  },
  {
   "metadata": {},
   "cell_type": "code",
   "outputs": [],
   "execution_count": null,
   "source": [
    "\"\"\"\n",
    "Kth smallest element in a binary search tree\n",
    "\"\"\"\n",
    "\n",
    "\n",
    "def kthsmallest(root, k):\n",
    "    stack = []\n",
    "\n",
    "    while root or stack:\n",
    "        if root:\n",
    "            stack.append(root)\n",
    "            root = root.left\n",
    "\n",
    "        else:\n",
    "            root = stack.pop()\n",
    "            k -= 1\n",
    "\n",
    "            if k == 0:\n",
    "                return root\n",
    "\n",
    "        root = root.right"
   ],
   "id": "33e8172e75e674b"
  }
 ],
 "metadata": {
  "kernelspec": {
   "display_name": "Python 3",
   "language": "python",
   "name": "python3"
  },
  "language_info": {
   "codemirror_mode": {
    "name": "ipython",
    "version": 2
   },
   "file_extension": ".py",
   "mimetype": "text/x-python",
   "name": "python",
   "nbconvert_exporter": "python",
   "pygments_lexer": "ipython2",
   "version": "2.7.6"
  }
 },
 "nbformat": 4,
 "nbformat_minor": 5
}
