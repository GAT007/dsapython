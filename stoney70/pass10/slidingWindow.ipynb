{
 "cells": [
  {
   "metadata": {},
   "cell_type": "markdown",
   "source": "# Two Pointers",
   "id": "cb44f331f3557ad6"
  },
  {
   "cell_type": "code",
   "id": "initial_id",
   "metadata": {
    "collapsed": true,
    "ExecuteTime": {
     "end_time": "2025-08-07T15:43:32.614195Z",
     "start_time": "2025-08-07T15:43:32.605419Z"
    }
   },
   "source": [
    "\"\"\"\n",
    "Best Time to buy and sell a stock\n",
    "\"\"\"\n",
    "\n",
    "\n",
    "def best_time(prices):\n",
    "    l, r = 0, 1\n",
    "    max_profit = 0\n",
    "    while r < len(prices):\n",
    "        if prices[l] < prices[r]:\n",
    "            max_profit = max(max_profit, prices[r] - prices[l])\n",
    "        else:\n",
    "            l = r\n",
    "        r += 1\n",
    "    return (f'Max Profit : {max_profit}')"
   ],
   "outputs": [],
   "execution_count": 1
  },
  {
   "metadata": {
    "ExecuteTime": {
     "end_time": "2025-08-07T19:30:49.320269Z",
     "start_time": "2025-08-07T19:30:49.312876Z"
    }
   },
   "cell_type": "code",
   "source": [
    "\"\"\"\n",
    "Squares of a sorted array\n",
    "\"\"\"\n",
    "\n",
    "\n",
    "def squares_sorted_array(nums):\n",
    "    res = []\n",
    "    l = 0\n",
    "    r = len(nums) - 1\n",
    "    while l < r:\n",
    "        sl = nums[l] ** 2\n",
    "        sr = nums[r] ** 2\n",
    "        if sl < sr:\n",
    "            res.append(sl)\n",
    "            l += 1\n",
    "        else:\n",
    "            res.append(sr)\n",
    "            r -= 1\n",
    "    return res\n"
   ],
   "id": "137585c3d33adaaf",
   "outputs": [],
   "execution_count": 1
  },
  {
   "metadata": {
    "ExecuteTime": {
     "end_time": "2025-08-07T19:41:51.989396Z",
     "start_time": "2025-08-07T19:41:51.981850Z"
    }
   },
   "cell_type": "code",
   "source": [
    "\"\"\"\n",
    "3 Sum\n",
    "\"\"\"\n",
    "\n",
    "from collections import defaultdict\n",
    "\n",
    "\n",
    "def three_sum(nums, target):\n",
    "    res = []\n",
    "\n",
    "    for i in range(len(nums)):\n",
    "        l = i + 1\n",
    "        r = len(nums - 1)\n",
    "        while l < r:\n",
    "            val = nums[i] + nums[l] + nums[r]\n",
    "            if val == target:\n",
    "                res.append((nums[i], nums[l], nums[r]))\n",
    "            elif val < target:\n",
    "                l += 1\n",
    "            else:\n",
    "                r -= 1\n",
    "\n",
    "    return res"
   ],
   "id": "1a91516215fe2832",
   "outputs": [],
   "execution_count": 2
  },
  {
   "metadata": {
    "ExecuteTime": {
     "end_time": "2025-08-07T19:51:03.683068Z",
     "start_time": "2025-08-07T19:51:03.676997Z"
    }
   },
   "cell_type": "code",
   "source": [
    "\"\"\"\n",
    "Longest mountain in array\n",
    "\"\"\"\n",
    "\n",
    "\n",
    "def longest_mountain(nums):\n",
    "    max_length = 0\n",
    "    for i in range(len(nums)):\n",
    "        l = i - 1\n",
    "        r = i + 1\n",
    "        while l - 1 >= 0 and nums[l] > nums[l - 1]:\n",
    "            l -= 1\n",
    "        while r + 1 <= len(nums) - 1 and nums[r] > nums[r + 1]:\n",
    "            r += 1\n",
    "        max_length = max(max_length, l - r + 1)\n",
    "\n",
    "    return max_length\n"
   ],
   "id": "9305a06bda870d62",
   "outputs": [],
   "execution_count": 3
  },
  {
   "metadata": {},
   "cell_type": "markdown",
   "source": "# Sliding window",
   "id": "34ef11329c384736"
  },
  {
   "metadata": {
    "ExecuteTime": {
     "end_time": "2025-08-07T20:11:48.234748Z",
     "start_time": "2025-08-07T20:11:48.228366Z"
    }
   },
   "cell_type": "code",
   "source": [
    "\"\"\"\n",
    "Contains duplicate 2\n",
    "\"\"\"\n",
    "\n",
    "\n",
    "def contains_duplicate_2(nums, k):\n",
    "    window = set()\n",
    "    for i in range(len(nums)):\n",
    "        if nums[i] in window:\n",
    "            return True\n",
    "        window.add(nums[i])\n",
    "        if len(window) > k:\n",
    "            window.remove(nums[i - k])\n",
    "\n",
    "    return False\n",
    "\n",
    "\n",
    "def containsNearbyDuplicate(nums, k):\n",
    "    num_map = {}\n",
    "\n",
    "    for i, num in enumerate(nums):\n",
    "\n",
    "        if num in num_map and i - num_map[num] <= k:\n",
    "            return True\n",
    "\n",
    "        num_map[num] = i\n",
    "\n",
    "    return False"
   ],
   "id": "4a6d60be727bbf",
   "outputs": [],
   "execution_count": 4
  },
  {
   "metadata": {
    "ExecuteTime": {
     "end_time": "2025-08-07T22:48:02.283360Z",
     "start_time": "2025-08-07T22:48:02.269561Z"
    }
   },
   "cell_type": "code",
   "source": [
    "\"\"\"\n",
    "Minimum absolute difference\n",
    "\"\"\"\n",
    "\n",
    "\n",
    "def mad(nums):\n",
    "    sorted_nums = sorted(nums)\n",
    "    min_diff = float('inf')\n",
    "\n",
    "    for i in range(1, len(nums)):\n",
    "        min_diff = min(min_diff, sorted_nums[i] - sorted_nums[i - 1])\n",
    "\n",
    "    res = []\n",
    "    for i in range(1, len(nums)):\n",
    "        if nums[i] - nums[i - 1] == min_diff:\n",
    "            res.append((nums[i], nums[i - 1]))\n",
    "\n",
    "    return res\n"
   ],
   "id": "ea516b6b7d8606a8",
   "outputs": [],
   "execution_count": 5
  },
  {
   "metadata": {
    "ExecuteTime": {
     "end_time": "2025-08-07T22:53:17.223457Z",
     "start_time": "2025-08-07T22:53:17.212684Z"
    }
   },
   "cell_type": "code",
   "source": [
    "\"\"\"\n",
    "Minimum size subarray\n",
    "\"\"\"\n",
    "\n",
    "\n",
    "def min_size_subarray(nums, target):\n",
    "    l, r = 0, 0\n",
    "    currentsum = 0\n",
    "    min_length = float('inf')\n",
    "\n",
    "    while r < len(nums):\n",
    "        currentsum += nums[r]\n",
    "        while currentsum >= target:\n",
    "            min_length = min(min_length, r - l + 1)\n",
    "            currentsum -= nums[l]\n",
    "            l -= 1\n",
    "\n",
    "    return min_length"
   ],
   "id": "6fe3dbee9cc2d59b",
   "outputs": [],
   "execution_count": 6
  },
  {
   "metadata": {},
   "cell_type": "code",
   "outputs": [],
   "execution_count": null,
   "source": "",
   "id": "9258707f48468d92"
  }
 ],
 "metadata": {
  "kernelspec": {
   "display_name": "Python 3",
   "language": "python",
   "name": "python3"
  },
  "language_info": {
   "codemirror_mode": {
    "name": "ipython",
    "version": 2
   },
   "file_extension": ".py",
   "mimetype": "text/x-python",
   "name": "python",
   "nbconvert_exporter": "python",
   "pygments_lexer": "ipython2",
   "version": "2.7.6"
  }
 },
 "nbformat": 4,
 "nbformat_minor": 5
}
