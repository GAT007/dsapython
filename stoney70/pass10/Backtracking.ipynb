{
 "cells": [
  {
   "metadata": {},
   "cell_type": "markdown",
   "source": "# Backtracking",
   "id": "a0dbf9d792348e97"
  },
  {
   "cell_type": "code",
   "id": "initial_id",
   "metadata": {
    "collapsed": true,
    "ExecuteTime": {
     "end_time": "2025-08-08T17:58:53.690885Z",
     "start_time": "2025-08-08T17:58:53.681230Z"
    }
   },
   "source": [
    "\"\"\"\n",
    "Letter case permutation\n",
    "\n",
    "Time complexity : O(n)\n",
    "\"\"\"\n",
    "\n",
    "\n",
    "def letter_case_permutation(st):\n",
    "    res = [\"\"]\n",
    "    for s in st:\n",
    "        temp = []\n",
    "        for r in res:\n",
    "            if s.isalpha():\n",
    "                temp.append(r + s.lower())\n",
    "                temp.append(r + s.upper())\n",
    "            else:\n",
    "                temp.append(r + s)\n",
    "        res = temp\n",
    "    return res\n",
    "\n",
    "\n",
    "print(letter_case_permutation(\"Hello123\"))\n",
    "\n",
    "\n",
    "# Recursive approach\n",
    "\n",
    "def lcp_recursive(st):\n",
    "    res = []\n",
    "\n",
    "    def backtrack(sub=\"\", i=0):\n",
    "        if len(sub) == len(st):\n",
    "            res.append(sub)\n",
    "        else:\n",
    "            if st[i].isalpha():\n",
    "                backtrack(sub + st[i].swapcase(), i + 1)\n",
    "            backtrack(sub + st[i], i + 1)\n",
    "\n",
    "    backtrack()\n",
    "    return res\n",
    "\n",
    "\n",
    "print(lcp_recursive(\"Hello123\"))\n",
    "\n",
    "\n",
    "\n",
    "\n"
   ],
   "outputs": [
    {
     "name": "stdout",
     "output_type": "stream",
     "text": [
      "['hello123', 'hellO123', 'helLo123', 'helLO123', 'heLlo123', 'heLlO123', 'heLLo123', 'heLLO123', 'hEllo123', 'hEllO123', 'hElLo123', 'hElLO123', 'hELlo123', 'hELlO123', 'hELLo123', 'hELLO123', 'Hello123', 'HellO123', 'HelLo123', 'HelLO123', 'HeLlo123', 'HeLlO123', 'HeLLo123', 'HeLLO123', 'HEllo123', 'HEllO123', 'HElLo123', 'HElLO123', 'HELlo123', 'HELlO123', 'HELLo123', 'HELLO123']\n",
      "['hELLO123', 'hELLo123', 'hELlO123', 'hELlo123', 'hElLO123', 'hElLo123', 'hEllO123', 'hEllo123', 'heLLO123', 'heLLo123', 'heLlO123', 'heLlo123', 'helLO123', 'helLo123', 'hellO123', 'hello123', 'HELLO123', 'HELLo123', 'HELlO123', 'HELlo123', 'HElLO123', 'HElLo123', 'HEllO123', 'HEllo123', 'HeLLO123', 'HeLLo123', 'HeLlO123', 'HeLlo123', 'HelLO123', 'HelLo123', 'HellO123', 'Hello123']\n"
     ]
    }
   ],
   "execution_count": 3
  },
  {
   "metadata": {
    "ExecuteTime": {
     "end_time": "2025-08-08T22:08:38.185202Z",
     "start_time": "2025-08-08T22:08:38.163480Z"
    }
   },
   "cell_type": "code",
   "source": [
    "\"\"\"\n",
    "Subsets\n",
    "\"\"\"\n",
    "\n",
    "\n",
    "def subsets(nums):\n",
    "    def backtrack(start, path):\n",
    "        result.append(path.copy())\n",
    "        for i in range(start, len(nums)):\n",
    "            path.append(nums[i])\n",
    "            backtrack(i + 1, path)\n",
    "            path.pop()\n",
    "\n",
    "    result = []\n",
    "    backtrack(0, [])\n",
    "    return result"
   ],
   "id": "bf5c8f816e239748",
   "outputs": [],
   "execution_count": 1
  },
  {
   "metadata": {
    "ExecuteTime": {
     "end_time": "2025-08-08T22:33:06.011083Z",
     "start_time": "2025-08-08T22:33:06.003331Z"
    }
   },
   "cell_type": "code",
   "source": [
    "\"\"\"\n",
    "Combinations\n",
    "Two integers n and k, return all possible combinations of k numbers from the range [1,n]\n",
    "\"\"\"\n",
    "\n",
    "\n",
    "def combine(n, k):\n",
    "    def backtrack(start, path):\n",
    "        if len(path) == k:\n",
    "            res.append(path.copy())\n",
    "            return\n",
    "        for i in range(start, n + 1):\n",
    "            path.append(i)\n",
    "            backtrack(i + 1, path)\n",
    "            path.pop()\n",
    "\n",
    "    res = []\n",
    "    backtrack(1, [])\n",
    "    return res\n",
    "\n"
   ],
   "id": "edf25c2ae1287971",
   "outputs": [],
   "execution_count": 2
  },
  {
   "metadata": {},
   "cell_type": "code",
   "outputs": [],
   "execution_count": null,
   "source": [
    "\"\"\"\n",
    "Permutations\n",
    "\"\"\"\n",
    "\n"
   ],
   "id": "34df0dc52e93576d"
  }
 ],
 "metadata": {
  "kernelspec": {
   "display_name": "Python 3",
   "language": "python",
   "name": "python3"
  },
  "language_info": {
   "codemirror_mode": {
    "name": "ipython",
    "version": 2
   },
   "file_extension": ".py",
   "mimetype": "text/x-python",
   "name": "python",
   "nbconvert_exporter": "python",
   "pygments_lexer": "ipython2",
   "version": "2.7.6"
  }
 },
 "nbformat": 4,
 "nbformat_minor": 5
}
