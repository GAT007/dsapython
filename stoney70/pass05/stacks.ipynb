{
 "cells": [
  {
   "metadata": {},
   "cell_type": "markdown",
   "source": [
    "# Stacks\n",
    "Push, pop, top, getmin"
   ],
   "id": "71fd11f512102dda"
  },
  {
   "cell_type": "code",
   "id": "initial_id",
   "metadata": {
    "collapsed": true,
    "ExecuteTime": {
     "end_time": "2025-05-10T18:14:40.787135Z",
     "start_time": "2025-05-10T18:14:40.769995Z"
    }
   },
   "source": [
    "\"\"\"\n",
    "MinStack\n",
    "\n",
    "The stack is just an array of tuples\n",
    "\"\"\"\n",
    "\n",
    "\n",
    "class MinStack:\n",
    "    def __init__(self):\n",
    "        self.stack = []\n",
    "\n",
    "    def push(self, x):\n",
    "        if not self.stack:\n",
    "            current_min = x\n",
    "        else:\n",
    "            current_min = min(x, self.stack[-1][1])\n",
    "        self.stack.append((x, current_min))\n",
    "\n",
    "    def pop(self):\n",
    "        self.stack.pop()\n",
    "\n",
    "    def top(self):\n",
    "        return self.stack[-1][0]\n",
    "\n",
    "    def getMin(self):\n",
    "        return self.stack[-1][1]"
   ],
   "outputs": [],
   "execution_count": 1
  },
  {
   "metadata": {
    "ExecuteTime": {
     "end_time": "2025-05-10T18:32:51.197979Z",
     "start_time": "2025-05-10T18:32:51.184450Z"
    }
   },
   "cell_type": "code",
   "source": [
    "\"\"\"\n",
    "Valid parentheses\n",
    "\"\"\"\n",
    "\n",
    "\n",
    "def valid_parentheses(str):\n",
    "    stack = []\n",
    "    map = {')': '(', '}': '{', ']': '['}\n",
    "    for element in str:\n",
    "        if stack and (element in map and stack[-1] == map[element]):\n",
    "            stack.pop()\n",
    "        else:\n",
    "            stack.append(element)\n",
    "\n",
    "    return not stack\n"
   ],
   "id": "d572e4efd0758981",
   "outputs": [],
   "execution_count": 2
  },
  {
   "metadata": {
    "ExecuteTime": {
     "end_time": "2025-05-10T18:36:25.808121Z",
     "start_time": "2025-05-10T18:36:25.799692Z"
    }
   },
   "cell_type": "code",
   "source": [
    "\"\"\"\n",
    "Evaluate Reverse Polish Notation\n",
    "\"\"\"\n",
    "\n",
    "\n",
    "def evalRPN(tokens):\n",
    "    stack = []\n",
    "    for t in tokens:\n",
    "        if t in '+-*/':\n",
    "            stack.append(int(t))\n",
    "\n",
    "        else:\n",
    "            r, l = stack.pop(), stack.pop()\n",
    "            if t == '+':\n",
    "                stack.append(l + r)\n",
    "            elif t == '-':\n",
    "                stack.append(l - r)\n",
    "            elif t == '*':\n",
    "                stack.append(l * r)\n",
    "            else:\n",
    "                stack.append(int(float(l) / r))\n",
    "\n",
    "    return stack.pop()"
   ],
   "id": "238c0d041b2ca5ea",
   "outputs": [],
   "execution_count": 3
  },
  {
   "metadata": {},
   "cell_type": "code",
   "outputs": [],
   "execution_count": null,
   "source": [
    "\"\"\"\n",
    "Create reverse polish notation\n",
    "\"\"\""
   ],
   "id": "f80d635a3731bb10"
  },
  {
   "metadata": {},
   "cell_type": "markdown",
   "source": "# Queues",
   "id": "16c8be2e1a3afeb7"
  },
  {
   "metadata": {
    "ExecuteTime": {
     "end_time": "2025-05-10T19:11:56.459421Z",
     "start_time": "2025-05-10T19:11:56.443651Z"
    }
   },
   "cell_type": "code",
   "source": [
    "\"\"\"\n",
    "Implement a stack using queues\n",
    "\"\"\"\n",
    "\n",
    "from collections import deque\n",
    "\n",
    "\n",
    "class MyStack:\n",
    "\n",
    "    def __init__(self):\n",
    "        self.stack = deque()\n",
    "\n",
    "    def push(self, x):\n",
    "        self.stack.append(x)\n",
    "\n",
    "    def pop(self):\n",
    "        for i in range(len(self.stack) - 1):\n",
    "            self.push(self.stack.popleft())\n",
    "\n",
    "        return self.stack.popleft()\n",
    "\n",
    "    def peek(self):\n",
    "        return self.stack[-1]\n",
    "\n",
    "    def isEmpty(self):\n",
    "        return len(self.stack) == 0"
   ],
   "id": "841e04ee24fea90f",
   "outputs": [],
   "execution_count": 4
  },
  {
   "metadata": {},
   "cell_type": "code",
   "outputs": [],
   "execution_count": null,
   "source": [
    "\"\"\"\n",
    "Time needed to buy tickets\n",
    "\"\"\"\n",
    "\n",
    "\n",
    "def time_to_tickets(nums, k):\n",
    "    result = 0\n",
    "    for i in range(len(nums)):\n",
    "        if i <= k:\n",
    "            result += min(nums[i], nums[k])\n",
    "        else:\n",
    "            result += min(nums[i], nums[k] - 1)\n",
    "    return result"
   ],
   "id": "322404731659fb64"
  }
 ],
 "metadata": {
  "kernelspec": {
   "display_name": "Python 3",
   "language": "python",
   "name": "python3"
  },
  "language_info": {
   "codemirror_mode": {
    "name": "ipython",
    "version": 2
   },
   "file_extension": ".py",
   "mimetype": "text/x-python",
   "name": "python",
   "nbconvert_exporter": "python",
   "pygments_lexer": "ipython2",
   "version": "2.7.6"
  }
 },
 "nbformat": 4,
 "nbformat_minor": 5
}
